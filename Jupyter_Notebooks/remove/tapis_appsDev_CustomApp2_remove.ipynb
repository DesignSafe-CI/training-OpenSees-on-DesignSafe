{
 "cells": [
  {
   "cell_type": "markdown",
   "metadata": {},
   "source": [
    "fix this notebook link<!-- <a class=\"reference external\" \n",
    "    href=\"https://jupyter.designsafe-ci.org/hub/user-redirect/lab/tree/CommunityData/OpenSees/TrainingMaterial/training-OpenSees-on-DesignSafe/Jupyter_Notebooks/ssssxxxx.ipynb\" \n",
    "    target=\"_blank\"\n",
    "    >\n",
    "<img alt=\"Try on DesignSafe\" src=\"https://raw.githubusercontent.com/DesignSafe-Training/pinn/main/DesignSafe-Badge.svg\" /></a> -->"
   ]
  },
  {
   "cell_type": "markdown",
   "metadata": {},
   "source": [
    "# Create a Custom Tapis App  📒\n",
    "***Create your own Tapis App***\n",
    "\n",
    "by Silvia Mazzoni, DesignSafe, 2025\n",
    "\n",
    "This is a step-by-step guide to help you write your own **Tapis v3 App** — from defining the app, to registering it, and running it. This is a practical walkthrough for defining and deploying an **HPC or VM-based** app using the Tapis v3 API."
   ]
  },
  {
   "cell_type": "code",
   "execution_count": 1,
   "metadata": {},
   "outputs": [
    {
     "data": {
      "text/plain": [
       "'/home/jupyter/MyData/OpenSees/OpenSeesPy_TapisApp'"
      ]
     },
     "execution_count": 1,
     "metadata": {},
     "output_type": "execute_result"
    }
   ],
   "source": [
    "pwd"
   ]
  },
  {
   "cell_type": "code",
   "execution_count": 2,
   "metadata": {},
   "outputs": [
    {
     "name": "stdout",
     "output_type": "stream",
     "text": [
      "using communitydata\n"
     ]
    }
   ],
   "source": [
    "# Local Utilities Library\n",
    "# you can remove the logic associated with the local path\n",
    "import sys,os\n",
    "relativePath = '../OpsUtils'\n",
    "if os.path.exists(relativePath):\n",
    "    print(\"Using local utilities library\")\n",
    "    PathOpsUtils = os.path.expanduser(relativePath)\n",
    "else:\n",
    "    print('using communitydata')\n",
    "    PathOpsUtils = os.path.expanduser('~/CommunityData/OpenSees/TrainingMaterial/training-OpenSees-on-DesignSafe/OpsUtils')\n",
    "if not PathOpsUtils in sys.path: sys.path.append(PathOpsUtils)\n",
    "from OpsUtils import OpsUtils"
   ]
  },
  {
   "cell_type": "code",
   "execution_count": 3,
   "metadata": {},
   "outputs": [],
   "source": [
    "import json"
   ]
  },
  {
   "cell_type": "markdown",
   "metadata": {},
   "source": [
    "## Connect to Tapis"
   ]
  },
  {
   "cell_type": "code",
   "execution_count": 4,
   "metadata": {},
   "outputs": [
    {
     "name": "stdout",
     "output_type": "stream",
     "text": [
      " -- Checking Tapis token --\n",
      " Token loaded from file. Token is still valid!\n",
      " Token expires at: 2025-08-17T09:12:28+00:00\n",
      " Token expires in: 3:01:11.266899\n",
      "-- LOG IN SUCCESSFUL! --\n"
     ]
    }
   ],
   "source": [
    "t=OpsUtils.connect_tapis()"
   ]
  },
  {
   "cell_type": "code",
   "execution_count": 5,
   "metadata": {},
   "outputs": [],
   "source": [
    "app_id = 'opensees-mp-s3-silvia-new'"
   ]
  },
  {
   "cell_type": "markdown",
   "metadata": {},
   "source": [
    "### Get username"
   ]
  },
  {
   "cell_type": "code",
   "execution_count": 6,
   "metadata": {},
   "outputs": [],
   "source": [
    "user_info = t.authenticator.get_userinfo()\n",
    "username = user_info.username"
   ]
  },
  {
   "cell_type": "markdown",
   "metadata": {},
   "source": [
    "## Get latest version of the app"
   ]
  },
  {
   "cell_type": "code",
   "execution_count": 7,
   "metadata": {},
   "outputs": [
    {
     "name": "stdout",
     "output_type": "stream",
     "text": [
      "\n",
      "containerImage: tapis://cloud.data/corral/tacc/aci/CEP/applications/v3/opensees/latest/OpenSees/opensees.zip\n",
      "created: 2025-08-16T18:53:58.422294Z\n",
      "deleted: False\n",
      "description: Runs all the processors in parallel. Requires understanding of parallel processing and the capabilities to write parallel scripts.\n",
      "enabled: True\n",
      "id: opensees-mp-s3-silvia-new\n",
      "isPublic: False\n",
      "jobAttributes: \n",
      "archiveOnAppError: True\n",
      "archiveSystemDir: HOST_EVAL($WORK)/tapis-jobs-archive/${JobCreateDate}/${JobName}-${JobUUID}\n",
      "archiveSystemId: stampede3\n",
      "cmdPrefix: None\n",
      "coresPerNode: 48\n",
      "description: None\n",
      "dtnSystemInputDir: !tapis_not_set\n",
      "dtnSystemOutputDir: !tapis_not_set\n",
      "dynamicExecSystem: False\n",
      "execSystemConstraints: None\n",
      "execSystemExecDir: ${JobWorkingDir}\n",
      "execSystemId: stampede3\n",
      "execSystemInputDir: ${JobWorkingDir}\n",
      "execSystemLogicalQueue: skx\n",
      "execSystemOutputDir: ${JobWorkingDir}\n",
      "fileInputArrays: []\n",
      "fileInputs: [\n",
      "autoMountLocal: True\n",
      "description: Input directory that includes the tcl script as well as any other required files. Example input is in tapis://designsafe.storage.community/app_examples/opensees/OpenSeesMP\n",
      "envKey: inputDirectory\n",
      "inputMode: REQUIRED\n",
      "name: Input Directory\n",
      "notes: \n",
      "selectionMode: directory\n",
      "sourceUrl: None\n",
      "targetPath: inputDirectory]\n",
      "isMpi: False\n",
      "maxMinutes: 120\n",
      "memoryMB: 192000\n",
      "mpiCmd: None\n",
      "nodeCount: 2\n",
      "parameterSet: \n",
      "appArgs: [\n",
      "arg: OpenSeesMP\n",
      "description: None\n",
      "inputMode: FIXED\n",
      "name: mainProgram\n",
      "notes: \n",
      "isHidden: True, \n",
      "arg: None\n",
      "description: The filename only of the OpenSees TCL script to execute. This file should reside in the Input Directory specified. To use with test input, use 'freeFieldEffective.tcl'\n",
      "inputMode: REQUIRED\n",
      "name: Main Script\n",
      "notes: \n",
      "inputType: fileInput]\n",
      "archiveFilter: \n",
      "excludes: []\n",
      "includeLaunchFiles: True\n",
      "includes: []\n",
      "containerArgs: []\n",
      "envVariables: []\n",
      "logConfig: \n",
      "stderrFilename: \n",
      "stdoutFilename: \n",
      "schedulerOptions: [\n",
      "arg: --tapis-profile OpenSees_default\n",
      "description: Scheduler profile for the default version of OpenSees\n",
      "inputMode: FIXED\n",
      "name: OpenSees TACC Scheduler Profile\n",
      "notes: \n",
      "isHidden: True]\n",
      "subscriptions: []\n",
      "tags: []\n",
      "jobType: BATCH\n",
      "locked: False\n",
      "maxJobs: 2147483647\n",
      "maxJobsPerUser: 2147483647\n",
      "notes: \n",
      "category: Simulation\n",
      "helpUrl: https://www.designsafe-ci.org/user-guide/tools/simulation/#opensees-user-guide\n",
      "hideNodeCountAndCoresPerNode: False\n",
      "icon: OpenSees\n",
      "isInteractive: False\n",
      "label: OpenSeesMP\n",
      "owner: silvia\n",
      "runtime: ZIP\n",
      "runtimeOptions: None\n",
      "runtimeVersion: None\n",
      "sharedAppCtx: silvia\n",
      "sharedWithUsers: []\n",
      "strictFileInputs: False\n",
      "tags: ['portalName: DesignSafe', 'portalName: CEP']\n",
      "tenant: designsafe\n",
      "updated: 2025-08-16T18:53:58.422294Z\n",
      "uuid: 5446e773-9182-4521-bbef-e0387107c331\n",
      "version: latest\n",
      "versionEnabled: True\n"
     ]
    }
   ],
   "source": [
    "latest = t.apps.getAppLatestVersion(appId=app_id)\n",
    "print(latest)"
   ]
  },
  {
   "cell_type": "code",
   "execution_count": null,
   "metadata": {},
   "outputs": [],
   "source": []
  },
  {
   "cell_type": "code",
   "execution_count": 8,
   "metadata": {},
   "outputs": [],
   "source": [
    "\n",
    "# def resolve_latest_app_version(t, app_id: str) -> str:\n",
    "#     \"\"\"\n",
    "#     Return the latest enabled app version for `app_id`.\n",
    "#     Falls back to manual SemVer sort if the 'latest' endpoint isn't available.\n",
    "\n",
    "#     Author\n",
    "#     ------\n",
    "#     Silvia Mazzoni, DesignSafe (silviamazzoni@yahoo.com)\n",
    "\n",
    "#     Date\n",
    "#     ----\n",
    "#     2025-08-14\n",
    "\n",
    "#     Version\n",
    "#     -------\n",
    "#     1.0\n",
    "#     \"\"\"\n",
    "#     # from packaging.version import Version\n",
    "#     # 1) Try the official helper (if present in your Tapipy version)\n",
    "#     try:\n",
    "#         latest = t.apps.getAppLatestVersion(appId=app_id)\n",
    "#         ver = getattr(latest, \"version\", None) or (latest.get(\"version\") if isinstance(latest, dict) else None)\n",
    "#         if ver:\n",
    "#             return ver\n",
    "#     except Exception:\n",
    "#         print(f'Unable to find latest version of app: {app_id}')\n",
    "#         return 'none'\n",
    "\n"
   ]
  },
  {
   "cell_type": "code",
   "execution_count": 9,
   "metadata": {},
   "outputs": [],
   "source": [
    "\n",
    "\n",
    "# def resolve_latest_app_version(\n",
    "#     t,\n",
    "#     app_id: str,\n",
    "#     allow_literal_latest_if_only: bool = True,\n",
    "#     allow_literal_latest_if_newest: bool = False,\n",
    "# ) -> str:\n",
    "#     \"\"\"\n",
    "#     Resolve a concrete app version for `app_id`, handling Tapipy resources vs dicts,\n",
    "#     and the presence of a literal version named \"latest\".\n",
    "\n",
    "#     Resolution order (defaults favor reproducibility):\n",
    "#       1) Try Apps helper getAppLatestVersion:\n",
    "#          - If it returns a concrete version (not \"latest\"), return it.\n",
    "#          - If it returns \"latest\", enumerate all versions (step 2).\n",
    "#       2) Enumerate enabled versions via getApps(search=...):\n",
    "#          - If \"latest\" is the ONLY enabled version → return \"latest\"\n",
    "#            (controlled by allow_literal_latest_if_only; default True).\n",
    "#          - Else pick highest semantic version (stable > prerelease).\n",
    "#          - If none parseable and `allow_literal_latest_if_newest` is True and the newest\n",
    "#            record is the literal \"latest\", return \"latest\".\n",
    "#       3) If no SemVer at all but a literal \"latest\" exists → return \"latest\".\n",
    "#       4) Otherwise → return \"none\".\n",
    "\n",
    "#     Parameters\n",
    "#     ----------\n",
    "#     t : tapipy.tapis.Tapis\n",
    "#     app_id : str\n",
    "#     allow_literal_latest_if_only : bool, default True\n",
    "#     allow_literal_latest_if_newest : bool, default False\n",
    "\n",
    "#     Returns\n",
    "#     -------\n",
    "#     str\n",
    "#         Concrete version like \"1.2.3\", or \"latest\" (per flags/last resort), or \"none\".\n",
    "\n",
    "#     Author\n",
    "#     ------\n",
    "#     Silvia Mazzoni, DesignSafe (silviamazzoni@yahoo.com)\n",
    "#     Date: 2025-08-16, Version: 1.4\n",
    "#     \"\"\"\n",
    "#     from typing import Any, List, Tuple\n",
    "#     from packaging.version import Version\n",
    "#     def _field(obj: Any, name: str, default=None):\n",
    "#         # Works for Tapipy Resource objects and dicts\n",
    "#         if isinstance(obj, dict):\n",
    "#             return obj.get(name, default)\n",
    "#         return getattr(obj, name, default)\n",
    "\n",
    "#     # --- 1) Try official \"latest\" helper\n",
    "#     try:\n",
    "#         latest = t.apps.getAppLatestVersion(appId=app_id)\n",
    "#         latest = getattr(latest, \"result\", latest)\n",
    "#         v = _field(latest, \"version\")\n",
    "#         if isinstance(v, str) and v:\n",
    "#             if v.lower() != \"latest\":\n",
    "#                 return v\n",
    "#             # if literal \"latest\", continue to enumeration for a reproducible SemVer\n",
    "#     except Exception:\n",
    "#         pass\n",
    "\n",
    "#     # --- 2) Enumerate all enabled versions\n",
    "#     try:\n",
    "#         resp = t.apps.getApps(search=f\"(id.eq.{app_id})\",\n",
    "#                               listType=\"ALL\",\n",
    "#                               select=\"id,version,enabled,versionEnabled,created\")\n",
    "#         items = getattr(resp, \"result\", resp)\n",
    "#         if not isinstance(items, list):\n",
    "#             items = [items] if items else []\n",
    "\n",
    "#         # Filter enabled (either flag may be present depending on endpoint)\n",
    "#         enabled: List[Any] = []\n",
    "#         for it in items:\n",
    "#             en = _field(it, \"enabled\", True)\n",
    "#             ven = _field(it, \"versionEnabled\", True)\n",
    "#             if bool(en) and bool(ven):\n",
    "#                 enabled.append(it)\n",
    "\n",
    "#         if not enabled:\n",
    "#             return \"none\"\n",
    "\n",
    "#         # Only one enabled?\n",
    "#         if len(enabled) == 1:\n",
    "#             v = _field(enabled[0], \"version\", \"\") or \"\"\n",
    "#             v = v.strip()\n",
    "#             if v.lower() == \"latest\":\n",
    "#                 return \"latest\" if allow_literal_latest_if_only else \"none\"\n",
    "#             return v if v else \"none\"\n",
    "\n",
    "#         # Multiple enabled → collect metadata\n",
    "#         def created_key(it):\n",
    "#             return _field(it, \"created\", \"\") or \"\"\n",
    "\n",
    "#         # Does a literal latest exist? Is it newest?\n",
    "#         literal_latest_records = [it for it in enabled\n",
    "#                                   if isinstance(_field(it, \"version\", \"\"), str)\n",
    "#                                   and _field(it, \"version\", \"\").lower() == \"latest\"]\n",
    "#         has_literal_latest = len(literal_latest_records) > 0\n",
    "#         newest = max(enabled, key=created_key) if enabled else None\n",
    "#         newest_is_literal_latest = bool(\n",
    "#             newest and isinstance(_field(newest, \"version\", \"\"), str) and _field(newest, \"version\", \"\").lower() == \"latest\"\n",
    "#         )\n",
    "\n",
    "#         # Build SemVer sets\n",
    "#         stable: List[Tuple[Version, str]] = []\n",
    "#         prerelease: List[Tuple[Version, str]] = []\n",
    "#         for it in enabled:\n",
    "#             v = (_field(it, \"version\", \"\") or \"\").strip()\n",
    "#             if not v or v.lower() == \"latest\":\n",
    "#                 continue\n",
    "#             try:\n",
    "#                 sv = Version(v)\n",
    "#                 (stable if not sv.is_prerelease else prerelease).append((sv, v))\n",
    "#             except Exception:\n",
    "#                 # skip non-SemVer (e.g., \"dev\", \"abc\")\n",
    "#                 continue\n",
    "\n",
    "#         if stable:\n",
    "#             stable.sort(key=lambda x: x[0])\n",
    "#             return stable[-1][1]\n",
    "#         if prerelease:\n",
    "#             prerelease.sort(key=lambda x: x[0])\n",
    "#             return prerelease[-1][1]\n",
    "\n",
    "#         # No SemVer at all\n",
    "#         if has_literal_latest:\n",
    "#             if newest_is_literal_latest and allow_literal_latest_if_newest:\n",
    "#                 return \"latest\"\n",
    "#             return \"latest\"  # last resort\n",
    "\n",
    "#         return \"none\"\n",
    "\n",
    "#     except Exception:\n",
    "#         return \"none\"\n"
   ]
  },
  {
   "cell_type": "code",
   "execution_count": 10,
   "metadata": {},
   "outputs": [
    {
     "ename": "AttributeError",
     "evalue": "module 'OpsUtils.OpsUtils' has no attribute 'get_latest_app_version'",
     "output_type": "error",
     "traceback": [
      "\u001b[31m---------------------------------------------------------------------------\u001b[39m",
      "\u001b[31mAttributeError\u001b[39m                            Traceback (most recent call last)",
      "\u001b[36mCell\u001b[39m\u001b[36m \u001b[39m\u001b[32mIn[10]\u001b[39m\u001b[32m, line 1\u001b[39m\n\u001b[32m----> \u001b[39m\u001b[32m1\u001b[39m latest_app_version = \u001b[43mOpsUtils\u001b[49m\u001b[43m.\u001b[49m\u001b[43mget_latest_app_version\u001b[49m(t,app_id)\n\u001b[32m      2\u001b[39m \u001b[38;5;28mprint\u001b[39m(\u001b[33m'\u001b[39m\u001b[33mlatest_app_version:\u001b[39m\u001b[33m'\u001b[39m,latest_app_version)\n",
      "\u001b[31mAttributeError\u001b[39m: module 'OpsUtils.OpsUtils' has no attribute 'get_latest_app_version'"
     ]
    }
   ],
   "source": [
    "latest_app_version = OpsUtils.get_latest_app_version(t,app_id)\n",
    "print('latest_app_version:',latest_app_version)"
   ]
  },
  {
   "cell_type": "markdown",
   "metadata": {},
   "source": [
    "### All apps"
   ]
  },
  {
   "cell_type": "code",
   "execution_count": null,
   "metadata": {},
   "outputs": [],
   "source": [
    "listType = 'ALL' # Include all items requester is authorized to view. Includes check for READ or MODIFY permission.\n",
    "select = 'id,created,description,version,owner' # Attributes to return in each result.\n",
    "orderBy = 'created(asc)'\n",
    "results = t.apps.getApps( orderBy=orderBy,\n",
    "                         select=select)  \n",
    "for thisRes in results:\n",
    "    print('--')\n",
    "    print(thisRes)"
   ]
  },
  {
   "cell_type": "markdown",
   "metadata": {},
   "source": [
    "### the new app"
   ]
  },
  {
   "cell_type": "code",
   "execution_count": null,
   "metadata": {},
   "outputs": [],
   "source": [
    "t.apps.getAppLatestVersion(appId=app_def[\"id\"])"
   ]
  },
  {
   "cell_type": "markdown",
   "metadata": {},
   "source": [
    "## ✅ Step 5: Submit a Job\n",
    "\n",
    "You’ll now submit a job using this app. You can use the Tapis CLI, Tapipy, or a web form.\n"
   ]
  },
  {
   "cell_type": "code",
   "execution_count": null,
   "metadata": {},
   "outputs": [],
   "source": [
    "print('app_name:',app_name)\n",
    "print('latest_app_version:',latest_app_version)"
   ]
  },
  {
   "cell_type": "code",
   "execution_count": null,
   "metadata": {},
   "outputs": [],
   "source": [
    "a = 3/0"
   ]
  },
  {
   "cell_type": "markdown",
   "metadata": {},
   "source": [
    "### App-Specific Input"
   ]
  },
  {
   "cell_type": "code",
   "execution_count": null,
   "metadata": {},
   "outputs": [],
   "source": [
    "# initalize\n",
    "tapisInputAll = {}\n",
    "tapisInputAll[\"name\"] = 'SilviaApp_OpenSeesMP'\n",
    "\n",
    "tapisInputAll[\"appId\"] = app_name # options: \"opensees-express\", \"opensees-mp-s3\", \"opensees-2p-s3\"\n",
    "tapisInputAll[\"appVersion\"] = app_version # always use latest in this Notebook Template\n",
    "tapisInputAll[\"maxMinutes\"] = 6\n",
    "\n",
    "# OpenSees-mp-s3 and OpenSees-xp-s3 only:\n",
    "tapisInputAll[\"execSystemId\"] = \"stampede3\" # the app runs on stampede only\n",
    "tapisInputAll[\"execSystemLogicalQueue\"] = \"skx-dev\" # \"skx\", \"skx-dev\"\n",
    "tapisInputAll[\"nodeCount\"] = 1 # limits set by which compute nodes you use\n",
    "tapisInputAll[\"coresPerNode\"] = 48 # limits set by which compute nodes you use\n",
    "tapisInputAll[\"allocation\"] = \"DS-HPC1\"\n",
    "\n",
    "tapisInputAll['archive_system']='MyData' # Options: MyData or Work"
   ]
  },
  {
   "cell_type": "markdown",
   "metadata": {},
   "source": [
    "### Job-Specific Input"
   ]
  },
  {
   "cell_type": "code",
   "execution_count": null,
   "metadata": {},
   "outputs": [],
   "source": [
    "# initalize\n",
    "tapisInput = tapisInputAll.copy()\n",
    "\n",
    "tapisInput['storage_system'] = 'CommunityData' # ########################## unique\n",
    "\n",
    "tapisInput[\"name\"] = tapisInput[\"name\"] + '_' + tapisInput['storage_system']\n",
    "\n",
    "tapisInput['input_folder'] = 'OpenSees/TrainingMaterial/training-OpenSees-on-DesignSafe/Examples_OpenSees/BasicExamples'  # ########################## unique\n",
    "tapisInput['input_filename'] = 'Ex1a_verymany.Canti2D.Push.mp.tcl' # ########################## unique\n",
    "\n"
   ]
  },
  {
   "cell_type": "markdown",
   "metadata": {},
   "source": [
    "## Submit Job"
   ]
  },
  {
   "cell_type": "code",
   "execution_count": null,
   "metadata": {},
   "outputs": [],
   "source": [
    "# -----------------------------------------------------\n",
    "jobReturns = OpsUtils.run_tapis_job(t,tapisInput,get_job_metadata=True,get_job_history=True,get_job_filedata=True,askConfirmJob = False,askConfirmMonitorRT = False)\n",
    "# -----------------------------------------------------"
   ]
  },
  {
   "cell_type": "code",
   "execution_count": null,
   "metadata": {},
   "outputs": [],
   "source": [
    "a = 3/0"
   ]
  },
  {
   "cell_type": "code",
   "execution_count": null,
   "metadata": {},
   "outputs": [],
   "source": [
    "tapisInput_tmp = tapisInput.copy()\n",
    "tapisInput_tmp['appId'] = 'opensees-mp-s3'\n",
    "tapisInput_tmp['appVersion'] = 'latest'\n",
    "print('tapisInput_tmp',tapisInput_tmp)\n",
    "\n",
    "job_description = OpsUtils.get_tapis_job_description(t, tapisInput_tmp)\n",
    "\n",
    "print('job_description',job_description)\n",
    "\n",
    "job_description['appId'] = app_name\n",
    "# job_description['appVersion'] = app_version\n",
    "print('job_description',job_description)\n",
    "    # returnDict = OpsUtils.submit_tapis_job(t, job_description, askConfirmJob)\n"
   ]
  },
  {
   "cell_type": "code",
   "execution_count": null,
   "metadata": {},
   "outputs": [],
   "source": [
    "askConfirmJob = False\n",
    "returnDict = OpsUtils.submit_tapis_job(t, job_description, askConfirmJob)"
   ]
  },
  {
   "cell_type": "code",
   "execution_count": null,
   "metadata": {},
   "outputs": [],
   "source": [
    "jobUuid = returnDict.get(\"jobUuid\")\n",
    "askConfirmMonitorRT = False\n",
    "OpsUtils.monitor_tapis_job(t, jobUuid, returnDict.get(\"job_start_time\"), askConfirmMonitorRT)\n",
    "\n",
    "# Always fetch basic status after monitoring\n",
    "JobStatusData = OpsUtils.get_tapis_job_status(t, jobUuid, tapisInput)\n",
    "\n",
    "# Optional enrichments\n",
    "JobMetadata = OpsUtils.get_tapis_job_metadata(t, jobUuid, tapisInput)\n",
    "JobHistory = OpsUtils.get_tapis_job_history_data(t, jobUuid)\n",
    "JobFiledata = OpsUtils.get_tapis_job_all_files(t, jobUuid)"
   ]
  },
  {
   "cell_type": "code",
   "execution_count": null,
   "metadata": {},
   "outputs": [],
   "source": []
  },
  {
   "cell_type": "markdown",
   "metadata": {},
   "source": [
    "## ✅ Summary\n",
    "\n",
    "| Step                        | Description                                                         |\n",
    "| --------------------------- | ------------------------------------------------------------------- |\n",
    "| 1. Create `app.json`        | Describes the app, its inputs, execution system, and wrapper script |\n",
    "| 2. Create `tapisjob_app.sh` | Runs your analysis (e.g., ibrun OpenSees main.tcl)                  |\n",
    "| 3. Create `profile.json`    | (Optional) Loads modules/environment                                |\n",
    "| 4. Upload Files             | To the deployment path in your storage system                       |\n",
    "| 5. Register App             | With Tapis via CLI or Python                                        |\n",
    "| 6. Submit Job               | Define `job.json` and submit                                        |\n",
    "\n"
   ]
  },
  {
   "cell_type": "markdown",
   "metadata": {},
   "source": [
    "Awesome—here are concise, ready-to-paste **best-practice notes** to follow your Step 3.\n",
    "\n",
    "# ✅ Best Practices for Tapis v3 App Deployment\n",
    "\n",
    "## 1) Directory & Versioning Strategy\n",
    "\n",
    "* **One app, many versions:**\n",
    "\n",
    "  * `apps/<app_id>/<version>/` (e.g., `apps/opensees-mp/1.0/`)\n",
    "  * Treat each `<version>` as **immutable** once registered.\n",
    "* **Use semantic versions:** `1.0.0`, `1.0.1`, `1.1.0` (avoid “latest” in the path).\n",
    "* **Optional convenience alias:** keep a lightweight `latest` folder that *copies* the newest version’s files (don’t register “latest” as the app version—register the semantic version).\n",
    "\n",
    "## 2) Environments: dev → test → prod\n",
    "\n",
    "* Keep **separate app IDs** or **separate versions** for lifecycle stages.\n",
    "\n",
    "  * Example:\n",
    "\n",
    "    * `opensees-mp-dev/0.9.x` (fast iteration; looser validation)\n",
    "    * `opensees-mp-test/1.0.0-rc1` (candidate)\n",
    "    * `opensees-mp/1.0.0` (production)\n",
    "* Change only:\n",
    "\n",
    "  * `executionSystem`, SLURM queue, default node/core limits\n",
    "  * container image tag, module set in `profile.json`\n",
    "* Keep **input schema** stable between test and prod to avoid breaking users.\n",
    "\n",
    "## 3) Files to include per version\n",
    "\n",
    "* `app.json` – App metadata, inputs/parameters, execution/deployment systems.\n",
    "* `profile.json` – Environment setup for the execution system (modules, PATH, MPI launcher, etc.).\n",
    "* `tapisjob_app.sh` – Wrapper that launches the job (container/module loads, cd, run, write exitcode).\n",
    "* Optional:\n",
    "\n",
    "  * `README.md` – What this app/version does, changes vs. prior version, known issues.\n",
    "  * `CHANGELOG.md` – Human-readable diff for operators and users.\n",
    "  * `examples/` – Minimal working inputs for quick validation.\n",
    "\n",
    "## 4) Permissions & Ownership\n",
    "\n",
    "* **Deployment system path should be read-only** to regular users after registration.\n",
    "* Ensure **app owner** (and ops team) retains write access to `apps/<app_id>/`.\n",
    "* Use a **service or team account** as `owner` in `app.json` where possible for continuity.\n",
    "\n",
    "## 5) Registration & Immutability\n",
    "\n",
    "* Upload files → **register** the app/version → **do not mutate** files in place.\n",
    "* If you must change something, **create a new version** (`1.0.1`) and re-register.\n",
    "* Keep a record of the **registered app UUID** and the git commit (if any) that produced it.\n",
    "\n",
    "## 6) Validation Checklist (quick)\n",
    "\n",
    "* `app.json` parses, required fields present (id, version, executionSystem, deploymentSystem, runtime).\n",
    "* `profile.json` matches **executionSystem** (modules exist, `OpenSees*` path/command resolvable).\n",
    "* `tapisjob_app.sh`:\n",
    "\n",
    "  * `set -e` (or robust exit checks), write `${_tapisExecSystemOutputDir}/tapisjob.exitcode`\n",
    "  * correct working dir & mounts, prints env + version for debug\n",
    "* Submit a **smoke test** job using a tiny input in `examples/`:\n",
    "\n",
    "  * Confirms launch, output capture, archive, and non-zero exit handling.\n",
    "\n",
    "## 7) Consistent Inputs & Defaults\n",
    "\n",
    "* In `app.json`, define **clear, minimal** required inputs/params.\n",
    "* Provide safe **defaults** (walltime, nodes/cores, queue) for novice users.\n",
    "* Document **Tcl vs. OpenSeesPy** expectations (e.g., `mainProgram`, `tclScript`, `pyScript`).\n",
    "\n",
    "## 8) Separation of Concerns (why split files)\n",
    "\n",
    "* `app.json` = **What** the app is and needs (schema, systems, resources).\n",
    "* `profile.json` = **How** to prepare the environment on the **execution system** (modules, env vars).\n",
    "* `tapisjob_app.sh` = **How** to run the job (container/module, mpirun/ibrun, error plumbing).\n",
    "* This separation keeps **runtime environment tweaks** out of your stable app contract.\n",
    "\n",
    "## 9) Container & Modules\n",
    "\n",
    "* Prefer a **versioned container tag** for reproducibility (e.g., `taccaci/opensees:2025.06`).\n",
    "* If using **modules**, pin specific versions in `profile.json` and echo them at runtime for provenance.\n",
    "\n",
    "## 10) Provenance & Logging\n",
    "\n",
    "* At job start, print: app id/version, container/tag, module list, SLURM env, date/time, hostname.\n",
    "* Always write explicit **exit code** and a short **status summary** to stdout/stderr.\n",
    "\n",
    "\n"
   ]
  },
  {
   "cell_type": "markdown",
   "metadata": {},
   "source": [
    "## look for my apps"
   ]
  },
  {
   "cell_type": "code",
   "execution_count": null,
   "metadata": {},
   "outputs": [],
   "source": [
    "a = 3/0"
   ]
  },
  {
   "cell_type": "code",
   "execution_count": null,
   "metadata": {},
   "outputs": [],
   "source": [
    "listType = 'ALL' # Include all items requester is authorized to view. Includes check for READ or MODIFY permission.\n",
    "select = 'id,created,description,version,owner' # Attributes to return in each result.\n",
    "orderBy = 'created(asc)'\n",
    "results = t.apps.getApps( orderBy=orderBy,\n",
    "                         select=select)  \n",
    "for thisRes in results:\n",
    "    print('--')\n",
    "    print(thisRes)"
   ]
  },
  {
   "cell_type": "code",
   "execution_count": null,
   "metadata": {},
   "outputs": [],
   "source": [
    "thisAppData = OpsUtils.get_tapis_app_schema(t,'shell-runner',version='1.0.0')\n",
    "OpsUtils.display_tapis_app_schema(thisAppData)"
   ]
  },
  {
   "cell_type": "code",
   "execution_count": null,
   "metadata": {},
   "outputs": [],
   "source": [
    "thisAppData = OpsUtils.get_tapis_app_schema(t,'opensees-mp-s3',version='latest')\n",
    "OpsUtils.display_tapis_app_schema(thisAppData)"
   ]
  },
  {
   "cell_type": "code",
   "execution_count": null,
   "metadata": {},
   "outputs": [],
   "source": []
  },
  {
   "cell_type": "code",
   "execution_count": null,
   "metadata": {},
   "outputs": [],
   "source": []
  },
  {
   "cell_type": "markdown",
   "metadata": {},
   "source": [
    "## look for all apps"
   ]
  },
  {
   "cell_type": "code",
   "execution_count": null,
   "metadata": {},
   "outputs": [],
   "source": [
    "listType = 'ALL' # Include all items requester is authorized to view. Includes check for READ or MODIFY permission.\n",
    "select = 'id,created,description,version,owner' # Attributes to return in each result.\n",
    "orderBy = 'created(asc)'\n",
    "results = t.apps.getApps( orderBy=orderBy,\n",
    "                         listType=listType,\n",
    "                         select=select)  \n",
    "for thisRes in results:\n",
    "    print('--')\n",
    "    print(thisRes)"
   ]
  },
  {
   "cell_type": "markdown",
   "metadata": {},
   "source": [
    "## Look for all apps with opensees in their id, and the latest version"
   ]
  },
  {
   "cell_type": "code",
   "execution_count": null,
   "metadata": {},
   "outputs": [],
   "source": [
    "searchQuery = \"(id.like.*opensees*)~(version.eq.latest)\"\n",
    "listType = 'ALL'\n",
    "select = 'id,created,description,version'\n",
    "orderBy = 'created(asc)'\n",
    "results = t.apps.getApps(search=searchQuery,\n",
    "                         orderBy=orderBy,\n",
    "                         listType=listType,\n",
    "                         select=select)  \n",
    "for thisRes in results:\n",
    "    print('--')\n",
    "    print(thisRes)"
   ]
  },
  {
   "cell_type": "markdown",
   "metadata": {},
   "source": [
    "## Look for more Specific app"
   ]
  },
  {
   "cell_type": "code",
   "execution_count": null,
   "metadata": {},
   "outputs": [],
   "source": [
    "searchQuery = \"(id.like.*opensees*mp*)~(version.eq.latest)\"\n",
    "results = t.apps.getApps(search=searchQuery,\n",
    "                listType=listType,select=select)  \n",
    "for thisRes in results:\n",
    "    print('--')\n",
    "    print(thisRes)"
   ]
  },
  {
   "cell_type": "markdown",
   "metadata": {},
   "source": [
    "## Look for a different version"
   ]
  },
  {
   "cell_type": "code",
   "execution_count": null,
   "metadata": {},
   "outputs": [],
   "source": [
    "searchQuery = \"(id.like.*opensees*mp*)~(version.eq.3.5.0)\"\n",
    "results = t.apps.getApps(search=searchQuery,\n",
    "                listType=listType,select=select)  \n",
    "for thisRes in results:\n",
    "    print('--')\n",
    "    print(thisRes)\n",
    "    "
   ]
  },
  {
   "cell_type": "markdown",
   "metadata": {},
   "source": [
    "### Use a utility function:"
   ]
  },
  {
   "cell_type": "code",
   "execution_count": null,
   "metadata": {
    "tags": [
     "remove-input"
    ]
   },
   "outputs": [],
   "source": [
    "OpsUtils.show_text_file_in_accordion(PathOpsUtils,['query_tapis_apps.py'])"
   ]
  },
  {
   "cell_type": "code",
   "execution_count": null,
   "metadata": {},
   "outputs": [],
   "source": [
    "results = OpsUtils.query_tapis_apps(t,['opensees','mp'],version='latest',select = 'id,created,description,version')    \n",
    "print(results)\n",
    "print('------------')\n",
    "results = OpsUtils.query_tapis_apps(t,['opensees','mp'],select = 'id,created,description,version')    \n",
    "print(results)\n",
    "print('------------')\n",
    "results = OpsUtils.query_tapis_apps(t,['opensees','mp'],version='latest')    \n",
    "print(results[0].id)"
   ]
  }
 ],
 "metadata": {
  "IMAGE_NAME": "taccsciapps/ds-nb-img:base-0.2.3",
  "UUID": "73e0880d-9b87-11ec-9c1c-13579dd95994",
  "celltoolbar": "Raw Cell Format",
  "kernelspec": {
   "display_name": "Python 3 (ipykernel)",
   "language": "python",
   "name": "python3"
  },
  "language_info": {
   "codemirror_mode": {
    "name": "ipython",
    "version": 3
   },
   "file_extension": ".py",
   "mimetype": "text/x-python",
   "name": "python",
   "nbconvert_exporter": "python",
   "pygments_lexer": "ipython3",
   "version": "3.12.11"
  }
 },
 "nbformat": 4,
 "nbformat_minor": 4
}
