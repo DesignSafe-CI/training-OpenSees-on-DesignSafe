{
 "cells": [
  {
   "cell_type": "markdown",
   "metadata": {},
   "source": [
    "<a class=\"reference external\" \n",
    "    href=\"https://jupyter.designsafe-ci.org/hub/user-redirect/lab/tree/CommunityData/OpenSees/TrainingMaterial/training-OpenSees-on-DesignSafe/Jupyter_Notebooks/tapis_appsDev_CustomApp_opsmps3copy.ipynb\" \n",
    "    target=\"_blank\"\n",
    "    >\n",
    "<img alt=\"Try on DesignSafe\" src=\"https://raw.githubusercontent.com/DesignSafe-Training/pinn/main/DesignSafe-Badge.svg\" /></a>"
   ]
  },
  {
   "cell_type": "markdown",
   "metadata": {},
   "source": [
    "# GetWork App  📒\n",
    "***Create your own Tapis App***\n",
    "THIS WORKS, KIND OF, BUT IT'S SO CONVOLUTED AND STILL NOT CLEAR.\n",
    "by Silvia Mazzoni, DesignSafe, 2025\n",
    "\n",
    "Let's write an app to get your user and system-dependent path\n",
    "\n",
    "## Workflow\n",
    "\n",
    "| Step                        | Description                                                         |\n",
    "| --------------------------- | ------------------------------------------------------------------- |\n",
    "| 1. Create *app.json*        | Describes the app, its inputs, execution system, and wrapper script |\n",
    "| 2. Create *tapisjob_app.sh* | Runs your analysis (e.g., ibrun OpenSees main.tcl)                  |\n",
    "| 2a. Zip *tapisjob_app.sh* | It needs a zip file!                  |\n",
    "| 3. Create *profile.json*    | (Optional) Loads modules/environment                                |\n",
    "| 4. Upload Files             | To the deployment path in your storage system                       |\n",
    "| 5. Register App             | With Tapis via CLI or Python                                        |\n",
    "| 6. Submit Job               | Define `job.json` and submit                                        |"
   ]
  },
  {
   "cell_type": "code",
   "execution_count": 1,
   "metadata": {},
   "outputs": [],
   "source": [
    "import json"
   ]
  },
  {
   "cell_type": "code",
   "execution_count": 2,
   "metadata": {},
   "outputs": [
    {
     "name": "stdout",
     "output_type": "stream",
     "text": [
      "Using local utilities library\n"
     ]
    }
   ],
   "source": [
    "# Local Utilities Library\n",
    "# you can remove the logic associated with the local path\n",
    "import sys,os\n",
    "relativePath = '../OpsUtils'\n",
    "if os.path.exists(relativePath):\n",
    "    print(\"Using local utilities library\")\n",
    "    PathOpsUtils = os.path.expanduser(relativePath)\n",
    "else:\n",
    "    print('using communitydata')\n",
    "    PathOpsUtils = os.path.expanduser('~/CommunityData/OpenSees/TrainingMaterial/training-OpenSees-on-DesignSafe/OpsUtils')\n",
    "if not PathOpsUtils in sys.path: sys.path.append(PathOpsUtils)\n",
    "from OpsUtils import OpsUtils"
   ]
  },
  {
   "cell_type": "markdown",
   "metadata": {},
   "source": [
    "---\n",
    "## Connect to Tapis"
   ]
  },
  {
   "cell_type": "code",
   "execution_count": 3,
   "metadata": {},
   "outputs": [
    {
     "name": "stdout",
     "output_type": "stream",
     "text": [
      " -- Checking Tapis token --\n",
      " Token loaded from file. Token is still valid!\n",
      " Token expires at: 2025-08-20T18:35:53+00:00\n",
      " Token expires in: 0:56:45.401141\n",
      "-- LOG IN SUCCESSFUL! --\n"
     ]
    }
   ],
   "source": [
    "t=OpsUtils.connect_tapis()"
   ]
  },
  {
   "cell_type": "markdown",
   "metadata": {},
   "source": [
    "---\n",
    "### Get username"
   ]
  },
  {
   "cell_type": "code",
   "execution_count": 4,
   "metadata": {},
   "outputs": [
    {
     "data": {
      "text/html": [
       "\n",
       "                      <details style=\"margin-top:1em; font-family:monospace; background:white; \n",
       "                          padding:0.25em; border-radius:6px; border:1px solid #ccc;\">\n",
       "                        <summary style=\"cursor:pointer; font-weight:bold; background:white; \n",
       "                          padding:0.3em 0.5em; border-radius:4px;\">get_tapis_username.py</summary>\n",
       "\n",
       "                        <button onclick=\"navigator.clipboard.writeText(document.getElementById('30ca6816fc9b4d9bb7659d02eede5bc4').innerText)\">\n",
       "                          📋 Copy\n",
       "                        </button>\n",
       "                        <pre id=\"30ca6816fc9b4d9bb7659d02eede5bc4\" style=\"white-space:pre-wrap; margin:0.25em 0 0 0; \n",
       "                            background:#d4fbff; padding:.3em; border-radius:5px;\">\n",
       "<b># ../OpsUtils/OpsUtils/Tapis/get_tapis_username.py</b>\n",
       "def get_tapis_username(\n",
       "    t,\n",
       "    *,\n",
       "    prefer_userinfo: bool = True,\n",
       "    fallback_to_token: bool = True,\n",
       "    default=None,\n",
       "    verbose: bool = False,\n",
       "):\n",
       "    \"\"\"\n",
       "    Return the Tapis username from an authenticated client `t`, with safe fallbacks.\n",
       "\n",
       "    Resolution order (robust to Tapipy resource objects and dicts):\n",
       "      1) userinfo endpoint (if available):\n",
       "         t.authenticator.get_userinfo().username\n",
       "      2) client attribute:\n",
       "         getattr(t, \"username\", None)\n",
       "      3) token claims (if fallback_to_token=True):\n",
       "         - t.access_token.claims.get(\"tapis/username\") or \"username\"\n",
       "         - t.tokens.validateToken()[\"tapis/username\"] (as a last resort)\n",
       "\n",
       "    Parameters\n",
       "    ----------\n",
       "    t : tapipy.tapis.Tapis\n",
       "        Authenticated Tapis client.\n",
       "    prefer_userinfo : bool, default True\n",
       "        Try `t.authenticator.get_userinfo()` first. Some managed hubs disable this;\n",
       "        if it fails, the function silently falls back.\n",
       "    fallback_to_token : bool, default True\n",
       "        Allow using access-token claims or `validateToken()` as a fallback.\n",
       "    default : Any, default None\n",
       "        Value to return if no username can be determined.\n",
       "    verbose : bool, default False\n",
       "        If True, print brief hints when a resolution step fails.\n",
       "\n",
       "    Returns\n",
       "    -------\n",
       "    str | Any\n",
       "        The resolved username (e.g., \"silvia\"), or `default` if none found.\n",
       "\n",
       "    Notes\n",
       "    -----\n",
       "    - Some deployments restrict the userinfo endpoint; token claims usually work.\n",
       "    - If you always want a strict failure when username can't be found, set\n",
       "      `default=None` (the default) and check for `None` at the call site.\n",
       "\n",
       "    Examples\n",
       "    --------\n",
       "    >>> u = get_tapis_username(t)\n",
       "    >>> if u is None:\n",
       "    ...     raise RuntimeError(\"No Tapis username available\")\n",
       "    ... \n",
       "    >>> print(\"Running as:\", u)\n",
       "    \"\"\"\n",
       "    # 1) userinfo (preferred)\n",
       "    if prefer_userinfo:\n",
       "        try:\n",
       "            ui = t.authenticator.get_userinfo()\n",
       "            uname = getattr(ui, \"username\", None)\n",
       "            if not uname and isinstance(ui, dict):\n",
       "                uname = ui.get(\"username\")\n",
       "            if uname:\n",
       "                return uname\n",
       "            if verbose:\n",
       "                print(\"userinfo returned no 'username'; falling back…\")\n",
       "        except Exception as e:\n",
       "            if verbose:\n",
       "                print(f\"userinfo unavailable: {e}; falling back…\")\n",
       "\n",
       "    # 2) client attribute\n",
       "    try:\n",
       "        uname = getattr(t, \"username\", None)\n",
       "        if uname:\n",
       "            return uname\n",
       "    except Exception:\n",
       "        pass\n",
       "\n",
       "    # 3) token claims (optional)\n",
       "    if fallback_to_token:\n",
       "        # 3a) direct claims on access_token (common in Tapipy)\n",
       "        try:\n",
       "            claims = getattr(getattr(t, \"access_token\", None), \"claims\", None)\n",
       "            if isinstance(claims, dict):\n",
       "                uname = claims.get(\"tapis/username\") or claims.get(\"username\")\n",
       "                if uname:\n",
       "                    return uname\n",
       "        except Exception as e:\n",
       "            if verbose:\n",
       "                print(f\"access_token.claims unavailable: {e}\")\n",
       "\n",
       "        # 3b) validateToken() call\n",
       "        try:\n",
       "            tok = t.tokens.validateToken()\n",
       "            if isinstance(tok, dict):\n",
       "                uname = tok.get(\"tapis/username\") or tok.get(\"username\")\n",
       "                if uname:\n",
       "                    return uname\n",
       "        except Exception as e:\n",
       "            if verbose:\n",
       "                print(f\"tokens.validateToken failed: {e}\")\n",
       "\n",
       "    # Nothing worked\n",
       "    return default\n",
       "</pre>\n",
       "                      </details>\n",
       "                    "
      ],
      "text/plain": [
       "<IPython.core.display.HTML object>"
      ]
     },
     "metadata": {},
     "output_type": "display_data"
    }
   ],
   "source": [
    "OpsUtils.show_text_file_in_accordion(PathOpsUtils, ['get_tapis_username.py'])"
   ]
  },
  {
   "cell_type": "code",
   "execution_count": 5,
   "metadata": {},
   "outputs": [
    {
     "name": "stdout",
     "output_type": "stream",
     "text": [
      "username silvia\n"
     ]
    }
   ],
   "source": [
    "username = OpsUtils.get_tapis_username(t)\n",
    "print('username',username)"
   ]
  },
  {
   "cell_type": "code",
   "execution_count": null,
   "metadata": {},
   "outputs": [],
   "source": []
  },
  {
   "cell_type": "code",
   "execution_count": null,
   "metadata": {},
   "outputs": [],
   "source": []
  },
  {
   "cell_type": "code",
   "execution_count": null,
   "metadata": {},
   "outputs": [],
   "source": []
  },
  {
   "cell_type": "code",
   "execution_count": null,
   "metadata": {},
   "outputs": [],
   "source": []
  },
  {
   "cell_type": "markdown",
   "metadata": {},
   "source": [
    "## Define actions!"
   ]
  },
  {
   "cell_type": "code",
   "execution_count": 6,
   "metadata": {},
   "outputs": [],
   "source": [
    "# Make these True once you are done validating\n",
    "do_makeApp = True\n",
    "do_submitJob = True"
   ]
  },
  {
   "cell_type": "markdown",
   "metadata": {},
   "source": [
    "---\n",
    "## Configure App"
   ]
  },
  {
   "cell_type": "code",
   "execution_count": 7,
   "metadata": {},
   "outputs": [],
   "source": [
    "app_id = 'get-work-path-test'\n",
    "app_description = 'get work path'"
   ]
  },
  {
   "cell_type": "markdown",
   "metadata": {},
   "source": [
    "### AutoIncrement app_version"
   ]
  },
  {
   "cell_type": "code",
   "execution_count": 8,
   "metadata": {},
   "outputs": [
    {
     "name": "stdout",
     "output_type": "stream",
     "text": [
      "app exists, now latest_app_version 0.0.6\n",
      "now app_version 0.0.7\n"
     ]
    }
   ],
   "source": [
    "if do_makeApp:\n",
    "    results = t.apps.getApps()\n",
    "    foundIt = False\n",
    "    for thisRes in results:\n",
    "        here_id = thisRes.id\n",
    "        if here_id == app_id:\n",
    "            foundIt = True\n",
    "    if foundIt:\n",
    "        latest_app_version = OpsUtils.get_latest_app_version(t,app_id)\n",
    "        print('app exists, now latest_app_version',latest_app_version)\n",
    "        app_version = OpsUtils.bump_app_version(latest_app_version,'patch')\n",
    "    else:\n",
    "        print('new app')\n",
    "        app_version = '0.0.1'\n",
    "    print('now app_version',app_version)"
   ]
  },
  {
   "cell_type": "markdown",
   "metadata": {},
   "source": [
    "### Where to store the files"
   ]
  },
  {
   "cell_type": "code",
   "execution_count": 9,
   "metadata": {},
   "outputs": [],
   "source": [
    "if do_makeApp:\n",
    "    app_system_id=\"designsafe.storage.default\"\n",
    "    app_path = f\"{username}/apps/{app_id}/{app_version}\"\n",
    "    container_filename = f'{app_id}.zip'"
   ]
  },
  {
   "cell_type": "markdown",
   "metadata": {},
   "source": [
    "### Define folder structure: app_id/version"
   ]
  },
  {
   "cell_type": "code",
   "execution_count": 10,
   "metadata": {},
   "outputs": [],
   "source": [
    "if do_makeApp:\n",
    "    app_folderName = f'~/MyData/myAuthoredTapisApps/{app_id}/{app_version}'; # your choice"
   ]
  },
  {
   "cell_type": "code",
   "execution_count": 11,
   "metadata": {},
   "outputs": [
    {
     "name": "stdout",
     "output_type": "stream",
     "text": [
      "app_folder: /home/jupyter/MyData/myAuthoredTapisApps/get-work-path-test/0.0.7\n",
      " exists: True\n"
     ]
    }
   ],
   "source": [
    "if do_makeApp:\n",
    "    app_folder = os.path.abspath(os.path.expanduser(app_folderName))\n",
    "    os.makedirs(app_folder, exist_ok=True)\n",
    "    print(f'app_folder: {app_folder}\\n exists:',os.path.exists(app_folder))"
   ]
  },
  {
   "cell_type": "markdown",
   "metadata": {},
   "source": [
    "---\n",
    "## Create the App Files\n",
    "\n",
    "A Tapis app needs the following **core files**:\n",
    "\n",
    "* **Readme.MD** – App Description (OPTIONAL)<br>\n",
    "This file is helpful in communicating content to the app user.  \n",
    "\n",
    "* **app.json** – App Definition<br>\n",
    "Defines the app’s metadata, inputs, parameters, and execution configuration.    \n",
    "\n",
    "* **profile.json** – Environment Setup *(optional but common)*<br>\n",
    "Loads modules or sets environment variables on the execution system. This file will load modules before your script runs. This is executed on the compute node.\n",
    "\n",
    "* **tapisjob_app.sh** – Wrapper Script<br>\n",
    "Wrapper script executed by the job; this is the command that launches your code (e.g., runs *OpenSeesMP*, Python, or a script)"
   ]
  },
  {
   "cell_type": "code",
   "execution_count": 12,
   "metadata": {},
   "outputs": [],
   "source": [
    "# let's collect the list of files we are creating as we will need this list in upload\n",
    "if do_makeApp:\n",
    "    appFilesList = [];"
   ]
  },
  {
   "cell_type": "markdown",
   "metadata": {},
   "source": [
    "#### **Readme.MD** – App Description\n",
    "This file is helpful in communicating content to the app user.  "
   ]
  },
  {
   "cell_type": "code",
   "execution_count": 13,
   "metadata": {},
   "outputs": [],
   "source": [
    "if do_makeApp:\n",
    "    thisFilename = 'ReadMe.MD'\n",
    "    thisText = \"\"\"\\\n",
    "    # making a dummy app to get user-and-system-specific work path\n",
    "    \"\"\"\n",
    "    \n",
    "    with open(f\"{app_folder}/{thisFilename}\", \"w\") as f:\n",
    "        f.write(thisText)\n",
    "\n",
    "    appFilesList.append(thisFilename)"
   ]
  },
  {
   "cell_type": "markdown",
   "metadata": {},
   "source": [
    "#### **app.json** – App Definition\n",
    "Defines the app’s metadata, inputs, parameters, and execution configuration.    "
   ]
  },
  {
   "cell_type": "code",
   "execution_count": 14,
   "metadata": {},
   "outputs": [],
   "source": [
    "if do_makeApp:\n",
    "    thisFilename = 'app.json'\n",
    "    thisText = \"\"\"\\\n",
    "    {\n",
    "      \"id\": \"__app_id__\",\n",
    "      \"name\": \"__app_id__\",\n",
    "      \"version\": \"__app_version__\",\n",
    "      \"description\": \"__app_description__\",\n",
    "      \"owner\": \"${apiUserId}\",\n",
    "    \n",
    "      \"executionSystem\": \"designsafe.community.execution\",\n",
    "      \"deploymentSystem\": \"designsafe.storage.default\",\n",
    "      \"deploymentPath\": \"apps/bash-echo/0.0.2\",\n",
    "      \"templatePath\": \"wrapper.sh\",\n",
    "    \n",
    "      \"executionType\": \"HPC\",\n",
    "      \"runtime\": \"SINGULARITY\",\n",
    "      \"containerImage\": \"docker://rockylinux:9\",\n",
    "    \n",
    "      \"jobType\": \"BATCH\",\n",
    "      \"parallelism\": \"SERIAL\",\n",
    "      \"defaultNodes\": 1,\n",
    "      \"defaultProcessors\": 1,\n",
    "      \"defaultMaxRunTime\": \"00:05:00\",\n",
    "      \"defaultMemory\": \"1GB\",\n",
    "    \n",
    "      \"tags\": [\"utility\", \"env\"],\n",
    "      \"inputs\": [],\n",
    "      \"parameters\": [\n",
    "        {\n",
    "          \"id\": \"SCRIPT\",\n",
    "          \"value\": { \"required\": false, \"default\": \"printenv.sh\", \"type\": \"string\", \"visible\": true }\n",
    "        }\n",
    "      ],\n",
    "      \"archive\": true,\n",
    "      \"archiveOnAppError\": true\n",
    "    }\n",
    "\n",
    "    \"\"\"\n",
    "    thisText = thisText.replace(\"__app_id__\", app_id)\n",
    "    thisText = thisText.replace(\"__app_version__\", app_version)\n",
    "    thisText = thisText.replace(\"__app_description__\", app_description)\n",
    "    thisText = thisText.replace(\"__container_filename_path__\", f\"tapis://{app_system_id}/{app_path}/{container_filename}\")\n",
    "    thisText = thisText.replace(\"__container_filename__\", container_filename)\n",
    "  \n",
    "    with open(f\"{app_folder}/{thisFilename}\", \"w\") as f:\n",
    "        f.write(thisText)\n",
    "\n",
    "    appFilesList.append(thisFilename)"
   ]
  },
  {
   "cell_type": "markdown",
   "metadata": {},
   "source": [
    "#### **profile.json** – Environment Setup\n",
    "This file will load modules before your script runs. This is executed on the compute node."
   ]
  },
  {
   "cell_type": "code",
   "execution_count": 15,
   "metadata": {},
   "outputs": [],
   "source": [
    "if do_makeApp:\n",
    "    thisFilename = 'profile.json'\n",
    "    thisText = \"\"\"\\\n",
    "    {\n",
    "      \"modules\": []\n",
    "    }\n",
    "    \"\"\" \n",
    "    with open(f\"{app_folder}/{thisFilename}\", \"w\") as f:\n",
    "        f.write(thisText)\n",
    "\n",
    "    appFilesList.append(thisFilename)"
   ]
  },
  {
   "cell_type": "markdown",
   "metadata": {},
   "source": [
    "#### **tapisjob_app.sh** – Wrapper Script\n",
    "Wrapper script executed by the job; this is the command that launches your code (e.g., runs *OpenSeesMP*, Python, or a script)"
   ]
  },
  {
   "cell_type": "code",
   "execution_count": 16,
   "metadata": {},
   "outputs": [
    {
     "name": "stdout",
     "output_type": "stream",
     "text": [
      "zip_path /home/jupyter/MyData/myAuthoredTapisApps/get-work-path-test/0.0.7/get-work-path-test.zip\n"
     ]
    }
   ],
   "source": [
    "if do_makeApp:\n",
    "    import textwrap, time\n",
    "    from zipfile import ZipFile, ZIP_DEFLATED, ZipInfo\n",
    "    \n",
    "    thisFilename_sh = \"tapisjob_app.sh\"\n",
    "    thisFilename = container_filename  # existing var\n",
    "\n",
    "\n",
    "    bash_script = textwrap.dedent(\"\"\"\\\n",
    "        #!/bin/bash\n",
    "        set -euo pipefail\n",
    "        set -x\n",
    "\n",
    "        inputDirectory=\"${inputDirectory:?inputDirectory not set}\"\n",
    "        echo \"$inputDirectory\"\n",
    "\n",
    "        # Run the user-provided script path (passed via appArg SCRIPT)\n",
    "        SCRIPT=\"${1:-./printenv.sh}\"\n",
    "        bash \"$SCRIPT\"\n",
    "        \n",
    "    \"\"\")\n",
    "\n",
    "\n",
    "    zip_path = os.path.join(app_folder, thisFilename)\n",
    "    print('zip_path',zip_path)\n",
    "\n",
    "    # write with executable permission inside the ZIP\n",
    "    zi = ZipInfo(thisFilename_sh)\n",
    "    zi.date_time = time.localtime(time.time())[:6]\n",
    "    zi.compress_type = ZIP_DEFLATED\n",
    "    zi.external_attr = 0o100755 << 16   # -rwxr-xr-x on a regular file\n",
    "    \n",
    "    with ZipFile(zip_path, \"w\", ZIP_DEFLATED) as z:\n",
    "        z.writestr(zi, bash_script)\n",
    "        \n",
    "    appFilesList.append(thisFilename)"
   ]
  },
  {
   "cell_type": "markdown",
   "metadata": {},
   "source": [
    "#### File Check\n",
    "Look at the files we have written and check for typos or formatting errors."
   ]
  },
  {
   "cell_type": "code",
   "execution_count": 17,
   "metadata": {
    "scrolled": true
   },
   "outputs": [
    {
     "name": "stdout",
     "output_type": "stream",
     "text": [
      "['ReadMe.MD', 'app.json', 'profile.json', 'get-work-path-test.zip']\n"
     ]
    },
    {
     "data": {
      "text/html": [
       "\n",
       "                      <details style=\"margin-top:1em; font-family:monospace; background:white; \n",
       "                          padding:0.25em; border-radius:6px; border:1px solid #ccc;\">\n",
       "                        <summary style=\"cursor:pointer; font-weight:bold; background:white; \n",
       "                          padding:0.3em 0.5em; border-radius:4px;\">ReadMe.MD</summary>\n",
       "\n",
       "                        <button onclick=\"navigator.clipboard.writeText(document.getElementById('c4f4131155f844888fa024a7cc3a56b7').innerText)\">\n",
       "                          📋 Copy\n",
       "                        </button>\n",
       "                        <pre id=\"c4f4131155f844888fa024a7cc3a56b7\" style=\"white-space:pre-wrap; margin:0.25em 0 0 0; \n",
       "                            background:#d4fbff; padding:.3em; border-radius:5px;\">\n",
       "<b># /home/jupyter/MyData/myAuthoredTapisApps/get-work-path-test/0.0.7/ReadMe.MD</b>\n",
       "    # making a dummy app to get user-and-system-specific work path\n",
       "    </pre>\n",
       "                      </details>\n",
       "                    "
      ],
      "text/plain": [
       "<IPython.core.display.HTML object>"
      ]
     },
     "metadata": {},
     "output_type": "display_data"
    },
    {
     "data": {
      "text/html": [
       "\n",
       "                      <details style=\"margin-top:1em; font-family:monospace; background:white; \n",
       "                          padding:0.25em; border-radius:6px; border:1px solid #ccc;\">\n",
       "                        <summary style=\"cursor:pointer; font-weight:bold; background:white; \n",
       "                          padding:0.3em 0.5em; border-radius:4px;\">app.json</summary>\n",
       "\n",
       "                        <button onclick=\"navigator.clipboard.writeText(document.getElementById('1f116adfd18441948229422f4d3ddce3').innerText)\">\n",
       "                          📋 Copy\n",
       "                        </button>\n",
       "                        <pre id=\"1f116adfd18441948229422f4d3ddce3\" style=\"white-space:pre-wrap; margin:0.25em 0 0 0; \n",
       "                            background:#d4fbff; padding:.3em; border-radius:5px;\">\n",
       "<b># /home/jupyter/MyData/myAuthoredTapisApps/get-work-path-test/0.0.7/app.json</b>\n",
       "    {\n",
       "      \"id\": \"get-work-path-test\",\n",
       "      \"name\": \"get-work-path-test\",\n",
       "      \"version\": \"0.0.7\",\n",
       "      \"description\": \"get work path\",\n",
       "      \"owner\": \"${apiUserId}\",\n",
       "\n",
       "      \"executionSystem\": \"designsafe.community.execution\",\n",
       "      \"deploymentSystem\": \"designsafe.storage.default\",\n",
       "      \"deploymentPath\": \"apps/bash-echo/0.0.2\",\n",
       "      \"templatePath\": \"wrapper.sh\",\n",
       "\n",
       "      \"executionType\": \"HPC\",\n",
       "      \"runtime\": \"SINGULARITY\",\n",
       "      \"containerImage\": \"docker://rockylinux:9\",\n",
       "\n",
       "      \"jobType\": \"BATCH\",\n",
       "      \"parallelism\": \"SERIAL\",\n",
       "      \"defaultNodes\": 1,\n",
       "      \"defaultProcessors\": 1,\n",
       "      \"defaultMaxRunTime\": \"00:05:00\",\n",
       "      \"defaultMemory\": \"1GB\",\n",
       "\n",
       "      \"tags\": [\"utility\", \"env\"],\n",
       "      \"inputs\": [],\n",
       "      \"parameters\": [\n",
       "        {\n",
       "          \"id\": \"SCRIPT\",\n",
       "          \"value\": { \"required\": false, \"default\": \"printenv.sh\", \"type\": \"string\", \"visible\": true }\n",
       "        }\n",
       "      ],\n",
       "      \"archive\": true,\n",
       "      \"archiveOnAppError\": true\n",
       "    }\n",
       "\n",
       "    </pre>\n",
       "                      </details>\n",
       "                    "
      ],
      "text/plain": [
       "<IPython.core.display.HTML object>"
      ]
     },
     "metadata": {},
     "output_type": "display_data"
    },
    {
     "data": {
      "text/html": [
       "\n",
       "                      <details style=\"margin-top:1em; font-family:monospace; background:white; \n",
       "                          padding:0.25em; border-radius:6px; border:1px solid #ccc;\">\n",
       "                        <summary style=\"cursor:pointer; font-weight:bold; background:white; \n",
       "                          padding:0.3em 0.5em; border-radius:4px;\">profile.json</summary>\n",
       "\n",
       "                        <button onclick=\"navigator.clipboard.writeText(document.getElementById('279cd1c7c98b4de58382b1d55ec8409e').innerText)\">\n",
       "                          📋 Copy\n",
       "                        </button>\n",
       "                        <pre id=\"279cd1c7c98b4de58382b1d55ec8409e\" style=\"white-space:pre-wrap; margin:0.25em 0 0 0; \n",
       "                            background:#d4fbff; padding:.3em; border-radius:5px;\">\n",
       "<b># /home/jupyter/MyData/myAuthoredTapisApps/get-work-path-test/0.0.7/profile.json</b>\n",
       "    {\n",
       "      \"modules\": []\n",
       "    }\n",
       "    </pre>\n",
       "                      </details>\n",
       "                    "
      ],
      "text/plain": [
       "<IPython.core.display.HTML object>"
      ]
     },
     "metadata": {},
     "output_type": "display_data"
    }
   ],
   "source": [
    "if do_makeApp:\n",
    "    print(appFilesList)\n",
    "    OpsUtils.show_text_file_in_accordion(app_folder, appFilesList)"
   ]
  },
  {
   "cell_type": "markdown",
   "metadata": {},
   "source": [
    "---\n",
    "## Validate App Locally"
   ]
  },
  {
   "cell_type": "code",
   "execution_count": 18,
   "metadata": {},
   "outputs": [
    {
     "data": {
      "text/html": [
       "\n",
       "                      <details style=\"margin-top:1em; font-family:monospace; background:white; \n",
       "                          padding:0.25em; border-radius:6px; border:1px solid #ccc;\">\n",
       "                        <summary style=\"cursor:pointer; font-weight:bold; background:white; \n",
       "                          padding:0.3em 0.5em; border-radius:4px;\">validate_app_folder.py</summary>\n",
       "\n",
       "                        <button onclick=\"navigator.clipboard.writeText(document.getElementById('ed974d87beef48c1aec4c3c659f934f6').innerText)\">\n",
       "                          📋 Copy\n",
       "                        </button>\n",
       "                        <pre id=\"ed974d87beef48c1aec4c3c659f934f6\" style=\"white-space:pre-wrap; margin:0.25em 0 0 0; \n",
       "                            background:#d4fbff; padding:.3em; border-radius:5px;\">\n",
       "<b># ../OpsUtils/OpsUtils/Tapis/validate_app_folder.py</b>\n",
       "def validate_app_folder(folder, required_files):\n",
       "    \"\"\"\n",
       "    Validate an app deployment folder:\n",
       "      1) Check that all `required_files` exist under `folder`.\n",
       "      2) Parse any `.json` files and merge their objects (later files overwrite earlier keys).\n",
       "      3) Print a concise summary (id, name, version, params/inputs/outputs, top-level keys).\n",
       "\n",
       "    Safe behavior:\n",
       "      - Never raises KeyError for missing identity keys; prints \"(missing)\" instead.\n",
       "      - Handles non-list or malformed `parameters/inputs/outputs` gracefully.\n",
       "\n",
       "    Parameters\n",
       "    ----------\n",
       "    folder : str | os.PathLike\n",
       "        Path to the app/version directory (e.g., \"apps/opensees-mp/1.0/\").\n",
       "    required_files : Iterable[str]\n",
       "        Filenames expected inside `folder` (e.g., [\"app.json\", \"profile.json\", \"tapisjob_app.sh\"]).\n",
       "\n",
       "    Returns\n",
       "    -------\n",
       "    bool\n",
       "        True  -> all required files present and all JSON parsed successfully.\n",
       "        False -> at least one file missing OR a JSON parse error occurred.\n",
       "\n",
       "    Notes\n",
       "    -----\n",
       "    - If multiple JSON files are in `required_files`, later files overwrite earlier keys.\n",
       "    - Only performs **syntactic** JSON validation (no schema validation).\n",
       "    \"\"\"\n",
       "    import os, json\n",
       "    from pathlib import Path\n",
       "\n",
       "    folder_path = Path(folder)\n",
       "    print(f\"🔍 Validating app folder: {folder_path}\\n\")\n",
       "\n",
       "    # 1) Presence check\n",
       "    missing = [f for f in required_files if not (folder_path / f).exists()]\n",
       "    if missing:\n",
       "        print(f\"❌ Missing required files: {missing}\")\n",
       "        return False\n",
       "    else:\n",
       "        print(\"✅ All required files are present.\\n\")\n",
       "\n",
       "    # 2) Parse & merge JSON files\n",
       "    app_def = {}\n",
       "    for fname in required_files:\n",
       "        if Path(fname).suffix.lower() == \".json\":\n",
       "            fpath = folder_path / fname\n",
       "            try:\n",
       "                with fpath.open() as fp:\n",
       "                    obj = json.load(fp)\n",
       "                if isinstance(obj, dict):\n",
       "                    app_def.update(obj)  # later files override earlier keys\n",
       "                else:\n",
       "                    print(f\"❌ {fname} contains JSON that is not an object (dict).\")\n",
       "                    return False\n",
       "            except json.JSONDecodeError as exc:\n",
       "                print(f\"❌ {fname} is not valid JSON: {exc}\")\n",
       "                return False\n",
       "\n",
       "    # 3) Friendly summary (safe lookups)\n",
       "    app_id      = app_def.get(\"id\", \"(missing)\")\n",
       "    app_name    = app_def.get(\"name\", \"(missing)\")\n",
       "    app_version = app_def.get(\"version\", \"(missing)\")\n",
       "\n",
       "    def _collect_ids(val, key=\"id\"):\n",
       "        # Accepts list[dict], dict (single), or anything else -> robust fallback\n",
       "        if isinstance(val, list):\n",
       "            return [str(x.get(key, \"(no-id)\")) for x in val if isinstance(x, dict)]\n",
       "        if isinstance(val, dict):\n",
       "            return [str(val.get(key, \"(no-id)\"))]\n",
       "        return []\n",
       "\n",
       "    param_ids  = _collect_ids(app_def.get(\"parameters\", []), \"id\")\n",
       "    input_ids  = _collect_ids(app_def.get(\"inputs\", []), \"id\")\n",
       "    output_ids = _collect_ids(app_def.get(\"outputs\", []), \"id\")\n",
       "\n",
       "    print(f\"📄 App ID: {app_id}\")\n",
       "    print(f\"📄 App Name: {app_name}\")\n",
       "    print(f\"📄 Version: {app_version}\")\n",
       "    print(f\"🔧 Parameters: {param_ids}\")\n",
       "    print(f\"📦 Inputs: {input_ids}\")\n",
       "    print(f\"📤 Outputs: {output_ids}\")\n",
       "    print(f\"\\nApp Keys: {list(app_def.keys())}\")\n",
       "    print(\"\\n✅ Basic validation complete. App folder looks good!\")\n",
       "    return True\n",
       "</pre>\n",
       "                      </details>\n",
       "                    "
      ],
      "text/plain": [
       "<IPython.core.display.HTML object>"
      ]
     },
     "metadata": {},
     "output_type": "display_data"
    }
   ],
   "source": [
    "if do_makeApp:\n",
    "    OpsUtils.show_text_file_in_accordion(PathOpsUtils, ['validate_app_folder.py'])"
   ]
  },
  {
   "cell_type": "code",
   "execution_count": 19,
   "metadata": {},
   "outputs": [
    {
     "name": "stdout",
     "output_type": "stream",
     "text": [
      "🔍 Validating app folder: /home/jupyter/MyData/myAuthoredTapisApps/get-work-path-test/0.0.7\n",
      "\n",
      "✅ All required files are present.\n",
      "\n",
      "📄 App ID: get-work-path-test\n",
      "📄 App Name: get-work-path-test\n",
      "📄 Version: 0.0.7\n",
      "🔧 Parameters: ['SCRIPT']\n",
      "📦 Inputs: []\n",
      "📤 Outputs: []\n",
      "\n",
      "App Keys: ['id', 'name', 'version', 'description', 'owner', 'executionSystem', 'deploymentSystem', 'deploymentPath', 'templatePath', 'executionType', 'runtime', 'containerImage', 'jobType', 'parallelism', 'defaultNodes', 'defaultProcessors', 'defaultMaxRunTime', 'defaultMemory', 'tags', 'inputs', 'parameters', 'archive', 'archiveOnAppError', 'modules']\n",
      "\n",
      "✅ Basic validation complete. App folder looks good!\n"
     ]
    }
   ],
   "source": [
    "if do_makeApp:\n",
    "    validation = OpsUtils.validate_app_folder(app_folder,appFilesList)\n",
    "    if not validation:\n",
    "        print('Validation Failed: stopping here!!!!')\n",
    "        a = 3/0"
   ]
  },
  {
   "cell_type": "markdown",
   "metadata": {},
   "source": [
    "---\n",
    "## Deploy the App"
   ]
  },
  {
   "cell_type": "markdown",
   "metadata": {},
   "source": [
    "### Make the directory inside your 'MyData' on designsafe.storage.default.\n",
    "The apps in this folder are the ones that area actually uploaded."
   ]
  },
  {
   "cell_type": "code",
   "execution_count": 20,
   "metadata": {},
   "outputs": [
    {
     "name": "stdout",
     "output_type": "stream",
     "text": [
      "app_path silvia/apps/get-work-path-test/0.0.7\n"
     ]
    }
   ],
   "source": [
    "if do_makeApp:\n",
    "    t.files.mkdir(systemId=app_system_id, path=app_path)\n",
    "    print('app_path',app_path)"
   ]
  },
  {
   "cell_type": "markdown",
   "metadata": {},
   "source": [
    "### Upload files to your deployment system (e.g., DesignSafe default storage)\n",
    "Using Tapipy (Python SDK) in a Jupyter Notebook"
   ]
  },
  {
   "cell_type": "code",
   "execution_count": 21,
   "metadata": {},
   "outputs": [],
   "source": [
    "if do_makeApp:\n",
    "    for fname in appFilesList:\n",
    "        fpath = f'{app_folder}/{fname}'\n",
    "        t.upload(source_file_path=fpath,\n",
    "                 system_id=app_system_id,\n",
    "                 dest_file_path=f'{app_path}/{fname}')"
   ]
  },
  {
   "cell_type": "markdown",
   "metadata": {},
   "source": [
    "#### Verify upload"
   ]
  },
  {
   "cell_type": "code",
   "execution_count": 22,
   "metadata": {},
   "outputs": [
    {
     "name": "stdout",
     "output_type": "stream",
     "text": [
      "app_system_id: designsafe.storage.default\n",
      "app_path: silvia/apps/get-work-path-test/0.0.7\n",
      "\n",
      "group: 819066\n",
      "lastModified: 2025-08-20T17:39:09Z\n",
      "mimeType: application/json\n",
      "name: app.json\n",
      "nativePermissions: rw-rw----\n",
      "owner: 843714\n",
      "path: silvia/apps/get-work-path-test/0.0.7/app.json\n",
      "size: 965\n",
      "type: file\n",
      "url: tapis://designsafe.storage.default/silvia/apps/get-work-path-test/0.0.7/app.json\n",
      "\n",
      "\n",
      "group: 819066\n",
      "lastModified: 2025-08-20T17:39:09Z\n",
      "mimeType: application/zip\n",
      "name: get-work-path-test.zip\n",
      "nativePermissions: rw-rw----\n",
      "owner: 843714\n",
      "path: silvia/apps/get-work-path-test/0.0.7/get-work-path-test.zip\n",
      "size: 288\n",
      "type: file\n",
      "url: tapis://designsafe.storage.default/silvia/apps/get-work-path-test/0.0.7/get-work-path-test.zip\n",
      "\n",
      "\n",
      "group: 819066\n",
      "lastModified: 2025-08-20T17:39:09Z\n",
      "mimeType: application/json\n",
      "name: profile.json\n",
      "nativePermissions: rw-rw----\n",
      "owner: 843714\n",
      "path: silvia/apps/get-work-path-test/0.0.7/profile.json\n",
      "size: 36\n",
      "type: file\n",
      "url: tapis://designsafe.storage.default/silvia/apps/get-work-path-test/0.0.7/profile.json\n",
      "\n",
      "\n",
      "group: 819066\n",
      "lastModified: 2025-08-20T17:39:09Z\n",
      "mimeType: text/markdown\n",
      "name: ReadMe.MD\n",
      "nativePermissions: rw-rw----\n",
      "owner: 843714\n",
      "path: silvia/apps/get-work-path-test/0.0.7/ReadMe.MD\n",
      "size: 71\n",
      "type: file\n",
      "url: tapis://designsafe.storage.default/silvia/apps/get-work-path-test/0.0.7/ReadMe.MD\n",
      "\n"
     ]
    }
   ],
   "source": [
    "if do_makeApp:\n",
    "    print('app_system_id:',app_system_id)\n",
    "    print('app_path:',app_path)\n",
    "    appfiles = t.files.listFiles(systemId=app_system_id, path=app_path)\n",
    "    for thisF in appfiles:\n",
    "        print(thisF)\n",
    "        print('')"
   ]
  },
  {
   "cell_type": "markdown",
   "metadata": {},
   "source": [
    "---\n",
    "## Register the App\n",
    "This creates the actual App record that Jobs can run.\n",
    "\n",
    "Do this Using Tapipy (Python)"
   ]
  },
  {
   "cell_type": "code",
   "execution_count": 23,
   "metadata": {},
   "outputs": [],
   "source": [
    "if do_makeApp:\n",
    "    # Create (or create a new version) of the app\n",
    "    with open(f'{app_folder}/app.json') as f:\n",
    "        app_def = json.load(f)\n",
    "    t.apps.createAppVersion(**app_def)"
   ]
  },
  {
   "cell_type": "markdown",
   "metadata": {},
   "source": [
    "### Check that app is up"
   ]
  },
  {
   "cell_type": "markdown",
   "metadata": {},
   "source": [
    "#### List all apps"
   ]
  },
  {
   "cell_type": "code",
   "execution_count": 24,
   "metadata": {},
   "outputs": [
    {
     "name": "stdout",
     "output_type": "stream",
     "text": [
      "--\n",
      "\n",
      "created: 2024-12-13T20:15:33.014747Z\n",
      "description: Run shell commands on remote systems\n",
      "id: shell-runner-1.0.0\n",
      "owner: silvia\n",
      "version: 1.0.0\n",
      "--\n",
      "\n",
      "created: 2024-12-14T15:49:21.510206Z\n",
      "description: Run shell commands on remote systems\n",
      "id: shell-runner\n",
      "owner: silvia\n",
      "version: 1.0.0\n",
      "--\n",
      "\n",
      "created: 2025-08-16T16:51:35.355715Z\n",
      "description: Runs all the processors in parallel. Requires understanding of parallel processing and the capabilities to write parallel scripts.\n",
      "id: opensees-mp-s3-silvia\n",
      "owner: silvia\n",
      "version: latest\n",
      "--\n",
      "\n",
      "created: 2025-08-16T18:53:58.422294Z\n",
      "description: Runs all the processors in parallel. Requires understanding of parallel processing and the capabilities to write parallel scripts.\n",
      "id: opensees-mp-s3-silvia-new\n",
      "owner: silvia\n",
      "version: latest\n",
      "--\n",
      "\n",
      "created: 2025-08-17T22:34:01.193589Z\n",
      "description: Runs all the processors in parallel. Requires understanding of parallel processing and the capabilities to write parallel scripts.\n",
      "id: opensees-mp-s3-copy-silvia\n",
      "owner: silvia\n",
      "version: 0.0.2\n",
      "--\n",
      "\n",
      "created: 2025-08-20T14:44:30.901841Z\n",
      "description: Runs all the processors in parallel. Requires understanding of parallel processing and the capabilities to write parallel scripts.\n",
      "id: opensees-mp-s3-copy-mine\n",
      "owner: silvia\n",
      "version: 0.0.4\n",
      "--\n",
      "\n",
      "created: 2025-08-18T02:18:22.973797Z\n",
      "description: Run either OpenSeesSP or OpenSeesMP\n",
      "id: opensees-tcl-mine\n",
      "owner: silvia\n",
      "version: 0.0.1\n",
      "--\n",
      "\n",
      "created: 2025-08-18T04:35:56.608017Z\n",
      "description: Run any OpenSees\n",
      "id: opensees-agnostic\n",
      "owner: silvia\n",
      "version: 0.0.5\n",
      "--\n",
      "\n",
      "created: 2025-08-18T06:19:28.859427Z\n",
      "description: Run any OpenSees\n",
      "id: opensees-agnostic2\n",
      "owner: silvia\n",
      "version: 0.0.3\n",
      "--\n",
      "\n",
      "created: 2025-08-20T04:17:18.959161Z\n",
      "description: Run any Executable\n",
      "id: agnostic-app-test\n",
      "owner: silvia\n",
      "version: 0.0.23\n",
      "--\n",
      "\n",
      "created: 2025-08-20T17:39:09.191106Z\n",
      "description: get work path\n",
      "id: get-work-path-test\n",
      "owner: silvia\n",
      "version: 0.0.7\n"
     ]
    }
   ],
   "source": [
    "listType = 'ALL' # Include all items requester is authorized to view. Includes check for READ or MODIFY permission.\n",
    "select = 'id,created,description,version,owner' # Attributes to return in each result.\n",
    "orderBy = 'created(asc)'\n",
    "results = t.apps.getApps( orderBy=orderBy,\n",
    "                         select=select)  \n",
    "for thisRes in results:\n",
    "    print('--')\n",
    "    print(thisRes)"
   ]
  },
  {
   "cell_type": "markdown",
   "metadata": {},
   "source": [
    "#### List the new app"
   ]
  },
  {
   "cell_type": "code",
   "execution_count": 25,
   "metadata": {},
   "outputs": [
    {
     "name": "stdout",
     "output_type": "stream",
     "text": [
      "\n",
      "containerImage: docker://rockylinux:9\n",
      "created: 2025-08-20T17:39:09.191106Z\n",
      "deleted: False\n",
      "description: get work path\n",
      "enabled: True\n",
      "id: get-work-path-test\n",
      "isPublic: False\n",
      "jobAttributes: \n",
      "archiveOnAppError: False\n",
      "archiveSystemDir: None\n",
      "archiveSystemId: None\n",
      "cmdPrefix: None\n",
      "coresPerNode: 1\n",
      "description: None\n",
      "dtnSystemInputDir: !tapis_not_set\n",
      "dtnSystemOutputDir: !tapis_not_set\n",
      "dynamicExecSystem: False\n",
      "execSystemConstraints: None\n",
      "execSystemExecDir: None\n",
      "execSystemId: None\n",
      "execSystemInputDir: None\n",
      "execSystemLogicalQueue: None\n",
      "execSystemOutputDir: None\n",
      "fileInputArrays: []\n",
      "fileInputs: []\n",
      "isMpi: False\n",
      "maxMinutes: 10\n",
      "memoryMB: 100\n",
      "mpiCmd: None\n",
      "nodeCount: 1\n",
      "parameterSet: \n",
      "appArgs: []\n",
      "archiveFilter: \n",
      "excludes: []\n",
      "includeLaunchFiles: True\n",
      "includes: []\n",
      "containerArgs: []\n",
      "envVariables: []\n",
      "logConfig: \n",
      "stderrFilename: \n",
      "stdoutFilename: \n",
      "schedulerOptions: []\n",
      "subscriptions: []\n",
      "tags: []\n",
      "jobType: BATCH\n",
      "locked: False\n",
      "maxJobs: 2147483647\n",
      "maxJobsPerUser: 2147483647\n",
      "notes: \n",
      "\n",
      "owner: silvia\n",
      "runtime: SINGULARITY\n",
      "runtimeOptions: None\n",
      "runtimeVersion: None\n",
      "sharedAppCtx: silvia\n",
      "sharedWithUsers: []\n",
      "strictFileInputs: False\n",
      "tags: ['utility', 'env']\n",
      "tenant: designsafe\n",
      "updated: 2025-08-20T17:39:09.191106Z\n",
      "uuid: 85a77fd4-c734-454a-b20e-b3e85c6438c8\n",
      "version: 0.0.7\n",
      "versionEnabled: True\n"
     ]
    }
   ],
   "source": [
    "appMetaData = t.apps.getAppLatestVersion(appId=app_id)\n",
    "print(appMetaData)"
   ]
  },
  {
   "cell_type": "markdown",
   "metadata": {},
   "source": [
    "---\n",
    "## Submit a Job\n",
    "\n",
    "You can now submit a job using this app. You can use the Tapis CLI, Tapipy, or a web form.\n",
    "\n",
    "We are using TapiPy directly from this notebook. We will not specify a version so that the latest is used by default in the description."
   ]
  },
  {
   "cell_type": "markdown",
   "metadata": {},
   "source": [
    "---\n",
    "### Initialize"
   ]
  },
  {
   "cell_type": "code",
   "execution_count": 26,
   "metadata": {},
   "outputs": [],
   "source": [
    "tapisInputAll = {}"
   ]
  },
  {
   "cell_type": "markdown",
   "metadata": {},
   "source": [
    "---\n",
    "### SLURM-Specific Input"
   ]
  },
  {
   "cell_type": "code",
   "execution_count": 27,
   "metadata": {},
   "outputs": [],
   "source": [
    "tapisInputAll[\"maxMinutes\"] = 1\n",
    "\n",
    "tapisInputAll[\"execSystemId\"] = \"stampede3\"\n",
    "tapisInputAll[\"execSystemLogicalQueue\"] = \"skx-dev\"\n",
    "tapisInputAll[\"nodeCount\"] = 1\n",
    "tapisInputAll[\"coresPerNode\"] = 48\n",
    "tapisInputAll[\"allocation\"] = \"DS-HPC1\"\n",
    "\n",
    "tapisInputAll['archive_system']='Work' # Options: MyData or Work"
   ]
  },
  {
   "cell_type": "markdown",
   "metadata": {},
   "source": [
    "---\n",
    "### App-Specific Input"
   ]
  },
  {
   "cell_type": "code",
   "execution_count": 28,
   "metadata": {},
   "outputs": [
    {
     "name": "stdout",
     "output_type": "stream",
     "text": [
      "app_id: get-work-path-test\n"
     ]
    }
   ],
   "source": [
    "print('app_id:',app_id)"
   ]
  },
  {
   "cell_type": "code",
   "execution_count": 29,
   "metadata": {},
   "outputs": [],
   "source": [
    "\n",
    "\n",
    "# tapisInput['storage_system'] = 'CommunityData'\n",
    "# tapisInput['input_folder'] = 'OpenSees/TrainingMaterial/training-OpenSees-on-DesignSafe/Examples_OpenSees/BasicExamples' \n",
    "\n",
    "\n",
    "# # -----------------------------------------------------\n",
    "# if do_submitJob:\n",
    "#     here_tapisInput = tapisInput.copy()\n",
    "#     here_tapisInput[\"appId\"] = app_id \n",
    "#     here_tapisInput[\"name\"] = here_tapisInput[\"appId\"]\n",
    "#     print(f'\\n -- {here_tapisInput['name']} --\\n')\n",
    "#     jobReturns = OpsUtils.run_tapis_job(t,here_tapisInput,get_job_metadata=True,get_job_history=True,get_job_filedata=True,askConfirmJob = False,askConfirmMonitorRT = False)\n",
    "# # -----------------------------------------------------"
   ]
  },
  {
   "cell_type": "code",
   "execution_count": 30,
   "metadata": {},
   "outputs": [],
   "source": [
    "   \n",
    "# from tapipy.tapis import TapisResult\n",
    "# appMetaData = t.apps.getAppLatestVersion(appId=app_id)\n",
    "# app_MetaData = appMetaData.__dict__\n",
    "# print(app_MetaData.keys())\n",
    "# app_jobAttributes = app_MetaData['jobAttributes'].__dict__\n",
    "# print('app_jobAttributes',app_jobAttributes.keys())\n",
    "# app_parameterSet = app_jobAttributes['parameterSet'].__dict__\n",
    "# print('app_parameterSet',app_parameterSet.keys())\n",
    "# # app_appArgs = app_parameterSet['appArgs']\n",
    "# # app_envVariables = app_parameterSet['envVariables']\n",
    "# for app_key in ['appArgs','envVariables']:\n",
    "#     print('app_key',app_key)\n",
    "#     app_Dict = app_parameterSet[app_key]\n",
    "#     print(app_Dict)\n",
    "# for app_key in ['fileInputs']:\n",
    "#     print('app_key',app_key)\n",
    "#     app_Dict = app_jobAttributes[app_key]\n",
    "#     print(app_Dict)\n",
    "    \n",
    "\n",
    "# job_description = {'name':'getWork'}\n",
    "# job_description[\"appId\"] = app_id\n",
    "# job_description[\"appVersion\"] = app_version\n",
    "# here_tapisInput = tapisInputAll.copy()\n",
    "# here_tapisInput['storage_system'] = 'CommunityData'\n",
    "# here_tapisInput['input_folder'] = 'OpenSees/TrainingMaterial/training-OpenSees-on-DesignSafe/Examples_OpenSees/BasicExamples' \n"
   ]
  },
  {
   "cell_type": "code",
   "execution_count": 33,
   "metadata": {},
   "outputs": [],
   "source": [
    "job_def = {\n",
    "    \"name\": \"print-work\",\n",
    "    \"appId\": \"bash-echo\",\n",
    "    \"appVersion\": \"0.0.2\",\n",
    "    \"archiveSystemId\": \"designsafe.storage.default\",\n",
    "    \"archiveSystemDir\": f\"/{t.username}/tapis/jobs/print-work-${{JobUUID}}\",\n",
    "    \"fileInputs\": [\n",
    "        {\n",
    "            \"sourceUrl\": f\"tapis://designsafe.storage.default/{t.username}/tapis/printenv/printenv.sh\",\n",
    "            \"targetPath\": \".\"\n",
    "        }\n",
    "    ],\n",
    "    \"parameterSet\": {\n",
    "        \"appArgs\": [ { \"name\": \"SCRIPT\", \"value\": \"./printenv.sh\" } ],\n",
    "        \"envVariables\": []\n",
    "    }\n",
    "}\n",
    "tapisInput = {}"
   ]
  },
  {
   "cell_type": "code",
   "execution_count": 35,
   "metadata": {},
   "outputs": [
    {
     "name": "stdin",
     "output_type": "stream",
     "text": [
      "Are you sure you want to submit the job? (press n to cancel, any key to confirm):  \n"
     ]
    },
    {
     "name": "stdout",
     "output_type": "stream",
     "text": [
      "Submitting Job\n"
     ]
    },
    {
     "ename": "BadRequestError",
     "evalue": "message: NET_REQUEST_PAYLOAD_ERROR Error accessing payload for submitJob request: TAPIS_JSON_VALIDATION_ERROR JSON validation error: TAPIS_JSON_VALIDATION_FAILURE JSON validation error: #/parameterSet/appArgs/0: 2 schema violations found  #1#/parameterSet/appArgs/0: required key [arg] not found #2#/parameterSet/appArgs/0: extraneous key [value] is not permitted",
     "output_type": "error",
     "traceback": [
      "\u001b[31m---------------------------------------------------------------------------\u001b[39m",
      "\u001b[31mBadRequestError\u001b[39m                           Traceback (most recent call last)",
      "\u001b[36mCell\u001b[39m\u001b[36m \u001b[39m\u001b[32mIn[35]\u001b[39m\u001b[32m, line 1\u001b[39m\n\u001b[32m----> \u001b[39m\u001b[32m1\u001b[39m \u001b[43mOpsUtils\u001b[49m\u001b[43m.\u001b[49m\u001b[43mrun_tapis_job\u001b[49m\u001b[43m(\u001b[49m\u001b[43mt\u001b[49m\u001b[43m,\u001b[49m\u001b[43mtapisInput\u001b[49m\u001b[43m,\u001b[49m\u001b[43mjob_description\u001b[49m\u001b[43m \u001b[49m\u001b[43m=\u001b[49m\u001b[43m \u001b[49m\u001b[43mjob_def\u001b[49m\u001b[43m)\u001b[49m\n",
      "\u001b[36mFile \u001b[39m\u001b[32m~/MyData/_ToCommunityData/OpenSees/TrainingMaterial/training-OpenSees-on-DesignSafe/Jupyter_Notebooks/../OpsUtils/OpsUtils/Tapis/run_tapis_job.py:105\u001b[39m, in \u001b[36mrun_tapis_job\u001b[39m\u001b[34m(t, tapisInput, askConfirmJob, monitor_job, askConfirmMonitorRT, get_job_history, get_job_metadata, get_job_filedata, job_description)\u001b[39m\n\u001b[32m    102\u001b[39m \u001b[38;5;28;01mif\u001b[39;00m job_description == -\u001b[32m1\u001b[39m:\n\u001b[32m    103\u001b[39m     \u001b[38;5;28;01mreturn\u001b[39;00m {\u001b[33m\"\u001b[39m\u001b[33mrunJobStatus\u001b[39m\u001b[33m\"\u001b[39m: \u001b[33m\"\u001b[39m\u001b[33mIncomplete\u001b[39m\u001b[33m\"\u001b[39m}\n\u001b[32m--> \u001b[39m\u001b[32m105\u001b[39m returnDict = \u001b[43mOpsUtils\u001b[49m\u001b[43m.\u001b[49m\u001b[43msubmit_tapis_job\u001b[49m\u001b[43m(\u001b[49m\u001b[43mt\u001b[49m\u001b[43m,\u001b[49m\u001b[43m \u001b[49m\u001b[43mjob_description\u001b[49m\u001b[43m,\u001b[49m\u001b[43m \u001b[49m\u001b[43maskConfirmJob\u001b[49m\u001b[43m)\u001b[49m\n\u001b[32m    107\u001b[39m \u001b[38;5;28;01mif\u001b[39;00m returnDict.get(\u001b[33m\"\u001b[39m\u001b[33mrunJobStatus\u001b[39m\u001b[33m\"\u001b[39m) == \u001b[33m\"\u001b[39m\u001b[33mFinished\u001b[39m\u001b[33m\"\u001b[39m:\n\u001b[32m    108\u001b[39m     \u001b[38;5;28mprint\u001b[39m(\u001b[33m\"\u001b[39m\u001b[33mjob_start_time:\u001b[39m\u001b[33m\"\u001b[39m, returnDict.get(\u001b[33m\"\u001b[39m\u001b[33mjob_start_time\u001b[39m\u001b[33m\"\u001b[39m))\n",
      "\u001b[36mFile \u001b[39m\u001b[32m~/MyData/_ToCommunityData/OpenSees/TrainingMaterial/training-OpenSees-on-DesignSafe/Jupyter_Notebooks/../OpsUtils/OpsUtils/Tapis/submit_tapis_job.py:83\u001b[39m, in \u001b[36msubmit_tapis_job\u001b[39m\u001b[34m(t, job_description, askConfirmJob)\u001b[39m\n\u001b[32m     80\u001b[39m \u001b[38;5;28;01melse\u001b[39;00m:\n\u001b[32m     81\u001b[39m     \u001b[38;5;66;03m# Submit job\u001b[39;00m\n\u001b[32m     82\u001b[39m     \u001b[38;5;28mprint\u001b[39m(\u001b[33m\"\u001b[39m\u001b[33mSubmitting Job\u001b[39m\u001b[33m\"\u001b[39m)\n\u001b[32m---> \u001b[39m\u001b[32m83\u001b[39m     submitted_job = \u001b[43mt\u001b[49m\u001b[43m.\u001b[49m\u001b[43mjobs\u001b[49m\u001b[43m.\u001b[49m\u001b[43msubmitJob\u001b[49m\u001b[43m(\u001b[49m\u001b[43m*\u001b[49m\u001b[43m*\u001b[49m\u001b[43mjob_description\u001b[49m\u001b[43m)\u001b[49m\n\u001b[32m     84\u001b[39m     jobUuid = submitted_job.uuid\n\u001b[32m     85\u001b[39m     \u001b[38;5;28mprint\u001b[39m(\u001b[33mf\u001b[39m\u001b[33m\"\u001b[39m\u001b[33mJob submitted! ID: \u001b[39m\u001b[38;5;132;01m{\u001b[39;00mjobUuid\u001b[38;5;132;01m}\u001b[39;00m\u001b[33m\"\u001b[39m)\n",
      "\u001b[36mFile \u001b[39m\u001b[32m/opt/conda/lib/python3.12/site-packages/tapipy/util.py:152\u001b[39m, in \u001b[36mretriable.<locals>.wrapper\u001b[39m\u001b[34m(self, _config, *args, **kwargs)\u001b[39m\n\u001b[32m    145\u001b[39m             retry_delay_sec = backoff(\n\u001b[32m    146\u001b[39m                 retry_delay_sec,\n\u001b[32m    147\u001b[39m                 algo=retry_backoff_algo,\n\u001b[32m    148\u001b[39m                 exponent=retry_backoff_exponent\n\u001b[32m    149\u001b[39m             )\n\u001b[32m    150\u001b[39m             \u001b[38;5;28;01mcontinue\u001b[39;00m\n\u001b[32m--> \u001b[39m\u001b[32m152\u001b[39m         \u001b[38;5;28;01mraise\u001b[39;00m exception\n\u001b[32m    154\u001b[39m \u001b[38;5;28;01mraise\u001b[39;00m exception\n",
      "\u001b[36mFile \u001b[39m\u001b[32m/opt/conda/lib/python3.12/site-packages/tapipy/util.py:138\u001b[39m, in \u001b[36mretriable.<locals>.wrapper\u001b[39m\u001b[34m(self, _config, *args, **kwargs)\u001b[39m\n\u001b[32m    136\u001b[39m \u001b[38;5;28;01mwhile\u001b[39;00m retries >= \u001b[32m0\u001b[39m:\n\u001b[32m    137\u001b[39m     \u001b[38;5;28;01mtry\u001b[39;00m:\n\u001b[32m--> \u001b[39m\u001b[32m138\u001b[39m         \u001b[38;5;28;01mreturn\u001b[39;00m \u001b[43mop__call__\u001b[49m\u001b[43m(\u001b[49m\u001b[38;5;28;43mself\u001b[39;49m\u001b[43m,\u001b[49m\u001b[43m \u001b[49m\u001b[43m*\u001b[49m\u001b[43margs\u001b[49m\u001b[43m,\u001b[49m\u001b[43m \u001b[49m\u001b[43m*\u001b[49m\u001b[43m*\u001b[49m\u001b[43mkwargs\u001b[49m\u001b[43m)\u001b[49m\n\u001b[32m    139\u001b[39m     \u001b[38;5;28;01mexcept\u001b[39;00m \u001b[38;5;167;01mException\u001b[39;00m \u001b[38;5;28;01mas\u001b[39;00m e:\n\u001b[32m    140\u001b[39m         exception = e\n",
      "\u001b[36mFile \u001b[39m\u001b[32m/opt/conda/lib/python3.12/site-packages/tapipy/tapis.py:1288\u001b[39m, in \u001b[36mOperation.__call__\u001b[39m\u001b[34m(self, **kwargs)\u001b[39m\n\u001b[32m   1286\u001b[39m \u001b[38;5;66;03m# for any kind of non-20x response, we need to raise an error.\u001b[39;00m\n\u001b[32m   1287\u001b[39m \u001b[38;5;28;01mif\u001b[39;00m resp.status_code == \u001b[32m400\u001b[39m:\n\u001b[32m-> \u001b[39m\u001b[32m1288\u001b[39m     \u001b[38;5;28;01mraise\u001b[39;00m errors.BadRequestError(msg=error_msg, version=version, request=r, response=resp)\n\u001b[32m   1289\u001b[39m \u001b[38;5;28;01mif\u001b[39;00m resp.status_code == \u001b[32m401\u001b[39m:\n\u001b[32m   1290\u001b[39m     \u001b[38;5;28;01mraise\u001b[39;00m errors.UnauthorizedError(msg=error_msg, version=version, request=r, response=resp)\n",
      "\u001b[31mBadRequestError\u001b[39m: message: NET_REQUEST_PAYLOAD_ERROR Error accessing payload for submitJob request: TAPIS_JSON_VALIDATION_ERROR JSON validation error: TAPIS_JSON_VALIDATION_FAILURE JSON validation error: #/parameterSet/appArgs/0: 2 schema violations found  #1#/parameterSet/appArgs/0: required key [arg] not found #2#/parameterSet/appArgs/0: extraneous key [value] is not permitted"
     ]
    }
   ],
   "source": [
    "OpsUtils.run_tapis_job(t,tapisInput,job_description = job_def)"
   ]
  },
  {
   "cell_type": "code",
   "execution_count": null,
   "metadata": {},
   "outputs": [],
   "source": []
  }
 ],
 "metadata": {
  "IMAGE_NAME": "taccsciapps/ds-nb-img:base-0.2.3",
  "UUID": "73e0880d-9b87-11ec-9c1c-13579dd95994",
  "celltoolbar": "Raw Cell Format",
  "kernelspec": {
   "display_name": "Python 3 (ipykernel)",
   "language": "python",
   "name": "python3"
  },
  "language_info": {
   "codemirror_mode": {
    "name": "ipython",
    "version": 3
   },
   "file_extension": ".py",
   "mimetype": "text/x-python",
   "name": "python",
   "nbconvert_exporter": "python",
   "pygments_lexer": "ipython3",
   "version": "3.12.11"
  }
 },
 "nbformat": 4,
 "nbformat_minor": 4
}
