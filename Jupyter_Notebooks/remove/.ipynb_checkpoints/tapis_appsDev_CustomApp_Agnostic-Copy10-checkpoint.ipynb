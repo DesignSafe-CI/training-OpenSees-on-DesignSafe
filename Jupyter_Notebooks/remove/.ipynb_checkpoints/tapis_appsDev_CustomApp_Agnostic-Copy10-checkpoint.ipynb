{
 "cells": [
  {
   "cell_type": "markdown",
   "metadata": {},
   "source": [
    "<a class=\"reference external\" \n",
    "    href=\"https://jupyter.designsafe-ci.org/hub/user-redirect/lab/tree/CommunityData/OpenSees/TrainingMaterial/training-OpenSees-on-DesignSafe/Jupyter_Notebooks/tapis_appsDev_CustomApp_opsmps3copy.ipynb\" \n",
    "    target=\"_blank\"\n",
    "    >\n",
    "<img alt=\"Try on DesignSafe\" src=\"https://raw.githubusercontent.com/DesignSafe-Training/pinn/main/DesignSafe-Badge.svg\" /></a>"
   ]
  },
  {
   "cell_type": "markdown",
   "metadata": {},
   "source": [
    "# Agnostic App  📒\n",
    "***Create your own Tapis App***\n",
    "\n",
    "by Silvia Mazzoni, DesignSafe, 2025\n",
    "\n",
    "This is a step-by-step guide to help you write your own **Tapis v3 App** — from defining the app, to registering it, and running it. \n",
    "\n",
    "This is a practical walkthrough for defining and deploying an **HPC** app using the Tapis v3 API.\n",
    "\n",
    "In this notebook we will modify the opensees-mp-s3 for OpenSeesMP or OpenSeesSP, etc.\n",
    "\n",
    "## Workflow\n",
    "\n",
    "| Step                        | Description                                                         |\n",
    "| --------------------------- | ------------------------------------------------------------------- |\n",
    "| 1. Create *app.json*        | Describes the app, its inputs, execution system, and wrapper script |\n",
    "| 2. Create *tapisjob_app.sh* | Runs your analysis (e.g., ibrun OpenSees main.tcl)                  |\n",
    "| 2a. Zip *tapisjob_app.sh* | It needs a zip file!                  |\n",
    "| 3. Create *profile.json*    | (Optional) Loads modules/environment                                |\n",
    "| 4. Upload Files             | To the deployment path in your storage system                       |\n",
    "| 5. Register App             | With Tapis via CLI or Python                                        |\n",
    "| 6. Submit Job               | Define `job.json` and submit                                        |"
   ]
  },
  {
   "cell_type": "code",
   "execution_count": 1,
   "metadata": {},
   "outputs": [
    {
     "data": {
      "text/plain": [
       "'/home/jupyter/MyData/_ToCommunityData/OpenSees/TrainingMaterial/training-OpenSees-on-DesignSafe/Jupyter_Notebooks'"
      ]
     },
     "execution_count": 1,
     "metadata": {},
     "output_type": "execute_result"
    }
   ],
   "source": [
    "pwd"
   ]
  },
  {
   "cell_type": "code",
   "execution_count": 2,
   "metadata": {},
   "outputs": [],
   "source": [
    "import json"
   ]
  },
  {
   "cell_type": "code",
   "execution_count": 3,
   "metadata": {},
   "outputs": [
    {
     "name": "stdout",
     "output_type": "stream",
     "text": [
      "Using local utilities library\n"
     ]
    }
   ],
   "source": [
    "# Local Utilities Library\n",
    "# you can remove the logic associated with the local path\n",
    "import sys,os\n",
    "relativePath = '../OpsUtils'\n",
    "if os.path.exists(relativePath):\n",
    "    print(\"Using local utilities library\")\n",
    "    PathOpsUtils = os.path.expanduser(relativePath)\n",
    "else:\n",
    "    print('using communitydata')\n",
    "    PathOpsUtils = os.path.expanduser('~/CommunityData/OpenSees/TrainingMaterial/training-OpenSees-on-DesignSafe/OpsUtils')\n",
    "if not PathOpsUtils in sys.path: sys.path.append(PathOpsUtils)\n",
    "from OpsUtils import OpsUtils"
   ]
  },
  {
   "cell_type": "markdown",
   "metadata": {},
   "source": [
    "---\n",
    "## Connect to Tapis"
   ]
  },
  {
   "cell_type": "code",
   "execution_count": 4,
   "metadata": {},
   "outputs": [
    {
     "name": "stdout",
     "output_type": "stream",
     "text": [
      " -- Checking Tapis token --\n",
      " Token loaded from file. Token is still valid!\n",
      " Token expires at: 2025-08-20T01:34:27+00:00\n",
      " Token expires in: 2:37:21.595649\n",
      "-- LOG IN SUCCESSFUL! --\n"
     ]
    }
   ],
   "source": [
    "t=OpsUtils.connect_tapis()"
   ]
  },
  {
   "cell_type": "markdown",
   "metadata": {},
   "source": [
    "---\n",
    "### Get username"
   ]
  },
  {
   "cell_type": "code",
   "execution_count": 5,
   "metadata": {},
   "outputs": [
    {
     "data": {
      "text/html": [
       "\n",
       "                      <details style=\"margin-top:1em; font-family:monospace; background:white; \n",
       "                          padding:0.25em; border-radius:6px; border:1px solid #ccc;\">\n",
       "                        <summary style=\"cursor:pointer; font-weight:bold; background:white; \n",
       "                          padding:0.3em 0.5em; border-radius:4px;\">get_tapis_username.py</summary>\n",
       "\n",
       "                        <button onclick=\"navigator.clipboard.writeText(document.getElementById('64fcf3e2450344dda350287a63289b0c').innerText)\">\n",
       "                          📋 Copy\n",
       "                        </button>\n",
       "                        <pre id=\"64fcf3e2450344dda350287a63289b0c\" style=\"white-space:pre-wrap; margin:0.25em 0 0 0; \n",
       "                            background:#d4fbff; padding:.3em; border-radius:5px;\">\n",
       "<b># ../OpsUtils/OpsUtils/Tapis/get_tapis_username.py</b>\n",
       "def get_tapis_username(\n",
       "    t,\n",
       "    *,\n",
       "    prefer_userinfo: bool = True,\n",
       "    fallback_to_token: bool = True,\n",
       "    default=None,\n",
       "    verbose: bool = False,\n",
       "):\n",
       "    \"\"\"\n",
       "    Return the Tapis username from an authenticated client `t`, with safe fallbacks.\n",
       "\n",
       "    Resolution order (robust to Tapipy resource objects and dicts):\n",
       "      1) userinfo endpoint (if available):\n",
       "         t.authenticator.get_userinfo().username\n",
       "      2) client attribute:\n",
       "         getattr(t, \"username\", None)\n",
       "      3) token claims (if fallback_to_token=True):\n",
       "         - t.access_token.claims.get(\"tapis/username\") or \"username\"\n",
       "         - t.tokens.validateToken()[\"tapis/username\"] (as a last resort)\n",
       "\n",
       "    Parameters\n",
       "    ----------\n",
       "    t : tapipy.tapis.Tapis\n",
       "        Authenticated Tapis client.\n",
       "    prefer_userinfo : bool, default True\n",
       "        Try `t.authenticator.get_userinfo()` first. Some managed hubs disable this;\n",
       "        if it fails, the function silently falls back.\n",
       "    fallback_to_token : bool, default True\n",
       "        Allow using access-token claims or `validateToken()` as a fallback.\n",
       "    default : Any, default None\n",
       "        Value to return if no username can be determined.\n",
       "    verbose : bool, default False\n",
       "        If True, print brief hints when a resolution step fails.\n",
       "\n",
       "    Returns\n",
       "    -------\n",
       "    str | Any\n",
       "        The resolved username (e.g., \"silvia\"), or `default` if none found.\n",
       "\n",
       "    Notes\n",
       "    -----\n",
       "    - Some deployments restrict the userinfo endpoint; token claims usually work.\n",
       "    - If you always want a strict failure when username can't be found, set\n",
       "      `default=None` (the default) and check for `None` at the call site.\n",
       "\n",
       "    Examples\n",
       "    --------\n",
       "    >>> u = get_tapis_username(t)\n",
       "    >>> if u is None:\n",
       "    ...     raise RuntimeError(\"No Tapis username available\")\n",
       "    ... \n",
       "    >>> print(\"Running as:\", u)\n",
       "    \"\"\"\n",
       "    # 1) userinfo (preferred)\n",
       "    if prefer_userinfo:\n",
       "        try:\n",
       "            ui = t.authenticator.get_userinfo()\n",
       "            uname = getattr(ui, \"username\", None)\n",
       "            if not uname and isinstance(ui, dict):\n",
       "                uname = ui.get(\"username\")\n",
       "            if uname:\n",
       "                return uname\n",
       "            if verbose:\n",
       "                print(\"userinfo returned no 'username'; falling back…\")\n",
       "        except Exception as e:\n",
       "            if verbose:\n",
       "                print(f\"userinfo unavailable: {e}; falling back…\")\n",
       "\n",
       "    # 2) client attribute\n",
       "    try:\n",
       "        uname = getattr(t, \"username\", None)\n",
       "        if uname:\n",
       "            return uname\n",
       "    except Exception:\n",
       "        pass\n",
       "\n",
       "    # 3) token claims (optional)\n",
       "    if fallback_to_token:\n",
       "        # 3a) direct claims on access_token (common in Tapipy)\n",
       "        try:\n",
       "            claims = getattr(getattr(t, \"access_token\", None), \"claims\", None)\n",
       "            if isinstance(claims, dict):\n",
       "                uname = claims.get(\"tapis/username\") or claims.get(\"username\")\n",
       "                if uname:\n",
       "                    return uname\n",
       "        except Exception as e:\n",
       "            if verbose:\n",
       "                print(f\"access_token.claims unavailable: {e}\")\n",
       "\n",
       "        # 3b) validateToken() call\n",
       "        try:\n",
       "            tok = t.tokens.validateToken()\n",
       "            if isinstance(tok, dict):\n",
       "                uname = tok.get(\"tapis/username\") or tok.get(\"username\")\n",
       "                if uname:\n",
       "                    return uname\n",
       "        except Exception as e:\n",
       "            if verbose:\n",
       "                print(f\"tokens.validateToken failed: {e}\")\n",
       "\n",
       "    # Nothing worked\n",
       "    return default\n",
       "</pre>\n",
       "                      </details>\n",
       "                    "
      ],
      "text/plain": [
       "<IPython.core.display.HTML object>"
      ]
     },
     "metadata": {},
     "output_type": "display_data"
    }
   ],
   "source": [
    "OpsUtils.show_text_file_in_accordion(PathOpsUtils, ['get_tapis_username.py'])"
   ]
  },
  {
   "cell_type": "code",
   "execution_count": 6,
   "metadata": {},
   "outputs": [
    {
     "name": "stdout",
     "output_type": "stream",
     "text": [
      "username silvia\n"
     ]
    }
   ],
   "source": [
    "username = OpsUtils.get_tapis_username(t)\n",
    "print('username',username)"
   ]
  },
  {
   "cell_type": "code",
   "execution_count": 7,
   "metadata": {},
   "outputs": [],
   "source": [
    "## Define actions!"
   ]
  },
  {
   "cell_type": "code",
   "execution_count": 8,
   "metadata": {},
   "outputs": [],
   "source": [
    "# Make these True once you are done validating\n",
    "do_makeApp = True\n",
    "do_submitJob = True"
   ]
  },
  {
   "cell_type": "markdown",
   "metadata": {},
   "source": [
    "---\n",
    "## Configure App"
   ]
  },
  {
   "cell_type": "code",
   "execution_count": 9,
   "metadata": {},
   "outputs": [],
   "source": [
    "app_id = 'agnostic-app-test'\n",
    "app_description = 'Run any Executable'"
   ]
  },
  {
   "cell_type": "markdown",
   "metadata": {},
   "source": [
    "### AutoIncrement app_version"
   ]
  },
  {
   "cell_type": "code",
   "execution_count": 10,
   "metadata": {},
   "outputs": [
    {
     "name": "stdout",
     "output_type": "stream",
     "text": [
      "now latest_app_version 0.0.18\n",
      "now app_version 0.0.19\n"
     ]
    }
   ],
   "source": [
    "if do_makeApp:\n",
    "    latest_app_version = OpsUtils.get_latest_app_version(t,app_id)\n",
    "    print('now latest_app_version',latest_app_version)\n",
    "    app_version = OpsUtils.bump_app_version(latest_app_version,'patch')\n",
    "    print('now app_version',app_version)"
   ]
  },
  {
   "cell_type": "markdown",
   "metadata": {},
   "source": [
    "### Where to store the files"
   ]
  },
  {
   "cell_type": "code",
   "execution_count": 11,
   "metadata": {},
   "outputs": [],
   "source": [
    "if do_makeApp:\n",
    "    app_system_id=\"designsafe.storage.default\"\n",
    "    app_path = f\"{username}/apps/{app_id}/{app_version}\"\n",
    "    container_filename = f'{app_id}.zip'"
   ]
  },
  {
   "cell_type": "markdown",
   "metadata": {},
   "source": [
    "### Define folder structure: app_id/version"
   ]
  },
  {
   "cell_type": "code",
   "execution_count": 12,
   "metadata": {},
   "outputs": [],
   "source": [
    "if do_makeApp:\n",
    "    app_folderName = f'~/MyData/myAuthoredTapisApps/{app_id}/{app_version}'; # your choice"
   ]
  },
  {
   "cell_type": "code",
   "execution_count": 13,
   "metadata": {},
   "outputs": [
    {
     "name": "stdout",
     "output_type": "stream",
     "text": [
      "app_folder: /home/jupyter/MyData/myAuthoredTapisApps/agnostic-app-test/0.0.19\n",
      " exists: True\n"
     ]
    }
   ],
   "source": [
    "if do_makeApp:\n",
    "    app_folder = os.path.abspath(os.path.expanduser(app_folderName))\n",
    "    os.makedirs(app_folder, exist_ok=True)\n",
    "    print(f'app_folder: {app_folder}\\n exists:',os.path.exists(app_folder))"
   ]
  },
  {
   "cell_type": "markdown",
   "metadata": {},
   "source": [
    "---\n",
    "## Create the App Files\n",
    "\n",
    "A Tapis app needs the following **core files**:\n",
    "\n",
    "* **Readme.MD** – App Description (OPTIONAL)<br>\n",
    "This file is helpful in communicating content to the app user.  \n",
    "\n",
    "* **app.json** – App Definition<br>\n",
    "Defines the app’s metadata, inputs, parameters, and execution configuration.    \n",
    "\n",
    "* **profile.json** – Environment Setup *(optional but common)*<br>\n",
    "Loads modules or sets environment variables on the execution system. This file will load modules before your script runs. This is executed on the compute node.\n",
    "\n",
    "* **tapisjob_app.sh** – Wrapper Script<br>\n",
    "Wrapper script executed by the job; this is the command that launches your code (e.g., runs *OpenSeesMP*, Python, or a script)"
   ]
  },
  {
   "cell_type": "code",
   "execution_count": 14,
   "metadata": {},
   "outputs": [],
   "source": [
    "# let's collect the list of files we are creating as we will need this list in upload\n",
    "if do_makeApp:\n",
    "    appFilesList = [];"
   ]
  },
  {
   "cell_type": "markdown",
   "metadata": {},
   "source": [
    "#### **Readme.MD** – App Description\n",
    "This file is helpful in communicating content to the app user.  "
   ]
  },
  {
   "cell_type": "code",
   "execution_count": 15,
   "metadata": {},
   "outputs": [],
   "source": [
    "if do_makeApp:\n",
    "    thisFilename = 'ReadMe.MD'\n",
    "    thisText = \"\"\"\\\n",
    "    # making an application-agnostic app\n",
    "    \"\"\"\n",
    "    \n",
    "    with open(f\"{app_folder}/{thisFilename}\", \"w\") as f:\n",
    "        f.write(thisText)\n",
    "\n",
    "    appFilesList.append(thisFilename)"
   ]
  },
  {
   "cell_type": "markdown",
   "metadata": {},
   "source": [
    "#### **app.json** – App Definition\n",
    "Defines the app’s metadata, inputs, parameters, and execution configuration.    "
   ]
  },
  {
   "cell_type": "code",
   "execution_count": 16,
   "metadata": {},
   "outputs": [],
   "source": [
    "if do_makeApp:\n",
    "    thisFilename = 'app.json'\n",
    "    thisText = \"\"\"\\\n",
    "    {\n",
    "      \"id\": \"__app_id__\",\n",
    "      \"version\": \"__app_version__\",\n",
    "      \"description\": \"__app_description__\",\n",
    "      \"owner\": \"${apiUserId}\",\n",
    "      \"enabled\": true,\n",
    "      \"runtime\": \"ZIP\",\n",
    "      \"runtimeVersion\": null,\n",
    "      \"runtimeOptions\": null,\n",
    "      \"containerImage\": \"__container_filename__\",\n",
    "      \"jobType\": \"BATCH\",\n",
    "      \"maxJobs\": -1,\n",
    "      \"maxJobsPerUser\": -1,\n",
    "      \"strictFileInputs\": true,\n",
    "      \"jobAttributes\": {\n",
    "        \"execSystemConstraints\": null,\n",
    "        \"execSystemId\": \"stampede3\",\n",
    "        \"execSystemExecDir\": \"${JobWorkingDir}\",\n",
    "        \"execSystemInputDir\": \"${JobWorkingDir}\",\n",
    "        \"execSystemOutputDir\": \"${JobWorkingDir}\",\n",
    "        \"execSystemLogicalQueue\": \"skx\",\n",
    "        \"archiveSystemId\": \"stampede3\",\n",
    "        \"archiveSystemDir\": \"HOST_EVAL($WORK)/tapis-jobs-archive/${JobCreateDate}/${JobName}-${JobUUID}\",\n",
    "        \"archiveOnAppError\": true,\n",
    "        \"isMpi\": false,\n",
    "        \"mpiCmd\": null,\n",
    "        \"parameterSet\": {\n",
    "          \"appArgs\": [\n",
    "            {\n",
    "              \"name\": \"Main Program\",\n",
    "              \"description\": \"Choose the binary Executable to use.\",\n",
    "              \"arg\": \"OpenSeesMP\",\n",
    "              \"inputMode\": \"REQUIRED\",\n",
    "                \"notes\": {\n",
    "                    \"enum_values\": [\n",
    "                        {\n",
    "                            \"OpenSeesMP\": \"OpenSeesMP\"\n",
    "                        },\n",
    "                        {\n",
    "                            \"OpenSeesSP\": \"OpenSeesSP\"\n",
    "                        },\n",
    "                        {\n",
    "                            \"python\": \"python\"\n",
    "                        }\n",
    "                    ]\n",
    "                }\n",
    "            },\n",
    "            {\n",
    "              \"name\": \"Main Script\",\n",
    "              \"description\": \"The filename only of the input script to submit to executable. This file should reside in the Input Directory specified.\",\n",
    "              \"arg\": null,\n",
    "              \"inputMode\": \"REQUIRED\",\n",
    "              \"notes\": {\n",
    "                \"inputType\": \"fileInput\"\n",
    "              }\n",
    "            },\n",
    "            {\n",
    "              \"name\": \"CommandLine Arguments\",\n",
    "              \"description\": \"Command-Line Arguments (Optional)\",\n",
    "              \"arg\": null,\n",
    "              \"inputMode\": \"INCLUDE_ON_DEMAND\",\n",
    "              \"notes\": {\n",
    "              }\n",
    "            }\n",
    "            \n",
    "          ],\n",
    "          \"containerArgs\": [],\n",
    "          \"schedulerOptions\": [\n",
    "            {\n",
    "              \"name\": \"OpenSees TACC Scheduler Profile\",\n",
    "              \"description\": \"Scheduler profile for the default version of OpenSees\",\n",
    "              \"inputMode\": \"FIXED\",\n",
    "              \"arg\": \"--tapis-profile OpenSees_default\",\n",
    "              \"notes\": {\n",
    "                \"isHidden\": true\n",
    "              }\n",
    "            }\n",
    "          ],\n",
    "          \"envVariables\": [\n",
    "                  { \"key\": \"zipFileIn\", \"value\": \"\", \"inputMode\": \"INCLUDE_BY_DEFAULT\" },\n",
    "                  { \"key\": \"zipFolderOut\", \"value\": \"False\", \"inputMode\": \"INCLUDE_BY_DEFAULT\" },\n",
    "                  { \"key\": \"requirementFile\", \"value\": \"\", \"inputMode\": \"INCLUDE_BY_DEFAULT\" }\n",
    "             ],\n",
    "          \"archiveFilter\": {\n",
    "            \"includes\": [],\n",
    "            \"excludes\": [],\n",
    "            \"includeLaunchFiles\": true\n",
    "          }\n",
    "        },\n",
    "        \"fileInputs\": [\n",
    "          {\n",
    "            \"name\": \"Input Directory\",\n",
    "            \"inputMode\": \"REQUIRED\",\n",
    "            \"sourceUrl\": null,\n",
    "            \"targetPath\": \"inputDirectory\",\n",
    "            \"envKey\": \"inputDirectory\",\n",
    "            \"description\": \"Input directory that includes the input script as well as any other required files. Example input is in tapis://designsafe.storage.community/app_examples/opensees/OpenSeesMP\",\n",
    "            \"notes\": {\n",
    "              \"selectionMode\": \"directory\"\n",
    "            }\n",
    "          }\n",
    "        ],\n",
    "        \"fileInputArrays\": [],\n",
    "        \"nodeCount\": 1,\n",
    "        \"coresPerNode\": 48,\n",
    "        \"memoryMB\": 192000,\n",
    "        \"maxMinutes\": 120,\n",
    "        \"subscriptions\": [],\n",
    "        \"tags\": []\n",
    "      },\n",
    "      \"tags\": [\n",
    "        \"portalName: DesignSafe\",\n",
    "        \"portalName: CEP\"\n",
    "      ],\n",
    "      \"notes\": {\n",
    "        \"label\": \"__app_id__\",\n",
    "        \"helpUrl\": \"\",\n",
    "        \"hideNodeCountAndCoresPerNode\": false,\n",
    "        \"isInteractive\": false,\n",
    "        \"icon\": \"OpenSees\",\n",
    "        \"category\": \"Simulation\"\n",
    "      }\n",
    "    }\n",
    "    \"\"\"\n",
    "    thisText = thisText.replace(\"__app_id__\", app_id)\n",
    "    thisText = thisText.replace(\"__app_version__\", app_version)\n",
    "    thisText = thisText.replace(\"__app_description__\", app_description)\n",
    "    thisText = thisText.replace(\"__container_filename__\", f\"tapis://{app_system_id}/{app_path}/{container_filename}\")\n",
    "    \n",
    "    \n",
    "    with open(f\"{app_folder}/{thisFilename}\", \"w\") as f:\n",
    "        f.write(thisText)\n",
    "\n",
    "    appFilesList.append(thisFilename)"
   ]
  },
  {
   "cell_type": "markdown",
   "metadata": {},
   "source": [
    "#### **profile.json** – Environment Setup\n",
    "This file will load modules before your script runs. This is executed on the compute node."
   ]
  },
  {
   "cell_type": "code",
   "execution_count": 17,
   "metadata": {},
   "outputs": [],
   "source": [
    "if do_makeApp:\n",
    "    thisFilename = 'profile.json'\n",
    "    thisText = \"\"\"\\\n",
    "    {\n",
    "        \"name\": \"__app_id__\",\n",
    "        \"description\": \"Modules to load\",\n",
    "        \"moduleLoads\": [ ],\n",
    "        \"hiddenOptions\": [\n",
    "            \"MEM\"\n",
    "        ]\n",
    "    }\n",
    "    \"\"\"    \n",
    "    # thisText = \"\"\"\\\n",
    "    # {\n",
    "    #     \"name\": \"AgnosticApp\",\n",
    "    #     \"description\": \"Modules to load\",\n",
    "    #     \"moduleLoads\": [\n",
    "    #         {\n",
    "    #             \"modulesToLoad\": [\n",
    "    #                 \"hdf5/1.14.4\",\n",
    "    #                 \"opensees\"\n",
    "    #             ],\n",
    "    #             \"moduleLoadCommand\": \"module load\"\n",
    "    #         }\n",
    "    #     ],\n",
    "    #     \"hiddenOptions\": [\n",
    "    #         \"MEM\"\n",
    "    #     ]\n",
    "    # }\n",
    "    # \"\"\"\n",
    "    thisText = thisText.replace(\"__app_id__\", app_id)\n",
    "    with open(f\"{app_folder}/{thisFilename}\", \"w\") as f:\n",
    "        f.write(thisText)\n",
    "\n",
    "    appFilesList.append(thisFilename)"
   ]
  },
  {
   "cell_type": "markdown",
   "metadata": {},
   "source": [
    "#### **tapisjob_app.sh** – Wrapper Script\n",
    "Wrapper script executed by the job; this is the command that launches your code (e.g., runs *OpenSeesMP*, Python, or a script)"
   ]
  },
  {
   "cell_type": "code",
   "execution_count": 18,
   "metadata": {},
   "outputs": [
    {
     "name": "stdout",
     "output_type": "stream",
     "text": [
      "zip_path /home/jupyter/MyData/myAuthoredTapisApps/agnostic-app-test/0.0.19/agnostic-app-test.zip\n"
     ]
    }
   ],
   "source": [
    "if do_makeApp:\n",
    "    import textwrap, time\n",
    "    from zipfile import ZipFile, ZIP_DEFLATED, ZipInfo\n",
    "    \n",
    "    thisFilename_sh = \"tapisjob_app.sh\"\n",
    "    thisFilename = container_filename  # existing var\n",
    "\n",
    "\n",
    "    bash_script = textwrap.dedent(\"\"\"\\\n",
    "        #!/bin/bash\n",
    "        set -euo pipefail\n",
    "        set -x\n",
    "\n",
    "        # ---- required args ----\n",
    "        BINARYNAME=\"${1:?missing binary name}\"\n",
    "        INPUTSCRIPT0=\"${2:?missing input script}\"\n",
    "        shift 2\n",
    "\n",
    "        # ---- optional env with safe defaults ----\n",
    "        inputDirectory=\"${inputDirectory:?inputDirectory not set}\"\n",
    "        zipFileIn=\"${zipFileIn:-}\"\n",
    "        zipFolderOut=\"${zipFolderOut:-}\"\n",
    "        echo \"zipFileIn: ${zipFileIn}\"\n",
    "        echo \"zipFolderOut: ${zipFolderOut}\"\n",
    "\n",
    "        INPUTSCRIPT=\"${INPUTSCRIPT0##*/}\"\n",
    "        echo \"INPUTSCRIPT: $INPUTSCRIPT\"\n",
    "        echo \"ARGS: $*\"\n",
    "\n",
    "        cd -- \"$inputDirectory\"\n",
    "\n",
    "        # ---- expand input ZIP if provided ----\n",
    "        if [[ -n \"$zipFileIn\" && -f \"$zipFileIn\" ]]; then\n",
    "          echo \"Unzipping $zipFileIn ...\"\n",
    "          unzip -o -q \"$zipFileIn\"\n",
    "        fi\n",
    "\n",
    "        # ---- modules for OpenSees family ----\n",
    "        case \"$BINARYNAME\" in\n",
    "          OpenSees|OpenSeesMP|OpenSeesSP)\n",
    "            module load hdf5/1.14.4\n",
    "            module load opensees\n",
    "            module list || true\n",
    "            echo \"Loaded OpenSees modules\"\n",
    "            ;;\n",
    "        esac\n",
    "\n",
    "        # ---- modules for python ----\n",
    "        if [[ -n \"$requirementFile\" && -f \"$requirementFile\" ]]; then\n",
    "          echo \"Install requirements file\"\n",
    "          python -m pip install -r \"$requirementFile\"\n",
    "        fi\n",
    "\n",
    "        # ---- choose launcher ----\n",
    "        if [[ \"$BINARYNAME\" == \"OpenSees\" ]]; then\n",
    "          LAUNCH=()        # direct run for sequential\n",
    "        else\n",
    "          LAUNCH=(ibrun)   # MPI/SP use ibrun on TACC\n",
    "        fi\n",
    "\n",
    "        echo \"Running: ${LAUNCH[*]} $BINARYNAME $INPUTSCRIPT $*\"\n",
    "        if ! \"${LAUNCH[@]}\" \"$BINARYNAME\" \"$INPUTSCRIPT\" \"$@\"; then\n",
    "          rc=$?\n",
    "          echo \"Program exited with error status: $rc\" >&2\n",
    "          exit \"$rc\"\n",
    "        fi\n",
    "        echo \"done, now zippit!\"\n",
    "        # ---- optional re-pack an output folder ----\n",
    "        if [[ \"${zipFolderOut:-}\" =~ ^([Tt][Rr][Uu][Ee]|1|[Yy][Ee]?[Ss]?)$ ]]; then\n",
    "          cd ..\n",
    "          echo \"Zipping output folder \"$inputDirectory\" -> ${zipFolderOut}.zip\"\n",
    "          zip -r -q \"inputDirectory.zip\" \"$inputDirectory\"\n",
    "          rm -rf \"$inputDirectory\"\n",
    "        fi\n",
    "    \"\"\")\n",
    "\n",
    "\n",
    "    zip_path = os.path.join(app_folder, thisFilename)\n",
    "    print('zip_path',zip_path)\n",
    "\n",
    "    # write with executable permission inside the ZIP\n",
    "    zi = ZipInfo(thisFilename_sh)\n",
    "    zi.date_time = time.localtime(time.time())[:6]\n",
    "    zi.compress_type = ZIP_DEFLATED\n",
    "    zi.external_attr = 0o100755 << 16   # -rwxr-xr-x on a regular file\n",
    "    \n",
    "    with ZipFile(zip_path, \"w\", ZIP_DEFLATED) as z:\n",
    "        z.writestr(zi, bash_script)\n",
    "        \n",
    "    appFilesList.append(thisFilename)"
   ]
  },
  {
   "cell_type": "markdown",
   "metadata": {},
   "source": [
    "#### File Check\n",
    "Look at the files we have written and check for typos or formatting errors."
   ]
  },
  {
   "cell_type": "code",
   "execution_count": 19,
   "metadata": {
    "scrolled": true
   },
   "outputs": [
    {
     "name": "stdout",
     "output_type": "stream",
     "text": [
      "['ReadMe.MD', 'app.json', 'profile.json', 'agnostic-app-test.zip']\n"
     ]
    },
    {
     "data": {
      "text/html": [
       "\n",
       "                      <details style=\"margin-top:1em; font-family:monospace; background:white; \n",
       "                          padding:0.25em; border-radius:6px; border:1px solid #ccc;\">\n",
       "                        <summary style=\"cursor:pointer; font-weight:bold; background:white; \n",
       "                          padding:0.3em 0.5em; border-radius:4px;\">ReadMe.MD</summary>\n",
       "\n",
       "                        <button onclick=\"navigator.clipboard.writeText(document.getElementById('3505b9f384bf4809bbb6deb6e385b6bc').innerText)\">\n",
       "                          📋 Copy\n",
       "                        </button>\n",
       "                        <pre id=\"3505b9f384bf4809bbb6deb6e385b6bc\" style=\"white-space:pre-wrap; margin:0.25em 0 0 0; \n",
       "                            background:#d4fbff; padding:.3em; border-radius:5px;\">\n",
       "<b># /home/jupyter/MyData/myAuthoredTapisApps/agnostic-app-test/0.0.19/ReadMe.MD</b>\n",
       "    # making an application-agnostic app\n",
       "    </pre>\n",
       "                      </details>\n",
       "                    "
      ],
      "text/plain": [
       "<IPython.core.display.HTML object>"
      ]
     },
     "metadata": {},
     "output_type": "display_data"
    },
    {
     "data": {
      "text/html": [
       "\n",
       "                      <details style=\"margin-top:1em; font-family:monospace; background:white; \n",
       "                          padding:0.25em; border-radius:6px; border:1px solid #ccc;\">\n",
       "                        <summary style=\"cursor:pointer; font-weight:bold; background:white; \n",
       "                          padding:0.3em 0.5em; border-radius:4px;\">app.json</summary>\n",
       "\n",
       "                        <button onclick=\"navigator.clipboard.writeText(document.getElementById('61a7e2c35d1d4466bc568db1d95effa4').innerText)\">\n",
       "                          📋 Copy\n",
       "                        </button>\n",
       "                        <pre id=\"61a7e2c35d1d4466bc568db1d95effa4\" style=\"white-space:pre-wrap; margin:0.25em 0 0 0; \n",
       "                            background:#d4fbff; padding:.3em; border-radius:5px;\">\n",
       "<b># /home/jupyter/MyData/myAuthoredTapisApps/agnostic-app-test/0.0.19/app.json</b>\n",
       "    {\n",
       "      \"id\": \"agnostic-app-test\",\n",
       "      \"version\": \"0.0.19\",\n",
       "      \"description\": \"Run any Executable\",\n",
       "      \"owner\": \"${apiUserId}\",\n",
       "      \"enabled\": true,\n",
       "      \"runtime\": \"ZIP\",\n",
       "      \"runtimeVersion\": null,\n",
       "      \"runtimeOptions\": null,\n",
       "      \"containerImage\": \"tapis://designsafe.storage.default/silvia/apps/agnostic-app-test/0.0.19/agnostic-app-test.zip\",\n",
       "      \"jobType\": \"BATCH\",\n",
       "      \"maxJobs\": -1,\n",
       "      \"maxJobsPerUser\": -1,\n",
       "      \"strictFileInputs\": true,\n",
       "      \"jobAttributes\": {\n",
       "        \"execSystemConstraints\": null,\n",
       "        \"execSystemId\": \"stampede3\",\n",
       "        \"execSystemExecDir\": \"${JobWorkingDir}\",\n",
       "        \"execSystemInputDir\": \"${JobWorkingDir}\",\n",
       "        \"execSystemOutputDir\": \"${JobWorkingDir}\",\n",
       "        \"execSystemLogicalQueue\": \"skx\",\n",
       "        \"archiveSystemId\": \"stampede3\",\n",
       "        \"archiveSystemDir\": \"HOST_EVAL($WORK)/tapis-jobs-archive/${JobCreateDate}/${JobName}-${JobUUID}\",\n",
       "        \"archiveOnAppError\": true,\n",
       "        \"isMpi\": false,\n",
       "        \"mpiCmd\": null,\n",
       "        \"parameterSet\": {\n",
       "          \"appArgs\": [\n",
       "            {\n",
       "              \"name\": \"Main Program\",\n",
       "              \"description\": \"Choose the binary Executable to use.\",\n",
       "              \"arg\": \"OpenSeesMP\",\n",
       "              \"inputMode\": \"REQUIRED\",\n",
       "                \"notes\": {\n",
       "                    \"enum_values\": [\n",
       "                        {\n",
       "                            \"OpenSeesMP\": \"OpenSeesMP\"\n",
       "                        },\n",
       "                        {\n",
       "                            \"OpenSeesSP\": \"OpenSeesSP\"\n",
       "                        },\n",
       "                        {\n",
       "                            \"python\": \"python\"\n",
       "                        }\n",
       "                    ]\n",
       "                }\n",
       "            },\n",
       "            {\n",
       "              \"name\": \"Main Script\",\n",
       "              \"description\": \"The filename only of the input script to submit to executable. This file should reside in the Input Directory specified.\",\n",
       "              \"arg\": null,\n",
       "              \"inputMode\": \"REQUIRED\",\n",
       "              \"notes\": {\n",
       "                \"inputType\": \"fileInput\"\n",
       "              }\n",
       "            },\n",
       "            {\n",
       "              \"name\": \"CommandLine Arguments\",\n",
       "              \"description\": \"Command-Line Arguments (Optional)\",\n",
       "              \"arg\": null,\n",
       "              \"inputMode\": \"INCLUDE_ON_DEMAND\",\n",
       "              \"notes\": {\n",
       "              }\n",
       "            }\n",
       "\n",
       "          ],\n",
       "          \"containerArgs\": [],\n",
       "          \"schedulerOptions\": [\n",
       "            {\n",
       "              \"name\": \"OpenSees TACC Scheduler Profile\",\n",
       "              \"description\": \"Scheduler profile for the default version of OpenSees\",\n",
       "              \"inputMode\": \"FIXED\",\n",
       "              \"arg\": \"--tapis-profile OpenSees_default\",\n",
       "              \"notes\": {\n",
       "                \"isHidden\": true\n",
       "              }\n",
       "            }\n",
       "          ],\n",
       "          \"envVariables\": [\n",
       "                  { \"key\": \"zipFileIn\", \"value\": \"\", \"inputMode\": \"INCLUDE_BY_DEFAULT\" },\n",
       "                  { \"key\": \"zipFolderOut\", \"value\": \"False\", \"inputMode\": \"INCLUDE_BY_DEFAULT\" },\n",
       "                  { \"key\": \"requirementFile\", \"value\": \"\", \"inputMode\": \"INCLUDE_BY_DEFAULT\" }\n",
       "             ],\n",
       "          \"archiveFilter\": {\n",
       "            \"includes\": [],\n",
       "            \"excludes\": [],\n",
       "            \"includeLaunchFiles\": true\n",
       "          }\n",
       "        },\n",
       "        \"fileInputs\": [\n",
       "          {\n",
       "            \"name\": \"Input Directory\",\n",
       "            \"inputMode\": \"REQUIRED\",\n",
       "            \"sourceUrl\": null,\n",
       "            \"targetPath\": \"inputDirectory\",\n",
       "            \"envKey\": \"inputDirectory\",\n",
       "            \"description\": \"Input directory that includes the input script as well as any other required files. Example input is in tapis://designsafe.storage.community/app_examples/opensees/OpenSeesMP\",\n",
       "            \"notes\": {\n",
       "              \"selectionMode\": \"directory\"\n",
       "            }\n",
       "          }\n",
       "        ],\n",
       "        \"fileInputArrays\": [],\n",
       "        \"nodeCount\": 1,\n",
       "        \"coresPerNode\": 48,\n",
       "        \"memoryMB\": 192000,\n",
       "        \"maxMinutes\": 120,\n",
       "        \"subscriptions\": [],\n",
       "        \"tags\": []\n",
       "      },\n",
       "      \"tags\": [\n",
       "        \"portalName: DesignSafe\",\n",
       "        \"portalName: CEP\"\n",
       "      ],\n",
       "      \"notes\": {\n",
       "        \"label\": \"agnostic-app-test\",\n",
       "        \"helpUrl\": \"\",\n",
       "        \"hideNodeCountAndCoresPerNode\": false,\n",
       "        \"isInteractive\": false,\n",
       "        \"icon\": \"OpenSees\",\n",
       "        \"category\": \"Simulation\"\n",
       "      }\n",
       "    }\n",
       "    </pre>\n",
       "                      </details>\n",
       "                    "
      ],
      "text/plain": [
       "<IPython.core.display.HTML object>"
      ]
     },
     "metadata": {},
     "output_type": "display_data"
    },
    {
     "data": {
      "text/html": [
       "\n",
       "                      <details style=\"margin-top:1em; font-family:monospace; background:white; \n",
       "                          padding:0.25em; border-radius:6px; border:1px solid #ccc;\">\n",
       "                        <summary style=\"cursor:pointer; font-weight:bold; background:white; \n",
       "                          padding:0.3em 0.5em; border-radius:4px;\">profile.json</summary>\n",
       "\n",
       "                        <button onclick=\"navigator.clipboard.writeText(document.getElementById('92f05da4e1214cd0b370cf00243c7897').innerText)\">\n",
       "                          📋 Copy\n",
       "                        </button>\n",
       "                        <pre id=\"92f05da4e1214cd0b370cf00243c7897\" style=\"white-space:pre-wrap; margin:0.25em 0 0 0; \n",
       "                            background:#d4fbff; padding:.3em; border-radius:5px;\">\n",
       "<b># /home/jupyter/MyData/myAuthoredTapisApps/agnostic-app-test/0.0.19/profile.json</b>\n",
       "    {\n",
       "        \"name\": \"agnostic-app-test\",\n",
       "        \"description\": \"Modules to load\",\n",
       "        \"moduleLoads\": [ ],\n",
       "        \"hiddenOptions\": [\n",
       "            \"MEM\"\n",
       "        ]\n",
       "    }\n",
       "    </pre>\n",
       "                      </details>\n",
       "                    "
      ],
      "text/plain": [
       "<IPython.core.display.HTML object>"
      ]
     },
     "metadata": {},
     "output_type": "display_data"
    }
   ],
   "source": [
    "if do_makeApp:\n",
    "    print(appFilesList)\n",
    "    OpsUtils.show_text_file_in_accordion(app_folder, appFilesList)"
   ]
  },
  {
   "cell_type": "markdown",
   "metadata": {},
   "source": [
    "---\n",
    "## Validate App Locally"
   ]
  },
  {
   "cell_type": "code",
   "execution_count": 20,
   "metadata": {},
   "outputs": [
    {
     "data": {
      "text/html": [
       "\n",
       "                      <details style=\"margin-top:1em; font-family:monospace; background:white; \n",
       "                          padding:0.25em; border-radius:6px; border:1px solid #ccc;\">\n",
       "                        <summary style=\"cursor:pointer; font-weight:bold; background:white; \n",
       "                          padding:0.3em 0.5em; border-radius:4px;\">validate_app_folder.py</summary>\n",
       "\n",
       "                        <button onclick=\"navigator.clipboard.writeText(document.getElementById('0e0fd5751c374f5c96f2715015995a0f').innerText)\">\n",
       "                          📋 Copy\n",
       "                        </button>\n",
       "                        <pre id=\"0e0fd5751c374f5c96f2715015995a0f\" style=\"white-space:pre-wrap; margin:0.25em 0 0 0; \n",
       "                            background:#d4fbff; padding:.3em; border-radius:5px;\">\n",
       "<b># ../OpsUtils/OpsUtils/Tapis/validate_app_folder.py</b>\n",
       "def validate_app_folder(folder, required_files):\n",
       "    \"\"\"\n",
       "    Validate an app deployment folder:\n",
       "      1) Check that all `required_files` exist under `folder`.\n",
       "      2) Parse any `.json` files and merge their objects (later files overwrite earlier keys).\n",
       "      3) Print a concise summary (id, name, version, params/inputs/outputs, top-level keys).\n",
       "\n",
       "    Safe behavior:\n",
       "      - Never raises KeyError for missing identity keys; prints \"(missing)\" instead.\n",
       "      - Handles non-list or malformed `parameters/inputs/outputs` gracefully.\n",
       "\n",
       "    Parameters\n",
       "    ----------\n",
       "    folder : str | os.PathLike\n",
       "        Path to the app/version directory (e.g., \"apps/opensees-mp/1.0/\").\n",
       "    required_files : Iterable[str]\n",
       "        Filenames expected inside `folder` (e.g., [\"app.json\", \"profile.json\", \"tapisjob_app.sh\"]).\n",
       "\n",
       "    Returns\n",
       "    -------\n",
       "    bool\n",
       "        True  -> all required files present and all JSON parsed successfully.\n",
       "        False -> at least one file missing OR a JSON parse error occurred.\n",
       "\n",
       "    Notes\n",
       "    -----\n",
       "    - If multiple JSON files are in `required_files`, later files overwrite earlier keys.\n",
       "    - Only performs **syntactic** JSON validation (no schema validation).\n",
       "    \"\"\"\n",
       "    import os, json\n",
       "    from pathlib import Path\n",
       "\n",
       "    folder_path = Path(folder)\n",
       "    print(f\"🔍 Validating app folder: {folder_path}\\n\")\n",
       "\n",
       "    # 1) Presence check\n",
       "    missing = [f for f in required_files if not (folder_path / f).exists()]\n",
       "    if missing:\n",
       "        print(f\"❌ Missing required files: {missing}\")\n",
       "        return False\n",
       "    else:\n",
       "        print(\"✅ All required files are present.\\n\")\n",
       "\n",
       "    # 2) Parse & merge JSON files\n",
       "    app_def = {}\n",
       "    for fname in required_files:\n",
       "        if Path(fname).suffix.lower() == \".json\":\n",
       "            fpath = folder_path / fname\n",
       "            try:\n",
       "                with fpath.open() as fp:\n",
       "                    obj = json.load(fp)\n",
       "                if isinstance(obj, dict):\n",
       "                    app_def.update(obj)  # later files override earlier keys\n",
       "                else:\n",
       "                    print(f\"❌ {fname} contains JSON that is not an object (dict).\")\n",
       "                    return False\n",
       "            except json.JSONDecodeError as exc:\n",
       "                print(f\"❌ {fname} is not valid JSON: {exc}\")\n",
       "                return False\n",
       "\n",
       "    # 3) Friendly summary (safe lookups)\n",
       "    app_id      = app_def.get(\"id\", \"(missing)\")\n",
       "    app_name    = app_def.get(\"name\", \"(missing)\")\n",
       "    app_version = app_def.get(\"version\", \"(missing)\")\n",
       "\n",
       "    def _collect_ids(val, key=\"id\"):\n",
       "        # Accepts list[dict], dict (single), or anything else -> robust fallback\n",
       "        if isinstance(val, list):\n",
       "            return [str(x.get(key, \"(no-id)\")) for x in val if isinstance(x, dict)]\n",
       "        if isinstance(val, dict):\n",
       "            return [str(val.get(key, \"(no-id)\"))]\n",
       "        return []\n",
       "\n",
       "    param_ids  = _collect_ids(app_def.get(\"parameters\", []), \"id\")\n",
       "    input_ids  = _collect_ids(app_def.get(\"inputs\", []), \"id\")\n",
       "    output_ids = _collect_ids(app_def.get(\"outputs\", []), \"id\")\n",
       "\n",
       "    print(f\"📄 App ID: {app_id}\")\n",
       "    print(f\"📄 App Name: {app_name}\")\n",
       "    print(f\"📄 Version: {app_version}\")\n",
       "    print(f\"🔧 Parameters: {param_ids}\")\n",
       "    print(f\"📦 Inputs: {input_ids}\")\n",
       "    print(f\"📤 Outputs: {output_ids}\")\n",
       "    print(f\"\\nApp Keys: {list(app_def.keys())}\")\n",
       "    print(\"\\n✅ Basic validation complete. App folder looks good!\")\n",
       "    return True\n",
       "</pre>\n",
       "                      </details>\n",
       "                    "
      ],
      "text/plain": [
       "<IPython.core.display.HTML object>"
      ]
     },
     "metadata": {},
     "output_type": "display_data"
    }
   ],
   "source": [
    "if do_makeApp:\n",
    "    OpsUtils.show_text_file_in_accordion(PathOpsUtils, ['validate_app_folder.py'])"
   ]
  },
  {
   "cell_type": "code",
   "execution_count": 21,
   "metadata": {},
   "outputs": [
    {
     "name": "stdout",
     "output_type": "stream",
     "text": [
      "🔍 Validating app folder: /home/jupyter/MyData/myAuthoredTapisApps/agnostic-app-test/0.0.19\n",
      "\n",
      "✅ All required files are present.\n",
      "\n",
      "📄 App ID: agnostic-app-test\n",
      "📄 App Name: agnostic-app-test\n",
      "📄 Version: 0.0.19\n",
      "🔧 Parameters: []\n",
      "📦 Inputs: []\n",
      "📤 Outputs: []\n",
      "\n",
      "App Keys: ['id', 'version', 'description', 'owner', 'enabled', 'runtime', 'runtimeVersion', 'runtimeOptions', 'containerImage', 'jobType', 'maxJobs', 'maxJobsPerUser', 'strictFileInputs', 'jobAttributes', 'tags', 'notes', 'name', 'moduleLoads', 'hiddenOptions']\n",
      "\n",
      "✅ Basic validation complete. App folder looks good!\n"
     ]
    }
   ],
   "source": [
    "if do_makeApp:\n",
    "    validation = OpsUtils.validate_app_folder(app_folder,appFilesList)\n",
    "    if not validation:\n",
    "        print('Validation Failed: stopping here!!!!')\n",
    "        a = 3/0"
   ]
  },
  {
   "cell_type": "markdown",
   "metadata": {},
   "source": [
    "---\n",
    "## Deploy the App"
   ]
  },
  {
   "cell_type": "markdown",
   "metadata": {},
   "source": [
    "### Make the directory inside your 'MyData' on designsafe.storage.default.\n",
    "The apps in this folder are the ones that area actually uploaded."
   ]
  },
  {
   "cell_type": "code",
   "execution_count": 22,
   "metadata": {},
   "outputs": [
    {
     "name": "stdout",
     "output_type": "stream",
     "text": [
      "app_path silvia/apps/agnostic-app-test/0.0.19\n"
     ]
    }
   ],
   "source": [
    "if do_makeApp:\n",
    "    t.files.mkdir(systemId=app_system_id, path=app_path)\n",
    "    print('app_path',app_path)"
   ]
  },
  {
   "cell_type": "markdown",
   "metadata": {},
   "source": [
    "### Upload files to your deployment system (e.g., DesignSafe default storage)\n",
    "Using Tapipy (Python SDK) in a Jupyter Notebook"
   ]
  },
  {
   "cell_type": "code",
   "execution_count": 23,
   "metadata": {},
   "outputs": [],
   "source": [
    "if do_makeApp:\n",
    "    for fname in appFilesList:\n",
    "        fpath = f'{app_folder}/{fname}'\n",
    "        t.upload(source_file_path=fpath,\n",
    "                 system_id=app_system_id,\n",
    "                 dest_file_path=f'{app_path}/{fname}')"
   ]
  },
  {
   "cell_type": "markdown",
   "metadata": {},
   "source": [
    "#### Verify upload"
   ]
  },
  {
   "cell_type": "code",
   "execution_count": 24,
   "metadata": {},
   "outputs": [
    {
     "name": "stdout",
     "output_type": "stream",
     "text": [
      "app_system_id: designsafe.storage.default\n",
      "app_path: silvia/apps/agnostic-app-test/0.0.19\n",
      "\n",
      "group: 819066\n",
      "lastModified: 2025-08-19T22:57:07Z\n",
      "mimeType: application/zip\n",
      "name: agnostic-app-test.zip\n",
      "nativePermissions: rw-rw----\n",
      "owner: 843714\n",
      "path: silvia/apps/agnostic-app-test/0.0.19/agnostic-app-test.zip\n",
      "size: 888\n",
      "type: file\n",
      "url: tapis://designsafe.storage.default/silvia/apps/agnostic-app-test/0.0.19/agnostic-app-test.zip\n",
      "\n",
      "\n",
      "group: 819066\n",
      "lastModified: 2025-08-19T22:57:07Z\n",
      "mimeType: application/json\n",
      "name: app.json\n",
      "nativePermissions: rw-rw----\n",
      "owner: 843714\n",
      "path: silvia/apps/agnostic-app-test/0.0.19/app.json\n",
      "size: 4250\n",
      "type: file\n",
      "url: tapis://designsafe.storage.default/silvia/apps/agnostic-app-test/0.0.19/app.json\n",
      "\n",
      "\n",
      "group: 819066\n",
      "lastModified: 2025-08-19T22:57:07Z\n",
      "mimeType: application/json\n",
      "name: profile.json\n",
      "nativePermissions: rw-rw----\n",
      "owner: 843714\n",
      "path: silvia/apps/agnostic-app-test/0.0.19/profile.json\n",
      "size: 178\n",
      "type: file\n",
      "url: tapis://designsafe.storage.default/silvia/apps/agnostic-app-test/0.0.19/profile.json\n",
      "\n",
      "\n",
      "group: 819066\n",
      "lastModified: 2025-08-19T22:57:07Z\n",
      "mimeType: text/markdown\n",
      "name: ReadMe.MD\n",
      "nativePermissions: rw-rw----\n",
      "owner: 843714\n",
      "path: silvia/apps/agnostic-app-test/0.0.19/ReadMe.MD\n",
      "size: 45\n",
      "type: file\n",
      "url: tapis://designsafe.storage.default/silvia/apps/agnostic-app-test/0.0.19/ReadMe.MD\n",
      "\n"
     ]
    }
   ],
   "source": [
    "if do_makeApp:\n",
    "    print('app_system_id:',app_system_id)\n",
    "    print('app_path:',app_path)\n",
    "    appfiles = t.files.listFiles(systemId=app_system_id, path=app_path)\n",
    "    for thisF in appfiles:\n",
    "        print(thisF)\n",
    "        print('')"
   ]
  },
  {
   "cell_type": "markdown",
   "metadata": {},
   "source": [
    "---\n",
    "## Register the App\n",
    "This creates the actual App record that Jobs can run.\n",
    "\n",
    "Do this Using Tapipy (Python)"
   ]
  },
  {
   "cell_type": "code",
   "execution_count": 25,
   "metadata": {},
   "outputs": [],
   "source": [
    "if do_makeApp:\n",
    "    # Create (or create a new version) of the app\n",
    "    with open(f'{app_folder}/app.json') as f:\n",
    "        app_def = json.load(f)\n",
    "    t.apps.createAppVersion(**app_def)"
   ]
  },
  {
   "cell_type": "markdown",
   "metadata": {},
   "source": [
    "### Check that app is up"
   ]
  },
  {
   "cell_type": "markdown",
   "metadata": {},
   "source": [
    "#### List all apps"
   ]
  },
  {
   "cell_type": "code",
   "execution_count": 26,
   "metadata": {},
   "outputs": [
    {
     "name": "stdout",
     "output_type": "stream",
     "text": [
      "--\n",
      "\n",
      "created: 2024-12-13T20:15:33.014747Z\n",
      "description: Run shell commands on remote systems\n",
      "id: shell-runner-1.0.0\n",
      "owner: silvia\n",
      "version: 1.0.0\n",
      "--\n",
      "\n",
      "created: 2024-12-14T15:49:21.510206Z\n",
      "description: Run shell commands on remote systems\n",
      "id: shell-runner\n",
      "owner: silvia\n",
      "version: 1.0.0\n",
      "--\n",
      "\n",
      "created: 2025-08-16T16:51:35.355715Z\n",
      "description: Runs all the processors in parallel. Requires understanding of parallel processing and the capabilities to write parallel scripts.\n",
      "id: opensees-mp-s3-silvia\n",
      "owner: silvia\n",
      "version: latest\n",
      "--\n",
      "\n",
      "created: 2025-08-16T18:53:58.422294Z\n",
      "description: Runs all the processors in parallel. Requires understanding of parallel processing and the capabilities to write parallel scripts.\n",
      "id: opensees-mp-s3-silvia-new\n",
      "owner: silvia\n",
      "version: latest\n",
      "--\n",
      "\n",
      "created: 2025-08-17T22:34:01.193589Z\n",
      "description: Runs all the processors in parallel. Requires understanding of parallel processing and the capabilities to write parallel scripts.\n",
      "id: opensees-mp-s3-copy-silvia\n",
      "owner: silvia\n",
      "version: 0.0.2\n",
      "--\n",
      "\n",
      "created: 2025-08-17T23:34:08.640426Z\n",
      "description: Runs all the processors in parallel. Requires understanding of parallel processing and the capabilities to write parallel scripts.\n",
      "id: opensees-mp-s3-copy-mine\n",
      "owner: silvia\n",
      "version: 0.0.3\n",
      "--\n",
      "\n",
      "created: 2025-08-18T02:18:22.973797Z\n",
      "description: Run either OpenSeesSP or OpenSeesMP\n",
      "id: opensees-tcl-mine\n",
      "owner: silvia\n",
      "version: 0.0.1\n",
      "--\n",
      "\n",
      "created: 2025-08-18T04:35:56.608017Z\n",
      "description: Run any OpenSees\n",
      "id: opensees-agnostic\n",
      "owner: silvia\n",
      "version: 0.0.5\n",
      "--\n",
      "\n",
      "created: 2025-08-18T06:19:28.859427Z\n",
      "description: Run any OpenSees\n",
      "id: opensees-agnostic2\n",
      "owner: silvia\n",
      "version: 0.0.3\n",
      "--\n",
      "\n",
      "created: 2025-08-19T22:57:07.742054Z\n",
      "description: Run any Executable\n",
      "id: agnostic-app-test\n",
      "owner: silvia\n",
      "version: 0.0.19\n"
     ]
    }
   ],
   "source": [
    "listType = 'ALL' # Include all items requester is authorized to view. Includes check for READ or MODIFY permission.\n",
    "select = 'id,created,description,version,owner' # Attributes to return in each result.\n",
    "orderBy = 'created(asc)'\n",
    "results = t.apps.getApps( orderBy=orderBy,\n",
    "                         select=select)  \n",
    "for thisRes in results:\n",
    "    print('--')\n",
    "    print(thisRes)"
   ]
  },
  {
   "cell_type": "markdown",
   "metadata": {},
   "source": [
    "#### List the new app"
   ]
  },
  {
   "cell_type": "code",
   "execution_count": 27,
   "metadata": {},
   "outputs": [
    {
     "name": "stdout",
     "output_type": "stream",
     "text": [
      "\n",
      "containerImage: tapis://designsafe.storage.default/silvia/apps/agnostic-app-test/0.0.19/agnostic-app-test.zip\n",
      "created: 2025-08-19T22:57:07.742054Z\n",
      "deleted: False\n",
      "description: Run any Executable\n",
      "enabled: True\n",
      "id: agnostic-app-test\n",
      "isPublic: False\n",
      "jobAttributes: \n",
      "archiveOnAppError: True\n",
      "archiveSystemDir: HOST_EVAL($WORK)/tapis-jobs-archive/${JobCreateDate}/${JobName}-${JobUUID}\n",
      "archiveSystemId: stampede3\n",
      "cmdPrefix: None\n",
      "coresPerNode: 48\n",
      "description: None\n",
      "dtnSystemInputDir: !tapis_not_set\n",
      "dtnSystemOutputDir: !tapis_not_set\n",
      "dynamicExecSystem: False\n",
      "execSystemConstraints: None\n",
      "execSystemExecDir: ${JobWorkingDir}\n",
      "execSystemId: stampede3\n",
      "execSystemInputDir: ${JobWorkingDir}\n",
      "execSystemLogicalQueue: skx\n",
      "execSystemOutputDir: ${JobWorkingDir}\n",
      "fileInputArrays: []\n",
      "fileInputs: [\n",
      "autoMountLocal: True\n",
      "description: Input directory that includes the input script as well as any other required files. Example input is in tapis://designsafe.storage.community/app_examples/opensees/OpenSeesMP\n",
      "envKey: inputDirectory\n",
      "inputMode: REQUIRED\n",
      "name: Input Directory\n",
      "notes: \n",
      "selectionMode: directory\n",
      "sourceUrl: None\n",
      "targetPath: inputDirectory]\n",
      "isMpi: False\n",
      "maxMinutes: 120\n",
      "memoryMB: 192000\n",
      "mpiCmd: None\n",
      "nodeCount: 1\n",
      "parameterSet: \n",
      "appArgs: [\n",
      "arg: OpenSeesMP\n",
      "description: Choose the binary Executable to use.\n",
      "inputMode: REQUIRED\n",
      "name: Main Program\n",
      "notes: \n",
      "enum_values: [\n",
      "OpenSeesMP: OpenSeesMP, \n",
      "OpenSeesSP: OpenSeesSP, \n",
      "python: python], \n",
      "arg: None\n",
      "description: The filename only of the input script to submit to executable. This file should reside in the Input Directory specified.\n",
      "inputMode: REQUIRED\n",
      "name: Main Script\n",
      "notes: \n",
      "inputType: fileInput, \n",
      "arg: None\n",
      "description: Command-Line Arguments (Optional)\n",
      "inputMode: INCLUDE_ON_DEMAND\n",
      "name: CommandLine Arguments\n",
      "notes: \n",
      "]\n",
      "archiveFilter: \n",
      "excludes: []\n",
      "includeLaunchFiles: True\n",
      "includes: []\n",
      "containerArgs: []\n",
      "envVariables: [\n",
      "description: \n",
      "inputMode: INCLUDE_BY_DEFAULT\n",
      "key: zipFileIn\n",
      "notes: \n",
      "\n",
      "value: , \n",
      "description: \n",
      "inputMode: INCLUDE_BY_DEFAULT\n",
      "key: zipFolderOut\n",
      "notes: \n",
      "\n",
      "value: False, \n",
      "description: \n",
      "inputMode: INCLUDE_BY_DEFAULT\n",
      "key: requirementFile\n",
      "notes: \n",
      "\n",
      "value: ]\n",
      "logConfig: \n",
      "stderrFilename: \n",
      "stdoutFilename: \n",
      "schedulerOptions: [\n",
      "arg: --tapis-profile OpenSees_default\n",
      "description: Scheduler profile for the default version of OpenSees\n",
      "inputMode: FIXED\n",
      "name: OpenSees TACC Scheduler Profile\n",
      "notes: \n",
      "isHidden: True]\n",
      "subscriptions: []\n",
      "tags: []\n",
      "jobType: BATCH\n",
      "locked: False\n",
      "maxJobs: 2147483647\n",
      "maxJobsPerUser: 2147483647\n",
      "notes: \n",
      "category: Simulation\n",
      "helpUrl: \n",
      "hideNodeCountAndCoresPerNode: False\n",
      "icon: OpenSees\n",
      "isInteractive: False\n",
      "label: agnostic-app-test\n",
      "owner: silvia\n",
      "runtime: ZIP\n",
      "runtimeOptions: None\n",
      "runtimeVersion: None\n",
      "sharedAppCtx: silvia\n",
      "sharedWithUsers: []\n",
      "strictFileInputs: False\n",
      "tags: ['portalName: DesignSafe', 'portalName: CEP']\n",
      "tenant: designsafe\n",
      "updated: 2025-08-19T22:57:07.742054Z\n",
      "uuid: 7ca6018d-c13b-447a-858e-53612017b92b\n",
      "version: 0.0.19\n",
      "versionEnabled: True\n"
     ]
    }
   ],
   "source": [
    "appMetaData = t.apps.getAppLatestVersion(appId=app_id)\n",
    "print(appMetaData)"
   ]
  },
  {
   "cell_type": "markdown",
   "metadata": {},
   "source": [
    "---\n",
    "## Submit a Job\n",
    "\n",
    "You can now submit a job using this app. You can use the Tapis CLI, Tapipy, or a web form.\n",
    "\n",
    "We are using TapiPy directly from this notebook. We will not specify a version so that the latest is used by default in the description."
   ]
  },
  {
   "cell_type": "markdown",
   "metadata": {},
   "source": [
    "---\n",
    "### Initialize"
   ]
  },
  {
   "cell_type": "code",
   "execution_count": 28,
   "metadata": {},
   "outputs": [],
   "source": [
    "tapisInputAll = {}"
   ]
  },
  {
   "cell_type": "markdown",
   "metadata": {},
   "source": [
    "---\n",
    "### SLURM-Specific Input"
   ]
  },
  {
   "cell_type": "code",
   "execution_count": 29,
   "metadata": {},
   "outputs": [],
   "source": [
    "tapisInputAll[\"maxMinutes\"] = 6\n",
    "\n",
    "tapisInputAll[\"execSystemId\"] = \"stampede3\"\n",
    "tapisInputAll[\"execSystemLogicalQueue\"] = \"skx-dev\"\n",
    "tapisInputAll[\"nodeCount\"] = 1\n",
    "tapisInputAll[\"coresPerNode\"] = 48\n",
    "tapisInputAll[\"allocation\"] = \"DS-HPC1\"\n",
    "\n",
    "tapisInputAll['archive_system']='Work' # Options: MyData or Work"
   ]
  },
  {
   "cell_type": "markdown",
   "metadata": {},
   "source": [
    "---\n",
    "### App-Specific Input"
   ]
  },
  {
   "cell_type": "code",
   "execution_count": 30,
   "metadata": {},
   "outputs": [
    {
     "name": "stdout",
     "output_type": "stream",
     "text": [
      "app_id: agnostic-app-test\n"
     ]
    }
   ],
   "source": [
    "print('app_id:',app_id)"
   ]
  },
  {
   "cell_type": "markdown",
   "metadata": {},
   "source": [
    "### OpenSees"
   ]
  },
  {
   "cell_type": "code",
   "execution_count": 32,
   "metadata": {},
   "outputs": [
    {
     "name": "stdout",
     "output_type": "stream",
     "text": [
      "\n",
      " -- OpenSees_opensees-express --\n",
      "\n",
      "\n",
      " -- OpenSees_agnostic-app-test --\n",
      "\n",
      "\n",
      " -- OpenSees_agnostic-app-test_zipFolderOut --\n",
      "\n",
      "Creating job_description\n",
      "Submitting Job\n",
      "Job submitted! ID: c19962b0-5d8f-4d91-9ca3-ed06c1f926fc-007\n",
      "job_start_time: 1755645035.1395204\n",
      "\n",
      "Real-Time Job-Status Updates...\n",
      "--------------------\n",
      "\t Elapsed job time: 1.05 sec\t Current Status: PENDING\n",
      "\t Elapsed job time: 2.08 sec\t Current Status: PROCESSING_INPUTS\t\t(PENDING took 1.03 sec)\n",
      "\t Elapsed job time: 5.15 sec\t Current Status: STAGING_INPUTS\t\t(PROCESSING_INPUTS took 3.07 sec)\n",
      "\t Elapsed job time: 41.15 sec\t Current Status: STAGING_JOB\t\t(STAGING_INPUTS took 36.01 sec)\n",
      "\t Elapsed job time: 73.03 sec\t Current Status: SUBMITTING_JOB\t\t(STAGING_JOB took 31.88 sec)\n",
      "\t Elapsed job time: 74.06 sec\t Current Status: QUEUED\t\t(SUBMITTING_JOB took 1.03 sec)\n",
      "\t Elapsed job time: 76.11 sec\t Current Status: RUNNING\t\t(QUEUED took 2.05 sec)\n",
      "\t Elapsed job time: 101.89 sec\t Current Status: ARCHIVING\t\t(RUNNING took 25.78 sec)\n",
      "\t Elapsed job time: 147.38 sec\t Current Status: FINISHED\t\t(ARCHIVING took 45.48 sec)\n",
      "\t  Status: FINISHED\t Elapsed job time: 147.38 sec\n",
      "--------------------\n",
      "Elapsed time since Job was submitted: 147.38 sec\n",
      "--------------------\n"
     ]
    },
    {
     "data": {
      "application/vnd.jupyter.widget-view+json": {
       "model_id": "e95ae06dcfb4460096deac20f2bb92d7",
       "version_major": 2,
       "version_minor": 0
      },
      "text/plain": [
       "Accordion(children=(Output(),), selected_index=0, titles=('Job STATUS   (c19962b0-5d8f-4d91-9ca3-ed06c1f926fc-…"
      ]
     },
     "metadata": {},
     "output_type": "display_data"
    },
    {
     "data": {
      "application/vnd.jupyter.widget-view+json": {
       "model_id": "41eb307eac9547f4869767370547d9e1",
       "version_major": 2,
       "version_minor": 0
      },
      "text/plain": [
       "Accordion(children=(Output(),), selected_index=0, titles=('Job Metadata   (c19962b0-5d8f-4d91-9ca3-ed06c1f926f…"
      ]
     },
     "metadata": {},
     "output_type": "display_data"
    },
    {
     "data": {
      "application/vnd.jupyter.widget-view+json": {
       "model_id": "e036ae66e9934a208bb80f0e1ea635ac",
       "version_major": 2,
       "version_minor": 0
      },
      "text/plain": [
       "Accordion(children=(Output(),), selected_index=0, titles=('Job History Data   (c19962b0-5d8f-4d91-9ca3-ed06c1f…"
      ]
     },
     "metadata": {},
     "output_type": "display_data"
    },
    {
     "data": {
      "application/vnd.jupyter.widget-view+json": {
       "model_id": "33a9035ab55a4d5a9c9a70735ead183d",
       "version_major": 2,
       "version_minor": 0
      },
      "text/plain": [
       "Accordion(children=(Output(),), selected_index=0, titles=('Job Filedata   (c19962b0-5d8f-4d91-9ca3-ed06c1f926f…"
      ]
     },
     "metadata": {},
     "output_type": "display_data"
    }
   ],
   "source": [
    "tapisInput = tapisInputAll.copy()\n",
    "\n",
    "tapisInput['storage_system'] = 'CommunityData'\n",
    "tapisInput['input_folder'] = 'OpenSees/TrainingMaterial/training-OpenSees-on-DesignSafe/Examples_OpenSees/BasicExamples' \n",
    "\n",
    "tapisInput['main_program'] = 'OpenSees'\n",
    "tapisInput['input_filename'] = 'Ex1a.Canti2D.Push.tcl'\n",
    "\n",
    "tapisInput['command_line_args'] = '[33,22]'\n",
    "\n",
    "# -----------------------------------------------------\n",
    "if do_submitJob:\n",
    "    for hereApp in ['opensees-express',app_id]:\n",
    "        here_tapisInput = tapisInput.copy()\n",
    "        here_tapisInput[\"appId\"] = hereApp \n",
    "        here_tapisInput[\"name\"] = here_tapisInput['main_program'] + '_' + here_tapisInput[\"appId\"]\n",
    "        print(f'\\n -- {here_tapisInput['name']} --\\n')\n",
    "        # jobReturns = OpsUtils.run_tapis_job(t,here_tapisInput,get_job_metadata=True,get_job_history=True,get_job_filedata=True,askConfirmJob = False,askConfirmMonitorRT = False)\n",
    "        if hereApp == app_id:\n",
    "            here_tapisInput['zipFolderOut'] = 'True'\n",
    "            here_tapisInput[\"name\"] = here_tapisInput['main_program'] + '_' + here_tapisInput[\"appId\"] + '_' + 'zipFolderOut'\n",
    "            print(f'\\n -- {here_tapisInput['name']} --\\n')\n",
    "            jobReturns = OpsUtils.run_tapis_job(t,here_tapisInput,get_job_metadata=True,get_job_history=True,get_job_filedata=True,askConfirmJob = False,askConfirmMonitorRT = False)\n",
    "# -----------------------------------------------------"
   ]
  },
  {
   "cell_type": "markdown",
   "metadata": {},
   "source": [
    "### OpenSeesMP"
   ]
  },
  {
   "cell_type": "code",
   "execution_count": 33,
   "metadata": {},
   "outputs": [
    {
     "name": "stdout",
     "output_type": "stream",
     "text": [
      "\n",
      " -- OpenSeesMP_opensees-mp-s3 --\n",
      "\n",
      "Creating job_description\n",
      "Submitting Job\n",
      "Job submitted! ID: dc4c3b70-4070-4b53-b60a-d68b91ef3461-007\n",
      "job_start_time: 1755645588.867304\n",
      "\n",
      "Real-Time Job-Status Updates...\n",
      "--------------------\n",
      "\t Elapsed job time: 1.05 sec\t Current Status: PENDING\n",
      "\t Elapsed job time: 2.07 sec\t Current Status: PROCESSING_INPUTS\t\t(PENDING took 1.03 sec)\n",
      "\t Elapsed job time: 3.1 sec\t Current Status: STAGING_INPUTS\t\t(PROCESSING_INPUTS took 1.03 sec)\n",
      "\t Elapsed job time: 39.1 sec\t Current Status: STAGING_JOB\t\t(STAGING_INPUTS took 36.01 sec)\n",
      "\t Elapsed job time: 60.77 sec\t Current Status: SUBMITTING_JOB\t\t(STAGING_JOB took 21.67 sec)\n",
      "\t Elapsed job time: 61.79 sec\t Current Status: QUEUED\t\t(SUBMITTING_JOB took 1.02 sec)\n",
      "\t Elapsed job time: 63.85 sec\t Current Status: RUNNING\t\t(QUEUED took 2.06 sec)\n",
      "\t Elapsed job time: 89.61 sec\t Current Status: ARCHIVING\t\t(RUNNING took 25.76 sec)\n",
      "\t Elapsed job time: 142.44 sec\t Current Status: FINISHED\t\t(ARCHIVING took 52.83 sec)\n",
      "\t  Status: FINISHED\t Elapsed job time: 142.44 sec\n",
      "--------------------\n",
      "Elapsed time since Job was submitted: 142.44 sec\n",
      "--------------------\n"
     ]
    },
    {
     "data": {
      "application/vnd.jupyter.widget-view+json": {
       "model_id": "4c2dd23150f84942b0873b2dc73336eb",
       "version_major": 2,
       "version_minor": 0
      },
      "text/plain": [
       "Accordion(children=(Output(),), selected_index=0, titles=('Job STATUS   (dc4c3b70-4070-4b53-b60a-d68b91ef3461-…"
      ]
     },
     "metadata": {},
     "output_type": "display_data"
    },
    {
     "data": {
      "application/vnd.jupyter.widget-view+json": {
       "model_id": "4f12ff2a5a9640069104d4d82f6934cf",
       "version_major": 2,
       "version_minor": 0
      },
      "text/plain": [
       "Accordion(children=(Output(),), selected_index=0, titles=('Job Metadata   (dc4c3b70-4070-4b53-b60a-d68b91ef346…"
      ]
     },
     "metadata": {},
     "output_type": "display_data"
    },
    {
     "data": {
      "application/vnd.jupyter.widget-view+json": {
       "model_id": "9970a6c5e61f478e8204af83a1293e7b",
       "version_major": 2,
       "version_minor": 0
      },
      "text/plain": [
       "Accordion(children=(Output(),), selected_index=0, titles=('Job History Data   (dc4c3b70-4070-4b53-b60a-d68b91e…"
      ]
     },
     "metadata": {},
     "output_type": "display_data"
    },
    {
     "data": {
      "application/vnd.jupyter.widget-view+json": {
       "model_id": "a3a530d51a1b41c89fcb908b4b8dbd6f",
       "version_major": 2,
       "version_minor": 0
      },
      "text/plain": [
       "Accordion(children=(Output(),), selected_index=0, titles=('Job Filedata   (dc4c3b70-4070-4b53-b60a-d68b91ef346…"
      ]
     },
     "metadata": {},
     "output_type": "display_data"
    },
    {
     "name": "stdout",
     "output_type": "stream",
     "text": [
      "\n",
      " -- OpenSeesMP_agnostic-app-test --\n",
      "\n",
      "Creating job_description\n",
      "Submitting Job\n",
      "Job submitted! ID: c1d51a87-293e-49e9-9288-6aef679658d3-007\n",
      "job_start_time: 1755645742.7619605\n",
      "\n",
      "Real-Time Job-Status Updates...\n",
      "--------------------\n",
      "\t Elapsed job time: 1.08 sec\t Current Status: PENDING\n",
      "\t Elapsed job time: 2.1 sec\t Current Status: STAGING_INPUTS\t\t(PENDING took 1.03 sec)\n",
      "\t Elapsed job time: 28.83 sec\t Current Status: STAGING_JOB\t\t(STAGING_INPUTS took 26.72 sec)\n",
      "\t Elapsed job time: 60.74 sec\t Current Status: QUEUED\t\t(STAGING_JOB took 31.91 sec)\n",
      "\t Elapsed job time: 63.85 sec\t Current Status: RUNNING\t\t(QUEUED took 3.11 sec)\n",
      "\t Elapsed job time: 89.62 sec\t Current Status: ARCHIVING\t\t(RUNNING took 25.77 sec)\n",
      "\t Elapsed job time: 132.42 sec\t Current Status: FINISHED\t\t(ARCHIVING took 42.8 sec)\n",
      "\t  Status: FINISHED\t Elapsed job time: 132.42 sec\n",
      "--------------------\n",
      "Elapsed time since Job was submitted: 132.42 sec\n",
      "--------------------\n"
     ]
    },
    {
     "data": {
      "application/vnd.jupyter.widget-view+json": {
       "model_id": "7cf22c7e479c4509994645d06fa27915",
       "version_major": 2,
       "version_minor": 0
      },
      "text/plain": [
       "Accordion(children=(Output(),), selected_index=0, titles=('Job STATUS   (c1d51a87-293e-49e9-9288-6aef679658d3-…"
      ]
     },
     "metadata": {},
     "output_type": "display_data"
    },
    {
     "data": {
      "application/vnd.jupyter.widget-view+json": {
       "model_id": "69f387fc0eb24246b796ff0042fd48d1",
       "version_major": 2,
       "version_minor": 0
      },
      "text/plain": [
       "Accordion(children=(Output(),), selected_index=0, titles=('Job Metadata   (c1d51a87-293e-49e9-9288-6aef679658d…"
      ]
     },
     "metadata": {},
     "output_type": "display_data"
    },
    {
     "data": {
      "application/vnd.jupyter.widget-view+json": {
       "model_id": "ee8b9e727d25420da821895e6f8aa4f5",
       "version_major": 2,
       "version_minor": 0
      },
      "text/plain": [
       "Accordion(children=(Output(),), selected_index=0, titles=('Job History Data   (c1d51a87-293e-49e9-9288-6aef679…"
      ]
     },
     "metadata": {},
     "output_type": "display_data"
    },
    {
     "data": {
      "application/vnd.jupyter.widget-view+json": {
       "model_id": "c79fe7317923404ea7dd7dfc14ca7ddf",
       "version_major": 2,
       "version_minor": 0
      },
      "text/plain": [
       "Accordion(children=(Output(),), selected_index=0, titles=('Job Filedata   (c1d51a87-293e-49e9-9288-6aef679658d…"
      ]
     },
     "metadata": {},
     "output_type": "display_data"
    },
    {
     "name": "stdout",
     "output_type": "stream",
     "text": [
      "\n",
      " -- OpenSeesMP_agnostic-app-test_zipFolderOut --\n",
      "\n",
      "Creating job_description\n",
      "Submitting Job\n",
      "Job submitted! ID: 2aa1e21b-9289-4410-afaa-768d2397ee9b-007\n",
      "job_start_time: 1755645884.7424004\n",
      "\n",
      "Real-Time Job-Status Updates...\n",
      "--------------------\n",
      "\t Elapsed job time: 1.04 sec\t Current Status: PENDING\n",
      "\t Elapsed job time: 2.06 sec\t Current Status: STAGING_INPUTS\t\t(PENDING took 1.02 sec)\n",
      "\t Elapsed job time: 27.76 sec\t Current Status: STAGING_JOB\t\t(STAGING_INPUTS took 25.7 sec)\n",
      "\t Elapsed job time: 50.43 sec\t Current Status: QUEUED\t\t(STAGING_JOB took 22.68 sec)\n",
      "\t Elapsed job time: 52.48 sec\t Current Status: RUNNING\t\t(QUEUED took 2.04 sec)\n",
      "\t Elapsed job time: 67.87 sec\t Current Status: ARCHIVING\t\t(RUNNING took 15.39 sec)\n",
      "\t Elapsed job time: 95.77 sec\t Current Status: FINISHED\t\t(ARCHIVING took 27.9 sec)\n",
      "\t  Status: FINISHED\t Elapsed job time: 95.77 sec\n",
      "--------------------\n",
      "Elapsed time since Job was submitted: 95.77 sec\n",
      "--------------------\n"
     ]
    },
    {
     "data": {
      "application/vnd.jupyter.widget-view+json": {
       "model_id": "7969d8c8e08b4681b266068c2729e79d",
       "version_major": 2,
       "version_minor": 0
      },
      "text/plain": [
       "Accordion(children=(Output(),), selected_index=0, titles=('Job STATUS   (2aa1e21b-9289-4410-afaa-768d2397ee9b-…"
      ]
     },
     "metadata": {},
     "output_type": "display_data"
    },
    {
     "data": {
      "application/vnd.jupyter.widget-view+json": {
       "model_id": "b07418d127024848946890c466a92403",
       "version_major": 2,
       "version_minor": 0
      },
      "text/plain": [
       "Accordion(children=(Output(),), selected_index=0, titles=('Job Metadata   (2aa1e21b-9289-4410-afaa-768d2397ee9…"
      ]
     },
     "metadata": {},
     "output_type": "display_data"
    },
    {
     "data": {
      "application/vnd.jupyter.widget-view+json": {
       "model_id": "7ee111cbb95b415285ebb45de7023fd5",
       "version_major": 2,
       "version_minor": 0
      },
      "text/plain": [
       "Accordion(children=(Output(),), selected_index=0, titles=('Job History Data   (2aa1e21b-9289-4410-afaa-768d239…"
      ]
     },
     "metadata": {},
     "output_type": "display_data"
    },
    {
     "data": {
      "application/vnd.jupyter.widget-view+json": {
       "model_id": "99f6b7e4d4d14c66be4df38239da1878",
       "version_major": 2,
       "version_minor": 0
      },
      "text/plain": [
       "Accordion(children=(Output(),), selected_index=0, titles=('Job Filedata   (2aa1e21b-9289-4410-afaa-768d2397ee9…"
      ]
     },
     "metadata": {},
     "output_type": "display_data"
    }
   ],
   "source": [
    "tapisInput = tapisInputAll.copy()\n",
    "\n",
    "tapisInput['storage_system'] = 'CommunityData'\n",
    "tapisInput['input_folder'] = 'OpenSees/TrainingMaterial/training-OpenSees-on-DesignSafe/Examples_OpenSees/BasicExamples' \n",
    "\n",
    "tapisInput['main_program'] = 'OpenSeesMP'\n",
    "tapisInput['input_filename'] = 'Ex1a_many.Canti2D.Push.mp.tcl'\n",
    "\n",
    "tapisInput['command_line_args'] = '[33,22]'\n",
    "\n",
    "# -----------------------------------------------------\n",
    "if do_submitJob:\n",
    "    for hereApp in ['opensees-mp-s3',app_id]:\n",
    "        here_tapisInput = tapisInput.copy()\n",
    "        here_tapisInput[\"appId\"] = hereApp \n",
    "        here_tapisInput[\"name\"] = here_tapisInput['main_program'] + '_' + here_tapisInput[\"appId\"]\n",
    "        print(f'\\n -- {here_tapisInput['name']} --\\n')\n",
    "        jobReturns = OpsUtils.run_tapis_job(t,here_tapisInput,get_job_metadata=True,get_job_history=True,get_job_filedata=True,askConfirmJob = False,askConfirmMonitorRT = False)\n",
    "        if hereApp == app_id:\n",
    "            here_tapisInput['zipFolderOut'] = 'True'\n",
    "            here_tapisInput[\"name\"] = here_tapisInput['main_program'] + '_' + here_tapisInput[\"appId\"] + '_' + 'zipFolderOut'\n",
    "            print(f'\\n -- {here_tapisInput['name']} --\\n')\n",
    "            jobReturns = OpsUtils.run_tapis_job(t,here_tapisInput,get_job_metadata=True,get_job_history=True,get_job_filedata=True,askConfirmJob = False,askConfirmMonitorRT = False)\n",
    "# -----------------------------------------------------"
   ]
  },
  {
   "cell_type": "markdown",
   "metadata": {},
   "source": [
    "### OpenSeesSP"
   ]
  },
  {
   "cell_type": "code",
   "execution_count": 34,
   "metadata": {},
   "outputs": [
    {
     "name": "stdout",
     "output_type": "stream",
     "text": [
      "\n",
      " -- OpenSeesSP_opensees-sp-s3 --\n",
      "\n",
      "Creating job_description\n",
      "Submitting Job\n",
      "Job submitted! ID: 2886e3d5-87cd-48d2-b61b-b39e435fe850-007\n",
      "job_start_time: 1755648124.668872\n",
      "\n",
      "Real-Time Job-Status Updates...\n",
      "--------------------\n",
      "\t Elapsed job time: 1.06 sec\t Current Status: PENDING\n",
      "\t Elapsed job time: 2.08 sec\t Current Status: PROCESSING_INPUTS\t\t(PENDING took 1.02 sec)\n",
      "\t Elapsed job time: 5.21 sec\t Current Status: STAGING_INPUTS\t\t(PROCESSING_INPUTS took 3.12 sec)\n",
      "\t Elapsed job time: 41.15 sec\t Current Status: STAGING_JOB\t\t(STAGING_INPUTS took 35.94 sec)\n",
      "\t Elapsed job time: 73.01 sec\t Current Status: QUEUED\t\t(STAGING_JOB took 31.86 sec)\n",
      "\t Elapsed job time: 86.41 sec\t Current Status: RUNNING\t\t(QUEUED took 13.41 sec)\n",
      "\t Elapsed job time: 98.85 sec\t Current Status: ARCHIVING\t\t(RUNNING took 12.44 sec)\n",
      "\t Elapsed job time: 142.32 sec\t Current Status: FINISHED\t\t(ARCHIVING took 43.47 sec)\n",
      "\t  Status: FINISHED\t Elapsed job time: 142.32 sec\n",
      "--------------------\n",
      "Elapsed time since Job was submitted: 142.32 sec\n",
      "--------------------\n"
     ]
    },
    {
     "data": {
      "application/vnd.jupyter.widget-view+json": {
       "model_id": "13f2e9ea1c664ece89bb45c490e35d7d",
       "version_major": 2,
       "version_minor": 0
      },
      "text/plain": [
       "Accordion(children=(Output(),), selected_index=0, titles=('Job STATUS   (2886e3d5-87cd-48d2-b61b-b39e435fe850-…"
      ]
     },
     "metadata": {},
     "output_type": "display_data"
    },
    {
     "data": {
      "application/vnd.jupyter.widget-view+json": {
       "model_id": "4a56b35410f44fb6b4304279ab6c7edc",
       "version_major": 2,
       "version_minor": 0
      },
      "text/plain": [
       "Accordion(children=(Output(),), selected_index=0, titles=('Job Metadata   (2886e3d5-87cd-48d2-b61b-b39e435fe85…"
      ]
     },
     "metadata": {},
     "output_type": "display_data"
    },
    {
     "data": {
      "application/vnd.jupyter.widget-view+json": {
       "model_id": "45b3ade59a3443ac8dfe480fac408453",
       "version_major": 2,
       "version_minor": 0
      },
      "text/plain": [
       "Accordion(children=(Output(),), selected_index=0, titles=('Job History Data   (2886e3d5-87cd-48d2-b61b-b39e435…"
      ]
     },
     "metadata": {},
     "output_type": "display_data"
    },
    {
     "data": {
      "application/vnd.jupyter.widget-view+json": {
       "model_id": "cb4a59f8646846aaa7a37af20d80f184",
       "version_major": 2,
       "version_minor": 0
      },
      "text/plain": [
       "Accordion(children=(Output(),), selected_index=0, titles=('Job Filedata   (2886e3d5-87cd-48d2-b61b-b39e435fe85…"
      ]
     },
     "metadata": {},
     "output_type": "display_data"
    },
    {
     "name": "stdout",
     "output_type": "stream",
     "text": [
      "\n",
      " -- OpenSeesSP_agnostic-app-test --\n",
      "\n",
      "Creating job_description\n",
      "Submitting Job\n",
      "Job submitted! ID: aacafbfc-2a0b-4d72-9055-a33f086963d3-007\n",
      "job_start_time: 1755648275.2282097\n",
      "\n",
      "Real-Time Job-Status Updates...\n",
      "--------------------\n",
      "\t Elapsed job time: 1.05 sec\t Current Status: PENDING\n",
      "\t Elapsed job time: 2.07 sec\t Current Status: STAGING_INPUTS\t\t(PENDING took 1.02 sec)\n",
      "\t Elapsed job time: 27.81 sec\t Current Status: STAGING_JOB\t\t(STAGING_INPUTS took 25.73 sec)\n",
      "\t Elapsed job time: 44.29 sec\t Current Status: SUBMITTING_JOB\t\t(STAGING_JOB took 16.48 sec)\n",
      "\t Elapsed job time: 45.33 sec\t Current Status: QUEUED\t\t(SUBMITTING_JOB took 1.05 sec)\n",
      "\t Elapsed job time: 58.71 sec\t Current Status: RUNNING\t\t(QUEUED took 13.37 sec)\n",
      "\t Elapsed job time: 71.04 sec\t Current Status: ARCHIVING\t\t(RUNNING took 12.34 sec)\n",
      "\t Elapsed job time: 117.01 sec\t Current Status: FINISHED\t\t(ARCHIVING took 45.96 sec)\n",
      "\t  Status: FINISHED\t Elapsed job time: 117.01 sec\n",
      "--------------------\n",
      "Elapsed time since Job was submitted: 117.01 sec\n",
      "--------------------\n"
     ]
    },
    {
     "data": {
      "application/vnd.jupyter.widget-view+json": {
       "model_id": "1f25c88eeed84455b9be60dfb0b38cda",
       "version_major": 2,
       "version_minor": 0
      },
      "text/plain": [
       "Accordion(children=(Output(),), selected_index=0, titles=('Job STATUS   (aacafbfc-2a0b-4d72-9055-a33f086963d3-…"
      ]
     },
     "metadata": {},
     "output_type": "display_data"
    },
    {
     "data": {
      "application/vnd.jupyter.widget-view+json": {
       "model_id": "0452e220ea97491b9e02b92f39ac9351",
       "version_major": 2,
       "version_minor": 0
      },
      "text/plain": [
       "Accordion(children=(Output(),), selected_index=0, titles=('Job Metadata   (aacafbfc-2a0b-4d72-9055-a33f086963d…"
      ]
     },
     "metadata": {},
     "output_type": "display_data"
    },
    {
     "data": {
      "application/vnd.jupyter.widget-view+json": {
       "model_id": "caeea3f668b54bc99c811598813411eb",
       "version_major": 2,
       "version_minor": 0
      },
      "text/plain": [
       "Accordion(children=(Output(),), selected_index=0, titles=('Job History Data   (aacafbfc-2a0b-4d72-9055-a33f086…"
      ]
     },
     "metadata": {},
     "output_type": "display_data"
    },
    {
     "data": {
      "application/vnd.jupyter.widget-view+json": {
       "model_id": "4b69a529e2484e84adb4e4c2b8383dc9",
       "version_major": 2,
       "version_minor": 0
      },
      "text/plain": [
       "Accordion(children=(Output(),), selected_index=0, titles=('Job Filedata   (aacafbfc-2a0b-4d72-9055-a33f086963d…"
      ]
     },
     "metadata": {},
     "output_type": "display_data"
    },
    {
     "name": "stdout",
     "output_type": "stream",
     "text": [
      "\n",
      " -- OpenSeesSP_agnostic-app-test_zipFolderOut --\n",
      "\n",
      "Creating job_description\n",
      "Submitting Job\n",
      "Job submitted! ID: 0f3185a3-d71f-411e-a93a-2e8e261a7557-007\n",
      "job_start_time: 1755648400.4160562\n",
      "\n",
      "Real-Time Job-Status Updates...\n",
      "--------------------\n",
      "\t Elapsed job time: 1.04 sec\t Current Status: PENDING\n",
      "\t Elapsed job time: 2.07 sec\t Current Status: STAGING_INPUTS\t\t(PENDING took 1.03 sec)\n",
      "\t Elapsed job time: 38.08 sec\t Current Status: STAGING_JOB\t\t(STAGING_INPUTS took 36.01 sec)\n",
      "\t Elapsed job time: 69.88 sec\t Current Status: SUBMITTING_JOB\t\t(STAGING_JOB took 31.8 sec)\n",
      "\t Elapsed job time: 70.9 sec\t Current Status: QUEUED\t\t(SUBMITTING_JOB took 1.02 sec)\n",
      "\t Elapsed job time: 72.95 sec\t Current Status: RUNNING\t\t(QUEUED took 2.05 sec)\n",
      "\t Elapsed job time: 98.79 sec\t Current Status: ARCHIVING\t\t(RUNNING took 25.84 sec)\n",
      "\t Elapsed job time: 142.23 sec\t Current Status: FINISHED\t\t(ARCHIVING took 43.44 sec)\n",
      "\t  Status: FINISHED\t Elapsed job time: 142.23 sec\n",
      "--------------------\n",
      "Elapsed time since Job was submitted: 142.23 sec\n",
      "--------------------\n"
     ]
    },
    {
     "data": {
      "application/vnd.jupyter.widget-view+json": {
       "model_id": "d18e5e9a46694c289a2c76eb4b3a2570",
       "version_major": 2,
       "version_minor": 0
      },
      "text/plain": [
       "Accordion(children=(Output(),), selected_index=0, titles=('Job STATUS   (0f3185a3-d71f-411e-a93a-2e8e261a7557-…"
      ]
     },
     "metadata": {},
     "output_type": "display_data"
    },
    {
     "data": {
      "application/vnd.jupyter.widget-view+json": {
       "model_id": "5741448d05b44571a6162d49cfeddf62",
       "version_major": 2,
       "version_minor": 0
      },
      "text/plain": [
       "Accordion(children=(Output(),), selected_index=0, titles=('Job Metadata   (0f3185a3-d71f-411e-a93a-2e8e261a755…"
      ]
     },
     "metadata": {},
     "output_type": "display_data"
    },
    {
     "data": {
      "application/vnd.jupyter.widget-view+json": {
       "model_id": "e1559ab673204cf593afe52545d91e2c",
       "version_major": 2,
       "version_minor": 0
      },
      "text/plain": [
       "Accordion(children=(Output(),), selected_index=0, titles=('Job History Data   (0f3185a3-d71f-411e-a93a-2e8e261…"
      ]
     },
     "metadata": {},
     "output_type": "display_data"
    },
    {
     "data": {
      "application/vnd.jupyter.widget-view+json": {
       "model_id": "546b23e56efd4f3583713491c018d961",
       "version_major": 2,
       "version_minor": 0
      },
      "text/plain": [
       "Accordion(children=(Output(),), selected_index=0, titles=('Job Filedata   (0f3185a3-d71f-411e-a93a-2e8e261a755…"
      ]
     },
     "metadata": {},
     "output_type": "display_data"
    }
   ],
   "source": [
    "tapisInput = tapisInputAll.copy()\n",
    "\n",
    "tapisInput['storage_system'] = 'CommunityData'\n",
    "tapisInput['input_folder'] = 'OpenSees/TrainingMaterial/training-OpenSees-on-DesignSafe/Examples_OpenSees/BasicExamples' \n",
    "\n",
    "tapisInput['main_program'] = 'OpenSeesSP'\n",
    "tapisInput['input_filename'] = 'simpleSP.tcl'\n",
    "\n",
    "tapisInput['command_line_args'] = '[33,22]'\n",
    "\n",
    "# -----------------------------------------------------\n",
    "if do_submitJob:\n",
    "    for hereApp in ['opensees-sp-s3',app_id]:\n",
    "        here_tapisInput = tapisInput.copy()\n",
    "        here_tapisInput[\"appId\"] = hereApp \n",
    "        here_tapisInput[\"name\"] = here_tapisInput['main_program'] + '_' + here_tapisInput[\"appId\"]\n",
    "        print(f'\\n -- {here_tapisInput['name']} --\\n')\n",
    "        jobReturns = OpsUtils.run_tapis_job(t,here_tapisInput,get_job_metadata=True,get_job_history=True,get_job_filedata=True,askConfirmJob = False,askConfirmMonitorRT = False)\n",
    "        if hereApp == app_id:\n",
    "            here_tapisInput['zipFolderOut'] = 'True'\n",
    "            here_tapisInput[\"name\"] = here_tapisInput['main_program'] + '_' + here_tapisInput[\"appId\"] + '_' + 'zipFolderOut'\n",
    "            print(f'\\n -- {here_tapisInput['name']} --\\n')\n",
    "            jobReturns = OpsUtils.run_tapis_job(t,here_tapisInput,get_job_metadata=True,get_job_history=True,get_job_filedata=True,askConfirmJob = False,askConfirmMonitorRT = False)\n",
    "# -----------------------------------------------------"
   ]
  },
  {
   "cell_type": "markdown",
   "metadata": {},
   "source": [
    "### OpenSeesPy"
   ]
  },
  {
   "cell_type": "code",
   "execution_count": null,
   "metadata": {},
   "outputs": [
    {
     "name": "stdout",
     "output_type": "stream",
     "text": [
      "\n",
      " -- python_agnostic-app-test --\n",
      "\n",
      "Creating job_description\n",
      "Submitting Job\n",
      "Job submitted! ID: 0ff17cb2-b595-4c99-b76a-f7e46396477e-007\n",
      "job_start_time: 1755648550.427651\n",
      "\n",
      "Real-Time Job-Status Updates...\n",
      "--------------------\n",
      "\t Elapsed job time: 1.07 sec\t Current Status: PENDING\n",
      "\t Elapsed job time: 2.12 sec\t Current Status: STAGING_INPUTS\t\t(PENDING took 1.04 sec)\n",
      "\t Elapsed job time: 27.88 sec\t Current Status: STAGING_JOB\t\t(STAGING_INPUTS took 25.76 sec)\n",
      "\t Elapsed job time: 59.78 sec\t Current Status: SUBMITTING_JOB\t\t(STAGING_JOB took 31.9 sec)\n",
      "\t Elapsed job time: 60.8 sec\t Current Status: QUEUED\t\t(SUBMITTING_JOB took 1.02 sec)\n",
      "\t Elapsed job time: 74.15 sec\t Current Status: RUNNING\t\t(QUEUED took 13.35 sec)\n",
      "\t Elapsed job time: 152.42 sec\t Current Status: ARCHIVING\t\t(RUNNING took 78.26 sec)\n",
      "\t Elapsed job time: 198.01 sec\t Current Status: FINISHED\t\t(ARCHIVING took 45.59 sec)\n",
      "\t  Status: FINISHED\t Elapsed job time: 198.01 sec\n",
      "--------------------\n",
      "Elapsed time since Job was submitted: 198.01 sec\n",
      "--------------------\n"
     ]
    },
    {
     "data": {
      "application/vnd.jupyter.widget-view+json": {
       "model_id": "b51808a85db645759f45c10d5dca4490",
       "version_major": 2,
       "version_minor": 0
      },
      "text/plain": [
       "Accordion(children=(Output(),), selected_index=0, titles=('Job STATUS   (0ff17cb2-b595-4c99-b76a-f7e46396477e-…"
      ]
     },
     "metadata": {},
     "output_type": "display_data"
    },
    {
     "data": {
      "application/vnd.jupyter.widget-view+json": {
       "model_id": "e23fd36a8a414bf4a88aafd47a290434",
       "version_major": 2,
       "version_minor": 0
      },
      "text/plain": [
       "Accordion(children=(Output(),), selected_index=0, titles=('Job Metadata   (0ff17cb2-b595-4c99-b76a-f7e46396477…"
      ]
     },
     "metadata": {},
     "output_type": "display_data"
    },
    {
     "data": {
      "application/vnd.jupyter.widget-view+json": {
       "model_id": "e62de10e9b2e4535a92ba41afec730f3",
       "version_major": 2,
       "version_minor": 0
      },
      "text/plain": [
       "Accordion(children=(Output(),), selected_index=0, titles=('Job History Data   (0ff17cb2-b595-4c99-b76a-f7e4639…"
      ]
     },
     "metadata": {},
     "output_type": "display_data"
    },
    {
     "data": {
      "application/vnd.jupyter.widget-view+json": {
       "model_id": "e39648d19f8c4c5dae95ae94de56f85a",
       "version_major": 2,
       "version_minor": 0
      },
      "text/plain": [
       "Accordion(children=(Output(),), selected_index=0, titles=('Job Filedata   (0ff17cb2-b595-4c99-b76a-f7e46396477…"
      ]
     },
     "metadata": {},
     "output_type": "display_data"
    },
    {
     "name": "stdout",
     "output_type": "stream",
     "text": [
      "\n",
      " -- python_agnostic-app-test_zipFolderOut --\n",
      "\n",
      "Creating job_description\n",
      "Submitting Job\n",
      "Job submitted! ID: a0dc3b5e-72f8-4cee-ba21-1ed232865718-007\n",
      "job_start_time: 1755648757.083099\n",
      "\n",
      "Real-Time Job-Status Updates...\n",
      "--------------------\n",
      "\t Elapsed job time: 1.04 sec\t Current Status: PENDING\n",
      "\t Elapsed job time: 2.08 sec\t Current Status: STAGING_INPUTS\t\t(PENDING took 1.04 sec)\n"
     ]
    }
   ],
   "source": [
    "tapisInput = tapisInputAll.copy()\n",
    "\n",
    "tapisInput['storage_system'] = 'CommunityData'\n",
    "tapisInput['input_folder'] = 'OpenSees/TrainingMaterial/training-OpenSees-on-DesignSafe/Examples_OpenSees/BasicExamples' \n",
    "\n",
    "tapisInput['main_program'] = 'python'\n",
    "tapisInput['input_filename'] = 'Ex1a.Canti2D.Push.mpi.py'\n",
    "\n",
    "tapisInput['command_line_args'] = '[33,22]'\n",
    "\n",
    "# -----------------------------------------------------\n",
    "if do_submitJob:\n",
    "    for hereApp in [app_id]:\n",
    "        here_tapisInput = tapisInput.copy()\n",
    "        here_tapisInput[\"appId\"] = hereApp \n",
    "        here_tapisInput[\"name\"] = here_tapisInput['main_program'] + '_' + here_tapisInput[\"appId\"]\n",
    "        print(f'\\n -- {here_tapisInput['name']} --\\n')\n",
    "        jobReturns = OpsUtils.run_tapis_job(t,here_tapisInput,get_job_metadata=True,get_job_history=True,get_job_filedata=True,askConfirmJob = False,askConfirmMonitorRT = False)\n",
    "        if hereApp == app_id:\n",
    "            here_tapisInput['zipFolderOut'] = 'True'\n",
    "            here_tapisInput[\"name\"] = here_tapisInput['main_program'] + '_' + here_tapisInput[\"appId\"] + '_' + 'zipFolderOut'\n",
    "            print(f'\\n -- {here_tapisInput['name']} --\\n')\n",
    "            jobReturns = OpsUtils.run_tapis_job(t,here_tapisInput,get_job_metadata=True,get_job_history=True,get_job_filedata=True,askConfirmJob = False,askConfirmMonitorRT = False)\n",
    "# -----------------------------------------------------"
   ]
  },
  {
   "cell_type": "markdown",
   "metadata": {},
   "source": [
    "### OpenSeesPy with zipFolderOut"
   ]
  },
  {
   "cell_type": "code",
   "execution_count": null,
   "metadata": {},
   "outputs": [],
   "source": [
    "# tapisInput = tapisInputAll.copy()\n",
    "\n",
    "# tapisInput['zipFolderOut'] = 'True'\n",
    "\n",
    "# tapisInput['storage_system'] = 'CommunityData'\n",
    "# tapisInput['input_folder'] = 'OpenSees/TrainingMaterial/training-OpenSees-on-DesignSafe/Examples_OpenSees/BasicExamples' \n",
    "\n",
    "# tapisInput['main_program'] = 'python'\n",
    "# tapisInput['input_filename'] = 'Ex1a.Canti2D.Push.mpi.py'\n",
    "\n",
    "# tapisInput['command_line_args'] = '[33,22]'\n",
    "\n",
    "# # -----------------------------------------------------\n",
    "# if do_submitJob:\n",
    "#     for hereApp in [app_id]:\n",
    "#         here_tapisInput = tapisInput.copy()\n",
    "#         here_tapisInput[\"appId\"] = hereApp \n",
    "#         here_tapisInput[\"name\"] = here_tapisInput['main_program'] + '_' + here_tapisInput[\"appId\"]\n",
    "#         print(f'\\n -- {here_tapisInput['name']} --\\n')\n",
    "#         jobReturns = OpsUtils.run_tapis_job(t,here_tapisInput,get_job_metadata=True,get_job_history=True,get_job_filedata=True,askConfirmJob = False,askConfirmMonitorRT = False)\n",
    "#         if hereApp == app_id:\n",
    "#             here_tapisInput['zipFolderOut'] = 1\n",
    "#             here_tapisInput[\"name\"] = here_tapisInput['main_program'] + '_' + here_tapisInput[\"appId\"] + '_' + 'zipFolderOut'\n",
    "#             print(f'\\n -- {here_tapisInput['name']} --\\n')\n",
    "#             jobReturns = OpsUtils.run_tapis_job(t,here_tapisInput,get_job_metadata=True,get_job_history=True,get_job_filedata=True,askConfirmJob = False,askConfirmMonitorRT = False)\n",
    "# # -----------------------------------------------------"
   ]
  },
  {
   "cell_type": "code",
   "execution_count": null,
   "metadata": {},
   "outputs": [],
   "source": []
  },
  {
   "cell_type": "code",
   "execution_count": null,
   "metadata": {},
   "outputs": [],
   "source": []
  }
 ],
 "metadata": {
  "IMAGE_NAME": "taccsciapps/ds-nb-img:base-0.2.3",
  "UUID": "73e0880d-9b87-11ec-9c1c-13579dd95994",
  "celltoolbar": "Raw Cell Format",
  "kernelspec": {
   "display_name": "Python 3 (ipykernel)",
   "language": "python",
   "name": "python3"
  },
  "language_info": {
   "codemirror_mode": {
    "name": "ipython",
    "version": 3
   },
   "file_extension": ".py",
   "mimetype": "text/x-python",
   "name": "python",
   "nbconvert_exporter": "python",
   "pygments_lexer": "ipython3",
   "version": "3.12.11"
  }
 },
 "nbformat": 4,
 "nbformat_minor": 4
}
