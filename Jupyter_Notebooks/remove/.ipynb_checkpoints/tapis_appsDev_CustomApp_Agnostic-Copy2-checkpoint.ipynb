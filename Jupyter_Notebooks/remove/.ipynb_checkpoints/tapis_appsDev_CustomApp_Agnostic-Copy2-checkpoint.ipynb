{
 "cells": [
  {
   "cell_type": "markdown",
   "metadata": {},
   "source": [
    "<a class=\"reference external\" \n",
    "    href=\"https://jupyter.designsafe-ci.org/hub/user-redirect/lab/tree/CommunityData/OpenSees/TrainingMaterial/training-OpenSees-on-DesignSafe/Jupyter_Notebooks/tapis_appsDev_CustomApp_opsmps3copy.ipynb\" \n",
    "    target=\"_blank\"\n",
    "    >\n",
    "<img alt=\"Try on DesignSafe\" src=\"https://raw.githubusercontent.com/DesignSafe-Training/pinn/main/DesignSafe-Badge.svg\" /></a>"
   ]
  },
  {
   "cell_type": "markdown",
   "metadata": {},
   "source": [
    "# Agnostic App  📒\n",
    "***Create your own Tapis App***\n",
    "\n",
    "by Silvia Mazzoni, DesignSafe, 2025\n",
    "\n",
    "This is a step-by-step guide to help you write your own **Tapis v3 App** — from defining the app, to registering it, and running it. \n",
    "\n",
    "This is a practical walkthrough for defining and deploying an **HPC** app using the Tapis v3 API.\n",
    "\n",
    "In this notebook we will modify the opensees-mp-s3 for OpenSeesMP or OpenSeesSP"
   ]
  },
  {
   "cell_type": "code",
   "execution_count": 1,
   "metadata": {},
   "outputs": [
    {
     "data": {
      "text/plain": [
       "'/home/jupyter/MyData/_ToCommunityData/OpenSees/TrainingMaterial/training-OpenSees-on-DesignSafe/Jupyter_Notebooks'"
      ]
     },
     "execution_count": 1,
     "metadata": {},
     "output_type": "execute_result"
    }
   ],
   "source": [
    "pwd"
   ]
  },
  {
   "cell_type": "code",
   "execution_count": 2,
   "metadata": {},
   "outputs": [
    {
     "name": "stdout",
     "output_type": "stream",
     "text": [
      "Using local utilities library\n"
     ]
    }
   ],
   "source": [
    "# Local Utilities Library\n",
    "# you can remove the logic associated with the local path\n",
    "import sys,os\n",
    "relativePath = '../OpsUtils'\n",
    "if os.path.exists(relativePath):\n",
    "    print(\"Using local utilities library\")\n",
    "    PathOpsUtils = os.path.expanduser(relativePath)\n",
    "else:\n",
    "    print('using communitydata')\n",
    "    PathOpsUtils = os.path.expanduser('~/CommunityData/OpenSees/TrainingMaterial/training-OpenSees-on-DesignSafe/OpsUtils')\n",
    "if not PathOpsUtils in sys.path: sys.path.append(PathOpsUtils)\n",
    "from OpsUtils import OpsUtils"
   ]
  },
  {
   "cell_type": "code",
   "execution_count": 3,
   "metadata": {},
   "outputs": [],
   "source": [
    "import json"
   ]
  },
  {
   "cell_type": "code",
   "execution_count": 4,
   "metadata": {},
   "outputs": [],
   "source": [
    "# Make these True once you are done validating\n",
    "do_makeAppFiles = True\n",
    "do_upload = True\n",
    "do_register = True\n",
    "do_submitJob = True"
   ]
  },
  {
   "cell_type": "markdown",
   "metadata": {},
   "source": [
    "---\n",
    "## Connect to Tapis"
   ]
  },
  {
   "cell_type": "code",
   "execution_count": 5,
   "metadata": {},
   "outputs": [
    {
     "name": "stdout",
     "output_type": "stream",
     "text": [
      " -- Checking Tapis token --\n",
      " Token loaded from file. Token is still valid!\n",
      " Token expires at: 2025-08-19T05:35:46+00:00\n",
      " Token expires in: 3:32:27.157175\n",
      "-- LOG IN SUCCESSFUL! --\n"
     ]
    }
   ],
   "source": [
    "t=OpsUtils.connect_tapis()"
   ]
  },
  {
   "cell_type": "markdown",
   "metadata": {},
   "source": [
    "---\n",
    "### Get username"
   ]
  },
  {
   "cell_type": "code",
   "execution_count": 6,
   "metadata": {},
   "outputs": [
    {
     "data": {
      "text/html": [
       "\n",
       "                      <details style=\"margin-top:1em; font-family:monospace; background:white; \n",
       "                          padding:0.25em; border-radius:6px; border:1px solid #ccc;\">\n",
       "                        <summary style=\"cursor:pointer; font-weight:bold; background:white; \n",
       "                          padding:0.3em 0.5em; border-radius:4px;\">get_tapis_username.py</summary>\n",
       "\n",
       "                        <button onclick=\"navigator.clipboard.writeText(document.getElementById('5878592ca5dc4f15ada6912cac2b3a1c').innerText)\">\n",
       "                          📋 Copy\n",
       "                        </button>\n",
       "                        <pre id=\"5878592ca5dc4f15ada6912cac2b3a1c\" style=\"white-space:pre-wrap; margin:0.25em 0 0 0; \n",
       "                            background:#d4fbff; padding:.3em; border-radius:5px;\">\n",
       "<b># ../OpsUtils/OpsUtils/Tapis/get_tapis_username.py</b>\n",
       "def get_tapis_username(\n",
       "    t,\n",
       "    *,\n",
       "    prefer_userinfo: bool = True,\n",
       "    fallback_to_token: bool = True,\n",
       "    default=None,\n",
       "    verbose: bool = False,\n",
       "):\n",
       "    \"\"\"\n",
       "    Return the Tapis username from an authenticated client `t`, with safe fallbacks.\n",
       "\n",
       "    Resolution order (robust to Tapipy resource objects and dicts):\n",
       "      1) userinfo endpoint (if available):\n",
       "         t.authenticator.get_userinfo().username\n",
       "      2) client attribute:\n",
       "         getattr(t, \"username\", None)\n",
       "      3) token claims (if fallback_to_token=True):\n",
       "         - t.access_token.claims.get(\"tapis/username\") or \"username\"\n",
       "         - t.tokens.validateToken()[\"tapis/username\"] (as a last resort)\n",
       "\n",
       "    Parameters\n",
       "    ----------\n",
       "    t : tapipy.tapis.Tapis\n",
       "        Authenticated Tapis client.\n",
       "    prefer_userinfo : bool, default True\n",
       "        Try `t.authenticator.get_userinfo()` first. Some managed hubs disable this;\n",
       "        if it fails, the function silently falls back.\n",
       "    fallback_to_token : bool, default True\n",
       "        Allow using access-token claims or `validateToken()` as a fallback.\n",
       "    default : Any, default None\n",
       "        Value to return if no username can be determined.\n",
       "    verbose : bool, default False\n",
       "        If True, print brief hints when a resolution step fails.\n",
       "\n",
       "    Returns\n",
       "    -------\n",
       "    str | Any\n",
       "        The resolved username (e.g., \"silvia\"), or `default` if none found.\n",
       "\n",
       "    Notes\n",
       "    -----\n",
       "    - Some deployments restrict the userinfo endpoint; token claims usually work.\n",
       "    - If you always want a strict failure when username can't be found, set\n",
       "      `default=None` (the default) and check for `None` at the call site.\n",
       "\n",
       "    Examples\n",
       "    --------\n",
       "    >>> u = get_tapis_username(t)\n",
       "    >>> if u is None:\n",
       "    ...     raise RuntimeError(\"No Tapis username available\")\n",
       "    ... \n",
       "    >>> print(\"Running as:\", u)\n",
       "    \"\"\"\n",
       "    # 1) userinfo (preferred)\n",
       "    if prefer_userinfo:\n",
       "        try:\n",
       "            ui = t.authenticator.get_userinfo()\n",
       "            uname = getattr(ui, \"username\", None)\n",
       "            if not uname and isinstance(ui, dict):\n",
       "                uname = ui.get(\"username\")\n",
       "            if uname:\n",
       "                return uname\n",
       "            if verbose:\n",
       "                print(\"userinfo returned no 'username'; falling back…\")\n",
       "        except Exception as e:\n",
       "            if verbose:\n",
       "                print(f\"userinfo unavailable: {e}; falling back…\")\n",
       "\n",
       "    # 2) client attribute\n",
       "    try:\n",
       "        uname = getattr(t, \"username\", None)\n",
       "        if uname:\n",
       "            return uname\n",
       "    except Exception:\n",
       "        pass\n",
       "\n",
       "    # 3) token claims (optional)\n",
       "    if fallback_to_token:\n",
       "        # 3a) direct claims on access_token (common in Tapipy)\n",
       "        try:\n",
       "            claims = getattr(getattr(t, \"access_token\", None), \"claims\", None)\n",
       "            if isinstance(claims, dict):\n",
       "                uname = claims.get(\"tapis/username\") or claims.get(\"username\")\n",
       "                if uname:\n",
       "                    return uname\n",
       "        except Exception as e:\n",
       "            if verbose:\n",
       "                print(f\"access_token.claims unavailable: {e}\")\n",
       "\n",
       "        # 3b) validateToken() call\n",
       "        try:\n",
       "            tok = t.tokens.validateToken()\n",
       "            if isinstance(tok, dict):\n",
       "                uname = tok.get(\"tapis/username\") or tok.get(\"username\")\n",
       "                if uname:\n",
       "                    return uname\n",
       "        except Exception as e:\n",
       "            if verbose:\n",
       "                print(f\"tokens.validateToken failed: {e}\")\n",
       "\n",
       "    # Nothing worked\n",
       "    return default\n",
       "</pre>\n",
       "                      </details>\n",
       "                    "
      ],
      "text/plain": [
       "<IPython.core.display.HTML object>"
      ]
     },
     "metadata": {},
     "output_type": "display_data"
    }
   ],
   "source": [
    "OpsUtils.show_text_file_in_accordion(PathOpsUtils, ['get_tapis_username.py'])"
   ]
  },
  {
   "cell_type": "code",
   "execution_count": 7,
   "metadata": {},
   "outputs": [
    {
     "name": "stdout",
     "output_type": "stream",
     "text": [
      "username silvia\n"
     ]
    }
   ],
   "source": [
    "username = OpsUtils.get_tapis_username(t)\n",
    "print('username',username)"
   ]
  },
  {
   "cell_type": "markdown",
   "metadata": {},
   "source": [
    "---\n",
    "## Configure App"
   ]
  },
  {
   "cell_type": "code",
   "execution_count": 8,
   "metadata": {},
   "outputs": [],
   "source": [
    "app_id = 'agnostic-app-test'\n",
    "app_version = '0.0.4'\n",
    "\n"
   ]
  },
  {
   "cell_type": "code",
   "execution_count": 9,
   "metadata": {},
   "outputs": [],
   "source": [
    "app_description = 'Run any Executable'\n",
    "\n",
    "app_system_id=\"designsafe.storage.default\"\n",
    "app_path = f\"{username}/apps/{app_id}/{app_version}\"\n",
    "container_filename = f'{app_id}.zip'"
   ]
  },
  {
   "cell_type": "markdown",
   "metadata": {},
   "source": [
    "### Define folder structure: app_id/version"
   ]
  },
  {
   "cell_type": "code",
   "execution_count": 10,
   "metadata": {},
   "outputs": [],
   "source": [
    "app_folderName = f'~/MyData/myAuthoredTapisApps/{app_id}/{app_version}'; # your choice"
   ]
  },
  {
   "cell_type": "code",
   "execution_count": 11,
   "metadata": {},
   "outputs": [
    {
     "name": "stdout",
     "output_type": "stream",
     "text": [
      "app_folder: /home/jupyter/MyData/myAuthoredTapisApps/agnostic-app-test/0.0.4\n",
      " exists: True\n"
     ]
    }
   ],
   "source": [
    "app_folder = os.path.abspath(os.path.expanduser(app_folderName))\n",
    "os.makedirs(app_folder, exist_ok=True)\n",
    "print(f'app_folder: {app_folder}\\n exists:',os.path.exists(app_folder))"
   ]
  },
  {
   "cell_type": "markdown",
   "metadata": {},
   "source": [
    "---\n",
    "## Create the App Files\n",
    "\n",
    "A Tapis app needs the following **core files**:\n",
    "\n",
    "* **Readme.MD** – App Description (OPTIONAL)<br>\n",
    "This file is helpful in communicating content to the app user.  \n",
    "\n",
    "* **app.json** – App Definition<br>\n",
    "Defines the app’s metadata, inputs, parameters, and execution configuration.    \n",
    "\n",
    "* **profile.json** – Environment Setup *(optional but common)*<br>\n",
    "Loads modules or sets environment variables on the execution system. This file will load modules before your script runs. This is executed on the compute node.\n",
    "\n",
    "* **tapisjob_app.sh** – Wrapper Script<br>\n",
    "Wrapper script executed by the job; this is the command that launches your code (e.g., runs *OpenSeesMP*, Python, or a script)"
   ]
  },
  {
   "cell_type": "code",
   "execution_count": 12,
   "metadata": {},
   "outputs": [],
   "source": [
    "# let's collect the list of files we are creating as we will need this list in upload\n",
    "appFilesList = [];"
   ]
  },
  {
   "cell_type": "markdown",
   "metadata": {},
   "source": [
    "#### **Readme.MD** – App Description\n",
    "This file is helpful in communicating content to the app user.  "
   ]
  },
  {
   "cell_type": "code",
   "execution_count": 13,
   "metadata": {},
   "outputs": [],
   "source": [
    "thisFilename = 'ReadMe.MD'\n",
    "if do_makeAppFiles:\n",
    "    thisText = \"\"\"\\\n",
    "    # making an application-agnostic app\n",
    "    \"\"\"\n",
    "    \n",
    "    with open(f\"{app_folder}/{thisFilename}\", \"w\") as f:\n",
    "        f.write(thisText)\n",
    "\n",
    "appFilesList.append(thisFilename)"
   ]
  },
  {
   "cell_type": "markdown",
   "metadata": {},
   "source": [
    "#### **app.json** – App Definition\n",
    "Defines the app’s metadata, inputs, parameters, and execution configuration.    "
   ]
  },
  {
   "cell_type": "code",
   "execution_count": 14,
   "metadata": {},
   "outputs": [],
   "source": [
    "thisFilename = 'app.json'\n",
    "if do_makeAppFiles:\n",
    "    thisText = \"\"\"\\\n",
    "    {\n",
    "      \"id\": \"__app_id__\",\n",
    "      \"version\": \"__app_version__\",\n",
    "      \"description\": \"__app_description__\",\n",
    "      \"owner\": \"${apiUserId}\",\n",
    "      \"enabled\": true,\n",
    "      \"runtime\": \"ZIP\",\n",
    "      \"runtimeVersion\": null,\n",
    "      \"runtimeOptions\": null,\n",
    "      \"containerImage\": \"__container_filename__\",\n",
    "      \"jobType\": \"BATCH\",\n",
    "      \"maxJobs\": -1,\n",
    "      \"maxJobsPerUser\": -1,\n",
    "      \"strictFileInputs\": true,\n",
    "      \"jobAttributes\": {\n",
    "        \"execSystemConstraints\": null,\n",
    "        \"execSystemId\": \"stampede3\",\n",
    "        \"execSystemExecDir\": \"${JobWorkingDir}\",\n",
    "        \"execSystemInputDir\": \"${JobWorkingDir}\",\n",
    "        \"execSystemOutputDir\": \"${JobWorkingDir}\",\n",
    "        \"execSystemLogicalQueue\": \"skx\",\n",
    "        \"archiveSystemId\": \"stampede3\",\n",
    "        \"archiveSystemDir\": \"HOST_EVAL($WORK)/tapis-jobs-archive/${JobCreateDate}/${JobName}-${JobUUID}\",\n",
    "        \"archiveOnAppError\": true,\n",
    "        \"isMpi\": false,\n",
    "        \"mpiCmd\": null,\n",
    "        \"parameterSet\": {\n",
    "          \"appArgs\": [\n",
    "            {\n",
    "              \"name\": \"Main Program\",\n",
    "              \"description\": \"Choose the binary Executable to use.\",\n",
    "              \"arg\": \"OpenSeesMP\",\n",
    "              \"inputMode\": \"REQUIRED\",\n",
    "                \"notes\": {\n",
    "                    \"enum_values\": [\n",
    "                        {\n",
    "                            \"OpenSeesMP\": \"OpenSeesMP\"\n",
    "                        },\n",
    "                        {\n",
    "                            \"OpenSeesSP\": \"OpenSeesSP\"\n",
    "                        },\n",
    "                        {\n",
    "                            \"python\": \"python\"\n",
    "                        }\n",
    "                    ]\n",
    "                }\n",
    "            },\n",
    "            {\n",
    "              \"name\": \"Main Script\",\n",
    "              \"description\": \"The filename only of the input script to submit to executable. This file should reside in the Input Directory specified.\",\n",
    "              \"arg\": null,\n",
    "              \"inputMode\": \"REQUIRED\",\n",
    "              \"notes\": {\n",
    "                \"inputType\": \"fileInput\"\n",
    "              }\n",
    "            },\n",
    "            {\n",
    "              \"name\": \"CommandLine Arguments\",\n",
    "              \"description\": \"Command-Line Arguments (Optional)\",\n",
    "              \"arg\": null,\n",
    "              \"inputMode\": \"INCLUDE_ON_DEMAND\",\n",
    "              \"notes\": {\n",
    "              }\n",
    "            }\n",
    "            \n",
    "          ],\n",
    "          \"containerArgs\": [],\n",
    "          \"schedulerOptions\": [\n",
    "            {\n",
    "              \"name\": \"OpenSees TACC Scheduler Profile\",\n",
    "              \"description\": \"Scheduler profile for the default version of OpenSees\",\n",
    "              \"inputMode\": \"FIXED\",\n",
    "              \"arg\": \"--tapis-profile OpenSees_default\",\n",
    "              \"notes\": {\n",
    "                \"isHidden\": true\n",
    "              }\n",
    "            }\n",
    "          ],\n",
    "          \"envVariables\": [\n",
    "                  { \"key\": \"zipFileIn\", \"value\": \"\", \"inputMode\": \"INCLUDE_BY_DEFAULT\" },\n",
    "                  { \"key\": \"zipFolderOut\", \"value\": \"\", \"inputMode\": \"INCLUDE_BY_DEFAULT\" },\n",
    "                  { \"key\": \"requirementFile\", \"value\": \"\", \"inputMode\": \"INCLUDE_BY_DEFAULT\" },\n",
    "             ],\n",
    "          \"archiveFilter\": {\n",
    "            \"includes\": [],\n",
    "            \"excludes\": [],\n",
    "            \"includeLaunchFiles\": true\n",
    "          }\n",
    "        },\n",
    "        \"fileInputs\": [\n",
    "          {\n",
    "            \"name\": \"Input Directory\",\n",
    "            \"inputMode\": \"REQUIRED\",\n",
    "            \"sourceUrl\": null,\n",
    "            \"targetPath\": \"inputDirectory\",\n",
    "            \"envKey\": \"inputDirectory\",\n",
    "            \"description\": \"Input directory that includes the input script as well as any other required files. Example input is in tapis://designsafe.storage.community/app_examples/opensees/OpenSeesMP\",\n",
    "            \"notes\": {\n",
    "              \"selectionMode\": \"directory\"\n",
    "            }\n",
    "          }\n",
    "        ],\n",
    "        \"fileInputArrays\": [],\n",
    "        \"nodeCount\": 1,\n",
    "        \"coresPerNode\": 48,\n",
    "        \"memoryMB\": 192000,\n",
    "        \"maxMinutes\": 120,\n",
    "        \"subscriptions\": [],\n",
    "        \"tags\": []\n",
    "      },\n",
    "      \"tags\": [\n",
    "        \"portalName: DesignSafe\",\n",
    "        \"portalName: CEP\"\n",
    "      ],\n",
    "      \"notes\": {\n",
    "        \"label\": \"__app_id__\",\n",
    "        \"helpUrl\": \"\",\n",
    "        \"hideNodeCountAndCoresPerNode\": false,\n",
    "        \"isInteractive\": false,\n",
    "        \"icon\": \"OpenSees\",\n",
    "        \"category\": \"Simulation\"\n",
    "      }\n",
    "    }\n",
    "    \"\"\"\n",
    "    thisText = thisText.replace(\"__app_id__\", app_id)\n",
    "    thisText = thisText.replace(\"__app_version__\", app_version)\n",
    "    thisText = thisText.replace(\"__app_description__\", app_description)\n",
    "    thisText = thisText.replace(\"__container_filename__\", f\"tapis://{app_system_id}/{app_path}/{container_filename}\")\n",
    "    \n",
    "    \n",
    "    with open(f\"{app_folder}/{thisFilename}\", \"w\") as f:\n",
    "        f.write(thisText)\n",
    "\n",
    "appFilesList.append(thisFilename)"
   ]
  },
  {
   "cell_type": "markdown",
   "metadata": {},
   "source": [
    "#### **profile.json** – Environment Setup\n",
    "This file will load modules before your script runs. This is executed on the compute node."
   ]
  },
  {
   "cell_type": "code",
   "execution_count": 15,
   "metadata": {},
   "outputs": [],
   "source": [
    "thisFilename = 'profile.json'\n",
    "if do_makeAppFiles:\n",
    "    thisText = \"\"\"\\\n",
    "    {\n",
    "        \"name\": \"AgnosticApp\",\n",
    "        \"description\": \"Modules to load\",\n",
    "        \"moduleLoads\": [ ],\n",
    "        \"hiddenOptions\": [\n",
    "            \"MEM\"\n",
    "        ]\n",
    "    }\n",
    "    \"\"\"    \n",
    "    # thisText = \"\"\"\\\n",
    "    # {\n",
    "    #     \"name\": \"AgnosticApp\",\n",
    "    #     \"description\": \"Modules to load\",\n",
    "    #     \"moduleLoads\": [\n",
    "    #         {\n",
    "    #             \"modulesToLoad\": [\n",
    "    #                 \"hdf5/1.14.4\",\n",
    "    #                 \"opensees\"\n",
    "    #             ],\n",
    "    #             \"moduleLoadCommand\": \"module load\"\n",
    "    #         }\n",
    "    #     ],\n",
    "    #     \"hiddenOptions\": [\n",
    "    #         \"MEM\"\n",
    "    #     ]\n",
    "    # }\n",
    "    # \"\"\"\n",
    "    \n",
    "    with open(f\"{app_folder}/{thisFilename}\", \"w\") as f:\n",
    "        f.write(thisText)\n",
    "\n",
    "appFilesList.append(thisFilename)"
   ]
  },
  {
   "cell_type": "markdown",
   "metadata": {},
   "source": [
    "#### **tapisjob_app.sh** – Wrapper Script\n",
    "Wrapper script executed by the job; this is the command that launches your code (e.g., runs *OpenSeesMP*, Python, or a script)"
   ]
  },
  {
   "cell_type": "code",
   "execution_count": 16,
   "metadata": {},
   "outputs": [],
   "source": [
    "thisFilename_sh = 'tapisjob_app.sh'\n",
    "# thisFilename_sh = f'{thisFilename00}'\n",
    "thisFilename = container_filename\n",
    "\n",
    "import textwrap, time\n",
    "from zipfile import ZipFile, ZIP_DEFLATED, ZipInfo\n",
    "\n",
    "if do_makeAppFiles:\n",
    "    # safer shell script\n",
    "    thisText = textwrap.dedent(\"\"\"\\\n",
    "        #!/bin/bash\n",
    "        set -euo pipefail\n",
    "        set -x\n",
    "    \n",
    "        BINARYNAME=\"${1:?missing binary name}\"\n",
    "        INPUTSCRIPT0=\"${2:?missing input script}\"\n",
    "        shift 2\n",
    "        COMMANDLINEARGS=\"$@\"\n",
    "    \n",
    "        INPUTSCRIPT=\"${INPUTSCRIPT0##*/}\"\n",
    "        echo \"INPUTSCRIPT is $INPUTSCRIPT\"\n",
    "        echo \"COMMANDLINEARGS is $COMMANDLINEARGS\"\n",
    "    \n",
    "        cd \"${inputDirectory}\"\n",
    "\n",
    "        if [\"${zipFileIn}\" != \"\"]\n",
    "        then\n",
    "            unzip \"${zipFileIn}\"\n",
    "        fi\n",
    "\n",
    "        if [\"${requirementFile}\" != \"\"]\n",
    "        then\n",
    "            python -m pip install --user -r \"${requirementFile}\"\n",
    "        fi\n",
    "        \n",
    "\n",
    "        if [\"${BINARYNAME}\" == \"OpenSees\"]\n",
    "        then\n",
    "            module load hdf5/1.14.4\n",
    "            module load opensees\n",
    "            echo \"loaded OpenSees modules\"\n",
    "        fi\n",
    "\n",
    "        if [\"${BINARYNAME}\" == \"OpenSeesMP\"]\n",
    "        then\n",
    "            module load hdf5/1.14.4\n",
    "            module load opensees\n",
    "            echo \"loaded OpenSees modules\"\n",
    "        fi\n",
    "\n",
    "        if [\"${BINARYNAME}\" == \"OpenSeesSP\"]\n",
    "        then\n",
    "            module load hdf5/1.14.4\n",
    "            module load opensees\n",
    "            echo \"loaded OpenSees modules\"\n",
    "        fi        \n",
    "    \n",
    "        echo \"Running $BINARYNAME\"\n",
    "        if ! ibrun \"$BINARYNAME\" \"$INPUTSCRIPT\" $COMMANDLINEARGS; then\n",
    "            rc=$?\n",
    "            echo \"Program exited with error status: $rc\" >&2\n",
    "            exit $rc\n",
    "        fi\n",
    "        if [\"${zipFolderOut}\" != \"\"]\n",
    "        then\n",
    "            zip -r \"${zipFolderOut}.zip\" \"${zipFolderOut}/\"\n",
    "            rm -rf \"${zipFolderOut}\"\n",
    "        fi\n",
    "        \n",
    "    \"\"\")\n",
    "\n",
    "    zip_path = os.path.join(app_folder, thisFilename)\n",
    "\n",
    "    # write with executable permission inside the ZIP\n",
    "    zi = ZipInfo(thisFilename_sh)\n",
    "    zi.date_time = time.localtime(time.time())[:6]\n",
    "    zi.compress_type = ZIP_DEFLATED\n",
    "    zi.external_attr = 0o100755 << 16   # -rwxr-xr-x on a regular file\n",
    "    \n",
    "    with ZipFile(zip_path, \"w\", ZIP_DEFLATED) as z:\n",
    "        z.writestr(zi, thisText)\n",
    "        \n",
    "appFilesList.append(thisFilename)"
   ]
  },
  {
   "cell_type": "markdown",
   "metadata": {},
   "source": [
    "#### File Check\n",
    "Look at the files we have written and check for typos or formatting errors."
   ]
  },
  {
   "cell_type": "code",
   "execution_count": 17,
   "metadata": {
    "scrolled": true
   },
   "outputs": [
    {
     "name": "stdout",
     "output_type": "stream",
     "text": [
      "['ReadMe.MD', 'app.json', 'profile.json', 'agnostic-app-test.zip']\n"
     ]
    },
    {
     "data": {
      "text/html": [
       "\n",
       "                      <details style=\"margin-top:1em; font-family:monospace; background:white; \n",
       "                          padding:0.25em; border-radius:6px; border:1px solid #ccc;\">\n",
       "                        <summary style=\"cursor:pointer; font-weight:bold; background:white; \n",
       "                          padding:0.3em 0.5em; border-radius:4px;\">ReadMe.MD</summary>\n",
       "\n",
       "                        <button onclick=\"navigator.clipboard.writeText(document.getElementById('3c04c8ffdc284e9cba4eb628ff1aeaa8').innerText)\">\n",
       "                          📋 Copy\n",
       "                        </button>\n",
       "                        <pre id=\"3c04c8ffdc284e9cba4eb628ff1aeaa8\" style=\"white-space:pre-wrap; margin:0.25em 0 0 0; \n",
       "                            background:#d4fbff; padding:.3em; border-radius:5px;\">\n",
       "<b># /home/jupyter/MyData/myAuthoredTapisApps/agnostic-app-test/0.0.4/ReadMe.MD</b>\n",
       "    # making an application-agnostic app\n",
       "    </pre>\n",
       "                      </details>\n",
       "                    "
      ],
      "text/plain": [
       "<IPython.core.display.HTML object>"
      ]
     },
     "metadata": {},
     "output_type": "display_data"
    },
    {
     "data": {
      "text/html": [
       "\n",
       "                      <details style=\"margin-top:1em; font-family:monospace; background:white; \n",
       "                          padding:0.25em; border-radius:6px; border:1px solid #ccc;\">\n",
       "                        <summary style=\"cursor:pointer; font-weight:bold; background:white; \n",
       "                          padding:0.3em 0.5em; border-radius:4px;\">app.json</summary>\n",
       "\n",
       "                        <button onclick=\"navigator.clipboard.writeText(document.getElementById('93e0776c0a534c5bb3ac14c9e426dc10').innerText)\">\n",
       "                          📋 Copy\n",
       "                        </button>\n",
       "                        <pre id=\"93e0776c0a534c5bb3ac14c9e426dc10\" style=\"white-space:pre-wrap; margin:0.25em 0 0 0; \n",
       "                            background:#d4fbff; padding:.3em; border-radius:5px;\">\n",
       "<b># /home/jupyter/MyData/myAuthoredTapisApps/agnostic-app-test/0.0.4/app.json</b>\n",
       "    {\n",
       "      \"id\": \"agnostic-app-test\",\n",
       "      \"version\": \"0.0.4\",\n",
       "      \"description\": \"Run any Executable\",\n",
       "      \"owner\": \"${apiUserId}\",\n",
       "      \"enabled\": true,\n",
       "      \"runtime\": \"ZIP\",\n",
       "      \"runtimeVersion\": null,\n",
       "      \"runtimeOptions\": null,\n",
       "      \"containerImage\": \"tapis://designsafe.storage.default/silvia/apps/agnostic-app-test/0.0.4/agnostic-app-test.zip\",\n",
       "      \"jobType\": \"BATCH\",\n",
       "      \"maxJobs\": -1,\n",
       "      \"maxJobsPerUser\": -1,\n",
       "      \"strictFileInputs\": true,\n",
       "      \"jobAttributes\": {\n",
       "        \"execSystemConstraints\": null,\n",
       "        \"execSystemId\": \"stampede3\",\n",
       "        \"execSystemExecDir\": \"${JobWorkingDir}\",\n",
       "        \"execSystemInputDir\": \"${JobWorkingDir}\",\n",
       "        \"execSystemOutputDir\": \"${JobWorkingDir}\",\n",
       "        \"execSystemLogicalQueue\": \"skx\",\n",
       "        \"archiveSystemId\": \"stampede3\",\n",
       "        \"archiveSystemDir\": \"HOST_EVAL($WORK)/tapis-jobs-archive/${JobCreateDate}/${JobName}-${JobUUID}\",\n",
       "        \"archiveOnAppError\": true,\n",
       "        \"isMpi\": false,\n",
       "        \"mpiCmd\": null,\n",
       "        \"parameterSet\": {\n",
       "          \"appArgs\": [\n",
       "            {\n",
       "              \"name\": \"Main Program\",\n",
       "              \"description\": \"Choose the binary Executable to use.\",\n",
       "              \"arg\": \"OpenSeesMP\",\n",
       "              \"inputMode\": \"REQUIRED\",\n",
       "                \"notes\": {\n",
       "                    \"enum_values\": [\n",
       "                        {\n",
       "                            \"OpenSeesMP\": \"OpenSeesMP\"\n",
       "                        },\n",
       "                        {\n",
       "                            \"OpenSeesSP\": \"OpenSeesSP\"\n",
       "                        },\n",
       "                        {\n",
       "                            \"python\": \"python\"\n",
       "                        }\n",
       "                    ]\n",
       "                }\n",
       "            },\n",
       "            {\n",
       "              \"name\": \"Main Script\",\n",
       "              \"description\": \"The filename only of the input script to submit to executable. This file should reside in the Input Directory specified.\",\n",
       "              \"arg\": null,\n",
       "              \"inputMode\": \"REQUIRED\",\n",
       "              \"notes\": {\n",
       "                \"inputType\": \"fileInput\"\n",
       "              }\n",
       "            },\n",
       "            {\n",
       "              \"name\": \"CommandLine Arguments\",\n",
       "              \"description\": \"Command-Line Arguments (Optional)\",\n",
       "              \"arg\": null,\n",
       "              \"inputMode\": \"INCLUDE_ON_DEMAND\",\n",
       "              \"notes\": {\n",
       "              }\n",
       "            }\n",
       "\n",
       "          ],\n",
       "          \"containerArgs\": [],\n",
       "          \"schedulerOptions\": [\n",
       "            {\n",
       "              \"name\": \"OpenSees TACC Scheduler Profile\",\n",
       "              \"description\": \"Scheduler profile for the default version of OpenSees\",\n",
       "              \"inputMode\": \"FIXED\",\n",
       "              \"arg\": \"--tapis-profile OpenSees_default\",\n",
       "              \"notes\": {\n",
       "                \"isHidden\": true\n",
       "              }\n",
       "            }\n",
       "          ],\n",
       "          \"envVariables\": [\n",
       "                  { \"key\": \"zipFileIn\", \"value\": \"\", \"inputMode\": \"INCLUDE_BY_DEFAULT\" },\n",
       "                  { \"key\": \"zipFolderOut\", \"value\": \"\", \"inputMode\": \"INCLUDE_BY_DEFAULT\" },\n",
       "                  { \"key\": \"requirementFile\", \"value\": \"\", \"inputMode\": \"INCLUDE_BY_DEFAULT\" },\n",
       "             ],\n",
       "          \"archiveFilter\": {\n",
       "            \"includes\": [],\n",
       "            \"excludes\": [],\n",
       "            \"includeLaunchFiles\": true\n",
       "          }\n",
       "        },\n",
       "        \"fileInputs\": [\n",
       "          {\n",
       "            \"name\": \"Input Directory\",\n",
       "            \"inputMode\": \"REQUIRED\",\n",
       "            \"sourceUrl\": null,\n",
       "            \"targetPath\": \"inputDirectory\",\n",
       "            \"envKey\": \"inputDirectory\",\n",
       "            \"description\": \"Input directory that includes the input script as well as any other required files. Example input is in tapis://designsafe.storage.community/app_examples/opensees/OpenSeesMP\",\n",
       "            \"notes\": {\n",
       "              \"selectionMode\": \"directory\"\n",
       "            }\n",
       "          }\n",
       "        ],\n",
       "        \"fileInputArrays\": [],\n",
       "        \"nodeCount\": 1,\n",
       "        \"coresPerNode\": 48,\n",
       "        \"memoryMB\": 192000,\n",
       "        \"maxMinutes\": 120,\n",
       "        \"subscriptions\": [],\n",
       "        \"tags\": []\n",
       "      },\n",
       "      \"tags\": [\n",
       "        \"portalName: DesignSafe\",\n",
       "        \"portalName: CEP\"\n",
       "      ],\n",
       "      \"notes\": {\n",
       "        \"label\": \"agnostic-app-test\",\n",
       "        \"helpUrl\": \"\",\n",
       "        \"hideNodeCountAndCoresPerNode\": false,\n",
       "        \"isInteractive\": false,\n",
       "        \"icon\": \"OpenSees\",\n",
       "        \"category\": \"Simulation\"\n",
       "      }\n",
       "    }\n",
       "    </pre>\n",
       "                      </details>\n",
       "                    "
      ],
      "text/plain": [
       "<IPython.core.display.HTML object>"
      ]
     },
     "metadata": {},
     "output_type": "display_data"
    },
    {
     "data": {
      "text/html": [
       "\n",
       "                      <details style=\"margin-top:1em; font-family:monospace; background:white; \n",
       "                          padding:0.25em; border-radius:6px; border:1px solid #ccc;\">\n",
       "                        <summary style=\"cursor:pointer; font-weight:bold; background:white; \n",
       "                          padding:0.3em 0.5em; border-radius:4px;\">profile.json</summary>\n",
       "\n",
       "                        <button onclick=\"navigator.clipboard.writeText(document.getElementById('9ea759647cca43d3a458793f97e45cdc').innerText)\">\n",
       "                          📋 Copy\n",
       "                        </button>\n",
       "                        <pre id=\"9ea759647cca43d3a458793f97e45cdc\" style=\"white-space:pre-wrap; margin:0.25em 0 0 0; \n",
       "                            background:#d4fbff; padding:.3em; border-radius:5px;\">\n",
       "<b># /home/jupyter/MyData/myAuthoredTapisApps/agnostic-app-test/0.0.4/profile.json</b>\n",
       "    {\n",
       "        \"name\": \"AgnosticApp\",\n",
       "        \"description\": \"Modules to load\",\n",
       "        \"moduleLoads\": [ ],\n",
       "        \"hiddenOptions\": [\n",
       "            \"MEM\"\n",
       "        ]\n",
       "    }\n",
       "    </pre>\n",
       "                      </details>\n",
       "                    "
      ],
      "text/plain": [
       "<IPython.core.display.HTML object>"
      ]
     },
     "metadata": {},
     "output_type": "display_data"
    }
   ],
   "source": [
    "print(appFilesList)\n",
    "OpsUtils.show_text_file_in_accordion(app_folder, appFilesList)"
   ]
  },
  {
   "cell_type": "markdown",
   "metadata": {},
   "source": [
    "---\n",
    "## Validate App Locally"
   ]
  },
  {
   "cell_type": "code",
   "execution_count": 18,
   "metadata": {},
   "outputs": [
    {
     "data": {
      "text/html": [
       "\n",
       "                      <details style=\"margin-top:1em; font-family:monospace; background:white; \n",
       "                          padding:0.25em; border-radius:6px; border:1px solid #ccc;\">\n",
       "                        <summary style=\"cursor:pointer; font-weight:bold; background:white; \n",
       "                          padding:0.3em 0.5em; border-radius:4px;\">validate_app_folder.py</summary>\n",
       "\n",
       "                        <button onclick=\"navigator.clipboard.writeText(document.getElementById('98afbba8234d4194815350efecfce535').innerText)\">\n",
       "                          📋 Copy\n",
       "                        </button>\n",
       "                        <pre id=\"98afbba8234d4194815350efecfce535\" style=\"white-space:pre-wrap; margin:0.25em 0 0 0; \n",
       "                            background:#d4fbff; padding:.3em; border-radius:5px;\">\n",
       "<b># ../OpsUtils/OpsUtils/Tapis/validate_app_folder.py</b>\n",
       "def validate_app_folder(folder, required_files):\n",
       "    \"\"\"\n",
       "    Validate an app deployment folder:\n",
       "      1) Check that all `required_files` exist under `folder`.\n",
       "      2) Parse any `.json` files and merge their objects (later files overwrite earlier keys).\n",
       "      3) Print a concise summary (id, name, version, params/inputs/outputs, top-level keys).\n",
       "\n",
       "    Safe behavior:\n",
       "      - Never raises KeyError for missing identity keys; prints \"(missing)\" instead.\n",
       "      - Handles non-list or malformed `parameters/inputs/outputs` gracefully.\n",
       "\n",
       "    Parameters\n",
       "    ----------\n",
       "    folder : str | os.PathLike\n",
       "        Path to the app/version directory (e.g., \"apps/opensees-mp/1.0/\").\n",
       "    required_files : Iterable[str]\n",
       "        Filenames expected inside `folder` (e.g., [\"app.json\", \"profile.json\", \"tapisjob_app.sh\"]).\n",
       "\n",
       "    Returns\n",
       "    -------\n",
       "    bool\n",
       "        True  -> all required files present and all JSON parsed successfully.\n",
       "        False -> at least one file missing OR a JSON parse error occurred.\n",
       "\n",
       "    Notes\n",
       "    -----\n",
       "    - If multiple JSON files are in `required_files`, later files overwrite earlier keys.\n",
       "    - Only performs **syntactic** JSON validation (no schema validation).\n",
       "    \"\"\"\n",
       "    import os, json\n",
       "    from pathlib import Path\n",
       "\n",
       "    folder_path = Path(folder)\n",
       "    print(f\"🔍 Validating app folder: {folder_path}\\n\")\n",
       "\n",
       "    # 1) Presence check\n",
       "    missing = [f for f in required_files if not (folder_path / f).exists()]\n",
       "    if missing:\n",
       "        print(f\"❌ Missing required files: {missing}\")\n",
       "        return False\n",
       "    else:\n",
       "        print(\"✅ All required files are present.\\n\")\n",
       "\n",
       "    # 2) Parse & merge JSON files\n",
       "    app_def = {}\n",
       "    for fname in required_files:\n",
       "        if Path(fname).suffix.lower() == \".json\":\n",
       "            fpath = folder_path / fname\n",
       "            try:\n",
       "                with fpath.open() as fp:\n",
       "                    obj = json.load(fp)\n",
       "                if isinstance(obj, dict):\n",
       "                    app_def.update(obj)  # later files override earlier keys\n",
       "                else:\n",
       "                    print(f\"❌ {fname} contains JSON that is not an object (dict).\")\n",
       "                    return False\n",
       "            except json.JSONDecodeError as exc:\n",
       "                print(f\"❌ {fname} is not valid JSON: {exc}\")\n",
       "                return False\n",
       "\n",
       "    # 3) Friendly summary (safe lookups)\n",
       "    app_id      = app_def.get(\"id\", \"(missing)\")\n",
       "    app_name    = app_def.get(\"name\", \"(missing)\")\n",
       "    app_version = app_def.get(\"version\", \"(missing)\")\n",
       "\n",
       "    def _collect_ids(val, key=\"id\"):\n",
       "        # Accepts list[dict], dict (single), or anything else -> robust fallback\n",
       "        if isinstance(val, list):\n",
       "            return [str(x.get(key, \"(no-id)\")) for x in val if isinstance(x, dict)]\n",
       "        if isinstance(val, dict):\n",
       "            return [str(val.get(key, \"(no-id)\"))]\n",
       "        return []\n",
       "\n",
       "    param_ids  = _collect_ids(app_def.get(\"parameters\", []), \"id\")\n",
       "    input_ids  = _collect_ids(app_def.get(\"inputs\", []), \"id\")\n",
       "    output_ids = _collect_ids(app_def.get(\"outputs\", []), \"id\")\n",
       "\n",
       "    print(f\"📄 App ID: {app_id}\")\n",
       "    print(f\"📄 App Name: {app_name}\")\n",
       "    print(f\"📄 Version: {app_version}\")\n",
       "    print(f\"🔧 Parameters: {param_ids}\")\n",
       "    print(f\"📦 Inputs: {input_ids}\")\n",
       "    print(f\"📤 Outputs: {output_ids}\")\n",
       "    print(f\"\\nApp Keys: {list(app_def.keys())}\")\n",
       "    print(\"\\n✅ Basic validation complete. App folder looks good!\")\n",
       "    return True\n",
       "</pre>\n",
       "                      </details>\n",
       "                    "
      ],
      "text/plain": [
       "<IPython.core.display.HTML object>"
      ]
     },
     "metadata": {},
     "output_type": "display_data"
    }
   ],
   "source": [
    "OpsUtils.show_text_file_in_accordion(PathOpsUtils, ['validate_app_folder.py'])"
   ]
  },
  {
   "cell_type": "code",
   "execution_count": 19,
   "metadata": {},
   "outputs": [
    {
     "name": "stdout",
     "output_type": "stream",
     "text": [
      "🔍 Validating app folder: /home/jupyter/MyData/myAuthoredTapisApps/agnostic-app-test/0.0.4\n",
      "\n",
      "✅ All required files are present.\n",
      "\n",
      "❌ app.json is not valid JSON: Expecting value: line 83 column 14 (char 3044)\n",
      "Validation Failed: stopping here!!!!\n"
     ]
    },
    {
     "ename": "ZeroDivisionError",
     "evalue": "division by zero",
     "output_type": "error",
     "traceback": [
      "\u001b[31m---------------------------------------------------------------------------\u001b[39m",
      "\u001b[31mZeroDivisionError\u001b[39m                         Traceback (most recent call last)",
      "\u001b[36mCell\u001b[39m\u001b[36m \u001b[39m\u001b[32mIn[19]\u001b[39m\u001b[32m, line 5\u001b[39m\n\u001b[32m      3\u001b[39m \u001b[38;5;28;01mif\u001b[39;00m \u001b[38;5;129;01mnot\u001b[39;00m validation:\n\u001b[32m      4\u001b[39m     \u001b[38;5;28mprint\u001b[39m(\u001b[33m'\u001b[39m\u001b[33mValidation Failed: stopping here!!!!\u001b[39m\u001b[33m'\u001b[39m)\n\u001b[32m----> \u001b[39m\u001b[32m5\u001b[39m     a = \u001b[32;43m3\u001b[39;49m\u001b[43m/\u001b[49m\u001b[32;43m0\u001b[39;49m\n",
      "\u001b[31mZeroDivisionError\u001b[39m: division by zero"
     ]
    }
   ],
   "source": [
    "# Run validation\n",
    "validation = OpsUtils.validate_app_folder(app_folder,appFilesList)\n",
    "if not validation:\n",
    "    print('Validation Failed: stopping here!!!!')\n",
    "    a = 3/0"
   ]
  },
  {
   "cell_type": "markdown",
   "metadata": {},
   "source": [
    "---\n",
    "## Deploy the App"
   ]
  },
  {
   "cell_type": "markdown",
   "metadata": {},
   "source": [
    "### Make the directory inside your 'MyData' on designsafe.storage.default.\n",
    "The apps in this folder are the ones that area actually uploaded."
   ]
  },
  {
   "cell_type": "code",
   "execution_count": null,
   "metadata": {},
   "outputs": [],
   "source": [
    "if do_upload:\n",
    "    t.files.mkdir(systemId=app_system_id, path=app_path)\n",
    "    print('app_path',app_path)"
   ]
  },
  {
   "cell_type": "markdown",
   "metadata": {},
   "source": [
    "### Upload files to your deployment system (e.g., DesignSafe default storage)\n",
    "Using Tapipy (Python SDK) in a Jupyter Notebook"
   ]
  },
  {
   "cell_type": "code",
   "execution_count": null,
   "metadata": {},
   "outputs": [],
   "source": [
    "if do_upload:\n",
    "    for fname in appFilesList:\n",
    "        fpath = f'{app_folder}/{fname}'\n",
    "        t.upload(source_file_path=fpath,\n",
    "                 system_id=app_system_id,\n",
    "                 dest_file_path=f'{app_path}/{fname}')"
   ]
  },
  {
   "cell_type": "markdown",
   "metadata": {},
   "source": [
    "#### Verify upload"
   ]
  },
  {
   "cell_type": "code",
   "execution_count": null,
   "metadata": {},
   "outputs": [],
   "source": [
    "if do_upload:\n",
    "    print('app_system_id:',app_system_id)\n",
    "    print('app_path:',app_path)\n",
    "    appfiles = t.files.listFiles(systemId=app_system_id, path=app_path)\n",
    "    for thisF in appfiles:\n",
    "        print(thisF)\n",
    "        print('')"
   ]
  },
  {
   "cell_type": "markdown",
   "metadata": {},
   "source": [
    "---\n",
    "## Register the App\n",
    "This creates the actual App record that Jobs can run.\n",
    "\n",
    "Do this Using Tapipy (Python)"
   ]
  },
  {
   "cell_type": "code",
   "execution_count": null,
   "metadata": {},
   "outputs": [],
   "source": [
    "if do_register:\n",
    "    # Create (or create a new version) of the app\n",
    "    with open(f'{app_folder}/app.json') as f:\n",
    "        app_def = json.load(f)\n",
    "    t.apps.createAppVersion(**app_def)"
   ]
  },
  {
   "cell_type": "markdown",
   "metadata": {},
   "source": [
    "### Check that app is up"
   ]
  },
  {
   "cell_type": "markdown",
   "metadata": {},
   "source": [
    "#### List all apps"
   ]
  },
  {
   "cell_type": "code",
   "execution_count": null,
   "metadata": {},
   "outputs": [],
   "source": [
    "if do_register:\n",
    "    listType = 'ALL' # Include all items requester is authorized to view. Includes check for READ or MODIFY permission.\n",
    "    select = 'id,created,description,version,owner' # Attributes to return in each result.\n",
    "    orderBy = 'created(asc)'\n",
    "    results = t.apps.getApps( orderBy=orderBy,\n",
    "                             select=select)  \n",
    "    for thisRes in results:\n",
    "        print('--')\n",
    "        print(thisRes)"
   ]
  },
  {
   "cell_type": "markdown",
   "metadata": {},
   "source": [
    "#### List the new app"
   ]
  },
  {
   "cell_type": "code",
   "execution_count": null,
   "metadata": {},
   "outputs": [],
   "source": [
    "if do_register:\n",
    "    appMetaData = t.apps.getAppLatestVersion(appId=app_def[\"id\"])\n",
    "    print(appMetaData)"
   ]
  },
  {
   "cell_type": "markdown",
   "metadata": {},
   "source": [
    "## Submit a Job\n",
    "\n",
    "You can now submit a job using this app. You can use the Tapis CLI, Tapipy, or a web form.\n",
    "\n",
    "We are using TapiPy directly from this notebook. We will not specify a version so that the latest is used by default in the description."
   ]
  },
  {
   "cell_type": "code",
   "execution_count": null,
   "metadata": {},
   "outputs": [],
   "source": [
    "print('app_id:',app_id)"
   ]
  },
  {
   "cell_type": "markdown",
   "metadata": {},
   "source": [
    "### App-Specific Input"
   ]
  },
  {
   "cell_type": "code",
   "execution_count": null,
   "metadata": {},
   "outputs": [],
   "source": [
    "# initalize\n",
    "tapisInputAll = {}\n",
    "tapisInputAll[\"name\"] = f'test_{app_id}'\n",
    "\n",
    "tapisInputAll[\"appId\"] = app_id \n",
    "# tapisInputAll[\"appVersion\"] = app_version # defaults to latest in description def\n",
    "tapisInputAll[\"maxMinutes\"] = 6\n",
    "\n",
    "tapisInputAll[\"execSystemId\"] = \"stampede3\" # the app runs on stampede only\n",
    "tapisInputAll[\"execSystemLogicalQueue\"] = \"skx-dev\" # \"skx\", \"skx-dev\"\n",
    "tapisInputAll[\"nodeCount\"] = 1 # limits set by which compute nodes you use\n",
    "tapisInputAll[\"coresPerNode\"] = 48 # limits set by which compute nodes you use\n",
    "tapisInputAll[\"allocation\"] = \"DS-HPC1\"\n",
    "\n",
    "tapisInputAll['archive_system']='MyData' # Options: MyData or Work"
   ]
  },
  {
   "cell_type": "markdown",
   "metadata": {},
   "source": [
    "### Job-Specific Input"
   ]
  },
  {
   "cell_type": "code",
   "execution_count": null,
   "metadata": {},
   "outputs": [],
   "source": [
    "# initalize\n",
    "tapisInput = tapisInputAll.copy()\n",
    "\n",
    "tapisInput['storage_system'] = 'CommunityData'\n",
    "\n",
    "tapisInput[\"name\"] = tapisInput[\"name\"] + '_' + tapisInput['storage_system']\n",
    "\n",
    "tapisInput['input_folder'] = 'OpenSees/TrainingMaterial/training-OpenSees-on-DesignSafe/Examples_OpenSees/BasicExamples' \n",
    "# tapisInput['main_program'] = 'OpenSeesMP'\n",
    "# tapisInput['input_filename'] = 'Ex1a_verymany.Canti2D.Push.mp.tcl'\n",
    "# tapisInput['main_program'] = 'OpenSeesSP'\n",
    "# tapisInput['input_filename'] = 'simpleSP.tcl'\n",
    "tapisInput['main_program'] = 'python'\n",
    "tapisInput['input_filename'] = 'Ex1a.Canti2D.Push.mpi.py'\n",
    "tapisInput['command_line_args'] = '[33,22]'"
   ]
  },
  {
   "cell_type": "code",
   "execution_count": null,
   "metadata": {},
   "outputs": [],
   "source": [
    "job_description = OpsUtils.get_tapis_job_description(t, tapisInput)\n",
    "print('job_description',job_description)"
   ]
  },
  {
   "cell_type": "markdown",
   "metadata": {},
   "source": [
    "### Submit"
   ]
  },
  {
   "cell_type": "code",
   "execution_count": null,
   "metadata": {},
   "outputs": [],
   "source": [
    "# -----------------------------------------------------\n",
    "if do_submitJob:\n",
    "    jobReturns = OpsUtils.run_tapis_job(t,tapisInput,get_job_metadata=True,get_job_history=True,get_job_filedata=True,askConfirmJob = False,askConfirmMonitorRT = False)\n",
    "    print(jobReturns.keys())\n",
    "    print('JobStatusData:',jobReturns['JobStatusData'])\n",
    "# -----------------------------------------------------"
   ]
  },
  {
   "cell_type": "markdown",
   "metadata": {},
   "source": [
    "## ✅ Summary\n",
    "\n",
    "| Step                        | Description                                                         |\n",
    "| --------------------------- | ------------------------------------------------------------------- |\n",
    "| 1. Create *app.json*        | Describes the app, its inputs, execution system, and wrapper script |\n",
    "| 2. Create *tapisjob_app.sh* | Runs your analysis (e.g., ibrun OpenSees main.tcl)                  |\n",
    "| 3. Create *profile.json*    | (Optional) Loads modules/environment                                |\n",
    "| 4. Upload Files             | To the deployment path in your storage system                       |\n",
    "| 5. Register App             | With Tapis via CLI or Python                                        |\n",
    "| 6. Submit Job               | Define `job.json` and submit                                        |\n",
    "\n"
   ]
  },
  {
   "cell_type": "code",
   "execution_count": null,
   "metadata": {},
   "outputs": [],
   "source": []
  }
 ],
 "metadata": {
  "IMAGE_NAME": "taccsciapps/ds-nb-img:base-0.2.3",
  "UUID": "73e0880d-9b87-11ec-9c1c-13579dd95994",
  "celltoolbar": "Raw Cell Format",
  "kernelspec": {
   "display_name": "Python 3 (ipykernel)",
   "language": "python",
   "name": "python3"
  },
  "language_info": {
   "codemirror_mode": {
    "name": "ipython",
    "version": 3
   },
   "file_extension": ".py",
   "mimetype": "text/x-python",
   "name": "python",
   "nbconvert_exporter": "python",
   "pygments_lexer": "ipython3",
   "version": "3.12.11"
  }
 },
 "nbformat": 4,
 "nbformat_minor": 4
}
