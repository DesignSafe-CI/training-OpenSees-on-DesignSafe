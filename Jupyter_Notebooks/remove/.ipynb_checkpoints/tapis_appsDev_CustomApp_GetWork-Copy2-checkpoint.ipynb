{
 "cells": [
  {
   "cell_type": "markdown",
   "metadata": {},
   "source": [
    "<a class=\"reference external\" \n",
    "    href=\"https://jupyter.designsafe-ci.org/hub/user-redirect/lab/tree/CommunityData/OpenSees/TrainingMaterial/training-OpenSees-on-DesignSafe/Jupyter_Notebooks/tapis_appsDev_CustomApp_opsmps3copy.ipynb\" \n",
    "    target=\"_blank\"\n",
    "    >\n",
    "<img alt=\"Try on DesignSafe\" src=\"https://raw.githubusercontent.com/DesignSafe-Training/pinn/main/DesignSafe-Badge.svg\" /></a>"
   ]
  },
  {
   "cell_type": "markdown",
   "metadata": {},
   "source": [
    "# GetWork App  📒\n",
    "***Create your own Tapis App***\n",
    "THIS WORKS, KIND OF, BUT IT'S SO CONVOLUTED AND STILL NOT CLEAR.\n",
    "by Silvia Mazzoni, DesignSafe, 2025\n",
    "\n",
    "Let's write an app to get your user and system-dependent path\n",
    "\n",
    "## Workflow\n",
    "\n",
    "| Step                        | Description                                                         |\n",
    "| --------------------------- | ------------------------------------------------------------------- |\n",
    "| 1. Create *app.json*        | Describes the app, its inputs, execution system, and wrapper script |\n",
    "| 2. Create *tapisjob_app.sh* | Runs your analysis (e.g., ibrun OpenSees main.tcl)                  |\n",
    "| 2a. Zip *tapisjob_app.sh* | It needs a zip file!                  |\n",
    "| 3. Create *profile.json*    | (Optional) Loads modules/environment                                |\n",
    "| 4. Upload Files             | To the deployment path in your storage system                       |\n",
    "| 5. Register App             | With Tapis via CLI or Python                                        |\n",
    "| 6. Submit Job               | Define `job.json` and submit                                        |"
   ]
  },
  {
   "cell_type": "code",
   "execution_count": 1,
   "metadata": {},
   "outputs": [],
   "source": [
    "import json"
   ]
  },
  {
   "cell_type": "code",
   "execution_count": 2,
   "metadata": {},
   "outputs": [
    {
     "name": "stdout",
     "output_type": "stream",
     "text": [
      "Using local utilities library\n"
     ]
    }
   ],
   "source": [
    "# Local Utilities Library\n",
    "# you can remove the logic associated with the local path\n",
    "import sys,os\n",
    "relativePath = '../OpsUtils'\n",
    "if os.path.exists(relativePath):\n",
    "    print(\"Using local utilities library\")\n",
    "    PathOpsUtils = os.path.expanduser(relativePath)\n",
    "else:\n",
    "    print('using communitydata')\n",
    "    PathOpsUtils = os.path.expanduser('~/CommunityData/OpenSees/TrainingMaterial/training-OpenSees-on-DesignSafe/OpsUtils')\n",
    "if not PathOpsUtils in sys.path: sys.path.append(PathOpsUtils)\n",
    "from OpsUtils import OpsUtils"
   ]
  },
  {
   "cell_type": "markdown",
   "metadata": {},
   "source": [
    "---\n",
    "## Connect to Tapis"
   ]
  },
  {
   "cell_type": "code",
   "execution_count": 3,
   "metadata": {},
   "outputs": [
    {
     "name": "stdout",
     "output_type": "stream",
     "text": [
      " -- Checking Tapis token --\n",
      " Token loaded from file. Token is still valid!\n",
      " Token expires at: 2025-08-20T18:35:53+00:00\n",
      " Token expires in: 2:49:39.105463\n",
      "-- LOG IN SUCCESSFUL! --\n"
     ]
    }
   ],
   "source": [
    "t=OpsUtils.connect_tapis()"
   ]
  },
  {
   "cell_type": "markdown",
   "metadata": {},
   "source": [
    "---\n",
    "### Get username"
   ]
  },
  {
   "cell_type": "code",
   "execution_count": 4,
   "metadata": {},
   "outputs": [
    {
     "data": {
      "text/html": [
       "\n",
       "                      <details style=\"margin-top:1em; font-family:monospace; background:white; \n",
       "                          padding:0.25em; border-radius:6px; border:1px solid #ccc;\">\n",
       "                        <summary style=\"cursor:pointer; font-weight:bold; background:white; \n",
       "                          padding:0.3em 0.5em; border-radius:4px;\">get_tapis_username.py</summary>\n",
       "\n",
       "                        <button onclick=\"navigator.clipboard.writeText(document.getElementById('5359799ded8347ea9a0ee7d10745ac28').innerText)\">\n",
       "                          📋 Copy\n",
       "                        </button>\n",
       "                        <pre id=\"5359799ded8347ea9a0ee7d10745ac28\" style=\"white-space:pre-wrap; margin:0.25em 0 0 0; \n",
       "                            background:#d4fbff; padding:.3em; border-radius:5px;\">\n",
       "<b># ../OpsUtils/OpsUtils/Tapis/get_tapis_username.py</b>\n",
       "def get_tapis_username(\n",
       "    t,\n",
       "    *,\n",
       "    prefer_userinfo: bool = True,\n",
       "    fallback_to_token: bool = True,\n",
       "    default=None,\n",
       "    verbose: bool = False,\n",
       "):\n",
       "    \"\"\"\n",
       "    Return the Tapis username from an authenticated client `t`, with safe fallbacks.\n",
       "\n",
       "    Resolution order (robust to Tapipy resource objects and dicts):\n",
       "      1) userinfo endpoint (if available):\n",
       "         t.authenticator.get_userinfo().username\n",
       "      2) client attribute:\n",
       "         getattr(t, \"username\", None)\n",
       "      3) token claims (if fallback_to_token=True):\n",
       "         - t.access_token.claims.get(\"tapis/username\") or \"username\"\n",
       "         - t.tokens.validateToken()[\"tapis/username\"] (as a last resort)\n",
       "\n",
       "    Parameters\n",
       "    ----------\n",
       "    t : tapipy.tapis.Tapis\n",
       "        Authenticated Tapis client.\n",
       "    prefer_userinfo : bool, default True\n",
       "        Try `t.authenticator.get_userinfo()` first. Some managed hubs disable this;\n",
       "        if it fails, the function silently falls back.\n",
       "    fallback_to_token : bool, default True\n",
       "        Allow using access-token claims or `validateToken()` as a fallback.\n",
       "    default : Any, default None\n",
       "        Value to return if no username can be determined.\n",
       "    verbose : bool, default False\n",
       "        If True, print brief hints when a resolution step fails.\n",
       "\n",
       "    Returns\n",
       "    -------\n",
       "    str | Any\n",
       "        The resolved username (e.g., \"silvia\"), or `default` if none found.\n",
       "\n",
       "    Notes\n",
       "    -----\n",
       "    - Some deployments restrict the userinfo endpoint; token claims usually work.\n",
       "    - If you always want a strict failure when username can't be found, set\n",
       "      `default=None` (the default) and check for `None` at the call site.\n",
       "\n",
       "    Examples\n",
       "    --------\n",
       "    >>> u = get_tapis_username(t)\n",
       "    >>> if u is None:\n",
       "    ...     raise RuntimeError(\"No Tapis username available\")\n",
       "    ... \n",
       "    >>> print(\"Running as:\", u)\n",
       "    \"\"\"\n",
       "    # 1) userinfo (preferred)\n",
       "    if prefer_userinfo:\n",
       "        try:\n",
       "            ui = t.authenticator.get_userinfo()\n",
       "            uname = getattr(ui, \"username\", None)\n",
       "            if not uname and isinstance(ui, dict):\n",
       "                uname = ui.get(\"username\")\n",
       "            if uname:\n",
       "                return uname\n",
       "            if verbose:\n",
       "                print(\"userinfo returned no 'username'; falling back…\")\n",
       "        except Exception as e:\n",
       "            if verbose:\n",
       "                print(f\"userinfo unavailable: {e}; falling back…\")\n",
       "\n",
       "    # 2) client attribute\n",
       "    try:\n",
       "        uname = getattr(t, \"username\", None)\n",
       "        if uname:\n",
       "            return uname\n",
       "    except Exception:\n",
       "        pass\n",
       "\n",
       "    # 3) token claims (optional)\n",
       "    if fallback_to_token:\n",
       "        # 3a) direct claims on access_token (common in Tapipy)\n",
       "        try:\n",
       "            claims = getattr(getattr(t, \"access_token\", None), \"claims\", None)\n",
       "            if isinstance(claims, dict):\n",
       "                uname = claims.get(\"tapis/username\") or claims.get(\"username\")\n",
       "                if uname:\n",
       "                    return uname\n",
       "        except Exception as e:\n",
       "            if verbose:\n",
       "                print(f\"access_token.claims unavailable: {e}\")\n",
       "\n",
       "        # 3b) validateToken() call\n",
       "        try:\n",
       "            tok = t.tokens.validateToken()\n",
       "            if isinstance(tok, dict):\n",
       "                uname = tok.get(\"tapis/username\") or tok.get(\"username\")\n",
       "                if uname:\n",
       "                    return uname\n",
       "        except Exception as e:\n",
       "            if verbose:\n",
       "                print(f\"tokens.validateToken failed: {e}\")\n",
       "\n",
       "    # Nothing worked\n",
       "    return default\n",
       "</pre>\n",
       "                      </details>\n",
       "                    "
      ],
      "text/plain": [
       "<IPython.core.display.HTML object>"
      ]
     },
     "metadata": {},
     "output_type": "display_data"
    }
   ],
   "source": [
    "OpsUtils.show_text_file_in_accordion(PathOpsUtils, ['get_tapis_username.py'])"
   ]
  },
  {
   "cell_type": "code",
   "execution_count": 5,
   "metadata": {},
   "outputs": [
    {
     "name": "stdout",
     "output_type": "stream",
     "text": [
      "username silvia\n"
     ]
    }
   ],
   "source": [
    "username = OpsUtils.get_tapis_username(t)\n",
    "print('username',username)"
   ]
  },
  {
   "cell_type": "code",
   "execution_count": null,
   "metadata": {},
   "outputs": [],
   "source": []
  },
  {
   "cell_type": "code",
   "execution_count": null,
   "metadata": {},
   "outputs": [],
   "source": []
  },
  {
   "cell_type": "code",
   "execution_count": null,
   "metadata": {},
   "outputs": [],
   "source": []
  },
  {
   "cell_type": "code",
   "execution_count": null,
   "metadata": {},
   "outputs": [],
   "source": []
  },
  {
   "cell_type": "code",
   "execution_count": 8,
   "metadata": {},
   "outputs": [
    {
     "ename": "ZeroDivisionError",
     "evalue": "division by zero",
     "output_type": "error",
     "traceback": [
      "\u001b[31m---------------------------------------------------------------------------\u001b[39m",
      "\u001b[31mZeroDivisionError\u001b[39m                         Traceback (most recent call last)",
      "\u001b[36mCell\u001b[39m\u001b[36m \u001b[39m\u001b[32mIn[8]\u001b[39m\u001b[32m, line 1\u001b[39m\n\u001b[32m----> \u001b[39m\u001b[32m1\u001b[39m a =\u001b[32;43m3\u001b[39;49m\u001b[43m/\u001b[49m\u001b[32;43m0\u001b[39;49m\n",
      "\u001b[31mZeroDivisionError\u001b[39m: division by zero"
     ]
    }
   ],
   "source": [
    "a =3/0"
   ]
  },
  {
   "cell_type": "markdown",
   "metadata": {},
   "source": [
    "## Define actions!"
   ]
  },
  {
   "cell_type": "code",
   "execution_count": null,
   "metadata": {},
   "outputs": [],
   "source": [
    "# Make these True once you are done validating\n",
    "do_makeApp = True\n",
    "do_submitJob = True"
   ]
  },
  {
   "cell_type": "markdown",
   "metadata": {},
   "source": [
    "---\n",
    "## Configure App"
   ]
  },
  {
   "cell_type": "code",
   "execution_count": null,
   "metadata": {},
   "outputs": [],
   "source": [
    "app_id = 'get-work-path-test'\n",
    "app_description = 'Run any Executable'"
   ]
  },
  {
   "cell_type": "markdown",
   "metadata": {},
   "source": [
    "### AutoIncrement app_version"
   ]
  },
  {
   "cell_type": "code",
   "execution_count": null,
   "metadata": {},
   "outputs": [],
   "source": [
    "if do_makeApp:\n",
    "    latest_app_version = OpsUtils.get_latest_app_version(t,app_id)\n",
    "    print('now latest_app_version',latest_app_version)\n",
    "    app_version = OpsUtils.bump_app_version(latest_app_version,'patch')\n",
    "    print('now app_version',app_version)"
   ]
  },
  {
   "cell_type": "markdown",
   "metadata": {},
   "source": [
    "### Where to store the files"
   ]
  },
  {
   "cell_type": "code",
   "execution_count": null,
   "metadata": {},
   "outputs": [],
   "source": [
    "if do_makeApp:\n",
    "    app_system_id=\"designsafe.storage.default\"\n",
    "    app_path = f\"{username}/apps/{app_id}/{app_version}\"\n",
    "    container_filename = f'{app_id}.zip'"
   ]
  },
  {
   "cell_type": "markdown",
   "metadata": {},
   "source": [
    "### Define folder structure: app_id/version"
   ]
  },
  {
   "cell_type": "code",
   "execution_count": null,
   "metadata": {},
   "outputs": [],
   "source": [
    "if do_makeApp:\n",
    "    app_folderName = f'~/MyData/myAuthoredTapisApps/{app_id}/{app_version}'; # your choice"
   ]
  },
  {
   "cell_type": "code",
   "execution_count": null,
   "metadata": {},
   "outputs": [],
   "source": [
    "if do_makeApp:\n",
    "    app_folder = os.path.abspath(os.path.expanduser(app_folderName))\n",
    "    os.makedirs(app_folder, exist_ok=True)\n",
    "    print(f'app_folder: {app_folder}\\n exists:',os.path.exists(app_folder))"
   ]
  },
  {
   "cell_type": "markdown",
   "metadata": {},
   "source": [
    "---\n",
    "## Create the App Files\n",
    "\n",
    "A Tapis app needs the following **core files**:\n",
    "\n",
    "* **Readme.MD** – App Description (OPTIONAL)<br>\n",
    "This file is helpful in communicating content to the app user.  \n",
    "\n",
    "* **app.json** – App Definition<br>\n",
    "Defines the app’s metadata, inputs, parameters, and execution configuration.    \n",
    "\n",
    "* **profile.json** – Environment Setup *(optional but common)*<br>\n",
    "Loads modules or sets environment variables on the execution system. This file will load modules before your script runs. This is executed on the compute node.\n",
    "\n",
    "* **tapisjob_app.sh** – Wrapper Script<br>\n",
    "Wrapper script executed by the job; this is the command that launches your code (e.g., runs *OpenSeesMP*, Python, or a script)"
   ]
  },
  {
   "cell_type": "code",
   "execution_count": null,
   "metadata": {},
   "outputs": [],
   "source": [
    "# let's collect the list of files we are creating as we will need this list in upload\n",
    "if do_makeApp:\n",
    "    appFilesList = [];"
   ]
  },
  {
   "cell_type": "markdown",
   "metadata": {},
   "source": [
    "#### **Readme.MD** – App Description\n",
    "This file is helpful in communicating content to the app user.  "
   ]
  },
  {
   "cell_type": "code",
   "execution_count": null,
   "metadata": {},
   "outputs": [],
   "source": [
    "if do_makeApp:\n",
    "    thisFilename = 'ReadMe.MD'\n",
    "    thisText = \"\"\"\\\n",
    "    # making a dummy app to get user-and-system-specific work path\n",
    "    \"\"\"\n",
    "    \n",
    "    with open(f\"{app_folder}/{thisFilename}\", \"w\") as f:\n",
    "        f.write(thisText)\n",
    "\n",
    "    appFilesList.append(thisFilename)"
   ]
  },
  {
   "cell_type": "markdown",
   "metadata": {},
   "source": [
    "#### **app.json** – App Definition\n",
    "Defines the app’s metadata, inputs, parameters, and execution configuration.    "
   ]
  },
  {
   "cell_type": "code",
   "execution_count": null,
   "metadata": {},
   "outputs": [],
   "source": [
    "if do_makeApp:\n",
    "    thisFilename = 'app.json'\n",
    "    thisText = \"\"\"\\\n",
    "    {\n",
    "      \"id\": \"__app_id__\",\n",
    "      \"version\": \"__app_version__\",\n",
    "      \"description\": \"__app_description__\",\n",
    "      \"owner\": \"${apiUserId}\",\n",
    "      \"enabled\": true,\n",
    "      \"runtime\": \"ZIP\",\n",
    "      \"runtimeVersion\": null,\n",
    "      \"runtimeOptions\": null,\n",
    "      \"containerImage\": \"__container_filename_path__\",\n",
    "      \"jobType\": \"BATCH\",\n",
    "      \"maxJobs\": -1,\n",
    "      \"maxJobsPerUser\": -1,\n",
    "      \"strictFileInputs\": true,\n",
    "      \"jobAttributes\": {\n",
    "        \"execSystemConstraints\": null,\n",
    "        \"execSystemId\": \"stampede3\",\n",
    "        \"execSystemExecDir\": \"${JobWorkingDir}\",\n",
    "        \"execSystemInputDir\": \"${JobWorkingDir}\",\n",
    "        \"execSystemOutputDir\": \"${JobWorkingDir}\",\n",
    "        \"execSystemLogicalQueue\": \"skx\",\n",
    "        \"archiveSystemId\": \"stampede3\",\n",
    "        \"archiveSystemDir\": \"HOST_EVAL($WORK)/tapis-jobs-archive/${JobCreateDate}/${JobName}-${JobUUID}\",\n",
    "        \"archiveOnAppError\": true,\n",
    "        \"isMpi\": false,\n",
    "        \"mpiCmd\": null,\n",
    "        \"parameterSet\": {\n",
    "          \"appArgs\": [],\n",
    "          \"containerArgs\": [],\n",
    "          \"schedulerOptions\": [\n",
    "            {\n",
    "              \"name\": \"OpenSees TACC Scheduler Profile\",\n",
    "              \"description\": \"Scheduler profile for the default version of OpenSees\",\n",
    "              \"inputMode\": \"FIXED\",\n",
    "              \"arg\": \"--tapis-profile OpenSees_default\",\n",
    "              \"notes\": {\n",
    "                \"isHidden\": true\n",
    "              }\n",
    "            }\n",
    "          ],\n",
    "          \"envVariables\": [],\n",
    "          \"archiveFilter\": {\n",
    "            \"includes\": [],\n",
    "            \"excludes\": [\"__container_filename__\"],\n",
    "            \"includeLaunchFiles\": true\n",
    "          }\n",
    "        },\n",
    "        \"fileInputs\": [],\n",
    "        \"fileInputArrays\": [],\n",
    "        \"nodeCount\": 1,\n",
    "        \"coresPerNode\": 1,\n",
    "        \"memoryMB\": 192000,\n",
    "        \"maxMinutes\": 120,\n",
    "        \"subscriptions\": [],\n",
    "        \"tags\": []\n",
    "      },\n",
    "      \"tags\": [\n",
    "        \"portalName: DesignSafe\",\n",
    "        \"portalName: CEP\"\n",
    "      ],\n",
    "      \"notes\": {\n",
    "        \"label\": \"__app_id__\",\n",
    "        \"helpUrl\": \"\",\n",
    "        \"hideNodeCountAndCoresPerNode\": false,\n",
    "        \"isInteractive\": false,\n",
    "        \"icon\": \"OpenSees\",\n",
    "        \"category\": \"Simulation\"\n",
    "      }\n",
    "    }\n",
    "    \"\"\"\n",
    "    thisText = thisText.replace(\"__app_id__\", app_id)\n",
    "    thisText = thisText.replace(\"__app_version__\", app_version)\n",
    "    thisText = thisText.replace(\"__app_description__\", app_description)\n",
    "    thisText = thisText.replace(\"__container_filename_path__\", f\"tapis://{app_system_id}/{app_path}/{container_filename}\")\n",
    "    thisText = thisText.replace(\"__container_filename__\", container_filename)\n",
    "  \n",
    "    with open(f\"{app_folder}/{thisFilename}\", \"w\") as f:\n",
    "        f.write(thisText)\n",
    "\n",
    "    appFilesList.append(thisFilename)"
   ]
  },
  {
   "cell_type": "markdown",
   "metadata": {},
   "source": [
    "#### **profile.json** – Environment Setup\n",
    "This file will load modules before your script runs. This is executed on the compute node."
   ]
  },
  {
   "cell_type": "code",
   "execution_count": null,
   "metadata": {},
   "outputs": [],
   "source": [
    "if do_makeApp:\n",
    "    thisFilename = 'profile.json'\n",
    "    thisText = \"\"\"\\\n",
    "    {\n",
    "        \"name\": \"__app_id__\",\n",
    "        \"description\": \"Modules to load\",\n",
    "        \"moduleLoads\": [ ],\n",
    "        \"hiddenOptions\": [\n",
    "            \"MEM\"\n",
    "        ]\n",
    "    }\n",
    "    \"\"\" \n",
    "    thisText = thisText.replace(\"__app_id__\", app_id)\n",
    "    with open(f\"{app_folder}/{thisFilename}\", \"w\") as f:\n",
    "        f.write(thisText)\n",
    "\n",
    "    appFilesList.append(thisFilename)"
   ]
  },
  {
   "cell_type": "markdown",
   "metadata": {},
   "source": [
    "#### **tapisjob_app.sh** – Wrapper Script\n",
    "Wrapper script executed by the job; this is the command that launches your code (e.g., runs *OpenSeesMP*, Python, or a script)"
   ]
  },
  {
   "cell_type": "code",
   "execution_count": null,
   "metadata": {},
   "outputs": [],
   "source": [
    "if do_makeApp:\n",
    "    import textwrap, time\n",
    "    from zipfile import ZipFile, ZIP_DEFLATED, ZipInfo\n",
    "    \n",
    "    thisFilename_sh = \"tapisjob_app.sh\"\n",
    "    thisFilename = container_filename  # existing var\n",
    "\n",
    "\n",
    "    bash_script = textwrap.dedent(\"\"\"\\\n",
    "        #!/bin/bash\n",
    "        set -euo pipefail\n",
    "        set -x\n",
    "\n",
    "        inputDirectory=\"${inputDirectory:?inputDirectory not set}\"\n",
    "        echo \"$inputDirectory\"\n",
    "    \"\"\")\n",
    "\n",
    "\n",
    "    zip_path = os.path.join(app_folder, thisFilename)\n",
    "    print('zip_path',zip_path)\n",
    "\n",
    "    # write with executable permission inside the ZIP\n",
    "    zi = ZipInfo(thisFilename_sh)\n",
    "    zi.date_time = time.localtime(time.time())[:6]\n",
    "    zi.compress_type = ZIP_DEFLATED\n",
    "    zi.external_attr = 0o100755 << 16   # -rwxr-xr-x on a regular file\n",
    "    \n",
    "    with ZipFile(zip_path, \"w\", ZIP_DEFLATED) as z:\n",
    "        z.writestr(zi, bash_script)\n",
    "        \n",
    "    appFilesList.append(thisFilename)"
   ]
  },
  {
   "cell_type": "markdown",
   "metadata": {},
   "source": [
    "#### File Check\n",
    "Look at the files we have written and check for typos or formatting errors."
   ]
  },
  {
   "cell_type": "code",
   "execution_count": null,
   "metadata": {
    "scrolled": true
   },
   "outputs": [],
   "source": [
    "if do_makeApp:\n",
    "    print(appFilesList)\n",
    "    OpsUtils.show_text_file_in_accordion(app_folder, appFilesList)"
   ]
  },
  {
   "cell_type": "markdown",
   "metadata": {},
   "source": [
    "---\n",
    "## Validate App Locally"
   ]
  },
  {
   "cell_type": "code",
   "execution_count": null,
   "metadata": {},
   "outputs": [],
   "source": [
    "if do_makeApp:\n",
    "    OpsUtils.show_text_file_in_accordion(PathOpsUtils, ['validate_app_folder.py'])"
   ]
  },
  {
   "cell_type": "code",
   "execution_count": null,
   "metadata": {},
   "outputs": [],
   "source": [
    "if do_makeApp:\n",
    "    validation = OpsUtils.validate_app_folder(app_folder,appFilesList)\n",
    "    if not validation:\n",
    "        print('Validation Failed: stopping here!!!!')\n",
    "        a = 3/0"
   ]
  },
  {
   "cell_type": "markdown",
   "metadata": {},
   "source": [
    "---\n",
    "## Deploy the App"
   ]
  },
  {
   "cell_type": "markdown",
   "metadata": {},
   "source": [
    "### Make the directory inside your 'MyData' on designsafe.storage.default.\n",
    "The apps in this folder are the ones that area actually uploaded."
   ]
  },
  {
   "cell_type": "code",
   "execution_count": null,
   "metadata": {},
   "outputs": [],
   "source": [
    "if do_makeApp:\n",
    "    t.files.mkdir(systemId=app_system_id, path=app_path)\n",
    "    print('app_path',app_path)"
   ]
  },
  {
   "cell_type": "markdown",
   "metadata": {},
   "source": [
    "### Upload files to your deployment system (e.g., DesignSafe default storage)\n",
    "Using Tapipy (Python SDK) in a Jupyter Notebook"
   ]
  },
  {
   "cell_type": "code",
   "execution_count": null,
   "metadata": {},
   "outputs": [],
   "source": [
    "if do_makeApp:\n",
    "    for fname in appFilesList:\n",
    "        fpath = f'{app_folder}/{fname}'\n",
    "        t.upload(source_file_path=fpath,\n",
    "                 system_id=app_system_id,\n",
    "                 dest_file_path=f'{app_path}/{fname}')"
   ]
  },
  {
   "cell_type": "markdown",
   "metadata": {},
   "source": [
    "#### Verify upload"
   ]
  },
  {
   "cell_type": "code",
   "execution_count": null,
   "metadata": {},
   "outputs": [],
   "source": [
    "if do_makeApp:\n",
    "    print('app_system_id:',app_system_id)\n",
    "    print('app_path:',app_path)\n",
    "    appfiles = t.files.listFiles(systemId=app_system_id, path=app_path)\n",
    "    for thisF in appfiles:\n",
    "        print(thisF)\n",
    "        print('')"
   ]
  },
  {
   "cell_type": "markdown",
   "metadata": {},
   "source": [
    "---\n",
    "## Register the App\n",
    "This creates the actual App record that Jobs can run.\n",
    "\n",
    "Do this Using Tapipy (Python)"
   ]
  },
  {
   "cell_type": "code",
   "execution_count": null,
   "metadata": {},
   "outputs": [],
   "source": [
    "if do_makeApp:\n",
    "    # Create (or create a new version) of the app\n",
    "    with open(f'{app_folder}/app.json') as f:\n",
    "        app_def = json.load(f)\n",
    "    t.apps.createAppVersion(**app_def)"
   ]
  },
  {
   "cell_type": "markdown",
   "metadata": {},
   "source": [
    "### Check that app is up"
   ]
  },
  {
   "cell_type": "markdown",
   "metadata": {},
   "source": [
    "#### List all apps"
   ]
  },
  {
   "cell_type": "code",
   "execution_count": null,
   "metadata": {},
   "outputs": [],
   "source": [
    "listType = 'ALL' # Include all items requester is authorized to view. Includes check for READ or MODIFY permission.\n",
    "select = 'id,created,description,version,owner' # Attributes to return in each result.\n",
    "orderBy = 'created(asc)'\n",
    "results = t.apps.getApps( orderBy=orderBy,\n",
    "                         select=select)  \n",
    "for thisRes in results:\n",
    "    print('--')\n",
    "    print(thisRes)"
   ]
  },
  {
   "cell_type": "markdown",
   "metadata": {},
   "source": [
    "#### List the new app"
   ]
  },
  {
   "cell_type": "code",
   "execution_count": null,
   "metadata": {},
   "outputs": [],
   "source": [
    "appMetaData = t.apps.getAppLatestVersion(appId=app_id)\n",
    "print(appMetaData)"
   ]
  },
  {
   "cell_type": "markdown",
   "metadata": {},
   "source": [
    "---\n",
    "## Submit a Job\n",
    "\n",
    "You can now submit a job using this app. You can use the Tapis CLI, Tapipy, or a web form.\n",
    "\n",
    "We are using TapiPy directly from this notebook. We will not specify a version so that the latest is used by default in the description."
   ]
  },
  {
   "cell_type": "markdown",
   "metadata": {},
   "source": [
    "---\n",
    "### Initialize"
   ]
  },
  {
   "cell_type": "code",
   "execution_count": null,
   "metadata": {},
   "outputs": [],
   "source": [
    "tapisInputAll = {}"
   ]
  },
  {
   "cell_type": "markdown",
   "metadata": {},
   "source": [
    "---\n",
    "### SLURM-Specific Input"
   ]
  },
  {
   "cell_type": "code",
   "execution_count": null,
   "metadata": {},
   "outputs": [],
   "source": [
    "tapisInputAll[\"maxMinutes\"] = 1\n",
    "\n",
    "tapisInputAll[\"execSystemId\"] = \"stampede3\"\n",
    "tapisInputAll[\"execSystemLogicalQueue\"] = \"skx-dev\"\n",
    "tapisInputAll[\"nodeCount\"] = 1\n",
    "tapisInputAll[\"coresPerNode\"] = 48\n",
    "tapisInputAll[\"allocation\"] = \"DS-HPC1\"\n",
    "\n",
    "tapisInputAll['archive_system']='Work' # Options: MyData or Work"
   ]
  },
  {
   "cell_type": "markdown",
   "metadata": {},
   "source": [
    "---\n",
    "### App-Specific Input"
   ]
  },
  {
   "cell_type": "code",
   "execution_count": null,
   "metadata": {},
   "outputs": [],
   "source": [
    "print('app_id:',app_id)"
   ]
  },
  {
   "cell_type": "markdown",
   "metadata": {},
   "source": [
    "### OpenSees"
   ]
  },
  {
   "cell_type": "code",
   "execution_count": null,
   "metadata": {},
   "outputs": [],
   "source": [
    "\n",
    "\n",
    "# tapisInput['storage_system'] = 'CommunityData'\n",
    "# tapisInput['input_folder'] = 'OpenSees/TrainingMaterial/training-OpenSees-on-DesignSafe/Examples_OpenSees/BasicExamples' \n",
    "\n",
    "\n",
    "# # -----------------------------------------------------\n",
    "# if do_submitJob:\n",
    "#     here_tapisInput = tapisInput.copy()\n",
    "#     here_tapisInput[\"appId\"] = app_id \n",
    "#     here_tapisInput[\"name\"] = here_tapisInput[\"appId\"]\n",
    "#     print(f'\\n -- {here_tapisInput['name']} --\\n')\n",
    "#     jobReturns = OpsUtils.run_tapis_job(t,here_tapisInput,get_job_metadata=True,get_job_history=True,get_job_filedata=True,askConfirmJob = False,askConfirmMonitorRT = False)\n",
    "# # -----------------------------------------------------"
   ]
  },
  {
   "cell_type": "code",
   "execution_count": null,
   "metadata": {},
   "outputs": [],
   "source": [
    "   \n",
    "from tapipy.tapis import TapisResult\n",
    "appMetaData = t.apps.getAppLatestVersion(appId=app_id)\n",
    "app_MetaData = appMetaData.__dict__\n",
    "print(app_MetaData.keys())\n",
    "app_jobAttributes = app_MetaData['jobAttributes'].__dict__\n",
    "print('app_jobAttributes',app_jobAttributes.keys())\n",
    "app_parameterSet = app_jobAttributes['parameterSet'].__dict__\n",
    "print('app_parameterSet',app_parameterSet.keys())\n",
    "# app_appArgs = app_parameterSet['appArgs']\n",
    "# app_envVariables = app_parameterSet['envVariables']\n",
    "for app_key in ['appArgs','envVariables']:\n",
    "    print('app_key',app_key)\n",
    "    app_Dict = app_parameterSet[app_key]\n",
    "    print(app_Dict)\n",
    "for app_key in ['fileInputs']:\n",
    "    print('app_key',app_key)\n",
    "    app_Dict = app_jobAttributes[app_key]\n",
    "    print(app_Dict)\n",
    "    \n",
    "\n",
    "job_description = {'name':'getWork'}\n",
    "job_description[\"appId\"] = app_id\n",
    "job_description[\"appVersion\"] = app_version\n",
    "here_tapisInput = tapisInputAll.copy()\n",
    "here_tapisInput['storage_system'] = 'CommunityData'\n",
    "here_tapisInput['input_folder'] = 'OpenSees/TrainingMaterial/training-OpenSees-on-DesignSafe/Examples_OpenSees/BasicExamples' \n"
   ]
  },
  {
   "cell_type": "code",
   "execution_count": null,
   "metadata": {},
   "outputs": [],
   "source": [
    "jobReturns = OpsUtils.run_tapis_job(t,here_tapisInput,job_description=job_description,get_job_metadata=True,get_job_history=True,get_job_filedata=True,askConfirmJob = False,askConfirmMonitorRT = False)"
   ]
  },
  {
   "cell_type": "code",
   "execution_count": null,
   "metadata": {},
   "outputs": [],
   "source": []
  }
 ],
 "metadata": {
  "IMAGE_NAME": "taccsciapps/ds-nb-img:base-0.2.3",
  "UUID": "73e0880d-9b87-11ec-9c1c-13579dd95994",
  "celltoolbar": "Raw Cell Format",
  "kernelspec": {
   "display_name": "Python 3 (ipykernel)",
   "language": "python",
   "name": "python3"
  },
  "language_info": {
   "codemirror_mode": {
    "name": "ipython",
    "version": 3
   },
   "file_extension": ".py",
   "mimetype": "text/x-python",
   "name": "python",
   "nbconvert_exporter": "python",
   "pygments_lexer": "ipython3",
   "version": "3.12.11"
  }
 },
 "nbformat": 4,
 "nbformat_minor": 4
}
