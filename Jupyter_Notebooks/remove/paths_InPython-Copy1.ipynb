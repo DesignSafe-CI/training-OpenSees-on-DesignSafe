{
 "cells": [
  {
   "cell_type": "markdown",
   "id": "13aaba36-f7e8-44ea-a65b-91f656862a84",
   "metadata": {},
   "source": [
    "<a class=\"reference external\" \n",
    "    href=\"https://jupyter.designsafe-ci.org/hub/user-redirect/lab/tree/CommunityData/OpenSees/TrainingMaterial/training-OpenSees-on-DesignSafe/Jupyter_Notebooks/paths_InPython.ipynb\" target=\"_blank\">\n",
    "<img alt=\"Try on DesignSafe\" src=\"https://raw.githubusercontent.com/DesignSafe-Training/pinn/main/DesignSafe-Badge.svg\" /></a>"
   ]
  },
  {
   "cell_type": "markdown",
   "id": "90a66ccd-e5cd-4fe1-815a-83872dd933c2",
   "metadata": {},
   "source": [
    "# Paths in Python 📒\n",
    "***Working with Paths in Python: os module vs Shell Commands***\n",
    "\n",
    "by Silvia Mazzoni, DesignSafe, 2025\n",
    "\n",
    "When writing scripts that manipulate files or navigate directories, it’s critical to use tools that are **portable, robust, and easy to maintain across systems**.\n",
    "\n",
    "On DesignSafe (and generally on HPC systems), your scripts might run on JupyterHub, a virtual machine, or a batch environment—so writing **path operations in pure Python** ensures they behave consistently everywhere.\n"
   ]
  },
  {
   "cell_type": "code",
   "execution_count": 1,
   "id": "8cccbbff-caeb-459d-afd0-fc0a386f4efc",
   "metadata": {},
   "outputs": [],
   "source": [
    "import os"
   ]
  },
  {
   "cell_type": "markdown",
   "id": "6776c9e5-7c00-4f94-86e0-54c687dace7d",
   "metadata": {},
   "source": [
    "## **os** Python Module\n",
    "\n",
    "The *os.path* module is part of Python’s built-in *os* library and helps you **work with file system paths in a clean, portable way**. Instead of relying on system-specific shell commands like *cd*, *pwd*, or *ls*, *os.path* and related *os* functions let you write code that works consistently across **Linux, macOS, and Windows**.\n",
    "\n",
    "Unlike shell commands, which only **display output to the screen**, Python’s *os* and *os.path* functions **return actual values** (like strings, lists, or booleans) that you can use directly in your code. For example, *os.listdir()* gives you a list of filenames you can iterate over—no parsing, no copy-pasting from the terminal.\n",
    "\n",
    "When comparing options:\n",
    "\n",
    "* *os* and *os.path* are **Python-native** — safe, readable, and portable.\n",
    "* Shell commands like *ls* or *cd* are **fragile** and don’t return data you can use in Python.\n",
    "* *subprocess* is powerful, but better suited for running full programs or system-level tools, not basic path operations.\n",
    "\n",
    "If you're building a workflow that needs to run reliably in different environments—like JupyterHub, VMs, or HPC systems—use *os.path*.\n",
    "\n",
    "### Why use *os.path*?\n",
    "\n",
    "* **Portable:** handles differences between Linux, macOS, and Windows automatically (slashes, etc.).\n",
    "* **Works with Python variables:** no need to parse command output.\n",
    "* **Safe and predictable:** your scripts don’t depend on external shell programs.\n",
    "\n",
    "By contrast:\n",
    "\n",
    "* Shell commands via **os.system()** are less predictable and can’t return values to Python variables.\n",
    "* The **subprocess** module is very powerful for calling external programs (like running OpenSees or SLURM scripts), but it’s overkill for simple file operations.\n",
    "\n",
    "\n",
    "## Examples with *os* and *os.path*\n",
    "\n",
    "| Task                               | Recommended Python Code                   | Shell Equivalent            |\n",
    "| ---------------------------------- | ----------------------------------------- | --------------------------- |\n",
    "| Get current directory              | `os.getcwd()`                             | `pwd`                       |\n",
    "| List files in a directory          | `os.listdir(path)`                        | `ls path`                   |\n",
    "| Change directory                   | `os.chdir(path)`                          | `cd path`                   |\n",
    "| Expand `~` to home directory       | `os.path.expanduser('~')`                 | `echo ~`                    |\n",
    "| Build safe path                    | `os.path.join(dir, file)`                 | `cd dir/subdir` *(fragile)* |\n",
    "| Get absolute path from relative    | `os.path.abspath('myfile.txt')`           | `realpath myfile.txt`       |\n",
    "| Check if a path exists             | `os.path.exists(path)`                    | `test -e path` or `ls`      |\n",
    "| Check if path is file or directory | `os.path.isfile(path)`, `os.path.isdir()` | `file path`, `ls -ld path`  |\n",
    "| Create a directory                 | `os.mkdir(path)`                          | `mkdir path`                |\n",
    "| Create all parent directories      | `os.makedirs(path, exist_ok=True)`        | `mkdir -p path`             |\n",
    "| Rename/move a file                 | `os.rename('old', 'new')`                 | `mv old new`                |\n",
    "| Remove a file                      | `os.remove('file.txt')`                   | `rm file.txt`               |\n",
    "| Remove an empty directory          | `os.rmdir('folder')`                      | `rmdir folder`              |\n",
    "| Remove a directory (recursively)   | `shutil.rmtree('folder')`                 | `rm -r folder`              |\n",
    "| Copy a file                        | `shutil.copy('src', 'dst')`               | `cp src dst`                |\n",
    "| Copy a directory                   | `shutil.copytree('src', 'dst')`           | `cp -r src dst`             |\n",
    "\n",
    "✅ **Tip:** Use the `os` and `os.path` modules for general-purpose, portable path and file manipulation. Use `shutil` when you need higher-level operations like copying or deleting directories -- see below for more on shutil."
   ]
  },
  {
   "cell_type": "markdown",
   "id": "7937dbfa-1694-4ec6-a49f-2e8aa16630d6",
   "metadata": {},
   "source": [
    "---\n",
    "## Check if a path exists\n",
    "***Checking if a path exists with os.path.exists***\n",
    "\n",
    "Before working with any file or directory — such as listing its contents, reading a file, or writing data — it’s good practice to first **check whether the path actually exists on the filesystem**.\n",
    "\n",
    "Python’s `os.path` module provides a simple way to do this:\n",
    "\n",
    "### Why this matters\n",
    "\n",
    "* Running commands on paths that **don’t exist** often causes errors like `FileNotFoundError`.\n",
    "* This is especially important on DesignSafe, where **storage may be mounted differently** on JupyterHub, the OpenSees VM, or Stampede3. A path valid on one system might not exist on another.\n",
    "* Checking existence first makes your scripts more robust and user-friendly — you can print helpful messages or even create missing directories.\n",
    "\n",
    "Adding `os.path.exists` checks into your workflow helps you avoid many common bugs and ensures your code handles different environments gracefully."
   ]
  },
  {
   "cell_type": "code",
   "execution_count": 2,
   "id": "650a201e-2fcb-4932-809c-d4ace18e7d09",
   "metadata": {},
   "outputs": [],
   "source": [
    "# initialize:\n",
    "os.chdir(os.path.expanduser('~')) # start at the home directory, we will discuss these commands"
   ]
  },
  {
   "cell_type": "code",
   "execution_count": 3,
   "id": "106849fb-3d25-4a74-8747-b07cf61e305e",
   "metadata": {},
   "outputs": [
    {
     "name": "stdout",
     "output_type": "stream",
     "text": [
      "The path exists: MyData\n"
     ]
    }
   ],
   "source": [
    "# Check if path exists:\n",
    "thisPath = 'MyData'\n",
    "\n",
    "if os.path.exists(thisPath):\n",
    "    print(f\"The path exists: {thisPath}\")\n",
    "else:\n",
    "    print(f\"Path does not exist: {thisPath}\")"
   ]
  },
  {
   "cell_type": "markdown",
   "id": "0aa724e8-ba7b-4887-91e5-70b62874db58",
   "metadata": {},
   "source": [
    "---\n",
    "## Absolute vs Relative Path\n",
    "Yes, that’s a good general rule—especially for Unix-like systems (like Linux and macOS), including the HPC systems on DesignSafe. Here's how you can phrase it more precisely:\n",
    "\n",
    "> An **absolute path** starts with a `/` and specifies the full location of a file or directory from the root of the file system.\n",
    ">\n",
    "> A **relative path** does **not** start with a `/` and is interpreted in relation to the current working directory (e.g., `.`).\n",
    "\n",
    "### Example:\n",
    "\n",
    "```bash\n",
    "# Absolute path\n",
    "/data/user/simulation/input.tcl\n",
    "\n",
    "# Relative path (from current directory)\n",
    "../input.tcl\n",
    "./scripts/run.sh\n",
    "```\n",
    "\n",
    "> ⚠️ On Windows, absolute paths start with a drive letter like `C:\\`, so this rule is Unix-specific—but totally valid on DesignSafe.\n"
   ]
  },
  {
   "cell_type": "markdown",
   "id": "cb879cb3-912a-4204-83c4-63302ab4e148",
   "metadata": {},
   "source": [
    "---\n",
    "## expanduser and abspath\n",
    "***Getting the full absolute path***\n",
    "\n",
    "You can define the full path with or without **~** (a special UNIX shorthand for your home directory).\n",
    "\n",
    "Let’s make sure you can build **robust absolute paths**, no matter how the path is specified.\n",
    "\n",
    "### Why this matters:\n",
    "- Paths without **~** are interpreted relative to your current working directory.  \n",
    "- Different environments on DesignSafe mount your storage under different root directories. If you rely on relative paths without care, your code might break or point to unexpected locations.\n",
    "\n",
    "\n",
    "### Using *expanduser* and *abspath* together\n",
    "\n",
    "- **os.path.expanduser(path)** replaces **~** with your actual home directory.  \n",
    "- **os.path.abspath(path)** resolves any relative path (like *MyData*) to a full path from **/**, based on where you’re currently working.\n",
    "\n",
    "But each does only half the job:"
   ]
  },
  {
   "cell_type": "markdown",
   "id": "10b9d786-cb77-41b0-b234-b8753bd060e1",
   "metadata": {},
   "source": [
    "### expanduser"
   ]
  },
  {
   "cell_type": "code",
   "execution_count": 4,
   "id": "9c06ae24-fab7-4581-8ca6-c290733a2c3e",
   "metadata": {},
   "outputs": [
    {
     "data": {
      "text/plain": [
       "'/home/jupyter/MyData'"
      ]
     },
     "execution_count": 4,
     "metadata": {},
     "output_type": "execute_result"
    }
   ],
   "source": [
    "os.path.expanduser('~/MyData') # replaces ~ with your actual home directory"
   ]
  },
  {
   "cell_type": "code",
   "execution_count": 5,
   "id": "d9a4ce34-028d-4e77-bac5-42ae2df32e21",
   "metadata": {},
   "outputs": [
    {
     "data": {
      "text/plain": [
       "True"
      ]
     },
     "execution_count": 5,
     "metadata": {},
     "output_type": "execute_result"
    }
   ],
   "source": [
    "os.path.exists(os.path.expanduser('~/MyData'))"
   ]
  },
  {
   "cell_type": "code",
   "execution_count": 6,
   "id": "747768cf-6d18-44ac-b9f7-cdab30e0037c",
   "metadata": {},
   "outputs": [
    {
     "data": {
      "text/plain": [
       "'/MyData'"
      ]
     },
     "execution_count": 6,
     "metadata": {},
     "output_type": "execute_result"
    }
   ],
   "source": [
    "os.path.expanduser('/MyData')"
   ]
  },
  {
   "cell_type": "code",
   "execution_count": 7,
   "id": "bc39abe4-97f8-4ed1-a902-1b16731251ed",
   "metadata": {},
   "outputs": [
    {
     "data": {
      "text/plain": [
       "False"
      ]
     },
     "execution_count": 7,
     "metadata": {},
     "output_type": "execute_result"
    }
   ],
   "source": [
    "os.path.exists(os.path.expanduser('/MyData'))"
   ]
  },
  {
   "cell_type": "code",
   "execution_count": 8,
   "id": "ef8f9f79-0bdd-401b-a655-5e420fe883a8",
   "metadata": {},
   "outputs": [
    {
     "data": {
      "text/plain": [
       "'MyData'"
      ]
     },
     "execution_count": 8,
     "metadata": {},
     "output_type": "execute_result"
    }
   ],
   "source": [
    "os.path.expanduser('MyData') # (unchanged, still relative)"
   ]
  },
  {
   "cell_type": "code",
   "execution_count": 9,
   "id": "bba0415c-2483-4639-b09c-b52c2a211c3e",
   "metadata": {},
   "outputs": [
    {
     "data": {
      "text/plain": [
       "True"
      ]
     },
     "execution_count": 9,
     "metadata": {},
     "output_type": "execute_result"
    }
   ],
   "source": [
    "os.path.exists(os.path.expanduser('MyData'))"
   ]
  },
  {
   "cell_type": "markdown",
   "id": "dd383a5a-10d7-4883-9873-f98edf49523a",
   "metadata": {},
   "source": [
    "### abspath"
   ]
  },
  {
   "cell_type": "code",
   "execution_count": 10,
   "id": "3845225e-bcc8-4b2c-be89-5398b1dd20aa",
   "metadata": {},
   "outputs": [
    {
     "data": {
      "text/plain": [
       "'/home/jupyter/MyData'"
      ]
     },
     "execution_count": 10,
     "metadata": {},
     "output_type": "execute_result"
    }
   ],
   "source": [
    "os.path.abspath('MyData') # (convert relative to absolute, based on cwd)"
   ]
  },
  {
   "cell_type": "code",
   "execution_count": 11,
   "id": "53467f22-a63f-4259-9b70-a5c1bd75e7c5",
   "metadata": {},
   "outputs": [
    {
     "data": {
      "text/plain": [
       "True"
      ]
     },
     "execution_count": 11,
     "metadata": {},
     "output_type": "execute_result"
    }
   ],
   "source": [
    "os.path.exists(os.path.abspath('MyData'))"
   ]
  },
  {
   "cell_type": "code",
   "execution_count": 12,
   "id": "7b75eab4-344c-49ff-abc9-06408a3a9a71",
   "metadata": {},
   "outputs": [
    {
     "data": {
      "text/plain": [
       "'/home/jupyter/~/MyData'"
      ]
     },
     "execution_count": 12,
     "metadata": {},
     "output_type": "execute_result"
    }
   ],
   "source": [
    "os.path.abspath('~/MyData') ## gives unrealistic results"
   ]
  },
  {
   "cell_type": "code",
   "execution_count": 13,
   "id": "1a01c1e0-f09a-4bd4-a576-c9adcda861a4",
   "metadata": {},
   "outputs": [
    {
     "data": {
      "text/plain": [
       "False"
      ]
     },
     "execution_count": 13,
     "metadata": {},
     "output_type": "execute_result"
    }
   ],
   "source": [
    "os.path.exists(os.path.abspath('~/MyData'))"
   ]
  },
  {
   "cell_type": "markdown",
   "id": "38fbf56e-8c37-4f85-9819-2b7472d2e6c7",
   "metadata": {},
   "source": [
    "### Combine abspath  expanduser\n",
    "The safest pattern is to **combine them**. This way, your path works whether it starts with **~** or is just relative:"
   ]
  },
  {
   "cell_type": "code",
   "execution_count": 14,
   "id": "b45c07fd-3fb9-47dd-a141-825fc9db8501",
   "metadata": {},
   "outputs": [
    {
     "data": {
      "text/plain": [
       "'/home/jupyter/MyData'"
      ]
     },
     "execution_count": 14,
     "metadata": {},
     "output_type": "execute_result"
    }
   ],
   "source": [
    "os.path.abspath(os.path.expanduser('~/MyData'))"
   ]
  },
  {
   "cell_type": "code",
   "execution_count": 15,
   "id": "e0e5a8d8-7b49-4319-bb0c-60f31bf57ae0",
   "metadata": {},
   "outputs": [
    {
     "data": {
      "text/plain": [
       "True"
      ]
     },
     "execution_count": 15,
     "metadata": {},
     "output_type": "execute_result"
    }
   ],
   "source": [
    "os.path.exists(os.path.abspath(os.path.expanduser('~/MyData')))"
   ]
  },
  {
   "cell_type": "code",
   "execution_count": 16,
   "id": "a22224ae-38b1-4230-acc5-2c5751c3b5e7",
   "metadata": {},
   "outputs": [
    {
     "data": {
      "text/plain": [
       "'/home/jupyter/MyData'"
      ]
     },
     "execution_count": 16,
     "metadata": {},
     "output_type": "execute_result"
    }
   ],
   "source": [
    "os.path.abspath(os.path.expanduser('MyData')) # this is a relative path, so it works only when MyData exists"
   ]
  },
  {
   "cell_type": "code",
   "execution_count": 17,
   "id": "f3a37a70-7d68-4512-b957-7f6bb8dcda63",
   "metadata": {},
   "outputs": [
    {
     "data": {
      "text/plain": [
       "True"
      ]
     },
     "execution_count": 17,
     "metadata": {},
     "output_type": "execute_result"
    }
   ],
   "source": [
    "os.path.exists('MyData')"
   ]
  },
  {
   "cell_type": "code",
   "execution_count": 18,
   "id": "bf03f3b6-ee31-42ea-b86f-92240f71eecf",
   "metadata": {},
   "outputs": [
    {
     "data": {
      "text/plain": [
       "True"
      ]
     },
     "execution_count": 18,
     "metadata": {},
     "output_type": "execute_result"
    }
   ],
   "source": [
    "os.path.exists(os.path.abspath(os.path.expanduser('MyData')))"
   ]
  },
  {
   "cell_type": "markdown",
   "id": "2d9a5eac-4dd8-4c8a-be77-99dad39ddf01",
   "metadata": {},
   "source": [
    "#### Rule of thumb\n",
    "\n",
    "* Always use `expanduser` to safely expand `~`.\n",
    "* Always follow it with `abspath` to ensure you get a full path from `/`.\n",
    "\n",
    "This tiny two-step makes your code **portable and predictable**—especially across JupyterHub, the OpenSees VM, Stampede3, and Tapis, where your storage may appear under different absolute root directories.\n",
    "\n",
    "Understanding how to combine `expanduser` and `abspath` ensures your scripts will find your data reliably, saving you from countless `FileNotFoundError` surprises—no matter which system you’re running on.\n",
    "\n",
    "### Summary of absolute and relative paths\n",
    "- Always use **absolute paths** for reliability.  \n",
    "- Use `os.path.expanduser(\"~\")` to safely handle home directories.  \n",
    "- Prefer `os.path` functions over shell commands for **portability across DesignSafe systems**.  \n",
    "- Remember: the same storage might appear differently in JupyterHub, the OpenSees VM, Stampede3, and Tapis — understanding paths keeps your workflows smooth and error-free.\n"
   ]
  },
  {
   "cell_type": "markdown",
   "id": "618f0a3a-d3b5-4138-8300-875945b703f6",
   "metadata": {},
   "source": [
    "---\n",
    "## Root & Home\n",
    "\n",
    "When working in Jupyter environments, the **full absolute path is often hidden behind a simplified interface**. You typically start navigating at directories like *MyData*, *Work*, or *MyProjects*, without seeing the full path that comes before them. However, these base paths do exist—and they vary depending on the system you’re using.\n",
    "\n",
    "On DesignSafe, this is especially important because **the same storage systems appear differently across platforms**. For example:\n",
    "\n",
    "* JupyterHub mounts **MyData** under **/home/jupyter/MyData/**\n",
    "* Stampede3 doesn’t mount **MyData** at all, but uses your **\\$HOME** directory instead, which is part of a different storage system.\n",
    "* Tapis uses URI-style paths like **tapis\\://designsafe.storage.default/username/** (more on this later...)\n",
    "\n",
    "Understanding these differences is key to writing scripts and workflows that are portable and error-free across all of DesignSafe’s environments.\n",
    "\n",
    "### The root directory (`/`) vs. your home directory (`~`)\n",
    "\n",
    "When talking about file systems on UNIX-like systems (including Linux, macOS, and the systems powering JupyterHub and Stampede3), it’s important to distinguish between:\n",
    "\n",
    "* **The root directory `/`**\n",
    "    This is the **top of the entire file system hierarchy**. Everything on the machine—system files, programs, shared data, and user directories—lives somewhere under **/**.  \n",
    "\n",
    "    Examples of absolute paths from root include::\n",
    "    ```\n",
    "    /\n",
    "    /home\n",
    "    /scratch\n",
    "    /usr/bin\n",
    "    ```\n",
    "\n",
    "* **Your home directory `~`**\n",
    "    This is a **shortcut to your personal user space**, sometimes called your “home directory.”\n",
    "    It’s where your files, configurations, and most project work reside. Typical absolute equivalents look like:\n",
    "    ```\n",
    "    /home/silvia\n",
    "    or\n",
    "    /Users/silvia\n",
    "    ````\n",
    "\n",
    "In other words, `/` is the root for **the whole machine**, while `~` is the root for **your own user environment**. That’s why `~` is sometimes described as “the root of your personal space.”\n",
    "\n",
    "### Why does this matter?\n",
    "\n",
    "* When you use `/` to start a path, you’re telling the system to look from the very top. For example:\n",
    "\n",
    "  ```\n",
    "  /usr/bin/python\n",
    "  /scratch/myproject/output.txt\n",
    "  ```\n",
    "\n",
    "  These are **system-level paths**—they exist independently of who’s logged in.\n",
    "\n",
    "* When you use `~`, you’re telling the system to look in **your own user directory**. For example:\n",
    "\n",
    "  ```\n",
    "  ~/my-scripts/run-opensees.sh\n",
    "  ~/results/output.dat\n",
    "  ```\n",
    "\n",
    "  These are **specific to your user**, making them portable and safer (you won’t accidentally mess with system files)."
   ]
  },
  {
   "cell_type": "markdown",
   "id": "ec92fd94-1e02-41ef-b7b9-f285963115ff",
   "metadata": {},
   "source": [
    "### Example with `/` in Python"
   ]
  },
  {
   "cell_type": "code",
   "execution_count": 19,
   "id": "d6c32b00-b9eb-4248-a291-ebf4677a99ec",
   "metadata": {},
   "outputs": [
    {
     "name": "stdout",
     "output_type": "stream",
     "text": [
      "Path: /\n",
      "Expanded: /\n"
     ]
    }
   ],
   "source": [
    "thisPath = '/'\n",
    "expanded = os.path.abspath(os.path.expanduser(thisPath))\n",
    "\n",
    "print(f\"Path: {thisPath}\")\n",
    "print(f\"Expanded: {expanded}\")"
   ]
  },
  {
   "cell_type": "code",
   "execution_count": 20,
   "id": "e1985603-395e-4b2c-94ff-7c892c49f1e4",
   "metadata": {},
   "outputs": [
    {
     "name": "stdout",
     "output_type": "stream",
     "text": [
      "\n",
      " Get contents using: os.listdir('/'): ['media', 'home', 'sbin', 'proc', 'boot', 'opt', 'tmp', 'usr', 'mnt', 'dev', 'var', 'sys', 'srv', 'bin', 'etc', 'run', 'lib', 'root', 'lib64', 'sbin.usr-is-merged', 'bin.usr-is-merged', 'lib.usr-is-merged']\n"
     ]
    }
   ],
   "source": [
    "AllContents = os.listdir(expanded)\n",
    "print(f\"\\n Get contents using: os.listdir('{thisPath}'): {AllContents}\")"
   ]
  },
  {
   "cell_type": "markdown",
   "id": "50e5332b-a394-4f85-9b9d-e2b844329cb9",
   "metadata": {},
   "source": [
    "### Example with `~` in Python"
   ]
  },
  {
   "cell_type": "code",
   "execution_count": 21,
   "id": "710c946a-a915-414a-898e-2641d43fb7b7",
   "metadata": {},
   "outputs": [
    {
     "name": "stdout",
     "output_type": "stream",
     "text": [
      "Path: ~\n",
      "Expanded: /home/jupyter\n"
     ]
    }
   ],
   "source": [
    "Path = '~'\n",
    "expanded = os.path.expanduser(Path)\n",
    "\n",
    "print(f\"Path: {Path}\")\n",
    "print(f\"Expanded: {expanded}\")"
   ]
  },
  {
   "cell_type": "code",
   "execution_count": 22,
   "id": "33737c3c-91bc-4f80-91d9-36adb4022aef",
   "metadata": {},
   "outputs": [
    {
     "name": "stdout",
     "output_type": "stream",
     "text": [
      "\n",
      " Get contents using: os.listdir('~'): ['.profile', '.bashrc', '.bash_logout', '.tapis_tokens.json', '.python_history', '.local', '.bash_history', '.ipython', '.cache', 'results', 'Work', '.config', '.tapis-token', 'MyProjects', 'CommunityData', 'NEES', 'OutFiles_4dfa35e1-15cd-48fd-a090-f348544dee1f-007', 'NHERI-Published', 'MyData', '.jupyter', '.wget-hsts', '.julia', '.matlab']\n"
     ]
    }
   ],
   "source": [
    "AllContents = os.listdir(expanded)\n",
    "print(f\"\\n Get contents using: os.listdir('{Path}'): {AllContents}\")"
   ]
  },
  {
   "cell_type": "markdown",
   "id": "23a38ef5-599e-4046-94fe-f13f8429d606",
   "metadata": {},
   "source": [
    "This shows that `\"~\"` is **not the same as `/`**—it expands to your personal home directory.\n",
    "\n",
    "\n",
    "| Symbol | Means                             |\n",
    "| ------ | --------------------------------- |\n",
    "| `/`    | **root of the entire filesystem** |\n",
    "| `~`    | **your user’s home directory**    |\n",
    "\n",
    "\n",
    "\n",
    "### In practice\n",
    "\n",
    "Understanding this difference is crucial when writing absolute paths.\n",
    "\n",
    "* If you use `/`, you start from the very top of the machine’s filesystem. This is required when referencing global locations or shared directories.\n",
    "\n",
    "* If you use `~`, you start from your personal space. This is safer and more portable—especially across different systems on DesignSafe—since it doesn’t depend on system-level structures that might change.\n",
    "\n",
    "This distinction also helps you avoid mistakes like trying to list or modify system directories (`/etc`, `/usr`) when you really meant to work inside your own files."
   ]
  },
  {
   "cell_type": "markdown",
   "id": "fa236f0e-4111-4ca3-8d11-30118405b31c",
   "metadata": {},
   "source": [
    "---\n",
    "## Getting your current path\n",
    "\n",
    "Because different environments mount storage systems differently, querying the current path (**\".\"**) may show different results.\n",
    "\n",
    "To get the **absolute path of your current directory**, you can use:"
   ]
  },
  {
   "cell_type": "code",
   "execution_count": 23,
   "id": "1d02ab33-a826-4e56-a18c-f9798a7ac298",
   "metadata": {},
   "outputs": [
    {
     "data": {
      "text/plain": [
       "'/home/jupyter'"
      ]
     },
     "execution_count": 23,
     "metadata": {},
     "output_type": "execute_result"
    }
   ],
   "source": [
    "os.getcwd()"
   ]
  },
  {
   "cell_type": "code",
   "execution_count": 24,
   "id": "2aa91573-8cd1-4271-93f9-cc69328fb78d",
   "metadata": {},
   "outputs": [
    {
     "data": {
      "text/plain": [
       "'/home/jupyter'"
      ]
     },
     "execution_count": 24,
     "metadata": {},
     "output_type": "execute_result"
    }
   ],
   "source": [
    "os.path.abspath('.')           # same result, more general"
   ]
  },
  {
   "cell_type": "markdown",
   "id": "3a5539fb-34ab-4dc9-be5e-433d4a7f7694",
   "metadata": {},
   "source": [
    "Both will typically give the same absolute path. In this notebook, we’ll change directories into each storage system (and a subfolder) and query **\".\"** to illustrate how paths differ across environments."
   ]
  },
  {
   "cell_type": "markdown",
   "id": "1797efee-345d-4409-92b8-951e8f46cc58",
   "metadata": {},
   "source": [
    "---\n",
    "## Creating Directories\n",
    "\n",
    "When working with file outputs or organizing your data, it’s common to need a specific directory. Rather than assuming it exists, your script can **check and create it if necessary**.\n",
    "\n",
    "Use `os.path.exists()` to check whether a directory is already present, and `os.makedirs()` to create it if it’s missing."
   ]
  },
  {
   "cell_type": "code",
   "execution_count": 25,
   "id": "a6a74c2a-b958-499d-9644-3a52c38e0cf3",
   "metadata": {},
   "outputs": [
    {
     "name": "stdout",
     "output_type": "stream",
     "text": [
      "Directory already exists: results/output_data\n"
     ]
    }
   ],
   "source": [
    "thisPath = 'results/output_data'\n",
    "\n",
    "if not os.path.exists(thisPath):\n",
    "    print(f\"Creating missing directory: {thisPath}\")\n",
    "    os.makedirs(thisPath)\n",
    "else:\n",
    "    print(f\"Directory already exists: {thisPath}\")"
   ]
  },
  {
   "cell_type": "markdown",
   "id": "d9a8de1d-a093-4a2e-a9c3-80b11416ba09",
   "metadata": {},
   "source": [
    "### Why use `os.makedirs()`?\n",
    "\n",
    "* It **creates intermediate directories** as needed (e.g., `a/b/c` even if `a` and `b` don’t exist yet).\n",
    "* It’s safe to use in automated workflows where directory structure might vary.\n",
    "* Use it **before writing files** to ensure your destination exists.\n",
    "\n",
    "> ✅ Tip: If you use Python 3.2 or newer, you can also add `exist_ok=True` to skip the existence check:"
   ]
  },
  {
   "cell_type": "code",
   "execution_count": 26,
   "id": "062a6c87-bd9f-4f69-8b95-ae87b2b94717",
   "metadata": {},
   "outputs": [],
   "source": [
    "thisPath = 'temporalxxx'\n",
    "os.makedirs(thisPath, exist_ok=True); "
   ]
  },
  {
   "cell_type": "markdown",
   "id": "a285c830-8b46-4744-9403-8458e4d2a471",
   "metadata": {},
   "source": [
    "This makes your script **more robust and portable**, especially in shared or multi-user environments like DesignSafe."
   ]
  },
  {
   "cell_type": "markdown",
   "id": "baab7d78-73f3-4a0b-bbe6-9110b5815f68",
   "metadata": {},
   "source": [
    "---\n",
    "## Deleting Files and Directories\n",
    "***deleting files and directories safely using Python***\n",
    "\n",
    "Sometimes you’ll want to **clean up old files**, remove temporary data, or ensure a directory is empty before writing new output. Python provides built-in tools for this, mostly through the `os` and `shutil` modules."
   ]
  },
  {
   "cell_type": "markdown",
   "id": "8d2182ff-a707-43d2-9944-489e12557c92",
   "metadata": {},
   "source": [
    "### Deleting a file"
   ]
  },
  {
   "cell_type": "code",
   "execution_count": 27,
   "id": "293492cb-07b4-4720-b52a-46a588f5115b",
   "metadata": {},
   "outputs": [
    {
     "name": "stdout",
     "output_type": "stream",
     "text": [
      "File not found: output/log.txt\n"
     ]
    }
   ],
   "source": [
    "file_path = 'output/log.txt'\n",
    "\n",
    "if os.path.exists(file_path):\n",
    "    os.remove(file_path)\n",
    "    print(f\"Deleted file: {file_path}\")\n",
    "else:\n",
    "    print(f\"File not found: {file_path}\")"
   ]
  },
  {
   "cell_type": "markdown",
   "id": "d79c5481-9bea-43d1-a94b-3982b1aab917",
   "metadata": {},
   "source": [
    "### Deleting an Empty Directory\n",
    "\n",
    "Use `os.rmdir()` to delete a directory **only if it's empty**:"
   ]
  },
  {
   "cell_type": "code",
   "execution_count": 28,
   "id": "6efe7d45-ca56-4fd3-aaae-16504a462a7a",
   "metadata": {},
   "outputs": [
    {
     "name": "stdout",
     "output_type": "stream",
     "text": [
      "Deleted empty directory: temporalxxx\n"
     ]
    }
   ],
   "source": [
    "thisPath = 'temporalxxx'\n",
    "if os.path.exists(thisPath):\n",
    "    try:\n",
    "        os.rmdir(thisPath)\n",
    "        print(f\"Deleted empty directory: {thisPath}\")\n",
    "    except OSError:\n",
    "        print(f\"Directory not empty: {thisPath}\")"
   ]
  },
  {
   "cell_type": "markdown",
   "id": "171eafe0-6b29-4a93-9f33-84d25bf37caa",
   "metadata": {},
   "source": [
    "### Deleting a Directory and All Its Contents\n",
    "\n",
    "To delete a directory **and everything inside it**, use `shutil.rmtree()`:"
   ]
  },
  {
   "cell_type": "code",
   "execution_count": 29,
   "id": "0bc94c04-12e7-4540-af5a-f3a25d1c958f",
   "metadata": {},
   "outputs": [
    {
     "name": "stdout",
     "output_type": "stream",
     "text": [
      "Directory not found: results/temp\n"
     ]
    }
   ],
   "source": [
    "import shutil\n",
    "\n",
    "dir_path = 'results/temp'\n",
    "\n",
    "if os.path.exists(dir_path):\n",
    "    shutil.rmtree(dir_path)\n",
    "    print(f\"Deleted directory and all contents: {dir_path}\")\n",
    "else:\n",
    "    print(f\"Directory not found: {dir_path}\")"
   ]
  },
  {
   "cell_type": "markdown",
   "id": "e6340924-25fd-42c9-b4aa-8ecbf689f780",
   "metadata": {},
   "source": [
    "> ⚠️ **Warning:** `shutil.rmtree()` is **not reversible**. Always double-check the path before using it to avoid deleting critical data.\n",
    "\n",
    "---\n",
    "\n",
    "This gives you full control over cleaning up files and directories in your workflow — whether you're preparing for a new simulation run or automating post-processing steps.\n"
   ]
  },
  {
   "cell_type": "markdown",
   "id": "30893b24-8e45-465f-a13f-74910ed2e568",
   "metadata": {},
   "source": [
    "## Why Use `shutil`?\n",
    "\n",
    "While `os` and `os.path` handle **basic file and path operations**, the `shutil` module provides **higher-level utilities** for working with files and directories — especially when you need to:\n",
    "\n",
    "* **Copy** files or folders\n",
    "* **Delete entire directories** (recursively)\n",
    "* **Move or rename** large data structures\n",
    "\n",
    "It's a powerful tool for scripting workflows that manipulate lots of data, such as preparing input folders, archiving results, or cleaning up temporary files.\n",
    "\n",
    "---\n",
    "\n",
    "### Common `shutil` Functions\n",
    "\n",
    "| Task                             | Python Code                         | Description                                     |\n",
    "| -------------------------------- | ----------------------------------- | ----------------------------------------------- |\n",
    "| Copy a file                      | `shutil.copy('src.txt', 'dst.txt')` | Copies the contents and metadata of a file      |\n",
    "| Copy a directory (recursively)   | `shutil.copytree('src/', 'dst/')`   | Copies a full folder structure and contents     |\n",
    "| Move or rename a file/folder     | `shutil.move('old', 'new')`         | Moves or renames files or folders               |\n",
    "| Delete a directory (recursively) | `shutil.rmtree('folder')`           | Removes a directory and all its contents        |\n",
    "| Disk usage of a path             | `shutil.disk_usage('/')`            | Shows total, used, and free space at a location |\n",
    "| Create archive (zip/tar)         | `shutil.make_archive(...)`          | Builds a `.zip`, `.tar`, or `.gztar` archive    |\n",
    "\n",
    "---\n",
    "\n",
    "✅ **Note:** `shutil` is part of the Python Standard Library — no installation needed!\n"
   ]
  },
  {
   "cell_type": "markdown",
   "id": "fa0a7bfe-fd19-4742-86f2-267a777ff098",
   "metadata": {},
   "source": [
    "---\n",
    "## Changing Directories\n",
    "***Changing your working directory with os.chdir***\n",
    "\n",
    "Once you’ve found the path you want to work in, you can **change your current working directory** so that all relative operations happen there.  \n",
    "This is done using Python’s:"
   ]
  },
  {
   "cell_type": "code",
   "execution_count": 30,
   "id": "1a71f217-0b61-4f61-942b-e3d6cae95f79",
   "metadata": {},
   "outputs": [
    {
     "name": "stdout",
     "output_type": "stream",
     "text": [
      "current location /home/jupyter\n",
      "new location /home/jupyter/MyData\n"
     ]
    }
   ],
   "source": [
    "print('current location',os.getcwd())\n",
    "\n",
    "thisPath = os.path.expanduser('~/MyData')\n",
    "os.chdir(thisPath)\n",
    "\n",
    "print('new location',os.getcwd())"
   ]
  },
  {
   "cell_type": "markdown",
   "id": "0be8e4b7-22cf-49b5-990a-7e2736547cc1",
   "metadata": {},
   "source": [
    "From this point on, any command using a relative path (like `\"./somefile.txt\"`) will look inside this directory."
   ]
  },
  {
   "cell_type": "markdown",
   "id": "36f0bfb0-04c1-476b-9a4d-5f6841cf3f1e",
   "metadata": {},
   "source": [
    "### Always check that the directory exists first\n",
    "\n",
    "Before changing directories, it’s good practice to make sure the path actually exists.\n",
    "Otherwise, *os.chdir* will throw a *FileNotFoundError*."
   ]
  },
  {
   "cell_type": "code",
   "execution_count": 31,
   "id": "29a685d1-a5b8-4844-9275-8f5e400d45ba",
   "metadata": {},
   "outputs": [
    {
     "name": "stdout",
     "output_type": "stream",
     "text": [
      "current location /home/jupyter/MyData\n",
      "Path does not exist: /home/jupyter/YourData\n",
      "new location /home/jupyter/MyData\n"
     ]
    }
   ],
   "source": [
    "print('current location',os.getcwd())\n",
    "\n",
    "thisPath = os.path.abspath(os.path.expanduser('~/YourData'))\n",
    "\n",
    "if os.path.exists(thisPath):\n",
    "    os.chdir(thisPath)\n",
    "    print(f\"Changed working directory to: {thisPath}\")\n",
    "    print(f\"Current working directory is now: {os.getcwd()}\")\n",
    "else:\n",
    "    print(f\"Path does not exist: {thisPath}\")\n",
    "    \n",
    "print('new location',os.getcwd())"
   ]
  },
  {
   "cell_type": "markdown",
   "id": "808ba98f-f75c-4cee-a781-6c002a6ad31f",
   "metadata": {},
   "source": [
    "### Why change directories?\n",
    "\n",
    "* Lets you keep your relative paths simple.\n",
    "* Avoids having to write out long absolute paths repeatedly.\n",
    "* Makes it easier to run scripts or load data, knowing they’ll look in this directory.\n",
    "\n",
    "### A few tips\n",
    "\n",
    "* Always print your new location with **os.getcwd()** after changing directories — this avoids confusion about where your notebook or script is “pointing.”\n",
    "* Remember this change is **per-process**: it only affects the current Python session.\n",
    "\n",
    "Using *os.chdir* along with *os.path.exists*, *os.getcwd*, and your robust path-building ensures your notebooks are **safe, portable, and clear across all DesignSafe platforms.**\n"
   ]
  },
  {
   "cell_type": "markdown",
   "id": "79cc2f01-ae43-489c-8976-2ab76609c563",
   "metadata": {},
   "source": [
    "---\n",
    "## Directory Contents\n",
    "***Listing files and directories with `os.listdir`***\n",
    "\n",
    "Once you’ve confirmed that a path exists, you can explore its contents using Python.  \n",
    "The simplest way to do this is with **os.listdir**, which returns a list of all files and folders inside the specified directory.\n",
    "\n",
    "### Example usage"
   ]
  },
  {
   "cell_type": "code",
   "execution_count": 32,
   "id": "b50dea54-78af-4ace-bcee-d02606a3e4e4",
   "metadata": {},
   "outputs": [
    {
     "name": "stdout",
     "output_type": "stream",
     "text": [
      "thisPath: /home/jupyter/MyData\n"
     ]
    }
   ],
   "source": [
    "thisPath =os.path.abspath(os.path.expanduser('~/MyData'))\n",
    "\n",
    "print('thisPath:',thisPath)"
   ]
  },
  {
   "cell_type": "markdown",
   "id": "6b4d773a-a006-4bc2-bc64-e94fe1ac0578",
   "metadata": {},
   "source": [
    "### All Contents"
   ]
  },
  {
   "cell_type": "code",
   "execution_count": 33,
   "id": "63f5be8f-9c6f-46a3-b227-30a57c596823",
   "metadata": {},
   "outputs": [
    {
     "name": "stdout",
     "output_type": "stream",
     "text": [
      "\n",
      " Get contents using: os.listdir('/home/jupyter/MyData'): ['.Trash', '.ipynb_checkpoints', '.jupyter', '210219_10StorySapModel', 'BBPsimsData_180521', 'Baker_CS_Selection', 'Centrifuge_notebook', 'FEMAP695records', 'Frankel_etal_Production', 'NGAeastGMM', 'NGArecords', 'NGAsubGMMtool', 'PrivateProjectData', 'RCTC', 'SCEC_BBP_GMportal', 'SCEC_BBP_Study_17_3_180625', 'SpectraData', 'Temp', 'Utilities', 'archive', 'gmfiles', 'FEMAP695records.zip', 'Frankel_etal_Production.zip', 'Untitled.ipynb', 'Untitled1.ipynb', 'Untitled2.ipynb', 'Untitled3.ipynb', 'Testings', 'test.ipynb', 'eSEESminiPy', 'JupyterApps', 'template-opensees-freefield.ipynb', 'opensees2.ipynb', 'UseCases', 'BeamColumModelingInOpenSees_2_Sections.ipynb', 'tapis-jobs-archive', 'SFSI_ATC140ssi_superceded', 'OpenSees', 'GroundMotions', 'AgaveAPI_Interface_V1.ipynb', 'NHR3', '.opensees-interactive.bak', 'jupyter-templates', '.opensees-interactive.bak2', '.opensees-interactive', 'OpenSeesMPJupyter-TAPISV3silvia.ipynb', 'TapisV3', 'temp', 'study_22_12_lf_indexed.sqlite', 'ttt', 'ttttt', 'aws', 'NGAwest2_hdf5', 'tmp_tapis_submitJob_WebPortalApp.ipynb', 'tmp_tapis_submitJob_WebPortalApp_Def.ipynb', 'tmp_tapis_submitJob_WebPortalApp_Auto.ipynb', 'deeponet', 'tmp_training', '_ToCommunityData']\n"
     ]
    }
   ],
   "source": [
    "AllContents = os.listdir(thisPath)\n",
    "print(f\"\\n Get contents using: os.listdir('{thisPath}'): {AllContents}\")"
   ]
  },
  {
   "cell_type": "markdown",
   "id": "6aa7f233-4244-4a2d-9e87-a05d901f4ce3",
   "metadata": {},
   "source": [
    "This prints a simple list of names (both files and directories) found under `thisPath`."
   ]
  },
  {
   "cell_type": "markdown",
   "id": "a0bde5a9-5b04-4674-bef2-90b6ed6a55f0",
   "metadata": {},
   "source": [
    "### Splitting into files and directories\n",
    "\n",
    "To organize this output more clearly, you can separate **files** and **directories** using list comprehensions and **os.path.isdir**:"
   ]
  },
  {
   "cell_type": "code",
   "execution_count": 34,
   "id": "c21ad092-8c30-4bdc-9661-b1736e0fe566",
   "metadata": {},
   "outputs": [
    {
     "name": "stdout",
     "output_type": "stream",
     "text": [
      " -- directories: ['.Trash', '.ipynb_checkpoints', '.jupyter', '210219_10StorySapModel', 'BBPsimsData_180521', 'Baker_CS_Selection', 'Centrifuge_notebook', 'FEMAP695records', 'Frankel_etal_Production', 'NGAeastGMM', 'NGArecords', 'NGAsubGMMtool', 'PrivateProjectData', 'RCTC', 'SCEC_BBP_GMportal', 'SCEC_BBP_Study_17_3_180625', 'SpectraData', 'Temp', 'Utilities', 'archive']\n"
     ]
    }
   ],
   "source": [
    "directories = [name for name in AllContents if os.path.isdir(os.path.join(thisPath, name))]\n",
    "\n",
    "print(f\" -- directories:\",directories[:20]); # show only the first few"
   ]
  },
  {
   "cell_type": "code",
   "execution_count": 35,
   "id": "a684e375-bcb6-40cd-ab3d-c3bd9f0dcab6",
   "metadata": {},
   "outputs": [
    {
     "name": "stdout",
     "output_type": "stream",
     "text": [
      " -- files: ['FEMAP695records.zip', 'Frankel_etal_Production.zip', 'Untitled.ipynb', 'Untitled1.ipynb', 'Untitled2.ipynb', 'Untitled3.ipynb', 'test.ipynb', 'template-opensees-freefield.ipynb', 'opensees2.ipynb', 'BeamColumModelingInOpenSees_2_Sections.ipynb', 'AgaveAPI_Interface_V1.ipynb', 'OpenSeesMPJupyter-TAPISV3silvia.ipynb', 'study_22_12_lf_indexed.sqlite', 'tmp_tapis_submitJob_WebPortalApp.ipynb', 'tmp_tapis_submitJob_WebPortalApp_Def.ipynb', 'tmp_tapis_submitJob_WebPortalApp_Auto.ipynb']\n"
     ]
    }
   ],
   "source": [
    "files = [name for name in AllContents if not os.path.isdir(os.path.join(thisPath, name))] # select files as not directories\n",
    "\n",
    "print(f\" -- files:\",files[:20]); # show only the first few"
   ]
  },
  {
   "cell_type": "markdown",
   "id": "3d9bba2f-7716-49f2-a80f-b756ab5e2dea",
   "metadata": {},
   "source": [
    "### Why this is helpful\n",
    "\n",
    "* You get a quick overview of what’s inside your data folder.\n",
    "* Separating files vs. directories is especially useful if your scripts process only data files, or need to recursively explore subfolders.\n",
    "* **The list of files is stored in an array so you can use it in your workflow**"
   ]
  },
  {
   "cell_type": "markdown",
   "id": "c2080af8-3e4e-4ddb-8f6f-95200c5a15ac",
   "metadata": {},
   "source": [
    "---\n",
    "##  Building Paths with `os.path.join()`\n",
    "\n",
    "When you're working with files and folders in Python, you’ll often need to build complete paths from smaller parts — like combining a base directory with a filename.\n",
    "\n",
    "Instead of writing paths as long strings, Python provides a better tool: `os.path.join()`.\n",
    "\n",
    "### Why Use `os.path.join()`?\n",
    "\n",
    "Manually typing out full paths like this:\n",
    "\n",
    "```python\n",
    "file_path = \"/home/user/data/simulation/input.txt\"\n",
    "```\n",
    "\n",
    "might seem fine, but it’s **fragile and system-dependent**:\n",
    "\n",
    "* You might **mistype** a slash (`/` or `\\`)\n",
    "* It **won’t work across platforms** (e.g., Windows vs Linux)\n",
    "* It’s **hard to maintain** or reuse if directory names change\n",
    "\n",
    "Using `os.path.join()` solves all of that:\n"
   ]
  },
  {
   "cell_type": "code",
   "execution_count": 36,
   "id": "dc5c39f7-08d9-4a7a-9b65-0a94e1ca8b50",
   "metadata": {},
   "outputs": [
    {
     "name": "stdout",
     "output_type": "stream",
     "text": [
      "/home/user/data/simulation/input.txt\n"
     ]
    }
   ],
   "source": [
    "base_dir = \"/home/user/data/simulation\"\n",
    "filename = \"input.txt\"\n",
    "\n",
    "file_path = os.path.join(base_dir, filename)\n",
    "print(file_path) # it even fixes all the / and \\"
   ]
  },
  {
   "cell_type": "code",
   "execution_count": 37,
   "id": "3e1d6b76-9a29-4582-ba23-46ff852f1ca2",
   "metadata": {},
   "outputs": [
    {
     "name": "stdout",
     "output_type": "stream",
     "text": [
      "Project path: /home/jupyter/CommunityData/OpenSees\n"
     ]
    }
   ],
   "source": [
    "project_path = os.path.join('/home/jupyter', 'CommunityData', 'OpenSees')\n",
    "print(\"Project path:\", project_path)"
   ]
  },
  {
   "cell_type": "markdown",
   "id": "45b51b7e-316e-4e2f-bb20-9e820887fbe2",
   "metadata": {},
   "source": [
    "Using `os.path.join()` helps your scripts work reliably **across platforms**, and makes your code easier to maintain, debug, and reuse — especially in Jupyter notebooks, HPC workflows, or automation pipelines."
   ]
  },
  {
   "cell_type": "markdown",
   "id": "67d08d1e-cdbb-4fa4-9bf2-e95e1076a639",
   "metadata": {},
   "source": [
    "### Troubleshooting common mistakes\n",
    "\n",
    "* **~ is not automatically expanded** in *os.path.join*.\n",
    "\n",
    "* **os.chdir** only affects the **current Python process**. It doesn’t change your system’s terminal session.\n",
    "\n",
    "* Mixing hard-coded slashes (*'/'* or *'\\\\'*) makes scripts fragile across systems. Always use `os.path.join`.\n"
   ]
  },
  {
   "cell_type": "code",
   "execution_count": 38,
   "id": "512d8c0b-aaff-4b66-bbfa-0a6caa3d67f0",
   "metadata": {},
   "outputs": [
    {
     "data": {
      "text/plain": [
       "'~/MyData'"
      ]
     },
     "execution_count": 38,
     "metadata": {},
     "output_type": "execute_result"
    }
   ],
   "source": [
    "os.path.join('~', 'MyData')  # WRONG: stays literally as ~/MyData"
   ]
  },
  {
   "cell_type": "code",
   "execution_count": 39,
   "id": "c9583240-9de7-459c-b37e-60fe67e4c1ae",
   "metadata": {},
   "outputs": [
    {
     "data": {
      "text/plain": [
       "False"
      ]
     },
     "execution_count": 39,
     "metadata": {},
     "output_type": "execute_result"
    }
   ],
   "source": [
    "os.path.exists(os.path.join('~', 'MyData'))"
   ]
  },
  {
   "cell_type": "code",
   "execution_count": 40,
   "id": "a110af12-fcd2-4c02-b1a2-9167255c7648",
   "metadata": {},
   "outputs": [
    {
     "data": {
      "text/plain": [
       "'/home/jupyter/MyData'"
      ]
     },
     "execution_count": 40,
     "metadata": {},
     "output_type": "execute_result"
    }
   ],
   "source": [
    "# Instead:\n",
    "os.path.join(os.path.expanduser('~'), 'MyData')  # CORRECT"
   ]
  },
  {
   "cell_type": "code",
   "execution_count": 41,
   "id": "5f650619-2096-42fa-9530-ecd1b44b9be6",
   "metadata": {},
   "outputs": [
    {
     "data": {
      "text/plain": [
       "True"
      ]
     },
     "execution_count": 41,
     "metadata": {},
     "output_type": "execute_result"
    }
   ],
   "source": [
    "os.path.exists(os.path.join(os.path.expanduser('~'), 'MyData'))"
   ]
  },
  {
   "cell_type": "markdown",
   "id": "1270da83-6f5b-4c72-b7bb-f7955e5546bf",
   "metadata": {},
   "source": [
    "## Split Paths with os.path.split()\n",
    "\n",
    "When working with file paths in Python, it's often useful to **break them apart into their components**—for example, separating a filename from its directory, or stripping off a file extension. This is especially important when building automated workflows that need to modify, move, or analyze files dynamically. The `os.path` module provides a set of reliable and portable tools for **splitting paths** into meaningful parts, so you can easily manage files without manually parsing strings. Below are some common functions that make this easy and consistent across different operating systems.\n",
    "\n",
    "Use these when you want to programmatically handle parts of a path—e.g., checking extensions, extracting filenames, or navigating up directories.\n",
    "\n",
    "###  `os.path.split(path)`\n",
    "\n",
    "Splits a path into **two parts**: the **head** (directory path) and the **tail** (final component like filename or last folder)."
   ]
  },
  {
   "cell_type": "code",
   "execution_count": 42,
   "id": "772bc9b2-d214-4208-8884-885741c302d5",
   "metadata": {},
   "outputs": [
    {
     "name": "stdout",
     "output_type": "stream",
     "text": [
      "/home/jupyter/Work\n",
      "myfile.tcl\n"
     ]
    }
   ],
   "source": [
    "path = '/home/jupyter/Work/myfile.tcl'\n",
    "head, tail = os.path.split(path)\n",
    "print(head)  # → /home/jupyter/Work\n",
    "print(tail)  # → myfile.tcl"
   ]
  },
  {
   "cell_type": "markdown",
   "id": "1fff588e-d52f-4f7d-9cbe-a069828647b2",
   "metadata": {},
   "source": [
    "### `os.path.splitext(path)`\n",
    "\n",
    "Splits the path into the **filename and extension**."
   ]
  },
  {
   "cell_type": "code",
   "execution_count": 43,
   "id": "b4f2f5b5-b1de-4422-bac3-b261b3fc73da",
   "metadata": {},
   "outputs": [
    {
     "name": "stdout",
     "output_type": "stream",
     "text": [
      "head:  /home/jupyter/Work\n",
      "tail:  myfile.tcl\n",
      "filename:  myfile\n",
      "ext:  .tcl\n"
     ]
    }
   ],
   "source": [
    "path = '/home/jupyter/Work/myfile.tcl'\n",
    "head, tail = os.path.split(path)\n",
    "print('head: ',head)  # → /home/jupyter/Work\n",
    "print('tail: ',tail)  # → myfile.tcl\n",
    "\n",
    "filename, ext = os.path.splitext(tail)\n",
    "print('filename: ',filename)  # → model\n",
    "print('ext: ',ext)       # → .inp"
   ]
  },
  {
   "cell_type": "markdown",
   "id": "92bf2385-e7f4-4ecd-903d-468be493b923",
   "metadata": {},
   "source": [
    "### `os.path.basename(path)`\n",
    "\n",
    "Returns just the **last component** of the path (like the filename)."
   ]
  },
  {
   "cell_type": "code",
   "execution_count": 44,
   "id": "3a4fbb25-6a6e-4e85-bf88-e6251da4da81",
   "metadata": {},
   "outputs": [
    {
     "data": {
      "text/plain": [
       "'myfile.tcl'"
      ]
     },
     "execution_count": 44,
     "metadata": {},
     "output_type": "execute_result"
    }
   ],
   "source": [
    "os.path.basename('/home/jupyter/Work/myfile.tcl')  "
   ]
  },
  {
   "cell_type": "markdown",
   "id": "529d1335-e3f8-4b7b-a930-3a4bdcbdbb51",
   "metadata": {},
   "source": [
    "### `os.path.dirname(path)`\n",
    "\n",
    "Returns just the **directory part**, without the final file or folder."
   ]
  },
  {
   "cell_type": "code",
   "execution_count": 45,
   "id": "7bb3fd4c-038f-4bc1-aa86-8a82cd283d28",
   "metadata": {},
   "outputs": [
    {
     "data": {
      "text/plain": [
       "'/home/jupyter/Work'"
      ]
     },
     "execution_count": 45,
     "metadata": {},
     "output_type": "execute_result"
    }
   ],
   "source": [
    "os.path.dirname('/home/jupyter/Work/myfile.tcl')  "
   ]
  },
  {
   "cell_type": "markdown",
   "id": "3ae758a8-2e99-40a9-ad26-f2cdba6ecef0",
   "metadata": {},
   "source": [
    "### os.path.normpath()\n",
    "\n",
    "Removes the trailing slash (/) if there is one, so basename() returns the actual last folder name rather than an empty string."
   ]
  },
  {
   "cell_type": "code",
   "execution_count": 46,
   "id": "f0ae680e-c20c-4ee5-8db1-2e83e6322444",
   "metadata": {},
   "outputs": [
    {
     "name": "stdout",
     "output_type": "stream",
     "text": [
      "normpath:  /home/user/projects/myproject\n"
     ]
    }
   ],
   "source": [
    "path = \"/home/user/projects/myproject/\"\n",
    "normpath = os.path.normpath(path)\n",
    "print('normpath: ',normpath)  # → myproject"
   ]
  },
  {
   "cell_type": "markdown",
   "id": "98f573b4-2bc2-4baf-824d-11ec878f61bd",
   "metadata": {},
   "source": [
    "### os.path.basename() (for strings)\n",
    "Returns the very last folder in a path (also called the basename of the directory path)."
   ]
  },
  {
   "cell_type": "code",
   "execution_count": 47,
   "id": "895a750d-b9ba-486d-b5bd-9d7398db6da7",
   "metadata": {},
   "outputs": [
    {
     "name": "stdout",
     "output_type": "stream",
     "text": [
      "last_folder: myproject\n"
     ]
    }
   ],
   "source": [
    "path = \"/home/user/projects/myproject/\"\n",
    "last_folder = os.path.basename(os.path.normpath(path))\n",
    "print('last_folder:',last_folder)  # → myproject"
   ]
  },
  {
   "cell_type": "markdown",
   "id": "9ecb0b62-45d8-4924-954b-f3643960078f",
   "metadata": {},
   "source": [
    "### pathlib path.name\n",
    "it is more modern & flexible"
   ]
  },
  {
   "cell_type": "code",
   "execution_count": 48,
   "id": "d83cf258-1cb6-4fe4-8586-6a96098a04aa",
   "metadata": {},
   "outputs": [
    {
     "name": "stdout",
     "output_type": "stream",
     "text": [
      "myproject\n"
     ]
    }
   ],
   "source": [
    "from pathlib import Path\n",
    "\n",
    "path = Path(\"/home/user/projects/myproject/\")\n",
    "last_folder = path.name\n",
    "print(last_folder)  # → myproject\n"
   ]
  },
  {
   "cell_type": "markdown",
   "id": "03ee6c80-20f9-4939-9262-d750db7edbcf",
   "metadata": {},
   "source": [
    "---"
   ]
  },
  {
   "cell_type": "markdown",
   "id": "d352727c-d4cb-4d2d-bc2d-a6cb8ebdf6f7",
   "metadata": {},
   "source": [
    "## Modern alternative: *pathlib*\n",
    "\n",
    "Python’s **pathlib** module (available since 3.4) provides an **object-oriented way** to handle paths. It does everything *os.path* does, but often more elegantly.\n"
   ]
  },
  {
   "cell_type": "code",
   "execution_count": 49,
   "id": "de424206-b54d-4016-beff-e2092ee64a75",
   "metadata": {},
   "outputs": [
    {
     "name": "stdout",
     "output_type": "stream",
     "text": [
      "/home/jupyter\n",
      "/home/jupyter/CommunityData/OpenSees\n",
      "/home/jupyter/CommunityData/OpenSees/TrainingMaterial\n",
      "/home/jupyter/CommunityData/OpenSees\n"
     ]
    }
   ],
   "source": [
    "from pathlib import Path\n",
    "\n",
    "# Home directory\n",
    "home = Path.home()\n",
    "print(home)  # /home/jupyter\n",
    "\n",
    "# Build a path\n",
    "project = home / 'CommunityData' / 'OpenSees'\n",
    "print(project)  # /home/jupyter/MyData/OpenSees\n",
    "\n",
    "# List files\n",
    "for file in project.iterdir():\n",
    "    print(file)\n",
    "\n",
    "# Absolute path\n",
    "print(project.resolve())"
   ]
  },
  {
   "cell_type": "markdown",
   "id": "76b2dd9d-cb24-416e-ae1e-bfa40711bdfe",
   "metadata": {},
   "source": [
    "###  Path.resolve() Method\n",
    "\n",
    "The `resolve()` method seen in the cell above is part of Python’s modern `pathlib` module, and it’s used to:\n",
    "**Get the absolute, canonical path of a file or directory.**\n",
    "\n",
    "When you call `.resolve()` on a `Path` object:\n",
    "\n",
    "1. It **converts a relative path to an absolute path**\n",
    "2. It **resolves any symbolic links (symlinks)**\n",
    "3. It **cleans up `..` and `.` from the path**\n",
    "\n",
    "---\n",
    "\n",
    "###  Example\n",
    "\n",
    "```python\n",
    "from pathlib import Path\n",
    "\n",
    "p = Path(\"myfolder/../data/file.txt\")\n",
    "print(p.resolve())\n",
    "```\n",
    "\n",
    "This might return:\n",
    "\n",
    "```\n",
    "/home/user/data/file.txt\n",
    "```\n",
    "\n",
    "Even though the original path included `../`, `resolve()` normalizes it.\n",
    "\n",
    "###  Why Use It?\n",
    "\n",
    "* Ensures the path is **absolute**\n",
    "* Makes it easier to **compare paths** reliably\n",
    "* Ensures you're working with the **actual file location**, especially if symlinks are involved\n",
    "\n",
    "###  Note\n",
    "\n",
    "* If the file doesn’t exist, `resolve()` may raise an error (in Python < 3.6), or simply return the cleaned-up path (in newer versions).\n",
    "* You can use `resolve(strict=False)` to avoid errors if the file doesn’t exist.\n",
    "\n",
    "\n",
    "###  Summary on resolve()\n",
    "\n",
    "Use `.resolve()` when you want the **true, absolute location** of a file or folder, and want to clean up messy or relative path expressions in a reliable, cross-platform way.\n"
   ]
  },
  {
   "cell_type": "markdown",
   "id": "f3f6efb4-b81c-480b-8a39-caec50620901",
   "metadata": {},
   "source": [
    "## Quick cheat sheet: *os.path* vs *pathlib*\n",
    "compact cheat sheet box comparing os.path to pathlib for the most common operations, so your readers can see exactly how they map line by line.\n",
    "\n",
    "Make sure to add this at the top if you haven’t already:\n",
    "\n",
    "```python\n",
    "from pathlib import Path\n",
    "import os\n",
    "```\n",
    "\n",
    "| Operation               | **os.path** & **os**     | pathlib                                                                      |\n",
    "| ----------------------- | ------------------------ | ---------------------------------------------------------------------------- |\n",
    "| Get current directory   | os.getcwd()             | Path.cwd()                                                                   |\n",
    "| Get home directory      | os.path.expanduser('~') | Path.home()                                                                  |\n",
    "| Join paths              | os.path.join(a, b, c)   | Path(a) / b / c                                                              |\n",
    "| Make absolute path      | os.path.abspath(path)   | Path(path).resolve()                                                         |\n",
    "| List files in directory | os.listdir(path)        | Path(path).iterdir()                                                         |\n",
    "| Change directory        | os.chdir(path)          | *(no direct change, use Path objects instead to keep code clean and explicit)* |\n",
    "| Check if path exists    | os.path.exists(path)                | Path(path).exists()              |\n",
    "| Create a directory      | os.mkdir('new_dir')                 | Path('new_dir').mkdir()          |\n",
    "\n"
   ]
  },
  {
   "cell_type": "markdown",
   "id": "d143d9bb-eca9-448a-92d5-52b206e8bd4d",
   "metadata": {},
   "source": [
    "### Examples"
   ]
  },
  {
   "cell_type": "code",
   "execution_count": 50,
   "id": "843273ee-e1cd-4060-880e-1aeab1502fe9",
   "metadata": {},
   "outputs": [
    {
     "data": {
      "text/plain": [
       "'/home/jupyter/MyData/some/file.txt'"
      ]
     },
     "execution_count": 50,
     "metadata": {},
     "output_type": "execute_result"
    }
   ],
   "source": [
    "# os.path\n",
    "import os\n",
    "os.path.join('/home', 'jupyter', 'MyData')\n",
    "os.path.expanduser('~')\n",
    "os.path.abspath('some/file.txt')"
   ]
  },
  {
   "cell_type": "code",
   "execution_count": 51,
   "id": "c08b60c6-f3f6-4a12-b4a9-fa83e7abf1a3",
   "metadata": {},
   "outputs": [
    {
     "data": {
      "text/plain": [
       "PosixPath('/home/jupyter/MyData/some/file.txt')"
      ]
     },
     "execution_count": 51,
     "metadata": {},
     "output_type": "execute_result"
    }
   ],
   "source": [
    "# pathlib\n",
    "from pathlib import Path\n",
    "Path('/home') / 'jupyter' / 'MyData'\n",
    "Path.home()\n",
    "Path('some/file.txt').resolve()"
   ]
  },
  {
   "cell_type": "markdown",
   "id": "1defefea-d171-4a4b-9f6f-93dcae59fee7",
   "metadata": {},
   "source": [
    "## What is **posixpath**?\n",
    "\n",
    "**posixpath** is an **internal Python module** that implements the functions of *os.path* **specifically for POSIX-style systems**, like Linux and macOS (and broadly, anything UNIX-like).\n",
    "\n",
    "When you do:\n",
    "\n",
    "```python\n",
    "import os\n",
    "os.path.join('a', 'b')\n",
    "```\n",
    "\n",
    "you’re actually using **os.path**, which is **an alias that points to the appropriate module for your operating system**.\n",
    "\n",
    "* On **Linux or macOS**, *os.path* is backed by *posixpath*.\n",
    "* On **Windows**, *os.path* is backed by *ntpath*.\n",
    "\n",
    "So when you import *os* or *os.path*, Python quietly does:\n",
    "\n",
    "```python\n",
    "import posixpath as os.path  # on Linux/macOS\n",
    "import ntpath as os.path     # on Windows\n",
    "```\n",
    "\n",
    "This means *os.path* automatically uses the correct conventions for your system’s paths:\n",
    "\n",
    "* / separators on Linux/macOS (via **posixpath**).\n",
    "* \\  separators on Windows (via **ntpath**).\n",
    "\n",
    "---\n",
    "\n",
    "###  Should I ever import *posixpath* directly?\n",
    "\n",
    " **No — almost never.**\n",
    "You should always use **os.path** (or better, **pathlib**) so your code stays **portable**.\n",
    "\n",
    "If you import **posixpath** directly, your code will break on Windows because *posixpath* hardcodes */* conventions.\n",
    "\n",
    "---\n",
    "\n",
    "###  Summary\n",
    "\n",
    "| Module      | What it does                                                             | Typical use                                                  |\n",
    "| ----------- | ------------------------------------------------------------------------ | ------------------------------------------------------------ |\n",
    "| **os.path**   | Portable, automatically selects *posixpath* or *ntpath* based on your OS | Always recommended                                         |\n",
    "| **posixpath** | Hardcoded for POSIX paths (/)                                          | Only for very specialized internal or cross-platform logic |\n",
    "| **ntpath**    | Hardcoded for Windows paths (\\)                                        | Same, rarely used directly                                 |\n",
    "\n"
   ]
  },
  {
   "cell_type": "markdown",
   "id": "96e67a79-232a-46ab-94f4-445fc7058768",
   "metadata": {},
   "source": [
    "## Choosing the Right Library for Files and Paths in Python\n",
    "\n",
    "Python offers **multiple libraries** for handling files and paths — `os`, `os.path`, `shutil`, and `pathlib` — and it’s not always obvious which one to use.\n",
    "\n",
    "Here's a breakdown to help you understand **when and why** to use each:\n",
    "\n",
    "\n",
    "| Library   | Best For                                          | Style                     | Returns        | Notes                                 |\n",
    "| --------- | ------------------------------------------------- | ------------------------- | -------------- | ------------------------------------- |\n",
    "| `os`      | Changing directories, running shell commands      | Procedural (older)        | Strings        | Works well with `os.path`             |\n",
    "| `os.path` | Portable path operations (joining, expanding `~`) | Procedural (older)        | Strings        | Platform-independent path logic       |\n",
    "| `shutil`  | Copying, moving, or deleting **files/folders**    | Procedural (higher-level) | N/A            | Useful for workflows and automation   |\n",
    "| `pathlib` | Modern, object-oriented path handling             | Object-oriented           | `Path` objects | Easier, cleaner syntax for many tasks |"
   ]
  },
  {
   "cell_type": "markdown",
   "id": "84f37276-fbdc-498c-a68c-b8e5e2862986",
   "metadata": {},
   "source": [
    "##  `os.path` vs `pathlib`\n",
    "\n",
    "Both are great, but `pathlib` is **newer, more readable**, and recommended for most new code. Here’s a quick comparison:"
   ]
  },
  {
   "cell_type": "markdown",
   "id": "e6e44e58-7b6a-4517-be41-6995ccfb17fe",
   "metadata": {},
   "source": [
    "### `os.path` Style:"
   ]
  },
  {
   "cell_type": "code",
   "execution_count": 52,
   "id": "611314d8-665b-4e65-8524-f80169912850",
   "metadata": {},
   "outputs": [
    {
     "name": "stdout",
     "output_type": "stream",
     "text": [
      "/home/jupyter/myfolder/file.txt\n"
     ]
    }
   ],
   "source": [
    "import os\n",
    "path = os.path.join(os.path.expanduser('~'), 'myfolder', 'file.txt')\n",
    "print(path)"
   ]
  },
  {
   "cell_type": "markdown",
   "id": "8e56d074-19ac-492e-94b5-d5cec029796c",
   "metadata": {},
   "source": [
    "### `pathlib` Style:"
   ]
  },
  {
   "cell_type": "code",
   "execution_count": 53,
   "id": "7397e06d-f279-495d-8183-1440ed42ef67",
   "metadata": {},
   "outputs": [
    {
     "name": "stdout",
     "output_type": "stream",
     "text": [
      "/home/jupyter/myfolder/file.txt\n"
     ]
    }
   ],
   "source": [
    "from pathlib import Path\n",
    "path = Path.home() / 'myfolder' / 'file.txt'\n",
    "print(path)"
   ]
  },
  {
   "cell_type": "markdown",
   "id": "8d952f3e-0f66-47e3-8726-81dd5119c8fe",
   "metadata": {},
   "source": [
    "`pathlib` makes paths act like objects — you can read, write, check existence, etc., directly on the path."
   ]
  },
  {
   "cell_type": "markdown",
   "id": "1a7454d0-d272-4aba-aaca-d36112e88aa5",
   "metadata": {},
   "source": [
    "### So When Should You Use Each?\n",
    "\n",
    "| Use Case                                   | Recommended Library           |\n",
    "| ------------------------------------------ | ----------------------------- |\n",
    "| Writing new scripts with paths             | `pathlib` ✅                   |\n",
    "| Interfacing with older code or libraries   | `os.path`                     |\n",
    "| Changing directories or accessing env vars | `os`                          |\n",
    "| Running shell commands                     | `os.system()` or `subprocess` |\n",
    "| Copying/moving/removing files and folders  | `shutil` ✅                    |\n",
    "| Creating file-processing workflows         | `shutil` + `pathlib`          |"
   ]
  }
 ],
 "metadata": {
  "IMAGE_NAME": "taccsciapps/ds-nb-img:base-0.2.4",
  "UUID": "d1af4976-5d4c-11f0-b54e-52dd1a6c9df8",
  "kernelspec": {
   "display_name": "Python 3 (ipykernel)",
   "language": "python",
   "name": "python3"
  },
  "language_info": {
   "codemirror_mode": {
    "name": "ipython",
    "version": 3
   },
   "file_extension": ".py",
   "mimetype": "text/x-python",
   "name": "python",
   "nbconvert_exporter": "python",
   "pygments_lexer": "ipython3",
   "version": "3.12.11"
  }
 },
 "nbformat": 4,
 "nbformat_minor": 5
}
