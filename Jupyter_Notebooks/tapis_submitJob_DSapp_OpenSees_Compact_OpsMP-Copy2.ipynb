{
 "cells": [
  {
   "cell_type": "markdown",
   "metadata": {},
   "source": [
    "<a class=\"reference external\" \n",
    "    href=\"https://jupyter.designsafe-ci.org/hub/user-redirect/lab/tree/CommunityData/OpenSees/TrainingMaterial/training-OpenSees-on-DesignSafe/Jupyter_Notebooks/tapis_submitJob_DSapp_OpenSees_Compact_OpsMP.ipynb\" \n",
    "    target=\"_blank\"\n",
    "    >\n",
    "<img alt=\"Try on DesignSafe\" src=\"https://raw.githubusercontent.com/DesignSafe-Training/pinn/main/DesignSafe-Badge.svg\" /></a>"
   ]
  },
  {
   "cell_type": "markdown",
   "metadata": {},
   "source": [
    "# Run Tapis OpenSeesMP 📒\n",
    "***Submit Jobs to  OpenSeesMP App***\n",
    "\n",
    "by Silvia Mazzoni, DesignSafe, 2025\n",
    "\n",
    "\n",
    "In this Notebook we are going to run a set of OpenSeesMP jobs and a set of OpenSees-Express Jobs.\n",
    "We are also submitting the jobs from different input-file storage systems -- MyData, CommunityData, Work, MyProjects\n",
    "\n",
    "\n",
    "This notebook serves as a template for submitting the following DesignSafe OpenSees Apps:\n",
    "* openSees-mp-s3\n",
    "* opensees-sp-s3\n",
    "\n",
    "I have combined all the commands into a common-command cell and one cell per storage system.\n",
    "\n",
    "We are using previously-defined python function to streamline the process."
   ]
  },
  {
   "cell_type": "code",
   "execution_count": 1,
   "metadata": {
    "tags": [
     "remove-input"
    ]
   },
   "outputs": [
    {
     "name": "stdout",
     "output_type": "stream",
     "text": [
      "Using local utilities library\n"
     ]
    }
   ],
   "source": [
    "# Local Utilities Library\n",
    "# you can remove the logic associated with the local path\n",
    "import sys,os\n",
    "relativePath = '../OpsUtils'\n",
    "if os.path.exists(relativePath):\n",
    "    print(\"Using local utilities library\")\n",
    "    PathOpsUtils = os.path.expanduser(relativePath)\n",
    "else:\n",
    "    PathOpsUtils = os.path.expanduser('~/CommunityData/OpenSees/TrainingMaterial/training-OpenSees-on-DesignSafe/OpsUtils')\n",
    "if not PathOpsUtils in sys.path: sys.path.append(PathOpsUtils)\n",
    "from OpsUtils import OpsUtils"
   ]
  },
  {
   "cell_type": "markdown",
   "metadata": {},
   "source": [
    "## Connect to Tapis"
   ]
  },
  {
   "cell_type": "code",
   "execution_count": 2,
   "metadata": {},
   "outputs": [
    {
     "name": "stdout",
     "output_type": "stream",
     "text": [
      " -- Checking Tapis token --\n",
      " Token loaded from file. Token is still valid!\n",
      " Token expires at: 2025-08-23T01:42:21+00:00\n",
      " Token expires in: 0:46:52.292630\n",
      "-- LOG IN SUCCESSFUL! --\n"
     ]
    }
   ],
   "source": [
    "t=OpsUtils.connect_tapis()"
   ]
  },
  {
   "cell_type": "markdown",
   "metadata": {},
   "source": [
    "---\n",
    "## OpenSeesMP"
   ]
  },
  {
   "cell_type": "markdown",
   "metadata": {},
   "source": [
    "### Common Input"
   ]
  },
  {
   "cell_type": "code",
   "execution_count": 3,
   "metadata": {},
   "outputs": [],
   "source": [
    "# initalize\n",
    "tapisInputAll = {}\n",
    "tapisInputAll[\"name\"] = 'OpsTrain_OpenSeesMP'\n",
    "\n",
    "tapisInputAll[\"appId\"] = \"opensees-mp-s3\" # options: \"opensees-express\", \"opensees-mp-s3\", \"opensees-2p-s3\"\n",
    "tapisInputAll[\"appVersion\"] = \"latest\" # always use latest in this Notebook Template\n",
    "\n",
    "tapisInputAll[\"maxMinutes\"] = 6\n",
    "\n",
    "# OpenSees-mp-s3 and OpenSees-xp-s3 only:\n",
    "tapisInputAll[\"execSystemId\"] = \"stampede3\" # the app runs on stampede only\n",
    "tapisInputAll[\"execSystemLogicalQueue\"] = \"skx-dev\" # \"skx\", \"skx-dev\"\n",
    "tapisInputAll[\"nodeCount\"] = 1 # limits set by which compute nodes you use\n",
    "tapisInputAll[\"coresPerNode\"] = 48 # limits set by which compute nodes you use\n",
    "tapisInputAll[\"allocation\"] = \"DS-HPC1\"\n",
    "\n",
    "tapisInputAll['archive_system']='MyData' # Options: MyData or Work"
   ]
  },
  {
   "cell_type": "markdown",
   "metadata": {},
   "source": [
    "### MyData\n",
    "This job is in the **MyData** Storage System"
   ]
  },
  {
   "cell_type": "code",
   "execution_count": 4,
   "metadata": {},
   "outputs": [
    {
     "name": "stdout",
     "output_type": "stream",
     "text": [
      "Creating job_description\n",
      "found paths file: /home/jupyter/MyData/.tapis_user_paths.json\n",
      "input directory: tapis://designsafe.storage.default/silvia/_ToCommunityData/OpenSees/TrainingMaterial/training-OpenSees-on-DesignSafe/Examples_OpenSees/BasicExamples\n",
      "Submitting Job\n",
      "Job submitted! ID: 1ad6a0b5-4b17-468f-a829-78941d21f54b-007\n",
      "job_start_time: 1755910534.3927622\n",
      "\n",
      "Real-Time Job-Status Updates...\n",
      "--------------------\n",
      "\t Elapsed job time: 1.03 sec\t Current Status: PENDING\n",
      "\t Elapsed job time: 2.09 sec\t Current Status: PROCESSING_INPUTS\t\t(PENDING took 1.06 sec)\n",
      "\t Elapsed job time: 4.16 sec\t Current Status: STAGING_INPUTS\t\t(PROCESSING_INPUTS took 2.07 sec)\n",
      "\t Elapsed job time: 40.92 sec\t Current Status: STAGING_JOB\t\t(STAGING_INPUTS took 36.76 sec)\n",
      "\t Elapsed job time: 73.56 sec\t Current Status: SUBMITTING_JOB\t\t(STAGING_JOB took 32.64 sec)\n",
      "\t Elapsed job time: 74.78 sec\t Current Status: QUEUED\t\t(SUBMITTING_JOB took 1.21 sec)\n",
      "\t Elapsed job time: 76.82 sec\t Current Status: RUNNING\t\t(QUEUED took 2.05 sec)\n",
      "\t Elapsed job time: 266.43 sec\t Current Status: ARCHIVING\t\t(RUNNING took 189.61 sec)\n",
      "\t Elapsed job time: 1138.88 sec\t Current Status: FINISHED\t\t(ARCHIVING took 872.45 sec)\n",
      "\t  Status: FINISHED\t Elapsed job time: 1138.88 sec\n",
      "--------------------\n",
      "Elapsed time since Job was submitted: 1138.88 sec\n",
      "--------------------\n"
     ]
    },
    {
     "data": {
      "application/vnd.jupyter.widget-view+json": {
       "model_id": "cbadf77bb232442c9cea4e082905f789",
       "version_major": 2,
       "version_minor": 0
      },
      "text/plain": [
       "Accordion(children=(Output(),), selected_index=0, titles=('Job STATUS   (1ad6a0b5-4b17-468f-a829-78941d21f54b-…"
      ]
     },
     "metadata": {},
     "output_type": "display_data"
    },
    {
     "data": {
      "application/vnd.jupyter.widget-view+json": {
       "model_id": "8eb26939501f4343bbb423b0c723676b",
       "version_major": 2,
       "version_minor": 0
      },
      "text/plain": [
       "Accordion(children=(Output(),), selected_index=0, titles=('Job Metadata   (1ad6a0b5-4b17-468f-a829-78941d21f54…"
      ]
     },
     "metadata": {},
     "output_type": "display_data"
    },
    {
     "data": {
      "application/vnd.jupyter.widget-view+json": {
       "model_id": "d0336eeecbc44e639a57e7f85f2d1914",
       "version_major": 2,
       "version_minor": 0
      },
      "text/plain": [
       "Accordion(children=(Output(),), selected_index=0, titles=('Job History Data   (1ad6a0b5-4b17-468f-a829-78941d2…"
      ]
     },
     "metadata": {},
     "output_type": "display_data"
    },
    {
     "data": {
      "application/vnd.jupyter.widget-view+json": {
       "model_id": "c2e1400652a94104865aa0886ac758a2",
       "version_major": 2,
       "version_minor": 0
      },
      "text/plain": [
       "Accordion(children=(Output(),), selected_index=0, titles=('Job Filedata   (1ad6a0b5-4b17-468f-a829-78941d21f54…"
      ]
     },
     "metadata": {},
     "output_type": "display_data"
    }
   ],
   "source": [
    "# initalize\n",
    "tapisInput = tapisInputAll.copy()\n",
    "\n",
    "tapisInput['storage_system'] = 'MyData'  # ########################## unique\n",
    "tapisInput['input_folder'] = '_ToCommunityData/OpenSees/TrainingMaterial/training-OpenSees-on-DesignSafe/Examples_OpenSees/BasicExamples'  # ########################## unique\n",
    "tapisInput['Main Script'] = 'Ex1a_verymany.Canti2D.Push.mp.tcl' # ########################## unique\n",
    "\n",
    "tapisInput[\"name\"] = tapisInput[\"name\"] + '_' + tapisInput['storage_system']\n",
    "# -----------------------------------------------------\n",
    "jobReturns = OpsUtils.run_tapis_job(t,tapisInput,get_job_metadata=True,get_job_history=True,get_job_filedata=True,askConfirmJob = False,askConfirmMonitorRT = False)\n",
    "# -----------------------------------------------------\n"
   ]
  },
  {
   "cell_type": "markdown",
   "metadata": {},
   "source": [
    "### CommunityData\n",
    "This job is in the **CommunityData** Storage System"
   ]
  },
  {
   "cell_type": "code",
   "execution_count": null,
   "metadata": {},
   "outputs": [
    {
     "name": "stdout",
     "output_type": "stream",
     "text": [
      "Creating job_description\n",
      "found paths file: /home/jupyter/MyData/.tapis_user_paths.json\n",
      "input directory: tapis://designsafe.storage.community/OpenSees/TrainingMaterial/training-OpenSees-on-DesignSafe/Examples_OpenSees/BasicExamples\n",
      "Submitting Job\n",
      "Job submitted! ID: 8955c271-eb93-42dc-aec9-1469690f3e93-007\n",
      "job_start_time: 1755911685.0882833\n",
      "\n",
      "Real-Time Job-Status Updates...\n",
      "--------------------\n",
      "\t Elapsed job time: 1.09 sec\t Current Status: PENDING\n",
      "\t Elapsed job time: 3.17 sec\t Current Status: PROCESSING_INPUTS\t\t(PENDING took 2.08 sec)\n",
      "\t Elapsed job time: 7.38 sec\t Current Status: STAGING_INPUTS\t\t(PROCESSING_INPUTS took 4.21 sec)\n",
      "\t Elapsed job time: 33.65 sec\t Current Status: STAGING_JOB\t\t(STAGING_INPUTS took 26.27 sec)\n",
      "\t Elapsed job time: 55.56 sec\t Current Status: SUBMITTING_JOB\t\t(STAGING_JOB took 21.91 sec)\n",
      "\t Elapsed job time: 56.6 sec\t Current Status: QUEUED\t\t(SUBMITTING_JOB took 1.04 sec)\n",
      "\t Elapsed job time: 58.68 sec\t Current Status: RUNNING\t\t(QUEUED took 2.08 sec)\n",
      "\t Elapsed job time: 95.58 sec\t Current Status: ARCHIVING\t\t(RUNNING took 36.9 sec)\n"
     ]
    }
   ],
   "source": [
    "# initalize\n",
    "tapisInput = tapisInputAll.copy()\n",
    "\n",
    "tapisInput['storage_system'] = 'CommunityData' # ########################## unique\n",
    "tapisInput['input_folder'] = 'OpenSees/TrainingMaterial/training-OpenSees-on-DesignSafe/Examples_OpenSees/BasicExamples'  # ########################## unique\n",
    "tapisInput['Main Script'] = 'Ex1a_verymany.Canti2D.Push.mp.tcl' # ########################## unique\n",
    "\n",
    "tapisInput[\"name\"] = tapisInput[\"name\"] + '_' + tapisInput['storage_system']\n",
    "# -----------------------------------------------------\n",
    "jobReturns = OpsUtils.run_tapis_job(t,tapisInput,get_job_metadata=True,get_job_history=True,get_job_filedata=True,askConfirmJob = False,askConfirmMonitorRT = False)\n",
    "# -----------------------------------------------------\n"
   ]
  },
  {
   "cell_type": "markdown",
   "metadata": {},
   "source": [
    "### Work\n",
    "This job is in the **Work** Storage System"
   ]
  },
  {
   "cell_type": "code",
   "execution_count": null,
   "metadata": {},
   "outputs": [],
   "source": [
    "# initalize\n",
    "tapisInput = tapisInputAll.copy()\n",
    "\n",
    "tapisInput['storage_system'] = 'Work/stampede3'  # ########################## unique\n",
    "tapisInput['input_folder'] = 'BasicExamples'  # ########################## unique\n",
    "tapisInput['Main Script'] = 'Ex1a_verymany.Canti2D.Push.mp.tcl' # ########################## unique\n",
    "\n",
    "tapisInput[\"name\"] = tapisInput[\"name\"] + '_' + tapisInput['storage_system']\n",
    "# -----------------------------------------------------\n",
    "jobReturns = OpsUtils.run_tapis_job(t,tapisInput,get_job_metadata=True,get_job_history=True,get_job_filedata=True,askConfirmJob = False,askConfirmMonitorRT = False)\n",
    "# -----------------------------------------------------"
   ]
  },
  {
   "cell_type": "markdown",
   "metadata": {},
   "source": [
    "### MyProjects\n",
    "This job is in the **MyProjects** Storage System"
   ]
  },
  {
   "cell_type": "code",
   "execution_count": null,
   "metadata": {},
   "outputs": [],
   "source": [
    "# initalize\n",
    "tapisInput = tapisInputAll.copy()\n",
    "\n",
    "tapisInput['storage_system'] = 'MyProjects' # ########################## unique\n",
    "# The following are project-dependent\n",
    "#  This value needs to be updated for each project -- got this from the web-portal app\n",
    "if tapisInput['storage_system']=='MyProjects': # ########################## unique\n",
    "    tapisInput['storage_system_baseURL'] = 'tapis://project-7997906542076432871-242ac11c-0001-012' # ########################## unique\n",
    "\n",
    "tapisInput['input_folder'] = 'OpenSees/TrainingMaterial/training-OpenSees-on-DesignSafe/Examples_OpenSees/BasicExamples'  # ########################## unique\n",
    "tapisInput['Main Script'] = 'Ex1a_verymany.Canti2D.Push.mp.tcl'\n",
    "\n",
    "tapisInput[\"name\"] = tapisInput[\"name\"] + '_' + tapisInput['storage_system']\n",
    "# -----------------------------------------------------\n",
    "jobReturns = OpsUtils.run_tapis_job(t,tapisInput,get_job_metadata=True,get_job_history=True,get_job_filedata=True,askConfirmJob = False,askConfirmMonitorRT = False)\n",
    "# -----------------------------------------------------"
   ]
  }
 ],
 "metadata": {
  "IMAGE_NAME": "taccsciapps/ds-nb-img:base-0.2.3",
  "UUID": "73e0880d-9b87-11ec-9c1c-13579dd95994",
  "celltoolbar": "Raw Cell Format",
  "kernelspec": {
   "display_name": "Python 3 (ipykernel)",
   "language": "python",
   "name": "python3"
  },
  "language_info": {
   "codemirror_mode": {
    "name": "ipython",
    "version": 3
   },
   "file_extension": ".py",
   "mimetype": "text/x-python",
   "name": "python",
   "nbconvert_exporter": "python",
   "pygments_lexer": "ipython3",
   "version": "3.12.11"
  }
 },
 "nbformat": 4,
 "nbformat_minor": 4
}
