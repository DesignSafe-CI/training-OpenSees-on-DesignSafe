{
 "cells": [
  {
   "cell_type": "markdown",
   "metadata": {},
   "source": [
    "<a class=\"reference external\" \n",
    "    href=\"https://jupyter.designsafe-ci.org/hub/user-redirect/lab/tree/CommunityData/OpenSees/TrainingMaterial/training-OpenSees-on-DesignSafe/Jupyter_Notebooks/tapis_submitJob_DSapp_OpenSees_Compact_OpsMP.ipynb\" \n",
    "    target=\"_blank\"\n",
    "    >\n",
    "<img alt=\"Try on DesignSafe\" src=\"https://raw.githubusercontent.com/DesignSafe-Training/pinn/main/DesignSafe-Badge.svg\" /></a>"
   ]
  },
  {
   "cell_type": "markdown",
   "metadata": {},
   "source": [
    "# Run OpenSeesMP App\n",
    "***Submit Jobs to  OpenSeesMP App***\n",
    "\n",
    "by Silvia Mazzoni, DesignSafe, 2025\n",
    "\n",
    "\n",
    "In this Notebook we are going to run a set of OpenSeesMP jobs and a set of OpenSees-Express Jobs.\n",
    "We are also submitting the jobs from different input-file storage systems -- MyData, CommunityData, Work, MyProjects\n",
    "\n",
    "\n",
    "This notebook serves as a template for submitting the following DesignSafe OpenSees Apps:\n",
    "* openSees-mp-s3\n",
    "* opensees-sp-s3\n",
    "\n",
    "I have combined all the commands into a common-command cell and one cell per storage system.\n",
    "\n",
    "We are using previously-defined python function to streamline the process."
   ]
  },
  {
   "cell_type": "code",
   "execution_count": 1,
   "metadata": {
    "tags": [
     "remove-input"
    ]
   },
   "outputs": [
    {
     "name": "stdout",
     "output_type": "stream",
     "text": [
      "Using local utilities library\n"
     ]
    }
   ],
   "source": [
    "# Local Utilities Library\n",
    "# you can remove the logic associated with the local path\n",
    "import sys,os\n",
    "relativePath = '../OpsUtils'\n",
    "if os.path.exists(relativePath):\n",
    "    print(\"Using local utilities library\")\n",
    "    PathOpsUtils = os.path.expanduser(relativePath)\n",
    "else:\n",
    "    PathOpsUtils = os.path.expanduser('~/CommunityData/OpenSees/TrainingMaterial/training-OpenSees-on-DesignSafe/OpsUtils')\n",
    "if not PathOpsUtils in sys.path: sys.path.append(PathOpsUtils)\n",
    "from OpsUtils import OpsUtils"
   ]
  },
  {
   "cell_type": "markdown",
   "metadata": {},
   "source": [
    "## Connect to Tapis"
   ]
  },
  {
   "cell_type": "code",
   "execution_count": 2,
   "metadata": {},
   "outputs": [
    {
     "name": "stdout",
     "output_type": "stream",
     "text": [
      " -- Checking Tapis token --\n",
      " Token loaded from file. Token is still valid!\n",
      " Token expires at: 2025-08-23T05:46:57+00:00\n",
      " Token expires in: 3:59:32.157117\n",
      "-- LOG IN SUCCESSFUL! --\n"
     ]
    }
   ],
   "source": [
    "t=OpsUtils.connect_tapis()"
   ]
  },
  {
   "cell_type": "markdown",
   "metadata": {},
   "source": [
    "---\n",
    "## OpenSeesMP"
   ]
  },
  {
   "cell_type": "markdown",
   "metadata": {},
   "source": [
    "### Common Input"
   ]
  },
  {
   "cell_type": "code",
   "execution_count": 3,
   "metadata": {},
   "outputs": [],
   "source": [
    "# initalize\n",
    "tapisInputAll = {}\n",
    "tapisInputAll[\"name\"] = 'OpsTrain_OpenSeesMP'\n",
    "\n",
    "tapisInputAll[\"appId\"] = \"opensees-mp-s3\" # options: \"opensees-express\", \"opensees-mp-s3\", \"opensees-2p-s3\"\n",
    "tapisInputAll[\"appVersion\"] = \"latest\" # always use latest in this Notebook Template\n",
    "\n",
    "tapisInputAll[\"maxMinutes\"] = 6\n",
    "\n",
    "# OpenSees-mp-s3 and OpenSees-xp-s3 only:\n",
    "tapisInputAll[\"execSystemId\"] = \"stampede3\" # the app runs on stampede only\n",
    "tapisInputAll[\"execSystemLogicalQueue\"] = \"skx-dev\" # \"skx\", \"skx-dev\"\n",
    "tapisInputAll[\"nodeCount\"] = 1 # limits set by which compute nodes you use\n",
    "tapisInputAll[\"coresPerNode\"] = 48 # limits set by which compute nodes you use\n",
    "tapisInputAll[\"allocation\"] = \"DS-HPC1\"\n",
    "\n",
    "tapisInputAll['archive_system']='MyData' # Options: MyData or Work"
   ]
  },
  {
   "cell_type": "markdown",
   "metadata": {},
   "source": [
    "### MyData\n",
    "This job is in the **MyData** Storage System"
   ]
  },
  {
   "cell_type": "code",
   "execution_count": 4,
   "metadata": {},
   "outputs": [
    {
     "name": "stdout",
     "output_type": "stream",
     "text": [
      "Creating job_description\n",
      "found paths file: /home/jupyter/MyData/.tapis_user_paths.json\n",
      "input directory: tapis://designsafe.storage.default/silvia/_ToCommunityData/OpenSees/TrainingMaterial/training-OpenSees-on-DesignSafe/Examples_OpenSees/BasicExamples\n",
      "{'name': 'OpsTrain_OpenSeesMP_MyData', 'execSystemId': 'stampede3', 'execSystemLogicalQueue': 'skx-dev', 'maxMinutes': 6, 'nodeCount': 1, 'coresPerNode': 48, 'appId': 'opensees-mp-s3', 'appVersion': 'latest', 'fileInputs': [{'name': 'Input Directory', 'sourceUrl': 'tapis://designsafe.storage.default/silvia/_ToCommunityData/OpenSees/TrainingMaterial/training-OpenSees-on-DesignSafe/Examples_OpenSees/BasicExamples'}], 'parameterSet': {'appArgs': [{'name': 'Main Script', 'arg': 'Ex1a_verymany.Canti2D.Push.mp.tcl'}], 'envVariables': [], 'schedulerOptions': [{'name': 'TACC Allocation', 'arg': '-A DS-HPC1'}]}, 'archiveSystemId': 'designsafe.storage.default', 'archiveSystemDir': '${EffectiveUserId}/tapis-jobs-archive/${JobCreateDate}/${JobUUID}'}\n",
      "Submitting Job\n",
      "Job submitted! ID: d836d1bb-20a1-46bf-a278-fe8e1d2b8795-007\n",
      "job_start_time: 1755913649.5840065\n",
      "\n",
      "Real-Time Job-Status Updates...\n",
      "--------------------\n",
      "\t Elapsed job time: 1.05 sec\t Current Status: PENDING\n",
      "\t Elapsed job time: 2.11 sec\t Current Status: PROCESSING_INPUTS\t\t(PENDING took 1.06 sec)\n",
      "\t Elapsed job time: 6.36 sec\t Current Status: STAGING_INPUTS\t\t(PROCESSING_INPUTS took 4.25 sec)\n",
      "\t Elapsed job time: 220.8 sec\t Current Status: STAGING_JOB\t\t(STAGING_INPUTS took 214.44 sec)\n",
      "\t Elapsed job time: 251.37 sec\t Current Status: SUBMITTING_JOB\t\t(STAGING_JOB took 30.56 sec)\n",
      "\t Elapsed job time: 256.43 sec\t Current Status: RUNNING\t\t(SUBMITTING_JOB took 5.07 sec)\n",
      "\t Elapsed job time: 297.1 sec\t Current Status: ARCHIVING\t\t(RUNNING took 40.67 sec)\n",
      "Unable to reach tapis after 10 tries\n",
      "\t Elapsed job time: 1314.4 sec\t Current Status: FINISHED\t\t(ARCHIVING took 1017.3 sec)\n",
      "\t  Status: FINISHED\t Elapsed job time: 1314.4 sec\n",
      "--------------------\n",
      "Elapsed time since Job was submitted: 1314.4 sec\n",
      "--------------------\n"
     ]
    },
    {
     "data": {
      "application/vnd.jupyter.widget-view+json": {
       "model_id": "91c1c068d5d1409b9f3b532757cd3f24",
       "version_major": 2,
       "version_minor": 0
      },
      "text/plain": [
       "Accordion(children=(Output(),), selected_index=0, titles=('Job STATUS   (d836d1bb-20a1-46bf-a278-fe8e1d2b8795-…"
      ]
     },
     "metadata": {},
     "output_type": "display_data"
    },
    {
     "data": {
      "application/vnd.jupyter.widget-view+json": {
       "model_id": "f9630d5ab9204404a9ecf31c4daa3b20",
       "version_major": 2,
       "version_minor": 0
      },
      "text/plain": [
       "Accordion(children=(Output(),), selected_index=0, titles=('Job Metadata   (d836d1bb-20a1-46bf-a278-fe8e1d2b879…"
      ]
     },
     "metadata": {},
     "output_type": "display_data"
    },
    {
     "data": {
      "application/vnd.jupyter.widget-view+json": {
       "model_id": "fdf0989104394d99acbb42aefdb5aed2",
       "version_major": 2,
       "version_minor": 0
      },
      "text/plain": [
       "Accordion(children=(Output(),), selected_index=0, titles=('Job History Data   (d836d1bb-20a1-46bf-a278-fe8e1d2…"
      ]
     },
     "metadata": {},
     "output_type": "display_data"
    },
    {
     "data": {
      "application/vnd.jupyter.widget-view+json": {
       "model_id": "3d483eb2bbb44e3fa946a72397046a73",
       "version_major": 2,
       "version_minor": 0
      },
      "text/plain": [
       "Accordion(children=(Output(),), selected_index=0, titles=('Job Filedata   (d836d1bb-20a1-46bf-a278-fe8e1d2b879…"
      ]
     },
     "metadata": {},
     "output_type": "display_data"
    }
   ],
   "source": [
    "# initalize\n",
    "tapisInput = tapisInputAll.copy()\n",
    "\n",
    "tapisInput['storage_system'] = 'MyData'  # ########################## unique\n",
    "tapisInput['input_folder'] = '_ToCommunityData/OpenSees/TrainingMaterial/training-OpenSees-on-DesignSafe/Examples_OpenSees/BasicExamples'  # ########################## unique\n",
    "tapisInput['Main Script'] = 'Ex1a_verymany.Canti2D.Push.mp.tcl' # ########################## unique\n",
    "\n",
    "tapisInput[\"name\"] = tapisInput[\"name\"] + '_' + tapisInput['storage_system']\n",
    "# -----------------------------------------------------\n",
    "jobReturns = OpsUtils.run_tapis_job(t,tapisInput,get_job_metadata=True,get_job_history=True,get_job_filedata=True,askConfirmJob = False,askConfirmMonitorRT = False)\n",
    "# -----------------------------------------------------\n"
   ]
  },
  {
   "cell_type": "markdown",
   "metadata": {},
   "source": [
    "### CommunityData\n",
    "This job is in the **CommunityData** Storage System"
   ]
  },
  {
   "cell_type": "code",
   "execution_count": 5,
   "metadata": {},
   "outputs": [
    {
     "name": "stdout",
     "output_type": "stream",
     "text": [
      "Creating job_description\n",
      "found paths file: /home/jupyter/MyData/.tapis_user_paths.json\n",
      "input directory: tapis://designsafe.storage.community/OpenSees/TrainingMaterial/training-OpenSees-on-DesignSafe/Examples_OpenSees/BasicExamples\n",
      "{'name': 'OpsTrain_OpenSeesMP_CommunityData', 'execSystemId': 'stampede3', 'execSystemLogicalQueue': 'skx-dev', 'maxMinutes': 6, 'nodeCount': 1, 'coresPerNode': 48, 'appId': 'opensees-mp-s3', 'appVersion': 'latest', 'fileInputs': [{'name': 'Input Directory', 'sourceUrl': 'tapis://designsafe.storage.community/OpenSees/TrainingMaterial/training-OpenSees-on-DesignSafe/Examples_OpenSees/BasicExamples'}], 'parameterSet': {'appArgs': [{'name': 'Main Script', 'arg': 'Ex1a_verymany.Canti2D.Push.mp.tcl'}], 'envVariables': [], 'schedulerOptions': [{'name': 'TACC Allocation', 'arg': '-A DS-HPC1'}]}, 'archiveSystemId': 'designsafe.storage.default', 'archiveSystemDir': '${EffectiveUserId}/tapis-jobs-archive/${JobCreateDate}/${JobUUID}'}\n",
      "Submitting Job\n",
      "Job submitted! ID: e5d2fbd0-deac-4145-bbfe-6af834134b1b-007\n",
      "job_start_time: 1755914977.2347553\n",
      "\n",
      "Real-Time Job-Status Updates...\n",
      "--------------------\n",
      "\t Elapsed job time: 1.07 sec\t Current Status: PENDING\n",
      "\t Elapsed job time: 2.1 sec\t Current Status: PROCESSING_INPUTS\t\t(PENDING took 1.03 sec)\n",
      "\t Elapsed job time: 6.29 sec\t Current Status: STAGING_INPUTS\t\t(PROCESSING_INPUTS took 4.19 sec)\n",
      "\t Elapsed job time: 32.29 sec\t Current Status: STAGING_JOB\t\t(STAGING_INPUTS took 26.01 sec)\n",
      "\t Elapsed job time: 55.57 sec\t Current Status: QUEUED\t\t(STAGING_JOB took 23.28 sec)\n",
      "\t Elapsed job time: 69.15 sec\t Current Status: RUNNING\t\t(QUEUED took 13.58 sec)\n",
      "\t Elapsed job time: 210.56 sec\t Current Status: ARCHIVING\t\t(RUNNING took 141.4 sec)\n",
      "\t Elapsed job time: 1263.6 sec\t Current Status: FINISHED\t\t(ARCHIVING took 1053.04 sec)\n",
      "\t  Status: FINISHED\t Elapsed job time: 1263.6 sec\n",
      "--------------------\n",
      "Elapsed time since Job was submitted: 1263.6 sec\n",
      "--------------------\n"
     ]
    },
    {
     "data": {
      "application/vnd.jupyter.widget-view+json": {
       "model_id": "82e620ce51b2454bba74af44641e23cf",
       "version_major": 2,
       "version_minor": 0
      },
      "text/plain": [
       "Accordion(children=(Output(),), selected_index=0, titles=('Job STATUS   (e5d2fbd0-deac-4145-bbfe-6af834134b1b-…"
      ]
     },
     "metadata": {},
     "output_type": "display_data"
    },
    {
     "data": {
      "application/vnd.jupyter.widget-view+json": {
       "model_id": "c4ff00855a024024bb7c8adade634bb7",
       "version_major": 2,
       "version_minor": 0
      },
      "text/plain": [
       "Accordion(children=(Output(),), selected_index=0, titles=('Job Metadata   (e5d2fbd0-deac-4145-bbfe-6af834134b1…"
      ]
     },
     "metadata": {},
     "output_type": "display_data"
    },
    {
     "data": {
      "application/vnd.jupyter.widget-view+json": {
       "model_id": "73ea49a9ed2747d499982db5a0ad5322",
       "version_major": 2,
       "version_minor": 0
      },
      "text/plain": [
       "Accordion(children=(Output(),), selected_index=0, titles=('Job History Data   (e5d2fbd0-deac-4145-bbfe-6af8341…"
      ]
     },
     "metadata": {},
     "output_type": "display_data"
    },
    {
     "data": {
      "application/vnd.jupyter.widget-view+json": {
       "model_id": "06951dc8977842d3aad4d9e06d56d3b0",
       "version_major": 2,
       "version_minor": 0
      },
      "text/plain": [
       "Accordion(children=(Output(),), selected_index=0, titles=('Job Filedata   (e5d2fbd0-deac-4145-bbfe-6af834134b1…"
      ]
     },
     "metadata": {},
     "output_type": "display_data"
    }
   ],
   "source": [
    "# initalize\n",
    "tapisInput = tapisInputAll.copy()\n",
    "\n",
    "tapisInput['storage_system'] = 'CommunityData' # ########################## unique\n",
    "tapisInput['input_folder'] = 'OpenSees/TrainingMaterial/training-OpenSees-on-DesignSafe/Examples_OpenSees/BasicExamples'  # ########################## unique\n",
    "tapisInput['Main Script'] = 'Ex1a_verymany.Canti2D.Push.mp.tcl' # ########################## unique\n",
    "\n",
    "tapisInput[\"name\"] = tapisInput[\"name\"] + '_' + tapisInput['storage_system']\n",
    "# -----------------------------------------------------\n",
    "jobReturns = OpsUtils.run_tapis_job(t,tapisInput,get_job_metadata=True,get_job_history=True,get_job_filedata=True,askConfirmJob = False,askConfirmMonitorRT = False)\n",
    "# -----------------------------------------------------\n"
   ]
  },
  {
   "cell_type": "markdown",
   "metadata": {},
   "source": [
    "### Work\n",
    "This job is in the **Work** Storage System"
   ]
  },
  {
   "cell_type": "code",
   "execution_count": 6,
   "metadata": {},
   "outputs": [
    {
     "name": "stdout",
     "output_type": "stream",
     "text": [
      "Creating job_description\n",
      "found paths file: /home/jupyter/MyData/.tapis_user_paths.json\n",
      "input directory: tapis://cloud.data/work/05072/silvia/stampede3/BasicExamples\n",
      "{'name': 'OpsTrain_OpenSeesMP_Work/stampede3', 'execSystemId': 'stampede3', 'execSystemLogicalQueue': 'skx-dev', 'maxMinutes': 6, 'nodeCount': 1, 'coresPerNode': 48, 'appId': 'opensees-mp-s3', 'appVersion': 'latest', 'fileInputs': [{'name': 'Input Directory', 'sourceUrl': 'tapis://cloud.data/work/05072/silvia/stampede3/BasicExamples'}], 'parameterSet': {'appArgs': [{'name': 'Main Script', 'arg': 'Ex1a_verymany.Canti2D.Push.mp.tcl'}], 'envVariables': [], 'schedulerOptions': [{'name': 'TACC Allocation', 'arg': '-A DS-HPC1'}]}, 'archiveSystemId': 'designsafe.storage.default', 'archiveSystemDir': '${EffectiveUserId}/tapis-jobs-archive/${JobCreateDate}/${JobUUID}'}\n",
      "Submitting Job\n",
      "Job submitted! ID: 823651ff-2a48-4995-b9cf-ce2c181a3cd0-007\n",
      "job_start_time: 1755916251.2501957\n",
      "\n",
      "Real-Time Job-Status Updates...\n",
      "--------------------\n",
      "\t Elapsed job time: 1.06 sec\t Current Status: PENDING\n",
      "\t Elapsed job time: 2.09 sec\t Current Status: PROCESSING_INPUTS\t\t(PENDING took 1.02 sec)\n",
      "\t Elapsed job time: 5.3 sec\t Current Status: STAGING_INPUTS\t\t(PROCESSING_INPUTS took 3.22 sec)\n",
      "\t Elapsed job time: 31.23 sec\t Current Status: STAGING_JOB\t\t(STAGING_INPUTS took 25.92 sec)\n",
      "\t Elapsed job time: 53.07 sec\t Current Status: SUBMITTING_JOB\t\t(STAGING_JOB took 21.84 sec)\n",
      "\t Elapsed job time: 54.11 sec\t Current Status: QUEUED\t\t(SUBMITTING_JOB took 1.04 sec)\n",
      "\t Elapsed job time: 67.72 sec\t Current Status: RUNNING\t\t(QUEUED took 13.61 sec)\n",
      "\t Elapsed job time: 148.71 sec\t Current Status: ARCHIVING\t\t(RUNNING took 80.99 sec)\n",
      "\t Elapsed job time: 1211.5 sec\t Current Status: FINISHED\t\t(ARCHIVING took 1062.79 sec)\n",
      "\t  Status: FINISHED\t Elapsed job time: 1211.5 sec\n",
      "--------------------\n",
      "Elapsed time since Job was submitted: 1211.5 sec\n",
      "--------------------\n"
     ]
    },
    {
     "data": {
      "application/vnd.jupyter.widget-view+json": {
       "model_id": "6f9668f58fdf4c1c9b5cb30c59f09513",
       "version_major": 2,
       "version_minor": 0
      },
      "text/plain": [
       "Accordion(children=(Output(),), selected_index=0, titles=('Job STATUS   (823651ff-2a48-4995-b9cf-ce2c181a3cd0-…"
      ]
     },
     "metadata": {},
     "output_type": "display_data"
    },
    {
     "data": {
      "application/vnd.jupyter.widget-view+json": {
       "model_id": "9ec3c5a631884603953aeb11768b243c",
       "version_major": 2,
       "version_minor": 0
      },
      "text/plain": [
       "Accordion(children=(Output(),), selected_index=0, titles=('Job Metadata   (823651ff-2a48-4995-b9cf-ce2c181a3cd…"
      ]
     },
     "metadata": {},
     "output_type": "display_data"
    },
    {
     "data": {
      "application/vnd.jupyter.widget-view+json": {
       "model_id": "34b90285df2e444085ed5a79636b4453",
       "version_major": 2,
       "version_minor": 0
      },
      "text/plain": [
       "Accordion(children=(Output(),), selected_index=0, titles=('Job History Data   (823651ff-2a48-4995-b9cf-ce2c181…"
      ]
     },
     "metadata": {},
     "output_type": "display_data"
    },
    {
     "data": {
      "application/vnd.jupyter.widget-view+json": {
       "model_id": "857dbe5da7d14d2085771c1a204c45b3",
       "version_major": 2,
       "version_minor": 0
      },
      "text/plain": [
       "Accordion(children=(Output(),), selected_index=0, titles=('Job Filedata   (823651ff-2a48-4995-b9cf-ce2c181a3cd…"
      ]
     },
     "metadata": {},
     "output_type": "display_data"
    }
   ],
   "source": [
    "# initalize\n",
    "tapisInput = tapisInputAll.copy()\n",
    "\n",
    "tapisInput['storage_system'] = 'Work/stampede3'  # ########################## unique\n",
    "tapisInput['input_folder'] = 'BasicExamples'  # ########################## unique\n",
    "tapisInput['Main Script'] = 'Ex1a_verymany.Canti2D.Push.mp.tcl' # ########################## unique\n",
    "\n",
    "tapisInput[\"name\"] = tapisInput[\"name\"] + '_' + tapisInput['storage_system']\n",
    "# -----------------------------------------------------\n",
    "jobReturns = OpsUtils.run_tapis_job(t,tapisInput,get_job_metadata=True,get_job_history=True,get_job_filedata=True,askConfirmJob = False,askConfirmMonitorRT = False)\n",
    "# -----------------------------------------------------"
   ]
  },
  {
   "cell_type": "markdown",
   "metadata": {},
   "source": [
    "### MyProjects\n",
    "This job is in the **MyProjects** Storage System"
   ]
  },
  {
   "cell_type": "code",
   "execution_count": 7,
   "metadata": {},
   "outputs": [
    {
     "name": "stdout",
     "output_type": "stream",
     "text": [
      "Creating job_description\n",
      "input directory: tapis://project-7997906542076432871-242ac11c-0001-012/OpenSees/TrainingMaterial/training-OpenSees-on-DesignSafe/Examples_OpenSees/BasicExamples\n",
      "{'name': 'OpsTrain_OpenSeesMP_MyProjects', 'execSystemId': 'stampede3', 'execSystemLogicalQueue': 'skx-dev', 'maxMinutes': 6, 'nodeCount': 1, 'coresPerNode': 48, 'appId': 'opensees-mp-s3', 'appVersion': 'latest', 'fileInputs': [{'name': 'Input Directory', 'sourceUrl': 'tapis://project-7997906542076432871-242ac11c-0001-012/OpenSees/TrainingMaterial/training-OpenSees-on-DesignSafe/Examples_OpenSees/BasicExamples'}], 'parameterSet': {'appArgs': [{'name': 'Main Script', 'arg': 'Ex1a_verymany.Canti2D.Push.mp.tcl'}], 'envVariables': [], 'schedulerOptions': [{'name': 'TACC Allocation', 'arg': '-A DS-HPC1'}]}, 'archiveSystemId': 'designsafe.storage.default', 'archiveSystemDir': '${EffectiveUserId}/tapis-jobs-archive/${JobCreateDate}/${JobUUID}'}\n",
      "Submitting Job\n",
      "Job submitted! ID: 5268ac51-3c61-43e3-ad1b-4a812bc24a58-007\n",
      "job_start_time: 1755917475.061255\n",
      "\n",
      "Real-Time Job-Status Updates...\n",
      "--------------------\n",
      "\t Elapsed job time: 1.07 sec\t Current Status: PENDING\n",
      "\t Elapsed job time: 2.11 sec\t Current Status: PROCESSING_INPUTS\t\t(PENDING took 1.04 sec)\n",
      "\t Elapsed job time: 6.25 sec\t Current Status: STAGING_INPUTS\t\t(PROCESSING_INPUTS took 4.14 sec)\n",
      "\t Elapsed job time: 32.56 sec\t Current Status: STAGING_JOB\t\t(STAGING_INPUTS took 26.31 sec)\n",
      "\t Elapsed job time: 49.19 sec\t Current Status: SUBMITTING_JOB\t\t(STAGING_JOB took 16.63 sec)\n",
      "\t Elapsed job time: 50.22 sec\t Current Status: QUEUED\t\t(SUBMITTING_JOB took 1.03 sec)\n",
      "\t Elapsed job time: 62.78 sec\t Current Status: RUNNING\t\t(QUEUED took 12.55 sec)\n",
      "\t Elapsed job time: 143.97 sec\t Current Status: ARCHIVING\t\t(RUNNING took 81.19 sec)\n",
      "Unable to reach tapis after 10 tries\n",
      "Unable to reach tapis after 11 tries\n",
      "Unable to reach tapis after 12 tries\n",
      "\t Elapsed job time: 1137.5 sec\t Current Status: FINISHED\t\t(ARCHIVING took 993.53 sec)\n",
      "\t  Status: FINISHED\t Elapsed job time: 1137.5 sec\n",
      "--------------------\n",
      "Elapsed time since Job was submitted: 1137.5 sec\n",
      "--------------------\n"
     ]
    },
    {
     "data": {
      "application/vnd.jupyter.widget-view+json": {
       "model_id": "6b7a0ea6137745358d01b836ba33244e",
       "version_major": 2,
       "version_minor": 0
      },
      "text/plain": [
       "Accordion(children=(Output(),), selected_index=0, titles=('Job STATUS   (5268ac51-3c61-43e3-ad1b-4a812bc24a58-…"
      ]
     },
     "metadata": {},
     "output_type": "display_data"
    },
    {
     "data": {
      "application/vnd.jupyter.widget-view+json": {
       "model_id": "702baa96584048909297336013064408",
       "version_major": 2,
       "version_minor": 0
      },
      "text/plain": [
       "Accordion(children=(Output(),), selected_index=0, titles=('Job Metadata   (5268ac51-3c61-43e3-ad1b-4a812bc24a5…"
      ]
     },
     "metadata": {},
     "output_type": "display_data"
    },
    {
     "data": {
      "application/vnd.jupyter.widget-view+json": {
       "model_id": "fc52d9c163854cf5af26504f1c450f56",
       "version_major": 2,
       "version_minor": 0
      },
      "text/plain": [
       "Accordion(children=(Output(),), selected_index=0, titles=('Job History Data   (5268ac51-3c61-43e3-ad1b-4a812bc…"
      ]
     },
     "metadata": {},
     "output_type": "display_data"
    },
    {
     "data": {
      "application/vnd.jupyter.widget-view+json": {
       "model_id": "f7073d7411344157a8b3ed520589c672",
       "version_major": 2,
       "version_minor": 0
      },
      "text/plain": [
       "Accordion(children=(Output(),), selected_index=0, titles=('Job Filedata   (5268ac51-3c61-43e3-ad1b-4a812bc24a5…"
      ]
     },
     "metadata": {},
     "output_type": "display_data"
    }
   ],
   "source": [
    "# initalize\n",
    "tapisInput = tapisInputAll.copy()\n",
    "\n",
    "tapisInput['storage_system'] = 'MyProjects' # ########################## unique\n",
    "# The following are project-dependent\n",
    "#  This value needs to be updated for each project -- got this from the web-portal app\n",
    "if tapisInput['storage_system']=='MyProjects': # ########################## unique\n",
    "    tapisInput['storage_system_baseURL'] = 'tapis://project-7997906542076432871-242ac11c-0001-012' # ########################## unique\n",
    "\n",
    "tapisInput['input_folder'] = 'OpenSees/TrainingMaterial/training-OpenSees-on-DesignSafe/Examples_OpenSees/BasicExamples'  # ########################## unique\n",
    "tapisInput['Main Script'] = 'Ex1a_verymany.Canti2D.Push.mp.tcl'\n",
    "\n",
    "tapisInput[\"name\"] = tapisInput[\"name\"] + '_' + tapisInput['storage_system']\n",
    "# -----------------------------------------------------\n",
    "jobReturns = OpsUtils.run_tapis_job(t,tapisInput,get_job_metadata=True,get_job_history=True,get_job_filedata=True,askConfirmJob = False,askConfirmMonitorRT = False)\n",
    "# -----------------------------------------------------"
   ]
  }
 ],
 "metadata": {
  "IMAGE_NAME": "taccsciapps/ds-nb-img:base-0.2.3",
  "UUID": "73e0880d-9b87-11ec-9c1c-13579dd95994",
  "celltoolbar": "Raw Cell Format",
  "kernelspec": {
   "display_name": "Python 3 (ipykernel)",
   "language": "python",
   "name": "python3"
  },
  "language_info": {
   "codemirror_mode": {
    "name": "ipython",
    "version": 3
   },
   "file_extension": ".py",
   "mimetype": "text/x-python",
   "name": "python",
   "nbconvert_exporter": "python",
   "pygments_lexer": "ipython3",
   "version": "3.12.11"
  }
 },
 "nbformat": 4,
 "nbformat_minor": 4
}
