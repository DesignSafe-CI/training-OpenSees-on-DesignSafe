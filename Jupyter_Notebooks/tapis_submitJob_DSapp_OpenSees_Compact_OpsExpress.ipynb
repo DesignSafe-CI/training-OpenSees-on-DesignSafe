{
 "cells": [
  {
   "cell_type": "markdown",
   "metadata": {},
   "source": [
    "<a class=\"reference external\" \n",
    "    href=\"https://jupyter.designsafe-ci.org/hub/user-redirect/lab/tree/CommunityData/OpenSees/TrainingMaterial/training-OpenSees-on-DesignSafe/Jupyter_Notebooks/tapis_submitJob_DSapp_OpenSees_Compact_OpsExpress.ipynb\" \n",
    "    target=\"_blank\"\n",
    "    >\n",
    "<img alt=\"Try on DesignSafe\" src=\"https://raw.githubusercontent.com/DesignSafe-Training/pinn/main/DesignSafe-Badge.svg\" /></a>"
   ]
  },
  {
   "cell_type": "markdown",
   "metadata": {},
   "source": [
    "# Run OpenSees-Express App\n",
    "***Submit job(s) OpenSees-Express App***\n",
    "\n",
    "by Silvia Mazzoni, DesignSafe, 2025\n",
    "\n",
    "\n",
    "In this Notebook we are going to run a set of OpenSeesMP jobs and a set of OpenSees-Express Jobs.\n",
    "We are also submitting the jobs from different input-file storage systems -- MyData, CommunityData, Work, MyProjects\n",
    "\n",
    "\n",
    "This notebook serves as a template for submitting the following DesignSafe OpenSees Apps:\n",
    "* openSees-express\n",
    "\n",
    "I have combined all the commands into a common-command cell and one cell per storage system.\n",
    "\n",
    "We are using previously-defined python function to streamline the process."
   ]
  },
  {
   "cell_type": "code",
   "execution_count": 1,
   "metadata": {
    "tags": [
     "remove-input"
    ]
   },
   "outputs": [],
   "source": [
    "# Local Utilities Library\n",
    "import sys,os\n",
    "relativePath = '../OpsUtils'\n",
    "PathOpsUtils = os.path.expanduser('~/CommunityData/OpenSees/TrainingMaterial/training-OpenSees-on-DesignSafe/OpsUtils')\n",
    "if not PathOpsUtils in sys.path: sys.path.append(PathOpsUtils)\n",
    "from OpsUtils import OpsUtils"
   ]
  },
  {
   "cell_type": "markdown",
   "metadata": {},
   "source": [
    "## Connect to Tapis"
   ]
  },
  {
   "cell_type": "code",
   "execution_count": 2,
   "metadata": {},
   "outputs": [
    {
     "name": "stdout",
     "output_type": "stream",
     "text": [
      " -- Checking Tapis token --\n",
      " Token loaded from file. Token is still valid!\n",
      " Token expires at: 2025-09-10T07:14:42+00:00\n",
      " Token expires in: 2:09:26.255886\n",
      "-- LOG IN SUCCESSFUL! --\n"
     ]
    }
   ],
   "source": [
    "t=OpsUtils.connect_tapis()"
   ]
  },
  {
   "cell_type": "markdown",
   "metadata": {},
   "source": [
    "---\n",
    "## OpenSees-Express"
   ]
  },
  {
   "cell_type": "markdown",
   "metadata": {},
   "source": [
    "### Common Input"
   ]
  },
  {
   "cell_type": "code",
   "execution_count": 3,
   "metadata": {},
   "outputs": [],
   "source": [
    "# initalize\n",
    "tapisInputAll = {}\n",
    "tapisInputAll[\"name\"] = 'OpenSeesExpress'\n",
    "\n",
    "tapisInputAll[\"appId\"] = \"opensees-express\" # options: \"opensees-express\", \"opensees-mp-s3\", \"opensees-2p-s3\"\n",
    "tapisInputAll[\"appVersion\"] = \"latest\" # always use latest in this Notebook Template\n",
    "\n",
    "tapisInputAll[\"maxMinutes\"] = 6\n",
    "\n",
    "tapisInputAll['archive_system']='MyData' # Options: MyData (Work does not exist on the OpenSees-Express VM)"
   ]
  },
  {
   "cell_type": "markdown",
   "metadata": {},
   "source": [
    "### MyData\n",
    "This job is in the **MyData** Storage System"
   ]
  },
  {
   "cell_type": "code",
   "execution_count": 4,
   "metadata": {},
   "outputs": [
    {
     "data": {
      "application/vnd.jupyter.widget-view+json": {
       "model_id": "c318156d3d8340098042b53242aa1ddb",
       "version_major": 2,
       "version_minor": 0
      },
      "text/plain": [
       "Accordion(children=(Output(),), selected_index=0, titles=('',))"
      ]
     },
     "metadata": {},
     "output_type": "display_data"
    }
   ],
   "source": [
    "# initalize\n",
    "tapisInput = tapisInputAll.copy()\n",
    "\n",
    "tapisInput['storage_system'] = 'MyData'  # ########################## unique\n",
    "tapisInput['input_folder'] = '_ToCommunityData/OpenSees/TrainingMaterial/training-OpenSees-on-DesignSafe/Examples_OpenSees/BasicExamples'  # ########################## unique\n",
    "tapisInput['Main Script'] = 'Ex1a.Canti2D.Push.tcl' # ########################## unique\n",
    "\n",
    "tapisInput[\"name\"] = tapisInput[\"name\"] + '_' + tapisInput['storage_system']\n",
    "\n",
    "jobReturns = OpsUtils.run_tapis_job(t,tapisInput,get_job_metadata=True,get_job_history=True,get_job_filedata=True,askConfirmJob = False,askConfirmMonitorRT = False)"
   ]
  },
  {
   "cell_type": "markdown",
   "metadata": {},
   "source": [
    "### CommunityData\n",
    "This job is in the **CommunityData** Storage System"
   ]
  },
  {
   "cell_type": "code",
   "execution_count": null,
   "metadata": {},
   "outputs": [
    {
     "data": {
      "application/vnd.jupyter.widget-view+json": {
       "model_id": "5fb900ebf2f243e59f3545a18dd6db5c",
       "version_major": 2,
       "version_minor": 0
      },
      "text/plain": [
       "Accordion(children=(Output(),), selected_index=0, titles=('',))"
      ]
     },
     "metadata": {},
     "output_type": "display_data"
    }
   ],
   "source": [
    "# initalize\n",
    "tapisInput = tapisInputAll.copy()\n",
    "\n",
    "tapisInput['storage_system'] = 'CommunityData' # ########################## unique\n",
    "tapisInput['input_folder'] = 'OpenSees/TrainingMaterial/training-OpenSees-on-DesignSafe/Examples_OpenSees/BasicExamples'  # ########################## unique\n",
    "tapisInput['Main Script'] = 'Ex1a.Canti2D.Push.tcl' # ########################## unique\n",
    "\n",
    "tapisInput[\"name\"] = tapisInput[\"name\"] + '_' + tapisInput['storage_system']\n",
    "\n",
    "jobReturns = OpsUtils.run_tapis_job(t,tapisInput,get_job_metadata=True,get_job_history=True,get_job_filedata=True,askConfirmJob = False,askConfirmMonitorRT = False)"
   ]
  },
  {
   "cell_type": "markdown",
   "metadata": {},
   "source": [
    "### Work\n",
    "This job is in the **Work** Storage System"
   ]
  },
  {
   "cell_type": "code",
   "execution_count": null,
   "metadata": {},
   "outputs": [],
   "source": [
    "# initalize\n",
    "tapisInput = tapisInputAll.copy()\n",
    "\n",
    "tapisInput['storage_system'] = 'Work/stampede3'  # ########################## unique\n",
    "tapisInput['input_folder'] = 'BasicExamples'  # ########################## unique\n",
    "tapisInput['Main Script'] = 'Ex1a.Canti2D.Push.tcl' # ########################## unique\n",
    "\n",
    "tapisInput[\"name\"] = tapisInput[\"name\"] + '_' + tapisInput['storage_system']\n",
    "\n",
    "jobReturns = OpsUtils.run_tapis_job(t,tapisInput,get_job_metadata=True,get_job_history=True,get_job_filedata=True,askConfirmJob = False,askConfirmMonitorRT = False)"
   ]
  },
  {
   "cell_type": "markdown",
   "metadata": {},
   "source": [
    "### MyProjects\n",
    "This job is in the **MyProjects** Storage System"
   ]
  },
  {
   "cell_type": "code",
   "execution_count": null,
   "metadata": {},
   "outputs": [],
   "source": [
    "# initalize\n",
    "tapisInput = tapisInputAll.copy()\n",
    "\n",
    "tapisInput['storage_system'] = 'MyProjects' # ########################## unique\n",
    "# The following are project-dependent\n",
    "tapisInput['storage_system_baseURL'] = 'tapis://project-7997906542076432871-242ac11c-0001-012' # ########################## unique\n",
    "\n",
    "tapisInput['input_folder'] = 'OpenSees/TrainingMaterial/training-OpenSees-on-DesignSafe/Examples_OpenSees/BasicExamples'  # ########################## unique\n",
    "tapisInput['Main Script'] = 'Ex1a.Canti2D.Push.tcl'  # ########################## unique\n",
    "\n",
    "tapisInput[\"name\"] = tapisInput[\"name\"] + '_' + tapisInput['storage_system']\n",
    "\n",
    "jobReturns = OpsUtils.run_tapis_job(t,tapisInput,get_job_metadata=True,get_job_history=True,get_job_filedata=True,askConfirmJob = False,askConfirmMonitorRT = False)"
   ]
  },
  {
   "cell_type": "code",
   "execution_count": null,
   "metadata": {},
   "outputs": [],
   "source": [
    "print('done!')"
   ]
  }
 ],
 "metadata": {
  "IMAGE_NAME": "taccsciapps/ds-nb-img:base-0.2.3",
  "UUID": "73e0880d-9b87-11ec-9c1c-13579dd95994",
  "celltoolbar": "Raw Cell Format",
  "kernelspec": {
   "display_name": "Python 3 (ipykernel)",
   "language": "python",
   "name": "python3"
  },
  "language_info": {
   "codemirror_mode": {
    "name": "ipython",
    "version": 3
   },
   "file_extension": ".py",
   "mimetype": "text/x-python",
   "name": "python",
   "nbconvert_exporter": "python",
   "pygments_lexer": "ipython3",
   "version": "3.12.11"
  }
 },
 "nbformat": 4,
 "nbformat_minor": 4
}
