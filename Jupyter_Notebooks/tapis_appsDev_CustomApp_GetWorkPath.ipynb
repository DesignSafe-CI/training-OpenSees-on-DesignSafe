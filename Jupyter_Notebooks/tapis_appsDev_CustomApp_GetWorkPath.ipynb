{
 "cells": [
  {
   "cell_type": "markdown",
   "metadata": {},
   "source": [
    "<a class=\"reference external\" \n",
    "    href=\"https://jupyter.designsafe-ci.org/hub/user-redirect/lab/tree/CommunityData/OpenSees/TrainingMaterial/training-OpenSees-on-DesignSafe/Jupyter_Notebooks/tapis_appsDev_CustomApp_GetWorkPath.ipynb\" \n",
    "    target=\"_blank\"\n",
    "    >\n",
    "<img alt=\"Try on DesignSafe\" src=\"https://raw.githubusercontent.com/DesignSafe-Training/pinn/main/DesignSafe-Badge.svg\" /></a>"
   ]
  },
  {
   "cell_type": "markdown",
   "metadata": {},
   "source": [
    "# GetWorkPath App  📒\n",
    "***Create your own Tapis App***\n",
    "THIS WORKS, KIND OF, BUT IT'S SO CONVOLUTED AND STILL NOT CLEAR.\n",
    "by Silvia Mazzoni, DesignSafe, 2025\n",
    "\n",
    "Let's write an app to get your user and system-dependent path\n",
    "\n",
    "## Workflow\n",
    "\n",
    "| Step                        | Description                                                         |\n",
    "| --------------------------- | ------------------------------------------------------------------- |\n",
    "| 1. Create *app.json*        | Describes the app, its inputs, execution system, and wrapper script |\n",
    "| 2. Create *tapisjob_app.sh* | Runs your analysis (e.g., ibrun OpenSees main.tcl)                  |\n",
    "| 2a. Zip *tapisjob_app.sh* | It needs a zip file!                  |\n",
    "| 3. Create *profile.json*    | (Optional) Loads modules/environment                                |\n",
    "| 4. Upload Files             | To the deployment path in your storage system                       |\n",
    "| 5. Register App             | With Tapis via CLI or Python                                        |\n",
    "| 6. Submit Job               | Define `job.json` and submit                                        |"
   ]
  },
  {
   "cell_type": "code",
   "execution_count": 1,
   "metadata": {},
   "outputs": [],
   "source": [
    "import json"
   ]
  },
  {
   "cell_type": "code",
   "execution_count": 2,
   "metadata": {
    "tags": [
     "remove-input"
    ]
   },
   "outputs": [
    {
     "name": "stdout",
     "output_type": "stream",
     "text": [
      "Using local utilities library\n"
     ]
    }
   ],
   "source": [
    "# Local Utilities Library\n",
    "# you can remove the logic associated with the local path\n",
    "import sys,os\n",
    "relativePath = '../OpsUtils'\n",
    "if os.path.exists(relativePath):\n",
    "    print(\"Using local utilities library\")\n",
    "    PathOpsUtils = os.path.expanduser(relativePath)\n",
    "else:\n",
    "    print('using communitydata')\n",
    "    PathOpsUtils = os.path.expanduser('~/CommunityData/OpenSees/TrainingMaterial/training-OpenSees-on-DesignSafe/OpsUtils')\n",
    "if not PathOpsUtils in sys.path: sys.path.append(PathOpsUtils)\n",
    "from OpsUtils import OpsUtils"
   ]
  },
  {
   "cell_type": "markdown",
   "metadata": {},
   "source": [
    "---\n",
    "## Connect to Tapis"
   ]
  },
  {
   "cell_type": "code",
   "execution_count": 3,
   "metadata": {},
   "outputs": [
    {
     "name": "stdout",
     "output_type": "stream",
     "text": [
      " -- Checking Tapis token --\n",
      " Token loaded from file. Token is still valid!\n",
      " Token expires at: 2025-08-21T03:15:52+00:00\n",
      " Token expires in: 3:38:26.569873\n",
      "-- LOG IN SUCCESSFUL! --\n"
     ]
    }
   ],
   "source": [
    "t=OpsUtils.connect_tapis()"
   ]
  },
  {
   "cell_type": "markdown",
   "metadata": {},
   "source": [
    "## Define actions!"
   ]
  },
  {
   "cell_type": "code",
   "execution_count": 4,
   "metadata": {},
   "outputs": [],
   "source": [
    "# Make these True once you are done validating\n",
    "do_makeApp = True\n",
    "do_submitJob = True"
   ]
  },
  {
   "cell_type": "markdown",
   "metadata": {},
   "source": [
    "---\n",
    "## Configure App"
   ]
  },
  {
   "cell_type": "code",
   "execution_count": 5,
   "metadata": {},
   "outputs": [],
   "source": [
    "app_id = 'get-work-path-test'\n",
    "app_description = 'get work path'"
   ]
  },
  {
   "cell_type": "markdown",
   "metadata": {},
   "source": [
    "### AutoIncrement app_version"
   ]
  },
  {
   "cell_type": "code",
   "execution_count": 6,
   "metadata": {},
   "outputs": [
    {
     "name": "stdout",
     "output_type": "stream",
     "text": [
      "app exists, now latest_app_version 0.0.14\n",
      "now app_version 0.0.15\n"
     ]
    }
   ],
   "source": [
    "if do_makeApp:\n",
    "    app_version = OpsUtils.increment_tapis_app_version(t,app_id)"
   ]
  },
  {
   "cell_type": "markdown",
   "metadata": {},
   "source": [
    "### Where to store the files"
   ]
  },
  {
   "cell_type": "code",
   "execution_count": 7,
   "metadata": {},
   "outputs": [],
   "source": [
    "if do_makeApp:\n",
    "    app_system_id=\"designsafe.storage.default\"\n",
    "    username = OpsUtils.get_tapis_username(t)\n",
    "    app_path = f\"{username}/apps/{app_id}/{app_version}\"\n",
    "    container_filename = f'{app_id}.zip'"
   ]
  },
  {
   "cell_type": "markdown",
   "metadata": {},
   "source": [
    "### Define folder structure: app_id/version"
   ]
  },
  {
   "cell_type": "code",
   "execution_count": 8,
   "metadata": {},
   "outputs": [],
   "source": [
    "if do_makeApp:\n",
    "    app_folderName = f'~/MyData/myAuthoredTapisApps/{app_id}/{app_version}'; # your choice"
   ]
  },
  {
   "cell_type": "code",
   "execution_count": 9,
   "metadata": {},
   "outputs": [
    {
     "name": "stdout",
     "output_type": "stream",
     "text": [
      "app_folder: /home/jupyter/MyData/myAuthoredTapisApps/get-work-path-test/0.0.15\n",
      " exists: True\n"
     ]
    }
   ],
   "source": [
    "if do_makeApp:\n",
    "    app_folder = os.path.abspath(os.path.expanduser(app_folderName))\n",
    "    os.makedirs(app_folder, exist_ok=True)\n",
    "    print(f'app_folder: {app_folder}\\n exists:',os.path.exists(app_folder))"
   ]
  },
  {
   "cell_type": "markdown",
   "metadata": {},
   "source": [
    "---\n",
    "## Create the App Files\n",
    "\n",
    "A Tapis app needs the following **core files**:\n",
    "\n",
    "* **Readme.MD** – App Description (OPTIONAL)<br>\n",
    "This file is helpful in communicating content to the app user.  \n",
    "\n",
    "* **app.json** – App Definition<br>\n",
    "Defines the app’s metadata, inputs, parameters, and execution configuration.    \n",
    "\n",
    "* **profile.json** – Environment Setup *(optional but common)*<br>\n",
    "Loads modules or sets environment variables on the execution system. This file will load modules before your script runs. This is executed on the compute node.\n",
    "\n",
    "* **tapisjob_app.sh** – Wrapper Script<br>\n",
    "Wrapper script executed by the job; this is the command that launches your code (e.g., runs *OpenSeesMP*, Python, or a script)"
   ]
  },
  {
   "cell_type": "code",
   "execution_count": 10,
   "metadata": {},
   "outputs": [],
   "source": [
    "# let's collect the list of files we are creating as we will need this list in upload\n",
    "if do_makeApp:\n",
    "    appFilesList = [];"
   ]
  },
  {
   "cell_type": "markdown",
   "metadata": {},
   "source": [
    "#### **Readme.MD** – App Description\n",
    "This file is helpful in communicating content to the app user.  "
   ]
  },
  {
   "cell_type": "code",
   "execution_count": 11,
   "metadata": {},
   "outputs": [],
   "source": [
    "if do_makeApp:\n",
    "    thisFilename = 'ReadMe.MD'\n",
    "    thisText = \"\"\"\\\n",
    "    # making a dummy app to get user-and-system-specific work path\n",
    "    \"\"\"\n",
    "    \n",
    "    with open(f\"{app_folder}/{thisFilename}\", \"w\") as f:\n",
    "        f.write(thisText)\n",
    "\n",
    "    appFilesList.append(thisFilename)"
   ]
  },
  {
   "cell_type": "markdown",
   "metadata": {},
   "source": [
    "#### **app.json** – App Definition\n",
    "Defines the app’s metadata, inputs, parameters, and execution configuration.    "
   ]
  },
  {
   "cell_type": "code",
   "execution_count": 12,
   "metadata": {},
   "outputs": [],
   "source": [
    "if do_makeApp:\n",
    "    thisFilename = 'app.json'\n",
    "    thisText = \"\"\"\\\n",
    "    {\n",
    "        \"id\": \"__app_id__\",\n",
    "        \"name\": \"__app_id__\",\n",
    "        \"version\": \"__app_version__\",\n",
    "        \"description\": \"__app_description__\",\n",
    "        \"owner\": \"${apiUserId}\",\n",
    "        \"jobAttributes\": {\n",
    "            \"execSystemConstraints\": null,\n",
    "            \"execSystemId\": \"stampede3\",\n",
    "            \"execSystemExecDir\": \"${JobWorkingDir}\",\n",
    "            \"execSystemInputDir\": \"${JobWorkingDir}\",\n",
    "            \"execSystemOutputDir\": \"${JobWorkingDir}\",\n",
    "            \"execSystemLogicalQueue\": \"skx-dev\",\n",
    "            \"archiveSystemId\": \"stampede3\",\n",
    "            \"archiveSystemDir\": \"HOST_EVAL($WORK)\"\n",
    "            },\n",
    "        \"executionSystem\": \"designsafe.community.execution\",\n",
    "        \"deploymentSystem\": \"designsafe.storage.default\",\n",
    "        \"deploymentPath\": \"apps/bash-echo/0.0.3\",\n",
    "        \"templatePath\": \"wrapper.sh\",\n",
    "        \"executionType\": \"HPC\",\n",
    "        \"runtime\": \"SINGULARITY\",\n",
    "        \"containerImage\": \"docker://rockylinux:9\",\n",
    "        \"jobType\": \"BATCH\",\n",
    "        \"parallelism\": \"SERIAL\",\n",
    "        \"defaultNodes\": 1,\n",
    "        \"defaultProcessors\": 1,\n",
    "        \"defaultMaxRunTime\": \"00:05:00\",\n",
    "        \"defaultMemory\": \"1GB\",\n",
    "        \"archive\": false,\n",
    "        \"archiveOnAppError\": true,\n",
    "        \"inputs\": [],\n",
    "        \"parameters\": []\n",
    "    }\n",
    "\n",
    "    \"\"\"\n",
    "    thisText = thisText.replace(\"__app_id__\", app_id)\n",
    "    thisText = thisText.replace(\"__app_version__\", app_version)\n",
    "    thisText = thisText.replace(\"__app_description__\", app_description)\n",
    "  \n",
    "    with open(f\"{app_folder}/{thisFilename}\", \"w\") as f:\n",
    "        f.write(thisText)\n",
    "\n",
    "    appFilesList.append(thisFilename)"
   ]
  },
  {
   "cell_type": "markdown",
   "metadata": {},
   "source": [
    "#### **profile.json** – Environment Setup\n",
    "This file will load modules before your script runs. This is executed on the compute node."
   ]
  },
  {
   "cell_type": "code",
   "execution_count": 13,
   "metadata": {},
   "outputs": [],
   "source": [
    "if do_makeApp:\n",
    "    thisFilename = 'profile.json'\n",
    "    thisText = \"\"\"\\\n",
    "    {\n",
    "      \"modules\": []\n",
    "    }\n",
    "    \"\"\" \n",
    "    with open(f\"{app_folder}/{thisFilename}\", \"w\") as f:\n",
    "        f.write(thisText)\n",
    "\n",
    "    appFilesList.append(thisFilename)"
   ]
  },
  {
   "cell_type": "markdown",
   "metadata": {},
   "source": [
    "#### **tapisjob_app.sh** – Wrapper Script\n",
    "Wrapper script executed by the job; this is the command that launches your code (e.g., runs *OpenSeesMP*, Python, or a script)"
   ]
  },
  {
   "cell_type": "code",
   "execution_count": 14,
   "metadata": {},
   "outputs": [
    {
     "name": "stdout",
     "output_type": "stream",
     "text": [
      "zip_path /home/jupyter/MyData/myAuthoredTapisApps/get-work-path-test/0.0.15/get-work-path-test.zip\n"
     ]
    }
   ],
   "source": [
    "if do_makeApp:\n",
    "    import textwrap, time\n",
    "    from zipfile import ZipFile, ZIP_DEFLATED, ZipInfo\n",
    "    \n",
    "    thisFilename_sh = \"tapisjob_app.sh\"\n",
    "    thisFilename = container_filename  # existing var\n",
    "\n",
    "\n",
    "    bash_script = textwrap.dedent(\"\"\"\"\"\")\n",
    "\n",
    "\n",
    "    zip_path = os.path.join(app_folder, thisFilename)\n",
    "    print('zip_path',zip_path)\n",
    "\n",
    "    # write with executable permission inside the ZIP\n",
    "    zi = ZipInfo(thisFilename_sh)\n",
    "    zi.date_time = time.localtime(time.time())[:6]\n",
    "    zi.compress_type = ZIP_DEFLATED\n",
    "    zi.external_attr = 0o100755 << 16   # -rwxr-xr-x on a regular file\n",
    "    \n",
    "    with ZipFile(zip_path, \"w\", ZIP_DEFLATED) as z:\n",
    "        z.writestr(zi, bash_script)\n",
    "        \n",
    "    appFilesList.append(thisFilename)"
   ]
  },
  {
   "cell_type": "markdown",
   "metadata": {},
   "source": [
    "#### File Check\n",
    "Look at the files we have written and check for typos or formatting errors."
   ]
  },
  {
   "cell_type": "code",
   "execution_count": 15,
   "metadata": {
    "scrolled": true,
    "tags": [
     "remove-input"
    ]
   },
   "outputs": [
    {
     "name": "stdout",
     "output_type": "stream",
     "text": [
      "['ReadMe.MD', 'app.json', 'profile.json', 'get-work-path-test.zip']\n"
     ]
    },
    {
     "data": {
      "text/html": [
       "\n",
       "                      <details style=\"margin-top:1em; font-family:monospace; background:white; \n",
       "                          padding:0.25em; border-radius:6px; border:1px solid #ccc;\">\n",
       "                        <summary style=\"cursor:pointer; font-weight:bold; background:white; \n",
       "                          padding:0.3em 0.5em; border-radius:4px;\">ReadMe.MD</summary>\n",
       "\n",
       "                        <button onclick=\"navigator.clipboard.writeText(document.getElementById('6cd4787c78e94a72b1f2a630f1ffeaec').innerText)\">\n",
       "                          📋 Copy\n",
       "                        </button>\n",
       "                        <pre id=\"6cd4787c78e94a72b1f2a630f1ffeaec\" style=\"white-space:pre-wrap; margin:0.25em 0 0 0; \n",
       "                            background:#d4fbff; padding:.3em; border-radius:5px;\">\n",
       "<b># /home/jupyter/MyData/myAuthoredTapisApps/get-work-path-test/0.0.15/ReadMe.MD</b>\n",
       "    # making a dummy app to get user-and-system-specific work path\n",
       "    </pre>\n",
       "                      </details>\n",
       "                    "
      ],
      "text/plain": [
       "<IPython.core.display.HTML object>"
      ]
     },
     "metadata": {},
     "output_type": "display_data"
    },
    {
     "data": {
      "text/html": [
       "\n",
       "                      <details style=\"margin-top:1em; font-family:monospace; background:white; \n",
       "                          padding:0.25em; border-radius:6px; border:1px solid #ccc;\">\n",
       "                        <summary style=\"cursor:pointer; font-weight:bold; background:white; \n",
       "                          padding:0.3em 0.5em; border-radius:4px;\">app.json</summary>\n",
       "\n",
       "                        <button onclick=\"navigator.clipboard.writeText(document.getElementById('6670c30437a0437db6ede44d11fdd842').innerText)\">\n",
       "                          📋 Copy\n",
       "                        </button>\n",
       "                        <pre id=\"6670c30437a0437db6ede44d11fdd842\" style=\"white-space:pre-wrap; margin:0.25em 0 0 0; \n",
       "                            background:#d4fbff; padding:.3em; border-radius:5px;\">\n",
       "<b># /home/jupyter/MyData/myAuthoredTapisApps/get-work-path-test/0.0.15/app.json</b>\n",
       "    {\n",
       "        \"id\": \"get-work-path-test\",\n",
       "        \"name\": \"get-work-path-test\",\n",
       "        \"version\": \"0.0.15\",\n",
       "        \"description\": \"get work path\",\n",
       "        \"owner\": \"${apiUserId}\",\n",
       "        \"jobAttributes\": {\n",
       "            \"execSystemConstraints\": null,\n",
       "            \"execSystemId\": \"stampede3\",\n",
       "            \"execSystemExecDir\": \"${JobWorkingDir}\",\n",
       "            \"execSystemInputDir\": \"${JobWorkingDir}\",\n",
       "            \"execSystemOutputDir\": \"${JobWorkingDir}\",\n",
       "            \"execSystemLogicalQueue\": \"skx-dev\",\n",
       "            \"archiveSystemId\": \"stampede3\",\n",
       "            \"archiveSystemDir\": \"HOST_EVAL($WORK)\"\n",
       "            },\n",
       "        \"executionSystem\": \"designsafe.community.execution\",\n",
       "        \"deploymentSystem\": \"designsafe.storage.default\",\n",
       "        \"deploymentPath\": \"apps/bash-echo/0.0.3\",\n",
       "        \"templatePath\": \"wrapper.sh\",\n",
       "        \"executionType\": \"HPC\",\n",
       "        \"runtime\": \"SINGULARITY\",\n",
       "        \"containerImage\": \"docker://rockylinux:9\",\n",
       "        \"jobType\": \"BATCH\",\n",
       "        \"parallelism\": \"SERIAL\",\n",
       "        \"defaultNodes\": 1,\n",
       "        \"defaultProcessors\": 1,\n",
       "        \"defaultMaxRunTime\": \"00:05:00\",\n",
       "        \"defaultMemory\": \"1GB\",\n",
       "        \"archive\": false,\n",
       "        \"archiveOnAppError\": true,\n",
       "        \"inputs\": [],\n",
       "        \"parameters\": []\n",
       "    }\n",
       "\n",
       "    </pre>\n",
       "                      </details>\n",
       "                    "
      ],
      "text/plain": [
       "<IPython.core.display.HTML object>"
      ]
     },
     "metadata": {},
     "output_type": "display_data"
    },
    {
     "data": {
      "text/html": [
       "\n",
       "                      <details style=\"margin-top:1em; font-family:monospace; background:white; \n",
       "                          padding:0.25em; border-radius:6px; border:1px solid #ccc;\">\n",
       "                        <summary style=\"cursor:pointer; font-weight:bold; background:white; \n",
       "                          padding:0.3em 0.5em; border-radius:4px;\">profile.json</summary>\n",
       "\n",
       "                        <button onclick=\"navigator.clipboard.writeText(document.getElementById('e15be4567e15414ca6c0717a654f9e3b').innerText)\">\n",
       "                          📋 Copy\n",
       "                        </button>\n",
       "                        <pre id=\"e15be4567e15414ca6c0717a654f9e3b\" style=\"white-space:pre-wrap; margin:0.25em 0 0 0; \n",
       "                            background:#d4fbff; padding:.3em; border-radius:5px;\">\n",
       "<b># /home/jupyter/MyData/myAuthoredTapisApps/get-work-path-test/0.0.15/profile.json</b>\n",
       "    {\n",
       "      \"modules\": []\n",
       "    }\n",
       "    </pre>\n",
       "                      </details>\n",
       "                    "
      ],
      "text/plain": [
       "<IPython.core.display.HTML object>"
      ]
     },
     "metadata": {},
     "output_type": "display_data"
    }
   ],
   "source": [
    "if do_makeApp:\n",
    "    print(appFilesList)\n",
    "    OpsUtils.show_text_file_in_accordion(app_folder, appFilesList)"
   ]
  },
  {
   "cell_type": "markdown",
   "metadata": {},
   "source": [
    "---\n",
    "## Validate App Locally"
   ]
  },
  {
   "cell_type": "code",
   "execution_count": 16,
   "metadata": {
    "tags": [
     "remove-input"
    ]
   },
   "outputs": [
    {
     "data": {
      "text/html": [
       "\n",
       "                      <details style=\"margin-top:1em; font-family:monospace; background:white; \n",
       "                          padding:0.25em; border-radius:6px; border:1px solid #ccc;\">\n",
       "                        <summary style=\"cursor:pointer; font-weight:bold; background:white; \n",
       "                          padding:0.3em 0.5em; border-radius:4px;\">validate_app_folder.py</summary>\n",
       "\n",
       "                        <button onclick=\"navigator.clipboard.writeText(document.getElementById('0161bb4888304019b51eb485a310d97b').innerText)\">\n",
       "                          📋 Copy\n",
       "                        </button>\n",
       "                        <pre id=\"0161bb4888304019b51eb485a310d97b\" style=\"white-space:pre-wrap; margin:0.25em 0 0 0; \n",
       "                            background:#d4fbff; padding:.3em; border-radius:5px;\">\n",
       "<b># ../OpsUtils/OpsUtils/Tapis/validate_app_folder.py</b>\n",
       "def validate_app_folder(folder, required_files):\n",
       "    \"\"\"\n",
       "    Validate an app deployment folder:\n",
       "      1) Check that all `required_files` exist under `folder`.\n",
       "      2) Parse any `.json` files and merge their objects (later files overwrite earlier keys).\n",
       "      3) Print a concise summary (id, name, version, params/inputs/outputs, top-level keys).\n",
       "\n",
       "    Safe behavior:\n",
       "      - Never raises KeyError for missing identity keys; prints \"(missing)\" instead.\n",
       "      - Handles non-list or malformed `parameters/inputs/outputs` gracefully.\n",
       "\n",
       "    Parameters\n",
       "    ----------\n",
       "    folder : str | os.PathLike\n",
       "        Path to the app/version directory (e.g., \"apps/opensees-mp/1.0/\").\n",
       "    required_files : Iterable[str]\n",
       "        Filenames expected inside `folder` (e.g., [\"app.json\", \"profile.json\", \"tapisjob_app.sh\"]).\n",
       "\n",
       "    Returns\n",
       "    -------\n",
       "    bool\n",
       "        True  -> all required files present and all JSON parsed successfully.\n",
       "        False -> at least one file missing OR a JSON parse error occurred.\n",
       "\n",
       "    Notes\n",
       "    -----\n",
       "    - If multiple JSON files are in `required_files`, later files overwrite earlier keys.\n",
       "    - Only performs **syntactic** JSON validation (no schema validation).\n",
       "    \"\"\"\n",
       "    import os, json\n",
       "    from pathlib import Path\n",
       "\n",
       "    folder_path = Path(folder)\n",
       "    print(f\"🔍 Validating app folder: {folder_path}\\n\")\n",
       "\n",
       "    # 1) Presence check\n",
       "    missing = [f for f in required_files if not (folder_path / f).exists()]\n",
       "    if missing:\n",
       "        print(f\"❌ Missing required files: {missing}\")\n",
       "        return False\n",
       "    else:\n",
       "        print(\"✅ All required files are present.\\n\")\n",
       "\n",
       "    # 2) Parse & merge JSON files\n",
       "    app_def = {}\n",
       "    for fname in required_files:\n",
       "        if Path(fname).suffix.lower() == \".json\":\n",
       "            fpath = folder_path / fname\n",
       "            try:\n",
       "                with fpath.open() as fp:\n",
       "                    obj = json.load(fp)\n",
       "                if isinstance(obj, dict):\n",
       "                    app_def.update(obj)  # later files override earlier keys\n",
       "                else:\n",
       "                    print(f\"❌ {fname} contains JSON that is not an object (dict).\")\n",
       "                    return False\n",
       "            except json.JSONDecodeError as exc:\n",
       "                print(f\"❌ {fname} is not valid JSON: {exc}\")\n",
       "                return False\n",
       "\n",
       "    # 3) Friendly summary (safe lookups)\n",
       "    app_id      = app_def.get(\"id\", \"(missing)\")\n",
       "    app_name    = app_def.get(\"name\", \"(missing)\")\n",
       "    app_version = app_def.get(\"version\", \"(missing)\")\n",
       "\n",
       "    def _collect_ids(val, key=\"id\"):\n",
       "        # Accepts list[dict], dict (single), or anything else -> robust fallback\n",
       "        if isinstance(val, list):\n",
       "            return [str(x.get(key, \"(no-id)\")) for x in val if isinstance(x, dict)]\n",
       "        if isinstance(val, dict):\n",
       "            return [str(val.get(key, \"(no-id)\"))]\n",
       "        return []\n",
       "\n",
       "    param_ids  = _collect_ids(app_def.get(\"parameters\", []), \"id\")\n",
       "    input_ids  = _collect_ids(app_def.get(\"inputs\", []), \"id\")\n",
       "    output_ids = _collect_ids(app_def.get(\"outputs\", []), \"id\")\n",
       "\n",
       "    print(f\"📄 App ID: {app_id}\")\n",
       "    print(f\"📄 App Name: {app_name}\")\n",
       "    print(f\"📄 Version: {app_version}\")\n",
       "    print(f\"🔧 Parameters: {param_ids}\")\n",
       "    print(f\"📦 Inputs: {input_ids}\")\n",
       "    print(f\"📤 Outputs: {output_ids}\")\n",
       "    print(f\"\\nApp Keys: {list(app_def.keys())}\")\n",
       "    print(\"\\n✅ Basic validation complete. App folder looks good!\")\n",
       "    return True\n",
       "</pre>\n",
       "                      </details>\n",
       "                    "
      ],
      "text/plain": [
       "<IPython.core.display.HTML object>"
      ]
     },
     "metadata": {},
     "output_type": "display_data"
    }
   ],
   "source": [
    "if do_makeApp:\n",
    "    OpsUtils.show_text_file_in_accordion(PathOpsUtils, ['validate_app_folder.py'])"
   ]
  },
  {
   "cell_type": "code",
   "execution_count": 17,
   "metadata": {},
   "outputs": [
    {
     "name": "stdout",
     "output_type": "stream",
     "text": [
      "🔍 Validating app folder: /home/jupyter/MyData/myAuthoredTapisApps/get-work-path-test/0.0.15\n",
      "\n",
      "✅ All required files are present.\n",
      "\n",
      "📄 App ID: get-work-path-test\n",
      "📄 App Name: get-work-path-test\n",
      "📄 Version: 0.0.15\n",
      "🔧 Parameters: []\n",
      "📦 Inputs: []\n",
      "📤 Outputs: []\n",
      "\n",
      "App Keys: ['id', 'name', 'version', 'description', 'owner', 'jobAttributes', 'executionSystem', 'deploymentSystem', 'deploymentPath', 'templatePath', 'executionType', 'runtime', 'containerImage', 'jobType', 'parallelism', 'defaultNodes', 'defaultProcessors', 'defaultMaxRunTime', 'defaultMemory', 'archive', 'archiveOnAppError', 'inputs', 'parameters', 'modules']\n",
      "\n",
      "✅ Basic validation complete. App folder looks good!\n"
     ]
    }
   ],
   "source": [
    "if do_makeApp:\n",
    "    validation = OpsUtils.validate_app_folder(app_folder,appFilesList)\n",
    "    if not validation:\n",
    "        print('Validation Failed: stopping here!!!!')\n",
    "        a = 3/0"
   ]
  },
  {
   "cell_type": "markdown",
   "metadata": {},
   "source": [
    "---\n",
    "## Deploy the App"
   ]
  },
  {
   "cell_type": "markdown",
   "metadata": {},
   "source": [
    "### Make the directory inside your 'MyData' on designsafe.storage.default.\n",
    "The apps in this folder are the ones that area actually uploaded."
   ]
  },
  {
   "cell_type": "code",
   "execution_count": 18,
   "metadata": {},
   "outputs": [
    {
     "name": "stdout",
     "output_type": "stream",
     "text": [
      "app_path silvia/apps/get-work-path-test/0.0.15\n"
     ]
    }
   ],
   "source": [
    "if do_makeApp:\n",
    "    t.files.mkdir(systemId=app_system_id, path=app_path)\n",
    "    print('app_path',app_path)"
   ]
  },
  {
   "cell_type": "markdown",
   "metadata": {},
   "source": [
    "### Upload files to your deployment system (e.g., DesignSafe default storage)\n",
    "Using Tapipy (Python SDK) in a Jupyter Notebook"
   ]
  },
  {
   "cell_type": "code",
   "execution_count": 19,
   "metadata": {},
   "outputs": [],
   "source": [
    "if do_makeApp:\n",
    "    for fname in appFilesList:\n",
    "        fpath = f'{app_folder}/{fname}'\n",
    "        t.upload(source_file_path=fpath,\n",
    "                 system_id=app_system_id,\n",
    "                 dest_file_path=f'{app_path}/{fname}')"
   ]
  },
  {
   "cell_type": "markdown",
   "metadata": {},
   "source": [
    "#### Verify upload"
   ]
  },
  {
   "cell_type": "code",
   "execution_count": 20,
   "metadata": {},
   "outputs": [
    {
     "name": "stdout",
     "output_type": "stream",
     "text": [
      "app_system_id: designsafe.storage.default\n",
      "app_path: silvia/apps/get-work-path-test/0.0.15\n",
      "\n",
      "group: 819066\n",
      "lastModified: 2025-08-20T23:37:27Z\n",
      "mimeType: application/json\n",
      "name: app.json\n",
      "nativePermissions: rw-rw----\n",
      "owner: 843714\n",
      "path: silvia/apps/get-work-path-test/0.0.15/app.json\n",
      "size: 1250\n",
      "type: file\n",
      "url: tapis://designsafe.storage.default/silvia/apps/get-work-path-test/0.0.15/app.json\n",
      "\n",
      "\n",
      "group: 819066\n",
      "lastModified: 2025-08-20T23:37:28Z\n",
      "mimeType: application/zip\n",
      "name: get-work-path-test.zip\n",
      "nativePermissions: rw-rw----\n",
      "owner: 843714\n",
      "path: silvia/apps/get-work-path-test/0.0.15/get-work-path-test.zip\n",
      "size: 130\n",
      "type: file\n",
      "url: tapis://designsafe.storage.default/silvia/apps/get-work-path-test/0.0.15/get-work-path-test.zip\n",
      "\n",
      "\n",
      "group: 819066\n",
      "lastModified: 2025-08-20T23:37:27Z\n",
      "mimeType: application/json\n",
      "name: profile.json\n",
      "nativePermissions: rw-rw----\n",
      "owner: 843714\n",
      "path: silvia/apps/get-work-path-test/0.0.15/profile.json\n",
      "size: 36\n",
      "type: file\n",
      "url: tapis://designsafe.storage.default/silvia/apps/get-work-path-test/0.0.15/profile.json\n",
      "\n",
      "\n",
      "group: 819066\n",
      "lastModified: 2025-08-20T23:37:27Z\n",
      "mimeType: text/markdown\n",
      "name: ReadMe.MD\n",
      "nativePermissions: rw-rw----\n",
      "owner: 843714\n",
      "path: silvia/apps/get-work-path-test/0.0.15/ReadMe.MD\n",
      "size: 71\n",
      "type: file\n",
      "url: tapis://designsafe.storage.default/silvia/apps/get-work-path-test/0.0.15/ReadMe.MD\n",
      "\n"
     ]
    }
   ],
   "source": [
    "if do_makeApp:\n",
    "    print('app_system_id:',app_system_id)\n",
    "    print('app_path:',app_path)\n",
    "    appfiles = t.files.listFiles(systemId=app_system_id, path=app_path)\n",
    "    for thisF in appfiles:\n",
    "        print(thisF)\n",
    "        print('')"
   ]
  },
  {
   "cell_type": "markdown",
   "metadata": {},
   "source": [
    "---\n",
    "## Register the App\n",
    "This creates the actual App record that Jobs can run.\n",
    "\n",
    "Do this Using Tapipy (Python)"
   ]
  },
  {
   "cell_type": "code",
   "execution_count": 21,
   "metadata": {},
   "outputs": [],
   "source": [
    "if do_makeApp:\n",
    "    # Create (or create a new version) of the app\n",
    "    with open(f'{app_folder}/app.json') as f:\n",
    "        app_def = json.load(f)\n",
    "    t.apps.createAppVersion(**app_def)"
   ]
  },
  {
   "cell_type": "markdown",
   "metadata": {},
   "source": [
    "### Check that app is up"
   ]
  },
  {
   "cell_type": "markdown",
   "metadata": {},
   "source": [
    "#### List the new app"
   ]
  },
  {
   "cell_type": "code",
   "execution_count": 22,
   "metadata": {},
   "outputs": [
    {
     "name": "stdout",
     "output_type": "stream",
     "text": [
      "\n",
      "containerImage: docker://rockylinux:9\n",
      "created: 2025-08-20T23:37:28.678418Z\n",
      "deleted: False\n",
      "description: get work path\n",
      "enabled: True\n",
      "id: get-work-path-test\n",
      "isPublic: False\n",
      "jobAttributes: \n",
      "archiveOnAppError: False\n",
      "archiveSystemDir: HOST_EVAL($WORK)\n",
      "archiveSystemId: stampede3\n",
      "cmdPrefix: None\n",
      "coresPerNode: 1\n",
      "description: None\n",
      "dtnSystemInputDir: !tapis_not_set\n",
      "dtnSystemOutputDir: !tapis_not_set\n",
      "dynamicExecSystem: False\n",
      "execSystemConstraints: None\n",
      "execSystemExecDir: ${JobWorkingDir}\n",
      "execSystemId: stampede3\n",
      "execSystemInputDir: ${JobWorkingDir}\n",
      "execSystemLogicalQueue: skx-dev\n",
      "execSystemOutputDir: ${JobWorkingDir}\n",
      "fileInputArrays: []\n",
      "fileInputs: []\n",
      "isMpi: False\n",
      "maxMinutes: 10\n",
      "memoryMB: 100\n",
      "mpiCmd: None\n",
      "nodeCount: 1\n",
      "parameterSet: \n",
      "appArgs: []\n",
      "archiveFilter: \n",
      "excludes: []\n",
      "includeLaunchFiles: True\n",
      "includes: []\n",
      "containerArgs: []\n",
      "envVariables: []\n",
      "logConfig: \n",
      "stderrFilename: \n",
      "stdoutFilename: \n",
      "schedulerOptions: []\n",
      "subscriptions: []\n",
      "tags: []\n",
      "jobType: BATCH\n",
      "locked: False\n",
      "maxJobs: 2147483647\n",
      "maxJobsPerUser: 2147483647\n",
      "notes: \n",
      "\n",
      "owner: silvia\n",
      "runtime: SINGULARITY\n",
      "runtimeOptions: None\n",
      "runtimeVersion: None\n",
      "sharedAppCtx: silvia\n",
      "sharedWithUsers: []\n",
      "strictFileInputs: False\n",
      "tags: []\n",
      "tenant: designsafe\n",
      "updated: 2025-08-20T23:37:28.678418Z\n",
      "uuid: fcfcc492-9466-43bf-8851-deeae83e29ed\n",
      "version: 0.0.15\n",
      "versionEnabled: True\n"
     ]
    }
   ],
   "source": [
    "appMetaData = t.apps.getAppLatestVersion(appId=app_id)\n",
    "print(appMetaData)"
   ]
  },
  {
   "cell_type": "markdown",
   "metadata": {},
   "source": [
    "---\n",
    "## Submit a Job\n",
    "\n",
    "You can now submit a job using this app. You can use the Tapis CLI, Tapipy, or a web form.\n",
    "\n",
    "We are using TapiPy directly from this notebook. We will not specify a version so that the latest is used by default in the description."
   ]
  },
  {
   "cell_type": "code",
   "execution_count": 23,
   "metadata": {},
   "outputs": [],
   "source": [
    "job_def = {\n",
    "    \"name\": \"print-work\",\n",
    "    \"appId\": app_id,\n",
    "    \"appVersion\":app_version,\n",
    "    \"archiveSystemId\": \"stampede3\",\n",
    "}"
   ]
  },
  {
   "cell_type": "code",
   "execution_count": 24,
   "metadata": {},
   "outputs": [
    {
     "name": "stdout",
     "output_type": "stream",
     "text": [
      "work_dir /work2/05072/silvia/stampede3\n"
     ]
    }
   ],
   "source": [
    "resp = t.jobs.submitJob(**job_def)\n",
    "work_dir = resp.archiveSystemDir\n",
    "print('work_dir',work_dir)"
   ]
  },
  {
   "cell_type": "code",
   "execution_count": 25,
   "metadata": {},
   "outputs": [
    {
     "name": "stdout",
     "output_type": "stream",
     "text": [
      "\n",
      "_fileInputsSpec: None\n",
      "_parameterSetModel: None\n",
      "appId: get-work-path-test\n",
      "appVersion: 0.0.15\n",
      "archiveCorrelationId: None\n",
      "archiveOnAppError: False\n",
      "archiveSystemDir: /work2/05072/silvia/stampede3\n",
      "archiveSystemId: stampede3\n",
      "archiveTransactionId: None\n",
      "blockedCount: 0\n",
      "cmdPrefix: None\n",
      "condition: None\n",
      "coresPerNode: 1\n",
      "created: 2025-08-20T23:37:28.847286832Z\n",
      "createdby: silvia\n",
      "createdbyTenant: designsafe\n",
      "description: get-work-path-test-0.0.15 submitted by silvia@designsafe\n",
      "dtnInputCorrelationId: None\n",
      "dtnInputTransactionId: None\n",
      "dtnOutputCorrelationId: None\n",
      "dtnOutputTransactionId: None\n",
      "dtnSystemId: None\n",
      "dtnSystemInputDir: None\n",
      "dtnSystemOutputDir: None\n",
      "dynamicExecSystem: False\n",
      "ended: None\n",
      "execSystemConstraints: None\n",
      "execSystemExecDir: /scratch/05072/silvia/tapis/bd769369-7cb0-418e-aa48-18de4b8ded88-007\n",
      "execSystemId: stampede3\n",
      "execSystemInputDir: /scratch/05072/silvia/tapis/bd769369-7cb0-418e-aa48-18de4b8ded88-007\n",
      "execSystemLogicalQueue: skx-dev\n",
      "execSystemOutputDir: /scratch/05072/silvia/tapis/bd769369-7cb0-418e-aa48-18de4b8ded88-007\n",
      "fileInputs: []\n",
      "id: 0\n",
      "inputCorrelationId: None\n",
      "inputTransactionId: None\n",
      "isMpi: False\n",
      "jobType: BATCH\n",
      "lastMessage: Job created\n",
      "lastUpdated: 2025-08-20T23:37:28.847286832Z\n",
      "maxMinutes: 10\n",
      "memoryMB: 100\n",
      "mpiCmd: None\n",
      "name: print-work\n",
      "nodeCount: 1\n",
      "notes: {}\n",
      "owner: silvia\n",
      "parameterSet: {\"appArgs\":[],\"containerArgs\":[],\"schedulerOptions\":[{\"name\":\"synthetic_tapis_profile\",\"description\":\"The tapis-profile value set in execution system.\",\"include\":true,\"arg\":\"--tapis-profile tacc-apptainer\",\"notes\":null}],\"envVariables\":[{\"key\":\"_tapisAppId\",\"value\":\"get-work-path-test\",\"description\":null,\"include\":null,\"notes\":null},{\"key\":\"_tapisAppVersion\",\"value\":\"0.0.15\",\"description\":null,\"include\":null,\"notes\":null},{\"key\":\"_tapisArchiveOnAppError\",\"value\":\"false\",\"description\":null,\"include\":null,\"notes\":null},{\"key\":\"_tapisArchiveSystemDir\",\"value\":\"/work2/05072/silvia/stampede3\",\"description\":null,\"include\":null,\"notes\":null},{\"key\":\"_tapisArchiveSystemId\",\"value\":\"stampede3\",\"description\":null,\"include\":null,\"notes\":null},{\"key\":\"_tapisCoresPerNode\",\"value\":\"1\",\"description\":null,\"include\":null,\"notes\":null},{\"key\":\"_tapisDynamicExecSystem\",\"value\":\"false\",\"description\":null,\"include\":null,\"notes\":null},{\"key\":\"_tapisEffectiveUserId\",\"value\":\"silvia\",\"description\":null,\"include\":null,\"notes\":null},{\"key\":\"_tapisExecSystemExecDir\",\"value\":\"/scratch/05072/silvia/tapis/bd769369-7cb0-418e-aa48-18de4b8ded88-007\",\"description\":null,\"include\":null,\"notes\":null},{\"key\":\"_tapisExecSystemHPCQueue\",\"value\":\"skx-dev\",\"description\":null,\"include\":null,\"notes\":null},{\"key\":\"_tapisExecSystemId\",\"value\":\"stampede3\",\"description\":null,\"include\":null,\"notes\":null},{\"key\":\"_tapisExecSystemInputDir\",\"value\":\"/scratch/05072/silvia/tapis/bd769369-7cb0-418e-aa48-18de4b8ded88-007\",\"description\":null,\"include\":null,\"notes\":null},{\"key\":\"_tapisExecSystemLogicalQueue\",\"value\":\"skx-dev\",\"description\":null,\"include\":null,\"notes\":null},{\"key\":\"_tapisExecSystemOutputDir\",\"value\":\"/scratch/05072/silvia/tapis/bd769369-7cb0-418e-aa48-18de4b8ded88-007\",\"description\":null,\"include\":null,\"notes\":null},{\"key\":\"_tapisJobCreateDate\",\"value\":\"2025-08-20Z\",\"description\":null,\"include\":null,\"notes\":null},{\"key\":\"_tapisJobCreateTime\",\"value\":\"23:37:28.847286832Z\",\"description\":null,\"include\":null,\"notes\":null},{\"key\":\"_tapisJobCreateTimestamp\",\"value\":\"2025-08-20T23:37:28.847286832Z\",\"description\":null,\"include\":null,\"notes\":null},{\"key\":\"_tapisJobName\",\"value\":\"print-work\",\"description\":null,\"include\":null,\"notes\":null},{\"key\":\"_tapisJobOwner\",\"value\":\"silvia\",\"description\":null,\"include\":null,\"notes\":null},{\"key\":\"_tapisJobUUID\",\"value\":\"bd769369-7cb0-418e-aa48-18de4b8ded88-007\",\"description\":null,\"include\":null,\"notes\":null},{\"key\":\"_tapisJobWorkingDir\",\"value\":\"/scratch/05072/silvia/tapis/bd769369-7cb0-418e-aa48-18de4b8ded88-007\",\"description\":null,\"include\":null,\"notes\":null},{\"key\":\"_tapisMaxMinutes\",\"value\":\"10\",\"description\":null,\"include\":null,\"notes\":null},{\"key\":\"_tapisMemoryMB\",\"value\":\"100\",\"description\":null,\"include\":null,\"notes\":null},{\"key\":\"_tapisNodes\",\"value\":\"1\",\"description\":null,\"include\":null,\"notes\":null},{\"key\":\"_tapisStderrFilename\",\"value\":\"tapisjob.out\",\"description\":null,\"include\":null,\"notes\":null},{\"key\":\"_tapisStdoutFilename\",\"value\":\"tapisjob.out\",\"description\":null,\"include\":null,\"notes\":null},{\"key\":\"_tapisSysBatchScheduler\",\"value\":\"SLURM\",\"description\":null,\"include\":null,\"notes\":null},{\"key\":\"_tapisSysHost\",\"value\":\"stampede3.tacc.utexas.edu\",\"description\":null,\"include\":null,\"notes\":null},{\"key\":\"_tapisSysRootDir\",\"value\":\"/\",\"description\":null,\"include\":null,\"notes\":null},{\"key\":\"_tapisTenant\",\"value\":\"designsafe\",\"description\":null,\"include\":null,\"notes\":null}],\"archiveFilter\":{\"includes\":[],\"excludes\":[],\"includeLaunchFiles\":true},\"logConfig\":{\"stdoutFilename\":\"tapisjob.out\",\"stderrFilename\":\"tapisjob.out\"}}\n",
      "remoteChecksFailed: 0\n",
      "remoteChecksSuccess: 0\n",
      "remoteEnded: None\n",
      "remoteJobId: None\n",
      "remoteJobId2: None\n",
      "remoteLastStatusCheck: None\n",
      "remoteOutcome: None\n",
      "remoteQueue: skx-dev\n",
      "remoteResultInfo: None\n",
      "remoteStarted: None\n",
      "remoteSubmitRetries: 0\n",
      "remoteSubmitted: None\n",
      "sharedAppCtx: silvia\n",
      "sharedAppCtxAttribs: ['SAC_EXEC_SYSTEM_ID', 'SAC_ARCHIVE_SYSTEM_ID', 'SAC_EXEC_SYSTEM_INPUT_DIR', 'SAC_EXEC_SYSTEM_EXEC_DIR', 'SAC_EXEC_SYSTEM_OUTPUT_DIR', 'SAC_ARCHIVE_SYSTEM_DIR']\n",
      "stageAppCorrelationId: None\n",
      "stageAppTransactionId: None\n",
      "status: PENDING\n",
      "subscriptions: []\n",
      "tags: []\n",
      "tapisQueue: tapis.jobq.submit.DefaultQueue\n",
      "tenant: designsafe\n",
      "trackingId: None\n",
      "uuid: bd769369-7cb0-418e-aa48-18de4b8ded88-007\n",
      "visible: True\n"
     ]
    }
   ],
   "source": [
    "print(resp)"
   ]
  },
  {
   "cell_type": "code",
   "execution_count": 26,
   "metadata": {},
   "outputs": [],
   "source": [
    "# OpsUtils.run_tapis_job(t,tapisInput,job_description = job_def)"
   ]
  },
  {
   "cell_type": "code",
   "execution_count": null,
   "metadata": {},
   "outputs": [],
   "source": []
  }
 ],
 "metadata": {
  "IMAGE_NAME": "taccsciapps/ds-nb-img:base-0.2.3",
  "UUID": "73e0880d-9b87-11ec-9c1c-13579dd95994",
  "celltoolbar": "Raw Cell Format",
  "kernelspec": {
   "display_name": "Python 3 (ipykernel)",
   "language": "python",
   "name": "python3"
  },
  "language_info": {
   "codemirror_mode": {
    "name": "ipython",
    "version": 3
   },
   "file_extension": ".py",
   "mimetype": "text/x-python",
   "name": "python",
   "nbconvert_exporter": "python",
   "pygments_lexer": "ipython3",
   "version": "3.12.11"
  }
 },
 "nbformat": 4,
 "nbformat_minor": 4
}
