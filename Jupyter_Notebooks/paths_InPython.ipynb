{
 "cells": [
  {
   "cell_type": "markdown",
   "id": "13aaba36-f7e8-44ea-a65b-91f656862a84",
   "metadata": {},
   "source": [
    "\n",
    "<a class=\"reference external\" href=\"https://jupyter.designsafe-ci.org/hub/user-redirect/tree/CommunityData/OpenSees/TrainingMaterial/training-OpenSees-on-DesignSafe/Jupyter_Notebooks/paths_InPython.ipynb\" target=\"_blank\">\n",
    "<img alt=\"Try on DesignSafe\" src=\"https://raw.githubusercontent.com/DesignSafe-Training/pinn/main/DesignSafe-Badge.svg\" /></a>\n",
    "<br>\n",
    "\n",
    "This notebook is part of the **OpenSees-On-DesignSafe Training Module** -- [CLICK HERE to access the Module](https://designsafe-ci.github.io/training-OpenSees-on-DesignSafe/README.html)"
   ]
  },
  {
   "cell_type": "markdown",
   "id": "90a66ccd-e5cd-4fe1-815a-83872dd933c2",
   "metadata": {},
   "source": [
    "# Paths in Python\n",
    "***Working with Paths in Python: os module vs Shell Commands***\n",
    "\n",
    "by Silvia Mazzoni, DesignSafe, 2025\n",
    "\n",
    "When writing scripts that manipulate files or navigate directories, it’s critical to use tools that are **portable, robust, and easy to maintain across systems**.\n",
    "\n",
    "On DesignSafe (and generally on HPC systems), your scripts might run on JupyterHub, a virtual machine, or a batch environment—so writing **path operations in pure Python** ensures they behave consistently everywhere."
   ]
  },
  {
   "cell_type": "code",
   "execution_count": 1,
   "id": "8cccbbff-caeb-459d-afd0-fc0a386f4efc",
   "metadata": {},
   "outputs": [],
   "source": [
    "import os"
   ]
  },
  {
   "cell_type": "markdown",
   "id": "6776c9e5-7c00-4f94-86e0-54c687dace7d",
   "metadata": {},
   "source": [
    "## **os** Python Module\n",
    "\n",
    "The *os.path* module is part of Python’s built-in *os* library and helps you **work with file system paths in a clean, portable way**. Instead of relying on system-specific shell commands like *cd*, *pwd*, or *ls*, *os.path* and related *os* functions let you write code that works consistently across **Linux, macOS, and Windows**.\n",
    "\n",
    "Unlike shell commands, which only **display output to the screen**, Python’s *os* and *os.path* functions **return actual values** (like strings, lists, or booleans) that you can use directly in your code. For example, *os.listdir()* gives you a list of filenames you can iterate over—no parsing, no copy-pasting from the terminal.\n",
    "\n",
    "When comparing options:\n",
    "\n",
    "* *os* and *os.path* are **Python-native** — safe, readable, and portable.\n",
    "* Shell commands like *ls* or *cd* are **fragile** and don’t return data you can use in Python.\n",
    "* *subprocess* is powerful, but better suited for running full programs or system-level tools, not basic path operations.\n",
    "\n",
    "If you're building a workflow that needs to run reliably in different environments—like JupyterHub, VMs, or HPC systems—use *os.path*.\n",
    "\n",
    "### Why use *os.path*?\n",
    "\n",
    "* **Portable:** handles differences between Linux, macOS, and Windows automatically (slashes, etc.).\n",
    "* **Works with Python variables:** no need to parse command output.\n",
    "* **Safe and predictable:** your scripts don’t depend on external shell programs.\n",
    "\n",
    "By contrast:\n",
    "\n",
    "* Shell commands via **os.system()** are less predictable and can’t return values to Python variables.\n",
    "* The **subprocess** module is very powerful for calling external programs (like running OpenSees or SLURM scripts), but it’s overkill for simple file operations.\n",
    "\n",
    "\n",
    "## Examples with *os* and *os.path*\n",
    "\n",
    "| Task                               | Recommended Python Code                   | Shell Equivalent            |\n",
    "| ---------------------------------- | ----------------------------------------- | --------------------------- |\n",
    "| Get current directory              | `os.getcwd()`                             | `pwd`                       |\n",
    "| List files in a directory          | `os.listdir(path)`                        | `ls path`                   |\n",
    "| Change directory                   | `os.chdir(path)`                          | `cd path`                   |\n",
    "| Expand `~` to home directory       | `os.path.expanduser('~')`                 | `echo ~`                    |\n",
    "| Build safe path                    | `os.path.join(dir, file)`                 | `cd dir/subdir` *(fragile)* |\n",
    "| Get absolute path from relative    | `os.path.abspath('myfile.txt')`           | `realpath myfile.txt`       |\n",
    "| Check if a path exists             | `os.path.exists(path)`                    | `test -e path` or `ls`      |\n",
    "| Check if path is file or directory | `os.path.isfile(path)`, `os.path.isdir()` | `file path`, `ls -ld path`  |\n",
    "| Create a directory                 | `os.mkdir(path)`                          | `mkdir path`                |\n",
    "| Create all parent directories      | `os.makedirs(path, exist_ok=True)`        | `mkdir -p path`             |\n",
    "| Rename/move a file                 | `os.rename('old', 'new')`                 | `mv old new`                |\n",
    "| Remove a file                      | `os.remove('file.txt')`                   | `rm file.txt`               |\n",
    "| Remove an empty directory          | `os.rmdir('folder')`                      | `rmdir folder`              |\n",
    "| Remove a directory (recursively)   | `shutil.rmtree('folder')`                 | `rm -r folder`              |\n",
    "| Copy a file                        | `shutil.copy('src', 'dst')`               | `cp src dst`                |\n",
    "| Copy a directory                   | `shutil.copytree('src', 'dst')`           | `cp -r src dst`             |\n",
    "\n",
    "✅ **Tip:** Use the `os` and `os.path` modules for general-purpose, portable path and file manipulation. Use `shutil` when you need higher-level operations like copying or deleting directories -- see below for more on shutil."
   ]
  },
  {
   "cell_type": "markdown",
   "id": "7937dbfa-1694-4ec6-a49f-2e8aa16630d6",
   "metadata": {},
   "source": [
    "---\n",
    "## Check if a path exists\n",
    "***Checking if a path exists with os.path.exists***\n",
    "\n",
    "Before working with any file or directory — such as listing its contents, reading a file, or writing data — it’s good practice to first **check whether the path actually exists on the filesystem**.\n",
    "\n",
    "Python’s `os.path` module provides a simple way to do this:\n",
    "\n",
    "### Why this matters\n",
    "\n",
    "* Running commands on paths that **don’t exist** often causes errors like `FileNotFoundError`.\n",
    "* This is especially important on DesignSafe, where **storage may be mounted differently** on JupyterHub, the OpenSees VM, or Stampede3. A path valid on one system might not exist on another.\n",
    "* Checking existence first makes your scripts more robust and user-friendly — you can print helpful messages or even create missing directories.\n",
    "\n",
    "Adding `os.path.exists` checks into your workflow helps you avoid many common bugs and ensures your code handles different environments gracefully."
   ]
  },
  {
   "cell_type": "code",
   "execution_count": 2,
   "id": "650a201e-2fcb-4932-809c-d4ace18e7d09",
   "metadata": {},
   "outputs": [],
   "source": [
    "# initialize:\n",
    "os.chdir(os.path.expanduser('~')) # start at the home directory, we will discuss these commands"
   ]
  },
  {
   "cell_type": "code",
   "execution_count": 3,
   "id": "106849fb-3d25-4a74-8747-b07cf61e305e",
   "metadata": {},
   "outputs": [
    {
     "name": "stdout",
     "output_type": "stream",
     "text": [
      "The path exists: MyData\n"
     ]
    }
   ],
   "source": [
    "# Check if path exists:\n",
    "thisPath = 'MyData'\n",
    "\n",
    "if os.path.exists(thisPath):\n",
    "    print(f\"The path exists: {thisPath}\")\n",
    "else:\n",
    "    print(f\"Path does not exist: {thisPath}\")"
   ]
  }
 ],
 "metadata": {
  "IMAGE_NAME": "taccsciapps/ds-nb-img:base-0.2.4",
  "UUID": "d1af4976-5d4c-11f0-b54e-52dd1a6c9df8",
  "kernelspec": {
   "display_name": "Python 3 (ipykernel)",
   "language": "python",
   "name": "python3"
  },
  "language_info": {
   "codemirror_mode": {
    "name": "ipython",
    "version": 3
   },
   "file_extension": ".py",
   "mimetype": "text/x-python",
   "name": "python",
   "nbconvert_exporter": "python",
   "pygments_lexer": "ipython3",
   "version": "3.12.11"
  }
 },
 "nbformat": 4,
 "nbformat_minor": 5
}
