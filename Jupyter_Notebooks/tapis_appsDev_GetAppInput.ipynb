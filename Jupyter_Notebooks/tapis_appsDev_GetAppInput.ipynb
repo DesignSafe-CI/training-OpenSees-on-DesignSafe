{
 "cells": [
  {
   "cell_type": "markdown",
   "metadata": {},
   "source": [
    "<a class=\"reference external\" \n",
    "    href=\"https://jupyter.designsafe-ci.org/hub/user-redirect/lab/tree/CommunityData/OpenSees/TrainingMaterial/training-OpenSees-on-DesignSafe/Jupyter_Notebooks/tapis_appsDev_CustomApp_opsmps3copy.ipynb\" \n",
    "    target=\"_blank\"\n",
    "    >\n",
    "<img alt=\"Try on DesignSafe\" src=\"https://raw.githubusercontent.com/DesignSafe-Training/pinn/main/DesignSafe-Badge.svg\" /></a>"
   ]
  },
  {
   "cell_type": "markdown",
   "metadata": {},
   "source": [
    "# Get App Input 📒\n",
    "\n",
    "by Silvia Mazzoni, DesignSafe, 2025\n",
    "\n",
    "Let's write an app to get your user and system-dependent path\n"
   ]
  },
  {
   "cell_type": "code",
   "execution_count": 1,
   "metadata": {},
   "outputs": [],
   "source": [
    "import json"
   ]
  },
  {
   "cell_type": "code",
   "execution_count": 2,
   "metadata": {},
   "outputs": [
    {
     "name": "stdout",
     "output_type": "stream",
     "text": [
      "Using local utilities library\n"
     ]
    }
   ],
   "source": [
    "# Local Utilities Library\n",
    "# you can remove the logic associated with the local path\n",
    "import sys,os\n",
    "relativePath = '../OpsUtils'\n",
    "if os.path.exists(relativePath):\n",
    "    print(\"Using local utilities library\")\n",
    "    PathOpsUtils = os.path.expanduser(relativePath)\n",
    "else:\n",
    "    print('using communitydata')\n",
    "    PathOpsUtils = os.path.expanduser('~/CommunityData/OpenSees/TrainingMaterial/training-OpenSees-on-DesignSafe/OpsUtils')\n",
    "if not PathOpsUtils in sys.path: sys.path.append(PathOpsUtils)\n",
    "from OpsUtils import OpsUtils"
   ]
  },
  {
   "cell_type": "markdown",
   "metadata": {},
   "source": [
    "---\n",
    "## Connect to Tapis"
   ]
  },
  {
   "cell_type": "code",
   "execution_count": 3,
   "metadata": {},
   "outputs": [
    {
     "name": "stdout",
     "output_type": "stream",
     "text": [
      " -- Checking Tapis token --\n",
      " Token loaded from file. Token is still valid!\n",
      " Token expires at: 2025-08-20T22:46:16+00:00\n",
      " Token expires in: 3:57:26.984824\n",
      "-- LOG IN SUCCESSFUL! --\n"
     ]
    }
   ],
   "source": [
    "t=OpsUtils.connect_tapis()"
   ]
  },
  {
   "cell_type": "markdown",
   "metadata": {},
   "source": [
    "---\n",
    "## List ALL Apps"
   ]
  },
  {
   "cell_type": "code",
   "execution_count": 4,
   "metadata": {},
   "outputs": [
    {
     "name": "stdout",
     "output_type": "stream",
     "text": [
      "--\n",
      "\n",
      "created: 2024-12-13T20:15:33.014747Z\n",
      "description: Run shell commands on remote systems\n",
      "id: shell-runner-1.0.0\n",
      "owner: silvia\n",
      "version: 1.0.0\n",
      "--\n",
      "\n",
      "created: 2024-12-14T15:49:21.510206Z\n",
      "description: Run shell commands on remote systems\n",
      "id: shell-runner\n",
      "owner: silvia\n",
      "version: 1.0.0\n",
      "--\n",
      "\n",
      "created: 2025-08-16T16:51:35.355715Z\n",
      "description: Runs all the processors in parallel. Requires understanding of parallel processing and the capabilities to write parallel scripts.\n",
      "id: opensees-mp-s3-silvia\n",
      "owner: silvia\n",
      "version: latest\n",
      "--\n",
      "\n",
      "created: 2025-08-16T18:53:58.422294Z\n",
      "description: Runs all the processors in parallel. Requires understanding of parallel processing and the capabilities to write parallel scripts.\n",
      "id: opensees-mp-s3-silvia-new\n",
      "owner: silvia\n",
      "version: latest\n",
      "--\n",
      "\n",
      "created: 2025-08-17T22:34:01.193589Z\n",
      "description: Runs all the processors in parallel. Requires understanding of parallel processing and the capabilities to write parallel scripts.\n",
      "id: opensees-mp-s3-copy-silvia\n",
      "owner: silvia\n",
      "version: 0.0.2\n",
      "--\n",
      "\n",
      "created: 2025-08-20T18:48:31.436026Z\n",
      "description: Runs all the processors in parallel. Requires understanding of parallel processing and the capabilities to write parallel scripts.\n",
      "id: opensees-mp-s3-copy-mine\n",
      "owner: silvia\n",
      "version: 0.0.6\n",
      "--\n",
      "\n",
      "created: 2025-08-18T02:18:22.973797Z\n",
      "description: Run either OpenSeesSP or OpenSeesMP\n",
      "id: opensees-tcl-mine\n",
      "owner: silvia\n",
      "version: 0.0.1\n",
      "--\n",
      "\n",
      "created: 2025-08-18T04:35:56.608017Z\n",
      "description: Run any OpenSees\n",
      "id: opensees-agnostic\n",
      "owner: silvia\n",
      "version: 0.0.5\n",
      "--\n",
      "\n",
      "created: 2025-08-18T06:19:28.859427Z\n",
      "description: Run any OpenSees\n",
      "id: opensees-agnostic2\n",
      "owner: silvia\n",
      "version: 0.0.3\n",
      "--\n",
      "\n",
      "created: 2025-08-20T04:17:18.959161Z\n",
      "description: Run any Executable\n",
      "id: agnostic-app-test\n",
      "owner: silvia\n",
      "version: 0.0.23\n",
      "--\n",
      "\n",
      "created: 2025-08-20T18:24:58.182260Z\n",
      "description: get work path\n",
      "id: get-work-path-test\n",
      "owner: silvia\n",
      "version: 0.0.14\n"
     ]
    }
   ],
   "source": [
    "listType = 'ALL' # Include all items requester is authorized to view. Includes check for READ or MODIFY permission.\n",
    "select = 'id,created,description,version,owner' # Attributes to return in each result.\n",
    "orderBy = 'created(asc)'\n",
    "results = t.apps.getApps( orderBy=orderBy,\n",
    "                         select=select)  \n",
    "for thisRes in results:\n",
    "    print('--')\n",
    "    print(thisRes)"
   ]
  },
  {
   "cell_type": "markdown",
   "metadata": {},
   "source": [
    "---\n",
    "## Specific App"
   ]
  },
  {
   "cell_type": "code",
   "execution_count": 5,
   "metadata": {},
   "outputs": [],
   "source": [
    "app_id = 'opensees-mp-s3'\n",
    "# app_id = 'opensees-mp-s3-copy-mine'"
   ]
  },
  {
   "cell_type": "code",
   "execution_count": 6,
   "metadata": {},
   "outputs": [
    {
     "name": "stdout",
     "output_type": "stream",
     "text": [
      "dict_keys(['sharedAppCtx', 'isPublic', 'sharedWithUsers', 'tenant', 'id', 'version', 'description', 'owner', 'enabled', 'versionEnabled', 'locked', 'runtime', 'runtimeVersion', 'runtimeOptions', 'containerImage', 'jobType', 'maxJobs', 'maxJobsPerUser', 'strictFileInputs', 'jobAttributes', 'tags', 'notes', 'uuid', 'deleted', 'created', 'updated'])\n",
      " ++ appArgs ++\n",
      "name: mainProgram\n",
      "description: None\n",
      "arg: OpenSeesMP\n",
      "inputMode: FIXED\n",
      "notes: \n",
      "isHidden: True\n",
      "--\n",
      "name: Main Script\n",
      "description: The filename only of the OpenSees TCL script to execute. This file should reside in the Input Directory specified. To use with test input, use 'freeFieldEffective.tcl'\n",
      "arg: None\n",
      "inputMode: REQUIRED\n",
      "notes: \n",
      "inputType: fileInput\n",
      "--\n",
      " ++ envVariables ++\n",
      " ++ fileInputs ++\n",
      "name: Input Directory\n",
      "description: Input directory that includes the tcl script as well as any other required files. Example input is in tapis://designsafe.storage.community/app_examples/opensees/OpenSeesMP\n",
      "inputMode: REQUIRED\n",
      "autoMountLocal: True\n",
      "envKey: inputDirectory\n",
      "notes: \n",
      "selectionMode: directory\n",
      "sourceUrl: None\n",
      "targetPath: inputDirectory\n",
      "--\n"
     ]
    }
   ],
   "source": [
    "def getAppInput(t,app_id):\n",
    "    return 0\n",
    "from tapipy.tapis import TapisResult\n",
    "appMetaData = t.apps.getAppLatestVersion(appId=app_id)\n",
    "app_MetaData = appMetaData.__dict__\n",
    "print(app_MetaData.keys())\n",
    "app_jobAttributes = app_MetaData['jobAttributes'].__dict__\n",
    "app_parameterSet = app_jobAttributes['parameterSet'].__dict__\n",
    "appInputs={}\n",
    "appInputs['appArgs'] = app_parameterSet['appArgs']\n",
    "appInputs['envVariables'] = app_parameterSet['envVariables']\n",
    "appInputs['fileInputs'] = app_jobAttributes['fileInputs']\n",
    "for app_key,app_Dict_List in appInputs.items():\n",
    "    print(f' ++ {app_key} ++')\n",
    "    # app_Dict_List = app_parameterSet[app_key]\n",
    "    for app_Dict in app_Dict_List:\n",
    "        app_Dict = app_Dict.__dict__\n",
    "        app_Dict_keys = list(app_Dict.keys())\n",
    "        myKeyList = ['name','description','arg']\n",
    "        for thisKey in myKeyList:\n",
    "            if thisKey in app_Dict_keys:\n",
    "                app_Dict_keys.remove(thisKey)\n",
    "            else:\n",
    "                myKeyList.remove(thisKey)\n",
    "        thisKeyList = [*myKeyList,*app_Dict_keys]\n",
    "        for thisKey in thisKeyList:\n",
    "            thisVal = app_Dict[thisKey]\n",
    "            print(f'{thisKey}: {thisVal}')\n",
    "        print('--')\n",
    "\n",
    "inputKeys_App = ['id','version']\n",
    "inputKeys_jobAttributes = ['execSystemId', 'execSystemLogicalQueue', 'archiveSystemId', 'archiveSystemDir', 'nodeCount', 'coresPerNode', 'memoryMB', 'maxMinutes']    \n"
   ]
  },
  {
   "cell_type": "code",
   "execution_count": 7,
   "metadata": {},
   "outputs": [
    {
     "name": "stdout",
     "output_type": "stream",
     "text": [
      "{'description': None, 'dynamicExecSystem': False, 'execSystemConstraints': None, 'execSystemId': 'stampede3', 'execSystemExecDir': '${JobWorkingDir}', 'execSystemInputDir': '${JobWorkingDir}', 'execSystemOutputDir': '${JobWorkingDir}', 'dtnSystemInputDir': '!tapis_not_set', 'dtnSystemOutputDir': '!tapis_not_set', 'execSystemLogicalQueue': 'skx', 'archiveSystemId': 'stampede3', 'archiveSystemDir': 'HOST_EVAL($WORK)/tapis-jobs-archive/${JobCreateDate}/${JobName}-${JobUUID}', 'archiveOnAppError': True, 'isMpi': False, 'mpiCmd': None, 'cmdPrefix': None, 'parameterSet': \n",
      "appArgs: [\n",
      "arg: OpenSeesMP\n",
      "description: None\n",
      "inputMode: FIXED\n",
      "name: mainProgram\n",
      "notes: \n",
      "isHidden: True, \n",
      "arg: None\n",
      "description: The filename only of the OpenSees TCL script to execute. This file should reside in the Input Directory specified. To use with test input, use 'freeFieldEffective.tcl'\n",
      "inputMode: REQUIRED\n",
      "name: Main Script\n",
      "notes: \n",
      "inputType: fileInput]\n",
      "archiveFilter: \n",
      "excludes: []\n",
      "includeLaunchFiles: True\n",
      "includes: []\n",
      "containerArgs: []\n",
      "envVariables: []\n",
      "logConfig: \n",
      "stderrFilename: \n",
      "stdoutFilename: \n",
      "schedulerOptions: [\n",
      "arg: --tapis-profile OpenSees_default\n",
      "description: Scheduler profile for the default version of OpenSees\n",
      "inputMode: FIXED\n",
      "name: OpenSees TACC Scheduler Profile\n",
      "notes: \n",
      "isHidden: True], 'fileInputs': [\n",
      "autoMountLocal: True\n",
      "description: Input directory that includes the tcl script as well as any other required files. Example input is in tapis://designsafe.storage.community/app_examples/opensees/OpenSeesMP\n",
      "envKey: inputDirectory\n",
      "inputMode: REQUIRED\n",
      "name: Input Directory\n",
      "notes: \n",
      "selectionMode: directory\n",
      "sourceUrl: None\n",
      "targetPath: inputDirectory], 'fileInputArrays': [], 'nodeCount': 2, 'coresPerNode': 48, 'memoryMB': 192000, 'maxMinutes': 120, 'subscriptions': [], 'tags': []}\n"
     ]
    }
   ],
   "source": [
    "print(app_jobAttributes)"
   ]
  },
  {
   "cell_type": "code",
   "execution_count": 8,
   "metadata": {},
   "outputs": [
    {
     "name": "stdout",
     "output_type": "stream",
     "text": [
      "dict_keys(['description', 'dynamicExecSystem', 'execSystemConstraints', 'execSystemId', 'execSystemExecDir', 'execSystemInputDir', 'execSystemOutputDir', 'dtnSystemInputDir', 'dtnSystemOutputDir', 'execSystemLogicalQueue', 'archiveSystemId', 'archiveSystemDir', 'archiveOnAppError', 'isMpi', 'mpiCmd', 'cmdPrefix', 'parameterSet', 'fileInputs', 'fileInputArrays', 'nodeCount', 'coresPerNode', 'memoryMB', 'maxMinutes', 'subscriptions', 'tags'])\n"
     ]
    }
   ],
   "source": [
    "print(app_jobAttributes.keys())"
   ]
  },
  {
   "cell_type": "code",
   "execution_count": null,
   "metadata": {},
   "outputs": [],
   "source": []
  },
  {
   "cell_type": "code",
   "execution_count": 9,
   "metadata": {},
   "outputs": [
    {
     "name": "stdout",
     "output_type": "stream",
     "text": [
      "dict_keys(['sharedAppCtx', 'isPublic', 'sharedWithUsers', 'tenant', 'id', 'version', 'description', 'owner', 'enabled', 'versionEnabled', 'locked', 'runtime', 'runtimeVersion', 'runtimeOptions', 'containerImage', 'jobType', 'maxJobs', 'maxJobsPerUser', 'strictFileInputs', 'jobAttributes', 'tags', 'notes', 'uuid', 'deleted', 'created', 'updated'])\n"
     ]
    }
   ],
   "source": [
    "print(app_MetaData.keys())"
   ]
  },
  {
   "cell_type": "code",
   "execution_count": null,
   "metadata": {},
   "outputs": [],
   "source": []
  }
 ],
 "metadata": {
  "IMAGE_NAME": "taccsciapps/ds-nb-img:base-0.2.3",
  "UUID": "73e0880d-9b87-11ec-9c1c-13579dd95994",
  "celltoolbar": "Raw Cell Format",
  "kernelspec": {
   "display_name": "Python 3 (ipykernel)",
   "language": "python",
   "name": "python3"
  },
  "language_info": {
   "codemirror_mode": {
    "name": "ipython",
    "version": 3
   },
   "file_extension": ".py",
   "mimetype": "text/x-python",
   "name": "python",
   "nbconvert_exporter": "python",
   "pygments_lexer": "ipython3",
   "version": "3.12.11"
  }
 },
 "nbformat": 4,
 "nbformat_minor": 4
}
