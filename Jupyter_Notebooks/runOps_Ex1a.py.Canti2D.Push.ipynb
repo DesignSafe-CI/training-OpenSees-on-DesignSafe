{
 "cells": [
  {
   "cell_type": "markdown",
   "id": "4fa0db58-994b-4f2c-b7ad-8055fb820988",
   "metadata": {},
   "source": [
    "<a class=\"reference external\" \n",
    "    href=\"https://jupyter.designsafe-ci.org/hub/user-redirect/lab/tree/CommunityData/OpenSees/TrainingMaterial/training-OpenSees-on-DesignSafe/Jupyter_Notebooks/runOps_Ex1a.py.Canti2D.Push.ipynb\" \n",
    "    target=\"_blank\"\n",
    "    >\n",
    "<img alt=\"Try on DesignSafe\" src=\"https://raw.githubusercontent.com/DesignSafe-Training/pinn/main/DesignSafe-Badge.svg\" /></a>"
   ]
  },
  {
   "cell_type": "markdown",
   "id": "1cca0f0e-b5e8-4fdd-9ca3-25df5af87947",
   "metadata": {},
   "source": [
    "# OpenSeesPy Interactive\n",
    "***Interactive OpenSeesPy Modeling, Analysis, and Automation — All in One Place***\n",
    "\n",
    "by Silvia Mazzoni, DesignSafe, 2025"
   ]
  },
  {
   "cell_type": "markdown",
   "id": "25cb4736-a33e-4616-a1cb-d15834094574",
   "metadata": {},
   "source": [
    "---\n",
    "Jupyter Notebooks provide a powerful, flexible environment for working with OpenSees. Whether you're:\n",
    "\n",
    "* Building models directly in Python using **OpenSeesPy**,\n",
    "* Running **Tcl scripts** via command-line calls, or\n",
    "* Submitting **HPC jobs** using the **Tapis API**,\n",
    "\n",
    "you can handle every phase of your workflow—**scripting, visualization, submission, and post-processing**—within a single notebook.\n",
    "\n",
    "With support for embedded plots, tables, and explanatory text alongside your code, Jupyter Notebooks let you create a **self-contained, shareable document** that combines input, output, and analysis.\n",
    "\n",
    "For advanced workflows, you can even integrate **interactive widgets** (e.g., buttons, sliders, dropdowns) to build custom dashboards—ideal for parametric studies, batch execution, and data exploration. This transforms your notebook into a powerful interface for OpenSees-based research.\n",
    "\n",
    "## Running OpenSees Interactively in a Notebook\n",
    "\n",
    "Interactive OpenSees execution is supported for **sequential analyses** or methods that don’t rely on MPI. Running interactively is especially useful for:\n",
    "\n",
    "* Testing your scripts,\n",
    "* Verifying the simulation environment, and\n",
    "* Iteratively debugging or refining your model.\n",
    "\n",
    "We recommend using Jupyter Notebooks to run OpenSees interactively during model development. This setup makes it easy to experiment, edit, and visualize your results—all in one place.\n"
   ]
  },
  {
   "cell_type": "markdown",
   "id": "c82761b8-b4ff-48bc-9738-469228a4008d",
   "metadata": {},
   "source": [
    "## OpenSees Example 1a. 2D Elastic Cantilever Column -- Static Pushover\n",
    "\n",
    "**Example File from the OpenSees Examples Manual Examples**\n",
    "\n",
    "You can find the original Examples:<br>\n",
    "https://opensees.berkeley.edu/wiki/index.php/Examples_Manual<br>\n",
    "Original Examples by By Silvia Mazzoni & Frank McKenna, 2006, in Tcl<br>\n",
    "Converted to OpenSeesPy by SilviaMazzoni, 2020<br>\n",
    "\n",
    "---\n",
    "    \n",
    "## Introduction\n",
    "Example 1a is a simple model of an elastic cantilever column. <br>\n",
    "Objectives of Example 1a:\n",
    "<li>overview of basic OpenSees input structure</li>\n",
    "<li>coordinates, boundary conditions, element connectivity, nodal masses, nodal loads, etc.</li>\n",
    "<li>two nodes, one element</li>\n",
    "    \n",
    "<img src=\"https://opensees.berkeley.edu/wiki/images/e/ec/Example1a_Push.GIF\">\n",
    "\n",
    "## Simulation Process\n",
    "\n",
    "Each example script does the following:\n",
    "\n",
    "### A. Build the model\n",
    "<ol>\n",
    "    <li>model dimensions and degrees-of-freedom</li>\n",
    "    <li>nodal coordinates</li>\n",
    "    <li>nodal constraints -- boundary conditions</li>\n",
    "    <li>nodal masses</li>\n",
    "    <li>elements and element connectivity</li>\n",
    "    <li>recorders for output</li>\n",
    "</ol>\n",
    "\n",
    "### B. Define & apply gravity load\n",
    "<ol>\n",
    "    <li>nodal or element load</li>\n",
    "    <li>static-analysis parameters (tolerances & load increments)</li>\n",
    "    <li>analyze</li>\n",
    "    <li>hold gravity loads constant</li>\n",
    "    <li>reset time to zero</li>\n",
    "</ol>\n",
    "\n",
    "### C. Define and apply lateral load\n",
    "<ul>\n",
    "<li>Time Series and Load Pattern (nodal loads for static analysis, support ground motion for earthquake)</li>\n",
    "<li>lateral-analysis parameters (tolerances and displacement/time increments)</li>\n",
    "<i>Static Lateral-Load Analysis</i>\n",
    "<li>define the displacement increments and displacement path</li>\n",
    "</ul>"
   ]
  },
  {
   "cell_type": "code",
   "execution_count": 1,
   "id": "0714dfc5-333c-40b1-8ca2-4a29604905ff",
   "metadata": {},
   "outputs": [],
   "source": [
    "############################################################\n",
    "#  EXAMPLE: \n",
    "#       Ex1a.Canti2D.Push.py\n",
    "#          for OpenSeesPy\n",
    "#  --------------------------------------------------------#\n",
    "#  by: Silvia Mazzoni, 2020\n",
    "#       silviamazzoni@yahoo.com\n",
    "############################################################\n",
    "# This file was obtained from a conversion of the updated Tcl script\n",
    "# You can find the original Examples:\n",
    "# https://opensees.berkeley.edu/wiki/index.php/Examples_Manual\n",
    "# Original Examples by By Silvia Mazzoni & Frank McKenna, 2006, in Tcl\n",
    "# Converted to OpenSeesPy by SilviaMazzoni, 2020\n",
    "############################################################\n",
    "# --------------------------------------------------------------------------------------------------\n",
    "# Example 1. cantilever 2D\n",
    "# static pushover analysis with gravity.\n",
    "# all units are in kip, inch, second\n",
    "# elasticBeamColumn ELEMENT\n",
    "#\t\t\tSilvia Mazzoni & Frank McKenna, 2006\n",
    "#\n",
    "#    ^Y\n",
    "#    |\n",
    "#    2       __ \n",
    "#    |         | \n",
    "#    |         | \n",
    "#    |         | \n",
    "#  (1)      36'\n",
    "#    |         | \n",
    "#    |         | \n",
    "#    |         | \n",
    "#  =1=    ----  -------->X\n",
    "#\n",
    "#"
   ]
  },
  {
   "cell_type": "code",
   "execution_count": 2,
   "id": "c9abba21-1614-4973-8474-5f694ffb0f0c",
   "metadata": {},
   "outputs": [],
   "source": [
    "# you may to do this once at the beginning of your session, and then comment it back\n",
    "# %pip install OpenSeesPy"
   ]
  },
  {
   "cell_type": "code",
   "execution_count": 3,
   "id": "1fcfedf4-d442-43ad-a3ea-422385074713",
   "metadata": {},
   "outputs": [],
   "source": [
    "# Configure Python\n",
    "import openseespy.opensees as ops\n",
    "import numpy as numpy\n",
    "import matplotlib.pyplot as plt\n",
    "import os"
   ]
  },
  {
   "cell_type": "markdown",
   "id": "e0a0181b-84e8-464a-96bd-3dfd558e6493",
   "metadata": {},
   "source": [
    "### Move to user's home directory\n",
    "This way you can save files to your home path -- you can't write to CommunityData"
   ]
  },
  {
   "cell_type": "code",
   "execution_count": 4,
   "id": "f736e315-2b4d-4fe5-84cc-60452c136521",
   "metadata": {},
   "outputs": [
    {
     "name": "stdout",
     "output_type": "stream",
     "text": [
      "current directory: /home/jupyter\n"
     ]
    }
   ],
   "source": [
    "os.chdir(os.path.expanduser('~')) # ~ the tilda is a shortcut to the uers's home path.\n",
    "cwd = os.getcwd()\n",
    "print('current directory:',cwd)"
   ]
  },
  {
   "cell_type": "markdown",
   "id": "e6f8752e-31c0-4a8a-a608-4b9ca3236c70",
   "metadata": {},
   "source": [
    "### Create a temporary directory for our data and move to it\n",
    "We want the directory to be within MyData."
   ]
  },
  {
   "cell_type": "code",
   "execution_count": 5,
   "id": "5e4b1806-cfcb-46da-aadf-cab1e210ce04",
   "metadata": {},
   "outputs": [
    {
     "name": "stdout",
     "output_type": "stream",
     "text": [
      "new current directory: /home/jupyter/MyData/tmp_training\n"
     ]
    }
   ],
   "source": [
    "tmpDir = 'MyData/tmp_training'\n",
    "os.makedirs(tmpDir, exist_ok=True)\n",
    "os.chdir(tmpDir)\n",
    "cwd = os.getcwd()\n",
    "print('new current directory:',cwd)"
   ]
  },
  {
   "cell_type": "code",
   "execution_count": 6,
   "id": "359ab907-ce66-4b38-90b7-f473d43f4fff",
   "metadata": {},
   "outputs": [],
   "source": [
    "LColList = [100,120,200,240,300,360,400,480]\n",
    "#-----------------------------------------\n",
    "dataDir=f'DataPYnb';                # set up name of data directory\n",
    "os.makedirs(dataDir, exist_ok=True);    # create data directory"
   ]
  },
  {
   "cell_type": "code",
   "execution_count": 7,
   "id": "50e7798b-1171-4532-977a-921caa4cb47c",
   "metadata": {},
   "outputs": [
    {
     "name": "stdout",
     "output_type": "stream",
     "text": [
      "Analysis-0 execution done\n",
      "Analysis-1 execution done\n",
      "Analysis-2 execution done\n",
      "Analysis-3 execution done\n",
      "Analysis-4 execution done\n",
      "Analysis-5 execution done\n",
      "Analysis-6 execution done\n",
      "Analysis-7 execution done\n",
      "ALL DONE!!!\n"
     ]
    }
   ],
   "source": [
    "count = 0;\n",
    "for Lcol in LColList:\n",
    "    ops.wipe()\n",
    "\n",
    "    # SET UP ----------------------------------------------------------------------------\n",
    "    ops.wipe()     #  clear opensees model\n",
    "    ops.model('basic','-ndm',2,'-ndf',3)     #  2 dimensions, 3 dof per node\n",
    "\n",
    "    # define GEOMETRY -------------------------------------------------------------\n",
    "    # nodal coordinates:\n",
    "    ops.node(1,0,0)     #  node , X Y\n",
    "    ops.node(2,0,Lcol)\n",
    "\n",
    "    # Single point constraints -- Boundary Conditions\n",
    "    ops.fix(1,1,1,1)     #  node DX DY RZ\n",
    "\n",
    "    # nodal masses:\n",
    "    ops.mass(2,5.18,0.,0.)     #  node , Mx My Mz, Mass=Weight/g.\n",
    "\n",
    "    # Define ELEMENTS -------------------------------------------------------------\n",
    "    # define geometric transformation: performs a linear geometric transformation of beam stiffness\n",
    "    # and resisting force from the basic system to the global-coordinate system\n",
    "    ops.geomTransf('Linear',1)     #  associate a tag to transformation\n",
    "\n",
    "    # element elasticBeamColumn eleTag iNode jNode A E Iz transfTag\n",
    "    ops.element('elasticBeamColumn',1,1,2,3600000000,4227,1080000,1)\n",
    "\n",
    "    # Define RECORDERS -------------------------------------------------------------\n",
    "    ops.recorder('Node','-file',f'{dataDir}/DFree_Lcol{Lcol}.out','-time','-node',2,'-dof',1,2,3,'disp')     #  displacements of free nodes\n",
    "    ops.recorder('Node','-file',f'{dataDir}/DBase_Lcol{Lcol}.out','-time','-node',1,'-dof',1,2,3,'disp')     #  displacements of support nodes\n",
    "    ops.recorder('Node','-file',f'{dataDir}/RBase_Lcol{Lcol}.out','-time','-node',1,'-dof',1,2,3,'reaction')     #  support reaction\n",
    "    ops.recorder('Element','-file',f'{dataDir}/FCol_Lcol{Lcol}.out','-time','-ele',1,'globalForce')     #  element forces -- column\n",
    "    ops.recorder('Element','-file',f'{dataDir}/DCol_Lcol{Lcol}.out','-time','-ele',1,'deformation')     #  element deformations -- column\n",
    "\n",
    "\n",
    "    # define GRAVITY -------------------------------------------------------------\n",
    "    ops.timeSeries('Linear',1)     # timeSeries Linear 1;\n",
    "    ops.pattern('Plain',1,1) # \n",
    "    ops.load(2,0.,-2000.,0.)     #  node , FX FY MZ -- superstructure-weight\n",
    "    ops.wipeAnalysis()     # adding this to clear Analysis module \n",
    "    ops.constraints('Plain')     #  how it handles boundary conditions\n",
    "    ops.numberer('Plain')     #  renumber dofs to minimize band-width (optimization), if you want to\n",
    "    ops.system('BandGeneral')     #  how to store and solve the system of equations in the analysis\n",
    "    ops.test('NormDispIncr',1.0e-8,6)     #  determine if convergence has been achieved at the end of an iteration step\n",
    "    ops.algorithm('Newton')     #  use Newtons solution algorithm: updates tangent stiffness at every iteration\n",
    "    ops.integrator('LoadControl',0.1)     #  determine the next time step for an analysis,   apply gravity in 10 steps\n",
    "    ops.analysis('Static')     #  define type of analysis static or transient\n",
    "    ops.analyze(10)     #  perform gravity analysis\n",
    "    ops.loadConst('-time',0.0)     #  hold gravity constant and restart time\n",
    "\n",
    "    # define LATERAL load -------------------------------------------------------------\n",
    "    ops.timeSeries('Linear',2)     # timeSeries Linear 2;\n",
    "    ops.pattern('Plain',2,2) # \n",
    "    ops.load(2,2000.,0.0,0.0)     #  node , FX FY MZ -- representative lateral load at top node\n",
    "\n",
    "    # pushover: diplacement controlled static analysis\n",
    "    ops.integrator('DisplacementControl',2,1,0.1)     #  switch to displacement control, for node 11, dof 1, 0.1 increment\n",
    "    ops.analyze(1000)     #  apply 100 steps of pushover analysis to a displacement of 10\n",
    "\n",
    "    print(f'Analysis-{count} execution done')\n",
    "\n",
    "    count +=1\n",
    "print(f\"ALL DONE!!!\")"
   ]
  },
  {
   "cell_type": "code",
   "execution_count": 8,
   "id": "8d48ecda-d052-4309-8685-f82d4f5607cb",
   "metadata": {},
   "outputs": [
    {
     "name": "stdout",
     "output_type": "stream",
     "text": [
      "relative path: DataPYnb\n",
      "absolute path: /home/jupyter/MyData/tmp_training/DataPYnb\n",
      "current directory: /home/jupyter/MyData/tmp_training\n"
     ]
    }
   ],
   "source": [
    "# check paths:\n",
    "print('relative path:',os.path.expanduser(dataDir))\n",
    "print('absolute path:',os.path.abspath(dataDir))\n",
    "\n",
    "print('current directory:',os.getcwd())"
   ]
  },
  {
   "cell_type": "code",
   "execution_count": 9,
   "id": "84efff5d-bff6-4090-82f0-6e9e47438b83",
   "metadata": {},
   "outputs": [
    {
     "name": "stdout",
     "output_type": "stream",
     "text": [
      "End of Run\n"
     ]
    },
    {
     "data": {
      "image/png": "[encoded data removed]",
      "text/plain": [
       "<Figure size 640x480 with 2 Axes>"
      ]
     },
     "metadata": {},
     "output_type": "display_data"
    }
   ],
   "source": [
    "# Plot Results\n",
    "ops.wipe()\n",
    "plt.close('all')\n",
    "fname3 = f'{dataDir}/DFree_Lcol{Lcol}.out'\n",
    "dataDFree = numpy.loadtxt(fname3)\n",
    "plt.subplot(211)\n",
    "plt.title(f'Ex1a.Canti2D.Push.nb.py Lcol{Lcol}')\n",
    "plt.grid(True)\n",
    "plt.plot(dataDFree[:,1])\n",
    "plt.xlabel('Step Number')\n",
    "plt.ylabel(f'Free-Node Disp.')\n",
    "plt.subplot(212)\n",
    "plt.grid(True)\n",
    "plt.plot(dataDFree[:,1],dataDFree[:,0])\n",
    "plt.xlabel('Free-Node Disp.')\n",
    "plt.ylabel('Pseudo-Time\\n (~Force)')\n",
    "print('End of Run')"
   ]
  },
  {
   "cell_type": "code",
   "execution_count": 10,
   "id": "730ff2d1-7826-41d5-ba2c-a2542fd93ad8",
   "metadata": {},
   "outputs": [
    {
     "name": "stdout",
     "output_type": "stream",
     "text": [
      "done!\n"
     ]
    }
   ],
   "source": [
    "print('done!')"
   ]
  }
 ],
 "metadata": {
  "IMAGE_NAME": "taccsciapps/ds-nb-img:base-0.2.3",
  "UUID": "a0470772-6bd3-11ef-93ab-c6c1c859e9a6",
  "kernelspec": {
   "display_name": "Python 3 (ipykernel)",
   "language": "python",
   "name": "python3"
  },
  "language_info": {
   "codemirror_mode": {
    "name": "ipython",
    "version": 3
   },
   "file_extension": ".py",
   "mimetype": "text/x-python",
   "name": "python",
   "nbconvert_exporter": "python",
   "pygments_lexer": "ipython3",
   "version": "3.12.11"
  }
 },
 "nbformat": 4,
 "nbformat_minor": 5
}
