{
 "cells": [
  {
   "cell_type": "markdown",
   "id": "13aaba36-f7e8-44ea-a65b-91f656862a84",
   "metadata": {},
   "source": [
    "<a class=\"reference external\" href=\"https://jupyter.designsafe-ci.org/hub/user-redirect/lab/tree/CommunityData/OpenSees/TrainingMaterial/training-OpenSees-on-DesignSafe/Jupyter_Notebooks/paths_InPython_RootAndHome.ipynb\" target=\"_blank\">\n",
    "<img alt=\"Try on DesignSafe\" src=\"https://raw.githubusercontent.com/DesignSafe-Training/pinn/main/DesignSafe-Badge.svg\" /></a>"
   ]
  },
  {
   "cell_type": "markdown",
   "id": "90a66ccd-e5cd-4fe1-815a-83872dd933c2",
   "metadata": {},
   "source": [
    "# Root & Home Paths\n",
    "\n",
    "by Silvia Mazzoni, DesignSafe, 2025"
   ]
  },
  {
   "cell_type": "markdown",
   "id": "618f0a3a-d3b5-4138-8300-875945b703f6",
   "metadata": {},
   "source": [
    "When working in Jupyter environments, the **full absolute path is often hidden behind a simplified interface**. You typically start navigating at directories like *MyData*, *Work*, or *MyProjects*, without seeing the full path that comes before them. However, these base paths do exist—and they vary depending on the system you’re using.\n",
    "\n",
    "On DesignSafe, this is especially important because **the same storage systems appear differently across platforms**. For example:\n",
    "\n",
    "* JupyterHub mounts **MyData** under **/home/jupyter/MyData/**\n",
    "* Stampede3 doesn’t mount **MyData** at all, but uses your **\\$HOME** directory instead, which is part of a different storage system.\n",
    "* Tapis uses URI-style paths like **tapis\\://designsafe.storage.default/username/** (more on this later...)\n",
    "\n",
    "Understanding these differences is key to writing scripts and workflows that are portable and error-free across all of DesignSafe’s environments.\n",
    "\n",
    "### The root directory (`/`) vs. your home directory (`~`)\n",
    "\n",
    "When talking about file systems on UNIX-like systems (including Linux, macOS, and the systems powering JupyterHub and Stampede3), it’s important to distinguish between:\n",
    "\n",
    "* **The root directory `/`**\n",
    "    This is the **top of the entire file system hierarchy**. Everything on the machine—system files, programs, shared data, and user directories—lives somewhere under **/**.  \n",
    "\n",
    "    Examples of absolute paths from root include::\n",
    "    ```\n",
    "    /\n",
    "    /home\n",
    "    /scratch\n",
    "    /usr/bin\n",
    "    ```\n",
    "\n",
    "* **Your home directory `~`**\n",
    "    This is a **shortcut to your personal user space**, sometimes called your “home directory.”\n",
    "    It’s where your files, configurations, and most project work reside. Typical absolute equivalents look like:\n",
    "    ```\n",
    "    /home/silvia\n",
    "    or\n",
    "    /Users/silvia\n",
    "    ````\n",
    "\n",
    "In other words, `/` is the root for **the whole machine**, while `~` is the root for **your own user environment**. That’s why `~` is sometimes described as “the root of your personal space.”\n",
    "\n",
    "### Why does this matter?\n",
    "\n",
    "* When you use `/` to start a path, you’re telling the system to look from the very top. For example:\n",
    "\n",
    "  ```\n",
    "  /usr/bin/python\n",
    "  /scratch/myproject/output.txt\n",
    "  ```\n",
    "\n",
    "  These are **system-level paths**—they exist independently of who’s logged in.\n",
    "\n",
    "* When you use `~`, you’re telling the system to look in **your own user directory**. For example:\n",
    "\n",
    "  ```\n",
    "  ~/my-scripts/run-opensees.sh\n",
    "  ~/results/output.dat\n",
    "  ```\n",
    "\n",
    "  These are **specific to your user**, making them portable and safer (you won’t accidentally mess with system files)."
   ]
  },
  {
   "cell_type": "code",
   "execution_count": 1,
   "id": "8cccbbff-caeb-459d-afd0-fc0a386f4efc",
   "metadata": {},
   "outputs": [],
   "source": [
    "import os"
   ]
  },
  {
   "cell_type": "markdown",
   "id": "ec92fd94-1e02-41ef-b7b9-f285963115ff",
   "metadata": {},
   "source": [
    "### Example with `/` in Python"
   ]
  },
  {
   "cell_type": "code",
   "execution_count": 2,
   "id": "d6c32b00-b9eb-4248-a291-ebf4677a99ec",
   "metadata": {},
   "outputs": [
    {
     "name": "stdout",
     "output_type": "stream",
     "text": [
      "Path: /\n",
      "Expanded: /\n"
     ]
    }
   ],
   "source": [
    "thisPath = '/'\n",
    "expanded = os.path.abspath(os.path.expanduser(thisPath))\n",
    "\n",
    "print(f\"Path: {thisPath}\")\n",
    "print(f\"Expanded: {expanded}\")"
   ]
  },
  {
   "cell_type": "code",
   "execution_count": 3,
   "id": "e1985603-395e-4b2c-94ff-7c892c49f1e4",
   "metadata": {},
   "outputs": [
    {
     "name": "stdout",
     "output_type": "stream",
     "text": [
      "\n",
      " Get contents using: os.listdir('/'): ['media', 'home', 'sbin', 'proc', 'boot', 'opt', 'tmp', 'usr', 'mnt', 'dev', 'var', 'sys', 'srv', 'bin', 'etc', 'run', 'lib', 'root', 'lib64', 'sbin.usr-is-merged', 'bin.usr-is-merged', 'lib.usr-is-merged']\n"
     ]
    }
   ],
   "source": [
    "AllContents = os.listdir(expanded)\n",
    "print(f\"\\n Get contents using: os.listdir('{thisPath}'): {AllContents}\")"
   ]
  },
  {
   "cell_type": "markdown",
   "id": "50e5332b-a394-4f85-9b9d-e2b844329cb9",
   "metadata": {},
   "source": [
    "### Example with `~` in Python"
   ]
  },
  {
   "cell_type": "code",
   "execution_count": 4,
   "id": "710c946a-a915-414a-898e-2641d43fb7b7",
   "metadata": {},
   "outputs": [
    {
     "name": "stdout",
     "output_type": "stream",
     "text": [
      "Path: ~\n",
      "Expanded: /home/jupyter\n"
     ]
    }
   ],
   "source": [
    "Path = '~'\n",
    "expanded = os.path.expanduser(Path)\n",
    "\n",
    "print(f\"Path: {Path}\")\n",
    "print(f\"Expanded: {expanded}\")"
   ]
  },
  {
   "cell_type": "code",
   "execution_count": 5,
   "id": "33737c3c-91bc-4f80-91d9-36adb4022aef",
   "metadata": {},
   "outputs": [
    {
     "name": "stdout",
     "output_type": "stream",
     "text": [
      "\n",
      " Get contents using: os.listdir('~'): ['.profile', '.bashrc', '.bash_logout', '.tapis_tokens.json', '.local', '.ipython', '.ipynb_checkpoints', '.cache', 'Work', '.config', '.tapis-token', 'MyProjects', 'CommunityData', 'NEES', 'NHERI-Published', 'MyData', '.jupyter', '.wget-hsts', '.julia', '.bash_history', '.matlab']\n"
     ]
    }
   ],
   "source": [
    "AllContents = os.listdir(expanded)\n",
    "print(f\"\\n Get contents using: os.listdir('{Path}'): {AllContents}\")"
   ]
  },
  {
   "cell_type": "markdown",
   "id": "23a38ef5-599e-4046-94fe-f13f8429d606",
   "metadata": {},
   "source": [
    "This shows that `\"~\"` is **not the same as `/`**—it expands to your personal home directory.\n",
    "\n",
    "\n",
    "| Symbol | Means                             |\n",
    "| ------ | --------------------------------- |\n",
    "| `/`    | **root of the entire filesystem** |\n",
    "| `~`    | **your user’s home directory**    |\n",
    "\n",
    "\n",
    "\n",
    "### In practice\n",
    "\n",
    "Understanding this difference is crucial when writing absolute paths.\n",
    "\n",
    "* If you use `/`, you start from the very top of the machine’s filesystem. This is required when referencing global locations or shared directories.\n",
    "\n",
    "* If you use `~`, you start from your personal space. This is safer and more portable—especially across different systems on DesignSafe—since it doesn’t depend on system-level structures that might change.\n",
    "\n",
    "This distinction also helps you avoid mistakes like trying to list or modify system directories (`/etc`, `/usr`) when you really meant to work inside your own files."
   ]
  }
 ],
 "metadata": {
  "IMAGE_NAME": "taccsciapps/ds-nb-img:base-0.2.4",
  "UUID": "d1af4976-5d4c-11f0-b54e-52dd1a6c9df8",
  "kernelspec": {
   "display_name": "Python 3 (ipykernel)",
   "language": "python",
   "name": "python3"
  },
  "language_info": {
   "codemirror_mode": {
    "name": "ipython",
    "version": 3
   },
   "file_extension": ".py",
   "mimetype": "text/x-python",
   "name": "python",
   "nbconvert_exporter": "python",
   "pygments_lexer": "ipython3",
   "version": "3.12.11"
  }
 },
 "nbformat": 4,
 "nbformat_minor": 5
}
