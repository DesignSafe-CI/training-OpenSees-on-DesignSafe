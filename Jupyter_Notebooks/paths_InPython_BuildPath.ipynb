{
 "cells": [
  {
   "cell_type": "markdown",
   "id": "13aaba36-f7e8-44ea-a65b-91f656862a84",
   "metadata": {},
   "source": [
    "\n",
    "<a class=\"reference external\" href=\"https://jupyter.designsafe-ci.org/hub/user-redirect/tree/CommunityData/OpenSees/TrainingMaterial/training-OpenSees-on-DesignSafe/Jupyter_Notebooks/paths_InPython_BuildPath.ipynb\" target=\"_blank\">\n",
    "<img alt=\"Try on DesignSafe\" src=\"https://raw.githubusercontent.com/DesignSafe-Training/pinn/main/DesignSafe-Badge.svg\" /></a>\n",
    "<br>\n",
    "\n",
    "This notebook is part of the **OpenSees-On-DesignSafe Training Module** -- [CLICK HERE to access the Module](https://designsafe-ci.github.io/training-OpenSees-on-DesignSafe/README.html)"
   ]
  },
  {
   "cell_type": "markdown",
   "id": "90a66ccd-e5cd-4fe1-815a-83872dd933c2",
   "metadata": {},
   "source": [
    "# Building Paths\n",
    "***Working with Paths in Python: os module vs Shell Commands***\n",
    "\n",
    "by Silvia Mazzoni, DesignSafe, 2025\n",
    "\n",
    "When writing scripts that manipulate files or navigate directories, it’s critical to use tools that are **portable, robust, and easy to maintain across systems**.\n",
    "\n",
    "On DesignSafe (and generally on HPC systems), your scripts might run on JupyterHub, a virtual machine, or a batch environment—so writing **path operations in pure Python** ensures they behave consistently everywhere."
   ]
  },
  {
   "cell_type": "code",
   "execution_count": 1,
   "id": "8cccbbff-caeb-459d-afd0-fc0a386f4efc",
   "metadata": {},
   "outputs": [],
   "source": [
    "import os"
   ]
  },
  {
   "cell_type": "markdown",
   "id": "c2080af8-3e4e-4ddb-8f6f-95200c5a15ac",
   "metadata": {},
   "source": [
    "---\n",
    "##  Building Paths with `os.path.join()`\n",
    "\n",
    "When you're working with files and folders in Python, you’ll often need to build complete paths from smaller parts — like combining a base directory with a filename.\n",
    "\n",
    "Instead of writing paths as long strings, Python provides a better tool: `os.path.join()`.\n",
    "\n",
    "### Why Use `os.path.join()`?\n",
    "\n",
    "Manually typing out full paths like this:\n",
    "\n",
    "```python\n",
    "file_path = \"/home/user/data/simulation/input.txt\"\n",
    "```\n",
    "\n",
    "might seem fine, but it’s **fragile and system-dependent**:\n",
    "\n",
    "* You might **mistype** a slash (`/` or `\\`)\n",
    "* It **won’t work across platforms** (e.g., Windows vs Linux)\n",
    "* It’s **hard to maintain** or reuse if directory names change\n",
    "\n",
    "Using `os.path.join()` solves all of that:\n"
   ]
  },
  {
   "cell_type": "code",
   "execution_count": 2,
   "id": "dc5c39f7-08d9-4a7a-9b65-0a94e1ca8b50",
   "metadata": {},
   "outputs": [
    {
     "name": "stdout",
     "output_type": "stream",
     "text": [
      "/home/user/data/simulation/input.txt\n"
     ]
    }
   ],
   "source": [
    "base_dir = \"/home/user/data/simulation\"\n",
    "filename = \"input.txt\"\n",
    "\n",
    "file_path = os.path.join(base_dir, filename)\n",
    "print(file_path) # it even fixes all the / and \\"
   ]
  },
  {
   "cell_type": "code",
   "execution_count": 3,
   "id": "3e1d6b76-9a29-4582-ba23-46ff852f1ca2",
   "metadata": {},
   "outputs": [
    {
     "name": "stdout",
     "output_type": "stream",
     "text": [
      "Project path: /home/jupyter/CommunityData/OpenSees\n"
     ]
    }
   ],
   "source": [
    "project_path = os.path.join('/home/jupyter', 'CommunityData', 'OpenSees')\n",
    "print(\"Project path:\", project_path)"
   ]
  },
  {
   "cell_type": "markdown",
   "id": "45b51b7e-316e-4e2f-bb20-9e820887fbe2",
   "metadata": {},
   "source": [
    "Using `os.path.join()` helps your scripts work reliably **across platforms**, and makes your code easier to maintain, debug, and reuse — especially in Jupyter notebooks, HPC workflows, or automation pipelines."
   ]
  },
  {
   "cell_type": "markdown",
   "id": "67d08d1e-cdbb-4fa4-9bf2-e95e1076a639",
   "metadata": {},
   "source": [
    "### Troubleshooting common mistakes\n",
    "\n",
    "* **~ is not automatically expanded** in *os.path.join*.\n",
    "\n",
    "* **os.chdir** only affects the **current Python process**. It doesn’t change your system’s terminal session.\n",
    "\n",
    "* Mixing hard-coded slashes (*'/'* or *'\\\\'*) makes scripts fragile across systems. Always use `os.path.join`.\n"
   ]
  },
  {
   "cell_type": "code",
   "execution_count": 4,
   "id": "512d8c0b-aaff-4b66-bbfa-0a6caa3d67f0",
   "metadata": {},
   "outputs": [
    {
     "data": {
      "text/plain": [
       "'~/MyData'"
      ]
     },
     "execution_count": 4,
     "metadata": {},
     "output_type": "execute_result"
    }
   ],
   "source": [
    "os.path.join('~', 'MyData')  # WRONG: stays literally as ~/MyData"
   ]
  },
  {
   "cell_type": "code",
   "execution_count": 5,
   "id": "c9583240-9de7-459c-b37e-60fe67e4c1ae",
   "metadata": {},
   "outputs": [
    {
     "data": {
      "text/plain": [
       "False"
      ]
     },
     "execution_count": 5,
     "metadata": {},
     "output_type": "execute_result"
    }
   ],
   "source": [
    "os.path.exists(os.path.join('~', 'MyData'))"
   ]
  },
  {
   "cell_type": "code",
   "execution_count": 6,
   "id": "a110af12-fcd2-4c02-b1a2-9167255c7648",
   "metadata": {},
   "outputs": [
    {
     "data": {
      "text/plain": [
       "'/home/jupyter/MyData'"
      ]
     },
     "execution_count": 6,
     "metadata": {},
     "output_type": "execute_result"
    }
   ],
   "source": [
    "# Instead:\n",
    "os.path.join(os.path.expanduser('~'), 'MyData')  # CORRECT"
   ]
  },
  {
   "cell_type": "code",
   "execution_count": 7,
   "id": "5f650619-2096-42fa-9530-ecd1b44b9be6",
   "metadata": {},
   "outputs": [
    {
     "data": {
      "text/plain": [
       "True"
      ]
     },
     "execution_count": 7,
     "metadata": {},
     "output_type": "execute_result"
    }
   ],
   "source": [
    "os.path.exists(os.path.join(os.path.expanduser('~'), 'MyData'))"
   ]
  },
  {
   "cell_type": "markdown",
   "id": "1270da83-6f5b-4c72-b7bb-f7955e5546bf",
   "metadata": {},
   "source": [
    "## Split Paths with os.path.split()\n",
    "\n",
    "When working with file paths in Python, it's often useful to **break them apart into their components**—for example, separating a filename from its directory, or stripping off a file extension. This is especially important when building automated workflows that need to modify, move, or analyze files dynamically. The `os.path` module provides a set of reliable and portable tools for **splitting paths** into meaningful parts, so you can easily manage files without manually parsing strings. Below are some common functions that make this easy and consistent across different operating systems.\n",
    "\n",
    "Use these when you want to programmatically handle parts of a path—e.g., checking extensions, extracting filenames, or navigating up directories.\n",
    "\n",
    "###  `os.path.split(path)`\n",
    "\n",
    "Splits a path into **two parts**: the **head** (directory path) and the **tail** (final component like filename or last folder)."
   ]
  },
  {
   "cell_type": "code",
   "execution_count": 8,
   "id": "772bc9b2-d214-4208-8884-885741c302d5",
   "metadata": {},
   "outputs": [
    {
     "name": "stdout",
     "output_type": "stream",
     "text": [
      "/home/jupyter/Work\n",
      "myfile.tcl\n"
     ]
    }
   ],
   "source": [
    "path = '/home/jupyter/Work/myfile.tcl'\n",
    "head, tail = os.path.split(path)\n",
    "print(head)  # → /home/jupyter/Work\n",
    "print(tail)  # → myfile.tcl"
   ]
  },
  {
   "cell_type": "markdown",
   "id": "1fff588e-d52f-4f7d-9cbe-a069828647b2",
   "metadata": {},
   "source": [
    "### `os.path.splitext(path)`\n",
    "\n",
    "Splits the path into the **filename and extension**."
   ]
  },
  {
   "cell_type": "code",
   "execution_count": 9,
   "id": "b4f2f5b5-b1de-4422-bac3-b261b3fc73da",
   "metadata": {},
   "outputs": [
    {
     "name": "stdout",
     "output_type": "stream",
     "text": [
      "head:  /home/jupyter/Work\n",
      "tail:  myfile.tcl\n",
      "filename:  myfile\n",
      "ext:  .tcl\n"
     ]
    }
   ],
   "source": [
    "path = '/home/jupyter/Work/myfile.tcl'\n",
    "head, tail = os.path.split(path)\n",
    "print('head: ',head)  # → /home/jupyter/Work\n",
    "print('tail: ',tail)  # → myfile.tcl\n",
    "\n",
    "filename, ext = os.path.splitext(tail)\n",
    "print('filename: ',filename)  # → model\n",
    "print('ext: ',ext)       # → .inp"
   ]
  },
  {
   "cell_type": "markdown",
   "id": "92bf2385-e7f4-4ecd-903d-468be493b923",
   "metadata": {},
   "source": [
    "### `os.path.basename(path)`\n",
    "\n",
    "Returns just the **last component** of the path (like the filename)."
   ]
  },
  {
   "cell_type": "code",
   "execution_count": 10,
   "id": "3a4fbb25-6a6e-4e85-bf88-e6251da4da81",
   "metadata": {},
   "outputs": [
    {
     "data": {
      "text/plain": [
       "'myfile.tcl'"
      ]
     },
     "execution_count": 10,
     "metadata": {},
     "output_type": "execute_result"
    }
   ],
   "source": [
    "os.path.basename('/home/jupyter/Work/myfile.tcl')  "
   ]
  },
  {
   "cell_type": "markdown",
   "id": "529d1335-e3f8-4b7b-a930-3a4bdcbdbb51",
   "metadata": {},
   "source": [
    "### `os.path.dirname(path)`\n",
    "\n",
    "Returns just the **directory part**, without the final file or folder."
   ]
  },
  {
   "cell_type": "code",
   "execution_count": 11,
   "id": "7bb3fd4c-038f-4bc1-aa86-8a82cd283d28",
   "metadata": {},
   "outputs": [
    {
     "data": {
      "text/plain": [
       "'/home/jupyter/Work'"
      ]
     },
     "execution_count": 11,
     "metadata": {},
     "output_type": "execute_result"
    }
   ],
   "source": [
    "os.path.dirname('/home/jupyter/Work/myfile.tcl')  "
   ]
  },
  {
   "cell_type": "markdown",
   "id": "3ae758a8-2e99-40a9-ad26-f2cdba6ecef0",
   "metadata": {},
   "source": [
    "### os.path.normpath()\n",
    "\n",
    "Removes the trailing slash (/) if there is one, so basename() returns the actual last folder name rather than an empty string."
   ]
  },
  {
   "cell_type": "code",
   "execution_count": 12,
   "id": "f0ae680e-c20c-4ee5-8db1-2e83e6322444",
   "metadata": {},
   "outputs": [
    {
     "name": "stdout",
     "output_type": "stream",
     "text": [
      "normpath:  /home/user/projects/myproject\n"
     ]
    }
   ],
   "source": [
    "path = \"/home/user/projects/myproject/\"\n",
    "normpath = os.path.normpath(path)\n",
    "print('normpath: ',normpath)  # → myproject"
   ]
  },
  {
   "cell_type": "markdown",
   "id": "98f573b4-2bc2-4baf-824d-11ec878f61bd",
   "metadata": {},
   "source": [
    "### os.path.basename() (for strings)\n",
    "Returns the very last folder in a path (also called the basename of the directory path)."
   ]
  },
  {
   "cell_type": "code",
   "execution_count": 13,
   "id": "895a750d-b9ba-486d-b5bd-9d7398db6da7",
   "metadata": {},
   "outputs": [
    {
     "name": "stdout",
     "output_type": "stream",
     "text": [
      "last_folder: myproject\n"
     ]
    }
   ],
   "source": [
    "path = \"/home/user/projects/myproject/\"\n",
    "last_folder = os.path.basename(os.path.normpath(path))\n",
    "print('last_folder:',last_folder)  # → myproject"
   ]
  },
  {
   "cell_type": "markdown",
   "id": "9ecb0b62-45d8-4924-954b-f3643960078f",
   "metadata": {},
   "source": [
    "### pathlib path.name\n",
    "it is more modern & flexible"
   ]
  },
  {
   "cell_type": "code",
   "execution_count": 14,
   "id": "d83cf258-1cb6-4fe4-8586-6a96098a04aa",
   "metadata": {},
   "outputs": [
    {
     "name": "stdout",
     "output_type": "stream",
     "text": [
      "myproject\n"
     ]
    }
   ],
   "source": [
    "from pathlib import Path\n",
    "\n",
    "path = Path(\"/home/user/projects/myproject/\")\n",
    "last_folder = path.name\n",
    "print(last_folder)  # → myproject\n"
   ]
  },
  {
   "cell_type": "markdown",
   "id": "03ee6c80-20f9-4939-9262-d750db7edbcf",
   "metadata": {},
   "source": [
    "---"
   ]
  },
  {
   "cell_type": "markdown",
   "id": "d352727c-d4cb-4d2d-bc2d-a6cb8ebdf6f7",
   "metadata": {},
   "source": [
    "## Modern alternative: *pathlib*\n",
    "\n",
    "Python’s **pathlib** module (available since 3.4) provides an **object-oriented way** to handle paths. It does everything *os.path* does, but often more elegantly.\n"
   ]
  },
  {
   "cell_type": "code",
   "execution_count": 15,
   "id": "de424206-b54d-4016-beff-e2092ee64a75",
   "metadata": {},
   "outputs": [
    {
     "name": "stdout",
     "output_type": "stream",
     "text": [
      "/home/jupyter\n",
      "/home/jupyter/CommunityData/OpenSees\n",
      "/home/jupyter/CommunityData/OpenSees/TrainingMaterial\n",
      "/home/jupyter/CommunityData/OpenSees\n"
     ]
    }
   ],
   "source": [
    "from pathlib import Path\n",
    "\n",
    "# Home directory\n",
    "home = Path.home()\n",
    "print(home)  # /home/jupyter\n",
    "\n",
    "# Build a path\n",
    "project = home / 'CommunityData' / 'OpenSees'\n",
    "print(project)  # /home/jupyter/MyData/OpenSees\n",
    "\n",
    "# List files\n",
    "for file in project.iterdir():\n",
    "    print(file)\n",
    "\n",
    "# Absolute path\n",
    "print(project.resolve())"
   ]
  },
  {
   "cell_type": "markdown",
   "id": "76b2dd9d-cb24-416e-ae1e-bfa40711bdfe",
   "metadata": {},
   "source": [
    "###  Path.resolve() Method\n",
    "\n",
    "The `resolve()` method seen in the cell above is part of Python’s modern `pathlib` module, and it’s used to:\n",
    "**Get the absolute, canonical path of a file or directory.**\n",
    "\n",
    "When you call `.resolve()` on a `Path` object:\n",
    "\n",
    "1. It **converts a relative path to an absolute path**\n",
    "2. It **resolves any symbolic links (symlinks)**\n",
    "3. It **cleans up `..` and `.` from the path**\n",
    "\n",
    "---\n",
    "\n",
    "###  Example\n",
    "\n",
    "```python\n",
    "from pathlib import Path\n",
    "\n",
    "p = Path(\"myfolder/../data/file.txt\")\n",
    "print(p.resolve())\n",
    "```\n",
    "\n",
    "This might return:\n",
    "\n",
    "```\n",
    "/home/user/data/file.txt\n",
    "```\n",
    "\n",
    "Even though the original path included `../`, `resolve()` normalizes it.\n",
    "\n",
    "###  Why Use It?\n",
    "\n",
    "* Ensures the path is **absolute**\n",
    "* Makes it easier to **compare paths** reliably\n",
    "* Ensures you're working with the **actual file location**, especially if symlinks are involved\n",
    "\n",
    "###  Note\n",
    "\n",
    "* If the file doesn’t exist, `resolve()` may raise an error (in Python < 3.6), or simply return the cleaned-up path (in newer versions).\n",
    "* You can use `resolve(strict=False)` to avoid errors if the file doesn’t exist.\n",
    "\n",
    "\n",
    "###  Summary on resolve()\n",
    "\n",
    "Use `.resolve()` when you want the **true, absolute location** of a file or folder, and want to clean up messy or relative path expressions in a reliable, cross-platform way.\n"
   ]
  },
  {
   "cell_type": "markdown",
   "id": "f3f6efb4-b81c-480b-8a39-caec50620901",
   "metadata": {},
   "source": [
    "## Quick cheat sheet: *os.path* vs *pathlib*\n",
    "compact cheat sheet box comparing os.path to pathlib for the most common operations, so your readers can see exactly how they map line by line.\n",
    "\n",
    "Make sure to add this at the top if you haven’t already:\n",
    "\n",
    "```python\n",
    "from pathlib import Path\n",
    "import os\n",
    "```\n",
    "\n",
    "| Operation               | **os.path** & **os**     | pathlib                                                                      |\n",
    "| ----------------------- | ------------------------ | ---------------------------------------------------------------------------- |\n",
    "| Get current directory   | os.getcwd()             | Path.cwd()                                                                   |\n",
    "| Get home directory      | os.path.expanduser('~') | Path.home()                                                                  |\n",
    "| Join paths              | os.path.join(a, b, c)   | Path(a) / b / c                                                              |\n",
    "| Make absolute path      | os.path.abspath(path)   | Path(path).resolve()                                                         |\n",
    "| List files in directory | os.listdir(path)        | Path(path).iterdir()                                                         |\n",
    "| Change directory        | os.chdir(path)          | *(no direct change, use Path objects instead to keep code clean and explicit)* |\n",
    "| Check if path exists    | os.path.exists(path)                | Path(path).exists()              |\n",
    "| Create a directory      | os.mkdir('new_dir')                 | Path('new_dir').mkdir()          |\n",
    "\n"
   ]
  },
  {
   "cell_type": "markdown",
   "id": "d143d9bb-eca9-448a-92d5-52b206e8bd4d",
   "metadata": {},
   "source": [
    "### Examples"
   ]
  },
  {
   "cell_type": "code",
   "execution_count": 16,
   "id": "843273ee-e1cd-4060-880e-1aeab1502fe9",
   "metadata": {},
   "outputs": [
    {
     "data": {
      "text/plain": [
       "'/home/jupyter/MyData/_ToCommunityData/OpenSees/TrainingMaterial/training-OpenSees-on-DesignSafe/Jupyter_Notebooks/some/file.txt'"
      ]
     },
     "execution_count": 16,
     "metadata": {},
     "output_type": "execute_result"
    }
   ],
   "source": [
    "# os.path\n",
    "import os\n",
    "os.path.join('/home', 'jupyter', 'MyData')\n",
    "os.path.expanduser('~')\n",
    "os.path.abspath('some/file.txt')"
   ]
  },
  {
   "cell_type": "code",
   "execution_count": 17,
   "id": "c08b60c6-f3f6-4a12-b4a9-fa83e7abf1a3",
   "metadata": {},
   "outputs": [
    {
     "data": {
      "text/plain": [
       "PosixPath('/home/jupyter/MyData/_ToCommunityData/OpenSees/TrainingMaterial/training-OpenSees-on-DesignSafe/Jupyter_Notebooks/some/file.txt')"
      ]
     },
     "execution_count": 17,
     "metadata": {},
     "output_type": "execute_result"
    }
   ],
   "source": [
    "# pathlib\n",
    "from pathlib import Path\n",
    "Path('/home') / 'jupyter' / 'MyData'\n",
    "Path.home()\n",
    "Path('some/file.txt').resolve()"
   ]
  },
  {
   "cell_type": "markdown",
   "id": "1defefea-d171-4a4b-9f6f-93dcae59fee7",
   "metadata": {},
   "source": [
    "## What is **posixpath**?\n",
    "\n",
    "**posixpath** is an **internal Python module** that implements the functions of *os.path* **specifically for POSIX-style systems**, like Linux and macOS (and broadly, anything UNIX-like).\n",
    "\n",
    "When you do:\n",
    "\n",
    "```python\n",
    "import os\n",
    "os.path.join('a', 'b')\n",
    "```\n",
    "\n",
    "you’re actually using **os.path**, which is **an alias that points to the appropriate module for your operating system**.\n",
    "\n",
    "* On **Linux or macOS**, *os.path* is backed by *posixpath*.\n",
    "* On **Windows**, *os.path* is backed by *ntpath*.\n",
    "\n",
    "So when you import *os* or *os.path*, Python quietly does:\n",
    "\n",
    "```python\n",
    "import posixpath as os.path  # on Linux/macOS\n",
    "import ntpath as os.path     # on Windows\n",
    "```\n",
    "\n",
    "This means *os.path* automatically uses the correct conventions for your system’s paths:\n",
    "\n",
    "* / separators on Linux/macOS (via **posixpath**).\n",
    "* \\  separators on Windows (via **ntpath**).\n",
    "\n",
    "---\n",
    "\n",
    "###  Should I ever import *posixpath* directly?\n",
    "\n",
    " **No — almost never.**\n",
    "You should always use **os.path** (or better, **pathlib**) so your code stays **portable**.\n",
    "\n",
    "If you import **posixpath** directly, your code will break on Windows because *posixpath* hardcodes */* conventions.\n",
    "\n",
    "---\n",
    "\n",
    "###  Summary\n",
    "\n",
    "| Module      | What it does                                                             | Typical use                                                  |\n",
    "| ----------- | ------------------------------------------------------------------------ | ------------------------------------------------------------ |\n",
    "| **os.path**   | Portable, automatically selects *posixpath* or *ntpath* based on your OS | Always recommended                                         |\n",
    "| **posixpath** | Hardcoded for POSIX paths (/)                                          | Only for very specialized internal or cross-platform logic |\n",
    "| **ntpath**    | Hardcoded for Windows paths (\\)                                        | Same, rarely used directly                                 |\n",
    "\n"
   ]
  },
  {
   "cell_type": "markdown",
   "id": "96e67a79-232a-46ab-94f4-445fc7058768",
   "metadata": {},
   "source": [
    "## Choosing the Right Library for Files and Paths in Python\n",
    "\n",
    "Python offers **multiple libraries** for handling files and paths — `os`, `os.path`, `shutil`, and `pathlib` — and it’s not always obvious which one to use.\n",
    "\n",
    "Here's a breakdown to help you understand **when and why** to use each:\n",
    "\n",
    "\n",
    "| Library   | Best For                                          | Style                     | Returns        | Notes                                 |\n",
    "| --------- | ------------------------------------------------- | ------------------------- | -------------- | ------------------------------------- |\n",
    "| `os`      | Changing directories, running shell commands      | Procedural (older)        | Strings        | Works well with `os.path`             |\n",
    "| `os.path` | Portable path operations (joining, expanding `~`) | Procedural (older)        | Strings        | Platform-independent path logic       |\n",
    "| `shutil`  | Copying, moving, or deleting **files/folders**    | Procedural (higher-level) | N/A            | Useful for workflows and automation   |\n",
    "| `pathlib` | Modern, object-oriented path handling             | Object-oriented           | `Path` objects | Easier, cleaner syntax for many tasks |"
   ]
  },
  {
   "cell_type": "markdown",
   "id": "84f37276-fbdc-498c-a68c-b8e5e2862986",
   "metadata": {},
   "source": [
    "##  `os.path` vs `pathlib`\n",
    "\n",
    "Both are great, but `pathlib` is **newer, more readable**, and recommended for most new code. Here’s a quick comparison:"
   ]
  },
  {
   "cell_type": "markdown",
   "id": "e6e44e58-7b6a-4517-be41-6995ccfb17fe",
   "metadata": {},
   "source": [
    "### `os.path` Style:"
   ]
  },
  {
   "cell_type": "code",
   "execution_count": 18,
   "id": "611314d8-665b-4e65-8524-f80169912850",
   "metadata": {},
   "outputs": [
    {
     "name": "stdout",
     "output_type": "stream",
     "text": [
      "/home/jupyter/myfolder/file.txt\n"
     ]
    }
   ],
   "source": [
    "import os\n",
    "path = os.path.join(os.path.expanduser('~'), 'myfolder', 'file.txt')\n",
    "print(path)"
   ]
  },
  {
   "cell_type": "markdown",
   "id": "8e56d074-19ac-492e-94b5-d5cec029796c",
   "metadata": {},
   "source": [
    "### `pathlib` Style:"
   ]
  },
  {
   "cell_type": "code",
   "execution_count": 19,
   "id": "7397e06d-f279-495d-8183-1440ed42ef67",
   "metadata": {},
   "outputs": [
    {
     "name": "stdout",
     "output_type": "stream",
     "text": [
      "/home/jupyter/myfolder/file.txt\n"
     ]
    }
   ],
   "source": [
    "from pathlib import Path\n",
    "path = Path.home() / 'myfolder' / 'file.txt'\n",
    "print(path)"
   ]
  },
  {
   "cell_type": "markdown",
   "id": "8d952f3e-0f66-47e3-8726-81dd5119c8fe",
   "metadata": {},
   "source": [
    "`pathlib` makes paths act like objects — you can read, write, check existence, etc., directly on the path."
   ]
  },
  {
   "cell_type": "markdown",
   "id": "1a7454d0-d272-4aba-aaca-d36112e88aa5",
   "metadata": {},
   "source": [
    "### So When Should You Use Each?\n",
    "\n",
    "| Use Case                                   | Recommended Library           |\n",
    "| ------------------------------------------ | ----------------------------- |\n",
    "| Writing new scripts with paths             | `pathlib` ✅                   |\n",
    "| Interfacing with older code or libraries   | `os.path`                     |\n",
    "| Changing directories or accessing env vars | `os`                          |\n",
    "| Running shell commands                     | `os.system()` or `subprocess` |\n",
    "| Copying/moving/removing files and folders  | `shutil` ✅                    |\n",
    "| Creating file-processing workflows         | `shutil` + `pathlib`          |"
   ]
  }
 ],
 "metadata": {
  "IMAGE_NAME": "taccsciapps/ds-nb-img:base-0.2.4",
  "UUID": "d1af4976-5d4c-11f0-b54e-52dd1a6c9df8",
  "kernelspec": {
   "display_name": "Python 3 (ipykernel)",
   "language": "python",
   "name": "python3"
  },
  "language_info": {
   "codemirror_mode": {
    "name": "ipython",
    "version": 3
   },
   "file_extension": ".py",
   "mimetype": "text/x-python",
   "name": "python",
   "nbconvert_exporter": "python",
   "pygments_lexer": "ipython3",
   "version": "3.12.11"
  }
 },
 "nbformat": 4,
 "nbformat_minor": 5
}
