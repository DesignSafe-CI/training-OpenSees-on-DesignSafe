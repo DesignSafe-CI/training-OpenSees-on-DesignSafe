{
 "cells": [
  {
   "cell_type": "markdown",
   "metadata": {},
   "source": [
    "<a class=\"reference external\" \n",
    "    href=\"https://jupyter.designsafe-ci.org/hub/user-redirect/lab/tree/CommunityData/OpenSees/TrainingMaterial/training-OpenSees-on-DesignSafe/Jupyter_Notebooks/tapis_getJobOutData_OutputFiles_Download.ipynb\" \n",
    "    target=\"_blank\"\n",
    "    >\n",
    "<img alt=\"Try on DesignSafe\" src=\"https://raw.githubusercontent.com/DesignSafe-Training/pinn/main/DesignSafe-Badge.svg\" /></a>"
   ]
  },
  {
   "cell_type": "markdown",
   "metadata": {},
   "source": [
    "# Download All Job Output 📒\n",
    "***Get list of ALL job-output files recursively with OPTIONAL download***\n",
    "\n",
    "by Silvia Mazzoni, DesignSafe, 2025\n",
    "\n",
    "I have created a single python function that will drill into the job output files recursively and returns both relative and full paths (not absolute, these are paths within tapis).<br>\n",
    "This function gives the user the option to download the files locally.\n",
    "\n",
    "**In this notebook we will copy the files over to our local project directory within DesignSafe.**"
   ]
  },
  {
   "cell_type": "code",
   "execution_count": 1,
   "metadata": {
    "tags": [
     "remove-input"
    ]
   },
   "outputs": [
    {
     "name": "stdout",
     "output_type": "stream",
     "text": [
      "Using local utilities library\n"
     ]
    }
   ],
   "source": [
    "# Local Utilities Library\n",
    "# you can remove the logic associated with the local path\n",
    "import sys,os\n",
    "relativePath = '../OpsUtils'\n",
    "if os.path.exists(relativePath):\n",
    "    print(\"Using local utilities library\")\n",
    "    PathOpsUtils = os.path.expanduser(relativePath)\n",
    "else:\n",
    "    PathOpsUtils = os.path.expanduser('~/CommunityData/OpenSees/TrainingMaterial/training-OpenSees-on-DesignSafe/OpsUtils')\n",
    "if not PathOpsUtils in sys.path: sys.path.append(PathOpsUtils)\n",
    "from OpsUtils import OpsUtils"
   ]
  },
  {
   "cell_type": "markdown",
   "metadata": {},
   "source": [
    "---\n",
    "## Connect to Tapis\n",
    "\n",
    "Yes, you need to first connect to Tapis, this authenticates you"
   ]
  },
  {
   "cell_type": "code",
   "execution_count": 2,
   "metadata": {},
   "outputs": [
    {
     "name": "stdout",
     "output_type": "stream",
     "text": [
      " -- Checking tapis Token --\n",
      " Time now: 2025-08-02 23:14:47.356653+00:00\n",
      " Token loaded from file.\n",
      " Token is still valid!\n",
      " Token expires At: 2025-08-02 23:55:31+00:00\n",
      " Token expires In  0:40:43.643347  hh:mm:sec\n",
      "-- LOG IN SUCCESSFUL!!! --\n"
     ]
    }
   ],
   "source": [
    "t=OpsUtils.connect_tapis()"
   ]
  },
  {
   "cell_type": "markdown",
   "metadata": {},
   "source": [
    "### User Input -- job id"
   ]
  },
  {
   "cell_type": "code",
   "execution_count": 3,
   "metadata": {},
   "outputs": [],
   "source": [
    "jobUuid = '4dfa35e1-15cd-48fd-a090-f348544dee1f-007'"
   ]
  },
  {
   "cell_type": "markdown",
   "metadata": {},
   "source": [
    "## Download Files"
   ]
  },
  {
   "cell_type": "code",
   "execution_count": 4,
   "metadata": {
    "tags": [
     "remove-input"
    ]
   },
   "outputs": [
    {
     "data": {
      "text/html": [
       "\n",
       "                      <details style=\"margin-top:1em; font-family:monospace; background:white; \n",
       "                          padding:0.25em; border-radius:6px; border:1px solid #ccc;\">\n",
       "                        <summary style=\"cursor:pointer; font-weight:bold; background:white; \n",
       "                          padding:0.3em 0.5em; border-radius:4px;\">get_tapis_job_all_files.py</summary>\n",
       "\n",
       "                        <button onclick=\"navigator.clipboard.writeText(document.getElementById('7f461dfaa77347748758ae46414c3b58').innerText)\">\n",
       "                          📋 Copy\n",
       "                        </button>\n",
       "                        <pre id=\"7f461dfaa77347748758ae46414c3b58\" style=\"white-space:pre-wrap; margin:0.25em 0 0 0; \n",
       "                            background:#d4fbff; padding:.3em; border-radius:5px;\">\n",
       "<b># ../OpsUtils/OpsUtils/Tapis/get_tapis_job_all_files.py</b>\n",
       "def get_tapis_job_all_files(\n",
       "    t, jobUuid, \n",
       "    displayIt=10, \n",
       "    target_dir=False, \n",
       "    overwrite=False\n",
       "):\n",
       "    \"\"\"\n",
       "    Recursively retrieves all output files from a Tapis job, optionally downloading them.\n",
       "\n",
       "    This function connects to the Tapis job output system, traverses the job's complete \n",
       "    output directory structure recursively, and collects:\n",
       "\n",
       "    - Local-style relative file paths (to recreate directory structure on disk),\n",
       "    - Full absolute Tapis paths for direct API use or metadata,\n",
       "    - Raw item objects returned by Tapis (which include size, lastModified, etc.),\n",
       "    - The total file count.\n",
       "\n",
       "    It can also automatically download these files into a local directory, preserving\n",
       "    the folder hierarchy.\n",
       "\n",
       "    Parameters\n",
       "    ----------\n",
       "    t : Tapis\n",
       "        An authenticated Tapis client object (typically created with connect_tapis()).\n",
       "\n",
       "    jobUuid : str\n",
       "        The UUID of the Tapis job whose output files you want to inspect or download.\n",
       "\n",
       "    displayIt : bool or int, optional\n",
       "        Controls printed output:\n",
       "            - False or 0: completely silent.\n",
       "            - True or 1: prints all files in all directories.\n",
       "            - int >= 2: prints at most `displayIt` files per directory,\n",
       "                        then indicates suppression.\n",
       "\n",
       "    target_dir : bool, None, or str, optional\n",
       "        Determines whether to download files:\n",
       "            - False or None: does not download files, only lists them.\n",
       "            - True: downloads files into a default directory './OutFiles_{jobUuid}'.\n",
       "            - str: downloads files into the specified local directory.\n",
       "\n",
       "    overwrite : bool, optional\n",
       "        If True, overwrites existing local files. If False (default), skips already\n",
       "        existing files.\n",
       "\n",
       "    Returns\n",
       "    -------\n",
       "    dict\n",
       "        {\n",
       "            'Nfiles': total number of files found,\n",
       "            'LocalPath': list of relative paths (like 'results/output.txt'),\n",
       "            'FullPath': list of absolute Tapis paths (like '/tapis/jobs/v2/...'),\n",
       "            'Items': list of raw Tapis file objects (metadata)\n",
       "        }\n",
       "\n",
       "    Examples\n",
       "    --------\n",
       "    # Just list files, print up to 5 per directory\n",
       "    >>> outputs = get_tapis_job_all_files(t, jobUuid, displayIt=5)\n",
       "\n",
       "    # List all files without printing anything\n",
       "    >>> outputs = get_tapis_job_all_files(t, jobUuid, displayIt=False)\n",
       "\n",
       "    # Download into default './OutFiles_{jobUuid}'\n",
       "    >>> outputs = get_tapis_job_all_files(t, jobUuid, target_dir=True)\n",
       "\n",
       "    # Download into a custom directory, overwriting if needed\n",
       "    >>> outputs = get_tapis_job_all_files(t, jobUuid, target_dir=\"my_results\", overwrite=True)\n",
       "\n",
       "    Notes\n",
       "    -----\n",
       "    - Downloads replicate the Tapis directory structure inside the chosen local folder.\n",
       "    - Use 'LocalPath' and 'FullPath' together to pair local save paths with original remote locations.\n",
       "    - The 'Items' list provides full Tapis metadata for each file, which can be useful for logs.\n",
       "    \"\"\"\n",
       "    # Silvia Mazzoni, 2025\n",
       "\n",
       "    import os\n",
       "\n",
       "    # normalize displayIt\n",
       "    if isinstance(displayIt, bool):\n",
       "        displayLevel = 1 if displayIt else 0\n",
       "        displayLimit = None\n",
       "    elif isinstance(displayIt, int):\n",
       "        displayLevel = 1\n",
       "        displayLimit = displayIt if displayIt >= 2 else None\n",
       "    else:\n",
       "        displayLevel = 0\n",
       "        displayLimit = None    \n",
       "\n",
       "    if displayLevel>=1:\n",
       "        print('----------------------------')\n",
       "        print(f'JOB: {jobUuid}')\n",
       "        print('----------------------------')\n",
       "    \n",
       "    # determine local download dir\n",
       "    if target_dir is True:\n",
       "        download_dir = f\"./OutFiles_{jobUuid}\"\n",
       "    elif isinstance(target_dir, str):\n",
       "        download_dir = target_dir\n",
       "    else:\n",
       "        download_dir = None  # no download\n",
       "\n",
       "    if displayLevel>=1:\n",
       "        if download_dir != None:\n",
       "            print('----------------------------')\n",
       "            print(f'TARGET DIR: {download_dir}')\n",
       "            print('----------------------------')\n",
       "\n",
       "    def get_files_recursive(path=\"\"):\n",
       "        Nfiles = 0\n",
       "        returnFiles = []\n",
       "        returnFilesPath = []\n",
       "        returnItems = []\n",
       "\n",
       "        output_path = path if path else \".\"\n",
       "        output_items = t.jobs.getJobOutputList(jobUuid=jobUuid, outputPath=output_path)\n",
       "\n",
       "        # split into dirs vs files\n",
       "        output_items_dirs = [item for item in output_items if getattr(item, \"type\", \"\") == \"dir\"]\n",
       "        output_items_files = [item for item in output_items if getattr(item, \"type\", \"\") != \"dir\"]\n",
       "        output_items_ordered = output_items_files + output_items_dirs\n",
       "\n",
       "        \n",
       "        printed_count = 0\n",
       "        Nstopp = 0\n",
       "        hereDisplay = True\n",
       "        if displayLevel >= 1:\n",
       "            if len(output_items_files)>0:\n",
       "                firstCase = output_items_files[0].path\n",
       "                dirr = os.path.dirname(firstCase)\n",
       "                print(f' {dirr}')\n",
       "            print(f'  {len(output_items_files)} files & {len(output_items_dirs)} directories:')\n",
       "\n",
       "        for item in output_items_ordered:\n",
       "            remote_path = os.path.join(path, item.name) if path else item.name\n",
       "\n",
       "            if getattr(item, \"type\", \"\") == \"dir\":\n",
       "                if displayLevel >= 1:\n",
       "                    print('----------------------------')\n",
       "                    print(f'DIRECTORY: {remote_path}')\n",
       "                    # print(f'DIRECTORY: {remote_path}\\n{item.path}')\n",
       "                Nhere, hereFiles, hereFilesPath, hereItems = get_files_recursive(remote_path)\n",
       "                Nfiles += Nhere\n",
       "                returnFiles.extend(hereFiles)\n",
       "                returnFilesPath.extend(hereFilesPath)\n",
       "                returnItems.extend(hereItems)\n",
       "            else:\n",
       "                returnFiles.append(remote_path)\n",
       "                returnFilesPath.append(item.path)\n",
       "                returnItems.append(item)\n",
       "                Nfiles += 1\n",
       "\n",
       "                # print tree\n",
       "                if displayLevel >= 1 and (displayLimit is None or printed_count < displayLimit):\n",
       "                    if not download_dir:\n",
       "                        print(f'    FILE: {remote_path}')\n",
       "                    printed_count += 1\n",
       "                    if displayLimit is not None and printed_count == displayLimit:\n",
       "                        Nstopp = Nfiles\n",
       "\n",
       "                # download if needed\n",
       "                if download_dir:\n",
       "                    # print('download_dir',download_dir)\n",
       "                    # print('remote_path',remote_path)\n",
       "                    local_file_path = os.path.join(download_dir, remote_path)\n",
       "                    homePath = os.path.expanduser('~')\n",
       "                    local_file_path = os.path.join(homePath, local_file_path)\n",
       "                    local_dir = os.path.dirname(local_file_path)\n",
       "                    # print('local_file_path',local_file_path)\n",
       "                    # print('local_dir',local_dir)\n",
       "                    os.makedirs(local_dir, exist_ok=True)\n",
       "\n",
       "                    if os.path.exists(local_file_path) and not overwrite:\n",
       "                        if hereDisplay:\n",
       "                            print(f\"    [SKIP] {local_file_path} (already exists)\")\n",
       "                        continue\n",
       "\n",
       "                    if hereDisplay:\n",
       "                        print(f\"        [DOWNLOADING] {remote_path} -> {local_file_path}\")\n",
       "                    data = t.jobs.getJobOutputDownload(jobUuid=jobUuid, outputPath=remote_path)\n",
       "                    with open(local_file_path, \"wb\") as f:\n",
       "                        f.write(data)\n",
       "\n",
       "                if displayLevel >= 1 and hereDisplay and Nstopp != 0:\n",
       "                    print(f'\\n          ........(suppressing additional-file display beyond {displayLimit})')\n",
       "                    hereDisplay = False\n",
       "\n",
       "        \n",
       "        \n",
       "        return Nfiles, returnFiles, returnFilesPath, returnItems\n",
       "\n",
       "    if displayIt:\n",
       "        print('----------------------------')\n",
       "        print('DIRECTORY: \".\"')\n",
       "\n",
       "    Nfiles, FileList, FilesPathList, itemsList = get_files_recursive()\n",
       "\n",
       "    if displayIt:\n",
       "        print(f\"\\nA total of {Nfiles} job-output files have been found\"\n",
       "              f\"{' and downloaded' if download_dir else ''}.\"\n",
       "            \"!\")\n",
       "\n",
       "    return {\n",
       "        'Nfiles': Nfiles,\n",
       "        'LocalPath': FileList,\n",
       "        'FullPath': FilesPathList,\n",
       "        'Items': itemsList\n",
       "    }\n",
       "</pre>\n",
       "                      </details>\n",
       "                    "
      ],
      "text/plain": [
       "<IPython.core.display.HTML object>"
      ]
     },
     "metadata": {},
     "output_type": "display_data"
    }
   ],
   "source": [
    "OpsUtils.show_text_file_in_accordion(PathOpsUtils,['get_tapis_job_all_files.py'])"
   ]
  },
  {
   "cell_type": "code",
   "execution_count": 5,
   "metadata": {},
   "outputs": [
    {
     "name": "stdout",
     "output_type": "stream",
     "text": [
      "The path exists: /home/jupyter/MyData/tmp_removeME\n"
     ]
    }
   ],
   "source": [
    "projectDir = os.path.expanduser('~/MyData/tmp_removeME')\n",
    "if os.path.exists(projectDir):\n",
    "    print(f\"The path exists: {projectDir}\")\n",
    "else:\n",
    "    print(f\"Path does not exist: {projectDir}\")\n",
    "    os.makedirs(projectDir)\n",
    "    print(f\"Create directory: {projectDir}\")"
   ]
  },
  {
   "cell_type": "code",
   "execution_count": 6,
   "metadata": {},
   "outputs": [
    {
     "name": "stdout",
     "output_type": "stream",
     "text": [
      "----------------------------\n",
      "JOB: 4dfa35e1-15cd-48fd-a090-f348544dee1f-007\n",
      "----------------------------\n",
      "----------------------------\n",
      "TARGET DIR: /home/jupyter/MyData/tmp_removeME\n",
      "----------------------------\n",
      "----------------------------\n",
      "DIRECTORY: \".\"\n",
      " silvia/tapis-jobs-archive/2025-05-07Z/opensees-mp-s3-latest_2025-05-07T22:13:08-4dfa35e1-15cd-48fd-a090-f348544dee1f-007\n",
      "  5 files & 1 directories:\n",
      "        [DOWNLOADING] opensees.zip -> /home/jupyter/MyData/tmp_removeME/opensees.zip\n",
      "        [DOWNLOADING] tapisjob.env -> /home/jupyter/MyData/tmp_removeME/tapisjob.env\n",
      "        [DOWNLOADING] tapisjob.out -> /home/jupyter/MyData/tmp_removeME/tapisjob.out\n",
      "        [DOWNLOADING] tapisjob.sh -> /home/jupyter/MyData/tmp_removeME/tapisjob.sh\n",
      "        [DOWNLOADING] tapisjob_app.sh -> /home/jupyter/MyData/tmp_removeME/tapisjob_app.sh\n",
      "----------------------------\n",
      "DIRECTORY: inputDirectory\n",
      " silvia/tapis-jobs-archive/2025-05-07Z/opensees-mp-s3-latest_2025-05-07T22:13:08-4dfa35e1-15cd-48fd-a090-f348544dee1f-007/inputDirectory\n",
      "  8 files & 2 directories:\n",
      "        [DOWNLOADING] inputDirectory/Ex1a.py.Canti2D.Push.mpi.py -> /home/jupyter/MyData/tmp_removeME/inputDirectory/Ex1a.py.Canti2D.Push.mpi.py\n",
      "        [DOWNLOADING] inputDirectory/Ex1a.py.Canti2D.Push.mpi4py.py -> /home/jupyter/MyData/tmp_removeME/inputDirectory/Ex1a.py.Canti2D.Push.mpi4py.py\n",
      "        [DOWNLOADING] inputDirectory/Ex1a.py.Canti2D.Push.py -> /home/jupyter/MyData/tmp_removeME/inputDirectory/Ex1a.py.Canti2D.Push.py\n",
      "        [DOWNLOADING] inputDirectory/Ex1a.tcl.Canti2D.Push.mp.tcl -> /home/jupyter/MyData/tmp_removeME/inputDirectory/Ex1a.tcl.Canti2D.Push.mp.tcl\n",
      "        [DOWNLOADING] inputDirectory/Ex1a.tcl.Canti2D.Push.tcl -> /home/jupyter/MyData/tmp_removeME/inputDirectory/Ex1a.tcl.Canti2D.Push.tcl\n",
      "        [DOWNLOADING] inputDirectory/Ex1many-Copy1.tcl.Canti2D.Push.mp.tcl -> /home/jupyter/MyData/tmp_removeME/inputDirectory/Ex1many-Copy1.tcl.Canti2D.Push.mp.tcl\n",
      "        [DOWNLOADING] inputDirectory/Ex1many_end.tcl.Canti2D.Push.mp.tcl -> /home/jupyter/MyData/tmp_removeME/inputDirectory/Ex1many_end.tcl.Canti2D.Push.mp.tcl\n",
      "        [DOWNLOADING] inputDirectory/Ex1many_start.tcl.Canti2D.Push.mp.tcl -> /home/jupyter/MyData/tmp_removeME/inputDirectory/Ex1many_start.tcl.Canti2D.Push.mp.tcl\n",
      "----------------------------\n",
      "DIRECTORY: inputDirectory/.ipynb_checkpoints\n",
      " silvia/tapis-jobs-archive/2025-05-07Z/opensees-mp-s3-latest_2025-05-07T22:13:08-4dfa35e1-15cd-48fd-a090-f348544dee1f-007/inputDirectory/.ipynb_checkpoints\n",
      "  7 files & 0 directories:\n",
      "        [DOWNLOADING] inputDirectory/.ipynb_checkpoints/Ex1a.py.Canti2D.Push.mpi-checkpoint.py -> /home/jupyter/MyData/tmp_removeME/inputDirectory/.ipynb_checkpoints/Ex1a.py.Canti2D.Push.mpi-checkpoint.py\n",
      "        [DOWNLOADING] inputDirectory/.ipynb_checkpoints/Ex1a.py.Canti2D.Push.mpi4py-checkpoint.py -> /home/jupyter/MyData/tmp_removeME/inputDirectory/.ipynb_checkpoints/Ex1a.py.Canti2D.Push.mpi4py-checkpoint.py\n",
      "        [DOWNLOADING] inputDirectory/.ipynb_checkpoints/Ex1a.tcl.Canti2D.Push-checkpoint.tcl -> /home/jupyter/MyData/tmp_removeME/inputDirectory/.ipynb_checkpoints/Ex1a.tcl.Canti2D.Push-checkpoint.tcl\n",
      "        [DOWNLOADING] inputDirectory/.ipynb_checkpoints/Ex1a.tcl.Canti2D.Push.mp-checkpoint.tcl -> /home/jupyter/MyData/tmp_removeME/inputDirectory/.ipynb_checkpoints/Ex1a.tcl.Canti2D.Push.mp-checkpoint.tcl\n",
      "        [DOWNLOADING] inputDirectory/.ipynb_checkpoints/Ex1many-Copy1.tcl.Canti2D.Push.mp-checkpoint.tcl -> /home/jupyter/MyData/tmp_removeME/inputDirectory/.ipynb_checkpoints/Ex1many-Copy1.tcl.Canti2D.Push.mp-checkpoint.tcl\n",
      "        [DOWNLOADING] inputDirectory/.ipynb_checkpoints/Ex1many_end.tcl.Canti2D.Push.mp-checkpoint.tcl -> /home/jupyter/MyData/tmp_removeME/inputDirectory/.ipynb_checkpoints/Ex1many_end.tcl.Canti2D.Push.mp-checkpoint.tcl\n",
      "        [DOWNLOADING] inputDirectory/.ipynb_checkpoints/Ex1many_start.tcl.Canti2D.Push.mp-checkpoint.tcl -> /home/jupyter/MyData/tmp_removeME/inputDirectory/.ipynb_checkpoints/Ex1many_start.tcl.Canti2D.Push.mp-checkpoint.tcl\n",
      "----------------------------\n",
      "DIRECTORY: inputDirectory/DataTCLmp\n",
      " silvia/tapis-jobs-archive/2025-05-07Z/opensees-mp-s3-latest_2025-05-07T22:13:08-4dfa35e1-15cd-48fd-a090-f348544dee1f-007/inputDirectory/DataTCLmp\n",
      "  100 files & 0 directories:\n",
      "        [DOWNLOADING] inputDirectory/DataTCLmp/DBase_Lcol10.0.out -> /home/jupyter/MyData/tmp_removeME/inputDirectory/DataTCLmp/DBase_Lcol10.0.out\n",
      "        [DOWNLOADING] inputDirectory/DataTCLmp/DBase_Lcol10.99099099099099.out -> /home/jupyter/MyData/tmp_removeME/inputDirectory/DataTCLmp/DBase_Lcol10.99099099099099.out\n",
      "        [DOWNLOADING] inputDirectory/DataTCLmp/DBase_Lcol100.18018018018017.out -> /home/jupyter/MyData/tmp_removeME/inputDirectory/DataTCLmp/DBase_Lcol100.18018018018017.out\n",
      "        [DOWNLOADING] inputDirectory/DataTCLmp/DBase_Lcol100.out -> /home/jupyter/MyData/tmp_removeME/inputDirectory/DataTCLmp/DBase_Lcol100.out\n",
      "        [DOWNLOADING] inputDirectory/DataTCLmp/DBase_Lcol1000.0.out -> /home/jupyter/MyData/tmp_removeME/inputDirectory/DataTCLmp/DBase_Lcol1000.0.out\n",
      "        [DOWNLOADING] inputDirectory/DataTCLmp/DBase_Lcol101.17117117117117.out -> /home/jupyter/MyData/tmp_removeME/inputDirectory/DataTCLmp/DBase_Lcol101.17117117117117.out\n",
      "        [DOWNLOADING] inputDirectory/DataTCLmp/DBase_Lcol102.16216216216216.out -> /home/jupyter/MyData/tmp_removeME/inputDirectory/DataTCLmp/DBase_Lcol102.16216216216216.out\n",
      "        [DOWNLOADING] inputDirectory/DataTCLmp/DBase_Lcol103.15315315315316.out -> /home/jupyter/MyData/tmp_removeME/inputDirectory/DataTCLmp/DBase_Lcol103.15315315315316.out\n",
      "        [DOWNLOADING] inputDirectory/DataTCLmp/DBase_Lcol104.14414414414414.out -> /home/jupyter/MyData/tmp_removeME/inputDirectory/DataTCLmp/DBase_Lcol104.14414414414414.out\n",
      "        [DOWNLOADING] inputDirectory/DataTCLmp/DBase_Lcol105.13513513513513.out -> /home/jupyter/MyData/tmp_removeME/inputDirectory/DataTCLmp/DBase_Lcol105.13513513513513.out\n",
      "\n",
      "          ........(suppressing additional-file display beyond 10)\n",
      "\n",
      "A total of 120 job-output files have been found and downloaded.!\n"
     ]
    }
   ],
   "source": [
    "TapisJobFilesDict = OpsUtils.get_tapis_job_all_files(t, jobUuid, displayIt=10, target_dir=projectDir, overwrite=True)"
   ]
  },
  {
   "cell_type": "markdown",
   "metadata": {},
   "source": [
    "## List files in new location"
   ]
  },
  {
   "cell_type": "code",
   "execution_count": 7,
   "metadata": {},
   "outputs": [
    {
     "name": "stdout",
     "output_type": "stream",
     "text": [
      "\n",
      " Get contents using: os.listdir('/home/jupyter/MyData/tmp_removeME'): ['opensees.zip', 'tapisjob.env', 'tapisjob.out', 'tapisjob.sh', 'tapisjob_app.sh', 'inputDirectory']\n"
     ]
    }
   ],
   "source": [
    "AllContents = os.listdir(projectDir)\n",
    "print(f\"\\n Get contents using: os.listdir('{projectDir}'): {AllContents}\")"
   ]
  },
  {
   "cell_type": "markdown",
   "metadata": {},
   "source": [
    "### List files recursively"
   ]
  },
  {
   "cell_type": "code",
   "execution_count": 8,
   "metadata": {
    "tags": [
     "remove-input"
    ]
   },
   "outputs": [
    {
     "data": {
      "text/html": [
       "\n",
       "                      <details style=\"margin-top:1em; font-family:monospace; background:white; \n",
       "                          padding:0.25em; border-radius:6px; border:1px solid #ccc;\">\n",
       "                        <summary style=\"cursor:pointer; font-weight:bold; background:white; \n",
       "                          padding:0.3em 0.5em; border-radius:4px;\">get_files_recursive.py</summary>\n",
       "\n",
       "                        <button onclick=\"navigator.clipboard.writeText(document.getElementById('0326097aff1a4edeb48cf025f3c6b505').innerText)\">\n",
       "                          📋 Copy\n",
       "                        </button>\n",
       "                        <pre id=\"0326097aff1a4edeb48cf025f3c6b505\" style=\"white-space:pre-wrap; margin:0.25em 0 0 0; \n",
       "                            background:#d4fbff; padding:.3em; border-radius:5px;\">\n",
       "<b># ../OpsUtils/OpsUtils/Misc/get_files_recursive.py</b>\n",
       "def get_files_recursive(path=\"\",displayIt=10, returnItems = False,displayLevel=0):\n",
       "    \"\"\"\n",
       "    \"\"\"\n",
       "    # Silvia Mazzoni, 2025\n",
       "\n",
       "    import os\n",
       "    if isinstance(displayIt, bool):\n",
       "        if displayLevel==0:\n",
       "            displayLevel = 1 if displayIt else 0\n",
       "        displayLimit = None\n",
       "    elif isinstance(displayIt, int):\n",
       "        if displayLevel==0:\n",
       "            displayLevel = 1\n",
       "        displayLimit = displayIt if displayIt >= 2 else None\n",
       "    else:\n",
       "        # displayLevel = 0\n",
       "        displayLimit = None    \n",
       "\n",
       "    if displayLevel==1:\n",
       "        print('----------------------------')\n",
       "        print(f'\\nDIRECTORY: {path}')\n",
       "    \n",
       "    \n",
       "    # print(displayLevel)\n",
       "    # print('path',path)\n",
       "    Nfiles = 0\n",
       "    returnFiles = []\n",
       "    returnFilesPath = []\n",
       "    returnItems = []\n",
       "\n",
       "    output_path = path if path else \".\"\n",
       "    output_items = os.listdir(output_path)\n",
       "    # print(output_items)\n",
       "\n",
       "    # split into dirs vs files\n",
       "    output_items_dirs = [item for item in output_items if os.path.isdir(os.path.join(path, item))]\n",
       "    output_items_files = [item for item in output_items if not os.path.isdir(os.path.join(path, item))]\n",
       "    output_items_ordered = output_items_files + output_items_dirs\n",
       "\n",
       "    # print('output_items_dirs',output_items_dirs)\n",
       "    # print(output_items_files)\n",
       "    \n",
       "    printed_count = 0\n",
       "    Nstopp = 0\n",
       "    hereDisplay = True\n",
       "    if len(output_items_files)>0:\n",
       "        firstCase = output_items_files[0]\n",
       "        dirr = os.path.dirname(firstCase)\n",
       "        print(f' {dirr}')\n",
       "    print(f'  {len(output_items_files)} files & {len(output_items_dirs)} directories:')\n",
       "\n",
       "    for item in output_items_ordered:\n",
       "        if item == '.ipynb_checkpoints':\n",
       "            continue\n",
       "        remote_path = os.path.join(path, item) if path else item\n",
       "        # print(remote_path)\n",
       "\n",
       "        if os.path.isdir(remote_path):\n",
       "            print('----------------------------')\n",
       "            print(f'\\nDIRECTORY: {remote_path}')\n",
       "            # print(f'DIRECTORY: {remote_path}\\n{item.path}')\n",
       "            returnDict = get_files_recursive(remote_path,returnItems=True,displayLevel=displayLevel+1)\n",
       "            Nfiles += returnDict['Nfiles']\n",
       "            returnFiles.extend(returnDict['LocalPath'])\n",
       "            returnFilesPath.extend(returnDict['FullPath'])\n",
       "            returnItems.extend(returnDict['Items'])\n",
       "        else:\n",
       "            returnFiles.append(remote_path)\n",
       "            returnFilesPath.append(item)\n",
       "            returnItems.append(item)\n",
       "            Nfiles += 1\n",
       "\n",
       "            if displayLimit is None or printed_count < displayLimit:\n",
       "                print(f'    FILE: {remote_path}')\n",
       "                printed_count += 1\n",
       "                if displayLimit is not None and printed_count == displayLimit:\n",
       "                    Nstopp = Nfiles\n",
       "\n",
       "            # print('hereDisplay',hereDisplay)\n",
       "            # print('Nstopp',Nstopp)\n",
       "            if hereDisplay and Nstopp != 0:\n",
       "                print(f'\\n          ........(suppressing additional-file display beyond {displayLimit})')\n",
       "                hereDisplay = False\n",
       "\n",
       "    if returnItems:\n",
       "        return {\n",
       "            'Nfiles': Nfiles,\n",
       "            'LocalPath': returnFiles,\n",
       "            'FullPath': returnFilesPath,\n",
       "            'Items': returnItems\n",
       "        }    \n",
       "\n",
       "</pre>\n",
       "                      </details>\n",
       "                    "
      ],
      "text/plain": [
       "<IPython.core.display.HTML object>"
      ]
     },
     "metadata": {},
     "output_type": "display_data"
    }
   ],
   "source": [
    "OpsUtils.show_text_file_in_accordion(PathOpsUtils,['get_files_recursive.py'])"
   ]
  },
  {
   "cell_type": "code",
   "execution_count": 9,
   "metadata": {},
   "outputs": [
    {
     "name": "stdout",
     "output_type": "stream",
     "text": [
      "----------------------------\n",
      "\n",
      "DIRECTORY: /home/jupyter/MyData/tmp_removeME\n",
      " \n",
      "  5 files & 1 directories:\n",
      "    FILE: /home/jupyter/MyData/tmp_removeME/opensees.zip\n",
      "    FILE: /home/jupyter/MyData/tmp_removeME/tapisjob.env\n",
      "    FILE: /home/jupyter/MyData/tmp_removeME/tapisjob.out\n",
      "    FILE: /home/jupyter/MyData/tmp_removeME/tapisjob.sh\n",
      "    FILE: /home/jupyter/MyData/tmp_removeME/tapisjob_app.sh\n",
      "----------------------------\n",
      "\n",
      "DIRECTORY: /home/jupyter/MyData/tmp_removeME/inputDirectory\n",
      " \n",
      "  8 files & 2 directories:\n",
      "    FILE: /home/jupyter/MyData/tmp_removeME/inputDirectory/Ex1a.py.Canti2D.Push.mpi.py\n",
      "    FILE: /home/jupyter/MyData/tmp_removeME/inputDirectory/Ex1a.py.Canti2D.Push.mpi4py.py\n",
      "    FILE: /home/jupyter/MyData/tmp_removeME/inputDirectory/Ex1a.py.Canti2D.Push.py\n",
      "    FILE: /home/jupyter/MyData/tmp_removeME/inputDirectory/Ex1a.tcl.Canti2D.Push.mp.tcl\n",
      "    FILE: /home/jupyter/MyData/tmp_removeME/inputDirectory/Ex1a.tcl.Canti2D.Push.tcl\n",
      "    FILE: /home/jupyter/MyData/tmp_removeME/inputDirectory/Ex1many-Copy1.tcl.Canti2D.Push.mp.tcl\n",
      "    FILE: /home/jupyter/MyData/tmp_removeME/inputDirectory/Ex1many_end.tcl.Canti2D.Push.mp.tcl\n",
      "    FILE: /home/jupyter/MyData/tmp_removeME/inputDirectory/Ex1many_start.tcl.Canti2D.Push.mp.tcl\n",
      "----------------------------\n",
      "\n",
      "DIRECTORY: /home/jupyter/MyData/tmp_removeME/inputDirectory/DataTCLmp\n",
      " \n",
      "  100 files & 0 directories:\n",
      "    FILE: /home/jupyter/MyData/tmp_removeME/inputDirectory/DataTCLmp/DBase_Lcol10.0.out\n",
      "    FILE: /home/jupyter/MyData/tmp_removeME/inputDirectory/DataTCLmp/DBase_Lcol10.99099099099099.out\n",
      "    FILE: /home/jupyter/MyData/tmp_removeME/inputDirectory/DataTCLmp/DBase_Lcol100.18018018018017.out\n",
      "    FILE: /home/jupyter/MyData/tmp_removeME/inputDirectory/DataTCLmp/DBase_Lcol100.out\n",
      "    FILE: /home/jupyter/MyData/tmp_removeME/inputDirectory/DataTCLmp/DBase_Lcol1000.0.out\n",
      "    FILE: /home/jupyter/MyData/tmp_removeME/inputDirectory/DataTCLmp/DBase_Lcol101.17117117117117.out\n",
      "    FILE: /home/jupyter/MyData/tmp_removeME/inputDirectory/DataTCLmp/DBase_Lcol102.16216216216216.out\n",
      "    FILE: /home/jupyter/MyData/tmp_removeME/inputDirectory/DataTCLmp/DBase_Lcol103.15315315315316.out\n",
      "    FILE: /home/jupyter/MyData/tmp_removeME/inputDirectory/DataTCLmp/DBase_Lcol104.14414414414414.out\n",
      "    FILE: /home/jupyter/MyData/tmp_removeME/inputDirectory/DataTCLmp/DBase_Lcol105.13513513513513.out\n",
      "\n",
      "          ........(suppressing additional-file display beyond 10)\n"
     ]
    }
   ],
   "source": [
    "AllFiles = OpsUtils.get_files_recursive(path=projectDir)"
   ]
  },
  {
   "cell_type": "markdown",
   "metadata": {},
   "source": [
    "## Delete directory\n",
    "Clean up: this was just a temporary directory"
   ]
  },
  {
   "cell_type": "code",
   "execution_count": 10,
   "metadata": {},
   "outputs": [
    {
     "name": "stdout",
     "output_type": "stream",
     "text": [
      "Deleted directory and all contents: /home/jupyter/MyData/tmp_removeME\n"
     ]
    }
   ],
   "source": [
    "# let's use shutil utility to delete non-empty directory. BE CAREFUL!\n",
    "import shutil\n",
    "\n",
    "if os.path.exists(projectDir):\n",
    "    shutil.rmtree(projectDir)\n",
    "    print(f\"Deleted directory and all contents: {projectDir}\")\n",
    "else:\n",
    "    print(f\"Directory not found: {projectDir}\")"
   ]
  }
 ],
 "metadata": {
  "IMAGE_NAME": "taccsciapps/ds-nb-img:base-0.2.3",
  "UUID": "73e0880d-9b87-11ec-9c1c-13579dd95994",
  "celltoolbar": "Raw Cell Format",
  "kernelspec": {
   "display_name": "Python 3 (ipykernel)",
   "language": "python",
   "name": "python3"
  },
  "language_info": {
   "codemirror_mode": {
    "name": "ipython",
    "version": 3
   },
   "file_extension": ".py",
   "mimetype": "text/x-python",
   "name": "python",
   "nbconvert_exporter": "python",
   "pygments_lexer": "ipython3",
   "version": "3.12.11"
  }
 },
 "nbformat": 4,
 "nbformat_minor": 4
}
