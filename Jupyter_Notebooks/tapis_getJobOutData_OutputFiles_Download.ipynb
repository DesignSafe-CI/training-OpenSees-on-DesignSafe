{
 "cells": [
  {
   "cell_type": "markdown",
   "metadata": {},
   "source": [
    "<a class=\"reference external\" \n",
    "    href=\"https://jupyter.designsafe-ci.org/hub/user-redirect/lab/tree/CommunityData/OpenSees/TrainingMaterial/training-OpenSees-on-DesignSafe/Jupyter_Notebooks/tapis_getJobOutData_OutputFiles_Download.ipynb\" \n",
    "    target=\"_blank\"\n",
    "    >\n",
    "<img alt=\"Try on DesignSafe\" src=\"https://raw.githubusercontent.com/DesignSafe-Training/pinn/main/DesignSafe-Badge.svg\" /></a>"
   ]
  },
  {
   "cell_type": "markdown",
   "metadata": {},
   "source": [
    "# Download All Job Output\n",
    "***Get list of ALL job-output files recursively with OPTIONAL download***\n",
    "\n",
    "by Silvia Mazzoni, DesignSafe, 2025\n",
    "\n",
    "I have created a single python function that will drill into the job output files recursively and returns both relative and full paths (not absolute, these are paths within tapis).<br>\n",
    "This function gives the user the option to download the files locally.\n",
    "\n",
    "**In this notebook we will copy the files over to our local project directory within DesignSafe.**"
   ]
  },
  {
   "cell_type": "code",
   "execution_count": 1,
   "metadata": {
    "tags": [
     "remove-input"
    ]
   },
   "outputs": [
    {
     "name": "stdout",
     "output_type": "stream",
     "text": [
      "Using local utilities library\n"
     ]
    }
   ],
   "source": [
    "# Local Utilities Library\n",
    "# you can remove the logic associated with the local path\n",
    "import sys,os\n",
    "relativePath = '../OpsUtils'\n",
    "if os.path.exists(relativePath):\n",
    "    print(\"Using local utilities library\")\n",
    "    PathOpsUtils = os.path.expanduser(relativePath)\n",
    "else:\n",
    "    PathOpsUtils = os.path.expanduser('~/CommunityData/OpenSees/TrainingMaterial/training-OpenSees-on-DesignSafe/OpsUtils')\n",
    "if not PathOpsUtils in sys.path: sys.path.append(PathOpsUtils)\n",
    "from OpsUtils import OpsUtils"
   ]
  },
  {
   "cell_type": "markdown",
   "metadata": {},
   "source": [
    "---\n",
    "## Connect to Tapis\n",
    "\n",
    "Yes, you need to first connect to Tapis, this authenticates you"
   ]
  },
  {
   "cell_type": "code",
   "execution_count": 2,
   "metadata": {},
   "outputs": [
    {
     "name": "stdout",
     "output_type": "stream",
     "text": [
      " -- Checking Tapis token --\n",
      " Token loaded from file. Token is still valid!\n",
      " Token expires at: 2025-08-21T02:49:32+00:00\n",
      " Token expires in: 3:38:32.074526\n",
      "-- LOG IN SUCCESSFUL! --\n"
     ]
    }
   ],
   "source": [
    "t=OpsUtils.connect_tapis()"
   ]
  },
  {
   "cell_type": "markdown",
   "metadata": {},
   "source": [
    "### User Input -- job id"
   ]
  },
  {
   "cell_type": "code",
   "execution_count": 3,
   "metadata": {},
   "outputs": [],
   "source": [
    "jobUuid = '4dfa35e1-15cd-48fd-a090-f348544dee1f-007'"
   ]
  },
  {
   "cell_type": "markdown",
   "metadata": {},
   "source": [
    "## Download Files"
   ]
  },
  {
   "cell_type": "code",
   "execution_count": 4,
   "metadata": {
    "tags": [
     "remove-input"
    ]
   },
   "outputs": [
    {
     "data": {
      "text/html": [
       "\n",
       "                      <details style=\"margin-top:1em; font-family:monospace; background:white; \n",
       "                          padding:0.25em; border-radius:6px; border:1px solid #ccc;\">\n",
       "                        <summary style=\"cursor:pointer; font-weight:bold; background:white; \n",
       "                          padding:0.3em 0.5em; border-radius:4px;\">get_tapis_job_all_files.py</summary>\n",
       "\n",
       "                        <button onclick=\"navigator.clipboard.writeText(document.getElementById('bc76bf670d43478184625844e17c1af9').innerText)\">\n",
       "                          📋 Copy\n",
       "                        </button>\n",
       "                        <pre id=\"bc76bf670d43478184625844e17c1af9\" style=\"white-space:pre-wrap; margin:0.25em 0 0 0; \n",
       "                            background:#d4fbff; padding:.3em; border-radius:5px;\">\n",
       "<b># ../OpsUtils/OpsUtils/Tapis/get_tapis_job_all_files.py</b>\n",
       "def get_tapis_job_all_files(\n",
       "    t, jobUuid, \n",
       "    displayIt=10, \n",
       "    target_dir=False, \n",
       "    overwrite=False,\n",
       "    display_file_content=True\n",
       "):\n",
       "    \"\"\"\n",
       "    Recursively retrieves all output files from a Tapis job, optionally downloading them.\n",
       "\n",
       "    This function connects to the Tapis job output system, traverses the job's complete \n",
       "    output directory structure recursively, and collects:\n",
       "\n",
       "    - Local-style relative file paths (to recreate directory structure on disk),\n",
       "    - Full absolute Tapis paths for direct API use or metadata,\n",
       "    - Raw item objects returned by Tapis (which include size, lastModified, etc.),\n",
       "    - The total file count.\n",
       "\n",
       "    It can also automatically download these files into a local directory, preserving\n",
       "    the folder hierarchy.\n",
       "\n",
       "    Parameters\n",
       "    ----------\n",
       "    t : Tapis\n",
       "        An authenticated Tapis client object (typically created with connect_tapis()).\n",
       "\n",
       "    jobUuid : str\n",
       "        The UUID of the Tapis job whose output files you want to inspect or download.\n",
       "\n",
       "    displayIt : bool or int, optional\n",
       "        Controls printed output:\n",
       "            - False or 0: completely silent.\n",
       "            - True or 1: prints all files in all directories.\n",
       "            - int >= 2: prints at most `displayIt` files per directory,\n",
       "                        then indicates suppression.\n",
       "\n",
       "    target_dir : bool, None, or str, optional\n",
       "        Determines whether to download files:\n",
       "            - False or None: does not download files, only lists them.\n",
       "            - True: downloads files into a default directory './OutFiles_{jobUuid}'.\n",
       "            - str: downloads files into the specified local directory.\n",
       "\n",
       "    overwrite : bool, optional\n",
       "        If True, overwrites existing local files. If False (default), skips already\n",
       "        existing files.\n",
       "\n",
       "    Returns\n",
       "    -------\n",
       "    dict\n",
       "        {\n",
       "            'Nfiles': total number of files found,\n",
       "            'LocalPath': list of relative paths (like 'results/output.txt'),\n",
       "            'FullPath': list of absolute Tapis paths (like '/tapis/jobs/v2/...'),\n",
       "            'Items': list of raw Tapis file objects (metadata)\n",
       "        }\n",
       "\n",
       "    Examples\n",
       "    --------\n",
       "    # Just list files, print up to 5 per directory\n",
       "    >>> outputs = get_tapis_job_all_files(t, jobUuid, displayIt=5)\n",
       "\n",
       "    # List all files without printing anything\n",
       "    >>> outputs = get_tapis_job_all_files(t, jobUuid, displayIt=False)\n",
       "\n",
       "    # Download into default './OutFiles_{jobUuid}'\n",
       "    >>> outputs = get_tapis_job_all_files(t, jobUuid, target_dir=True)\n",
       "\n",
       "    # Download into a custom directory, overwriting if needed\n",
       "    >>> outputs = get_tapis_job_all_files(t, jobUuid, target_dir=\"my_results\", overwrite=True)\n",
       "\n",
       "    Notes\n",
       "    -----\n",
       "    - Downloads replicate the Tapis directory structure inside the chosen local folder.\n",
       "    - Use 'LocalPath' and 'FullPath' together to pair local save paths with original remote locations.\n",
       "    - The 'Items' list provides full Tapis metadata for each file, which can be useful for logs.\n",
       "    \"\"\"\n",
       "    # Silvia Mazzoni, 2025\n",
       "\n",
       "    import os\n",
       "    import OpsUtils\n",
       "    def view_tapis_file_in_accordion(selected_path):\n",
       "        import ipywidgets as widgets\n",
       "        from IPython.display import display, clear_output\n",
       "\n",
       "        \n",
       "    \n",
       "        view_select_out = widgets.Output()\n",
       "        view_select_out_acc = widgets.Accordion(children=[view_select_out])\n",
       "        view_select_out_acc.set_title(0, f\" View File: {selected_path}\")\n",
       "        # view_select_out_acc.selected_index = 0\n",
       "        display(view_select_out_acc)\n",
       "        with view_select_out:\n",
       "            if not os.path.splitext(selected_path)[-1] in ['.zip','.ZIP']:\n",
       "                clear_output()\n",
       "                if selected_path:\n",
       "                    local_file = selected_path.split('/')[-1]\n",
       "                    # print('selected_path',selected_path)\n",
       "                    data = t.jobs.getJobOutputDownload(jobUuid=jobUuid, outputPath=selected_path)\n",
       "                    print(f\" Viewing: {selected_path}\")\n",
       "                    textarea = widgets.Textarea(\n",
       "                        value=data,\n",
       "                        placeholder='',\n",
       "                        description='',\n",
       "                        disabled=False,\n",
       "                        layout=widgets.Layout(width='100%', height='500px')\n",
       "                    )\n",
       "                    display(textarea)\n",
       "                else:\n",
       "                    print(\" No output file selected to download.\")\n",
       "            else:\n",
       "                print(\"can't display content\")\n",
       "\n",
       "\n",
       "    # normalize displayIt\n",
       "    if isinstance(displayIt, bool):\n",
       "        displayLevel = 1 if displayIt else 0\n",
       "        displayLimit = None\n",
       "    elif isinstance(displayIt, int):\n",
       "        displayLevel = 1\n",
       "        displayLimit = displayIt if displayIt >= 2 else None\n",
       "    else:\n",
       "        displayLevel = 0\n",
       "        displayLimit = None    \n",
       "\n",
       "    if displayLevel>=1:\n",
       "        import ipywidgets as widgets\n",
       "        from IPython.display import display, clear_output\n",
       "        from OpsUtils import OpsUtils\n",
       "        filedata_out = widgets.Output()\n",
       "        filedata_accordion = widgets.Accordion(children=[filedata_out])\n",
       "        filedata_accordion.set_title(0, f'Job Filedata   ({jobUuid})')\n",
       "        filedata_accordion.selected_index = 0\n",
       "        display(filedata_accordion)\n",
       "        \n",
       "    if displayLevel>=1:\n",
       "        with filedata_out:\n",
       "            print('----------------------------')\n",
       "            print(f'JOB: {jobUuid}')\n",
       "            print('----------------------------')\n",
       "    \n",
       "    # determine local download dir\n",
       "    if target_dir is True:\n",
       "        download_dir = f\"./OutFiles_{jobUuid}\"\n",
       "    elif isinstance(target_dir, str):\n",
       "        download_dir = target_dir\n",
       "    else:\n",
       "        download_dir = None  # no download\n",
       "\n",
       "    if displayLevel>=1:\n",
       "        if download_dir != None:\n",
       "            with filedata_out:\n",
       "                print('----------------------------')\n",
       "                print(f'TARGET DIR: {download_dir}')\n",
       "                print('----------------------------')\n",
       "    view_direct_out = widgets.Output()\n",
       "    def get_files_recursive(view_direct_out,path=\"\"):\n",
       "        Nfiles = 0\n",
       "        returnFiles = []\n",
       "        returnFilesPath = []\n",
       "        returnItems = []\n",
       "\n",
       "        output_path = path if path else \".\"\n",
       "        output_items = t.jobs.getJobOutputList(jobUuid=jobUuid, outputPath=output_path)\n",
       "\n",
       "        # split into dirs vs files\n",
       "        output_items_dirs = [item for item in output_items if getattr(item, \"type\", \"\") == \"dir\"]\n",
       "        output_items_files = [item for item in output_items if getattr(item, \"type\", \"\") != \"dir\"]\n",
       "        output_items_ordered = output_items_files + output_items_dirs\n",
       "\n",
       "        \n",
       "        printed_count = 0\n",
       "        Nstopp = 0\n",
       "        hereDisplay = True\n",
       "        if displayLevel >= 1:\n",
       "            if len(output_items_files)>0:\n",
       "                firstCase = output_items_files[0].path\n",
       "                dirr = os.path.dirname(firstCase)\n",
       "                with view_direct_out:\n",
       "                    print(f' {dirr}')\n",
       "            with view_direct_out:\n",
       "                print(f'  {len(output_items_files)} files & {len(output_items_dirs)} directories:')\n",
       "            print(f'      {len(output_items_files)} files & {len(output_items_dirs)} directories')\n",
       "\n",
       "        for item in output_items_ordered:\n",
       "            remote_path = os.path.join(path, item.name) if path else item.name\n",
       "\n",
       "            if getattr(item, \"type\", \"\") == \"dir\":\n",
       "                if displayLevel >= 1:\n",
       "                    # print('----------------------------')\n",
       "                    # print(f'DIRECTORY: {remote_path}')\n",
       "                    # print(f'DIRECTORY: {remote_path}\\n{item.path}')\n",
       "                    view_direct_out = widgets.Output()\n",
       "                    view_direct_out_acc = widgets.Accordion(children=[view_direct_out])\n",
       "                    view_direct_out_acc.set_title(0, f\"DIRECTORY: {remote_path}\")\n",
       "                    # view_direct_out_acc.selected_index = 0\n",
       "                    display(view_direct_out_acc)\n",
       "\n",
       "                Nhere, hereFiles, hereFilesPath, hereItems = get_files_recursive(view_direct_out,remote_path)\n",
       "                Nfiles += Nhere\n",
       "                returnFiles.extend(hereFiles)\n",
       "                returnFilesPath.extend(hereFilesPath)\n",
       "                returnItems.extend(hereItems)\n",
       "            else:\n",
       "                returnFiles.append(remote_path)\n",
       "                returnFilesPath.append(item.path)\n",
       "                returnItems.append(item)\n",
       "                Nfiles += 1\n",
       "\n",
       "                # print tree\n",
       "                if displayLevel >= 1 and (displayLimit is None or printed_count < displayLimit):\n",
       "                    with view_direct_out:\n",
       "                        if not download_dir:\n",
       "                            if display_file_content:\n",
       "                                view_tapis_file_in_accordion(remote_path)\n",
       "                            else:\n",
       "                                print(f'    FILE: {remote_path}')\n",
       "                        printed_count += 1\n",
       "                        if displayLimit is not None and printed_count == displayLimit:\n",
       "                            Nstopp = Nfiles\n",
       "\n",
       "                # download if needed\n",
       "                if download_dir:\n",
       "                    # print('download_dir',download_dir)\n",
       "                    # print('remote_path',remote_path)\n",
       "                    local_file_path = os.path.join(download_dir, remote_path)\n",
       "                    homePath = os.path.expanduser('~')\n",
       "                    local_file_path = os.path.join(homePath, local_file_path)\n",
       "                    local_dir = os.path.dirname(local_file_path)\n",
       "                    # print('local_file_path',local_file_path)\n",
       "                    # print('local_dir',local_dir)\n",
       "                    os.makedirs(local_dir, exist_ok=True)\n",
       "\n",
       "                    if os.path.exists(local_file_path) and not overwrite:\n",
       "                        if hereDisplay:\n",
       "                            print(f\"    [SKIP] {local_file_path} (already exists)\")\n",
       "                        continue\n",
       "\n",
       "                    if hereDisplay:\n",
       "                        print(f\"        [DOWNLOADING] {remote_path} -> {local_file_path}\")\n",
       "                    data = t.jobs.getJobOutputDownload(jobUuid=jobUuid, outputPath=remote_path)\n",
       "                    with open(local_file_path, \"wb\") as f:\n",
       "                        f.write(data)\n",
       "\n",
       "                if displayLevel >= 1 and hereDisplay and Nstopp != 0:\n",
       "                    print(f'\\n          ........(suppressing additional-file display beyond {displayLimit})')\n",
       "                    hereDisplay = False\n",
       "\n",
       "        \n",
       "        \n",
       "        return Nfiles, returnFiles, returnFilesPath, returnItems\n",
       "\n",
       "    if displayIt:\n",
       "        with filedata_out:\n",
       "            print('----------------------------')\n",
       "            print('DIRECTORY: \".\"')\n",
       "            view_direct_out = widgets.Output()\n",
       "            view_direct_out_acc = widgets.Accordion(children=[view_direct_out])\n",
       "            view_direct_out_acc.set_title(0, f'DIRECTORY: \".\"')\n",
       "            # view_direct_out_acc.selected_index = 0\n",
       "            display(view_direct_out_acc)\n",
       "            Nfiles, FileList, FilesPathList, itemsList = get_files_recursive(view_direct_out)\n",
       "    else:\n",
       "        Nfiles, FileList, FilesPathList, itemsList = get_files_recursive(view_direct_out)\n",
       "\n",
       "    if displayIt:\n",
       "        with filedata_out:\n",
       "            print(f\"\\nA total of {Nfiles} job-output files have been found\"\n",
       "                  f\"{' and downloaded' if download_dir else ''}\"\n",
       "                \"!\")\n",
       "\n",
       "    return {\n",
       "        'Nfiles': Nfiles,\n",
       "        'LocalPath': FileList,\n",
       "        'FullPath': FilesPathList,\n",
       "        'Items': itemsList\n",
       "    }\n",
       "</pre>\n",
       "                      </details>\n",
       "                    "
      ],
      "text/plain": [
       "<IPython.core.display.HTML object>"
      ]
     },
     "metadata": {},
     "output_type": "display_data"
    }
   ],
   "source": [
    "OpsUtils.show_text_file_in_accordion(PathOpsUtils,['get_tapis_job_all_files.py'])"
   ]
  },
  {
   "cell_type": "code",
   "execution_count": 5,
   "metadata": {},
   "outputs": [
    {
     "name": "stdout",
     "output_type": "stream",
     "text": [
      "Path does not exist: /home/jupyter/MyData/tmp_removeME\n",
      "Create directory: /home/jupyter/MyData/tmp_removeME\n"
     ]
    }
   ],
   "source": [
    "projectDir = os.path.expanduser('~/MyData/tmp_removeME')\n",
    "if os.path.exists(projectDir):\n",
    "    print(f\"The path exists: {projectDir}\")\n",
    "else:\n",
    "    print(f\"Path does not exist: {projectDir}\")\n",
    "    os.makedirs(projectDir)\n",
    "    print(f\"Create directory: {projectDir}\")"
   ]
  },
  {
   "cell_type": "code",
   "execution_count": 6,
   "metadata": {},
   "outputs": [
    {
     "data": {
      "application/vnd.jupyter.widget-view+json": {
       "model_id": "e560836f407244a0a8fddefa21ebe396",
       "version_major": 2,
       "version_minor": 0
      },
      "text/plain": [
       "Accordion(children=(Output(),), selected_index=0, titles=('Job Filedata   (4dfa35e1-15cd-48fd-a090-f348544dee1…"
      ]
     },
     "metadata": {},
     "output_type": "display_data"
    }
   ],
   "source": [
    "TapisJobFilesDict = OpsUtils.get_tapis_job_all_files(t, jobUuid, displayIt=10, target_dir=projectDir, overwrite=True)"
   ]
  },
  {
   "cell_type": "markdown",
   "metadata": {},
   "source": [
    "## List files in new location"
   ]
  },
  {
   "cell_type": "code",
   "execution_count": 7,
   "metadata": {},
   "outputs": [
    {
     "name": "stdout",
     "output_type": "stream",
     "text": [
      "\n",
      " Get contents using: os.listdir('/home/jupyter/MyData/tmp_removeME'): ['opensees.zip', 'tapisjob.env', 'tapisjob.out', 'tapisjob.sh', 'tapisjob_app.sh', '.ipynb_checkpoints', 'inputDirectory']\n"
     ]
    }
   ],
   "source": [
    "AllContents = os.listdir(projectDir)\n",
    "print(f\"\\n Get contents using: os.listdir('{projectDir}'): {AllContents}\")"
   ]
  },
  {
   "cell_type": "markdown",
   "metadata": {},
   "source": [
    "### List files recursively"
   ]
  },
  {
   "cell_type": "code",
   "execution_count": 8,
   "metadata": {
    "tags": [
     "remove-input"
    ]
   },
   "outputs": [
    {
     "data": {
      "text/html": [
       "\n",
       "                      <details style=\"margin-top:1em; font-family:monospace; background:white; \n",
       "                          padding:0.25em; border-radius:6px; border:1px solid #ccc;\">\n",
       "                        <summary style=\"cursor:pointer; font-weight:bold; background:white; \n",
       "                          padding:0.3em 0.5em; border-radius:4px;\">get_files_recursive.py</summary>\n",
       "\n",
       "                        <button onclick=\"navigator.clipboard.writeText(document.getElementById('2bb12544e89e4f6a8f6c781730770760').innerText)\">\n",
       "                          📋 Copy\n",
       "                        </button>\n",
       "                        <pre id=\"2bb12544e89e4f6a8f6c781730770760\" style=\"white-space:pre-wrap; margin:0.25em 0 0 0; \n",
       "                            background:#d4fbff; padding:.3em; border-radius:5px;\">\n",
       "<b># ../OpsUtils/OpsUtils/Misc/get_files_recursive.py</b>\n",
       "def get_files_recursive(path: str = \"\", displayIt=10, returnItems: bool = False, displayLevel: int = 0):\n",
       "    \"\"\"\n",
       "    Recursively list files under a directory with optional on-screen display and\n",
       "    a structured return payload.\n",
       "\n",
       "    Features\n",
       "    --------\n",
       "    - Recursively walks `path`, listing files before directories at each level.\n",
       "    - Optional display of file paths with a limit per directory level.\n",
       "      * If `displayIt` is `True`, displays all files.\n",
       "      * If `displayIt` is `False`, displays nothing.\n",
       "      * If `displayIt` is an `int >= 2`, displays up to that many files per directory; prints a suppression note afterward.\n",
       "    - Returns counts and paths when `returnItems=True`.\n",
       "\n",
       "    Parameters\n",
       "    ----------\n",
       "    path : str, default=\"\"\n",
       "        Directory to traverse. Empty string means current working directory (`\".\"`).\n",
       "    displayIt : bool | int, default=10\n",
       "        Controls on-screen printing:\n",
       "        * `True`  -> print everything\n",
       "        * `False` -> print nothing\n",
       "        * `int` (>=2) -> print up to that many files per directory level\n",
       "        * `int` (0 or 1) -> treated as no limit (prints everything at that level)\n",
       "    returnItems : bool, default=False\n",
       "        If `True`, return a dict with counts and path lists (see Returns).\n",
       "    displayLevel : int, default=0\n",
       "        Internal recursion depth; callers generally leave this at default.\n",
       "\n",
       "    Returns\n",
       "    -------\n",
       "    dict | None\n",
       "        If `returnItems=True`, returns:\n",
       "            {\n",
       "                'Nfiles': <int>,                 # total number of files found\n",
       "                'LocalPath': <list[str]>,        # relative paths from `path`\n",
       "                'FullPath': <list[str]>,         # absolute file paths\n",
       "                'Items': <list[str]>             # basenames of files\n",
       "            }\n",
       "        Otherwise returns `None`.\n",
       "\n",
       "    Notes\n",
       "    -----\n",
       "    - Skips directories named `.ipynb_checkpoints`.\n",
       "    - Files are displayed before directories at each level for readability.\n",
       "    - Paths in `LocalPath` are relative to the input `path` (or \".\" if empty).\n",
       "\n",
       "    Example\n",
       "    -------\n",
       "    # Print up to 10 files per directory and also capture the results:\n",
       "    results = get_files_recursive(\"data\", displayIt=10, returnItems=True)\n",
       "    print(\"Total files:\", results['Nfiles'])\n",
       "\n",
       "    Author\n",
       "    ------\n",
       "    Silvia Mazzoni, DesignSafe (silviamazzoni@yahoo.com)\n",
       "\n",
       "    Date\n",
       "    ----\n",
       "    2025-08-14\n",
       "\n",
       "    Version\n",
       "    -------\n",
       "    1.0\n",
       "    \"\"\"\n",
       "\n",
       "    import os\n",
       "\n",
       "    # Interpret displayIt\n",
       "    if isinstance(displayIt, bool):\n",
       "        if displayLevel == 0:\n",
       "            displayLevel = 1 if displayIt else 0\n",
       "        displayLimit = None  # no per-dir limit; print all/none based on displayLevel\n",
       "    elif isinstance(displayIt, int):\n",
       "        if displayLevel == 0:\n",
       "            displayLevel = 1  # enable display at top if an int was provided\n",
       "        displayLimit = displayIt if displayIt >= 2 else None\n",
       "    else:\n",
       "        displayLimit = None\n",
       "\n",
       "    # Print directory header at this level if enabled\n",
       "    if displayLevel == 1:\n",
       "        print('----------------------------')\n",
       "        print(f'\\nDIRECTORY: {path if path else \".\"}')\n",
       "\n",
       "    # Prepare accumulators (use distinct names; do not overwrite the flag)\n",
       "    Nfiles = 0\n",
       "    local_paths = []\n",
       "    full_paths = []\n",
       "    item_names = []\n",
       "\n",
       "    # Resolve the output path\n",
       "    root = path if path else \".\"\n",
       "    try:\n",
       "        entries = os.listdir(root)\n",
       "    except FileNotFoundError:\n",
       "        if displayLevel == 1:\n",
       "            print(f'  [Error] Directory not found: {root}')\n",
       "        return {'Nfiles': 0, 'LocalPath': [], 'FullPath': [], 'Items': []} if returnItems else None\n",
       "    except PermissionError:\n",
       "        if displayLevel == 1:\n",
       "            print(f'  [Error] Permission denied: {root}')\n",
       "        return {'Nfiles': 0, 'LocalPath': [], 'FullPath': [], 'Items': []} if returnItems else None\n",
       "\n",
       "    # Split into files vs directories (files first in display)\n",
       "    dirs = [e for e in entries if os.path.isdir(os.path.join(root, e))]\n",
       "    files = [e for e in entries if not os.path.isdir(os.path.join(root, e))]\n",
       "    ordered = files + dirs\n",
       "\n",
       "    if displayLevel == 1:\n",
       "        print(f'  {len(files)} files & {len(dirs)} directories:')\n",
       "\n",
       "    printed_count = 0\n",
       "    suppressed_note_shown = False\n",
       "\n",
       "    for name in ordered:\n",
       "        if name == '.ipynb_checkpoints':\n",
       "            continue\n",
       "\n",
       "        local = name if not path else os.path.join(path, name)\n",
       "        full = os.path.abspath(os.path.join(root, name))\n",
       "\n",
       "        if os.path.isdir(full):\n",
       "            # Print directory header for subdir when displaying\n",
       "            if displayLevel == 1:\n",
       "                print('----------------------------')\n",
       "                print(f'\\nDIRECTORY: {local}')\n",
       "\n",
       "            # Recurse\n",
       "            ret = get_files_recursive(local, displayIt=displayIt, returnItems=True, displayLevel=displayLevel + 1)\n",
       "            Nfiles += ret['Nfiles']\n",
       "            local_paths.extend(ret['LocalPath'])\n",
       "            full_paths.extend(ret['FullPath'])\n",
       "            item_names.extend(ret['Items'])\n",
       "        else:\n",
       "            # Record file\n",
       "            Nfiles += 1\n",
       "            local_paths.append(local)\n",
       "            full_paths.append(full)\n",
       "            item_names.append(name)\n",
       "\n",
       "            # Conditional display\n",
       "            if displayLevel == 1:\n",
       "                if displayLimit is None or printed_count < displayLimit:\n",
       "                    print(f'    FILE: {local}')\n",
       "                    printed_count += 1\n",
       "                    if displayLimit is not None and printed_count == displayLimit:\n",
       "                        # next files will be suppressed\n",
       "                        pass\n",
       "                elif not suppressed_note_shown:\n",
       "                    print(f'\\n          ........(suppressing additional-file display beyond {displayLimit})')\n",
       "                    suppressed_note_shown = True\n",
       "\n",
       "    if returnItems:\n",
       "        return {\n",
       "            'Nfiles': Nfiles,\n",
       "            'LocalPath': local_paths,\n",
       "            'FullPath': full_paths,\n",
       "            'Items': item_names\n",
       "        }\n",
       "</pre>\n",
       "                      </details>\n",
       "                    "
      ],
      "text/plain": [
       "<IPython.core.display.HTML object>"
      ]
     },
     "metadata": {},
     "output_type": "display_data"
    }
   ],
   "source": [
    "OpsUtils.show_text_file_in_accordion(PathOpsUtils,['get_files_recursive.py'])"
   ]
  },
  {
   "cell_type": "code",
   "execution_count": 9,
   "metadata": {},
   "outputs": [
    {
     "name": "stdout",
     "output_type": "stream",
     "text": [
      "----------------------------\n",
      "\n",
      "DIRECTORY: /home/jupyter/MyData/tmp_removeME\n",
      "  5 files & 2 directories:\n",
      "    FILE: /home/jupyter/MyData/tmp_removeME/opensees.zip\n",
      "    FILE: /home/jupyter/MyData/tmp_removeME/tapisjob.env\n",
      "    FILE: /home/jupyter/MyData/tmp_removeME/tapisjob.out\n",
      "    FILE: /home/jupyter/MyData/tmp_removeME/tapisjob.sh\n",
      "    FILE: /home/jupyter/MyData/tmp_removeME/tapisjob_app.sh\n",
      "----------------------------\n",
      "\n",
      "DIRECTORY: /home/jupyter/MyData/tmp_removeME/inputDirectory\n"
     ]
    }
   ],
   "source": [
    "AllFiles = OpsUtils.get_files_recursive(path=projectDir)"
   ]
  },
  {
   "cell_type": "markdown",
   "metadata": {},
   "source": [
    "## Delete directory\n",
    "Clean up: this was just a temporary directory"
   ]
  },
  {
   "cell_type": "code",
   "execution_count": 10,
   "metadata": {},
   "outputs": [
    {
     "name": "stdout",
     "output_type": "stream",
     "text": [
      "Deleted directory and all contents: /home/jupyter/MyData/tmp_removeME\n"
     ]
    }
   ],
   "source": [
    "# let's use shutil utility to delete non-empty directory. BE CAREFUL!\n",
    "import shutil\n",
    "\n",
    "if os.path.exists(projectDir):\n",
    "    shutil.rmtree(projectDir)\n",
    "    print(f\"Deleted directory and all contents: {projectDir}\")\n",
    "else:\n",
    "    print(f\"Directory not found: {projectDir}\")"
   ]
  }
 ],
 "metadata": {
  "IMAGE_NAME": "taccsciapps/ds-nb-img:base-0.2.3",
  "UUID": "73e0880d-9b87-11ec-9c1c-13579dd95994",
  "celltoolbar": "Raw Cell Format",
  "kernelspec": {
   "display_name": "Python 3 (ipykernel)",
   "language": "python",
   "name": "python3"
  },
  "language_info": {
   "codemirror_mode": {
    "name": "ipython",
    "version": 3
   },
   "file_extension": ".py",
   "mimetype": "text/x-python",
   "name": "python",
   "nbconvert_exporter": "python",
   "pygments_lexer": "ipython3",
   "version": "3.12.11"
  }
 },
 "nbformat": 4,
 "nbformat_minor": 4
}
