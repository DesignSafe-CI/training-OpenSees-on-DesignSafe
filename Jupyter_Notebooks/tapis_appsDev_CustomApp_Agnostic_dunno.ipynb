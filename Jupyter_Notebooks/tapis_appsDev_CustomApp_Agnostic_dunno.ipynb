{
 "cells": [
  {
   "cell_type": "markdown",
   "metadata": {},
   "source": [
    "<a class=\"reference external\" \n",
    "    href=\"https://jupyter.designsafe-ci.org/hub/user-redirect/lab/tree/CommunityData/OpenSees/TrainingMaterial/training-OpenSees-on-DesignSafe/Jupyter_Notebooks/tapis_appsDev_CustomApp_opsmps3copy.ipynb\" \n",
    "    target=\"_blank\"\n",
    "    >\n",
    "<img alt=\"Try on DesignSafe\" src=\"https://raw.githubusercontent.com/DesignSafe-Training/pinn/main/DesignSafe-Badge.svg\" /></a>"
   ]
  },
  {
   "cell_type": "markdown",
   "metadata": {},
   "source": [
    "# Agnostic App  📒\n",
    "***Create your own Tapis App***\n",
    "\n",
    "by Silvia Mazzoni, DesignSafe, 2025\n",
    "\n",
    "This is a step-by-step guide to help you write your own **Tapis v3 App** — from defining the app, to registering it, and running it. \n",
    "\n",
    "This is a practical walkthrough for defining and deploying an **HPC** app using the Tapis v3 API.\n",
    "\n",
    "In this notebook we will modify the opensees-mp-s3 for OpenSeesMP or OpenSeesSP, etc.\n",
    "\n",
    "## Workflow\n",
    "\n",
    "| Step                        | Description                                                         |\n",
    "| --------------------------- | ------------------------------------------------------------------- |\n",
    "| 1. Create *app.json*        | Describes the app, its inputs, execution system, and wrapper script |\n",
    "| 2. Create *tapisjob_app.sh* | Runs your analysis (e.g., ibrun OpenSees main.tcl)                  |\n",
    "| 2a. Zip *tapisjob_app.sh* | It needs a zip file!                  |\n",
    "| 3. Create *profile.json*    | (Optional) Loads modules/environment                                |\n",
    "| 4. Upload Files             | To the deployment path in your storage system                       |\n",
    "| 5. Register App             | With Tapis via CLI or Python                                        |\n",
    "| 6. Submit Job               | Define `job.json` and submit                                        |"
   ]
  },
  {
   "cell_type": "code",
   "execution_count": null,
   "metadata": {},
   "outputs": [],
   "source": [
    "pwd"
   ]
  },
  {
   "cell_type": "code",
   "execution_count": null,
   "metadata": {},
   "outputs": [],
   "source": [
    "import json"
   ]
  },
  {
   "cell_type": "code",
   "execution_count": null,
   "metadata": {},
   "outputs": [],
   "source": [
    "# Local Utilities Library\n",
    "# you can remove the logic associated with the local path\n",
    "import sys,os\n",
    "relativePath = '../OpsUtils'\n",
    "if os.path.exists(relativePath):\n",
    "    print(\"Using local utilities library\")\n",
    "    PathOpsUtils = os.path.expanduser(relativePath)\n",
    "else:\n",
    "    print('using communitydata')\n",
    "    PathOpsUtils = os.path.expanduser('~/CommunityData/OpenSees/TrainingMaterial/training-OpenSees-on-DesignSafe/OpsUtils')\n",
    "if not PathOpsUtils in sys.path: sys.path.append(PathOpsUtils)\n",
    "from OpsUtils import OpsUtils"
   ]
  },
  {
   "cell_type": "markdown",
   "metadata": {},
   "source": [
    "---\n",
    "## Connect to Tapis"
   ]
  },
  {
   "cell_type": "code",
   "execution_count": null,
   "metadata": {},
   "outputs": [],
   "source": [
    "t=OpsUtils.connect_tapis()"
   ]
  },
  {
   "cell_type": "markdown",
   "metadata": {},
   "source": [
    "---\n",
    "### Get username"
   ]
  },
  {
   "cell_type": "code",
   "execution_count": null,
   "metadata": {},
   "outputs": [],
   "source": [
    "OpsUtils.show_text_file_in_accordion(PathOpsUtils, ['get_tapis_username.py'])"
   ]
  },
  {
   "cell_type": "code",
   "execution_count": null,
   "metadata": {},
   "outputs": [],
   "source": [
    "username = OpsUtils.get_tapis_username(t)\n",
    "print('username',username)"
   ]
  },
  {
   "cell_type": "markdown",
   "metadata": {},
   "source": [
    "## Define actions!"
   ]
  },
  {
   "cell_type": "code",
   "execution_count": null,
   "metadata": {},
   "outputs": [],
   "source": [
    "# Make these True once you are done validating\n",
    "do_makeApp = True\n",
    "do_submitJob = True"
   ]
  },
  {
   "cell_type": "markdown",
   "metadata": {},
   "source": [
    "---\n",
    "## Configure App"
   ]
  },
  {
   "cell_type": "code",
   "execution_count": null,
   "metadata": {},
   "outputs": [],
   "source": [
    "app_id = 'agnostic-app-test'\n",
    "app_description = 'Run any Executable'"
   ]
  },
  {
   "cell_type": "markdown",
   "metadata": {},
   "source": [
    "### AutoIncrement app_version"
   ]
  },
  {
   "cell_type": "code",
   "execution_count": null,
   "metadata": {},
   "outputs": [],
   "source": [
    "if do_makeApp:\n",
    "    latest_app_version = OpsUtils.get_latest_app_version(t,app_id)\n",
    "    print('now latest_app_version',latest_app_version)\n",
    "    app_version = OpsUtils.bump_app_version(latest_app_version,'patch')\n",
    "    print('now app_version',app_version)"
   ]
  },
  {
   "cell_type": "markdown",
   "metadata": {},
   "source": [
    "### Where to store the files"
   ]
  },
  {
   "cell_type": "code",
   "execution_count": null,
   "metadata": {},
   "outputs": [],
   "source": [
    "if do_makeApp:\n",
    "    app_system_id=\"designsafe.storage.default\"\n",
    "    app_path = f\"{username}/apps/{app_id}/{app_version}\"\n",
    "    container_filename = f'{app_id}.zip'"
   ]
  },
  {
   "cell_type": "markdown",
   "metadata": {},
   "source": [
    "### Define folder structure: app_id/version"
   ]
  },
  {
   "cell_type": "code",
   "execution_count": null,
   "metadata": {},
   "outputs": [],
   "source": [
    "if do_makeApp:\n",
    "    app_folderName = f'~/MyData/myAuthoredTapisApps/{app_id}/{app_version}'; # your choice"
   ]
  },
  {
   "cell_type": "code",
   "execution_count": null,
   "metadata": {},
   "outputs": [],
   "source": [
    "if do_makeApp:\n",
    "    app_folder = os.path.abspath(os.path.expanduser(app_folderName))\n",
    "    os.makedirs(app_folder, exist_ok=True)\n",
    "    print(f'app_folder: {app_folder}\\n exists:',os.path.exists(app_folder))"
   ]
  },
  {
   "cell_type": "markdown",
   "metadata": {},
   "source": [
    "---\n",
    "## Create the App Files\n",
    "\n",
    "A Tapis app needs the following **core files**:\n",
    "\n",
    "* **Readme.MD** – App Description (OPTIONAL)<br>\n",
    "This file is helpful in communicating content to the app user.  \n",
    "\n",
    "* **app.json** – App Definition<br>\n",
    "Defines the app’s metadata, inputs, parameters, and execution configuration.    \n",
    "\n",
    "* **profile.json** – Environment Setup *(optional but common)*<br>\n",
    "Loads modules or sets environment variables on the execution system. This file will load modules before your script runs. This is executed on the compute node.\n",
    "\n",
    "* **tapisjob_app.sh** – Wrapper Script<br>\n",
    "Wrapper script executed by the job; this is the command that launches your code (e.g., runs *OpenSeesMP*, Python, or a script)"
   ]
  },
  {
   "cell_type": "code",
   "execution_count": null,
   "metadata": {},
   "outputs": [],
   "source": [
    "# let's collect the list of files we are creating as we will need this list in upload\n",
    "if do_makeApp:\n",
    "    appFilesList = [];"
   ]
  },
  {
   "cell_type": "markdown",
   "metadata": {},
   "source": [
    "#### **Readme.MD** – App Description\n",
    "This file is helpful in communicating content to the app user.  "
   ]
  },
  {
   "cell_type": "code",
   "execution_count": null,
   "metadata": {},
   "outputs": [],
   "source": [
    "if do_makeApp:\n",
    "    thisFilename = 'ReadMe.MD'\n",
    "    thisText = \"\"\"\\\n",
    "    # making an application-agnostic app\n",
    "    \"\"\"\n",
    "    \n",
    "    with open(f\"{app_folder}/{thisFilename}\", \"w\") as f:\n",
    "        f.write(thisText)\n",
    "\n",
    "    appFilesList.append(thisFilename)"
   ]
  },
  {
   "cell_type": "markdown",
   "metadata": {},
   "source": [
    "#### **app.json** – App Definition\n",
    "Defines the app’s metadata, inputs, parameters, and execution configuration.    "
   ]
  },
  {
   "cell_type": "code",
   "execution_count": null,
   "metadata": {},
   "outputs": [],
   "source": [
    "if do_makeApp:\n",
    "    thisFilename = 'app.json'\n",
    "    thisText = \"\"\"\\\n",
    "    {\n",
    "      \"id\": \"__app_id__\",\n",
    "      \"version\": \"__app_version__\",\n",
    "      \"description\": \"__app_description__\",\n",
    "      \"owner\": \"${apiUserId}\",\n",
    "      \"enabled\": true,\n",
    "      \"runtime\": \"ZIP\",\n",
    "      \"runtimeVersion\": null,\n",
    "      \"runtimeOptions\": null,\n",
    "      \"containerImage\": \"__container_filename_path__\",\n",
    "      \"jobType\": \"BATCH\",\n",
    "      \"maxJobs\": -1,\n",
    "      \"maxJobsPerUser\": -1,\n",
    "      \"strictFileInputs\": true,\n",
    "      \"jobAttributes\": {\n",
    "        \"execSystemConstraints\": null,\n",
    "        \"execSystemId\": \"stampede3\",\n",
    "        \"execSystemExecDir\": \"${JobWorkingDir}\",\n",
    "        \"execSystemInputDir\": \"${JobWorkingDir}\",\n",
    "        \"execSystemOutputDir\": \"${JobWorkingDir}\",\n",
    "        \"execSystemLogicalQueue\": \"skx\",\n",
    "        \"archiveSystemId\": \"stampede3\",\n",
    "        \"archiveSystemDir\": \"HOST_EVAL($WORK)/tapis-jobs-archive/${JobCreateDate}/${JobName}-${JobUUID}\",\n",
    "        \"archiveOnAppError\": true,\n",
    "        \"isMpi\": false,\n",
    "        \"mpiCmd\": null,\n",
    "        \"parameterSet\": {\n",
    "          \"appArgs\": [\n",
    "            {\n",
    "              \"name\": \"Main Program\",\n",
    "              \"description\": \"Choose the binary Executable to use.\",\n",
    "              \"arg\": \"OpenSeesMP\",\n",
    "              \"inputMode\": \"REQUIRED\",\n",
    "                \"notes\": {\n",
    "                    \"enum_values\": [\n",
    "                        {\n",
    "                            \"OpenSeesMP\": \"OpenSeesMP\"\n",
    "                        },\n",
    "                        {\n",
    "                            \"OpenSeesSP\": \"OpenSeesSP\"\n",
    "                        },\n",
    "                        {\n",
    "                            \"python\": \"python\"\n",
    "                        }\n",
    "                    ]\n",
    "                }\n",
    "            },\n",
    "            {\n",
    "              \"name\": \"Main Script\",\n",
    "              \"description\": \"The filename only of the input script to submit to executable. This file should reside in the Input Directory specified.\",\n",
    "              \"arg\": null,\n",
    "              \"inputMode\": \"REQUIRED\",\n",
    "              \"notes\": {\n",
    "                \"inputType\": \"fileInput\"\n",
    "              }\n",
    "            },\n",
    "            {\n",
    "              \"name\": \"CommandLine Arguments\",\n",
    "              \"description\": \"Command-Line Arguments (Optional)\",\n",
    "              \"arg\": null,\n",
    "              \"inputMode\": \"INCLUDE_ON_DEMAND\",\n",
    "              \"notes\": {\n",
    "              }\n",
    "            }\n",
    "            \n",
    "          ],\n",
    "          \"containerArgs\": [],\n",
    "          \"schedulerOptions\": [\n",
    "            {\n",
    "              \"name\": \"OpenSees TACC Scheduler Profile\",\n",
    "              \"description\": \"Scheduler profile for the default version of OpenSees\",\n",
    "              \"inputMode\": \"FIXED\",\n",
    "              \"arg\": \"--tapis-profile OpenSees_default\",\n",
    "              \"notes\": {\n",
    "                \"isHidden\": true\n",
    "              }\n",
    "            }\n",
    "          ],\n",
    "          \"envVariables\": [\n",
    "                  { \"key\": \"zipFileIn\", \"value\": \"\", \"inputMode\": \"INCLUDE_BY_DEFAULT\" },\n",
    "                  { \"key\": \"zipFolderOut\", \"value\": \"False\", \"inputMode\": \"INCLUDE_BY_DEFAULT\" },\n",
    "                  { \"key\": \"requirementFile\", \"value\": \"\", \"inputMode\": \"INCLUDE_BY_DEFAULT\" }\n",
    "             ],\n",
    "          \"archiveFilter\": {\n",
    "            \"includes\": [],\n",
    "            \"excludes\": [__container_filename__],\n",
    "            \"includeLaunchFiles\": true\n",
    "          }\n",
    "        },\n",
    "        \"fileInputs\": [\n",
    "          {\n",
    "            \"name\": \"Input Directory\",\n",
    "            \"inputMode\": \"REQUIRED\",\n",
    "            \"sourceUrl\": null,\n",
    "            \"targetPath\": \"inputDirectory\",\n",
    "            \"envKey\": \"inputDirectory\",\n",
    "            \"description\": \"Input directory that includes the input script as well as any other required files. Example input is in tapis://designsafe.storage.community/app_examples/opensees/OpenSeesMP\",\n",
    "            \"notes\": {\n",
    "              \"selectionMode\": \"directory\"\n",
    "            }\n",
    "          }\n",
    "        ],\n",
    "        \"fileInputArrays\": [],\n",
    "        \"nodeCount\": 1,\n",
    "        \"coresPerNode\": 48,\n",
    "        \"memoryMB\": 192000,\n",
    "        \"maxMinutes\": 120,\n",
    "        \"subscriptions\": [],\n",
    "        \"tags\": []\n",
    "      },\n",
    "      \"tags\": [\n",
    "        \"portalName: DesignSafe\",\n",
    "        \"portalName: CEP\"\n",
    "      ],\n",
    "      \"notes\": {\n",
    "        \"label\": \"__app_id__\",\n",
    "        \"helpUrl\": \"\",\n",
    "        \"hideNodeCountAndCoresPerNode\": false,\n",
    "        \"isInteractive\": false,\n",
    "        \"icon\": \"OpenSees\",\n",
    "        \"category\": \"Simulation\"\n",
    "      }\n",
    "    }\n",
    "    \"\"\"\n",
    "    thisText = thisText.replace(\"__app_id__\", app_id)\n",
    "    thisText = thisText.replace(\"__app_version__\", app_version)\n",
    "    thisText = thisText.replace(\"__app_description__\", app_description)\n",
    "    thisText = thisText.replace(\"__container_filename_path__\", f\"tapis://{app_system_id}/{app_path}/{container_filename}\")\n",
    "    thisText = thisText.replace(\"__container_filename__\", container_filename)\n",
    "\n",
    "    \n",
    "    \n",
    "    \n",
    "    with open(f\"{app_folder}/{thisFilename}\", \"w\") as f:\n",
    "        f.write(thisText)\n",
    "\n",
    "    appFilesList.append(thisFilename)"
   ]
  },
  {
   "cell_type": "markdown",
   "metadata": {},
   "source": [
    "#### **profile.json** – Environment Setup\n",
    "This file will load modules before your script runs. This is executed on the compute node."
   ]
  },
  {
   "cell_type": "code",
   "execution_count": null,
   "metadata": {},
   "outputs": [],
   "source": [
    "if do_makeApp:\n",
    "    thisFilename = 'profile.json'\n",
    "    thisText = \"\"\"\\\n",
    "    {\n",
    "        \"name\": \"__app_id__\",\n",
    "        \"description\": \"Modules to load\",\n",
    "        \"moduleLoads\": [ ],\n",
    "        \"hiddenOptions\": [\n",
    "            \"MEM\"\n",
    "        ]\n",
    "    }\n",
    "    \"\"\"    \n",
    "    # thisText = \"\"\"\\\n",
    "    # {\n",
    "    #     \"name\": \"AgnosticApp\",\n",
    "    #     \"description\": \"Modules to load\",\n",
    "    #     \"moduleLoads\": [\n",
    "    #         {\n",
    "    #             \"modulesToLoad\": [\n",
    "    #                 \"hdf5/1.14.4\",\n",
    "    #                 \"opensees\"\n",
    "    #             ],\n",
    "    #             \"moduleLoadCommand\": \"module load\"\n",
    "    #         }\n",
    "    #     ],\n",
    "    #     \"hiddenOptions\": [\n",
    "    #         \"MEM\"\n",
    "    #     ]\n",
    "    # }\n",
    "    # \"\"\"\n",
    "    thisText = thisText.replace(\"__app_id__\", app_id)\n",
    "    with open(f\"{app_folder}/{thisFilename}\", \"w\") as f:\n",
    "        f.write(thisText)\n",
    "\n",
    "    appFilesList.append(thisFilename)"
   ]
  },
  {
   "cell_type": "markdown",
   "metadata": {},
   "source": [
    "#### **tapisjob_app.sh** – Wrapper Script\n",
    "Wrapper script executed by the job; this is the command that launches your code (e.g., runs *OpenSeesMP*, Python, or a script)"
   ]
  },
  {
   "cell_type": "code",
   "execution_count": null,
   "metadata": {},
   "outputs": [],
   "source": [
    "if do_makeApp:\n",
    "    import textwrap, time\n",
    "    from zipfile import ZipFile, ZIP_DEFLATED, ZipInfo\n",
    "    \n",
    "    thisFilename_sh = \"tapisjob_app.sh\"\n",
    "    thisFilename = container_filename  # existing var\n",
    "\n",
    "\n",
    "    bash_script = textwrap.dedent(\"\"\"\\\n",
    "        #!/bin/bash\n",
    "        set -euo pipefail\n",
    "        set -x\n",
    "\n",
    "        # ---- required args ----\n",
    "        BINARYNAME=\"${1:?missing binary name}\"\n",
    "        INPUTSCRIPT0=\"${2:?missing input script}\"\n",
    "        shift 2\n",
    "\n",
    "        # ---- optional env with safe defaults ----\n",
    "        inputDirectory=\"${inputDirectory:?inputDirectory not set}\"\n",
    "        zipFileIn=\"${zipFileIn:-}\"\n",
    "        zipFolderOut=\"${zipFolderOut:-}\"\n",
    "        echo \"zipFileIn: ${zipFileIn}\"\n",
    "        echo \"zipFolderOut: ${zipFolderOut}\"\n",
    "\n",
    "        INPUTSCRIPT=\"${INPUTSCRIPT0##*/}\"\n",
    "        echo \"INPUTSCRIPT: $INPUTSCRIPT\"\n",
    "        echo \"ARGS: $*\"\n",
    "\n",
    "        cd -- \"$inputDirectory\"\n",
    "\n",
    "        # ---- expand input ZIP if provided ----\n",
    "        if [[ -n \"$zipFileIn\" && -f \"$zipFileIn\" ]]; then\n",
    "          echo \"Unzipping $zipFileIn ...\"\n",
    "          unzip -o -q \"$zipFileIn\"\n",
    "        fi\n",
    "\n",
    "        # ---- modules for OpenSees family ----\n",
    "        case \"$BINARYNAME\" in\n",
    "          OpenSees|OpenSeesMP|OpenSeesSP)\n",
    "            module load hdf5/1.14.4\n",
    "            module load opensees\n",
    "            module list || true\n",
    "            echo \"Loaded OpenSees modules\"\n",
    "            ;;\n",
    "        esac\n",
    "\n",
    "        # ---- modules for python ----\n",
    "        if [[ -n \"$requirementFile\" && -f \"$requirementFile\" ]]; then\n",
    "          echo \"Install requirements file\"\n",
    "          python -m pip install -r \"$requirementFile\"\n",
    "        fi\n",
    "\n",
    "        # ---- choose launcher ----\n",
    "        if [[ \"$BINARYNAME\" == \"OpenSees\" ]]; then\n",
    "          LAUNCH=()        # direct run for sequential\n",
    "        else\n",
    "          LAUNCH=(ibrun)   # MPI/SP use ibrun on TACC\n",
    "        fi\n",
    "\n",
    "        echo \"Running: ${LAUNCH[*]} $BINARYNAME $INPUTSCRIPT $*\"\n",
    "        if ! \"${LAUNCH[@]}\" \"$BINARYNAME\" \"$INPUTSCRIPT\" \"$@\"; then\n",
    "          rc=$?\n",
    "          echo \"Program exited with error status: $rc\" >&2\n",
    "          exit \"$rc\"\n",
    "        fi\n",
    "        echo \"done, now zippit!\"\n",
    "        # ---- optional re-pack an output folder ----\n",
    "        if [[ \"${zipFolderOut:-}\" =~ ^([Tt][Rr][Uu][Ee]|1|[Yy][Ee]?[Ss]?)$ ]]; then\n",
    "          cd ..\n",
    "          echo \"Zipping output folder \"$inputDirectory\" -> ${zipFolderOut}.zip\"\n",
    "          zip -r -q \"inputDirectory.zip\" \"$inputDirectory\"\n",
    "          rm -rf \"$inputDirectory\"\n",
    "        fi\n",
    "    \"\"\")\n",
    "\n",
    "\n",
    "    zip_path = os.path.join(app_folder, thisFilename)\n",
    "    print('zip_path',zip_path)\n",
    "\n",
    "    # write with executable permission inside the ZIP\n",
    "    zi = ZipInfo(thisFilename_sh)\n",
    "    zi.date_time = time.localtime(time.time())[:6]\n",
    "    zi.compress_type = ZIP_DEFLATED\n",
    "    zi.external_attr = 0o100755 << 16   # -rwxr-xr-x on a regular file\n",
    "    \n",
    "    with ZipFile(zip_path, \"w\", ZIP_DEFLATED) as z:\n",
    "        z.writestr(zi, bash_script)\n",
    "        \n",
    "    appFilesList.append(thisFilename)"
   ]
  },
  {
   "cell_type": "markdown",
   "metadata": {},
   "source": [
    "#### File Check\n",
    "Look at the files we have written and check for typos or formatting errors."
   ]
  },
  {
   "cell_type": "code",
   "execution_count": null,
   "metadata": {
    "scrolled": true
   },
   "outputs": [],
   "source": [
    "if do_makeApp:\n",
    "    print(appFilesList)\n",
    "    OpsUtils.show_text_file_in_accordion(app_folder, appFilesList)"
   ]
  },
  {
   "cell_type": "markdown",
   "metadata": {},
   "source": [
    "---\n",
    "## Validate App Locally"
   ]
  },
  {
   "cell_type": "code",
   "execution_count": null,
   "metadata": {},
   "outputs": [],
   "source": [
    "if do_makeApp:\n",
    "    OpsUtils.show_text_file_in_accordion(PathOpsUtils, ['validate_app_folder.py'])"
   ]
  },
  {
   "cell_type": "code",
   "execution_count": null,
   "metadata": {},
   "outputs": [],
   "source": [
    "if do_makeApp:\n",
    "    validation = OpsUtils.validate_app_folder(app_folder,appFilesList)\n",
    "    if not validation:\n",
    "        print('Validation Failed: stopping here!!!!')\n",
    "        a = 3/0"
   ]
  },
  {
   "cell_type": "markdown",
   "metadata": {},
   "source": [
    "---\n",
    "## Deploy the App"
   ]
  },
  {
   "cell_type": "markdown",
   "metadata": {},
   "source": [
    "### Make the directory inside your 'MyData' on designsafe.storage.default.\n",
    "The apps in this folder are the ones that area actually uploaded."
   ]
  },
  {
   "cell_type": "code",
   "execution_count": null,
   "metadata": {},
   "outputs": [],
   "source": [
    "if do_makeApp:\n",
    "    t.files.mkdir(systemId=app_system_id, path=app_path)\n",
    "    print('app_path',app_path)"
   ]
  },
  {
   "cell_type": "markdown",
   "metadata": {},
   "source": [
    "### Upload files to your deployment system (e.g., DesignSafe default storage)\n",
    "Using Tapipy (Python SDK) in a Jupyter Notebook"
   ]
  },
  {
   "cell_type": "code",
   "execution_count": null,
   "metadata": {},
   "outputs": [],
   "source": [
    "if do_makeApp:\n",
    "    for fname in appFilesList:\n",
    "        fpath = f'{app_folder}/{fname}'\n",
    "        t.upload(source_file_path=fpath,\n",
    "                 system_id=app_system_id,\n",
    "                 dest_file_path=f'{app_path}/{fname}')"
   ]
  },
  {
   "cell_type": "markdown",
   "metadata": {},
   "source": [
    "#### Verify upload"
   ]
  },
  {
   "cell_type": "code",
   "execution_count": null,
   "metadata": {},
   "outputs": [],
   "source": [
    "if do_makeApp:\n",
    "    print('app_system_id:',app_system_id)\n",
    "    print('app_path:',app_path)\n",
    "    appfiles = t.files.listFiles(systemId=app_system_id, path=app_path)\n",
    "    for thisF in appfiles:\n",
    "        print(thisF)\n",
    "        print('')"
   ]
  },
  {
   "cell_type": "markdown",
   "metadata": {},
   "source": [
    "---\n",
    "## Register the App\n",
    "This creates the actual App record that Jobs can run.\n",
    "\n",
    "Do this Using Tapipy (Python)"
   ]
  },
  {
   "cell_type": "code",
   "execution_count": null,
   "metadata": {},
   "outputs": [],
   "source": [
    "if do_makeApp:\n",
    "    # Create (or create a new version) of the app\n",
    "    with open(f'{app_folder}/app.json') as f:\n",
    "        app_def = json.load(f)\n",
    "    t.apps.createAppVersion(**app_def)"
   ]
  },
  {
   "cell_type": "markdown",
   "metadata": {},
   "source": [
    "### Check that app is up"
   ]
  },
  {
   "cell_type": "markdown",
   "metadata": {},
   "source": [
    "#### List all apps"
   ]
  },
  {
   "cell_type": "code",
   "execution_count": null,
   "metadata": {},
   "outputs": [],
   "source": [
    "listType = 'ALL' # Include all items requester is authorized to view. Includes check for READ or MODIFY permission.\n",
    "select = 'id,created,description,version,owner' # Attributes to return in each result.\n",
    "orderBy = 'created(asc)'\n",
    "results = t.apps.getApps( orderBy=orderBy,\n",
    "                         select=select)  \n",
    "for thisRes in results:\n",
    "    print('--')\n",
    "    print(thisRes)"
   ]
  },
  {
   "cell_type": "markdown",
   "metadata": {},
   "source": [
    "#### List the new app"
   ]
  },
  {
   "cell_type": "code",
   "execution_count": null,
   "metadata": {},
   "outputs": [],
   "source": [
    "appMetaData = t.apps.getAppLatestVersion(appId=app_id)\n",
    "print(appMetaData)"
   ]
  },
  {
   "cell_type": "markdown",
   "metadata": {},
   "source": [
    "---\n",
    "## Submit a Job\n",
    "\n",
    "You can now submit a job using this app. You can use the Tapis CLI, Tapipy, or a web form.\n",
    "\n",
    "We are using TapiPy directly from this notebook. We will not specify a version so that the latest is used by default in the description."
   ]
  },
  {
   "cell_type": "markdown",
   "metadata": {},
   "source": [
    "---\n",
    "### Initialize"
   ]
  },
  {
   "cell_type": "code",
   "execution_count": null,
   "metadata": {},
   "outputs": [],
   "source": [
    "tapisInputAll = {}"
   ]
  },
  {
   "cell_type": "markdown",
   "metadata": {},
   "source": [
    "---\n",
    "### SLURM-Specific Input"
   ]
  },
  {
   "cell_type": "code",
   "execution_count": null,
   "metadata": {},
   "outputs": [],
   "source": [
    "tapisInputAll[\"maxMinutes\"] = 6\n",
    "\n",
    "tapisInputAll[\"execSystemId\"] = \"stampede3\"\n",
    "tapisInputAll[\"execSystemLogicalQueue\"] = \"skx-dev\"\n",
    "tapisInputAll[\"nodeCount\"] = 1\n",
    "tapisInputAll[\"coresPerNode\"] = 48\n",
    "tapisInputAll[\"allocation\"] = \"DS-HPC1\"\n",
    "\n",
    "tapisInputAll['archive_system']='Work' # Options: MyData or Work"
   ]
  },
  {
   "cell_type": "markdown",
   "metadata": {},
   "source": [
    "---\n",
    "### App-Specific Input"
   ]
  },
  {
   "cell_type": "code",
   "execution_count": null,
   "metadata": {},
   "outputs": [],
   "source": [
    "print('app_id:',app_id)"
   ]
  },
  {
   "cell_type": "code",
   "execution_count": null,
   "metadata": {},
   "outputs": [],
   "source": [
    "tapisInput = tapisInputAll.copy()\n",
    "\n",
    "tapisInput['storage_system'] = 'CommunityData'\n",
    "tapisInput['input_folder'] = 'OpenSees/TrainingMaterial/training-OpenSees-on-DesignSafe/Examples_OpenSees/BasicExamples' \n",
    "\n",
    "tapisInput['main_program'] = 'OpenSees'\n",
    "tapisInput['input_filename'] = 'Ex1a.Canti2D.Push.tcl'\n",
    "\n",
    "tapisInput['command_line_args'] = '[33,22]'\n",
    "\n",
    "# -----------------------------------------------------\n",
    "if do_submitJob:\n",
    "    for hereApp in ['opensees-express',app_id]:\n",
    "        print(f'\\n -- {tapisInput['main_program']} {hereApp} --\\n')\n",
    "        here_tapisInput = tapisInput.copy()\n",
    "        here_tapisInput[\"appId\"] = hereApp \n",
    "        here_tapisInput[\"name\"] = here_tapisInput['main_program'] + '_' + here_tapisInput[\"appId\"]\n",
    "        jobReturns = OpsUtils.run_tapis_job(t,here_tapisInput,get_job_metadata=True,get_job_history=True,get_job_filedata=True,askConfirmJob = False,askConfirmMonitorRT = False)\n",
    "# -----------------------------------------------------"
   ]
  }
 ],
 "metadata": {
  "IMAGE_NAME": "taccsciapps/ds-nb-img:base-0.2.3",
  "UUID": "73e0880d-9b87-11ec-9c1c-13579dd95994",
  "celltoolbar": "Raw Cell Format",
  "kernelspec": {
   "display_name": "Python 3 (ipykernel)",
   "language": "python",
   "name": "python3"
  },
  "language_info": {
   "codemirror_mode": {
    "name": "ipython",
    "version": 3
   },
   "file_extension": ".py",
   "mimetype": "text/x-python",
   "name": "python",
   "nbconvert_exporter": "python",
   "pygments_lexer": "ipython3",
   "version": "3.12.11"
  }
 },
 "nbformat": 4,
 "nbformat_minor": 4
}
