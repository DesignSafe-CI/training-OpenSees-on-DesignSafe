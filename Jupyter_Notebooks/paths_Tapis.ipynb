{
 "cells": [
  {
   "cell_type": "markdown",
   "metadata": {},
   "source": [
    "<a class=\"reference external\" \n",
    "    href=\"https://jupyter.designsafe-ci.org/hub/user-redirect/lab/tree/CommunityData/OpenSees/TrainingMaterial/training-OpenSees-on-DesignSafe/Jupyter_Notebooks/paths_Tapis.ipynb\" \n",
    "    target=\"_blank\"\n",
    "    >\n",
    "<img alt=\"Try on DesignSafe\" src=\"https://raw.githubusercontent.com/DesignSafe-Training/pinn/main/DesignSafe-Badge.svg\" /></a>"
   ]
  },
  {
   "cell_type": "markdown",
   "metadata": {},
   "source": [
    "# Tapis Paths  📒\n",
    "***How DesignSafe File Storage and Tapis Work Together***\n",
    "\n",
    "by Silvia Mazzoni, DesignSafe, 2025"
   ]
  },
  {
   "cell_type": "markdown",
   "metadata": {},
   "source": [
    "Tapis powers file access and job submission on DesignSafe. It provides a consistent interface to interact with **multiple storage systems** and **compute environments**, making it easier to manage data before, during, and after simulation workflows.\n",
    "\n",
    "With Tapis, you can:\n",
    "\n",
    "* **List, upload, download, move, and delete files** across storage systems\n",
    "* **Stage input files** (e.g., move from long-term storage to a compute node)\n",
    "* **Collect outputs automatically** and return them to Corral (*MyData*)\n",
    "* Use the same scripting or automation tools across locations\n",
    "\n",
    "Tapis acts as the **glue** between DesignSafe’s storage and compute environments, streamlining data movement and improving reproducibility.\n",
    "\n",
    "In this notebook, we’ll assemble a JSON dictionary of your Tapis paths and save it to your MyData (**~/MyData/.tapis_user_paths.json**) so you can reference it from any script at any time, even in new Jupyter Sessions, or from elsewhere.\n",
    "\n",
    "Make sure you have \"Established Your System Credentials\" first!"
   ]
  },
  {
   "cell_type": "code",
   "execution_count": 1,
   "metadata": {},
   "outputs": [
    {
     "name": "stdout",
     "output_type": "stream",
     "text": [
      "Using local utilities library\n"
     ]
    }
   ],
   "source": [
    "# Local Utilities Library\n",
    "# you can remove the logic associated with the local path\n",
    "import sys,os\n",
    "relativePath = '../OpsUtils'\n",
    "if os.path.exists(relativePath):\n",
    "    print(\"Using local utilities library\")\n",
    "    PathOpsUtils = os.path.expanduser(relativePath)\n",
    "else:\n",
    "    print('using communitydata')\n",
    "    PathOpsUtils = os.path.expanduser('~/CommunityData/OpenSees/TrainingMaterial/training-OpenSees-on-DesignSafe/OpsUtils')\n",
    "if not PathOpsUtils in sys.path: sys.path.append(PathOpsUtils)\n",
    "from OpsUtils import OpsUtils"
   ]
  },
  {
   "cell_type": "code",
   "execution_count": 2,
   "metadata": {},
   "outputs": [
    {
     "name": "stdout",
     "output_type": "stream",
     "text": [
      " -- Checking Tapis token --\n",
      " Token loaded from file. Token is still valid!\n",
      " Token expires at: 2025-08-22T07:29:28+00:00\n",
      " Token expires in: 2:00:12.145495\n",
      "-- LOG IN SUCCESSFUL! --\n"
     ]
    }
   ],
   "source": [
    "# Connect to Tapis\n",
    "t=OpsUtils.connect_tapis()"
   ]
  },
  {
   "cell_type": "code",
   "execution_count": 3,
   "metadata": {},
   "outputs": [],
   "source": [
    "# Initialize Json dictionary\n",
    "TapisPaths = {}"
   ]
  },
  {
   "cell_type": "markdown",
   "metadata": {},
   "source": [
    "---\n",
    "\n",
    "## The Two Parts of a Tapis Path\n",
    "\n",
    "A Tapis path is conceptually:\n",
    "\n",
    "```\n",
    "tapis://<SYSTEM_ID>/<RELATIVE_PATH>\n",
    "```\n",
    "\n",
    "1. ***SYSTEM_ID*** — which storage system you’re targeting\n",
    "   Examples:\n",
    "   * *designsafe.storage.default* (MyData),\n",
    "   * *designsafe.storage.community* (Community),\n",
    "   * *cloud.data* (Work allocations),\n",
    "   or a\n",
    "   * project-scoped system (e.g., *project-<uuid>*)\n",
    "\n",
    "3. ***RELATIVE_PATH*** — the location **inside that system’s root**\n",
    "   This is *not* relative to your program’s current directory; it’s relative to the **system root**.\n",
    "\n",
    "   Tapis ignores CWD entirely; it’s always “(system, path-within-that-system).”\n",
    "\n",
    "\n",
    "When building your tapis paths, it's always a good idea to define these two components separately and join them only in the input. This makes your script more portable and reusable.\n",
    "\n",
    "---\n",
    "\n",
    "## How Tapis Paths Differ from Jupyter Paths\n",
    "\n",
    "* **Jupyter/OS paths** (e.g., */home/jovyan/...* or *data/run1.csv*) resolve relative to your **current working directory (CWD)** on that machine.\n",
    "* **Tapis paths** ignore CWD. They always mean **(system, path-within-that-system)**, no matter where your code runs.\n",
    "* For batch/automation (Tapis jobs, SLURM), Tapis paths are **more portable** than CWD-dependent relative paths.\n",
    "\n",
    "---\n",
    "## Obtaining File-System Paths\n",
    "\n",
    "### Start with the Easy, Fixed Bases\n",
    "\n",
    "These don’t depend on an HPC system or allocation. Once you know your username, the bases are stable. Because you can obtain your username programmatically from Tapis, you may not need to know it.\n",
    "\n",
    "| Storage       | Typical Base (Tapis)                             | Notes                                  |\n",
    "| ------------- | ------------------------------------------------ | -------------------------------------- |\n",
    "| **MyData**    | `tapis://designsafe.storage.default/<username>/` | Your personal storage (aka Corral)     |\n",
    "| **Community** | `tapis://designsafe.storage.community/`          | Public community content (read-mostly) |\n",
    "| **Published** | `tapis://designsafe.storage.published/`          | Published content (read-only) |\n",
    "\n",
    "**Examples**\n",
    "\n",
    "\n",
    "* **MyData**:\n",
    "  \n",
    "    MyData/inputs/model.tcl\n",
    "    → tapis://designsafe.storage.default/username/inputs/model.tcl\n",
    "  \n",
    "    ***don't forget your username!***\n",
    "\n",
    "\n",
    "* **CommunityData**:\n",
    "  \n",
    "    CommunityData/Records/ATC-63/groundmotion.at2\n",
    "    → tapis://designsafe.storage.community/Records/ATC-63/groundmotion.at2\n",
    "\n",
    "* **Published**:\n",
    "   \n",
    "    Published/Records/ATC-63/groundmotion.at2\n",
    "    → tapis://designsafe.storage.published/Records/ATC-63/groundmotion.at2\n",
    "\n",
    "  You can find the relative path in the Data Depot\n",
    "\n",
    "\n",
    "Use these as **bases**, then append project/job-specific subpaths.\n"
   ]
  },
  {
   "cell_type": "markdown",
   "metadata": {},
   "source": [
    "#### Obtain your username programmatically\n",
    "Using a utility function"
   ]
  },
  {
   "cell_type": "code",
   "execution_count": 4,
   "metadata": {},
   "outputs": [
    {
     "name": "stdout",
     "output_type": "stream",
     "text": [
      "username: silvia\n"
     ]
    }
   ],
   "source": [
    "username = OpsUtils.get_tapis_username(t)\n",
    "print('username:',username)"
   ]
  },
  {
   "cell_type": "code",
   "execution_count": 5,
   "metadata": {},
   "outputs": [],
   "source": [
    "# we will make the keys lower case, as they'll be easier to match\n",
    "TapisPaths['mydata'] = f'tapis://designsafe.storage.default/{username}'\n",
    "TapisPaths['community'] = f'tapis://designsafe.storage.community'\n",
    "TapisPaths['published'] = f'tapis://designsafe.storage.published'"
   ]
  },
  {
   "cell_type": "markdown",
   "metadata": {},
   "source": [
    "--\n",
    "\n",
    "### Next: Work (User & System Dependent)\n",
    "\n",
    "**Work** is the shared, high-performance project area mounted on both **JupyterHub** and **HPC**—ideal for staging inputs and storing outputs for jobs. Its base includes **allocation and username**, and differs by system (e.g., Stampede3 vs. LS6).\n",
    "\n",
    "**Typical form:**\n",
    "\n",
    "```\n",
    "tapis://cloud.data/work/<allocation>/<username>/<system>/\n",
    "```\n",
    "\n",
    "Because this base is user/system-specific, it’s best to **discover it once** and **save it**.\n",
    "\n",
    "### One-Time Setup (Recommended)\n",
    "\n",
    "Use your utility function (e.g., `get_user_work_path`) to fetch and persist the base for each system you use (Stampede3, LS6, Frontera). Run it **once**, cache results to a small file (e.g., `~/.designsafe/user_paths.json`), and reuse forever. Because this app submits a job, it may take a bit to run."
   ]
  },
  {
   "cell_type": "code",
   "execution_count": 6,
   "metadata": {},
   "outputs": [
    {
     "name": "stdout",
     "output_type": "stream",
     "text": [
      "stampede3: tapis://cloud.data/work/05072/silvia/stampede3/\n",
      "ls6: tapis://cloud.data/work/05072/silvia/ls6/\n",
      "frontera: tapis://cloud.data/work/05072/silvia/frontera/\n",
      "TapisPaths {'mydata': 'tapis://designsafe.storage.default/silvia', 'community': 'tapis://designsafe.storage.community', 'published': 'tapis://designsafe.storage.published', 'work': {'stampede3': 'tapis://cloud.data/work/05072/silvia/stampede3/', 'ls6': 'tapis://cloud.data/work/05072/silvia/ls6/', 'frontera': 'tapis://cloud.data/work/05072/silvia/frontera/'}}\n"
     ]
    }
   ],
   "source": [
    "from pathlib import Path\n",
    "systems = [\"stampede3\", \"ls6\", \"frontera\"]\n",
    "\n",
    "TapisPaths['work'] = {}\n",
    "for s in systems:\n",
    "    work_base = OpsUtils.get_user_work_tapis_uri(t, system_id=s)    \n",
    "    print(f'{s}: {work_base}')\n",
    "    TapisPaths['work'][s] = work_base\n",
    "\n",
    "print('TapisPaths',TapisPaths)"
   ]
  },
  {
   "cell_type": "markdown",
   "metadata": {},
   "source": [
    "## Semi-Automatic: Copy from the Web Portal\n",
    "\n",
    "If you don’t have a base yet (or you’re exploring):\n",
    "\n",
    "1. Open an app page (e.g., OpenSeesMP on Stampede3).\n",
    "2. Click the **folder** icon to browse.\n",
    "3. Navigate to the target directory and select it.\n",
    "4. Copy the displayed Tapis URI, e.g.\n",
    "\n",
    "   ```\n",
    "   tapis://cloud.data/work/05072/jdoe/stampede3/somefolder\n",
    "   ```\n",
    "5. Keep the **base portion** for reuse:\n",
    "\n",
    "   ```\n",
    "   tapis://cloud.data/work/05072/jdoe/stampede3/\n",
    "   ```\n",
    "\n",
    "Once you get the hang of this, it’s quick—then move that base into your saved JSON so you never have to browse again.\n",
    "\n",
    "---\n",
    "\n",
    "## (Optional) Manual Construction\n",
    "\n",
    "When you know the patterns, you can write URIs by hand:\n",
    "\n",
    "* **MyData**: `tapis://designsafe.storage.default/<username>/…`\n",
    "* **Community**: `tapis://designsafe.storage.community/…`\n",
    "* **Work**: `tapis://cloud.data/work/<allocation>/<username>/<system>/…`\n",
    "* **Projects**: `tapis://project-<uuid-or-alias>/…` (project-scoped systems)\n",
    "\n",
    "> These patterns include **site-specific pieces** (allocation numbers, project IDs). Grab them once (utility or portal), then store and reuse.\n",
    "\n",
    "---\n",
    "\n",
    "## Quick Reminders\n",
    "\n",
    "* Tapis paths are **system-rooted**, not CWD-rooted (different from Jupyter).\n",
    "* Use **Work** for HPC I/O; copy anything you want to keep from **Scratch** into **Work** or **MyData**.\n",
    "* Save your bases once; **append relative subpaths** in all your scripts and job submissions.\n"
   ]
  },
  {
   "cell_type": "markdown",
   "metadata": {},
   "source": [
    "## save to a file\n",
    "This is the default (\"~/MyData/.tapis_user_paths.json\") path that will be used in the utility functions (OpsUtils) used in this training module."
   ]
  },
  {
   "cell_type": "code",
   "execution_count": 7,
   "metadata": {},
   "outputs": [
    {
     "data": {
      "text/plain": [
       "375"
      ]
     },
     "execution_count": 7,
     "metadata": {},
     "output_type": "execute_result"
    }
   ],
   "source": [
    "import json\n",
    "Path(\"~/MyData/.tapis_user_paths.json\").expanduser().write_text(json.dumps(TapisPaths, indent=2))"
   ]
  },
  {
   "cell_type": "markdown",
   "metadata": {},
   "source": [
    "## Use Utility Function\n",
    "We have put the above steps into a utility function: get_tapis_base_paths(t,system) that you can call at the beginning of your script."
   ]
  },
  {
   "cell_type": "code",
   "execution_count": 8,
   "metadata": {},
   "outputs": [],
   "source": [
    "OpsUtils.show_text_file_in_accordion(PathOpsUtils, ['get_tapis_user_path.py'])"
   ]
  },
  {
   "cell_type": "code",
   "execution_count": 9,
   "metadata": {},
   "outputs": [
    {
     "name": "stdout",
     "output_type": "stream",
     "text": [
      "found paths file: /home/jupyter/MyData/.tapis_user_paths.json\n",
      "thisPath: tapis://cloud.data/work/05072/silvia/stampede3/\n"
     ]
    }
   ],
   "source": [
    "thisPath = OpsUtils.get_user_path_tapis_uri(t,'Work','stampede3')\n",
    "print('thisPath:',thisPath)"
   ]
  }
 ],
 "metadata": {
  "IMAGE_NAME": "taccsciapps/ds-nb-img:base-0.2.3",
  "UUID": "73e0880d-9b87-11ec-9c1c-13579dd95994",
  "celltoolbar": "Raw Cell Format",
  "kernelspec": {
   "display_name": "Python 3 (ipykernel)",
   "language": "python",
   "name": "python3"
  },
  "language_info": {
   "codemirror_mode": {
    "name": "ipython",
    "version": 3
   },
   "file_extension": ".py",
   "mimetype": "text/x-python",
   "name": "python",
   "nbconvert_exporter": "python",
   "pygments_lexer": "ipython3",
   "version": "3.12.11"
  }
 },
 "nbformat": 4,
 "nbformat_minor": 4
}
