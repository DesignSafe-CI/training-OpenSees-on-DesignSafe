{
 "cells": [
  {
   "cell_type": "markdown",
   "metadata": {},
   "source": [
    "<a class=\"reference external\" \n",
    "    href=\"https://jupyter.designsafe-ci.org/hub/user-redirect/lab/tree/CommunityData/OpenSees/TrainingMaterial/training-OpenSees-on-DesignSafe/Jupyter_Notebooks/runOps_RunAnyOpenSeesInPython.ipynb\" \n",
    "    target=\"_blank\"\n",
    "    >\n",
    "<img alt=\"Try on DesignSafe\" src=\"https://raw.githubusercontent.com/DesignSafe-Training/pinn/main/DesignSafe-Badge.svg\" /></a>"
   ]
  },
  {
   "cell_type": "markdown",
   "metadata": {},
   "source": [
    "# Run ANY OpenSees in Python 📒\n",
    "\n",
    "**Running OpenSees & OpenSeesPy Input Scripts from a DesignSafe Jupyter Notebook**\n",
    "\n",
    "*by Silvia Mazzoni, DesignSafe, 2025*\n",
    "\n",
    "\n",
    "This notebook shows how to run **any OpenSees script** — whether written in **Tcl** or **Python (OpenSeesPy)** — using Python’s built-in `os` library to execute commands just like in a terminal.\n",
    "\n",
    "You can apply this technique in:\n",
    "\n",
    "* A **Jupyter notebook**, for an interactive and user-friendly experience\n",
    "* A **standalone Python script**, for automated or large-scale workflows\n",
    "\n",
    "\n",
    "### Why Use This Approach?\n",
    "\n",
    "* It makes running OpenSees in the **DesignSafe JupyterHub** environment highly **user-friendly**\n",
    "* It lets you build seamless, **Python-driven workflows** that can include preprocessing, simulation, and postprocessing in one place\n",
    "* It works with **any version of OpenSees** already available in the Jupyter environment\n",
    "* You can also apply the same method to call OpenSees on an **HPC system** (e.g., Stampede3), making it easier to scale up or integrate into continuous workflows\n",
    "\n",
    "\n",
    "### Key Concepts:\n",
    "\n",
    "* Use `os.system()` to call `.tcl` or `.py` input files from Python\n",
    "* Outputs go to the path defined in your script\n",
    "* `%run` (notebook magic) is more limited — it doesn't accept arguments — so `os.system()` offers greater flexibility\n",
    "\n",
    "---"
   ]
  },
  {
   "cell_type": "code",
   "execution_count": 1,
   "metadata": {
    "tags": [
     "remove-input"
    ]
   },
   "outputs": [
    {
     "name": "stdout",
     "output_type": "stream",
     "text": [
      "Using local utilities library\n"
     ]
    }
   ],
   "source": [
    "# Local Utilities Library\n",
    "# you can remove the logic associated with the local path\n",
    "import sys,os\n",
    "relativePath = '../OpsUtils'\n",
    "if os.path.exists(relativePath):\n",
    "    print(\"Using local utilities library\")\n",
    "    PathOpsUtils = os.path.expanduser(relativePath)\n",
    "else:\n",
    "    PathOpsUtils = os.path.expanduser('~/CommunityData/OpenSees/TrainingMaterial/training-OpenSees-on-DesignSafe/OpsUtils')\n",
    "if not PathOpsUtils in sys.path: sys.path.append(PathOpsUtils)\n",
    "from OpsUtils import OpsUtils"
   ]
  },
  {
   "cell_type": "code",
   "execution_count": 2,
   "metadata": {},
   "outputs": [
    {
     "name": "stdout",
     "output_type": "stream",
     "text": [
      "current directory: /home/jupyter/MyData/_ToCommunityData/OpenSees/TrainingMaterial/training-OpenSees-on-DesignSafe/Jupyter_Notebooks\n"
     ]
    }
   ],
   "source": [
    "cwd = os.getcwd()\n",
    "print('current directory:',cwd)"
   ]
  },
  {
   "cell_type": "markdown",
   "metadata": {},
   "source": [
    "## Define Base Path of Input Files."
   ]
  },
  {
   "cell_type": "code",
   "execution_count": 3,
   "metadata": {},
   "outputs": [
    {
     "name": "stdout",
     "output_type": "stream",
     "text": [
      "OpsScriptsPath: /home/jupyter/MyData/_ToCommunityData/OpenSees/TrainingMaterial/training-OpenSees-on-DesignSafe/Examples_OpenSees/BasicExamples\n"
     ]
    }
   ],
   "source": [
    "OpsScriptsPath = os.path.abspath('../Examples_OpenSees/BasicExamples')\n",
    "print('OpsScriptsPath:',OpsScriptsPath)"
   ]
  },
  {
   "cell_type": "markdown",
   "metadata": {},
   "source": [
    "### Move to user's home directory\n",
    "This way you can save files to your home path -- you can't write to CommunityData"
   ]
  },
  {
   "cell_type": "code",
   "execution_count": 4,
   "metadata": {},
   "outputs": [
    {
     "name": "stdout",
     "output_type": "stream",
     "text": [
      "current directory: /home/jupyter\n"
     ]
    }
   ],
   "source": [
    "os.chdir(os.path.expanduser('~')) # ~ the tilda is a shortcut to the uers's home path.\n",
    "cwd = os.getcwd()\n",
    "print('current directory:',cwd)"
   ]
  },
  {
   "cell_type": "markdown",
   "metadata": {},
   "source": [
    "### Create a temporary directory for our data and move to it\n",
    "We want the directory to be within MyData."
   ]
  },
  {
   "cell_type": "code",
   "execution_count": 5,
   "metadata": {},
   "outputs": [
    {
     "name": "stdout",
     "output_type": "stream",
     "text": [
      "new current directory: /home/jupyter/MyData/tmp_training\n"
     ]
    }
   ],
   "source": [
    "tmpDir = 'MyData/tmp_training'\n",
    "os.makedirs(tmpDir, exist_ok=True)\n",
    "os.chdir(tmpDir)\n",
    "cwd = os.getcwd()\n",
    "print('new current directory:',cwd)"
   ]
  },
  {
   "cell_type": "code",
   "execution_count": 6,
   "metadata": {},
   "outputs": [],
   "source": [
    "# !pip install OpenSeesPy (if needed)"
   ]
  },
  {
   "cell_type": "markdown",
   "metadata": {},
   "source": [
    "---\n",
    "## Sequential"
   ]
  },
  {
   "cell_type": "markdown",
   "metadata": {},
   "source": [
    "### TCL"
   ]
  },
  {
   "cell_type": "markdown",
   "metadata": {},
   "source": [
    "#### OpenSees.exe sequential"
   ]
  },
  {
   "cell_type": "code",
   "execution_count": 7,
   "metadata": {},
   "outputs": [],
   "source": [
    "inputFile = 'Ex1a.Canti2D.Push.tcl'"
   ]
  },
  {
   "cell_type": "code",
   "execution_count": 8,
   "metadata": {
    "tags": [
     "remove-input"
    ]
   },
   "outputs": [
    {
     "data": {
      "text/html": [
       "\n",
       "                      <details style=\"margin-top:1em; font-family:monospace; background:white; \n",
       "                          padding:0.25em; border-radius:6px; border:1px solid #ccc;\">\n",
       "                        <summary style=\"cursor:pointer; font-weight:bold; background:white; \n",
       "                          padding:0.3em 0.5em; border-radius:4px;\">Ex1a.Canti2D.Push.tcl</summary>\n",
       "\n",
       "                        <button onclick=\"navigator.clipboard.writeText(document.getElementById('db81045208994034994ff2df0bc16a4d').innerText)\">\n",
       "                          📋 Copy\n",
       "                        </button>\n",
       "                        <pre id=\"db81045208994034994ff2df0bc16a4d\" style=\"white-space:pre-wrap; margin:0.25em 0 0 0; \n",
       "                            background:#d4fbff; padding:.3em; border-radius:5px;\">\n",
       "<b># /home/jupyter/MyData/_ToCommunityData/OpenSees/TrainingMaterial/training-OpenSees-on-DesignSafe/Examples_OpenSees/BasicExamples/Ex1a.Canti2D.Push.tcl</b>\n",
       "# OpenSees Ex1a.Canti2D.Push.tcl\n",
       "\n",
       "############################################################\n",
       "#  EXAMPLE: \n",
       "#       Ex1a.Canti2D.Push.tcl\n",
       "#          for OpenSees.exe (tcl)\n",
       "#  --------------------------------------------------------#\n",
       "#  by: Silvia Mazzoni, 2020\n",
       "#       silviamazzoni@yahoo.com\n",
       "############################################################\n",
       "# This file was obtained by updating the Tcl script in the original examples manual\n",
       "# You can find the original Examples:\n",
       "# https://opensees.berkeley.edu/wiki/index.php/Examples_Manual\n",
       "# Original Examples by By Silvia Mazzoni & Frank McKenna, 2006, in Tcl\n",
       "############################################################\n",
       "# --------------------------------------------------------------------------------------------------\n",
       "# Example 1. cantilever 2D\n",
       "# static pushover analysis with gravity.\n",
       "# all units are in kip, inch, second\n",
       "# elasticBeamColumn ELEMENT\n",
       "#\t\t\tSilvia Mazzoni & Frank McKenna, 2006\n",
       "#\n",
       "#    ^Y\n",
       "#    |\n",
       "#    2       __ \n",
       "#    |         | \n",
       "#    |         | \n",
       "#    |         | \n",
       "#  (1)      36'\n",
       "#    |         | \n",
       "#    |         | \n",
       "#    |         | \n",
       "#  =1=    ----  -------->X\n",
       "#\n",
       "#\n",
       "\n",
       "\n",
       "set LcolList \"100 120 200 240 300 360 400 480\"\n",
       "\n",
       "# ----------------------------------------------\n",
       "set dataDir DataTCL;                # set up name of data directory\n",
       "file mkdir $dataDir; # create data directory\n",
       "\n",
       "set count 0;\n",
       "foreach Lcol $LcolList {\n",
       "    \n",
       "    # SET UP ----------------------------------------------------------------------------\n",
       "    wipe;\t\t\t\t\t\t# clear opensees model\n",
       "    model basic -ndm 2 -ndf 3;\t# 2 dimensions, 3 dof per node\n",
       "\n",
       "    # define GEOMETRY -------------------------------------------------------------\n",
       "    # nodal coordinates:\n",
       "    node 1 0 0;\t\t\t\t# node#, X Y\n",
       "    node 2 0 $Lcol\n",
       "    \n",
       "    # Single point constraints -- Boundary Conditions\n",
       "    fix 1 1 1 1; \t\t\t# node DX DY RZ\n",
       "    \n",
       "    # nodal masses:\n",
       "    mass 2 5.18 0. 0.;\t\t# node#, Mx My Mz, Mass=Weight/g.\n",
       "    \n",
       "    # Define ELEMENTS -------------------------------------------------------------\n",
       "    # define geometric transformation: performs a linear geometric transformation of beam stiffness \n",
       "    #\tand resisting force from the basic system to the global-coordinate system\n",
       "    geomTransf Linear 1;  \t\t# associate a tag to transformation\n",
       "    \n",
       "    # connectivity: (make A very large, 10e6 times its actual value)\n",
       "    element elasticBeamColumn 1 1 2 3600000000 4227 1080000 1;\t\n",
       "    \n",
       "    # Define RECORDERS -------------------------------------------------------------\n",
       "    recorder Node -file ${dataDir}/DFree_Lcol${Lcol}.out -time -node 2 -dof 1 2 3 disp;\t\t\t# displacements of free nodes\n",
       "    recorder Node -file ${dataDir}/DBase_Lcol${Lcol}.out -time -node 1 -dof 1 2 3 disp;\t\t\t# displacements of support nodes\n",
       "    recorder Node -file ${dataDir}/RBase_Lcol${Lcol}.out -time -node 1 -dof 1 2 3 reaction;\t\t# support reaction\n",
       "    recorder Element -file ${dataDir}/FCol_Lcol${Lcol}.out -time -ele 1 globalForce;\t\t\t# element forces -- column\n",
       "    recorder Element -file ${dataDir}/DCol_Lcol${Lcol}.out -time -ele 1 deformation;\t\t\t# element deformations -- column\n",
       "    \n",
       "    \n",
       "    # define GRAVITY -------------------------------------------------------------\n",
       "    timeSeries Linear 1;\n",
       "    pattern Plain 1 1 {\n",
       "       load 2 0. -2000. 0.;\t\t\t# node#, FX FY MZ --  superstructure-weight\n",
       "    }\n",
       "    constraints Plain;     \t\t\t# how it handles boundary conditions\n",
       "    numberer Plain;\t\t\t\t\t# renumber dof's to minimize band-width (optimization), if you want to\n",
       "    system BandGeneral;\t\t\t\t# how to store and solve the system of equations in the analysis\n",
       "    test NormDispIncr 1.0e-8 6 ; \t# determine if convergence has been achieved at the end of an iteration step\n",
       "    algorithm Newton;\t\t\t\t# use Newton's solution algorithm: updates tangent stiffness at every iteration\n",
       "    integrator LoadControl 0.1;\t\t# determine the next time step for an analysis, # apply gravity in 10 steps\n",
       "    analysis Static\t\t\t\t\t# define type of analysis static or transient\n",
       "    analyze 10;\t\t\t\t\t\t# perform gravity analysis\n",
       "    loadConst -time 0.0;\t\t\t# hold gravity constant and restart time\n",
       "    \n",
       "    # define LATERAL load -------------------------------------------------------------\n",
       "    timeSeries Linear 2;\n",
       "    pattern Plain 2 2 {\n",
       "        load 2 2000. 0.0 0.0;\t\t# node#, FX FY MZ -- representative lateral load at top node\n",
       "    }\n",
       "    \n",
       "    # pushover: diplacement controlled static analysis\n",
       "    integrator DisplacementControl 2 1 0.1;\t\t# switch to displacement control, for node 11, dof 1, 0.1 increment\n",
       "    analyze 1000;\t\t\t\t\t\t\t\t# apply 100 steps of pushover analysis to a displacement of 10\n",
       "    \n",
       "    puts \"Analysis-${count} execution done\"\n",
       "\n",
       "    incr count 1;\n",
       "}\n",
       "\n",
       "puts \"ALL DONE!!!\"\n",
       "</pre>\n",
       "                      </details>\n",
       "                    "
      ],
      "text/plain": [
       "<IPython.core.display.HTML object>"
      ]
     },
     "metadata": {},
     "output_type": "display_data"
    }
   ],
   "source": [
    "OpsUtils.show_text_file_in_accordion(OpsScriptsPath,inputFile)"
   ]
  },
  {
   "cell_type": "code",
   "execution_count": 9,
   "metadata": {},
   "outputs": [
    {
     "name": "stderr",
     "output_type": "stream",
     "text": [
      "\n",
      "\n",
      "         OpenSees -- Open System For Earthquake Engineering Simulation\n",
      "                 Pacific Earthquake Engineering Research Center\n",
      "                        Version 3.7.1 64-Bit\n",
      "\n",
      "      (c) Copyright 1999-2016 The Regents of the University of California\n",
      "                              All Rights Reserved\n",
      "  (Copyright and Disclaimer @ http://www.berkeley.edu/OpenSees/copyright.html)\n",
      "\n",
      "\n",
      "Analysis-0 execution done\n",
      "Analysis-1 execution done\n",
      "Analysis-2 execution done\n",
      "Analysis-3 execution done\n",
      "Analysis-4 execution done\n",
      "Analysis-5 execution done\n",
      "Analysis-6 execution done\n",
      "Analysis-7 execution done\n",
      "ALL DONE!!!\n"
     ]
    },
    {
     "data": {
      "text/plain": [
       "0"
      ]
     },
     "execution_count": 9,
     "metadata": {},
     "output_type": "execute_result"
    }
   ],
   "source": [
    "os.system(f'OpenSees {OpsScriptsPath}/{inputFile}')"
   ]
  },
  {
   "cell_type": "markdown",
   "metadata": {},
   "source": [
    "### Python"
   ]
  },
  {
   "cell_type": "markdown",
   "metadata": {},
   "source": [
    "#### OpenSeesPy sequential"
   ]
  },
  {
   "cell_type": "code",
   "execution_count": 10,
   "metadata": {},
   "outputs": [],
   "source": [
    "inputFile = 'Ex1a.Canti2D.Push.py'"
   ]
  },
  {
   "cell_type": "code",
   "execution_count": 11,
   "metadata": {
    "tags": [
     "remove-input"
    ]
   },
   "outputs": [
    {
     "data": {
      "text/html": [
       "\n",
       "                      <details style=\"margin-top:1em; font-family:monospace; background:white; \n",
       "                          padding:0.25em; border-radius:6px; border:1px solid #ccc;\">\n",
       "                        <summary style=\"cursor:pointer; font-weight:bold; background:white; \n",
       "                          padding:0.3em 0.5em; border-radius:4px;\">Ex1a.Canti2D.Push.py</summary>\n",
       "\n",
       "                        <button onclick=\"navigator.clipboard.writeText(document.getElementById('62ab78d990c24dc4a267a56623aee799').innerText)\">\n",
       "                          📋 Copy\n",
       "                        </button>\n",
       "                        <pre id=\"62ab78d990c24dc4a267a56623aee799\" style=\"white-space:pre-wrap; margin:0.25em 0 0 0; \n",
       "                            background:#d4fbff; padding:.3em; border-radius:5px;\">\n",
       "<b># /home/jupyter/MyData/_ToCommunityData/OpenSees/TrainingMaterial/training-OpenSees-on-DesignSafe/Examples_OpenSees/BasicExamples/Ex1a.Canti2D.Push.py</b>\n",
       "# python Ex1a.Canti2D.Push.py\n",
       "\n",
       "############################################################\n",
       "#  EXAMPLE: \n",
       "#       Ex1a.Canti2D.Push.py\n",
       "#          for OpenSeesPy\n",
       "#  --------------------------------------------------------#\n",
       "#  by: Silvia Mazzoni, 2020\n",
       "#       silviamazzoni@yahoo.com\n",
       "############################################################\n",
       "# This file was obtained from a conversion of the updated Tcl script\n",
       "# You can find the original Examples:\n",
       "# https://opensees.berkeley.edu/wiki/index.php/Examples_Manual\n",
       "# Original Examples by By Silvia Mazzoni & Frank McKenna, 2006, in Tcl\n",
       "# Converted to OpenSeesPy by SilviaMazzoni, 2020\n",
       "############################################################\n",
       "# --------------------------------------------------------------------------------------------------\n",
       "# Example 1. cantilever 2D\n",
       "# static pushover analysis with gravity.\n",
       "# all units are in kip, inch, second\n",
       "# elasticBeamColumn ELEMENT\n",
       "#\t\t\tSilvia Mazzoni & Frank McKenna, 2006\n",
       "#\n",
       "#    ^Y\n",
       "#    |\n",
       "#    2       __ \n",
       "#    |         | \n",
       "#    |         | \n",
       "#    |         | \n",
       "#  (1)      36'\n",
       "#    |         | \n",
       "#    |         | \n",
       "#    |         | \n",
       "#  =1=    ----  -------->X\n",
       "#\n",
       "#\n",
       "\n",
       "import openseespy.opensees as ops\n",
       "import numpy as numpy\n",
       "import matplotlib.pyplot as plt\n",
       "import os\n",
       "\n",
       "LColList = [100,120,200,240,300,360,400,480]\n",
       "#-----------------------------------------\n",
       "dataDir=f'DataPY';                # set up name of data directory\n",
       "os.makedirs(dataDir, exist_ok=True);    # create data directory\n",
       "\n",
       "count = 0;\n",
       "for Lcol in LColList:\n",
       "    ops.wipe()\n",
       "\n",
       "    # SET UP ----------------------------------------------------------------------------\n",
       "    ops.wipe()     #  clear opensees model\n",
       "    ops.model('basic','-ndm',2,'-ndf',3)     #  2 dimensions, 3 dof per node\n",
       "\n",
       "    # define GEOMETRY -------------------------------------------------------------\n",
       "    # nodal coordinates:\n",
       "    ops.node(1,0,0)     #  node , X Y\n",
       "    ops.node(2,0,Lcol)\n",
       "\n",
       "    # Single point constraints -- Boundary Conditions\n",
       "    ops.fix(1,1,1,1)     #  node DX DY RZ\n",
       "\n",
       "    # nodal masses:\n",
       "    ops.mass(2,5.18,0.,0.)     #  node , Mx My Mz, Mass=Weight/g.\n",
       "\n",
       "    # Define ELEMENTS -------------------------------------------------------------\n",
       "    # define geometric transformation: performs a linear geometric transformation of beam stiffness\n",
       "    # and resisting force from the basic system to the global-coordinate system\n",
       "    ops.geomTransf('Linear',1)     #  associate a tag to transformation\n",
       "\n",
       "    # element elasticBeamColumn eleTag iNode jNode A E Iz transfTag\n",
       "    ops.element('elasticBeamColumn',1,1,2,3600000000,4227,1080000,1)\n",
       "\n",
       "    # Define RECORDERS -------------------------------------------------------------\n",
       "    ops.recorder('Node','-file',f'{dataDir}/DFree_Lcol{Lcol}.out','-time','-node',2,'-dof',1,2,3,'disp')     #  displacements of free nodes\n",
       "    ops.recorder('Node','-file',f'{dataDir}/DBase_Lcol{Lcol}.out','-time','-node',1,'-dof',1,2,3,'disp')     #  displacements of support nodes\n",
       "    ops.recorder('Node','-file',f'{dataDir}/RBase_Lcol{Lcol}.out','-time','-node',1,'-dof',1,2,3,'reaction')     #  support reaction\n",
       "    ops.recorder('Element','-file',f'{dataDir}/FCol_Lcol{Lcol}.out','-time','-ele',1,'globalForce')     #  element forces -- column\n",
       "    ops.recorder('Element','-file',f'{dataDir}/DCol_Lcol{Lcol}.out','-time','-ele',1,'deformation')     #  element deformations -- column\n",
       "\n",
       "\n",
       "    # define GRAVITY -------------------------------------------------------------\n",
       "    ops.timeSeries('Linear',1)     # timeSeries Linear 1;\n",
       "    ops.pattern('Plain',1,1) # \n",
       "    ops.load(2,0.,-2000.,0.)     #  node , FX FY MZ -- superstructure-weight\n",
       "    ops.wipeAnalysis()     # adding this to clear Analysis module \n",
       "    ops.constraints('Plain')     #  how it handles boundary conditions\n",
       "    ops.numberer('Plain')     #  renumber dofs to minimize band-width (optimization), if you want to\n",
       "    ops.system('BandGeneral')     #  how to store and solve the system of equations in the analysis\n",
       "    ops.test('NormDispIncr',1.0e-8,6)     #  determine if convergence has been achieved at the end of an iteration step\n",
       "    ops.algorithm('Newton')     #  use Newtons solution algorithm: updates tangent stiffness at every iteration\n",
       "    ops.integrator('LoadControl',0.1)     #  determine the next time step for an analysis,   apply gravity in 10 steps\n",
       "    ops.analysis('Static')     #  define type of analysis static or transient\n",
       "    ops.analyze(10)     #  perform gravity analysis\n",
       "    ops.loadConst('-time',0.0)     #  hold gravity constant and restart time\n",
       "\n",
       "    # define LATERAL load -------------------------------------------------------------\n",
       "    ops.timeSeries('Linear',2)     # timeSeries Linear 2;\n",
       "    ops.pattern('Plain',2,2) # \n",
       "    ops.load(2,2000.,0.0,0.0)     #  node , FX FY MZ -- representative lateral load at top node\n",
       "\n",
       "    # pushover: diplacement controlled static analysis\n",
       "    ops.integrator('DisplacementControl',2,1,0.1)     #  switch to displacement control, for node 11, dof 1, 0.1 increment\n",
       "    ops.analyze(1000)     #  apply 100 steps of pushover analysis to a displacement of 10\n",
       "\n",
       "    print(f'Analysis-{count} execution done')\n",
       "\n",
       "    count +=1\n",
       "\n",
       "print(f\"ALL DONE!!!\")</pre>\n",
       "                      </details>\n",
       "                    "
      ],
      "text/plain": [
       "<IPython.core.display.HTML object>"
      ]
     },
     "metadata": {},
     "output_type": "display_data"
    }
   ],
   "source": [
    "OpsUtils.show_text_file_in_accordion(OpsScriptsPath,inputFile)"
   ]
  },
  {
   "cell_type": "code",
   "execution_count": 12,
   "metadata": {},
   "outputs": [
    {
     "name": "stdout",
     "output_type": "stream",
     "text": [
      "Analysis-0 execution done\n",
      "Analysis-1 execution done\n",
      "Analysis-2 execution done\n",
      "Analysis-3 execution done\n",
      "Analysis-4 execution done\n",
      "Analysis-5 execution done\n",
      "Analysis-6 execution done\n",
      "Analysis-7 execution done\n",
      "ALL DONE!!!\n"
     ]
    },
    {
     "name": "stderr",
     "output_type": "stream",
     "text": [
      "Process 0 Terminating\n"
     ]
    },
    {
     "data": {
      "text/plain": [
       "0"
      ]
     },
     "execution_count": 12,
     "metadata": {},
     "output_type": "execute_result"
    }
   ],
   "source": [
    "os.system(f'python {OpsScriptsPath}/{inputFile}')"
   ]
  },
  {
   "cell_type": "markdown",
   "metadata": {},
   "source": [
    "----\n",
    "## Parallel"
   ]
  },
  {
   "cell_type": "code",
   "execution_count": 13,
   "metadata": {},
   "outputs": [],
   "source": [
    "np=4 # number of processors"
   ]
  },
  {
   "cell_type": "markdown",
   "metadata": {},
   "source": [
    "### TCL"
   ]
  },
  {
   "cell_type": "markdown",
   "metadata": {},
   "source": [
    "#### OpenSeesMP parallel using mpiexec"
   ]
  },
  {
   "cell_type": "code",
   "execution_count": 14,
   "metadata": {},
   "outputs": [],
   "source": [
    "inputFile = 'Ex1a.Canti2D.Push.mp.tcl'"
   ]
  },
  {
   "cell_type": "code",
   "execution_count": 15,
   "metadata": {
    "tags": [
     "remove-input"
    ]
   },
   "outputs": [
    {
     "data": {
      "text/html": [
       "\n",
       "                      <details style=\"margin-top:1em; font-family:monospace; background:white; \n",
       "                          padding:0.25em; border-radius:6px; border:1px solid #ccc;\">\n",
       "                        <summary style=\"cursor:pointer; font-weight:bold; background:white; \n",
       "                          padding:0.3em 0.5em; border-radius:4px;\">Ex1a.Canti2D.Push.mp.tcl</summary>\n",
       "\n",
       "                        <button onclick=\"navigator.clipboard.writeText(document.getElementById('d4f7766d06944f658988d340e5b2c3d6').innerText)\">\n",
       "                          📋 Copy\n",
       "                        </button>\n",
       "                        <pre id=\"d4f7766d06944f658988d340e5b2c3d6\" style=\"white-space:pre-wrap; margin:0.25em 0 0 0; \n",
       "                            background:#d4fbff; padding:.3em; border-radius:5px;\">\n",
       "<b># /home/jupyter/MyData/_ToCommunityData/OpenSees/TrainingMaterial/training-OpenSees-on-DesignSafe/Examples_OpenSees/BasicExamples/Ex1a.Canti2D.Push.mp.tcl</b>\n",
       "# mpiexec -np 3 OpenSeesMP Ex1a.Canti2D.Push.mp.tcl\n",
       "\n",
       "############################################################\n",
       "#  EXAMPLE: \n",
       "#       Ex1a.Canti2D.Push.tcl\n",
       "#          for OpenSees.exe (tcl)\n",
       "#  --------------------------------------------------------#\n",
       "#  by: Silvia Mazzoni, 2020\n",
       "#       silviamazzoni@yahoo.com\n",
       "############################################################\n",
       "# This file was obtained by updating the Tcl script in the original examples manual\n",
       "# You can find the original Examples:\n",
       "# https://opensees.berkeley.edu/wiki/index.php/Examples_Manual\n",
       "# Original Examples by By Silvia Mazzoni & Frank McKenna, 2006, in Tcl\n",
       "############################################################\n",
       "# --------------------------------------------------------------------------------------------------\n",
       "# Example 1. cantilever 2D\n",
       "# static pushover analysis with gravity.\n",
       "# all units are in kip, inch, second\n",
       "# elasticBeamColumn ELEMENT\n",
       "#\t\t\tSilvia Mazzoni & Frank McKenna, 2006\n",
       "#\n",
       "#    ^Y\n",
       "#    |\n",
       "#    2       __ \n",
       "#    |         | \n",
       "#    |         | \n",
       "#    |         | \n",
       "#  (1)      36'\n",
       "#    |         | \n",
       "#    |         | \n",
       "#    |         | \n",
       "#  =1=    ----  -------->X\n",
       "#\n",
       "#\n",
       "    \n",
       "set pid [getPID]\n",
       "set np [getNP]\n",
       "puts \"pid $pid of np=$np  started\"\n",
       "        \n",
       "set LcolList \"100 120 200 240 300 360 400 480\"\n",
       "\n",
       "# ----------------------------------------------\n",
       "set dataDir DataTCLmp;                # set up name of data directory\n",
       "file mkdir $dataDir; # create data directory\n",
       "\n",
       "set count 0;\n",
       "foreach Lcol $LcolList {\n",
       "    # check if count is a multiple of pid : \"is it its turn?\"\n",
       "    if {[expr $count % $np] == $pid} {\n",
       "       \n",
       "        # SET UP ----------------------------------------------------------------------------\n",
       "        wipe;\t\t\t\t\t\t# clear opensees model\n",
       "        model basic -ndm 2 -ndf 3;\t# 2 dimensions, 3 dof per node\n",
       "        \n",
       "        # define GEOMETRY -------------------------------------------------------------\n",
       "        # nodal coordinates:\n",
       "        node 1 0 0;\t\t\t\t# node#, X Y\n",
       "        node 2 0 $Lcol\n",
       "        \n",
       "        # Single point constraints -- Boundary Conditions\n",
       "        fix 1 1 1 1; \t\t\t# node DX DY RZ\n",
       "        \n",
       "        # nodal masses:\n",
       "        mass 2 5.18 0. 0.;\t\t# node#, Mx My Mz, Mass=Weight/g.\n",
       "        \n",
       "        # Define ELEMENTS -------------------------------------------------------------\n",
       "        # define geometric transformation: performs a linear geometric transformation of beam stiffness \n",
       "        #\tand resisting force from the basic system to the global-coordinate system\n",
       "        geomTransf Linear 1;  \t\t# associate a tag to transformation\n",
       "        \n",
       "        # connectivity: (make A very large, 10e6 times its actual value)\n",
       "        # element elasticBeamColumn $eleTag $iNode $jNode $A $E $Iz $transfTag\n",
       "        element elasticBeamColumn 1 1 2 3600000000 4227 1080000 1;\t\n",
       "        \n",
       "        # Define RECORDERS -------------------------------------------------------------\n",
       "        recorder Node -file ${dataDir}/DFree_Lcol${Lcol}.out -time -node 2 -dof 1 2 3 disp;\t\t\t# displacements of free nodes\n",
       "        recorder Node -file ${dataDir}/DBase_Lcol${Lcol}.out -time -node 1 -dof 1 2 3 disp;\t\t\t# displacements of support nodes\n",
       "        recorder Node -file ${dataDir}/RBase_Lcol${Lcol}.out -time -node 1 -dof 1 2 3 reaction;\t\t# support reaction\n",
       "        recorder Element -file ${dataDir}/FCol_Lcol${Lcol}.out -time -ele 1 globalForce;\t\t\t# element forces -- column\n",
       "        recorder Element -file ${dataDir}/DCol_Lcol${Lcol}.out -time -ele 1 deformation;\t\t\t# element deformations -- column\n",
       "        \n",
       "        \n",
       "        # define GRAVITY -------------------------------------------------------------\n",
       "        timeSeries Linear 1;\n",
       "        pattern Plain 1 1 {\n",
       "           load 2 0. -2000. 0.;\t\t\t# node#, FX FY MZ --  superstructure-weight\n",
       "        }\n",
       "        constraints Plain;     \t\t\t# how it handles boundary conditions\n",
       "        numberer Plain;\t\t\t\t\t# renumber dof's to minimize band-width (optimization), if you want to\n",
       "        system BandGeneral;\t\t\t\t# how to store and solve the system of equations in the analysis\n",
       "        test NormDispIncr 1.0e-8 6 ; \t# determine if convergence has been achieved at the end of an iteration step\n",
       "        algorithm Newton;\t\t\t\t# use Newton's solution algorithm: updates tangent stiffness at every iteration\n",
       "        integrator LoadControl 0.1;\t\t# determine the next time step for an analysis, # apply gravity in 10 steps\n",
       "        analysis Static\t\t\t\t\t# define type of analysis static or transient\n",
       "        analyze 10;\t\t\t\t\t\t# perform gravity analysis\n",
       "        loadConst -time 0.0;\t\t\t# hold gravity constant and restart time\n",
       "        \n",
       "        # define LATERAL load -------------------------------------------------------------\n",
       "        timeSeries Linear 2;\n",
       "        pattern Plain 2 2 {\n",
       "           load 2 2000. 0.0 0.0;\t\t# node#, FX FY MZ -- representative lateral load at top node\n",
       "        }\n",
       "        \n",
       "        # pushover: diplacement controlled static analysis\n",
       "        integrator DisplacementControl 2 1 0.1;\t\t# switch to displacement control, for node 11, dof 1, 0.1 increment\n",
       "        analyze 1000;\t\t\t\t\t\t\t\t# apply 100 steps of pushover analysis to a displacement of 10\n",
       "        \n",
       "        puts \"pid $pid of $np Analysis-${count} execution done\"\n",
       "        \n",
       "        \n",
       "    }\n",
       "    incr count 1;\n",
       "}\n",
       "\n",
       "puts \"pid $pid ALL DONE!!!\"\n",
       "</pre>\n",
       "                      </details>\n",
       "                    "
      ],
      "text/plain": [
       "<IPython.core.display.HTML object>"
      ]
     },
     "metadata": {},
     "output_type": "display_data"
    }
   ],
   "source": [
    "OpsUtils.show_text_file_in_accordion(OpsScriptsPath,inputFile)"
   ]
  },
  {
   "cell_type": "code",
   "execution_count": 16,
   "metadata": {},
   "outputs": [
    {
     "name": "stderr",
     "output_type": "stream",
     "text": [
      "\n",
      "\n",
      "         OpenSees -- Open System For Earthquake Engineering Simulation\n",
      "                 Pacific Earthquake Engineering Research Center\n",
      "                        Version 3.7.1 64-Bit\n",
      "\n",
      "      (c) Copyright 1999-2016 The Regents of the University of California\n",
      "                              All Rights Reserved\n",
      "  (Copyright and Disclaimer @ http://www.berkeley.edu/OpenSees/copyright.html)\n",
      "\n",
      "\n",
      "pid 3 of np=4  startedpid 1 of np=4  started\n",
      "\n",
      "pid 2 of np=4  started\n",
      "pid 0 of np=4  started\n",
      "pid 3 of 4 Analysis-3 execution done\n",
      "pid 1 of 4 Analysis-1 execution done\n",
      "pid 0 of 4 Analysis-0 execution done\n",
      "pid 2 of 4 Analysis-2 execution done\n",
      "pid 1 of 4 Analysis-5 execution done\n",
      "pid 1 ALL DONE!!!\n",
      "Process Terminating 1\n",
      "pid 3 of 4 Analysis-7 execution done\n",
      "pid 3 ALL DONE!!!\n",
      "Process Terminating 3\n",
      "pid 0 of 4 Analysis-4 execution done\n",
      "pid 0 ALL DONE!!!\n",
      "Process Terminating 0\n",
      "pid 2 of 4 Analysis-6 execution done\n",
      "pid 2 ALL DONE!!!\n",
      "Process Terminating 2\n"
     ]
    },
    {
     "data": {
      "text/plain": [
       "0"
      ]
     },
     "execution_count": 16,
     "metadata": {},
     "output_type": "execute_result"
    }
   ],
   "source": [
    "os.system(f'mpiexec -np {np} OpenSeesMP {OpsScriptsPath}/{inputFile}')"
   ]
  },
  {
   "cell_type": "code",
   "execution_count": 17,
   "metadata": {},
   "outputs": [
    {
     "data": {
      "text/plain": [
       "'mpiexec -np 4 OpenSeesMP /home/jupyter/MyData/_ToCommunityData/OpenSees/TrainingMaterial/training-OpenSees-on-DesignSafe/Examples_OpenSees/BasicExamples/Ex1a.Canti2D.Push.mp.tcl'"
      ]
     },
     "execution_count": 17,
     "metadata": {},
     "output_type": "execute_result"
    }
   ],
   "source": [
    "f'mpiexec -np {np} OpenSeesMP {OpsScriptsPath}/{inputFile}'"
   ]
  },
  {
   "cell_type": "markdown",
   "metadata": {},
   "source": [
    "### Python"
   ]
  },
  {
   "cell_type": "markdown",
   "metadata": {},
   "source": [
    "#### OpenSeesPy parallel using mpiexec"
   ]
  },
  {
   "cell_type": "code",
   "execution_count": 18,
   "metadata": {},
   "outputs": [],
   "source": [
    "inputFile = 'Ex1a.Canti2D.Push.mpi.py'"
   ]
  },
  {
   "cell_type": "code",
   "execution_count": 19,
   "metadata": {
    "tags": [
     "remove-input"
    ]
   },
   "outputs": [
    {
     "data": {
      "text/html": [
       "\n",
       "                      <details style=\"margin-top:1em; font-family:monospace; background:white; \n",
       "                          padding:0.25em; border-radius:6px; border:1px solid #ccc;\">\n",
       "                        <summary style=\"cursor:pointer; font-weight:bold; background:white; \n",
       "                          padding:0.3em 0.5em; border-radius:4px;\">Ex1a.Canti2D.Push.mpi.py</summary>\n",
       "\n",
       "                        <button onclick=\"navigator.clipboard.writeText(document.getElementById('0dea0b45f4fb4355be97d97759d5b1a0').innerText)\">\n",
       "                          📋 Copy\n",
       "                        </button>\n",
       "                        <pre id=\"0dea0b45f4fb4355be97d97759d5b1a0\" style=\"white-space:pre-wrap; margin:0.25em 0 0 0; \n",
       "                            background:#d4fbff; padding:.3em; border-radius:5px;\">\n",
       "<b># /home/jupyter/MyData/_ToCommunityData/OpenSees/TrainingMaterial/training-OpenSees-on-DesignSafe/Examples_OpenSees/BasicExamples/Ex1a.Canti2D.Push.mpi.py</b>\n",
       "# mpiexec -np 3 python Ex1a.Canti2D.Push.mpi.py\n",
       "\n",
       "import openseespy.opensees as ops\n",
       "import numpy as numpy\n",
       "import matplotlib.pyplot as plt\n",
       "import sys\n",
       "import os\n",
       "\n",
       "ops.start()\n",
       "pid = ops.getPID()\n",
       "np = ops.getNP()\n",
       "print(f'pid {pid} of {np} started')\n",
       "\n",
       "\n",
       "\n",
       "LColList = [100,120,200,240,300,360,400,480]\n",
       "#-----------------------------------------\n",
       "dataDir=f'DataPYmpi';                # set up name of data directory\n",
       "os.makedirs(dataDir, exist_ok=True); # create data directory\n",
       "\n",
       "count = 0;\n",
       "for Lcol in LColList:\n",
       "    # check if count is a multiple of pid : \"is it its turn?\"\n",
       "    if count % np == pid:\n",
       "        ops.wipe()\n",
       "        \n",
       "        # SET UP ----------------------------------------------------------------------------\n",
       "        ops.wipe()     #  clear opensees model\n",
       "        ops.model('basic','-ndm',2,'-ndf',3)     #  2 dimensions, 3 dof per node\n",
       "        \n",
       "        \n",
       "        # define GEOMETRY -------------------------------------------------------------\n",
       "        # nodal coordinates:\n",
       "        ops.node(1,0,0)     #  node , X Y\n",
       "        ops.node(2,0,Lcol)\n",
       "        \n",
       "        # Single point constraints -- Boundary Conditions\n",
       "        ops.fix(1,1,1,1)     #  node DX DY RZ\n",
       "        \n",
       "        # nodal masses:\n",
       "        ops.mass(2,5.18,0.,0.)     #  node , Mx My Mz, Mass=Weight/g.\n",
       "        \n",
       "        # Define ELEMENTS -------------------------------------------------------------\n",
       "        # define geometric transformation: performs a linear geometric transformation of beam stiffness\n",
       "        # and resisting force from the basic system to the global-coordinate system\n",
       "        ops.geomTransf('Linear',1)     #  associate a tag to transformation\n",
       "        \n",
       "        # element elasticBeamColumn eleTag iNode jNode A E Iz transfTag\n",
       "        ops.element('elasticBeamColumn',1,1,2,3600000000,4227,1080000,1)\n",
       "        \n",
       "        # Define RECORDERS -------------------------------------------------------------\n",
       "        ops.recorder('Node','-file',f'{dataDir}/DFree_Lcol{Lcol}.out','-time','-node',2,'-dof',1,2,3,'disp')     #  displacements of free nodes\n",
       "        ops.recorder('Node','-file',f'{dataDir}/DBase_Lcol{Lcol}.out','-time','-node',1,'-dof',1,2,3,'disp')     #  displacements of support nodes\n",
       "        ops.recorder('Node','-file',f'{dataDir}/RBase_Lcol{Lcol}.out','-time','-node',1,'-dof',1,2,3,'reaction')     #  support reaction\n",
       "        ops.recorder('Element','-file',f'{dataDir}/FCol_Lcol{Lcol}.out','-time','-ele',1,'globalForce')     #  element forces -- column\n",
       "        ops.recorder('Element','-file',f'{dataDir}/DCol_Lcol{Lcol}.out','-time','-ele',1,'deformation')     #  element deformations -- column\n",
       "        \n",
       "        # define GRAVITY -------------------------------------------------------------\n",
       "        ops.timeSeries('Linear',1)     # timeSeries Linear 1;\n",
       "        ops.pattern('Plain',1,1) # \n",
       "        ops.load(2,0.,-2000.,0.)     #  node , FX FY MZ -- superstructure-weight\n",
       "        ops.wipeAnalysis()     # adding this to clear Analysis module \n",
       "        ops.constraints('Plain')     #  how it handles boundary conditions\n",
       "        ops.numberer('Plain')     #  renumber dofs to minimize band-width (optimization), if you want to\n",
       "        ops.system('BandGeneral')     #  how to store and solve the system of equations in the analysis\n",
       "        ops.test('NormDispIncr',1.0e-8,6)     #  determine if convergence has been achieved at the end of an iteration step\n",
       "        ops.algorithm('Newton')     #  use Newtons solution algorithm: updates tangent stiffness at every iteration\n",
       "        ops.integrator('LoadControl',0.1)     #  determine the next time step for an analysis,   apply gravity in 10 steps\n",
       "        ops.analysis('Static')     #  define type of analysis static or transient\n",
       "        ops.analyze(10)     #  perform gravity analysis\n",
       "        ops.loadConst('-time',0.0)     #  hold gravity constant and restart time\n",
       "        \n",
       "        # define LATERAL load -------------------------------------------------------------\n",
       "        ops.timeSeries('Linear',2)     # timeSeries Linear 2;\n",
       "        ops.pattern('Plain',2,2) # \n",
       "        ops.load(2,2000.,0.0,0.0)     #  node , FX FY MZ -- representative lateral load at top node\n",
       "        \n",
       "        # pushover: diplacement controlled static analysis\n",
       "        ops.integrator('DisplacementControl',2,1,0.1)     #  switch to displacement control, for node 11, dof 1, 0.1 increment\n",
       "        ops.analyze(1000)     #  apply 100 steps of pushover analysis to a displacement of 10\n",
       "        \n",
       "        print(f'pid {pid} of np={np} Analysis-{count} execution done')\n",
       "\n",
       "    count +=1\n",
       "\n",
       "print(f\"pid {pid} of np={np} ALL DONE!!!\")</pre>\n",
       "                      </details>\n",
       "                    "
      ],
      "text/plain": [
       "<IPython.core.display.HTML object>"
      ]
     },
     "metadata": {},
     "output_type": "display_data"
    }
   ],
   "source": [
    "OpsUtils.show_text_file_in_accordion(OpsScriptsPath,inputFile)"
   ]
  },
  {
   "cell_type": "code",
   "execution_count": 20,
   "metadata": {},
   "outputs": [
    {
     "name": "stdout",
     "output_type": "stream",
     "text": [
      "pid 0 of 1 started\n",
      "pid 0 of 1 started\n",
      "pid 0 of np=1 Analysis-0 execution done\n",
      "pid 0 of np=1 Analysis-0 execution done\n",
      "pid 0 of 1 started\n",
      "pid 0 of 1 started\n",
      "pid 0 of np=1 Analysis-1 execution done\n",
      "pid 0 of np=1 Analysis-1 execution done\n",
      "pid 0 of np=1 Analysis-0 execution done\n",
      "pid 0 of np=1 Analysis-0 execution done\n",
      "pid 0 of np=1 Analysis-2 execution done\n",
      "pid 0 of np=1 Analysis-2 execution done\n",
      "pid 0 of np=1 Analysis-1 execution done\n",
      "pid 0 of np=1 Analysis-3 execution done\n",
      "pid 0 of np=1 Analysis-1 execution done\n",
      "pid 0 of np=1 Analysis-3 execution done\n",
      "pid 0 of np=1 Analysis-2 execution done\n",
      "pid 0 of np=1 Analysis-4 execution done\n",
      "pid 0 of np=1 Analysis-3 execution done\n",
      "pid 0 of np=1 Analysis-4 execution done\n",
      "pid 0 of np=1 Analysis-2 execution done\n",
      "pid 0 of np=1 Analysis-5 execution done\n",
      "pid 0 of np=1 Analysis-4 execution done\n",
      "pid 0 of np=1 Analysis-3 execution done\n",
      "pid 0 of np=1 Analysis-5 execution done\n",
      "pid 0 of np=1 Analysis-6 execution done\n",
      "pid 0 of np=1 Analysis-4 execution done\n",
      "pid 0 of np=1 Analysis-5 execution done\n",
      "pid 0 of np=1 Analysis-7 execution done\n",
      "pid 0 of np=1 ALL DONE!!!\n",
      "pid 0 of np=1 Analysis-6 execution done\n",
      "pid 0 of np=1 Analysis-5 execution done\n",
      "pid 0 of np=1 Analysis-6 execution done\n",
      "pid 0 of np=1 Analysis-7 execution done\n",
      "pid 0 of np=1 ALL DONE!!!\n",
      "pid 0 of np=1 Analysis-6 execution done\n",
      "pid 0 of np=1 Analysis-7 execution done\n",
      "pid 0 of np=1 ALL DONE!!!\n",
      "pid 0 of np=1 Analysis-7 execution done\n",
      "pid 0 of np=1 ALL DONE!!!\n",
      "If you only see \"pid=0\" and \"np=1\", then the MPI implementation failed!\n"
     ]
    },
    {
     "name": "stderr",
     "output_type": "stream",
     "text": [
      "Process 0 Terminating\n",
      "Process 0 Terminating\n",
      "Process 0 Terminating\n",
      "Process 0 Terminating\n"
     ]
    }
   ],
   "source": [
    "os.system(f'mpiexec -np {np} python {OpsScriptsPath}/{inputFile}')\n",
    "print('If you only see \"pid=0\" and \"np=1\", then the MPI implementation failed!')"
   ]
  },
  {
   "cell_type": "markdown",
   "metadata": {},
   "source": [
    "#### OpenSeesPy parallel using mpi4py"
   ]
  },
  {
   "cell_type": "code",
   "execution_count": 21,
   "metadata": {},
   "outputs": [],
   "source": [
    "inputFile = 'Ex1a.Canti2D.Push.mpi4py.py'"
   ]
  },
  {
   "cell_type": "code",
   "execution_count": 22,
   "metadata": {
    "tags": [
     "remove-input"
    ]
   },
   "outputs": [
    {
     "data": {
      "text/html": [
       "\n",
       "                      <details style=\"margin-top:1em; font-family:monospace; background:white; \n",
       "                          padding:0.25em; border-radius:6px; border:1px solid #ccc;\">\n",
       "                        <summary style=\"cursor:pointer; font-weight:bold; background:white; \n",
       "                          padding:0.3em 0.5em; border-radius:4px;\">Ex1a.Canti2D.Push.mpi4py.py</summary>\n",
       "\n",
       "                        <button onclick=\"navigator.clipboard.writeText(document.getElementById('061155b792944223b288d65b8d6b23de').innerText)\">\n",
       "                          📋 Copy\n",
       "                        </button>\n",
       "                        <pre id=\"061155b792944223b288d65b8d6b23de\" style=\"white-space:pre-wrap; margin:0.25em 0 0 0; \n",
       "                            background:#d4fbff; padding:.3em; border-radius:5px;\">\n",
       "<b># /home/jupyter/MyData/_ToCommunityData/OpenSees/TrainingMaterial/training-OpenSees-on-DesignSafe/Examples_OpenSees/BasicExamples/Ex1a.Canti2D.Push.mpi4py.py</b>\n",
       "# mpiexec -np 3 python Ex1a.Canti2D.Push.mpi4py.py\n",
       "\n",
       "import openseespy.opensees as ops\n",
       "import numpy as numpy\n",
       "import matplotlib.pyplot as plt\n",
       "import sys\n",
       "import os\n",
       "\n",
       "from mpi4py import MPI\n",
       "comm = MPI.COMM_WORLD\n",
       "pid = comm.Get_rank()\n",
       "np=comm.Get_size()\n",
       "print(f'mpi4py -- python pid {pid} of {np} started')\n",
       "\n",
       "\n",
       "LColList = [100,120,200,240,300,360,400,480]\n",
       "#-----------------------------------------\n",
       "dataDir=f'DataPYmpi4py';                # set up name of data directory\n",
       "os.makedirs(dataDir, exist_ok=True);    # create data directory\n",
       "\n",
       "count = 0;\n",
       "for Lcol in LColList:\n",
       "    # check if count is a multiple of pid : \"is it its turn?\"\n",
       "    if count % np == pid:\n",
       "        ops.wipe()\n",
       "        \n",
       "        # SET UP ----------------------------------------------------------------------------\n",
       "        ops.wipe()     #  clear opensees model\n",
       "        ops.model('basic','-ndm',2,'-ndf',3)     #  2 dimensions, 3 dof per node\n",
       "        \n",
       "        \n",
       "        # define GEOMETRY -------------------------------------------------------------\n",
       "        # nodal coordinates:\n",
       "        ops.node(1,0,0)     #  node , X Y\n",
       "        ops.node(2,0,Lcol)\n",
       "        \n",
       "        # Single point constraints -- Boundary Conditions\n",
       "        ops.fix(1,1,1,1)     #  node DX DY RZ\n",
       "        \n",
       "        # nodal masses:\n",
       "        ops.mass(2,5.18,0.,0.)     #  node , Mx My Mz, Mass=Weight/g.\n",
       "        \n",
       "        # Define ELEMENTS -------------------------------------------------------------\n",
       "        # define geometric transformation: performs a linear geometric transformation of beam stiffness\n",
       "        # and resisting force from the basic system to the global-coordinate system\n",
       "        ops.geomTransf('Linear',1)     #  associate a tag to transformation\n",
       "        \n",
       "        # connectivity: (make A very large, 10e6 times its actual value)\n",
       "        ops.element('elasticBeamColumn',1,1,2,3600000000,4227,1080000,1)\n",
       "        \n",
       "        # Define RECORDERS -------------------------------------------------------------\n",
       "        ops.recorder('Node','-file',f'{dataDir}/DFree_Lcol{Lcol}.out','-time','-node',2,'-dof',1,2,3,'disp')     #  displacements of free nodes\n",
       "        ops.recorder('Node','-file',f'{dataDir}/DBase_Lcol{Lcol}.out','-time','-node',1,'-dof',1,2,3,'disp')     #  displacements of support nodes\n",
       "        ops.recorder('Node','-file',f'{dataDir}/RBase_Lcol{Lcol}.out','-time','-node',1,'-dof',1,2,3,'reaction')     #  support reaction\n",
       "        ops.recorder('Element','-file',f'{dataDir}/FCol_Lcol{Lcol}.out','-time','-ele',1,'globalForce')     #  element forces -- column\n",
       "        ops.recorder('Element','-file',f'{dataDir}/DCol_Lcol{Lcol}.out','-time','-ele',1,'deformation')     #  element deformations -- column\n",
       "\n",
       "        \n",
       "        # define GRAVITY -------------------------------------------------------------\n",
       "        ops.timeSeries('Linear',1)     # timeSeries Linear 1;\n",
       "        ops.pattern('Plain',1,1) # \n",
       "        ops.load(2,0.,-2000.,0.)     #  node , FX FY MZ -- superstructure-weight\n",
       "        ops.wipeAnalysis()     # adding this to clear Analysis module \n",
       "        ops.constraints('Plain')     #  how it handles boundary conditions\n",
       "        ops.numberer('Plain')     #  renumber dofs to minimize band-width (optimization), if you want to\n",
       "        ops.system('BandGeneral')     #  how to store and solve the system of equations in the analysis\n",
       "        ops.test('NormDispIncr',1.0e-8,6)     #  determine if convergence has been achieved at the end of an iteration step\n",
       "        ops.algorithm('Newton')     #  use Newtons solution algorithm: updates tangent stiffness at every iteration\n",
       "        ops.integrator('LoadControl',0.1)     #  determine the next time step for an analysis,   apply gravity in 10 steps\n",
       "        ops.analysis('Static')     #  define type of analysis static or transient\n",
       "        ops.analyze(10)     #  perform gravity analysis\n",
       "        ops.loadConst('-time',0.0)     #  hold gravity constant and restart time\n",
       "        \n",
       "        # define LATERAL load -------------------------------------------------------------\n",
       "        ops.timeSeries('Linear',2)     # timeSeries Linear 2;\n",
       "        ops.pattern('Plain',2,2) # \n",
       "        ops.load(2,2000.,0.0,0.0)     #  node , FX FY MZ -- representative lateral load at top node\n",
       "        \n",
       "        # pushover: diplacement controlled static analysis\n",
       "        ops.integrator('DisplacementControl',2,1,0.1)     #  switch to displacement control, for node 11, dof 1, 0.1 increment\n",
       "        ops.analyze(1000)     #  apply 100 steps of pushover analysis to a displacement of 10\n",
       "        \n",
       "        print(f'pid {pid} of np={np} Analysis-{count} execution done')\n",
       "\n",
       "    count +=1\n",
       "\n",
       "print(f\"pid {pid} of np={np} ALL DONE!!!\")</pre>\n",
       "                      </details>\n",
       "                    "
      ],
      "text/plain": [
       "<IPython.core.display.HTML object>"
      ]
     },
     "metadata": {},
     "output_type": "display_data"
    }
   ],
   "source": [
    "OpsUtils.show_text_file_in_accordion(OpsScriptsPath,inputFile)"
   ]
  },
  {
   "cell_type": "code",
   "execution_count": 23,
   "metadata": {},
   "outputs": [
    {
     "name": "stdout",
     "output_type": "stream",
     "text": [
      "mpi4py -- python pid 0 of 4 started\n",
      "mpi4py -- python pid 1 of 4 started\n",
      "mpi4py -- python pid 3 of 4 started\n",
      "mpi4py -- python pid 2 of 4 started\n",
      "pid 1 of np=4 Analysis-1 execution done\n",
      "pid 3 of np=4 Analysis-3 execution done\n",
      "pid 2 of np=4 Analysis-2 execution done\n",
      "pid 0 of np=4 Analysis-0 execution done\n",
      "pid 2 of np=4 Analysis-6 execution done\n",
      "pid 2 of np=4 ALL DONE!!!\n",
      "pid 1 of np=4 Analysis-5 execution done\n",
      "pid 1 of np=4 ALL DONE!!!\n",
      "pid 3 of np=4 Analysis-7 execution done\n",
      "pid 3 of np=4 ALL DONE!!!\n",
      "pid 0 of np=4 Analysis-4 execution done\n",
      "pid 0 of np=4 ALL DONE!!!\n"
     ]
    },
    {
     "name": "stderr",
     "output_type": "stream",
     "text": [
      "Process 0 Terminating\n",
      "Process 0 Terminating\n",
      "Process 0 Terminating\n",
      "Process 0 Terminating\n"
     ]
    },
    {
     "data": {
      "text/plain": [
       "0"
      ]
     },
     "execution_count": 23,
     "metadata": {},
     "output_type": "execute_result"
    }
   ],
   "source": [
    "os.system(f'mpiexec -np {np} python {OpsScriptsPath}/{inputFile}')"
   ]
  },
  {
   "cell_type": "markdown",
   "metadata": {},
   "source": [
    "#### Run OpenSeesPy script within this notebook\n",
    "running the script in this manner maintains all variable definitions and OpenSees-Model Objects (unless wipe was used)"
   ]
  },
  {
   "cell_type": "code",
   "execution_count": 24,
   "metadata": {},
   "outputs": [],
   "source": [
    "inputFile = 'Ex1a.Canti2D.Push.py'"
   ]
  },
  {
   "cell_type": "code",
   "execution_count": 25,
   "metadata": {
    "tags": [
     "remove-input"
    ]
   },
   "outputs": [
    {
     "data": {
      "text/html": [
       "\n",
       "                      <details style=\"margin-top:1em; font-family:monospace; background:white; \n",
       "                          padding:0.25em; border-radius:6px; border:1px solid #ccc;\">\n",
       "                        <summary style=\"cursor:pointer; font-weight:bold; background:white; \n",
       "                          padding:0.3em 0.5em; border-radius:4px;\">Ex1a.Canti2D.Push.py</summary>\n",
       "\n",
       "                        <button onclick=\"navigator.clipboard.writeText(document.getElementById('52ef0c0577bc4fd0860378b8dfca8789').innerText)\">\n",
       "                          📋 Copy\n",
       "                        </button>\n",
       "                        <pre id=\"52ef0c0577bc4fd0860378b8dfca8789\" style=\"white-space:pre-wrap; margin:0.25em 0 0 0; \n",
       "                            background:#d4fbff; padding:.3em; border-radius:5px;\">\n",
       "<b># /home/jupyter/MyData/_ToCommunityData/OpenSees/TrainingMaterial/training-OpenSees-on-DesignSafe/Examples_OpenSees/BasicExamples/Ex1a.Canti2D.Push.py</b>\n",
       "# python Ex1a.Canti2D.Push.py\n",
       "\n",
       "############################################################\n",
       "#  EXAMPLE: \n",
       "#       Ex1a.Canti2D.Push.py\n",
       "#          for OpenSeesPy\n",
       "#  --------------------------------------------------------#\n",
       "#  by: Silvia Mazzoni, 2020\n",
       "#       silviamazzoni@yahoo.com\n",
       "############################################################\n",
       "# This file was obtained from a conversion of the updated Tcl script\n",
       "# You can find the original Examples:\n",
       "# https://opensees.berkeley.edu/wiki/index.php/Examples_Manual\n",
       "# Original Examples by By Silvia Mazzoni & Frank McKenna, 2006, in Tcl\n",
       "# Converted to OpenSeesPy by SilviaMazzoni, 2020\n",
       "############################################################\n",
       "# --------------------------------------------------------------------------------------------------\n",
       "# Example 1. cantilever 2D\n",
       "# static pushover analysis with gravity.\n",
       "# all units are in kip, inch, second\n",
       "# elasticBeamColumn ELEMENT\n",
       "#\t\t\tSilvia Mazzoni & Frank McKenna, 2006\n",
       "#\n",
       "#    ^Y\n",
       "#    |\n",
       "#    2       __ \n",
       "#    |         | \n",
       "#    |         | \n",
       "#    |         | \n",
       "#  (1)      36'\n",
       "#    |         | \n",
       "#    |         | \n",
       "#    |         | \n",
       "#  =1=    ----  -------->X\n",
       "#\n",
       "#\n",
       "\n",
       "import openseespy.opensees as ops\n",
       "import numpy as numpy\n",
       "import matplotlib.pyplot as plt\n",
       "import os\n",
       "\n",
       "LColList = [100,120,200,240,300,360,400,480]\n",
       "#-----------------------------------------\n",
       "dataDir=f'DataPY';                # set up name of data directory\n",
       "os.makedirs(dataDir, exist_ok=True);    # create data directory\n",
       "\n",
       "count = 0;\n",
       "for Lcol in LColList:\n",
       "    ops.wipe()\n",
       "\n",
       "    # SET UP ----------------------------------------------------------------------------\n",
       "    ops.wipe()     #  clear opensees model\n",
       "    ops.model('basic','-ndm',2,'-ndf',3)     #  2 dimensions, 3 dof per node\n",
       "\n",
       "    # define GEOMETRY -------------------------------------------------------------\n",
       "    # nodal coordinates:\n",
       "    ops.node(1,0,0)     #  node , X Y\n",
       "    ops.node(2,0,Lcol)\n",
       "\n",
       "    # Single point constraints -- Boundary Conditions\n",
       "    ops.fix(1,1,1,1)     #  node DX DY RZ\n",
       "\n",
       "    # nodal masses:\n",
       "    ops.mass(2,5.18,0.,0.)     #  node , Mx My Mz, Mass=Weight/g.\n",
       "\n",
       "    # Define ELEMENTS -------------------------------------------------------------\n",
       "    # define geometric transformation: performs a linear geometric transformation of beam stiffness\n",
       "    # and resisting force from the basic system to the global-coordinate system\n",
       "    ops.geomTransf('Linear',1)     #  associate a tag to transformation\n",
       "\n",
       "    # element elasticBeamColumn eleTag iNode jNode A E Iz transfTag\n",
       "    ops.element('elasticBeamColumn',1,1,2,3600000000,4227,1080000,1)\n",
       "\n",
       "    # Define RECORDERS -------------------------------------------------------------\n",
       "    ops.recorder('Node','-file',f'{dataDir}/DFree_Lcol{Lcol}.out','-time','-node',2,'-dof',1,2,3,'disp')     #  displacements of free nodes\n",
       "    ops.recorder('Node','-file',f'{dataDir}/DBase_Lcol{Lcol}.out','-time','-node',1,'-dof',1,2,3,'disp')     #  displacements of support nodes\n",
       "    ops.recorder('Node','-file',f'{dataDir}/RBase_Lcol{Lcol}.out','-time','-node',1,'-dof',1,2,3,'reaction')     #  support reaction\n",
       "    ops.recorder('Element','-file',f'{dataDir}/FCol_Lcol{Lcol}.out','-time','-ele',1,'globalForce')     #  element forces -- column\n",
       "    ops.recorder('Element','-file',f'{dataDir}/DCol_Lcol{Lcol}.out','-time','-ele',1,'deformation')     #  element deformations -- column\n",
       "\n",
       "\n",
       "    # define GRAVITY -------------------------------------------------------------\n",
       "    ops.timeSeries('Linear',1)     # timeSeries Linear 1;\n",
       "    ops.pattern('Plain',1,1) # \n",
       "    ops.load(2,0.,-2000.,0.)     #  node , FX FY MZ -- superstructure-weight\n",
       "    ops.wipeAnalysis()     # adding this to clear Analysis module \n",
       "    ops.constraints('Plain')     #  how it handles boundary conditions\n",
       "    ops.numberer('Plain')     #  renumber dofs to minimize band-width (optimization), if you want to\n",
       "    ops.system('BandGeneral')     #  how to store and solve the system of equations in the analysis\n",
       "    ops.test('NormDispIncr',1.0e-8,6)     #  determine if convergence has been achieved at the end of an iteration step\n",
       "    ops.algorithm('Newton')     #  use Newtons solution algorithm: updates tangent stiffness at every iteration\n",
       "    ops.integrator('LoadControl',0.1)     #  determine the next time step for an analysis,   apply gravity in 10 steps\n",
       "    ops.analysis('Static')     #  define type of analysis static or transient\n",
       "    ops.analyze(10)     #  perform gravity analysis\n",
       "    ops.loadConst('-time',0.0)     #  hold gravity constant and restart time\n",
       "\n",
       "    # define LATERAL load -------------------------------------------------------------\n",
       "    ops.timeSeries('Linear',2)     # timeSeries Linear 2;\n",
       "    ops.pattern('Plain',2,2) # \n",
       "    ops.load(2,2000.,0.0,0.0)     #  node , FX FY MZ -- representative lateral load at top node\n",
       "\n",
       "    # pushover: diplacement controlled static analysis\n",
       "    ops.integrator('DisplacementControl',2,1,0.1)     #  switch to displacement control, for node 11, dof 1, 0.1 increment\n",
       "    ops.analyze(1000)     #  apply 100 steps of pushover analysis to a displacement of 10\n",
       "\n",
       "    print(f'Analysis-{count} execution done')\n",
       "\n",
       "    count +=1\n",
       "\n",
       "print(f\"ALL DONE!!!\")</pre>\n",
       "                      </details>\n",
       "                    "
      ],
      "text/plain": [
       "<IPython.core.display.HTML object>"
      ]
     },
     "metadata": {},
     "output_type": "display_data"
    }
   ],
   "source": [
    "OpsUtils.show_text_file_in_accordion(OpsScriptsPath,inputFile)"
   ]
  },
  {
   "cell_type": "code",
   "execution_count": 26,
   "metadata": {},
   "outputs": [
    {
     "name": "stdout",
     "output_type": "stream",
     "text": [
      "Analysis-0 execution done\n",
      "Analysis-1 execution done\n",
      "Analysis-2 execution done\n",
      "Analysis-3 execution done\n",
      "Analysis-4 execution done\n",
      "Analysis-5 execution done\n",
      "Analysis-6 execution done\n",
      "Analysis-7 execution done\n",
      "ALL DONE!!!\n"
     ]
    }
   ],
   "source": [
    "exec(open(f'{OpsScriptsPath}/{inputFile}').read())"
   ]
  },
  {
   "cell_type": "markdown",
   "metadata": {},
   "source": [
    "***Variables & OpenSees model have been preserved:***"
   ]
  },
  {
   "cell_type": "code",
   "execution_count": 27,
   "metadata": {},
   "outputs": [
    {
     "name": "stdout",
     "output_type": "stream",
     "text": [
      "OpenSees Model\n"
     ]
    },
    {
     "name": "stderr",
     "output_type": "stream",
     "text": [
      "Current Domain Information\n",
      "\tCurrent Time: 6.19189\n",
      "\tCommitted Time: 6.19189\n",
      "NODE DATA: NumNodes: 2\n",
      "\n",
      "numComponents: 2\n",
      "\n",
      " Node: 1\n",
      "\tCoordinates  : 0 0 \n",
      "\tDisps: 0 0 0 \n",
      "\t unbalanced Load: 0 0 0 \n",
      "\t reaction: -12383.8 2000 5.94422e+06 \n",
      "\tID : -1 -1 -1 \n",
      "\n",
      "\n",
      " Node: 2\n",
      "\tCoordinates  : 0 480 \n",
      "\tDisps: 100 -6.30865e-08 -0.3125 \n",
      "\t unbalanced Load: 12383.8 -2000 0 \n",
      "\t reaction: -1.81899e-12 2.27374e-13 -4.65661e-10 \n",
      "\tMass : \n",
      "5.18 0 0 \n",
      "0 0 0 \n",
      "0 0 0 \n",
      "\n",
      "\t Rayleigh Factor: alphaM: 0\n",
      "\t Rayleigh Forces: 0 0 0 \n",
      "\tID : 0 1 2 \n",
      "\n",
      "ELEMENT DATA: NumEle: 1\n",
      "\n",
      "numComponents: 1\n",
      "\n",
      "ElasticBeam2d: 1\n",
      "\tConnected Nodes: 1 2 \n",
      "\tCoordTransf: 1\n",
      "\tmass density:  0, cMass: 0\n",
      "\trelease code:  0\n",
      "\tEnd 1 Forces (P V M): 2000 12383.8 5.94422e+06\n",
      "\tEnd 2 Forces (P V M): -2000 -12383.8 -4.65661e-10\n",
      "\n",
      "SP_Constraints: numConstraints: 3\n",
      "\n",
      "numComponents: 3\n",
      "SP_Constraint: 0\t Node: 1 DOF: 1 ref value: 0 current value: 0 initial value: 0\n",
      "SP_Constraint: 1\t Node: 1 DOF: 2 ref value: 0 current value: 0 initial value: 0\n",
      "SP_Constraint: 2\t Node: 1 DOF: 3 ref value: 0 current value: 0 initial value: 0\n",
      "\n",
      "Pressure_Constraints: numConstraints: 0\n",
      "\n",
      "numComponents: 0\n",
      "\n",
      "MP_Constraints: numConstraints: 0\n",
      "\n",
      "numComponents: 0\n",
      "\n",
      "LOAD PATTERNS: numPatterns: 2\n",
      "\n",
      "\n",
      "numComponents: 2\n",
      "Load Pattern: 1\n",
      "  Scale Factor: 1\n",
      "Linear Series: constant factor: 1\n",
      "  Nodal Loads: \n",
      "\n",
      "numComponents: 1\n",
      "Nodal Load: 2 load : 0 -2000 0 \n",
      "\n",
      "  Elemental Loads: \n",
      "\n",
      "numComponents: 0\n",
      "\n",
      "  Single Point Constraints: \n",
      "\n",
      "numComponents: 0\n",
      "Load Pattern: 2\n",
      "  Scale Factor: 1\n",
      "Linear Series: constant factor: 1\n",
      "  Nodal Loads: \n",
      "\n",
      "numComponents: 1\n",
      "Nodal Load: 2 load : 2000 0 0 \n",
      "\n",
      "  Elemental Loads: \n",
      "\n",
      "numComponents: 0\n",
      "\n",
      "  Single Point Constraints: \n",
      "\n",
      "numComponents: 0\n",
      "\n",
      "PARAMETERS: numParameters: 0\n",
      "\n",
      "\n",
      "numComponents: 0\n"
     ]
    }
   ],
   "source": [
    "# OpenSees Model have been preserved (unless wipe has been used)\n",
    "print('OpenSees Model')\n",
    "ops.printModel()"
   ]
  },
  {
   "cell_type": "markdown",
   "metadata": {},
   "source": [
    "---"
   ]
  },
  {
   "cell_type": "markdown",
   "metadata": {},
   "source": [
    "## Plot analysis results\n",
    "for any of the above analyses"
   ]
  },
  {
   "cell_type": "code",
   "execution_count": 28,
   "metadata": {},
   "outputs": [],
   "source": [
    "#pick any case\n",
    "dataDir = 'DataTCL'\n",
    "Lcol = 400"
   ]
  },
  {
   "cell_type": "code",
   "execution_count": 29,
   "metadata": {},
   "outputs": [
    {
     "name": "stdout",
     "output_type": "stream",
     "text": [
      "relative path: DataTCL\n",
      "absolute path: /home/jupyter/MyData/tmp_training/DataTCL\n",
      "current directory: /home/jupyter/MyData/tmp_training\n"
     ]
    }
   ],
   "source": [
    "# check paths:\n",
    "print('relative path:',os.path.expanduser(dataDir))\n",
    "print('absolute path:',os.path.abspath(dataDir))\n",
    "\n",
    "print('current directory:',os.getcwd())"
   ]
  },
  {
   "cell_type": "code",
   "execution_count": 30,
   "metadata": {},
   "outputs": [
    {
     "data": {
      "image/png": "[encoded data removed]",
      "text/plain": [
       "<Figure size 640x480 with 2 Axes>"
      ]
     },
     "metadata": {},
     "output_type": "display_data"
    },
    {
     "name": "stdout",
     "output_type": "stream",
     "text": [
      "plot saved to DataTCL/Response_Lcol400.jpg\n",
      "End of Run: Ex1a.Canti2D.Push.py.ipynb\n"
     ]
    }
   ],
   "source": [
    "plt.close('all')\n",
    "fname3 = f'{dataDir}/DFree_Lcol{Lcol}.out'\n",
    "dataDFree = numpy.loadtxt(fname3)\n",
    "plt.subplot(211)\n",
    "plt.title(f'Ex1a.Canti2D {dataDir}')\n",
    "plt.grid(True)\n",
    "plt.plot(dataDFree[:,1])\n",
    "plt.xlabel('Step Number')\n",
    "plt.ylabel('Free-Node Displacement')\n",
    "plt.subplot(212)\n",
    "plt.grid(True)\n",
    "plt.plot(dataDFree[:,1],dataDFree[:,0])\n",
    "plt.xlabel('Free-Node Disp.')\n",
    "plt.ylabel('Pseudo-Time (~Force)')\n",
    "plt.savefig(f'{dataDir}/Response.jpg')\n",
    "plt.show()\n",
    "print(f'plot saved to {dataDir}/Response_Lcol{Lcol}.jpg')\n",
    "print('End of Run: Ex1a.Canti2D.Push.py.ipynb')\n"
   ]
  }
 ],
 "metadata": {
  "IMAGE_NAME": "taccsciapps/ds-nb-img:base-0.2.3",
  "UUID": "1a2bd54a-d0d9-11ee-8488-6ee5aab47977",
  "kernelspec": {
   "display_name": "Python 3 (ipykernel)",
   "language": "python",
   "name": "python3"
  },
  "language_info": {
   "codemirror_mode": {
    "name": "ipython",
    "version": 3
   },
   "file_extension": ".py",
   "mimetype": "text/x-python",
   "name": "python",
   "nbconvert_exporter": "python",
   "pygments_lexer": "ipython3",
   "version": "3.12.11"
  }
 },
 "nbformat": 4,
 "nbformat_minor": 4
}
