{
 "cells": [
  {
   "cell_type": "markdown",
   "metadata": {},
   "source": [
    "<a class=\"reference external\" \n",
    "    href=\"https://jupyter.designsafe-ci.org/hub/user-redirect/lab/tree/CommunityData/OpenSees/TrainingMaterial/training-OpenSees-on-DesignSafe/Jupyter_Notebooks/tapis_submitJob_DSapp_OpenSees_Compact.ipynb\" \n",
    "    target=\"_blank\"\n",
    "    >\n",
    "<img alt=\"Try on DesignSafe\" src=\"https://raw.githubusercontent.com/DesignSafe-Training/pinn/main/DesignSafe-Badge.svg\" /></a>"
   ]
  },
  {
   "cell_type": "markdown",
   "metadata": {},
   "source": [
    "# Run OpenSees -- Compact 📒\n",
    "***Submit an OpenSees App***\n",
    "\n",
    "by Silvia Mazzoni, DesignSafe, 2025\n",
    "\n",
    "\n",
    "In this Notebook we are going to run a set of OpenSeesMP jobs and a set of OpenSees-Express Jobs.\n",
    "We are also submitting the jobs from different input-file storage systems -- MyData, CommunityData, Work, MyProjects\n",
    "\n",
    "\n",
    "This notebook serves as a template for submitting the following DesignSafe OpenSees Apps:\n",
    "* openSees-express\n",
    "* openSees-mp-s3\n",
    "* opensees-sp-s3\n",
    "\n",
    "I have combined all the commands into a common-command cell and one cell per storage system.\n",
    "\n",
    "We are using previously-defined python function to streamline the process."
   ]
  },
  {
   "cell_type": "code",
   "execution_count": 1,
   "metadata": {
    "tags": [
     "remove-input"
    ]
   },
   "outputs": [
    {
     "name": "stdout",
     "output_type": "stream",
     "text": [
      "Using local utilities library\n"
     ]
    }
   ],
   "source": [
    "# Local Utilities Library\n",
    "# you can remove the logic associated with the local path\n",
    "import sys,os\n",
    "relativePath = '../OpsUtils'\n",
    "if os.path.exists(relativePath):\n",
    "    print(\"Using local utilities library\")\n",
    "    PathOpsUtils = os.path.expanduser(relativePath)\n",
    "else:\n",
    "    PathOpsUtils = os.path.expanduser('~/CommunityData/OpenSees/TrainingMaterial/training-OpenSees-on-DesignSafe/OpsUtils')\n",
    "if not PathOpsUtils in sys.path: sys.path.append(PathOpsUtils)\n",
    "from OpsUtils import OpsUtils"
   ]
  },
  {
   "cell_type": "markdown",
   "metadata": {},
   "source": [
    "## Connect to Tapis"
   ]
  },
  {
   "cell_type": "code",
   "execution_count": 2,
   "metadata": {},
   "outputs": [
    {
     "name": "stdout",
     "output_type": "stream",
     "text": [
      " -- Checking tapis Token --\n",
      " Time now: 2025-08-14 15:46:36.213082+00:00\n",
      " Token loaded from file.\n",
      " Token is still valid!\n",
      " Token expires At: 2025-08-14 18:32:39+00:00\n",
      " Token expires In  2:46:02.786918  hh:mm:sec\n",
      "-- LOG IN SUCCESSFUL!!! --\n"
     ]
    }
   ],
   "source": [
    "t=OpsUtils.connect_tapis()"
   ]
  },
  {
   "cell_type": "markdown",
   "metadata": {},
   "source": [
    "---\n",
    "## OpenSeesMP"
   ]
  },
  {
   "cell_type": "markdown",
   "metadata": {},
   "source": [
    "### Common Input"
   ]
  },
  {
   "cell_type": "code",
   "execution_count": 3,
   "metadata": {},
   "outputs": [],
   "source": [
    "# initalize\n",
    "tapisInputAll = {}\n",
    "tapisInputAll[\"name\"] = 'OpsTrain_OpenSeesMP'\n",
    "\n",
    "tapisInputAll[\"appId\"] = \"opensees-mp-s3\" # options: \"opensees-express\", \"opensees-mp-s3\", \"opensees-2p-s3\"\n",
    "tapisInputAll[\"appVersion\"] = \"latest\" # always use latest in this Notebook Template\n",
    "\n",
    "tapisInputAll[\"maxMinutes\"] = 6\n",
    "\n",
    "# OpenSees-mp-s3 and OpenSees-xp-s3 only:\n",
    "if tapisInputAll[\"appId\"] in [\"opensees-mp-s3\",\"opensees-sp-s3\"]:\n",
    "    tapisInputAll[\"execSystemId\"] = \"stampede3\" # the app runs on stampede only\n",
    "    tapisInputAll[\"execSystemLogicalQueue\"] = \"skx-dev\" # \"skx\", \"skx-dev\"\n",
    "    tapisInputAll[\"nodeCount\"] = 1 # limits set by which compute nodes you use\n",
    "    tapisInputAll[\"coresPerNode\"] = 48 # limits set by which compute nodes you use\n",
    "    tapisInputAll[\"allocation\"] = \"DS-HPC1\"\n",
    "\n",
    "tapisInputAll['archive_system']='MyData' # Options: MyData or Work"
   ]
  },
  {
   "cell_type": "markdown",
   "metadata": {},
   "source": [
    "### MyData\n",
    "This job is in the **MyData** Storage System"
   ]
  },
  {
   "cell_type": "code",
   "execution_count": 4,
   "metadata": {},
   "outputs": [
    {
     "name": "stdout",
     "output_type": "stream",
     "text": [
      "All Input is Complete\n",
      "Submitting Job\n",
      "Job submitted! ID: d978e8ae-0393-49ab-8322-eb7d8542ba88-007\n",
      "job_start_time: 1755186400.1074073\n",
      "\n",
      "Real-Time Job-Status Updates...\n",
      "--------------------\n",
      "\t Elapsed job time: 1.04 sec\t Current Status: PENDING\n",
      "\t Elapsed job time: 2.06 sec\t Current Status: PROCESSING_INPUTS\t\t(PENDING took 1.02 sec)\n",
      "\t Elapsed job time: 6.21 sec\t Current Status: STAGING_INPUTS\t\t(PROCESSING_INPUTS took 4.14 sec)\n",
      "\t Elapsed job time: 52.35 sec\t Current Status: STAGING_JOB\t\t(STAGING_INPUTS took 46.15 sec)\n",
      "\t Elapsed job time: 94.45 sec\t Current Status: QUEUED\t\t(STAGING_JOB took 42.09 sec)\n",
      "\t Elapsed job time: 97.55 sec\t Current Status: RUNNING\t\t(QUEUED took 3.11 sec)\n",
      "\t Elapsed job time: 126.89 sec\t Current Status: ARCHIVING\t\t(RUNNING took 29.34 sec)\n",
      "\t Elapsed job time: 490.28 sec\t Current Status: FINISHED\t\t(ARCHIVING took 363.39 sec)\n",
      "\t  Status: FINISHED\t Elapsed job time: 490.28 sec\n",
      "--------------------\n",
      "Elapsed time since Job was submitted: 490.28 sec\n",
      "--------------------\n"
     ]
    },
    {
     "data": {
      "application/vnd.jupyter.widget-view+json": {
       "model_id": "93f206897eed41bc9e54f067f1a896d5",
       "version_major": 2,
       "version_minor": 0
      },
      "text/plain": [
       "Accordion(children=(Output(),), selected_index=0, titles=('Job STATUS   (d978e8ae-0393-49ab-8322-eb7d8542ba88-…"
      ]
     },
     "metadata": {},
     "output_type": "display_data"
    },
    {
     "data": {
      "application/vnd.jupyter.widget-view+json": {
       "model_id": "700d99a0153e485e802849282bca1f5b",
       "version_major": 2,
       "version_minor": 0
      },
      "text/plain": [
       "Accordion(children=(Output(),), selected_index=0, titles=('Job Metadata   (d978e8ae-0393-49ab-8322-eb7d8542ba8…"
      ]
     },
     "metadata": {},
     "output_type": "display_data"
    },
    {
     "data": {
      "application/vnd.jupyter.widget-view+json": {
       "model_id": "73d294bbf5a94689af374b819d7cecd6",
       "version_major": 2,
       "version_minor": 0
      },
      "text/plain": [
       "Accordion(children=(Output(),), selected_index=0, titles=('Job History Data   (d978e8ae-0393-49ab-8322-eb7d854…"
      ]
     },
     "metadata": {},
     "output_type": "display_data"
    },
    {
     "data": {
      "application/vnd.jupyter.widget-view+json": {
       "model_id": "189f02744bb24b2993579c4324c9e0a7",
       "version_major": 2,
       "version_minor": 0
      },
      "text/plain": [
       "Accordion(children=(Output(),), selected_index=0, titles=('Job Filedata   (d978e8ae-0393-49ab-8322-eb7d8542ba8…"
      ]
     },
     "metadata": {},
     "output_type": "display_data"
    }
   ],
   "source": [
    "# initalize\n",
    "tapisInput = tapisInputAll.copy()\n",
    "\n",
    "tapisInput['storage_system'] = 'MyData'  # ########################## unique\n",
    "\n",
    "tapisInput[\"name\"] = tapisInput[\"name\"] + '_' + tapisInput['storage_system']\n",
    "\n",
    "tapisInput['input_folder'] = '_ToCommunityData/OpenSees/TrainingMaterial/training-OpenSees-on-DesignSafe/Examples_OpenSees/BasicExamples'  # ########################## unique\n",
    "tapisInput['input_filename'] = 'Ex1a_verymany.Canti2D.Push.mp.tcl' # ########################## unique\n",
    "\n",
    "# -----------------------------------------------------\n",
    "jobReturns = OpsUtils.run_tapis_job(t,tapisInput,get_job_metadata=True,get_job_history=True,get_job_filedata=True,askConfirmJob = False,askConfirmMonitorRT = False)\n",
    "# -----------------------------------------------------\n"
   ]
  },
  {
   "cell_type": "markdown",
   "metadata": {},
   "source": [
    "### CommunityData\n",
    "This job is in the **CommunityData** Storage System"
   ]
  },
  {
   "cell_type": "code",
   "execution_count": 5,
   "metadata": {},
   "outputs": [
    {
     "name": "stdout",
     "output_type": "stream",
     "text": [
      "All Input is Complete\n",
      "Submitting Job\n",
      "Job submitted! ID: f88fca93-483f-432d-9b88-4e394d628862-007\n",
      "job_start_time: 1755186896.3302517\n",
      "\n",
      "Real-Time Job-Status Updates...\n",
      "--------------------\n",
      "\t Elapsed job time: 1.04 sec\t Current Status: PENDING\n",
      "\t Elapsed job time: 2.06 sec\t Current Status: PROCESSING_INPUTS\t\t(PENDING took 1.02 sec)\n",
      "\t Elapsed job time: 5.14 sec\t Current Status: STAGING_INPUTS\t\t(PROCESSING_INPUTS took 3.08 sec)\n",
      "\t Elapsed job time: 30.93 sec\t Current Status: STAGING_JOB\t\t(STAGING_INPUTS took 25.79 sec)\n",
      "\t Elapsed job time: 52.55 sec\t Current Status: SUBMITTING_JOB\t\t(STAGING_JOB took 21.62 sec)\n",
      "\t Elapsed job time: 53.58 sec\t Current Status: QUEUED\t\t(SUBMITTING_JOB took 1.02 sec)\n",
      "\t Elapsed job time: 67.05 sec\t Current Status: RUNNING\t\t(QUEUED took 13.47 sec)\n",
      "\t Elapsed job time: 147.39 sec\t Current Status: ARCHIVING\t\t(RUNNING took 80.34 sec)\n",
      "\t Elapsed job time: 536.21 sec\t Current Status: FINISHED\t\t(ARCHIVING took 388.82 sec)\n",
      "\t  Status: FINISHED\t Elapsed job time: 536.21 sec\n",
      "--------------------\n",
      "Elapsed time since Job was submitted: 536.21 sec\n",
      "--------------------\n"
     ]
    },
    {
     "data": {
      "application/vnd.jupyter.widget-view+json": {
       "model_id": "e50a3d3253f1466db03244ea29f3f9a2",
       "version_major": 2,
       "version_minor": 0
      },
      "text/plain": [
       "Accordion(children=(Output(),), selected_index=0, titles=('Job STATUS   (f88fca93-483f-432d-9b88-4e394d628862-…"
      ]
     },
     "metadata": {},
     "output_type": "display_data"
    },
    {
     "data": {
      "application/vnd.jupyter.widget-view+json": {
       "model_id": "102925b469ff44118d99d340ad385a20",
       "version_major": 2,
       "version_minor": 0
      },
      "text/plain": [
       "Accordion(children=(Output(),), selected_index=0, titles=('Job Metadata   (f88fca93-483f-432d-9b88-4e394d62886…"
      ]
     },
     "metadata": {},
     "output_type": "display_data"
    },
    {
     "data": {
      "application/vnd.jupyter.widget-view+json": {
       "model_id": "015d2e17a1454bccb9790981e654f430",
       "version_major": 2,
       "version_minor": 0
      },
      "text/plain": [
       "Accordion(children=(Output(),), selected_index=0, titles=('Job History Data   (f88fca93-483f-432d-9b88-4e394d6…"
      ]
     },
     "metadata": {},
     "output_type": "display_data"
    },
    {
     "data": {
      "application/vnd.jupyter.widget-view+json": {
       "model_id": "43949ea767534b40ae21794a5ebfcb9f",
       "version_major": 2,
       "version_minor": 0
      },
      "text/plain": [
       "Accordion(children=(Output(),), selected_index=0, titles=('Job Filedata   (f88fca93-483f-432d-9b88-4e394d62886…"
      ]
     },
     "metadata": {},
     "output_type": "display_data"
    }
   ],
   "source": [
    "# initalize\n",
    "tapisInput = tapisInputAll.copy()\n",
    "\n",
    "tapisInput['storage_system'] = 'CommunityData' # ########################## unique\n",
    "\n",
    "tapisInput[\"name\"] = tapisInput[\"name\"] + '_' + tapisInput['storage_system']\n",
    "\n",
    "tapisInput['input_folder'] = 'OpenSees/TrainingMaterial/training-OpenSees-on-DesignSafe/Examples_OpenSees/BasicExamples'  # ########################## unique\n",
    "tapisInput['input_filename'] = 'Ex1a_verymany.Canti2D.Push.mp.tcl' # ########################## unique\n",
    "\n",
    "# -----------------------------------------------------\n",
    "jobReturns = OpsUtils.run_tapis_job(t,tapisInput,get_job_metadata=True,get_job_history=True,get_job_filedata=True,askConfirmJob = False,askConfirmMonitorRT = False)\n",
    "# -----------------------------------------------------\n"
   ]
  },
  {
   "cell_type": "markdown",
   "metadata": {},
   "source": [
    "### Work\n",
    "This job is in the **Work** Storage System"
   ]
  },
  {
   "cell_type": "code",
   "execution_count": 6,
   "metadata": {},
   "outputs": [
    {
     "name": "stdout",
     "output_type": "stream",
     "text": [
      "All Input is Complete\n",
      "Submitting Job\n",
      "Job submitted! ID: 8ec68b09-2519-48f4-82c6-ffeeafba363f-007\n",
      "job_start_time: 1755187439.1509752\n",
      "\n",
      "Real-Time Job-Status Updates...\n",
      "--------------------\n",
      "\t Elapsed job time: 1.03 sec\t Current Status: PENDING\n",
      "\t Elapsed job time: 2.05 sec\t Current Status: PROCESSING_INPUTS\t\t(PENDING took 1.03 sec)\n",
      "\t Elapsed job time: 5.14 sec\t Current Status: STAGING_INPUTS\t\t(PROCESSING_INPUTS took 3.08 sec)\n",
      "\t Elapsed job time: 20.62 sec\t Current Status: STAGING_JOB\t\t(STAGING_INPUTS took 15.48 sec)\n",
      "\t Elapsed job time: 31.96 sec\t Current Status: SUBMITTING_JOB\t\t(STAGING_JOB took 11.35 sec)\n",
      "\t Elapsed job time: 33.0 sec\t Current Status: QUEUED\t\t(SUBMITTING_JOB took 1.03 sec)\n",
      "\t Elapsed job time: 46.48 sec\t Current Status: RUNNING\t\t(QUEUED took 13.48 sec)\n",
      "\t Elapsed job time: 127.36 sec\t Current Status: ARCHIVING\t\t(RUNNING took 80.88 sec)\n",
      "\t Elapsed job time: 486.12 sec\t Current Status: FINISHED\t\t(ARCHIVING took 358.76 sec)\n",
      "\t  Status: FINISHED\t Elapsed job time: 486.12 sec\n",
      "--------------------\n",
      "Elapsed time since Job was submitted: 486.12 sec\n",
      "--------------------\n"
     ]
    },
    {
     "data": {
      "application/vnd.jupyter.widget-view+json": {
       "model_id": "275070e48a4a48039f1b860973487ed3",
       "version_major": 2,
       "version_minor": 0
      },
      "text/plain": [
       "Accordion(children=(Output(),), selected_index=0, titles=('Job STATUS   (8ec68b09-2519-48f4-82c6-ffeeafba363f-…"
      ]
     },
     "metadata": {},
     "output_type": "display_data"
    },
    {
     "data": {
      "application/vnd.jupyter.widget-view+json": {
       "model_id": "16a28da3559b4f97802565b2c60b4c4d",
       "version_major": 2,
       "version_minor": 0
      },
      "text/plain": [
       "Accordion(children=(Output(),), selected_index=0, titles=('Job Metadata   (8ec68b09-2519-48f4-82c6-ffeeafba363…"
      ]
     },
     "metadata": {},
     "output_type": "display_data"
    },
    {
     "data": {
      "application/vnd.jupyter.widget-view+json": {
       "model_id": "54fd61f4e2a440db8ab20c5336dbeb4d",
       "version_major": 2,
       "version_minor": 0
      },
      "text/plain": [
       "Accordion(children=(Output(),), selected_index=0, titles=('Job History Data   (8ec68b09-2519-48f4-82c6-ffeeafb…"
      ]
     },
     "metadata": {},
     "output_type": "display_data"
    },
    {
     "data": {
      "application/vnd.jupyter.widget-view+json": {
       "model_id": "fbdba9293e73470da01d0d5c2ec4fddf",
       "version_major": 2,
       "version_minor": 0
      },
      "text/plain": [
       "Accordion(children=(Output(),), selected_index=0, titles=('Job Filedata   (8ec68b09-2519-48f4-82c6-ffeeafba363…"
      ]
     },
     "metadata": {},
     "output_type": "display_data"
    }
   ],
   "source": [
    "# initalize\n",
    "tapisInput = tapisInputAll.copy()\n",
    "\n",
    "tapisInput['storage_system'] = 'Work'  # ########################## unique\n",
    "\n",
    "tapisInput[\"name\"] = tapisInput[\"name\"] + '_' + tapisInput['storage_system']\n",
    "\n",
    "# Work is user- and system-dependent\n",
    "if tapisInput['storage_system']=='Work': # ########################## unique\n",
    "    tapisInput['storage_system_baseURL'] = 'tapis://cloud.data/work/05072/silvia/stampede3' # ########################## unique\n",
    "\n",
    "tapisInput['input_folder'] = 'BasicExamples'  # ########################## unique\n",
    "tapisInput['input_filename'] = 'Ex1a_verymany.Canti2D.Push.mp.tcl' # ########################## unique\n",
    "\n",
    "# -----------------------------------------------------\n",
    "jobReturns = OpsUtils.run_tapis_job(t,tapisInput,get_job_metadata=True,get_job_history=True,get_job_filedata=True,askConfirmJob = False,askConfirmMonitorRT = False)\n",
    "# -----------------------------------------------------"
   ]
  },
  {
   "cell_type": "markdown",
   "metadata": {},
   "source": [
    "### MyProjects\n",
    "This job is in the **MyProjects** Storage System"
   ]
  },
  {
   "cell_type": "code",
   "execution_count": 7,
   "metadata": {},
   "outputs": [
    {
     "name": "stdout",
     "output_type": "stream",
     "text": [
      "All Input is Complete\n",
      "Submitting Job\n",
      "Job submitted! ID: 2e476e94-c4a2-4f61-9a3d-c931f8274f99-007\n",
      "job_start_time: 1755187930.7450101\n",
      "\n",
      "Real-Time Job-Status Updates...\n",
      "--------------------\n",
      "\t Elapsed job time: 1.05 sec\t Current Status: PENDING\n",
      "\t Elapsed job time: 2.08 sec\t Current Status: PROCESSING_INPUTS\t\t(PENDING took 1.03 sec)\n",
      "\t Elapsed job time: 5.16 sec\t Current Status: STAGING_INPUTS\t\t(PROCESSING_INPUTS took 3.08 sec)\n",
      "\t Elapsed job time: 40.14 sec\t Current Status: STAGING_JOB\t\t(STAGING_INPUTS took 34.98 sec)\n",
      "\t Elapsed job time: 73.27 sec\t Current Status: QUEUED\t\t(STAGING_JOB took 33.13 sec)\n",
      "\t Elapsed job time: 127.38 sec\t Current Status: RUNNING\t\t(QUEUED took 54.12 sec)\n",
      "\t Elapsed job time: 152.72 sec\t Current Status: ARCHIVING\t\t(RUNNING took 25.33 sec)\n",
      "\t Elapsed job time: 157.77 sec\t Current Status: FAILED\t\t(ARCHIVING took 5.05 sec)\n",
      "\t  Status: FAILED\t Elapsed job time: 157.77 sec\n",
      "--------------------\n",
      "Elapsed time since Job was submitted: 157.77 sec\n",
      "--------------------\n"
     ]
    },
    {
     "data": {
      "application/vnd.jupyter.widget-view+json": {
       "model_id": "d64490e0ba7047e2ac2f45c8f545b8f0",
       "version_major": 2,
       "version_minor": 0
      },
      "text/plain": [
       "Accordion(children=(Output(),), selected_index=0, titles=('Job STATUS   (2e476e94-c4a2-4f61-9a3d-c931f8274f99-…"
      ]
     },
     "metadata": {},
     "output_type": "display_data"
    },
    {
     "data": {
      "application/vnd.jupyter.widget-view+json": {
       "model_id": "fffb527918274e9aa0d4914a470a575f",
       "version_major": 2,
       "version_minor": 0
      },
      "text/plain": [
       "Accordion(children=(Output(),), selected_index=0, titles=('Job Metadata   (2e476e94-c4a2-4f61-9a3d-c931f8274f9…"
      ]
     },
     "metadata": {},
     "output_type": "display_data"
    },
    {
     "data": {
      "application/vnd.jupyter.widget-view+json": {
       "model_id": "bd4602c1031644379e2bfd1746ec352a",
       "version_major": 2,
       "version_minor": 0
      },
      "text/plain": [
       "Accordion(children=(Output(),), selected_index=0, titles=('Job History Data   (2e476e94-c4a2-4f61-9a3d-c931f82…"
      ]
     },
     "metadata": {},
     "output_type": "display_data"
    },
    {
     "data": {
      "application/vnd.jupyter.widget-view+json": {
       "model_id": "7b7ceae40cc1424982680da15b5acdbc",
       "version_major": 2,
       "version_minor": 0
      },
      "text/plain": [
       "Accordion(children=(Output(),), selected_index=0, titles=('Job Filedata   (2e476e94-c4a2-4f61-9a3d-c931f8274f9…"
      ]
     },
     "metadata": {},
     "output_type": "display_data"
    }
   ],
   "source": [
    "# initalize\n",
    "tapisInput = tapisInputAll.copy()\n",
    "\n",
    "tapisInput['storage_system'] = 'MyProjects' # ########################## unique\n",
    "\n",
    "tapisInput[\"name\"] = tapisInput[\"name\"] + '_' + tapisInput['storage_system']\n",
    "\n",
    "# The following are project-dependent\n",
    "#  This value needs to be updated for each project\n",
    "if tapisInput['storage_system']=='MyProjects': # ########################## unique\n",
    "    tapisInput['storage_system_baseURL'] = 'tapis://project-7997906542076432871-242ac11c-0001-012' # ########################## unique\n",
    "\n",
    "tapisInput['input_folder'] = 'OpenSees/TrainingMaterial/training-OpenSees-on-DesignSafe/Examples_OpenSees/BasicExamples'  # ########################## unique\n",
    "tapisInput['input_filename'] = 'Ex1a_verymany.Canti2D.Push.mp.tcl'\n",
    "\n",
    "# -----------------------------------------------------\n",
    "jobReturns = OpsUtils.run_tapis_job(t,tapisInput,get_job_metadata=True,get_job_history=True,get_job_filedata=True,askConfirmJob = False,askConfirmMonitorRT = False)\n",
    "# -----------------------------------------------------"
   ]
  },
  {
   "cell_type": "markdown",
   "metadata": {},
   "source": [
    "---\n",
    "## OpenSees-Express"
   ]
  },
  {
   "cell_type": "markdown",
   "metadata": {},
   "source": [
    "### Common Input"
   ]
  },
  {
   "cell_type": "code",
   "execution_count": 8,
   "metadata": {},
   "outputs": [],
   "source": [
    "# initalize\n",
    "tapisInputAll = {}\n",
    "tapisInputAll[\"name\"] = 'OpsTrain_OpenSeesExpress'\n",
    "\n",
    "tapisInputAll[\"appId\"] = \"opensees-express\" # options: \"opensees-express\", \"opensees-mp-s3\", \"opensees-2p-s3\"\n",
    "tapisInputAll[\"appVersion\"] = \"latest\" # always use latest in this Notebook Template\n",
    "\n",
    "tapisInputAll[\"maxMinutes\"] = 6\n",
    "\n",
    "tapisInputAll['archive_system']='Work' # Options: MyData or Work"
   ]
  },
  {
   "cell_type": "markdown",
   "metadata": {},
   "source": [
    "### MyData\n",
    "This job is in the **MyData** Storage System"
   ]
  },
  {
   "cell_type": "code",
   "execution_count": 9,
   "metadata": {},
   "outputs": [
    {
     "name": "stdout",
     "output_type": "stream",
     "text": [
      "All Input is Complete\n",
      "{'name': 'OpsTrain_OpenSeesExpress_MyData', 'maxMinutes': 6, 'appId': 'opensees-express', 'appVersion': 'latest', 'fileInputs': [{'name': 'Input Directory', 'sourceUrl': 'tapis://designsafe.storage.default/silvia/_ToCommunityData/OpenSees/TrainingMaterial/training-OpenSees-on-DesignSafe/Examples_OpenSees/BasicExamples'}], 'parameterSet': {'envVariables': [{'key': 'mainProgram', 'value': 'OpenSees'}, {'key': 'tclScript', 'value': 'Ex1a.Canti2D.Push.tcl'}]}}\n",
      "All Input is Complete\n",
      "Submitting Job\n",
      "Job submitted! ID: 5d7b569e-c978-48e9-a07c-36626e253b52-007\n",
      "job_start_time: 1755188090.6574292\n",
      "\n",
      "Real-Time Job-Status Updates...\n",
      "--------------------\n",
      "\t Elapsed job time: 1.09 sec\t Current Status: PENDING\n",
      "\t Elapsed job time: 2.12 sec\t Current Status: PROCESSING_INPUTS\t\t(PENDING took 1.03 sec)\n",
      "\t Elapsed job time: 4.18 sec\t Current Status: STAGING_INPUTS\t\t(PROCESSING_INPUTS took 2.06 sec)\n",
      "\t Elapsed job time: 757.51 sec\t Current Status: STAGING_JOB\t\t(STAGING_INPUTS took 753.34 sec)\n",
      "\t Elapsed job time: 782.58 sec\t Current Status: ARCHIVING\t\t(STAGING_JOB took 25.07 sec)\n",
      "\t Elapsed job time: 807.64 sec\t Current Status: FINISHED\t\t(ARCHIVING took 25.06 sec)\n",
      "\t  Status: FINISHED\t Elapsed job time: 807.64 sec\n",
      "--------------------\n",
      "Elapsed time since Job was submitted: 807.64 sec\n",
      "--------------------\n"
     ]
    },
    {
     "data": {
      "application/vnd.jupyter.widget-view+json": {
       "model_id": "b8f52e9b28574a2581ef93baf3652911",
       "version_major": 2,
       "version_minor": 0
      },
      "text/plain": [
       "Accordion(children=(Output(),), selected_index=0, titles=('Job STATUS   (5d7b569e-c978-48e9-a07c-36626e253b52-…"
      ]
     },
     "metadata": {},
     "output_type": "display_data"
    },
    {
     "data": {
      "application/vnd.jupyter.widget-view+json": {
       "model_id": "6f3b7663332c43dc8b52e3da399fa693",
       "version_major": 2,
       "version_minor": 0
      },
      "text/plain": [
       "Accordion(children=(Output(),), selected_index=0, titles=('Job Metadata   (5d7b569e-c978-48e9-a07c-36626e253b5…"
      ]
     },
     "metadata": {},
     "output_type": "display_data"
    },
    {
     "data": {
      "application/vnd.jupyter.widget-view+json": {
       "model_id": "567b5778bd274fbba20d4ed4789846b8",
       "version_major": 2,
       "version_minor": 0
      },
      "text/plain": [
       "Accordion(children=(Output(),), selected_index=0, titles=('Job History Data   (5d7b569e-c978-48e9-a07c-36626e2…"
      ]
     },
     "metadata": {},
     "output_type": "display_data"
    },
    {
     "data": {
      "application/vnd.jupyter.widget-view+json": {
       "model_id": "91dc544bec334e68a63f983edba74a20",
       "version_major": 2,
       "version_minor": 0
      },
      "text/plain": [
       "Accordion(children=(Output(),), selected_index=0, titles=('Job Filedata   (5d7b569e-c978-48e9-a07c-36626e253b5…"
      ]
     },
     "metadata": {},
     "output_type": "display_data"
    }
   ],
   "source": [
    "# initalize\n",
    "tapisInput = tapisInputAll.copy()\n",
    "\n",
    "tapisInput['storage_system'] = 'MyData'  # ########################## unique\n",
    "\n",
    "tapisInput[\"name\"] = tapisInput[\"name\"] + '_' + tapisInput['storage_system']\n",
    "    \n",
    "tapisInput['input_folder'] = '_ToCommunityData/OpenSees/TrainingMaterial/training-OpenSees-on-DesignSafe/Examples_OpenSees/BasicExamples'  # ########################## unique\n",
    "tapisInput['input_filename'] = 'Ex1a.Canti2D.Push.tcl' # ########################## unique\n",
    "print(OpsUtils.get_tapis_job_description(t,tapisInput))\n",
    "# -----------------------------------------------------\n",
    "jobReturns = OpsUtils.run_tapis_job(t,tapisInput,get_job_metadata=True,get_job_history=True,get_job_filedata=True,askConfirmJob = False,askConfirmMonitorRT = False)\n",
    "# -----------------------------------------------------"
   ]
  },
  {
   "cell_type": "markdown",
   "metadata": {},
   "source": [
    "### CommunityData\n",
    "This job is in the **CommunityData** Storage System"
   ]
  },
  {
   "cell_type": "code",
   "execution_count": 10,
   "metadata": {},
   "outputs": [
    {
     "name": "stdout",
     "output_type": "stream",
     "text": [
      "All Input is Complete\n",
      "Submitting Job\n",
      "Job submitted! ID: db9d9b96-0c46-4421-b81e-ad30cee58042-007\n",
      "job_start_time: 1755188901.2336895\n",
      "\n",
      "Real-Time Job-Status Updates...\n",
      "--------------------\n",
      "\t Elapsed job time: 1.04 sec\t Current Status: PENDING\n",
      "\t Elapsed job time: 2.07 sec\t Current Status: STAGING_INPUTS\t\t(PENDING took 1.03 sec)\n",
      "\t Elapsed job time: 27.75 sec\t Current Status: STAGING_JOB\t\t(STAGING_INPUTS took 25.68 sec)\n",
      "\t Elapsed job time: 55.48 sec\t Current Status: RUNNING\t\t(STAGING_JOB took 27.74 sec)\n",
      "\t Elapsed job time: 56.51 sec\t Current Status: ARCHIVING\t\t(RUNNING took 1.03 sec)\n",
      "\t Elapsed job time: 74.1 sec\t Current Status: FINISHED\t\t(ARCHIVING took 17.58 sec)\n",
      "\t  Status: FINISHED\t Elapsed job time: 74.1 sec\n",
      "--------------------\n",
      "Elapsed time since Job was submitted: 74.1 sec\n",
      "--------------------\n"
     ]
    },
    {
     "data": {
      "application/vnd.jupyter.widget-view+json": {
       "model_id": "dbb373ac234a4b38a89f53c726dad408",
       "version_major": 2,
       "version_minor": 0
      },
      "text/plain": [
       "Accordion(children=(Output(),), selected_index=0, titles=('Job STATUS   (db9d9b96-0c46-4421-b81e-ad30cee58042-…"
      ]
     },
     "metadata": {},
     "output_type": "display_data"
    },
    {
     "data": {
      "application/vnd.jupyter.widget-view+json": {
       "model_id": "ecf148c2fd6346de98722b328d4779cc",
       "version_major": 2,
       "version_minor": 0
      },
      "text/plain": [
       "Accordion(children=(Output(),), selected_index=0, titles=('Job Metadata   (db9d9b96-0c46-4421-b81e-ad30cee5804…"
      ]
     },
     "metadata": {},
     "output_type": "display_data"
    },
    {
     "data": {
      "application/vnd.jupyter.widget-view+json": {
       "model_id": "e4289a4da2be4bb09addeb6e908293b4",
       "version_major": 2,
       "version_minor": 0
      },
      "text/plain": [
       "Accordion(children=(Output(),), selected_index=0, titles=('Job History Data   (db9d9b96-0c46-4421-b81e-ad30cee…"
      ]
     },
     "metadata": {},
     "output_type": "display_data"
    },
    {
     "data": {
      "application/vnd.jupyter.widget-view+json": {
       "model_id": "b4f3c15f9e0d42a3a5094e5169550371",
       "version_major": 2,
       "version_minor": 0
      },
      "text/plain": [
       "Accordion(children=(Output(),), selected_index=0, titles=('Job Filedata   (db9d9b96-0c46-4421-b81e-ad30cee5804…"
      ]
     },
     "metadata": {},
     "output_type": "display_data"
    }
   ],
   "source": [
    "# initalize\n",
    "tapisInput = tapisInputAll.copy()\n",
    "\n",
    "tapisInput['storage_system'] = 'CommunityData' # ########################## unique\n",
    "\n",
    "tapisInput[\"name\"] = tapisInput[\"name\"] + '_' + tapisInput['storage_system']\n",
    "\n",
    "tapisInput['input_folder'] = 'OpenSees/TrainingMaterial/training-OpenSees-on-DesignSafe/Examples_OpenSees/BasicExamples'  # ########################## unique\n",
    "tapisInput['input_filename'] = 'Ex1a.Canti2D.Push.tcl' # ########################## unique\n",
    "\n",
    "# -----------------------------------------------------\n",
    "jobReturns = OpsUtils.run_tapis_job(t,tapisInput,get_job_metadata=True,get_job_history=True,get_job_filedata=True,askConfirmJob = False,askConfirmMonitorRT = False)\n",
    "# -----------------------------------------------------"
   ]
  },
  {
   "cell_type": "markdown",
   "metadata": {},
   "source": [
    "### Work\n",
    "This job is in the **Work** Storage System"
   ]
  },
  {
   "cell_type": "code",
   "execution_count": 11,
   "metadata": {},
   "outputs": [
    {
     "name": "stdout",
     "output_type": "stream",
     "text": [
      "All Input is Complete\n",
      "Submitting Job\n",
      "Job submitted! ID: 5ab6d491-0942-4717-807f-1fa0256179b9-007\n",
      "job_start_time: 1755188977.085057\n",
      "\n",
      "Real-Time Job-Status Updates...\n",
      "--------------------\n",
      "\t Elapsed job time: 1.07 sec\t Current Status: PENDING\n",
      "\t Elapsed job time: 2.11 sec\t Current Status: STAGING_INPUTS\t\t(PENDING took 1.04 sec)\n",
      "\t Elapsed job time: 27.85 sec\t Current Status: STAGING_JOB\t\t(STAGING_INPUTS took 25.74 sec)\n",
      "\t Elapsed job time: 35.06 sec\t Current Status: RUNNING\t\t(STAGING_JOB took 7.21 sec)\n",
      "\t Elapsed job time: 37.11 sec\t Current Status: ARCHIVING\t\t(RUNNING took 2.05 sec)\n",
      "\t Elapsed job time: 48.4 sec\t Current Status: FINISHED\t\t(ARCHIVING took 11.29 sec)\n",
      "\t  Status: FINISHED\t Elapsed job time: 48.4 sec\n",
      "--------------------\n",
      "Elapsed time since Job was submitted: 48.4 sec\n",
      "--------------------\n"
     ]
    },
    {
     "data": {
      "application/vnd.jupyter.widget-view+json": {
       "model_id": "fbbd2ef65b18441692eb5eee09a87956",
       "version_major": 2,
       "version_minor": 0
      },
      "text/plain": [
       "Accordion(children=(Output(),), selected_index=0, titles=('Job STATUS   (5ab6d491-0942-4717-807f-1fa0256179b9-…"
      ]
     },
     "metadata": {},
     "output_type": "display_data"
    },
    {
     "data": {
      "application/vnd.jupyter.widget-view+json": {
       "model_id": "8ef0ae77287745beada946201a8c8f48",
       "version_major": 2,
       "version_minor": 0
      },
      "text/plain": [
       "Accordion(children=(Output(),), selected_index=0, titles=('Job Metadata   (5ab6d491-0942-4717-807f-1fa0256179b…"
      ]
     },
     "metadata": {},
     "output_type": "display_data"
    },
    {
     "data": {
      "application/vnd.jupyter.widget-view+json": {
       "model_id": "4bfc6843acd44e6ebeef488df51dfe0d",
       "version_major": 2,
       "version_minor": 0
      },
      "text/plain": [
       "Accordion(children=(Output(),), selected_index=0, titles=('Job History Data   (5ab6d491-0942-4717-807f-1fa0256…"
      ]
     },
     "metadata": {},
     "output_type": "display_data"
    },
    {
     "data": {
      "application/vnd.jupyter.widget-view+json": {
       "model_id": "2ad37f3dc3d14f90ba55bff6459c123e",
       "version_major": 2,
       "version_minor": 0
      },
      "text/plain": [
       "Accordion(children=(Output(),), selected_index=0, titles=('Job Filedata   (5ab6d491-0942-4717-807f-1fa0256179b…"
      ]
     },
     "metadata": {},
     "output_type": "display_data"
    }
   ],
   "source": [
    "# initalize\n",
    "tapisInput = tapisInputAll.copy()\n",
    "\n",
    "tapisInput['storage_system'] = 'Work'  # ########################## unique\n",
    "\n",
    "tapisInput[\"name\"] = tapisInput[\"name\"] + '_' + tapisInput['storage_system']\n",
    "\n",
    "# Work is user- and system-dependent\n",
    "if tapisInput['storage_system']=='Work': # ########################## unique\n",
    "    tapisInput['storage_system_baseURL'] = 'tapis://cloud.data/work/05072/silvia/stampede3' # ########################## unique\n",
    "\n",
    "tapisInput['input_folder'] = 'BasicExamples'  # ########################## unique\n",
    "tapisInput['input_filename'] = 'Ex1a.Canti2D.Push.tcl' # ########################## unique\n",
    "\n",
    "# -----------------------------------------------------\n",
    "jobReturns = OpsUtils.run_tapis_job(t,tapisInput,get_job_metadata=True,get_job_history=True,get_job_filedata=True,askConfirmJob = False,askConfirmMonitorRT = False)\n",
    "# -----------------------------------------------------"
   ]
  },
  {
   "cell_type": "markdown",
   "metadata": {},
   "source": [
    "### MyProjects\n",
    "This job is in the **MyProjects** Storage System"
   ]
  },
  {
   "cell_type": "code",
   "execution_count": 12,
   "metadata": {},
   "outputs": [
    {
     "name": "stdout",
     "output_type": "stream",
     "text": [
      "All Input is Complete\n",
      "Submitting Job\n",
      "Job submitted! ID: c7a26adf-f840-495c-8a38-6709275d84dd-007\n",
      "job_start_time: 1755189027.094205\n",
      "\n",
      "Real-Time Job-Status Updates...\n",
      "--------------------\n",
      "\t Elapsed job time: 1.05 sec\t Current Status: PENDING\n",
      "\t Elapsed job time: 2.1 sec\t Current Status: STAGING_INPUTS\t\t(PENDING took 1.06 sec)\n",
      "\t Elapsed job time: 27.79 sec\t Current Status: STAGING_JOB\t\t(STAGING_INPUTS took 25.69 sec)\n",
      "\t Elapsed job time: 45.27 sec\t Current Status: RUNNING\t\t(STAGING_JOB took 17.48 sec)\n",
      "\t Elapsed job time: 47.33 sec\t Current Status: ARCHIVING\t\t(RUNNING took 2.06 sec)\n",
      "\t Elapsed job time: 63.78 sec\t Current Status: FINISHED\t\t(ARCHIVING took 16.45 sec)\n",
      "\t  Status: FINISHED\t Elapsed job time: 63.78 sec\n",
      "--------------------\n",
      "Elapsed time since Job was submitted: 63.78 sec\n",
      "--------------------\n"
     ]
    },
    {
     "data": {
      "application/vnd.jupyter.widget-view+json": {
       "model_id": "11999dea74d7433ab48e99c942bb94dd",
       "version_major": 2,
       "version_minor": 0
      },
      "text/plain": [
       "Accordion(children=(Output(),), selected_index=0, titles=('Job STATUS   (c7a26adf-f840-495c-8a38-6709275d84dd-…"
      ]
     },
     "metadata": {},
     "output_type": "display_data"
    },
    {
     "data": {
      "application/vnd.jupyter.widget-view+json": {
       "model_id": "788529b337d54f7db037f22590223fd4",
       "version_major": 2,
       "version_minor": 0
      },
      "text/plain": [
       "Accordion(children=(Output(),), selected_index=0, titles=('Job Metadata   (c7a26adf-f840-495c-8a38-6709275d84d…"
      ]
     },
     "metadata": {},
     "output_type": "display_data"
    },
    {
     "data": {
      "application/vnd.jupyter.widget-view+json": {
       "model_id": "e10cdf2fd1524b3aa419c899a02d67b9",
       "version_major": 2,
       "version_minor": 0
      },
      "text/plain": [
       "Accordion(children=(Output(),), selected_index=0, titles=('Job History Data   (c7a26adf-f840-495c-8a38-6709275…"
      ]
     },
     "metadata": {},
     "output_type": "display_data"
    },
    {
     "data": {
      "application/vnd.jupyter.widget-view+json": {
       "model_id": "3a35d0fd2a5b488e93cc14d9454fc77f",
       "version_major": 2,
       "version_minor": 0
      },
      "text/plain": [
       "Accordion(children=(Output(),), selected_index=0, titles=('Job Filedata   (c7a26adf-f840-495c-8a38-6709275d84d…"
      ]
     },
     "metadata": {},
     "output_type": "display_data"
    }
   ],
   "source": [
    "# initalize\n",
    "tapisInput = tapisInputAll.copy()\n",
    "\n",
    "tapisInput['storage_system'] = 'MyProjects' # ########################## unique\n",
    "\n",
    "tapisInput[\"name\"] = tapisInput[\"name\"] + '_' + tapisInput['storage_system']\n",
    "\n",
    "# The following are project-dependent\n",
    "#  This value needs to be updated for each project\n",
    "if tapisInput['storage_system']=='MyProjects': # ########################## unique\n",
    "    tapisInput['storage_system_baseURL'] = 'tapis://project-7997906542076432871-242ac11c-0001-012' # ########################## unique\n",
    "\n",
    "tapisInput['input_folder'] = 'OpenSees/TrainingMaterial/training-OpenSees-on-DesignSafe/Examples_OpenSees/BasicExamples'  # ########################## unique\n",
    "tapisInput['input_filename'] = 'Ex1a.Canti2D.Push.tcl'  # ########################## unique\n",
    "\n",
    "# -----------------------------------------------------\n",
    "jobReturns = OpsUtils.run_tapis_job(t,tapisInput,get_job_metadata=True,get_job_history=True,get_job_filedata=True,askConfirmJob = False,askConfirmMonitorRT = False)\n",
    "# -----------------------------------------------------"
   ]
  },
  {
   "cell_type": "code",
   "execution_count": 13,
   "metadata": {},
   "outputs": [
    {
     "name": "stdout",
     "output_type": "stream",
     "text": [
      "done!\n"
     ]
    }
   ],
   "source": [
    "print('done!')"
   ]
  }
 ],
 "metadata": {
  "IMAGE_NAME": "taccsciapps/ds-nb-img:base-0.2.3",
  "UUID": "73e0880d-9b87-11ec-9c1c-13579dd95994",
  "celltoolbar": "Raw Cell Format",
  "kernelspec": {
   "display_name": "Python 3 (ipykernel)",
   "language": "python",
   "name": "python3"
  },
  "language_info": {
   "codemirror_mode": {
    "name": "ipython",
    "version": 3
   },
   "file_extension": ".py",
   "mimetype": "text/x-python",
   "name": "python",
   "nbconvert_exporter": "python",
   "pygments_lexer": "ipython3",
   "version": "3.12.11"
  }
 },
 "nbformat": 4,
 "nbformat_minor": 4
}
