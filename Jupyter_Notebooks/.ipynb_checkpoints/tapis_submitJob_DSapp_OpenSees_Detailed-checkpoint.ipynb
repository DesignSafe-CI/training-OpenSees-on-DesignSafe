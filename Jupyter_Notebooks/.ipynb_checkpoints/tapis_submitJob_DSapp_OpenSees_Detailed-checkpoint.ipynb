{
 "cells": [
  {
   "cell_type": "markdown",
   "metadata": {},
   "source": [
    "<a class=\"reference external\" \n",
    "    href=\"https://jupyter.designsafe-ci.org/hub/user-redirect/lab/tree/CommunityData/OpenSees/TrainingMaterial/training-OpenSees-on-DesignSafe/Jupyter_Notebooks/tapis_submitJob_DSapp_OpenSees_Detailed.ipynb\" \n",
    "    target=\"_blank\"\n",
    "    >\n",
    "<img alt=\"Try on DesignSafe\" src=\"https://raw.githubusercontent.com/DesignSafe-Training/pinn/main/DesignSafe-Badge.svg\" /></a>"
   ]
  },
  {
   "cell_type": "markdown",
   "metadata": {},
   "source": [
    "# Run OpenSees -- Detailed 📒\n",
    "***Submit an OpenSees App***\n",
    "\n",
    "by Silvia Mazzoni, DesignSafe, 2025\n",
    "\n",
    "This notebook serves as a template for submitting the following DesignSafe OpenSees Apps:\n",
    "* openSees-express\n",
    "* openSees-mp-s3\n",
    "* opensees-sp-s3\n",
    "\n",
    "**We are using previously-defined python function to streamline the process.**"
   ]
  },
  {
   "cell_type": "code",
   "execution_count": 1,
   "metadata": {
    "tags": [
     "remove-input"
    ]
   },
   "outputs": [
    {
     "name": "stdout",
     "output_type": "stream",
     "text": [
      "Using local utilities library\n"
     ]
    }
   ],
   "source": [
    "# Local Utilities Library\n",
    "# you can remove the logic associated with the local path\n",
    "import sys,os\n",
    "relativePath = '../OpsUtils'\n",
    "if os.path.exists(relativePath):\n",
    "    print(\"Using local utilities library\")\n",
    "    PathOpsUtils = os.path.expanduser(relativePath)\n",
    "else:\n",
    "    PathOpsUtils = os.path.expanduser('~/CommunityData/OpenSees/TrainingMaterial/training-OpenSees-on-DesignSafe/OpsUtils')\n",
    "if not PathOpsUtils in sys.path: sys.path.append(PathOpsUtils)\n",
    "from OpsUtils import OpsUtils"
   ]
  },
  {
   "cell_type": "markdown",
   "metadata": {},
   "source": [
    "## Connect to Tapis"
   ]
  },
  {
   "cell_type": "code",
   "execution_count": 2,
   "metadata": {},
   "outputs": [
    {
     "name": "stdout",
     "output_type": "stream",
     "text": [
      " -- Checking Tapis token --\n",
      " Token file found but token is missing/expired.\n",
      " Token expired at: 2025-08-20T22:46:16+00:00\n",
      "-- Connect to Tapis --\n"
     ]
    },
    {
     "name": "stdin",
     "output_type": "stream",
     "text": [
      "Username:  ········\n",
      "Password:  ········\n"
     ]
    },
    {
     "name": "stdout",
     "output_type": "stream",
     "text": [
      " Token saved to /home/jupyter/.tapis_tokens.json\n",
      " Token expires at: 2025-08-21T02:49:32+00:00\n",
      " Token expires in: 4:00:18.899551\n",
      "-- LOG IN SUCCESSFUL! --\n"
     ]
    }
   ],
   "source": [
    "t=OpsUtils.connect_tapis()"
   ]
  },
  {
   "cell_type": "code",
   "execution_count": 3,
   "metadata": {},
   "outputs": [
    {
     "name": "stdout",
     "output_type": "stream",
     "text": [
      "QUEUE INFO\n"
     ]
    },
    {
     "data": {
      "text/html": [
       "<div>\n",
       "<style scoped>\n",
       "    .dataframe tbody tr th:only-of-type {\n",
       "        vertical-align: middle;\n",
       "    }\n",
       "\n",
       "    .dataframe tbody tr th {\n",
       "        vertical-align: top;\n",
       "    }\n",
       "\n",
       "    .dataframe thead th {\n",
       "        text-align: right;\n",
       "    }\n",
       "</style>\n",
       "<table border=\"1\" class=\"dataframe\">\n",
       "  <thead>\n",
       "    <tr style=\"text-align: right;\">\n",
       "      <th>name</th>\n",
       "      <th>icx</th>\n",
       "      <th>skx</th>\n",
       "      <th>skx-dev</th>\n",
       "      <th>pvc</th>\n",
       "      <th>spr</th>\n",
       "      <th>nvdimm</th>\n",
       "      <th>h100</th>\n",
       "    </tr>\n",
       "  </thead>\n",
       "  <tbody>\n",
       "    <tr>\n",
       "      <th>hpcQueueName</th>\n",
       "      <td>icx</td>\n",
       "      <td>skx</td>\n",
       "      <td>skx-dev</td>\n",
       "      <td>pvc</td>\n",
       "      <td>spr</td>\n",
       "      <td>nvdimm</td>\n",
       "      <td>h100</td>\n",
       "    </tr>\n",
       "    <tr>\n",
       "      <th>maxJobs</th>\n",
       "      <td>-1</td>\n",
       "      <td>-1</td>\n",
       "      <td>-1</td>\n",
       "      <td>-1</td>\n",
       "      <td>-1</td>\n",
       "      <td>-1</td>\n",
       "      <td>-1</td>\n",
       "    </tr>\n",
       "    <tr>\n",
       "      <th>maxJobsPerUser</th>\n",
       "      <td>20</td>\n",
       "      <td>60</td>\n",
       "      <td>3</td>\n",
       "      <td>4</td>\n",
       "      <td>36</td>\n",
       "      <td>3</td>\n",
       "      <td>4</td>\n",
       "    </tr>\n",
       "    <tr>\n",
       "      <th>minNodeCount</th>\n",
       "      <td>1</td>\n",
       "      <td>1</td>\n",
       "      <td>1</td>\n",
       "      <td>1</td>\n",
       "      <td>1</td>\n",
       "      <td>1</td>\n",
       "      <td>1</td>\n",
       "    </tr>\n",
       "    <tr>\n",
       "      <th>maxNodeCount</th>\n",
       "      <td>32</td>\n",
       "      <td>256</td>\n",
       "      <td>16</td>\n",
       "      <td>4</td>\n",
       "      <td>32</td>\n",
       "      <td>1</td>\n",
       "      <td>4</td>\n",
       "    </tr>\n",
       "    <tr>\n",
       "      <th>minCoresPerNode</th>\n",
       "      <td>1</td>\n",
       "      <td>1</td>\n",
       "      <td>1</td>\n",
       "      <td>1</td>\n",
       "      <td>1</td>\n",
       "      <td>1</td>\n",
       "      <td>1</td>\n",
       "    </tr>\n",
       "    <tr>\n",
       "      <th>maxCoresPerNode</th>\n",
       "      <td>80</td>\n",
       "      <td>48</td>\n",
       "      <td>48</td>\n",
       "      <td>96</td>\n",
       "      <td>112</td>\n",
       "      <td>80</td>\n",
       "      <td>96</td>\n",
       "    </tr>\n",
       "    <tr>\n",
       "      <th>minMemoryMB</th>\n",
       "      <td>1</td>\n",
       "      <td>1</td>\n",
       "      <td>1</td>\n",
       "      <td>1</td>\n",
       "      <td>1</td>\n",
       "      <td>1</td>\n",
       "      <td>1</td>\n",
       "    </tr>\n",
       "    <tr>\n",
       "      <th>maxMemoryMB</th>\n",
       "      <td>256000</td>\n",
       "      <td>192000</td>\n",
       "      <td>192000</td>\n",
       "      <td>128000</td>\n",
       "      <td>128000</td>\n",
       "      <td>4000000</td>\n",
       "      <td>1000000</td>\n",
       "    </tr>\n",
       "    <tr>\n",
       "      <th>minMinutes</th>\n",
       "      <td>1</td>\n",
       "      <td>1</td>\n",
       "      <td>1</td>\n",
       "      <td>1</td>\n",
       "      <td>1</td>\n",
       "      <td>1</td>\n",
       "      <td>1</td>\n",
       "    </tr>\n",
       "    <tr>\n",
       "      <th>maxMinutes</th>\n",
       "      <td>2880</td>\n",
       "      <td>2880</td>\n",
       "      <td>120</td>\n",
       "      <td>2880</td>\n",
       "      <td>2880</td>\n",
       "      <td>2880</td>\n",
       "      <td>2880</td>\n",
       "    </tr>\n",
       "  </tbody>\n",
       "</table>\n",
       "</div>"
      ],
      "text/plain": [
       "name                icx     skx  skx-dev     pvc     spr   nvdimm     h100\n",
       "hpcQueueName        icx     skx  skx-dev     pvc     spr   nvdimm     h100\n",
       "maxJobs              -1      -1       -1      -1      -1       -1       -1\n",
       "maxJobsPerUser       20      60        3       4      36        3        4\n",
       "minNodeCount          1       1        1       1       1        1        1\n",
       "maxNodeCount         32     256       16       4      32        1        4\n",
       "minCoresPerNode       1       1        1       1       1        1        1\n",
       "maxCoresPerNode      80      48       48      96     112       80       96\n",
       "minMemoryMB           1       1        1       1       1        1        1\n",
       "maxMemoryMB      256000  192000   192000  128000  128000  4000000  1000000\n",
       "minMinutes            1       1        1       1       1        1        1\n",
       "maxMinutes         2880    2880      120    2880    2880     2880     2880"
      ]
     },
     "metadata": {},
     "output_type": "display_data"
    }
   ],
   "source": [
    "print('QUEUE INFO')\n",
    "OpsUtils.get_system_queues(t,system_id=\"stampede3\",display=True);"
   ]
  },
  {
   "cell_type": "markdown",
   "metadata": {},
   "source": [
    "---\n",
    "## App User Input"
   ]
  },
  {
   "cell_type": "markdown",
   "metadata": {},
   "source": [
    "### Initialize"
   ]
  },
  {
   "cell_type": "code",
   "execution_count": 4,
   "metadata": {},
   "outputs": [],
   "source": [
    "# initalize\n",
    "tapisInput = {}\n",
    "tapisInput[\"name\"] = 'OpsTrain_JobSubmit_OpenSees'"
   ]
  },
  {
   "cell_type": "markdown",
   "metadata": {},
   "source": [
    "### App Parameters"
   ]
  },
  {
   "cell_type": "code",
   "execution_count": 5,
   "metadata": {},
   "outputs": [],
   "source": [
    "tapisInput[\"appId\"] = \"opensees-mp-s3\" # options: \"opensees-express\", \"opensees-mp-s3\", \"opensees-2p-s3\"\n",
    "tapisInput[\"appVersion\"] = \"latest\" # always use latest in this Notebook Template"
   ]
  },
  {
   "cell_type": "markdown",
   "metadata": {},
   "source": [
    "### TACC-Job Parameters\n",
    "https://docs.tacc.utexas.edu/hpc/stampede3/"
   ]
  },
  {
   "cell_type": "code",
   "execution_count": 6,
   "metadata": {},
   "outputs": [],
   "source": [
    "tapisInput[\"maxMinutes\"] = 6\n",
    "\n",
    "# OpenSees-mp-s3 and OpenSees-xp-s3 only:\n",
    "if tapisInput[\"appId\"] in [\"opensees-mp-s3\",\"opensees-sp-s3\"]:\n",
    "    tapisInput[\"execSystemId\"] = \"stampede3\" # the app runs on stampede only\n",
    "    tapisInput[\"execSystemLogicalQueue\"] = \"skx-dev\" # \"skx\", \"skx-dev\"... for info: use the command 'OpsUtils.get_system_queues(t,system_id=\"stampede3\",display=True);'\n",
    "    tapisInput[\"nodeCount\"] = 1 # limits set by which compute nodes you use\n",
    "    tapisInput[\"coresPerNode\"] = 48 # limits set by which compute nodes you use\n",
    "    tapisInput[\"allocation\"] = \"DS-HPC1\"\n"
   ]
  },
  {
   "cell_type": "markdown",
   "metadata": {},
   "source": [
    "---\n",
    "###  INPUT Files Parameters"
   ]
  },
  {
   "cell_type": "markdown",
   "metadata": {},
   "source": [
    "#### Storage SystemTapis & Tapis Base Path\n",
    "this is the very first part of your path, just above your home folder.\n",
    "\n",
    "Options: \n",
    "* **MyData**\n",
    "* **CommunityData**\n",
    "* **Published**\n",
    "\n",
    "The following options are user or project-dependent, and require unique path input.\n",
    "You can obtain the dependent path by performing the first step of submitting an OpenSeesMP job at the app portal: https://www.designsafe-ci.org/workspace/opensees-mp-s3\n",
    "\n",
    "The following option requires additional **user-dependent** input:\n",
    "* **Work**\n",
    "\n",
    "The following option requires additional **project-dependent** input:\n",
    "* **MyProjects**"
   ]
  },
  {
   "cell_type": "code",
   "execution_count": 7,
   "metadata": {},
   "outputs": [],
   "source": [
    "tapisInput['storage_system'] = 'MyData' # options: CommunityData,MyData,Published, MyProjects,Work"
   ]
  },
  {
   "cell_type": "markdown",
   "metadata": {},
   "source": [
    "#### File Paths\n",
    "The **input_folder**  is the directory of your input file.\n",
    "* **DO NOT INCLUDE** the storage system, such as MyData, etc. \n",
    "* Start from the first folder within your storage-system folder.\n",
    "\n",
    "The **Main Script** is the full name of the file that will be submitted to OpenSees. Yes you need to include the extension."
   ]
  },
  {
   "cell_type": "code",
   "execution_count": 8,
   "metadata": {},
   "outputs": [],
   "source": [
    "tapisInput['input_folder'] = '_ToCommunityData/OpenSees/TrainingMaterial/training-OpenSees-on-DesignSafe/Examples_OpenSees/BasicExamples'\n",
    "tapisInput['Main Script'] = 'Ex1a_verymany.Canti2D.Push.mp.tcl'"
   ]
  },
  {
   "cell_type": "markdown",
   "metadata": {},
   "source": [
    "#### If your input files are in **user-specific** (*Work*) or **project-specific** (*MyProjects*) storage systems "
   ]
  },
  {
   "cell_type": "code",
   "execution_count": 9,
   "metadata": {},
   "outputs": [],
   "source": [
    "# Work is user- and system-dependent\n",
    "if tapisInput['storage_system']=='Work':\n",
    "    tapisInput['storage_system_baseURL'] = 'tapis://cloud.data/work/05072/silvia/stampede3'\n",
    "\n",
    "# The following are project-dependent\n",
    "#  This value needs to be updated for each project\n",
    "if tapisInput['storage_system']=='MyProjects':\n",
    "    tapisInput['storage_system_baseURL'] = 'tapis://project-7997906542076432871-242ac11c-0001-012'"
   ]
  },
  {
   "cell_type": "markdown",
   "metadata": {},
   "source": [
    "---\n",
    "### OUTPUT-Files Parameters\n",
    "Where would you like your files to be archived once the job is finished?\n",
    "\n",
    "Options: **MyData** and **Work** \n",
    "\n",
    "In both cases you will find them in the **tapis-jobs-archive** folder in either MyData or Work/stampede3. \n",
    "\n",
    "Remember, you cannot write to Projects nor CommunityData."
   ]
  },
  {
   "cell_type": "code",
   "execution_count": 10,
   "metadata": {},
   "outputs": [],
   "source": [
    "tapisInput['archive_system']='Work' # Options: MyData or Work"
   ]
  },
  {
   "cell_type": "markdown",
   "metadata": {},
   "source": [
    "---\n",
    "### Review User Input"
   ]
  },
  {
   "cell_type": "code",
   "execution_count": 11,
   "metadata": {},
   "outputs": [
    {
     "data": {
      "text/plain": [
       "{'name': 'OpsTrain_JobSubmit_OpenSees',\n",
       " 'appId': 'opensees-mp-s3',\n",
       " 'appVersion': 'latest',\n",
       " 'maxMinutes': 6,\n",
       " 'execSystemId': 'stampede3',\n",
       " 'execSystemLogicalQueue': 'skx-dev',\n",
       " 'nodeCount': 1,\n",
       " 'coresPerNode': 48,\n",
       " 'allocation': 'DS-HPC1',\n",
       " 'storage_system': 'MyData',\n",
       " 'input_folder': '_ToCommunityData/OpenSees/TrainingMaterial/training-OpenSees-on-DesignSafe/Examples_OpenSees/BasicExamples',\n",
       " 'Main Script': 'Ex1a_verymany.Canti2D.Push.mp.tcl',\n",
       " 'archive_system': 'Work'}"
      ]
     },
     "metadata": {},
     "output_type": "display_data"
    }
   ],
   "source": [
    "display(tapisInput)"
   ]
  },
  {
   "cell_type": "markdown",
   "metadata": {},
   "source": [
    "#### Get interpreted Tapis-App Input (Optional)\n",
    "this is what will be sent as input (just informational here, and good to check input)"
   ]
  },
  {
   "cell_type": "code",
   "execution_count": 12,
   "metadata": {
    "tags": [
     "remove-input"
    ]
   },
   "outputs": [
    {
     "data": {
      "text/html": [
       "\n",
       "                      <details style=\"margin-top:1em; font-family:monospace; background:white; \n",
       "                          padding:0.25em; border-radius:6px; border:1px solid #ccc;\">\n",
       "                        <summary style=\"cursor:pointer; font-weight:bold; background:white; \n",
       "                          padding:0.3em 0.5em; border-radius:4px;\">get_tapis_job_description.py</summary>\n",
       "\n",
       "                        <button onclick=\"navigator.clipboard.writeText(document.getElementById('c403a861a29b40a9acef50a2062708e4').innerText)\">\n",
       "                          📋 Copy\n",
       "                        </button>\n",
       "                        <pre id=\"c403a861a29b40a9acef50a2062708e4\" style=\"white-space:pre-wrap; margin:0.25em 0 0 0; \n",
       "                            background:#d4fbff; padding:.3em; border-radius:5px;\">\n",
       "<b># ../OpsUtils/OpsUtils/Tapis/get_tapis_job_description.py</b>\n",
       "def get_tapis_job_description(t, tapisInput):\n",
       "    \"\"\"\n",
       "    Build a complete Tapis v3 job description dict from user-friendly inputs.\n",
       "\n",
       "    This function:\n",
       "      1) Resolves the Files base URL for inputs from `tapisInput[\"storage_system\"]`\n",
       "         (supports MyData/community/published; can be overridden via\n",
       "         `tapisInput[\"storage_system_baseURL\"]`).\n",
       "      2) Ensures a concrete application version:\n",
       "         - If `appVersion` is missing or equals \"latest\", it resolves a pinned\n",
       "           version via `OpsUtils.get_latest_app_version(t, <appId>)`.\n",
       "      3) Validates required fields (set differs for OpenSees-Express vs. HPC apps).\n",
       "      4) Constructs job attributes, fileInputs, parameterSet, and archive settings.\n",
       "\n",
       "    Auto baseURL selection\n",
       "    ----------------------\n",
       "    If `storage_system_baseURL` is not provided:\n",
       "      - If `storage_system` contains \"mydata\": uses\n",
       "        `tapis://designsafe.storage.default/<username>` where `<username>` is taken\n",
       "        from `t.authenticator.get_userinfo().username`.\n",
       "      - If `storage_system` contains \"community\": uses\n",
       "        `tapis://designsafe.storage.community`\n",
       "      - If `storage_system` contains \"published\": uses\n",
       "        `tapis://designsafe.storage.published`\n",
       "      - Else: prints a message and returns -1.\n",
       "\n",
       "    App families and required keys\n",
       "    ------------------------------\n",
       "    *OpenSees-Express* (`appId == \"opensees-express\"`)\n",
       "      Required: ['name','appId','appVersion','maxMinutes','archive_system',\n",
       "                 'storage_system','input_folder','Main Script']\n",
       "      - Sets `parameterSet.envVariables` with:\n",
       "          mainProgram = OpenSees\n",
       "          tclScript   = <Main Script>\n",
       "      - `fileInputs = [{\"name\": \"Input Directory\", \"sourceUrl\": \"<base>/<input_folder>\"}]`\n",
       "      - Archive options:\n",
       "          archive_system == 'MyData' -> designsafe.storage.default under\n",
       "              ${EffectiveUserId}/tapis-jobs-archive/${JobCreateDate}/${JobUUID}\n",
       "          archive_system == 'Temp'   -> cloud.data:/tmp/${JobOwner}/tapis-jobs-archive/...\n",
       "\n",
       "    *HPC OpenSees apps* (e.g., opensees-mp-s3, opensees-sp-*, etc.)\n",
       "      Required: ['name','appId','appVersion','execSystemId','execSystemLogicalQueue',\n",
       "                 'nodeCount','coresPerNode','maxMinutes','allocation','archive_system',\n",
       "                 'storage_system','input_folder','Main Script']\n",
       "      - Sets base job attributes (system, queue, resources).\n",
       "      - `parameterSet.appArgs = [{\"name\": \"Main Script\", \"arg\": <Main Script>}]`\n",
       "      - `parameterSet.schedulerOptions = [{\"name\": \"TACC Allocation\",\n",
       "                                           \"arg\": f\"-A {allocation}\"}]`\n",
       "      - `fileInputs` as above.\n",
       "      - Archive options:\n",
       "          archive_system == 'MyData' -> designsafe.storage.default under\n",
       "              ${EffectiveUserId}/tapis-jobs-archive/${JobCreateDate}/${JobUUID}\n",
       "          archive_system == 'Work'   -> exec system $WORK/tapis-jobs-archive/...\n",
       "\n",
       "    Returns\n",
       "    -------\n",
       "    dict\n",
       "        A fully formed Tapis job description ready for submission.\n",
       "        Returns -1 if validation fails or baseURL/appVersion cannot be determined.\n",
       "\n",
       "    Side effects\n",
       "    ------------\n",
       "    - Prints a list of missing required keys (if any).\n",
       "    - Prints a short confirmation (\"All Input is Complete\") on success.\n",
       "\n",
       "    Author\n",
       "    ------\n",
       "    Silvia Mazzoni, DesignSafe (silviamazzoni@yahoo.com)\n",
       "\n",
       "    Date\n",
       "    ----\n",
       "    2025-08-16\n",
       "\n",
       "    Version\n",
       "    -------\n",
       "    1.2\n",
       "    \"\"\"\n",
       "    # Silvia Mazzoni, 2025\n",
       "    from OpsUtils import OpsUtils  # for get_latest_app_version\n",
       "\n",
       "    def checkRequirements(tapisInputIN, RequiredInputList):\n",
       "        nmiss = 0\n",
       "        for thisReq in RequiredInputList:\n",
       "            if thisReq not in tapisInputIN:\n",
       "                nmiss += 1\n",
       "                print(f\"YOU need to define the following input: {thisReq}\")\n",
       "        return nmiss\n",
       "\n",
       "    # --- Resolve storage baseURL if needed ---\n",
       "    if \"sourceUrl\" not in tapisInput:\n",
       "        if \"storage_system_baseURL\" not in tapisInput:\n",
       "            storage_system_lower = tapisInput.get(\"storage_system\", \"\").lower()\n",
       "            if \"mydata\" in storage_system_lower:\n",
       "                # Get user information for MyData path\n",
       "                user_info = t.authenticator.get_userinfo()\n",
       "                username = user_info.username\n",
       "                tapisInput[\"storage_system_baseURL\"] = f\"tapis://designsafe.storage.default/{username}\"\n",
       "            elif \"community\" in storage_system_lower:\n",
       "                tapisInput[\"storage_system_baseURL\"] = \"tapis://designsafe.storage.community\"\n",
       "            elif \"published\" in storage_system_lower:\n",
       "                tapisInput[\"storage_system_baseURL\"] = \"tapis://designsafe.storage.published\"\n",
       "            else:\n",
       "                print(\"Please specify tapisInput['storage_system_baseURL']!\")\n",
       "                return -1\n",
       "    \n",
       "        tapisInput[\"sourceUrl\"] = f\"{tapisInput['storage_system_baseURL']}/{tapisInput['input_folder']}\"\n",
       "        \n",
       "    # # --- Resolve storage baseURL if needed ---\n",
       "    # if \"storage_system_baseURL\" not in tapisInput:\n",
       "    #     storage_system_lower = tapisInput.get(\"storage_system\", \"\").lower()\n",
       "    #     if \"mydata\" in storage_system_lower:\n",
       "    #         # Get user information for MyData path\n",
       "    #         user_info = t.authenticator.get_userinfo()\n",
       "    #         username = user_info.username\n",
       "    #         tapisInput[\"storage_system_baseURL\"] = f\"tapis://designsafe.storage.default/{username}\"\n",
       "    #     elif \"community\" in storage_system_lower:\n",
       "    #         tapisInput[\"storage_system_baseURL\"] = \"tapis://designsafe.storage.community\"\n",
       "    #     elif \"published\" in storage_system_lower:\n",
       "    #         tapisInput[\"storage_system_baseURL\"] = \"tapis://designsafe.storage.published\"\n",
       "    #     else:\n",
       "    #         print(\"Please specify tapisInput['storage_system_baseURL']!\")\n",
       "    #         return -1\n",
       "\n",
       "    # sourceUrl = f\"{tapisInput['storage_system_baseURL']}/{tapisInput['input_folder']}\"\n",
       "\n",
       "    appId = tapisInput[\"appId\"]\n",
       "    # print('appId',appId)\n",
       "\n",
       "    # --- Ensure a concrete appVersion (resolve 'latest' or missing) ---\n",
       "    if (\"appVersion\" not in tapisInput) or (str(tapisInput[\"appVersion\"]).lower() == \"latest\"):\n",
       "        resolved = OpsUtils.get_latest_app_version(t, appId)\n",
       "        if not resolved or resolved in (\"none\", \"\"):\n",
       "            print(f\"Unable to resolve latest version for appId='{appId}'. Please specify appVersion.\")\n",
       "            return -1\n",
       "        tapisInput[\"appVersion\"] = resolved\n",
       "        \n",
       "\n",
       "\n",
       "    # --- Get App Schema ---\n",
       "    appMetaData = t.apps.getAppLatestVersion(appId=appId)\n",
       "    app_MetaData = appMetaData.__dict__\n",
       "    app_jobAttributes = app_MetaData['jobAttributes'].__dict__\n",
       "    app_parameterSet = app_jobAttributes['parameterSet'].__dict__\n",
       "    inputKeys_App = ['id','version']\n",
       "    inputKeys_jobAttributes = ['execSystemId', 'execSystemLogicalQueue', 'archiveSystemId', 'archiveSystemDir', 'nodeCount', 'coresPerNode', 'memoryMB', 'maxMinutes']    \n",
       "    \n",
       "    # appInputs={}\n",
       "    # appInputs['appArgs'] = app_parameterSet['appArgs']\n",
       "    # appInputs['envVariables'] = app_parameterSet['envVariables']\n",
       "    # appInputs['fileInputs'] = app_jobAttributes['fileInputs']\n",
       "    # appInputsPath={}\n",
       "    # appInputsPath['appArgs'] = \"app['jobAttributes']['parameterSet']\"\n",
       "    # appInputsPath['envVariables'] = \"app['jobAttributes']['parameterSet']\"\n",
       "    # appInputsPath['fileInputs'] = \"app['jobAttributes']\"\n",
       "    # for app_key,app_Dict_List in appInputs.items():\n",
       "    #     print(f' ++ {app_key} ++')\n",
       "    #     # app_Dict_List = app_parameterSet[app_key]\n",
       "    #     for app_Dict in app_Dict_List:\n",
       "    #         app_Dict = app_Dict.__dict__\n",
       "    #         app_Dict_keys = list(app_Dict.keys())\n",
       "    #         myKeyList = ['name','description','arg']\n",
       "    #         for thisKey in myKeyList:\n",
       "    #             if thisKey in app_Dict_keys:\n",
       "    #                 app_Dict_keys.remove(thisKey)\n",
       "    #             else:\n",
       "    #                 myKeyList.remove(thisKey)\n",
       "    #         thisKeyList = [*myKeyList,*app_Dict_keys]\n",
       "    #         for thisKey in thisKeyList:\n",
       "    #             thisVal = app_Dict[thisKey]\n",
       "    #             print(f'{thisKey}: {thisVal}')\n",
       "    #         print('--')\n",
       "\n",
       "    \n",
       "    # --- Defaults & branching ---\n",
       "    # If Express, default the exec system to the Express VM unless provided\n",
       "    if appId == \"opensees-express\" and \"execSystemId\" not in tapisInput:\n",
       "        tapisInput[\"execSystemId\"] = \"wma-exec-01\"\n",
       "    if \"execSystemId\" not in tapisInput:\n",
       "        tapisInput[\"execSystemId\"] = \"stampede3\"\n",
       "\n",
       "    job_description = {}\n",
       "    nmiss = 999\n",
       "\n",
       "    # Express (runs on wma-exec-01)\n",
       "    if appId == \"opensees-express\":\n",
       "        RequiredInputList = [\n",
       "            \"name\", \"appId\", \"maxMinutes\", \"archive_system\",\n",
       "            \"storage_system\", \"input_folder\", \"Main Script\"\n",
       "        ]\n",
       "        nmiss = checkRequirements(tapisInput, RequiredInputList)\n",
       "        if nmiss == 0:\n",
       "            parameterSet = {}\n",
       "            job_description[\"name\"] = tapisInput[\"name\"]\n",
       "            job_description[\"maxMinutes\"] = tapisInput[\"maxMinutes\"]\n",
       "            job_description[\"appId\"] = tapisInput[\"appId\"]\n",
       "            if 'appVersion' in tapisInput.keys():\n",
       "                job_description[\"appVersion\"] = tapisInput[\"appVersion\"]\n",
       "            fileInputs = [{\"name\": \"Input Directory\", \"sourceUrl\": tapisInput[\"sourceUrl\"]}]; # keep as is!\n",
       "            if not 'Main Program' in tapisInput.keys():\n",
       "                tapisInput[\"Main Program\"] = 'OpenSees'\n",
       "            parameterSet[\"envVariables\"] = [\n",
       "                {\"key\": \"mainProgram\", \"value\": tapisInput[\"Main Program\"]},\n",
       "                {\"key\": \"tclScript\", \"value\": tapisInput[\"Main Script\"]},\n",
       "            ]\n",
       "            job_description[\"fileInputs\"] = fileInputs\n",
       "            job_description[\"parameterSet\"] = parameterSet\n",
       "\n",
       "            # Archive location\n",
       "            if \"archive_system\" in tapisInput:\n",
       "                if tapisInput[\"archive_system\"] in [\"MyData\"]:\n",
       "                    job_description[\"archiveSystemId\"] = \"designsafe.storage.default\"\n",
       "                    job_description[\"archiveSystemDir\"] = \"${EffectiveUserId}/tapis-jobs-archive/${JobCreateDate}/${JobUUID}\"\n",
       "                elif tapisInput[\"archive_system\"] == \"Temp\":\n",
       "                    job_description[\"archiveSystemId\"] = \"cloud.data\"\n",
       "                    job_description[\"archiveSystemDir\"] = \"/tmp/${JobOwner}/tapis-jobs-archive/${JobCreateDate}/${JobName}-${JobUUID}\"\n",
       "            else:\n",
       "                # default to MyData\n",
       "                job_description[\"archiveSystemId\"] = \"designsafe.storage.default\"\n",
       "                job_description[\"archiveSystemDir\"] = \"${EffectiveUserId}/tapis-jobs-archive/${JobCreateDate}/${JobUUID}\"\n",
       "\n",
       "    else:\n",
       "        # HPC (e.g., OpenSeesMP/SP on Stampede3)\n",
       "\n",
       "        RequiredInputList = [\n",
       "            \"name\",\"appId\",\"execSystemId\",\"execSystemLogicalQueue\",\n",
       "            \"nodeCount\",\"coresPerNode\",\"maxMinutes\",\"allocation\",\"archive_system\",\n",
       "            \"storage_system\",\"input_folder\",\"Main Script\"\n",
       "        ]\n",
       "        nmiss = checkRequirements(tapisInput, RequiredInputList)\n",
       "        if nmiss == 0:\n",
       "            parameterSet = {}\n",
       "            job_description[\"name\"] = tapisInput[\"name\"]\n",
       "            job_description[\"execSystemId\"] = tapisInput[\"execSystemId\"]\n",
       "            job_description[\"execSystemLogicalQueue\"] = tapisInput[\"execSystemLogicalQueue\"]\n",
       "            job_description[\"maxMinutes\"] = tapisInput[\"maxMinutes\"]\n",
       "            job_description[\"nodeCount\"] = tapisInput[\"nodeCount\"]\n",
       "            job_description[\"coresPerNode\"] = tapisInput[\"coresPerNode\"]\n",
       "            job_description[\"appId\"] = tapisInput[\"appId\"]\n",
       "            if 'appVersion' in tapisInput.keys():\n",
       "                job_description[\"appVersion\"] = tapisInput[\"appVersion\"]\n",
       "            fileInputs = [{\"name\": \"Input Directory\", \"sourceUrl\": tapisInput[\"sourceUrl\"]}]\n",
       "            if not 'Main Program' in tapisInput.keys():\n",
       "                tapisInput[\"Main Program\"] = 'OpenSeesMP'\n",
       "            if not 'CommandLine Arguments' in tapisInput:\n",
       "                tapisInput[\"CommandLine Arguments\"] = ''\n",
       "            # parameterSet[\"appArgs\"] = [{\"name\": \"Main Program\", \"arg\": tapisInput[\"Main Program\"]},\n",
       "            #                            {\"name\": \"Main Script\", \"arg\": tapisInput[\"Main Script\"]},\n",
       "            #                            {\"name\": \"CommandLine Arguments\", \"arg\": tapisInput[\"CommandLine Arguments\"]}\n",
       "            #                           ]\n",
       "            parameterSet[\"appArgs\"] = []\n",
       "            for app_Dict in app_parameterSet['appArgs']:\n",
       "                app_Dict = app_Dict.__dict__\n",
       "                here_name = app_Dict['name']\n",
       "                here_dict = {\"name\":here_name,\"arg\":app_Dict['arg']}\n",
       "                if 'notes' in app_Dict:\n",
       "                    app_Dict_notes = app_Dict['notes'].__dict__\n",
       "                    if 'isHidden' in app_Dict_notes and app_Dict_notes['isHidden']==True:\n",
       "                        continue\n",
       "                if here_name in tapisInput:\n",
       "                    here_dict[\"arg\"] = tapisInput[here_name]\n",
       "                parameterSet[\"appArgs\"].append(here_dict)\n",
       "            parameterSet[\"envVariables\"] = []\n",
       "            for app_Dict in app_parameterSet['envVariables']:\n",
       "                app_Dict = app_Dict.__dict__\n",
       "                here_name = app_Dict['key']\n",
       "                here_dict = {\"key\":here_name,\"value\":app_Dict['value']}\n",
       "                if 'notes' in app_Dict:\n",
       "                    app_Dict_notes = app_Dict['notes'].__dict__\n",
       "                    if 'isHidden' in app_Dict_notes and app_Dict_notes['isHidden']==True:\n",
       "                        continue\n",
       "                if here_name in tapisInput:\n",
       "                    here_dict[\"value\"] = tapisInput[here_name]\n",
       "                parameterSet[\"envVariables\"].append(here_dict)\n",
       "    \n",
       "\n",
       "            \n",
       "            \n",
       "            parameterSet[\"schedulerOptions\"] = [{\"name\": \"TACC Allocation\", \"arg\": f\"-A {tapisInput['allocation']}\"}]\n",
       "            job_description[\"fileInputs\"] = fileInputs\n",
       "            job_description[\"parameterSet\"] = parameterSet\n",
       "\n",
       "            # # Archive location\n",
       "            # if \"archive_system\" in tapisInput:\n",
       "            #     if tapisInput[\"archive_system\"] == \"MyData\":\n",
       "            #         job_description[\"archiveSystemId\"] = \"designsafe.storage.default\"\n",
       "            #         job_description[\"archiveSystemDir\"] = \"${EffectiveUserId}/tapis-jobs-archive/${JobCreateDate}/${JobUUID}\"\n",
       "            #     elif tapisInput[\"archive_system\"] == \"Work\":\n",
       "            #         job_description[\"archiveSystemId\"] = tapisInput[\"execSystemId\"]\n",
       "            #         job_description[\"archiveSystemDir\"] = \"HOST_EVAL($WORK)/tapis-jobs-archive/${JobCreateDate}/${JobName}-${JobUUID}\"\n",
       "\n",
       "    if nmiss == 0:\n",
       "        # Archive location\n",
       "        if \"archive_system\" in tapisInput:\n",
       "            if tapisInput[\"archive_system\"] == \"MyData\":\n",
       "                job_description[\"archiveSystemId\"] = \"designsafe.storage.default\"\n",
       "                job_description[\"archiveSystemDir\"] = \"${EffectiveUserId}/tapis-jobs-archive/${JobCreateDate}/${JobUUID}\"\n",
       "            elif tapisInput[\"archive_system\"] == \"Work\" and tapisInput[\"execSystemId\"] != \"wma-exec-01\":\n",
       "                job_description[\"archiveSystemId\"] = tapisInput[\"execSystemId\"]\n",
       "                job_description[\"archiveSystemDir\"] = \"HOST_EVAL($WORK)/tapis-jobs-archive/${JobCreateDate}/${JobName}-${JobUUID}\"\n",
       "            else:\n",
       "                job_description[\"archiveSystemId\"] = \"designsafe.storage.default\"\n",
       "                job_description[\"archiveSystemDir\"] = \"${EffectiveUserId}/tapis-jobs-archive/${JobCreateDate}/${JobUUID}\"\n",
       "\n",
       "        else:\n",
       "            job_description[\"archiveSystemId\"] = \"designsafe.storage.default\"\n",
       "            job_description[\"archiveSystemDir\"] = \"${EffectiveUserId}/tapis-jobs-archive/${JobCreateDate}/${JobUUID}\"\n",
       "\n",
       "    if nmiss == 0:\n",
       "        for envVar in ['zipFileIn','zipFolderOut']:\n",
       "            if envVar in tapisInput:\n",
       "                job_description[\"parameterSet\"]['envVariables'].append({\"key\": envVar, \"value\": tapisInput[envVar]})\n",
       "                \n",
       "\n",
       "    # --- Finalize ---\n",
       "    if nmiss > 0:\n",
       "        print(\"Please resubmit with all required input\")\n",
       "        return -1\n",
       "    else:\n",
       "        # print(\"All Input is Complete\")\n",
       "        return job_description\n",
       "</pre>\n",
       "                      </details>\n",
       "                    "
      ],
      "text/plain": [
       "<IPython.core.display.HTML object>"
      ]
     },
     "metadata": {},
     "output_type": "display_data"
    }
   ],
   "source": [
    "OpsUtils.show_text_file_in_accordion(PathOpsUtils,['get_tapis_job_description.py'])"
   ]
  },
  {
   "cell_type": "code",
   "execution_count": 13,
   "metadata": {},
   "outputs": [
    {
     "data": {
      "text/plain": [
       "{'name': 'OpsTrain_JobSubmit_OpenSees',\n",
       " 'execSystemId': 'stampede3',\n",
       " 'execSystemLogicalQueue': 'skx-dev',\n",
       " 'maxMinutes': 6,\n",
       " 'nodeCount': 1,\n",
       " 'coresPerNode': 48,\n",
       " 'appId': 'opensees-mp-s3',\n",
       " 'appVersion': 'latest',\n",
       " 'fileInputs': [{'name': 'Input Directory',\n",
       "   'sourceUrl': 'tapis://designsafe.storage.default/silvia/_ToCommunityData/OpenSees/TrainingMaterial/training-OpenSees-on-DesignSafe/Examples_OpenSees/BasicExamples'}],\n",
       " 'parameterSet': {'appArgs': [{'name': 'Main Script',\n",
       "    'arg': 'Ex1a_verymany.Canti2D.Push.mp.tcl'}],\n",
       "  'envVariables': [],\n",
       "  'schedulerOptions': [{'name': 'TACC Allocation', 'arg': '-A DS-HPC1'}]},\n",
       " 'archiveSystemId': 'stampede3',\n",
       " 'archiveSystemDir': 'HOST_EVAL($WORK)/tapis-jobs-archive/${JobCreateDate}/${JobName}-${JobUUID}'}"
      ]
     },
     "execution_count": 13,
     "metadata": {},
     "output_type": "execute_result"
    }
   ],
   "source": [
    "OpsUtils.get_tapis_job_description(t,tapisInput)"
   ]
  },
  {
   "cell_type": "markdown",
   "metadata": {},
   "source": [
    "### GO!"
   ]
  },
  {
   "cell_type": "code",
   "execution_count": 14,
   "metadata": {
    "tags": [
     "remove-input"
    ]
   },
   "outputs": [
    {
     "data": {
      "text/html": [
       "\n",
       "                      <details style=\"margin-top:1em; font-family:monospace; background:white; \n",
       "                          padding:0.25em; border-radius:6px; border:1px solid #ccc;\">\n",
       "                        <summary style=\"cursor:pointer; font-weight:bold; background:white; \n",
       "                          padding:0.3em 0.5em; border-radius:4px;\">run_tapis_job.py</summary>\n",
       "\n",
       "                        <button onclick=\"navigator.clipboard.writeText(document.getElementById('e7b6704cbc904f118ed245edce39984f').innerText)\">\n",
       "                          📋 Copy\n",
       "                        </button>\n",
       "                        <pre id=\"e7b6704cbc904f118ed245edce39984f\" style=\"white-space:pre-wrap; margin:0.25em 0 0 0; \n",
       "                            background:#d4fbff; padding:.3em; border-radius:5px;\">\n",
       "<b># ../OpsUtils/OpsUtils/Tapis/run_tapis_job.py</b>\n",
       "def run_tapis_job(\n",
       "    t,\n",
       "    tapisInput,\n",
       "    askConfirmJob: bool = True,\n",
       "    monitor_job: bool = True,\n",
       "    askConfirmMonitorRT: bool = True,\n",
       "    get_job_history: bool = False,\n",
       "    get_job_metadata: bool = False,\n",
       "    get_job_filedata: bool = False,\n",
       "    job_description = {}\n",
       "):\n",
       "    \"\"\"\n",
       "    Run a complete Tapis job workflow in one call: build (or accept) a job description,\n",
       "    submit, and optionally monitor + collect results (status/metadata/history/file data).\n",
       "\n",
       "    Workflow\n",
       "    --------\n",
       "    1) If `job_description` is provided (non-empty dict), use it as-is; otherwise,\n",
       "       build one from `tapisInput` via `OpsUtils.get_tapis_job_description`.\n",
       "    2) Submit the job via `OpsUtils.submit_tapis_job` (with optional confirmation).\n",
       "    3) If `monitor_job=True`, call `OpsUtils.monitor_tapis_job` and then:\n",
       "       - Always fetch basic status via `OpsUtils.get_tapis_job_status`.\n",
       "       - If `get_job_metadata=True`, fetch detailed metadata via\n",
       "         `OpsUtils.get_tapis_job_metadata` (this overwrites the basic status dict).\n",
       "       - If `get_job_history=True`, fetch history via `OpsUtils.get_tapis_job_history_data`.\n",
       "       - If `get_job_filedata=True`, fetch output file listings/data via\n",
       "         `OpsUtils.get_tapis_job_all_files`.\n",
       "\n",
       "    Parameters\n",
       "    ----------\n",
       "    t : tapipy.tapis.Tapis\n",
       "        Authenticated Tapis client.\n",
       "    tapisInput : dict\n",
       "        Fields used to construct the job description (e.g., name, appId, inputs) when\n",
       "        `job_description` is not provided.\n",
       "    askConfirmJob : bool, default True\n",
       "        Ask for confirmation before submitting.\n",
       "    monitor_job : bool, default True\n",
       "        Monitor the job in real time after submission. Required for the code paths that\n",
       "        fetch status/metadata/history/file data in this function.\n",
       "    askConfirmMonitorRT : bool, default True\n",
       "        Ask for confirmation before starting real-time monitoring.\n",
       "    get_job_history : bool, default False\n",
       "        If True and `monitor_job=True`, include job history in the return object.\n",
       "    get_job_metadata : bool, default False\n",
       "        If True and `monitor_job=True`, include detailed job metadata in the return object\n",
       "        (overwrites the basic status dict).\n",
       "    get_job_filedata : bool, default False\n",
       "        If True and `monitor_job=True`, include job output file listings/data.\n",
       "    job_description : dict, default {}\n",
       "        Optional pre-built Tapis job description. If provided (non-empty), it takes\n",
       "        precedence over building from `tapisInput`.\n",
       "\n",
       "    Returns\n",
       "    -------\n",
       "    dict\n",
       "        A dictionary seeded from `OpsUtils.submit_tapis_job(...)`, augmented with:\n",
       "          - 'job_description' : dict\n",
       "          - 'JobHistory'      : dict or {}\n",
       "          - 'JobMetadata'     : dict or {}\n",
       "          - 'JobFiledata'     : dict or {}\n",
       "          - 'runJobStatus'    : 'Finished' | 'Incomplete' | other\n",
       "        If `OpsUtils.get_tapis_job_description(...)` fails, returns:\n",
       "          {'runJobStatus': 'Incomplete'}\n",
       "\n",
       "    Notes\n",
       "    -----\n",
       "    - Status/metadata/history/file data are gathered only when `monitor_job=True`.\n",
       "    - If `OpsUtils.submit_tapis_job` yields a status other than 'Finished', the function\n",
       "      returns that object unchanged (except the early 'Incomplete' short-circuit).\n",
       "\n",
       "    Example\n",
       "    -------\n",
       "    result = run_tapis_job(\n",
       "        t, tapisInput,\n",
       "        monitor_job=True,\n",
       "        get_job_history=True,\n",
       "        get_job_metadata=True\n",
       "    )\n",
       "    print(\"Job UUID:\", result.get(\"jobUuid\"))\n",
       "    print(\"Status:\",   result.get(\"JobMetadata\", {}).get(\"status\"))\n",
       "\n",
       "    Author\n",
       "    ------\n",
       "    Silvia Mazzoni, DesignSafe (silviamazzoni@yahoo.com)\n",
       "\n",
       "    Date\n",
       "    ----\n",
       "    2025-08-16\n",
       "\n",
       "    Version\n",
       "    -------\n",
       "    1.1\n",
       "    \"\"\"\n",
       "\n",
       "    from OpsUtils import OpsUtils\n",
       "\n",
       "    if not job_description:\n",
       "        print('Creating job_description')\n",
       "        job_description = OpsUtils.get_tapis_job_description(t, tapisInput)\n",
       "        \n",
       "    if job_description == -1:\n",
       "        return {\"runJobStatus\": \"Incomplete\"}\n",
       "\n",
       "    returnDict = OpsUtils.submit_tapis_job(t, job_description, askConfirmJob)\n",
       "\n",
       "    if returnDict.get(\"runJobStatus\") == \"Finished\":\n",
       "        print(\"job_start_time:\", returnDict.get(\"job_start_time\"))\n",
       "        jobUuid = returnDict.get(\"jobUuid\")\n",
       "\n",
       "        JobHistory = {}\n",
       "        JobMetadata = {}\n",
       "        JobFiledata = {}\n",
       "        JobStatusData = {}\n",
       "\n",
       "        if monitor_job and jobUuid:\n",
       "            OpsUtils.monitor_tapis_job(t, jobUuid, returnDict.get(\"job_start_time\"), askConfirmMonitorRT)\n",
       "\n",
       "            # Always fetch basic status after monitoring\n",
       "            JobStatusData = OpsUtils.get_tapis_job_status(t, jobUuid, tapisInput,return_values=True)\n",
       "\n",
       "            # Optional enrichments\n",
       "            if get_job_metadata:\n",
       "                JobMetadata = OpsUtils.get_tapis_job_metadata(t, jobUuid, tapisInput)\n",
       "            if get_job_history:\n",
       "                JobHistory = OpsUtils.get_tapis_job_history_data(t, jobUuid)\n",
       "            if get_job_filedata:\n",
       "                JobFiledata = OpsUtils.get_tapis_job_all_files(t, jobUuid)\n",
       "\n",
       "        # Augment return object\n",
       "        returnDict[\"job_description\"] = job_description\n",
       "        returnDict[\"JobHistory\"] = JobHistory\n",
       "        returnDict[\"JobMetadata\"] = JobMetadata\n",
       "        returnDict[\"JobFiledata\"] = JobFiledata\n",
       "        returnDict[\"JobStatusData\"] = JobStatusData\n",
       "        returnDict[\"runJobStatus\"] = \"Finished\"\n",
       "\n",
       "    return returnDict\n",
       "</pre>\n",
       "                      </details>\n",
       "                    "
      ],
      "text/plain": [
       "<IPython.core.display.HTML object>"
      ]
     },
     "metadata": {},
     "output_type": "display_data"
    }
   ],
   "source": [
    "OpsUtils.show_text_file_in_accordion(PathOpsUtils,['run_tapis_job.py'])"
   ]
  },
  {
   "cell_type": "code",
   "execution_count": null,
   "metadata": {},
   "outputs": [
    {
     "name": "stdout",
     "output_type": "stream",
     "text": [
      "Creating job_description\n"
     ]
    }
   ],
   "source": [
    "# We have created a function for each task and then combined them into a single function\n",
    "jobReturns = OpsUtils.run_tapis_job(t,tapisInput)"
   ]
  },
  {
   "cell_type": "code",
   "execution_count": null,
   "metadata": {},
   "outputs": [],
   "source": [
    "jobUuid = jobReturns['jobUuid']\n",
    "print('jobUuid:',jobUuid)\n",
    "print('jobReturns',jobReturns.keys())"
   ]
  },
  {
   "cell_type": "markdown",
   "metadata": {},
   "source": [
    "<hr>\n",
    "\n",
    "### ONCE THE JOB HAS COMPLETED....\n",
    "\n",
    "<hr>"
   ]
  },
  {
   "cell_type": "markdown",
   "metadata": {},
   "source": [
    "## Get detailed Job Status, Metadata, History, Stage Durations, and Files List"
   ]
  },
  {
   "cell_type": "code",
   "execution_count": null,
   "metadata": {},
   "outputs": [],
   "source": [
    "JobStatus = OpsUtils.get_tapis_job_status(t, jobUuid)"
   ]
  },
  {
   "cell_type": "code",
   "execution_count": null,
   "metadata": {},
   "outputs": [],
   "source": [
    "JobMetadata = OpsUtils.get_tapis_job_metadata(t, jobUuid)"
   ]
  },
  {
   "cell_type": "code",
   "execution_count": null,
   "metadata": {},
   "outputs": [],
   "source": [
    "JobHistory = OpsUtils.get_tapis_job_history_data(t, jobUuid,print_out=True)"
   ]
  },
  {
   "cell_type": "code",
   "execution_count": null,
   "metadata": {},
   "outputs": [],
   "source": [
    "AllFilesDict = OpsUtils.get_tapis_job_all_files(t, jobUuid, displayIt=10, target_dir=False)"
   ]
  },
  {
   "cell_type": "markdown",
   "metadata": {},
   "source": [
    "## Visualize Data\n",
    "this is the same process as what we had done when we presented the web-portal submit"
   ]
  },
  {
   "cell_type": "markdown",
   "metadata": {},
   "source": [
    "---\n",
    "#### get base path for output data from posted path:\n",
    "Different systems in DesignSafe have different root paths"
   ]
  },
  {
   "cell_type": "code",
   "execution_count": null,
   "metadata": {},
   "outputs": [],
   "source": [
    "basePath = JobMetadata['archiveSystemDir_out']\n",
    "print('basePath',basePath)"
   ]
  },
  {
   "cell_type": "markdown",
   "metadata": {},
   "source": [
    "#### directory contents"
   ]
  },
  {
   "cell_type": "code",
   "execution_count": null,
   "metadata": {},
   "outputs": [],
   "source": [
    "if os.path.exists(basePath):\n",
    "    print(os.listdir(basePath))\n",
    "else:\n",
    "    print('path does not exist')"
   ]
  },
  {
   "cell_type": "markdown",
   "metadata": {},
   "source": [
    "---\n",
    "#### Plot some analysis results\n",
    "for any of the above analyses"
   ]
  },
  {
   "cell_type": "code",
   "execution_count": null,
   "metadata": {},
   "outputs": [],
   "source": [
    "import matplotlib.pyplot as plt\n",
    "import numpy"
   ]
  },
  {
   "cell_type": "code",
   "execution_count": null,
   "metadata": {},
   "outputs": [],
   "source": [
    "#pick any case\n",
    "print('basePath:',basePath)\n",
    "dataDir = f'{basePath}/DataTCLmp'; # know this from my input script, or see directory contents\n",
    "print('dataDir:',dataDir)\n",
    "if os.path.exists(dataDir):\n",
    "    print('dataDir exists!!!')\n",
    "else:\n",
    "    print('dataDir DOES NOT EXIST! -- it may just need time....you may just need to re-run this and the subsequent cells')"
   ]
  },
  {
   "cell_type": "markdown",
   "metadata": {},
   "source": [
    "#### List files in folder for a specific case, also using a wildcard\n",
    "You could use the following command, but it is not 100% reliable nor safe. it also doesn't return the list.\n",
    "*os.system(f'ls {dataDir}/*Lcol{Lcol}.out')*"
   ]
  },
  {
   "cell_type": "code",
   "execution_count": null,
   "metadata": {},
   "outputs": [],
   "source": [
    "Lcol = 100.0"
   ]
  },
  {
   "cell_type": "code",
   "execution_count": null,
   "metadata": {},
   "outputs": [],
   "source": [
    "import glob\n",
    "# Build the wildcard pattern\n",
    "pattern = os.path.join(dataDir, f\"*Lcol{Lcol}.out\")\n",
    "# Get matching files as a Python list\n",
    "files = glob.glob(pattern)\n",
    "for f in files:\n",
    "    print(f)"
   ]
  },
  {
   "cell_type": "code",
   "execution_count": null,
   "metadata": {},
   "outputs": [],
   "source": [
    "plt.close('all')\n",
    "fname3o = f'DFree_Lcol{Lcol}.out'\n",
    "fname3 = f'{dataDir}/{fname3o}'\n",
    "print('fname3:',fname3)\n",
    "dataDFree = numpy.loadtxt(fname3)\n",
    "plt.subplot(211)\n",
    "plt.title(f'Ex1a.Canti2D Lcol={Lcol}')\n",
    "plt.grid(True)\n",
    "plt.plot(dataDFree[:,1])\n",
    "plt.xlabel('Step Number')\n",
    "plt.ylabel('Free-Node Displacement')\n",
    "plt.subplot(212)\n",
    "plt.grid(True)\n",
    "plt.plot(dataDFree[:,1],dataDFree[:,0])\n",
    "plt.xlabel('Free-Node Disp.')\n",
    "plt.ylabel('Pseudo-Time (~Force)')\n",
    "plt.savefig(f'{dataDir}/Response.jpg')\n",
    "plt.show()\n",
    "print(f'plot saved to {dataDir}/Response_Lcol{Lcol}.jpg')\n",
    "print('End of Run: Ex1a.Canti2D.Push.py.ipynb')\n"
   ]
  },
  {
   "cell_type": "code",
   "execution_count": null,
   "metadata": {},
   "outputs": [],
   "source": [
    "print('Done!')"
   ]
  }
 ],
 "metadata": {
  "IMAGE_NAME": "taccsciapps/ds-nb-img:base-0.2.3",
  "UUID": "73e0880d-9b87-11ec-9c1c-13579dd95994",
  "celltoolbar": "Raw Cell Format",
  "kernelspec": {
   "display_name": "Python 3 (ipykernel)",
   "language": "python",
   "name": "python3"
  },
  "language_info": {
   "codemirror_mode": {
    "name": "ipython",
    "version": 3
   },
   "file_extension": ".py",
   "mimetype": "text/x-python",
   "name": "python",
   "nbconvert_exporter": "python",
   "pygments_lexer": "ipython3",
   "version": "3.12.11"
  }
 },
 "nbformat": 4,
 "nbformat_minor": 4
}
