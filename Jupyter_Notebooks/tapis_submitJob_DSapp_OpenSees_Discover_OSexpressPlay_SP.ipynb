{
 "cells": [
  {
   "cell_type": "markdown",
   "metadata": {},
   "source": [
    "<a class=\"reference external\" \n",
    "    href=\"https://jupyter.designsafe-ci.org/hub/user-redirect/lab/tree/CommunityData/OpenSees/TrainingMaterial/training-OpenSees-on-DesignSafe/Jupyter_Notebooks/tapis_submitJob_DSapp_OpenSees_Discover_OSexpress.ipynb\" \n",
    "    target=\"_blank\"\n",
    "    >\n",
    "<img alt=\"Try on DesignSafe\" src=\"https://raw.githubusercontent.com/DesignSafe-Training/pinn/main/DesignSafe-Badge.svg\" /></a>"
   ]
  },
  {
   "cell_type": "markdown",
   "metadata": {},
   "source": [
    "# Discovering App: opensees-express\n",
    "***Dig Deep into an App Schema to Create the Input***\n",
    "\n",
    "by Silvia Mazzoni, DesignSafe, 2025\n",
    "\n",
    "We are going to walk through the app schema to develop our job input, and then we will submit the job.\n",
    "\n",
    "We will use the OpenSeesMP app.\n",
    "\n",
    "* (Tapis Apps Documentation)[https://tapis.readthedocs.io/en/latest/technical/apps.html]\n",
    "* (Tapis Jobs Documentation)[https://tapis.readthedocs.io/en/latest/technical/jobs.html]\n",
    "  \n",
    "\n"
   ]
  },
  {
   "cell_type": "code",
   "execution_count": 1,
   "metadata": {
    "tags": [
     "remove-input"
    ]
   },
   "outputs": [],
   "source": [
    "# Local Utilities Library\n",
    "import sys,os\n",
    "relativePath = '../OpsUtils'\n",
    "PathOpsUtils = os.path.expanduser('~/CommunityData/OpenSees/TrainingMaterial/training-OpenSees-on-DesignSafe/OpsUtils')\n",
    "if not PathOpsUtils in sys.path: sys.path.append(PathOpsUtils)\n",
    "from OpsUtils import OpsUtils"
   ]
  },
  {
   "cell_type": "code",
   "execution_count": 2,
   "metadata": {},
   "outputs": [],
   "source": [
    "from tapipy.tapis import TapisResult"
   ]
  },
  {
   "cell_type": "markdown",
   "metadata": {},
   "source": [
    "## Connect to Tapis"
   ]
  },
  {
   "cell_type": "code",
   "execution_count": 3,
   "metadata": {},
   "outputs": [
    {
     "name": "stdout",
     "output_type": "stream",
     "text": [
      " -- Checking Tapis token --\n",
      " Token loaded from file. Token is still valid!\n",
      " Token expires at: 2025-09-19T21:03:18+00:00\n",
      " Token expires in: 2:44:15.560535\n",
      "-- LOG IN SUCCESSFUL! --\n"
     ]
    }
   ],
   "source": [
    "t=OpsUtils.connect_tapis()"
   ]
  },
  {
   "cell_type": "markdown",
   "metadata": {},
   "source": [
    "---\n",
    "## App User Input"
   ]
  },
  {
   "cell_type": "markdown",
   "metadata": {},
   "source": [
    "### Initialize"
   ]
  },
  {
   "cell_type": "code",
   "execution_count": 4,
   "metadata": {},
   "outputs": [],
   "source": [
    "# initalize\n",
    "tapisInput = {}\n",
    "tapisInput[\"name\"] = 'OpenSeesExpressSubmit'"
   ]
  },
  {
   "cell_type": "code",
   "execution_count": 5,
   "metadata": {},
   "outputs": [],
   "source": [
    "appId = 'opensees-express'\n",
    "appVersion = 'latest'"
   ]
  },
  {
   "cell_type": "markdown",
   "metadata": {},
   "source": [
    "---\n",
    "### Get app schema -- input"
   ]
  },
  {
   "cell_type": "code",
   "execution_count": 6,
   "metadata": {},
   "outputs": [],
   "source": [
    "thisAppData_MP = OpsUtils.get_tapis_app_schema(t,appId,version=appVersion)"
   ]
  },
  {
   "cell_type": "code",
   "execution_count": 7,
   "metadata": {},
   "outputs": [
    {
     "name": "stdout",
     "output_type": "stream",
     "text": [
      "########################################\n",
      "########### TAPIS-APP SCHEMA ###########\n",
      "########################################\n",
      "######## appID: opensees-express\n",
      "######## version: latest\n",
      "########################################\n",
      "{\n",
      "  sharedAppCtx: \"wma_prtl\"\n",
      "  isPublic: True\n",
      "  tenant: \"designsafe\"\n",
      "  id: \"opensees-express\"\n",
      "  version: \"latest\"\n",
      "  description: \"OpenSees-EXPRESS provides users with a sequential OpenSees interpreter. It is ideal to run small sequential scripts on DesignSafe resources freeing up your own machine.\"\n",
      "  owner: \"wma_prtl\"\n",
      "  enabled: True\n",
      "  versionEnabled: True\n",
      "  locked: False\n",
      "  runtime: \"ZIP\"\n",
      "  runtimeVersion: None\n",
      "  runtimeOptions: None\n",
      "  containerImage: \"tapis://cloud.data/corral/tacc/aci/CEP/applications/v3/opensees/latest/OpenSees-EXPRESS/opensees_express.zip\"\n",
      "  jobType: \"FORK\"\n",
      "  maxJobs: 2147483647\n",
      "  maxJobsPerUser: 2147483647\n",
      "  strictFileInputs: True\n",
      "  uuid: \"30cb1fa1-e7c7-44a8-a0e8-d2f64043fc65\"\n",
      "  deleted: False\n",
      "  created: \"2025-02-20T18:41:03.661272Z\"\n",
      "  updated: \"2025-07-30T20:19:29.367292Z\"\n",
      "  sharedWithUsers: []\n",
      "  tags: [\"portalName: DesignSafe\", \"portalName: CEP\"]\n",
      "  jobAttributes: {\n",
      "    description: None\n",
      "    dynamicExecSystem: False\n",
      "    execSystemConstraints: None\n",
      "    execSystemId: \"wma-exec-01\"\n",
      "    execSystemExecDir: \"${JobWorkingDir}\"\n",
      "    execSystemInputDir: \"${JobWorkingDir}\"\n",
      "    execSystemOutputDir: \"${JobWorkingDir}\"\n",
      "    dtnSystemInputDir: \"!tapis_not_set\"\n",
      "    dtnSystemOutputDir: \"!tapis_not_set\"\n",
      "    execSystemLogicalQueue: None\n",
      "    archiveSystemId: \"cloud.data\"\n",
      "    archiveSystemDir: \"/tmp/${JobOwner}/tapis-jobs-archive/${JobCreateDate}/${JobName}-${JobUUID}\"\n",
      "    archiveOnAppError: True\n",
      "    isMpi: False\n",
      "    mpiCmd: None\n",
      "    cmdPrefix: None\n",
      "    nodeCount: 1\n",
      "    coresPerNode: 1\n",
      "    memoryMB: 100\n",
      "    maxMinutes: 1440\n",
      "    fileInputs: [\n",
      "      {\n",
      "        name: \"Input Directory\"\n",
      "        description: \"Input directory that includes the tcl script as well as any other required files. Example input is in tapis://designsafe.storage.community/app_examples/opensees/OpenSeesEXPRESS\"\n",
      "        inputMode: \"REQUIRED\"\n",
      "        autoMountLocal: True\n",
      "        envKey: \"inputDirectory\"\n",
      "        sourceUrl: None\n",
      "        targetPath: \"*\"\n",
      "        notes: {\n",
      "          selectionMode: \"directory\"\n",
      "        }\n",
      "      }\n",
      "    ]\n",
      "    fileInputArrays: []\n",
      "    subscriptions: []\n",
      "    tags: []\n",
      "    parameterSet: {\n",
      "      appArgs: []\n",
      "      containerArgs: []\n",
      "      schedulerOptions: []\n",
      "      envVariables: [\n",
      "        {\n",
      "          key: \"mainProgram\"\n",
      "          value: \"OpenSees\"\n",
      "          description: \"Choose the OpenSees binary to use.\"\n",
      "          inputMode: \"REQUIRED\"\n",
      "          notes: {\n",
      "            label: \"Main Program\"\n",
      "            enum_values: [\n",
      "              {\n",
      "                OpenSees: \"OpenSees\"\n",
      "              }\n",
      "              {\n",
      "                OpenSeesSP: \"OpenSeesSP\"\n",
      "              }\n",
      "            ]\n",
      "          }\n",
      "        }\n",
      "        {\n",
      "          key: \"tclScript\"\n",
      "          value: \"\"\n",
      "          description: \"The filename of the OpenSees TCL script to execute, e.g. \"freeFieldEffective.tcl\".\"\n",
      "          inputMode: \"REQUIRED\"\n",
      "          notes: {\n",
      "            label: \"Main Script\"\n",
      "            inputType: \"fileInput\"\n",
      "          }\n",
      "        }\n",
      "      ]\n",
      "      archiveFilter: {\n",
      "        includeLaunchFiles: True\n",
      "        includes: []\n",
      "        excludes: [\"opensees-express.zip\", \"tapisjob.env\"]\n",
      "      }\n",
      "      logConfig: {\n",
      "        stdoutFilename: \"\"\n",
      "        stderrFilename: \"\"\n",
      "      }\n",
      "    }\n",
      "  }\n",
      "  notes: {\n",
      "    icon: \"OpenSees\"\n",
      "    label: \"OpenSees-EXPRESS (VM)\"\n",
      "    helpUrl: \"https://www.designsafe-ci.org/user-guide/tools/simulation/#opensees-user-guide\"\n",
      "    category: \"Simulation\"\n",
      "    isInteractive: False\n",
      "    hideNodeCountAndCoresPerNode: True\n",
      "  }\n",
      "}\n",
      "########################################\n"
     ]
    }
   ],
   "source": [
    "OpsUtils.display_tapis_app_schema(thisAppData_MP)"
   ]
  },
  {
   "cell_type": "markdown",
   "metadata": {},
   "source": [
    "---\n",
    "\n",
    "## Create a Job input"
   ]
  },
  {
   "cell_type": "code",
   "execution_count": 8,
   "metadata": {},
   "outputs": [],
   "source": [
    "# Initialize our input\n",
    "TapisInput = {}"
   ]
  },
  {
   "cell_type": "markdown",
   "metadata": {},
   "source": [
    "## Break app schema into detailed parts and review them for possible input arguments"
   ]
  },
  {
   "cell_type": "code",
   "execution_count": 9,
   "metadata": {},
   "outputs": [],
   "source": [
    "# Convert TapisResults Objects to dictionaries\n",
    "app_MetaData = thisAppData_MP.__dict__"
   ]
  },
  {
   "cell_type": "code",
   "execution_count": 10,
   "metadata": {},
   "outputs": [
    {
     "name": "stdout",
     "output_type": "stream",
     "text": [
      "*** MAIN INPUT***\n",
      "sharedAppCtx = wma_prtl\n",
      "isPublic = True\n",
      "tenant = designsafe\n",
      "id = opensees-express\n",
      "version = latest\n",
      "description = OpenSees-EXPRESS provides users with a sequential OpenSees interpreter. It is ideal to run small sequential scripts on DesignSafe resources freeing up your own machine.\n",
      "owner = wma_prtl\n",
      "enabled = True\n",
      "versionEnabled = True\n",
      "locked = False\n",
      "runtime = ZIP\n",
      "runtimeVersion = None\n",
      "runtimeOptions = None\n",
      "containerImage = tapis://cloud.data/corral/tacc/aci/CEP/applications/v3/opensees/latest/OpenSees-EXPRESS/opensees_express.zip\n",
      "jobType = FORK\n",
      "maxJobs = 2147483647\n",
      "maxJobsPerUser = 2147483647\n",
      "strictFileInputs = True\n",
      "uuid = 30cb1fa1-e7c7-44a8-a0e8-d2f64043fc65\n",
      "deleted = False\n",
      "created = 2025-02-20T18:41:03.661272Z\n",
      "updated = 2025-07-30T20:19:29.367292Z\n",
      "\n",
      "--- Nested Objects---\n",
      "dict-type input keys []\n",
      "list-type input keys ['sharedWithUsers', 'tags']\n",
      "TapisResult-type input keys ['jobAttributes', 'notes']\n"
     ]
    }
   ],
   "source": [
    "# Review the keys to see if there is any input we are interested in. \n",
    "# You can view the full schema above to see the values\n",
    "# print('app_MetaData.keys',app_MetaData.keys())\n",
    "dictKeys = []\n",
    "TapisResultKeys = []\n",
    "listKeys = []\n",
    "print('*** MAIN INPUT***')\n",
    "for thisKey,thisValue in app_MetaData.items():\n",
    "    if isinstance(thisValue, dict):\n",
    "        dictKeys.append(thisKey)\n",
    "    if isinstance(thisValue, TapisResult):\n",
    "        TapisResultKeys.append(thisKey)\n",
    "    elif isinstance(thisValue, list):\n",
    "        listKeys.append(thisKey)\n",
    "    else:\n",
    "        print(f'{thisKey} = {thisValue}')\n",
    "        \n",
    "print('\\n--- Nested Objects---')\n",
    "print('dict-type input keys',dictKeys)\n",
    "print('list-type input keys',listKeys)\n",
    "print('TapisResult-type input keys',TapisResultKeys)\n"
   ]
  },
  {
   "cell_type": "markdown",
   "metadata": {},
   "source": [
    "## Check App Basics\n",
    "A few things to check here:\n",
    "1. app name and version are what you want\n",
    "2. isPublic = True (you can use the app)\n",
    "3. if isPublic = False, make sure owner = usename\n",
    "4. enabled = True (app is usable)\n",
    "5. deleted = False (it exists)\n",
    "6. read the description"
   ]
  },
  {
   "cell_type": "markdown",
   "metadata": {},
   "source": [
    "---"
   ]
  },
  {
   "cell_type": "code",
   "execution_count": 11,
   "metadata": {},
   "outputs": [
    {
     "name": "stdout",
     "output_type": "stream",
     "text": [
      "***** list-type INPUT ****\n",
      "sharedWithUsers : []\n",
      "tags : ['portalName: DesignSafe', 'portalName: CEP']\n"
     ]
    }
   ],
   "source": [
    "print(f'***** list-type INPUT ****')\n",
    "if len(listKeys)>0:\n",
    "    for thisKey in listKeys:\n",
    "        thisList = app_MetaData[thisKey]\n",
    "        print(f'{thisKey} : {thisList}')\n",
    "else: \n",
    "    print('-none')"
   ]
  },
  {
   "cell_type": "code",
   "execution_count": 12,
   "metadata": {},
   "outputs": [],
   "source": [
    "# Nothing related to input in the lists."
   ]
  },
  {
   "cell_type": "markdown",
   "metadata": {},
   "source": [
    "---"
   ]
  },
  {
   "cell_type": "code",
   "execution_count": 13,
   "metadata": {},
   "outputs": [
    {
     "name": "stdout",
     "output_type": "stream",
     "text": [
      "***** dict-type INPUT ****\n",
      "there are no dictionaries within jobAttributes, as expected, since Tapis works with TapisResults objects instead\n"
     ]
    }
   ],
   "source": [
    "print(f'***** dict-type INPUT ****')\n",
    "if len(dictKeys)>0:\n",
    "    for thisKey in dictKeys:\n",
    "        thisDict = app_MetaData[thisKey]\n",
    "        print(f'{thisKey} : {thisDict}')\n",
    "else: \n",
    "    print('there are no dictionaries within jobAttributes, as expected, since Tapis works with TapisResults objects instead')\n"
   ]
  },
  {
   "cell_type": "markdown",
   "metadata": {},
   "source": [
    "---"
   ]
  },
  {
   "cell_type": "code",
   "execution_count": 14,
   "metadata": {},
   "outputs": [
    {
     "name": "stdout",
     "output_type": "stream",
     "text": [
      "***** TapisResult-type INPUT ****\n",
      "\n",
      "*** jobAttributes ***\n",
      "  description = None\n",
      "  dynamicExecSystem = False\n",
      "  execSystemConstraints = None\n",
      "  execSystemId = wma-exec-01\n",
      "  execSystemExecDir = ${JobWorkingDir}\n",
      "  execSystemInputDir = ${JobWorkingDir}\n",
      "  execSystemOutputDir = ${JobWorkingDir}\n",
      "  dtnSystemInputDir = !tapis_not_set\n",
      "  dtnSystemOutputDir = !tapis_not_set\n",
      "  execSystemLogicalQueue = None\n",
      "  archiveSystemId = cloud.data\n",
      "  archiveSystemDir = /tmp/${JobOwner}/tapis-jobs-archive/${JobCreateDate}/${JobName}-${JobUUID}\n",
      "  archiveOnAppError = True\n",
      "  isMpi = False\n",
      "  mpiCmd = None\n",
      "  cmdPrefix = None\n",
      "  nodeCount = 1\n",
      "  coresPerNode = 1\n",
      "  memoryMB = 100\n",
      "  maxMinutes = 1440\n",
      "\n",
      "  --- jobAttributes -- Nested Objects---\n",
      "   dict-type input keys []\n",
      "   list-type input keys ['fileInputs', 'fileInputArrays', 'subscriptions', 'tags']\n",
      "   TapisResult-type input keys ['parameterSet']\n",
      "\n",
      "\n",
      "*** notes ***\n",
      "  icon = OpenSees\n",
      "  label = OpenSees-EXPRESS (VM)\n",
      "  helpUrl = https://www.designsafe-ci.org/user-guide/tools/simulation/#opensees-user-guide\n",
      "  category = Simulation\n",
      "  isInteractive = False\n",
      "  hideNodeCountAndCoresPerNode = True\n",
      "\n",
      "  --- notes -- Nested Objects---\n",
      "   dict-type input keys []\n",
      "   list-type input keys []\n",
      "   TapisResult-type input keys []\n",
      "\n"
     ]
    }
   ],
   "source": [
    "print(f'***** TapisResult-type INPUT ****')\n",
    "TR_dictKeys = {}\n",
    "TR_TapisResultKeys = {}\n",
    "TR_listKeys = {}\n",
    "for hereKey in TapisResultKeys:\n",
    "    print(f'\\n*** {hereKey} ***')\n",
    "    thisTapisResult = app_MetaData[hereKey]\n",
    "    thisTapisResult_dict = thisTapisResult.__dict__\n",
    "    TR_dictKeys[hereKey] = []\n",
    "    TR_TapisResultKeys[hereKey] = []\n",
    "    TR_listKeys[hereKey] = []\n",
    "    for thisKey,thisValue in thisTapisResult_dict.items():\n",
    "        if isinstance(thisValue, dict):\n",
    "            TR_dictKeys[hereKey].append(thisKey)\n",
    "        if isinstance(thisValue, TapisResult):\n",
    "            TR_TapisResultKeys[hereKey].append(thisKey)\n",
    "        elif isinstance(thisValue, list):\n",
    "            TR_listKeys[hereKey].append(thisKey)\n",
    "        else:\n",
    "            print(f'  {thisKey} = {thisValue}')\n",
    "    print(f'\\n  --- {hereKey} -- Nested Objects---')\n",
    "    print(f'   dict-type input keys',TR_dictKeys[hereKey])\n",
    "    print(f'   list-type input keys',TR_listKeys[hereKey])\n",
    "    print(f'   TapisResult-type input keys',TR_TapisResultKeys[hereKey])\n",
    "    print('')\n"
   ]
  },
  {
   "cell_type": "markdown",
   "metadata": {},
   "source": [
    "## notes {}\n",
    "notes is just informational."
   ]
  },
  {
   "cell_type": "markdown",
   "metadata": {},
   "source": [
    "## jobAttributes {}\n",
    "This is the content we will be submitting to the app.\n",
    "\n",
    "**jobAttributes** has valuable input arguments as well as nested ones.\n",
    "\n",
    "1. We need to initialize this json object in our TapisInput.\n",
    "2. Let's look at the high-level input\n",
    "3. Let's look at the nested content"
   ]
  },
  {
   "cell_type": "markdown",
   "metadata": {},
   "source": [
    "1. Initialize TapisInput['jobAttributes']"
   ]
  },
  {
   "cell_type": "code",
   "execution_count": 15,
   "metadata": {},
   "outputs": [],
   "source": [
    "TapisInput['jobAttributes'] = {}\n",
    "# start this input with app id and version to jobAttributes since that is what we send to tapis\n",
    "TapisInput['jobAttributes'][\"name\"] = f'My first Tapis Job on {appId} OpenSeesSP'\n",
    "TapisInput['jobAttributes'][\"appId\"] = appId\n",
    "TapisInput['jobAttributes'][\"appVersion\"] = appVersion"
   ]
  },
  {
   "cell_type": "markdown",
   "metadata": {},
   "source": [
    "2. Look at high-level variables to see if there is anything of value\n",
    "* This is where you find information about where the job is run (execSystemId)\n",
    "* In HPC applications this is where you define the SLURM input on queues and nodes, etc"
   ]
  },
  {
   "cell_type": "code",
   "execution_count": 16,
   "metadata": {},
   "outputs": [],
   "source": [
    "# we see that OpenSees-Express is NOT run on stampede3, but on a Virtual Machine, no need to specify it\n",
    "# TapisInput['jobAttributes']['execSystemId'] = 'wma-exec-01'"
   ]
  },
  {
   "cell_type": "code",
   "execution_count": 17,
   "metadata": {},
   "outputs": [],
   "source": [
    "# slurmm-job input\n",
    "# there is NO SLURM-JOB INPUT for Opensees Express, but we do have maxMinutes\n",
    "TapisInput['jobAttributes']['maxMinutes'] = 7"
   ]
  },
  {
   "cell_type": "markdown",
   "metadata": {},
   "source": [
    "---\n",
    "### 3. Let's dig into the first level -- **app.jobAttributes** "
   ]
  },
  {
   "cell_type": "code",
   "execution_count": 18,
   "metadata": {},
   "outputs": [],
   "source": [
    "# Let's extract and study jobAttributes\n",
    "myKey = 'jobAttributes'\n",
    "app_jobAttributes = app_MetaData[myKey].__dict__\n",
    "# we have already extracted the contents of this dict"
   ]
  },
  {
   "cell_type": "markdown",
   "metadata": {},
   "source": [
    "---"
   ]
  },
  {
   "cell_type": "code",
   "execution_count": 19,
   "metadata": {},
   "outputs": [
    {
     "name": "stdout",
     "output_type": "stream",
     "text": [
      "*****  jobAttributes dict-type Input ****\n",
      "there are no dictionaries within jobAttributes, as expected, since Tapis works with TapisResults objects instead\n"
     ]
    }
   ],
   "source": [
    "print(f'*****  {myKey} dict-type Input ****')\n",
    "if len(TR_dictKeys[myKey])>0:\n",
    "    for thisKey in TR_dictKeys[myKey]:\n",
    "        thisDict = app_jobAttributes[thisKey]\n",
    "        print(f'{myKey}.{thisKey} : {thisDict}')\n",
    "else:\n",
    "    print('there are no dictionaries within jobAttributes, as expected, since Tapis works with TapisResults objects instead')\n"
   ]
  },
  {
   "cell_type": "markdown",
   "metadata": {},
   "source": [
    "---"
   ]
  },
  {
   "cell_type": "code",
   "execution_count": 20,
   "metadata": {},
   "outputs": [
    {
     "name": "stdout",
     "output_type": "stream",
     "text": [
      "*****  jobAttributes list-type input****\n",
      "  fileInputs = \n",
      "    [\n",
      "      {'name': 'Input Directory', 'description': 'Input directory that includes the tcl script as well as any other required files. Example input is in tapis://designsafe.storage.community/app_examples/opensees/OpenSeesEXPRESS', 'inputMode': 'REQUIRED', 'autoMountLocal': True, 'envKey': 'inputDirectory', 'notes': \n",
      "selectionMode: directory, 'sourceUrl': None, 'targetPath': '*'}\n",
      "    ]\n",
      "  fileInputArrays: []\n",
      "  subscriptions: []\n",
      "  tags: []\n"
     ]
    }
   ],
   "source": [
    "print(f'*****  {myKey} list-type input****')\n",
    "if len(TR_listKeys[myKey])>0:\n",
    "    for thisKey in TR_listKeys[myKey]:\n",
    "        thisList = app_jobAttributes[thisKey]\n",
    "        if len(thisList)>0:\n",
    "            print(f'  {thisKey} = ')\n",
    "            print('    [')\n",
    "            for thisValue in thisList:\n",
    "                if isinstance(thisValue, TapisResult):\n",
    "                    thisValue = thisValue.__dict__\n",
    "                print(f'      {thisValue}')\n",
    "            print('    ]')\n",
    "        else:\n",
    "            print(f'  {thisKey}: {thisList}')\n",
    "else:\n",
    "    print('none')"
   ]
  },
  {
   "cell_type": "markdown",
   "metadata": {},
   "source": [
    "### fileInputs\n",
    "Here we find that jobAttributes.fileInputs is a REQUIRED input.\n",
    "\n",
    "In this case we need to get the tapisURI for our input directory."
   ]
  },
  {
   "cell_type": "markdown",
   "metadata": {},
   "source": [
    "#### Storage SystemTapis & Tapis Base Path in URI format\n",
    "this is the very first part of your path, just above your home folder.\n",
    "\n",
    "Options: \n",
    "* **CommunityData**\n",
    "* **Published**\n",
    "\n",
    "The following options are user or project-dependent, and require unique path input.\n",
    "\n",
    "\n",
    "The following option requires additional **user-dependent** input:\n",
    "* **MyData**\n",
    "\n",
    "The following option requires additional **user- and system- dependent** input:\n",
    "* **Work**\n",
    "\n",
    "The following option requires additional **project-dependent** input:\n",
    "* **MyProjects**\n",
    "\n",
    "You can obtain a dependent tapis-URI path by performing the first step of submitting an OpenSeesMP job at the app portal: https://www.designsafe-ci.org/workspace/opensees-mp-s3"
   ]
  },
  {
   "cell_type": "code",
   "execution_count": 21,
   "metadata": {},
   "outputs": [
    {
     "name": "stdout",
     "output_type": "stream",
     "text": [
      "found paths file: /home/jupyter/MyData/.tapis_user_paths.json\n",
      "storage_system_baseURL: tapis://designsafe.storage.default/silvia\n"
     ]
    }
   ],
   "source": [
    "storage_system = 'MyData' # options: Community,MyData,Published,MyProjects,Work/stampede3,Work/frontera,Work/ls6\n",
    "storage_system_baseURL = OpsUtils.get_user_path_tapis_uri(t,storage_system)\n",
    "\n",
    "print('storage_system_baseURL:',storage_system_baseURL)"
   ]
  },
  {
   "cell_type": "code",
   "execution_count": 22,
   "metadata": {},
   "outputs": [
    {
     "name": "stdout",
     "output_type": "stream",
     "text": [
      "sourceUrl tapis://designsafe.storage.default/silvia/_ToCommunityData/OpenSees/TrainingMaterial/training-OpenSees-on-DesignSafe/Examples_OpenSees/BasicExamples\n"
     ]
    }
   ],
   "source": [
    "input_folder = '_ToCommunityData/OpenSees/TrainingMaterial/training-OpenSees-on-DesignSafe/Examples_OpenSees/BasicExamples'\n",
    "sourceUrl = f'{storage_system_baseURL}/{input_folder}'\n",
    "print('sourceUrl',sourceUrl)"
   ]
  },
  {
   "cell_type": "code",
   "execution_count": 23,
   "metadata": {},
   "outputs": [],
   "source": [
    "TapisInput['jobAttributes']['fileInputs'] = [{'name': 'Input Directory','sourceUrl':sourceUrl}]; # notice that it is a list!"
   ]
  },
  {
   "cell_type": "markdown",
   "metadata": {},
   "source": [
    "---"
   ]
  },
  {
   "cell_type": "code",
   "execution_count": 24,
   "metadata": {},
   "outputs": [
    {
     "name": "stdout",
     "output_type": "stream",
     "text": [
      "***** jobAttributes TapisResult-type input ****\n",
      "\n",
      "*** parameterSet ***\n",
      "\n",
      "  --- parameterSet -- Nested Objects---\n",
      "   jobAttributes.parameterSet dict-type input keys []\n",
      "   jobAttributes.parameterSet list-type input keys ['appArgs', 'containerArgs', 'schedulerOptions', 'envVariables']\n",
      "   jobAttributes.parameterSet TapisResult-type input keys ['archiveFilter', 'logConfig']\n",
      "\n"
     ]
    }
   ],
   "source": [
    "print(f'***** {myKey} TapisResult-type input ****')\n",
    "if len(TR_TapisResultKeys[myKey])>0:\n",
    "    for hereKey in TR_TapisResultKeys[myKey]:\n",
    "        print(f'\\n*** {hereKey} ***')\n",
    "        thisTapisResult = app_jobAttributes[hereKey]\n",
    "        thisTapisResult_dict = thisTapisResult.__dict__\n",
    "        TR_dictKeys[hereKey] = []\n",
    "        TR_TapisResultKeys[hereKey] = []\n",
    "        TR_listKeys[hereKey] = []\n",
    "        for thisKey,thisValue in thisTapisResult_dict.items():\n",
    "            if isinstance(thisValue, dict):\n",
    "                TR_dictKeys[hereKey].append(thisKey)\n",
    "            if isinstance(thisValue, TapisResult):\n",
    "                TR_TapisResultKeys[hereKey].append(thisKey)\n",
    "            elif isinstance(thisValue, list):\n",
    "                TR_listKeys[hereKey].append(thisKey)\n",
    "            else:\n",
    "                print(f'  {myKey}.{thisKey} = {thisValue}')\n",
    "        print(f'\\n  --- {hereKey} -- Nested Objects---')\n",
    "        print(f'   {myKey}.{hereKey} dict-type input keys',TR_dictKeys[hereKey])\n",
    "        print(f'   {myKey}.{hereKey} list-type input keys',TR_listKeys[hereKey])\n",
    "        print(f'   {myKey}.{hereKey} TapisResult-type input keys',TR_TapisResultKeys[hereKey])\n",
    "        print('')\n",
    "else:\n",
    "    print('-none')\n"
   ]
  },
  {
   "cell_type": "markdown",
   "metadata": {},
   "source": [
    "---\n",
    "### app.jobAttributes.**parameterSet** is the interesting one"
   ]
  },
  {
   "cell_type": "code",
   "execution_count": 25,
   "metadata": {},
   "outputs": [],
   "source": [
    "# Let's extract and study jobAttributes\n",
    "myKey = 'parameterSet'\n",
    "app_parameterSet = app_jobAttributes[myKey].__dict__\n",
    "# we have already extracted the contents of this dict"
   ]
  },
  {
   "cell_type": "code",
   "execution_count": 26,
   "metadata": {},
   "outputs": [],
   "source": [
    "## parameterSet is a dictionary (TapisResult):\n",
    "TapisInput['jobAttributes'][myKey] = {}"
   ]
  },
  {
   "cell_type": "markdown",
   "metadata": {},
   "source": [
    "---"
   ]
  },
  {
   "cell_type": "code",
   "execution_count": 27,
   "metadata": {},
   "outputs": [
    {
     "name": "stdout",
     "output_type": "stream",
     "text": [
      "*****  parameterSet dict-type Input ****\n",
      "there are no dictionaries within app_parameterSet, as expected, since Tapis works with TapisResults objects instead\n"
     ]
    }
   ],
   "source": [
    "print(f'*****  {myKey} dict-type Input ****')\n",
    "if len(TR_dictKeys[myKey])>0:\n",
    "    for thisKey in TR_dictKeys[myKey]:\n",
    "        thisDict = app_parameterSet[thisKey]\n",
    "        print(f'{myKey}.{thisKey} : {thisDict}')\n",
    "else:\n",
    "    print('there are no dictionaries within app_parameterSet, as expected, since Tapis works with TapisResults objects instead')\n"
   ]
  },
  {
   "cell_type": "markdown",
   "metadata": {},
   "source": [
    "---"
   ]
  },
  {
   "cell_type": "code",
   "execution_count": 28,
   "metadata": {},
   "outputs": [
    {
     "name": "stdout",
     "output_type": "stream",
     "text": [
      "*****  parameterSet list-type input****\n",
      "  appArgs: []\n",
      "  containerArgs: []\n",
      "  schedulerOptions: []\n",
      "  envVariables = \n",
      "    [\n",
      "      {'key': 'mainProgram', 'value': 'OpenSees', 'description': 'Choose the OpenSees binary to use.', 'inputMode': 'REQUIRED', 'notes': \n",
      "enum_values: [\n",
      "OpenSees: OpenSees, \n",
      "OpenSeesSP: OpenSeesSP]\n",
      "label: Main Program}\n",
      "      {'key': 'tclScript', 'value': '', 'description': 'The filename of the OpenSees TCL script to execute, e.g. \"freeFieldEffective.tcl\".', 'inputMode': 'REQUIRED', 'notes': \n",
      "inputType: fileInput\n",
      "label: Main Script}\n",
      "    ]\n"
     ]
    }
   ],
   "source": [
    "print(f'*****  {myKey} list-type input****')\n",
    "if len(TR_listKeys[myKey])>0:\n",
    "    for thisKey in TR_listKeys[myKey]:\n",
    "        thisList = app_parameterSet[thisKey]\n",
    "        if len(thisList)>0:\n",
    "            print(f'  {thisKey} = ')\n",
    "            print('    [')\n",
    "            for thisValue in thisList:\n",
    "                if isinstance(thisValue, TapisResult):\n",
    "                    thisValue = thisValue.__dict__\n",
    "                print(f'      {str(thisValue)}')\n",
    "            print('    ]')\n",
    "        else:\n",
    "            print(f'  {thisKey}: {thisList}')\n",
    "else:\n",
    "    print('none')"
   ]
  },
  {
   "cell_type": "markdown",
   "metadata": {},
   "source": [
    "While the opensees-mp-s3 and opensees-sp-s3 apps use appArgs, this app uses envVariables for the input.\n",
    "\n",
    "It looks like enum_values in notes is a list for a pull-down menu, and, interestingly, it is missing OpenSeesMP -- likely whoever wrote it didn't know that OpenSeesSP is a multi-processor program. The VM may have more than one processor. Maybe we could even run OpenSeesMP, however, there is no place to input the number of processors to be used...."
   ]
  },
  {
   "cell_type": "code",
   "execution_count": 29,
   "metadata": {},
   "outputs": [
    {
     "name": "stdout",
     "output_type": "stream",
     "text": [
      "review each of these items: ['appArgs', 'containerArgs', 'schedulerOptions', 'envVariables']\n"
     ]
    }
   ],
   "source": [
    "print('review each of these items:', TR_listKeys[myKey])"
   ]
  },
  {
   "cell_type": "markdown",
   "metadata": {},
   "source": [
    "#### app.jobAttributes.parameterSet.**appArgs**"
   ]
  },
  {
   "cell_type": "code",
   "execution_count": 30,
   "metadata": {},
   "outputs": [
    {
     "name": "stdout",
     "output_type": "stream",
     "text": [
      "** app.jobAttributes.parameterSet.appArgs **\n",
      ".none.\n"
     ]
    }
   ],
   "source": [
    "thisKey = 'appArgs'\n",
    "TapisInput['jobAttributes']['parameterSet'][thisKey] = [] # it's a list, initialize as a list!\n",
    "print(f'** app.jobAttributes.parameterSet.{thisKey} **')\n",
    "if len(app_parameterSet[thisKey])>0:\n",
    "    for thisItem in app_parameterSet[thisKey]:\n",
    "        print(thisItem)\n",
    "else:\n",
    "    print('.none.')"
   ]
  },
  {
   "cell_type": "markdown",
   "metadata": {},
   "source": [
    "Nothing to input here!"
   ]
  },
  {
   "cell_type": "markdown",
   "metadata": {},
   "source": [
    "#### app.jobAttributes.parameterSet.**containerArgs**"
   ]
  },
  {
   "cell_type": "code",
   "execution_count": 31,
   "metadata": {},
   "outputs": [
    {
     "name": "stdout",
     "output_type": "stream",
     "text": [
      "** app.jobAttributes.parameterSet.containerArgs **\n",
      ".none.\n"
     ]
    }
   ],
   "source": [
    "thisKey = 'containerArgs'\n",
    "TapisInput['jobAttributes']['parameterSet'][thisKey] = [] # it's a list, initialize as a list!\n",
    "print(f'** app.jobAttributes.parameterSet.{thisKey} **')\n",
    "if len(app_parameterSet[thisKey])>0:\n",
    "    for thisItem in app_parameterSet[thisKey]:\n",
    "        print(thisItem)\n",
    "else:\n",
    "    print('.none.')"
   ]
  },
  {
   "cell_type": "code",
   "execution_count": 32,
   "metadata": {},
   "outputs": [],
   "source": [
    "# do nothing for this app."
   ]
  },
  {
   "cell_type": "markdown",
   "metadata": {},
   "source": [
    "#### app.jobAttributes.parameterSet.**schedulerOptions**"
   ]
  },
  {
   "cell_type": "code",
   "execution_count": 33,
   "metadata": {},
   "outputs": [
    {
     "name": "stdout",
     "output_type": "stream",
     "text": [
      "** app.jobAttributes.parameterSet.schedulerOptions **\n",
      ".none.\n"
     ]
    }
   ],
   "source": [
    "thisKey = 'schedulerOptions'\n",
    "TapisInput['jobAttributes']['parameterSet'][thisKey] = [] # it's a list, initialize as a list!\n",
    "print(f'** app.jobAttributes.parameterSet.{thisKey} **')\n",
    "if len(app_parameterSet[thisKey])>0:\n",
    "    for thisItem in app_parameterSet[thisKey]:\n",
    "        print(thisItem)\n",
    "else:\n",
    "    print('.none.')"
   ]
  },
  {
   "cell_type": "markdown",
   "metadata": {},
   "source": [
    "There is no scheduler nor allocation used in OpenSees-Express."
   ]
  },
  {
   "cell_type": "markdown",
   "metadata": {},
   "source": [
    "#### NO NEED to add allocation to the scheduler option -- not shown in the app schema"
   ]
  },
  {
   "cell_type": "code",
   "execution_count": 34,
   "metadata": {},
   "outputs": [],
   "source": [
    "# user_allocation = '-A DS-HPC1'; # you get this code from your allocation dashboard\n",
    "# TapisInput['jobAttributes']['parameterSet']['schedulerOptions'].append({'name': 'TACC Allocation', 'arg': user_allocation})"
   ]
  },
  {
   "cell_type": "markdown",
   "metadata": {},
   "source": [
    "### app.jobAttributes.parameterSet.**envVariables**"
   ]
  },
  {
   "cell_type": "code",
   "execution_count": 35,
   "metadata": {},
   "outputs": [
    {
     "name": "stdout",
     "output_type": "stream",
     "text": [
      "** app.jobAttributes.parameterSet.envVariables **\n",
      "\n",
      "description: Choose the OpenSees binary to use.\n",
      "inputMode: REQUIRED\n",
      "key: mainProgram\n",
      "notes: \n",
      "enum_values: [\n",
      "OpenSees: OpenSees, \n",
      "OpenSeesSP: OpenSeesSP]\n",
      "label: Main Program\n",
      "value: OpenSees\n",
      "\n",
      "description: The filename of the OpenSees TCL script to execute, e.g. \"freeFieldEffective.tcl\".\n",
      "inputMode: REQUIRED\n",
      "key: tclScript\n",
      "notes: \n",
      "inputType: fileInput\n",
      "label: Main Script\n",
      "value: \n"
     ]
    }
   ],
   "source": [
    "thisKey = 'envVariables'\n",
    "TapisInput['jobAttributes']['parameterSet'][thisKey] = [] # it's a list, initialize as a list!\n",
    "print(f'** app.jobAttributes.parameterSet.{thisKey} **')\n",
    "if len(app_parameterSet[thisKey])>0:\n",
    "    for thisItem in app_parameterSet[thisKey]:\n",
    "        print(thisItem)\n",
    "else:\n",
    "    print('.none.')"
   ]
  },
  {
   "cell_type": "markdown",
   "metadata": {},
   "source": [
    "# YES this app does have input here, we need to specify the execution program and the tcl script\n",
    "\n",
    "Note that the names of the labels for the keys here are key and value , not name and arg, and the keys are different from opensees-mp-s3\n",
    "\n",
    "Make sure your tcl script is for a sequential analysis."
   ]
  },
  {
   "cell_type": "code",
   "execution_count": 36,
   "metadata": {},
   "outputs": [],
   "source": [
    "TapisInput['jobAttributes']['parameterSet']['envVariables'].append({\"key\": \"mainProgram\", \"value\": 'OpenSeesSP'})\n",
    "TapisInput['jobAttributes']['parameterSet']['envVariables'].append({\"key\": \"tclScript\", \"value\": 'simpleSP.tcl'})"
   ]
  },
  {
   "cell_type": "markdown",
   "metadata": {},
   "source": [
    "---"
   ]
  },
  {
   "cell_type": "code",
   "execution_count": 37,
   "metadata": {},
   "outputs": [
    {
     "name": "stdout",
     "output_type": "stream",
     "text": [
      "***** parameterSet TapisResult-type input ****\n",
      "\n",
      "*** archiveFilter ***\n",
      "  parameterSet.includeLaunchFiles = True\n",
      "\n",
      "  --- archiveFilter -- Nested Objects---\n",
      "   parameterSet.archiveFilter dict-type input keys []\n",
      "   parameterSet.archiveFilter list-type input keys ['includes', 'excludes']\n",
      "   parameterSet.archiveFilter TapisResult-type input keys []\n",
      "\n",
      "\n",
      "*** logConfig ***\n",
      "  parameterSet.stdoutFilename = \n",
      "  parameterSet.stderrFilename = \n",
      "\n",
      "  --- logConfig -- Nested Objects---\n",
      "   parameterSet.logConfig dict-type input keys []\n",
      "   parameterSet.logConfig list-type input keys []\n",
      "   parameterSet.logConfig TapisResult-type input keys []\n",
      "\n"
     ]
    }
   ],
   "source": [
    "print(f'***** {myKey} TapisResult-type input ****')\n",
    "if len(TR_TapisResultKeys[myKey])>0:\n",
    "    for hereKey in TR_TapisResultKeys[myKey]:\n",
    "        print(f'\\n*** {hereKey} ***')\n",
    "        thisTapisResult = app_parameterSet[hereKey]\n",
    "        thisTapisResult_dict = thisTapisResult.__dict__\n",
    "        TR_dictKeys[hereKey] = []\n",
    "        TR_TapisResultKeys[hereKey] = []\n",
    "        TR_listKeys[hereKey] = []\n",
    "        for thisKey,thisValue in thisTapisResult_dict.items():\n",
    "            if isinstance(thisValue, dict):\n",
    "                TR_dictKeys[hereKey].append(thisKey)\n",
    "            if isinstance(thisValue, TapisResult):\n",
    "                TR_TapisResultKeys[hereKey].append(thisKey)\n",
    "            elif isinstance(thisValue, list):\n",
    "                TR_listKeys[hereKey].append(thisKey)\n",
    "            else:\n",
    "                print(f'  {myKey}.{thisKey} = {thisValue}')\n",
    "        print(f'\\n  --- {hereKey} -- Nested Objects---')\n",
    "        print(f'   {myKey}.{hereKey} dict-type input keys',TR_dictKeys[hereKey])\n",
    "        print(f'   {myKey}.{hereKey} list-type input keys',TR_listKeys[hereKey])\n",
    "        print(f'   {myKey}.{hereKey} TapisResult-type input keys',TR_TapisResultKeys[hereKey])\n",
    "        print('')\n",
    "else:\n",
    "    print('-none')\n"
   ]
  },
  {
   "cell_type": "code",
   "execution_count": 38,
   "metadata": {},
   "outputs": [],
   "source": [
    "# nothing of interest to us here..."
   ]
  },
  {
   "cell_type": "markdown",
   "metadata": {},
   "source": [
    "---\n",
    "#### We are done with our tapis-job input"
   ]
  },
  {
   "cell_type": "code",
   "execution_count": 39,
   "metadata": {},
   "outputs": [
    {
     "name": "stdout",
     "output_type": "stream",
     "text": [
      "TapisInput\n"
     ]
    },
    {
     "data": {
      "text/plain": [
       "{'jobAttributes': {'name': 'My first Tapis Job on opensees-express OpenSeesSP',\n",
       "  'appId': 'opensees-express',\n",
       "  'appVersion': 'latest',\n",
       "  'maxMinutes': 7,\n",
       "  'fileInputs': [{'name': 'Input Directory',\n",
       "    'sourceUrl': 'tapis://designsafe.storage.default/silvia/_ToCommunityData/OpenSees/TrainingMaterial/training-OpenSees-on-DesignSafe/Examples_OpenSees/BasicExamples'}],\n",
       "  'parameterSet': {'appArgs': [],\n",
       "   'containerArgs': [],\n",
       "   'schedulerOptions': [],\n",
       "   'envVariables': [{'key': 'mainProgram', 'value': 'OpenSeesSP'},\n",
       "    {'key': 'tclScript', 'value': 'simpleSP.tcl'}]}}}"
      ]
     },
     "metadata": {},
     "output_type": "display_data"
    }
   ],
   "source": [
    "print('TapisInput')\n",
    "display(TapisInput)"
   ]
  },
  {
   "cell_type": "code",
   "execution_count": 40,
   "metadata": {},
   "outputs": [
    {
     "name": "stdout",
     "output_type": "stream",
     "text": [
      "TapisInput.jobAttributes\n"
     ]
    },
    {
     "data": {
      "text/plain": [
       "{'name': 'My first Tapis Job on opensees-express OpenSeesSP',\n",
       " 'appId': 'opensees-express',\n",
       " 'appVersion': 'latest',\n",
       " 'maxMinutes': 7,\n",
       " 'fileInputs': [{'name': 'Input Directory',\n",
       "   'sourceUrl': 'tapis://designsafe.storage.default/silvia/_ToCommunityData/OpenSees/TrainingMaterial/training-OpenSees-on-DesignSafe/Examples_OpenSees/BasicExamples'}],\n",
       " 'parameterSet': {'appArgs': [],\n",
       "  'containerArgs': [],\n",
       "  'schedulerOptions': [],\n",
       "  'envVariables': [{'key': 'mainProgram', 'value': 'OpenSeesSP'},\n",
       "   {'key': 'tclScript', 'value': 'simpleSP.tcl'}]}}"
      ]
     },
     "metadata": {},
     "output_type": "display_data"
    }
   ],
   "source": [
    "print('TapisInput.jobAttributes')\n",
    "display(TapisInput['jobAttributes'])"
   ]
  },
  {
   "cell_type": "code",
   "execution_count": 41,
   "metadata": {},
   "outputs": [],
   "source": [
    "submitted_job = t.jobs.submitJob(**TapisInput['jobAttributes'])"
   ]
  },
  {
   "cell_type": "code",
   "execution_count": 42,
   "metadata": {},
   "outputs": [
    {
     "name": "stdout",
     "output_type": "stream",
     "text": [
      "\n",
      "_fileInputsSpec: None\n",
      "_parameterSetModel: None\n",
      "appId: opensees-express\n",
      "appVersion: latest\n",
      "archiveCorrelationId: None\n",
      "archiveOnAppError: True\n",
      "archiveSystemDir: /tmp/silvia/tapis-jobs-archive/2025-09-19Z/My first Tapis Job on opensees-express OpenSeesSP-b950e6e7-222d-44b6-8df5-398f69ff9c6d-007\n",
      "archiveSystemId: cloud.data\n",
      "archiveTransactionId: None\n",
      "blockedCount: 0\n",
      "cmdPrefix: None\n",
      "condition: None\n",
      "coresPerNode: 1\n",
      "created: 2025-09-19T18:19:03.607793133Z\n",
      "createdby: silvia\n",
      "createdbyTenant: designsafe\n",
      "description: opensees-express-latest submitted by silvia@designsafe\n",
      "dtnInputCorrelationId: None\n",
      "dtnInputTransactionId: None\n",
      "dtnOutputCorrelationId: None\n",
      "dtnOutputTransactionId: None\n",
      "dtnSystemId: None\n",
      "dtnSystemInputDir: None\n",
      "dtnSystemOutputDir: None\n",
      "dynamicExecSystem: False\n",
      "ended: None\n",
      "execSystemConstraints: None\n",
      "execSystemExecDir: /tmp/tapis-silvia/2025-09-19Z/b950e6e7-222d-44b6-8df5-398f69ff9c6d-007\n",
      "execSystemId: wma-exec-01\n",
      "execSystemInputDir: /tmp/tapis-silvia/2025-09-19Z/b950e6e7-222d-44b6-8df5-398f69ff9c6d-007\n",
      "execSystemLogicalQueue: None\n",
      "execSystemOutputDir: /tmp/tapis-silvia/2025-09-19Z/b950e6e7-222d-44b6-8df5-398f69ff9c6d-007\n",
      "fileInputs: [{\"name\":\"Input Directory\",\"description\":\"Input directory that includes the tcl script as well as any other required files. Example input is in tapis://designsafe.storage.community/app_examples/opensees/OpenSeesEXPRESS\",\"envKey\":\"inputDirectory\",\"autoMountLocal\":true,\"sourceUrl\":\"tapis://designsafe.storage.default/silvia/_ToCommunityData/OpenSees/TrainingMaterial/training-OpenSees-on-DesignSafe/Examples_OpenSees/BasicExamples\",\"targetPath\":\"BasicExamples\",\"notes\":\"{\\\"selectionMode\\\":\\\"directory\\\"}\",\"optional\":false,\"srcSharedAppCtx\":\"\",\"destSharedAppCtx\":\"wma_prtl\"}]\n",
      "id: 0\n",
      "inputCorrelationId: None\n",
      "inputTransactionId: None\n",
      "isMpi: False\n",
      "jobType: FORK\n",
      "lastMessage: Job created\n",
      "lastUpdated: 2025-09-19T18:19:03.607793133Z\n",
      "maxMinutes: 7\n",
      "memoryMB: 100\n",
      "mpiCmd: None\n",
      "name: My first Tapis Job on opensees-express OpenSeesSP\n",
      "nodeCount: 1\n",
      "notes: {\"icon\":\"OpenSees\",\"label\":\"OpenSees-EXPRESS (VM)\",\"helpUrl\":\"https://www.designsafe-ci.org/user-guide/tools/simulation/#opensees-user-guide\",\"category\":\"Simulation\",\"isInteractive\":false,\"hideNodeCountAndCoresPerNode\":true}\n",
      "owner: silvia\n",
      "parameterSet: {\"appArgs\":[],\"containerArgs\":[],\"schedulerOptions\":[],\"envVariables\":[{\"key\":\"_tapisAppId\",\"value\":\"opensees-express\",\"description\":null,\"include\":null,\"notes\":null},{\"key\":\"_tapisAppVersion\",\"value\":\"latest\",\"description\":null,\"include\":null,\"notes\":null},{\"key\":\"_tapisArchiveOnAppError\",\"value\":\"true\",\"description\":null,\"include\":null,\"notes\":null},{\"key\":\"_tapisArchiveSystemDir\",\"value\":\"/tmp/silvia/tapis-jobs-archive/2025-09-19Z/My first Tapis Job on opensees-express OpenSeesSP-b950e6e7-222d-44b6-8df5-398f69ff9c6d-007\",\"description\":null,\"include\":null,\"notes\":null},{\"key\":\"_tapisArchiveSystemId\",\"value\":\"cloud.data\",\"description\":null,\"include\":null,\"notes\":null},{\"key\":\"_tapisCoresPerNode\",\"value\":\"1\",\"description\":null,\"include\":null,\"notes\":null},{\"key\":\"_tapisDynamicExecSystem\",\"value\":\"false\",\"description\":null,\"include\":null,\"notes\":null},{\"key\":\"_tapisEffectiveUserId\",\"value\":\"silvia\",\"description\":null,\"include\":null,\"notes\":null},{\"key\":\"_tapisExecSystemExecDir\",\"value\":\"/tmp/tapis-silvia/2025-09-19Z/b950e6e7-222d-44b6-8df5-398f69ff9c6d-007\",\"description\":null,\"include\":null,\"notes\":null},{\"key\":\"_tapisExecSystemId\",\"value\":\"wma-exec-01\",\"description\":null,\"include\":null,\"notes\":null},{\"key\":\"_tapisExecSystemInputDir\",\"value\":\"/tmp/tapis-silvia/2025-09-19Z/b950e6e7-222d-44b6-8df5-398f69ff9c6d-007\",\"description\":null,\"include\":null,\"notes\":null},{\"key\":\"_tapisExecSystemOutputDir\",\"value\":\"/tmp/tapis-silvia/2025-09-19Z/b950e6e7-222d-44b6-8df5-398f69ff9c6d-007\",\"description\":null,\"include\":null,\"notes\":null},{\"key\":\"_tapisJobCreateDate\",\"value\":\"2025-09-19Z\",\"description\":null,\"include\":null,\"notes\":null},{\"key\":\"_tapisJobCreateTime\",\"value\":\"18:19:03.607793133Z\",\"description\":null,\"include\":null,\"notes\":null},{\"key\":\"_tapisJobCreateTimestamp\",\"value\":\"2025-09-19T18:19:03.607793133Z\",\"description\":null,\"include\":null,\"notes\":null},{\"key\":\"_tapisJobName\",\"value\":\"My first Tapis Job on opensees-express OpenSeesSP\",\"description\":null,\"include\":null,\"notes\":null},{\"key\":\"_tapisJobOwner\",\"value\":\"silvia\",\"description\":null,\"include\":null,\"notes\":null},{\"key\":\"_tapisJobUUID\",\"value\":\"b950e6e7-222d-44b6-8df5-398f69ff9c6d-007\",\"description\":null,\"include\":null,\"notes\":null},{\"key\":\"_tapisJobWorkingDir\",\"value\":\"/tmp/tapis-silvia/2025-09-19Z/b950e6e7-222d-44b6-8df5-398f69ff9c6d-007\",\"description\":null,\"include\":null,\"notes\":null},{\"key\":\"_tapisMaxMinutes\",\"value\":\"7\",\"description\":null,\"include\":null,\"notes\":null},{\"key\":\"_tapisMemoryMB\",\"value\":\"100\",\"description\":null,\"include\":null,\"notes\":null},{\"key\":\"_tapisNodes\",\"value\":\"1\",\"description\":null,\"include\":null,\"notes\":null},{\"key\":\"_tapisStderrFilename\",\"value\":\"tapisjob.out\",\"description\":null,\"include\":null,\"notes\":null},{\"key\":\"_tapisStdoutFilename\",\"value\":\"tapisjob.out\",\"description\":null,\"include\":null,\"notes\":null},{\"key\":\"_tapisSysBatchScheduler\",\"value\":\"SLURM\",\"description\":null,\"include\":null,\"notes\":null},{\"key\":\"_tapisSysHost\",\"value\":\"wma-exec-01.tacc.utexas.edu\",\"description\":null,\"include\":null,\"notes\":null},{\"key\":\"_tapisSysRootDir\",\"value\":\"/\",\"description\":null,\"include\":null,\"notes\":null},{\"key\":\"_tapisTenant\",\"value\":\"designsafe\",\"description\":null,\"include\":null,\"notes\":null},{\"key\":\"inputDirectory\",\"value\":\"BasicExamples\",\"description\":\"EnvKey from input file: Input Directory\",\"include\":true,\"notes\":\"{}\"},{\"key\":\"mainProgram\",\"value\":\"OpenSeesSP\",\"description\":\"Choose the OpenSees binary to use.\",\"include\":true,\"notes\":\"{\\\"label\\\":\\\"Main Program\\\",\\\"enum_values\\\":[{\\\"OpenSees\\\":\\\"OpenSees\\\"},{\\\"OpenSeesSP\\\":\\\"OpenSeesSP\\\"}]}\"},{\"key\":\"tclScript\",\"value\":\"simpleSP.tcl\",\"description\":\"The filename of the OpenSees TCL script to execute, e.g. \\\"freeFieldEffective.tcl\\\".\",\"include\":true,\"notes\":\"{\\\"label\\\":\\\"Main Script\\\",\\\"inputType\\\":\\\"fileInput\\\"}\"}],\"archiveFilter\":{\"includes\":[],\"excludes\":[\"opensees-express.zip\",\"tapisjob.env\"],\"includeLaunchFiles\":true},\"logConfig\":{\"stdoutFilename\":\"tapisjob.out\",\"stderrFilename\":\"tapisjob.out\"}}\n",
      "remoteChecksFailed: 0\n",
      "remoteChecksSuccess: 0\n",
      "remoteEnded: None\n",
      "remoteJobId: None\n",
      "remoteJobId2: None\n",
      "remoteLastStatusCheck: None\n",
      "remoteOutcome: None\n",
      "remoteQueue: None\n",
      "remoteResultInfo: None\n",
      "remoteStarted: None\n",
      "remoteSubmitRetries: 0\n",
      "remoteSubmitted: None\n",
      "sharedAppCtx: wma_prtl\n",
      "sharedAppCtxAttribs: ['SAC_EXEC_SYSTEM_ID', 'SAC_ARCHIVE_SYSTEM_ID', 'SAC_EXEC_SYSTEM_INPUT_DIR', 'SAC_EXEC_SYSTEM_EXEC_DIR', 'SAC_EXEC_SYSTEM_OUTPUT_DIR', 'SAC_ARCHIVE_SYSTEM_DIR']\n",
      "stageAppCorrelationId: None\n",
      "stageAppTransactionId: None\n",
      "status: PENDING\n",
      "subscriptions: []\n",
      "tags: []\n",
      "tapisQueue: tapis.jobq.submit.DefaultQueue\n",
      "tenant: designsafe\n",
      "trackingId: None\n",
      "uuid: b950e6e7-222d-44b6-8df5-398f69ff9c6d-007\n",
      "visible: True\n"
     ]
    }
   ],
   "source": [
    "print(submitted_job)"
   ]
  },
  {
   "cell_type": "markdown",
   "metadata": {},
   "source": [
    "### Once you have no errors you are done submitting the job.\n",
    "### go to the job-status page on the web portal to monitor the your job. \n",
    "\n",
    "https://www.designsafe-ci.org/workspace/history\n",
    "\n",
    "You will, likely, have to debug your OpenSees script....."
   ]
  },
  {
   "cell_type": "markdown",
   "metadata": {},
   "source": [
    "**NOTE** ONCE THE JOB HAS COMPLETED, go to view Output and pay attention to the location (path) of the output, it may not be in MyData, as expected."
   ]
  },
  {
   "cell_type": "code",
   "execution_count": 43,
   "metadata": {},
   "outputs": [
    {
     "name": "stdout",
     "output_type": "stream",
     "text": [
      "done\n"
     ]
    }
   ],
   "source": [
    "print('done')"
   ]
  }
 ],
 "metadata": {
  "IMAGE_NAME": "taccsciapps/ds-nb-img:base-0.2.3",
  "UUID": "73e0880d-9b87-11ec-9c1c-13579dd95994",
  "celltoolbar": "Raw Cell Format",
  "kernelspec": {
   "display_name": "Python 3 (ipykernel)",
   "language": "python",
   "name": "python3"
  },
  "language_info": {
   "codemirror_mode": {
    "name": "ipython",
    "version": 3
   },
   "file_extension": ".py",
   "mimetype": "text/x-python",
   "name": "python",
   "nbconvert_exporter": "python",
   "pygments_lexer": "ipython3",
   "version": "3.12.11"
  }
 },
 "nbformat": 4,
 "nbformat_minor": 4
}
