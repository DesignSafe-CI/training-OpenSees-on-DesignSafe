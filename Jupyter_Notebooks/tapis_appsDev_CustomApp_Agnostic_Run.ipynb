{
 "cells": [
  {
   "cell_type": "markdown",
   "metadata": {},
   "source": [
    "<a class=\"reference external\" \n",
    "    href=\"https://jupyter.designsafe-ci.org/hub/user-redirect/lab/tree/CommunityData/OpenSees/TrainingMaterial/training-OpenSees-on-DesignSafe/Jupyter_Notebooks/tapis_appsDev_CustomApp_Agnostic_Run.ipynb\" \n",
    "    target=\"_blank\"\n",
    "    >\n",
    "<img alt=\"Try on DesignSafe\" src=\"https://raw.githubusercontent.com/DesignSafe-Training/pinn/main/DesignSafe-Badge.svg\" /></a>"
   ]
  },
  {
   "cell_type": "markdown",
   "metadata": {},
   "source": [
    "# Run Agnostic App  📒\n",
    "***Create your own Tapis App***\n",
    "\n",
    "by Silvia Mazzoni, DesignSafe, 2025\n",
    "\n",
    "This path will run the executable you want, with some bells and whitles.\n",
    "\n",
    "This is a step-by-step guide to help you write your own **Tapis v3 App** — from defining the app, to registering it, and running it. \n",
    "\n",
    "This is a practical walkthrough for defining and deploying an **HPC** app using the Tapis v3 API.\n",
    "\n",
    "\n",
    "## Workflow\n",
    "\n",
    "| Step                        | Description                                                         |\n",
    "| --------------------------- | ------------------------------------------------------------------- |\n",
    "| 1. Create *app.json*        | Describes the app, its inputs, execution system, and wrapper script |\n",
    "| 2. Create *tapisjob_app.sh* | Runs your analysis (e.g., ibrun OpenSees main.tcl)                  |\n",
    "| 2a. Zip *tapisjob_app.sh* | It needs a zip file!                  |\n",
    "| 3. Create *profile.json*    | (Optional) Loads modules/environment                                |\n",
    "| 4. Upload Files             | To the deployment path in your storage system                       |\n",
    "| 5. Register App             | With Tapis via CLI or Python                                        |\n",
    "| 6. Submit Job               | Define `job.json` and submit                                        |"
   ]
  },
  {
   "cell_type": "code",
   "execution_count": 1,
   "metadata": {},
   "outputs": [],
   "source": [
    "import json"
   ]
  },
  {
   "cell_type": "code",
   "execution_count": 2,
   "metadata": {
    "tags": [
     "remove-input"
    ]
   },
   "outputs": [
    {
     "name": "stdout",
     "output_type": "stream",
     "text": [
      "Using local utilities library\n"
     ]
    }
   ],
   "source": [
    "# Local Utilities Library\n",
    "# you can remove the logic associated with the local path\n",
    "import sys,os\n",
    "relativePath = '../OpsUtils'\n",
    "if os.path.exists(relativePath):\n",
    "    print(\"Using local utilities library\")\n",
    "    PathOpsUtils = os.path.expanduser(relativePath)\n",
    "else:\n",
    "    print('using communitydata')\n",
    "    PathOpsUtils = os.path.expanduser('~/CommunityData/OpenSees/TrainingMaterial/training-OpenSees-on-DesignSafe/OpsUtils')\n",
    "if not PathOpsUtils in sys.path: sys.path.append(PathOpsUtils)\n",
    "from OpsUtils import OpsUtils"
   ]
  },
  {
   "cell_type": "markdown",
   "metadata": {},
   "source": [
    "---\n",
    "## Connect to Tapis"
   ]
  },
  {
   "cell_type": "code",
   "execution_count": 3,
   "metadata": {},
   "outputs": [
    {
     "name": "stdout",
     "output_type": "stream",
     "text": [
      " -- Checking Tapis token --\n",
      " Token loaded from file. Token is still valid!\n",
      " Token expires at: 2025-08-21T21:43:46+00:00\n",
      " Token expires in: 3:57:34.136821\n",
      "-- LOG IN SUCCESSFUL! --\n"
     ]
    }
   ],
   "source": [
    "t=OpsUtils.connect_tapis()"
   ]
  },
  {
   "cell_type": "markdown",
   "metadata": {},
   "source": [
    "---\n",
    "## Configure App"
   ]
  },
  {
   "cell_type": "code",
   "execution_count": 4,
   "metadata": {},
   "outputs": [],
   "source": [
    "app_id = 'agnostic-app-test'"
   ]
  },
  {
   "cell_type": "markdown",
   "metadata": {},
   "source": [
    "#### List the app schema"
   ]
  },
  {
   "cell_type": "code",
   "execution_count": 5,
   "metadata": {},
   "outputs": [
    {
     "name": "stdout",
     "output_type": "stream",
     "text": [
      "########################################\n",
      "########### TAPIS-APP SCHEMA ###########\n",
      "########################################\n",
      "######## appID: agnostic-app-test\n",
      "######## version: 0.0.29\n",
      "########################################\n",
      "{\n",
      "  sharedAppCtx: \"silvia\"\n",
      "  isPublic: False\n",
      "  tenant: \"designsafe\"\n",
      "  id: \"agnostic-app-test\"\n",
      "  version: \"0.0.29\"\n",
      "  description: \"Run any Executable\"\n",
      "  owner: \"silvia\"\n",
      "  enabled: True\n",
      "  versionEnabled: True\n",
      "  locked: False\n",
      "  runtime: \"ZIP\"\n",
      "  runtimeVersion: None\n",
      "  runtimeOptions: None\n",
      "  containerImage: \"tapis://designsafe.storage.default/silvia/apps/agnostic-app-test/0.0.29/agnostic-app-test.zip\"\n",
      "  jobType: \"BATCH\"\n",
      "  maxJobs: 2147483647\n",
      "  maxJobsPerUser: 2147483647\n",
      "  strictFileInputs: False\n",
      "  uuid: \"e78ead3a-90f4-44ac-b41f-30f59d2486af\"\n",
      "  deleted: False\n",
      "  created: \"2025-08-21T05:42:14.691906Z\"\n",
      "  updated: \"2025-08-21T05:42:14.691906Z\"\n",
      "  sharedWithUsers: []\n",
      "  tags: [\"portalName: DesignSafe\", \"portalName: CEP\"]\n",
      "  jobAttributes: {\n",
      "    description: None\n",
      "    dynamicExecSystem: False\n",
      "    execSystemConstraints: None\n",
      "    execSystemId: \"stampede3\"\n",
      "    execSystemExecDir: \"${JobWorkingDir}\"\n",
      "    execSystemInputDir: \"${JobWorkingDir}\"\n",
      "    execSystemOutputDir: \"${JobWorkingDir}\"\n",
      "    dtnSystemInputDir: \"!tapis_not_set\"\n",
      "    dtnSystemOutputDir: \"!tapis_not_set\"\n",
      "    execSystemLogicalQueue: \"skx\"\n",
      "    archiveSystemId: \"stampede3\"\n",
      "    archiveSystemDir: \"HOST_EVAL($WORK)/tapis-jobs-archive/${JobCreateDate}/${JobName}-${JobUUID}\"\n",
      "    archiveOnAppError: True\n",
      "    isMpi: False\n",
      "    mpiCmd: None\n",
      "    cmdPrefix: None\n",
      "    nodeCount: 1\n",
      "    coresPerNode: 48\n",
      "    memoryMB: 192000\n",
      "    maxMinutes: 120\n",
      "    fileInputs: [\n",
      "      {\n",
      "        name: \"Input Directory\"\n",
      "        description: \"Input directory that includes the input script as well as any other required files. Example input is in tapis://designsafe.storage.community/app_examples/opensees/OpenSeesMP\"\n",
      "        inputMode: \"REQUIRED\"\n",
      "        autoMountLocal: True\n",
      "        envKey: \"inputDirectory\"\n",
      "        sourceUrl: None\n",
      "        targetPath: \"inputDirectory\"\n",
      "        notes: {\n",
      "          selectionMode: \"directory\"\n",
      "        }\n",
      "      }\n",
      "    ]\n",
      "    fileInputArrays: []\n",
      "    subscriptions: []\n",
      "    tags: []\n",
      "    parameterSet: {\n",
      "      appArgs: [\n",
      "        {\n",
      "          arg: \"OpenSeesMP\"\n",
      "          name: \"Main Program\"\n",
      "          description: \"Choose the binary Executable to use.\"\n",
      "          inputMode: \"REQUIRED\"\n",
      "          notes: {\n",
      "            enum_values: [\n",
      "              {\n",
      "                OpenSees: \"OpenSees\"\n",
      "              }\n",
      "              {\n",
      "                OpenSeesMP: \"OpenSeesMP\"\n",
      "              }\n",
      "              {\n",
      "                OpenSeesSP: \"OpenSeesSP\"\n",
      "              }\n",
      "              {\n",
      "                python: \"python\"\n",
      "              }\n",
      "            ]\n",
      "          }\n",
      "        }\n",
      "        {\n",
      "          arg: None\n",
      "          name: \"Main Script\"\n",
      "          description: \"The filename only of the input script to submit to executable. This file should reside in the Input Directory specified.\"\n",
      "          inputMode: \"REQUIRED\"\n",
      "          notes: {\n",
      "            inputType: \"fileInput\"\n",
      "          }\n",
      "        }\n",
      "        {\n",
      "          arg: None\n",
      "          name: \"CommandLine Arguments\"\n",
      "          description: \"Command-Line Arguments (Optional)\"\n",
      "          inputMode: \"INCLUDE_ON_DEMAND\"\n",
      "          notes: {\n",
      "          }\n",
      "        }\n",
      "      ]\n",
      "      containerArgs: []\n",
      "      schedulerOptions: [\n",
      "        {\n",
      "          arg: \"--tapis-profile OpenSees_default\"\n",
      "          name: \"OpenSees TACC Scheduler Profile\"\n",
      "          description: \"Scheduler profile for the default version of OpenSees\"\n",
      "          inputMode: \"FIXED\"\n",
      "          notes: {\n",
      "            isHidden: True\n",
      "          }\n",
      "        }\n",
      "      ]\n",
      "      envVariables: [\n",
      "        {\n",
      "          key: \"zipFileIn\"\n",
      "          value: \"\"\n",
      "          description: \"\"\n",
      "          inputMode: \"INCLUDE_BY_DEFAULT\"\n",
      "          notes: {\n",
      "          }\n",
      "        }\n",
      "        {\n",
      "          key: \"zipFolderOut\"\n",
      "          value: \"False\"\n",
      "          description: \"\"\n",
      "          inputMode: \"INCLUDE_BY_DEFAULT\"\n",
      "          notes: {\n",
      "          }\n",
      "        }\n",
      "        {\n",
      "          key: \"requirementFile\"\n",
      "          value: \"\"\n",
      "          description: \"\"\n",
      "          inputMode: \"INCLUDE_BY_DEFAULT\"\n",
      "          notes: {\n",
      "          }\n",
      "        }\n",
      "      ]\n",
      "      archiveFilter: {\n",
      "        includeLaunchFiles: True\n",
      "        includes: []\n",
      "        excludes: [\"agnostic-app-test.zip\"]\n",
      "      }\n",
      "      logConfig: {\n",
      "        stdoutFilename: \"\"\n",
      "        stderrFilename: \"\"\n",
      "      }\n",
      "    }\n",
      "  }\n",
      "  notes: {\n",
      "    icon: \"OpenSees\"\n",
      "    label: \"agnostic-app-test\"\n",
      "    helpUrl: \"\"\n",
      "    category: \"Simulation\"\n",
      "    isInteractive: False\n",
      "    hideNodeCountAndCoresPerNode: False\n",
      "  }\n",
      "}\n",
      "########################################\n"
     ]
    }
   ],
   "source": [
    "appMetaData = t.apps.getAppLatestVersion(appId=app_id)\n",
    "OpsUtils.display_tapis_app_schema(appMetaData)"
   ]
  },
  {
   "cell_type": "markdown",
   "metadata": {},
   "source": [
    "---\n",
    "## Submit a Job\n",
    "\n",
    "You can now submit a job using this app. You can use the Tapis CLI, Tapipy, or a web form.\n",
    "\n",
    "We are using TapiPy directly from this notebook. We will not specify a version so that the latest is used by default in the description."
   ]
  },
  {
   "cell_type": "markdown",
   "metadata": {},
   "source": [
    "---\n",
    "### Initialize"
   ]
  },
  {
   "cell_type": "code",
   "execution_count": 6,
   "metadata": {},
   "outputs": [],
   "source": [
    "tapisInputAll = {}"
   ]
  },
  {
   "cell_type": "markdown",
   "metadata": {},
   "source": [
    "---\n",
    "### SLURM-Specific Input"
   ]
  },
  {
   "cell_type": "code",
   "execution_count": 7,
   "metadata": {},
   "outputs": [],
   "source": [
    "tapisInputAll[\"maxMinutes\"] = 6\n",
    "\n",
    "tapisInputAll[\"execSystemId\"] = \"stampede3\"\n",
    "tapisInputAll[\"execSystemLogicalQueue\"] = \"skx-dev\"\n",
    "tapisInputAll[\"nodeCount\"] = 1\n",
    "tapisInputAll[\"coresPerNode\"] = 48\n",
    "tapisInputAll[\"allocation\"] = \"DS-HPC1\"\n",
    "\n",
    "tapisInputAll['archive_system']='Work' # Options: MyData or Work"
   ]
  },
  {
   "cell_type": "markdown",
   "metadata": {},
   "source": [
    "---\n",
    "### App-Specific Input"
   ]
  },
  {
   "cell_type": "code",
   "execution_count": 8,
   "metadata": {},
   "outputs": [
    {
     "name": "stdout",
     "output_type": "stream",
     "text": [
      "app_id: agnostic-app-test\n"
     ]
    }
   ],
   "source": [
    "print('app_id:',app_id)"
   ]
  },
  {
   "cell_type": "markdown",
   "metadata": {},
   "source": [
    "### OpenSees"
   ]
  },
  {
   "cell_type": "code",
   "execution_count": null,
   "metadata": {},
   "outputs": [
    {
     "name": "stdout",
     "output_type": "stream",
     "text": [
      "\n",
      " -- OpenSees_opensees-express --\n",
      "\n",
      "Creating job_description\n",
      "job_description {'name': 'OpenSees_opensees-express', 'maxMinutes': 6, 'appId': 'opensees-express', 'appVersion': 'latest', 'fileInputs': [{'name': 'Input Directory', 'sourceUrl': 'tapis://designsafe.storage.community/OpenSees/TrainingMaterial/training-OpenSees-on-DesignSafe/Examples_OpenSees/BasicExamples'}], 'parameterSet': {'envVariables': [{'key': 'mainProgram', 'value': 'OpenSees'}, {'key': 'tclScript', 'value': 'Ex1a.Canti2D.Push.tcl'}]}, 'archiveSystemId': 'stampede3', 'archiveSystemDir': 'HOST_EVAL($WORK)/tapis-jobs-archive/${JobCreateDate}/${JobName}-${JobUUID}'}\n",
      "Submitting Job\n",
      "Job submitted! ID: 1c089ade-a880-49c8-b152-f4625b503a82-007\n",
      "job_start_time: 1755798380.8641062\n",
      "\n",
      "Real-Time Job-Status Updates...\n",
      "--------------------\n",
      "\t Elapsed job time: 1.1 sec\t Current Status: PENDING\n",
      "\t Elapsed job time: 2.13 sec\t Current Status: PROCESSING_INPUTS\t\t(PENDING took 1.03 sec)\n",
      "\t Elapsed job time: 7.4 sec\t Current Status: STAGING_INPUTS\t\t(PROCESSING_INPUTS took 5.27 sec)\n",
      "\t Elapsed job time: 33.51 sec\t Current Status: STAGING_JOB\t\t(STAGING_INPUTS took 26.11 sec)\n",
      "\t Elapsed job time: 50.21 sec\t Current Status: RUNNING\t\t(STAGING_JOB took 16.7 sec)\n",
      "\t Elapsed job time: 51.26 sec\t Current Status: ARCHIVING\t\t(RUNNING took 1.05 sec)\n",
      "\t Elapsed job time: 78.54 sec\t Current Status: FINISHED\t\t(ARCHIVING took 27.28 sec)\n",
      "\t  Status: FINISHED\t Elapsed job time: 78.55 sec\n",
      "--------------------\n",
      "Elapsed time since Job was submitted: 78.55 sec\n",
      "--------------------\n"
     ]
    },
    {
     "data": {
      "application/vnd.jupyter.widget-view+json": {
       "model_id": "b42231dec9d741638f0d3cc9ee6ab3f5",
       "version_major": 2,
       "version_minor": 0
      },
      "text/plain": [
       "Accordion(children=(Output(),), selected_index=0, titles=('Job STATUS   (1c089ade-a880-49c8-b152-f4625b503a82-…"
      ]
     },
     "metadata": {},
     "output_type": "display_data"
    },
    {
     "data": {
      "application/vnd.jupyter.widget-view+json": {
       "model_id": "6021fccbd2284daea3dd78d9c47c6ddf",
       "version_major": 2,
       "version_minor": 0
      },
      "text/plain": [
       "Accordion(children=(Output(),), selected_index=0, titles=('Job Metadata   (1c089ade-a880-49c8-b152-f4625b503a8…"
      ]
     },
     "metadata": {},
     "output_type": "display_data"
    },
    {
     "data": {
      "application/vnd.jupyter.widget-view+json": {
       "model_id": "d316fbc7684249c68ecd07040117dd31",
       "version_major": 2,
       "version_minor": 0
      },
      "text/plain": [
       "Accordion(children=(Output(),), selected_index=0, titles=('Job History Data   (1c089ade-a880-49c8-b152-f4625b5…"
      ]
     },
     "metadata": {},
     "output_type": "display_data"
    },
    {
     "data": {
      "application/vnd.jupyter.widget-view+json": {
       "model_id": "304e2538049b4f118ed0700579dd942e",
       "version_major": 2,
       "version_minor": 0
      },
      "text/plain": [
       "Accordion(children=(Output(),), selected_index=0, titles=('Job Filedata   (1c089ade-a880-49c8-b152-f4625b503a8…"
      ]
     },
     "metadata": {},
     "output_type": "display_data"
    },
    {
     "name": "stdout",
     "output_type": "stream",
     "text": [
      "\n",
      " -- OpenSees_agnostic-app-test --\n",
      "\n",
      "Creating job_description\n",
      "job_description {'name': 'OpenSees_agnostic-app-test', 'execSystemId': 'stampede3', 'execSystemLogicalQueue': 'skx-dev', 'maxMinutes': 6, 'nodeCount': 1, 'coresPerNode': 48, 'appId': 'agnostic-app-test', 'appVersion': '0.0.29', 'fileInputs': [{'name': 'Input Directory', 'sourceUrl': 'tapis://designsafe.storage.community/OpenSees/TrainingMaterial/training-OpenSees-on-DesignSafe/Examples_OpenSees/BasicExamples'}], 'parameterSet': {'appArgs': [{'name': 'Main Program', 'arg': 'OpenSees'}, {'name': 'Main Script', 'arg': 'Ex1a.Canti2D.Push.tcl'}, {'name': 'CommandLine Arguments', 'arg': '[33,22]'}], 'envVariables': [{'key': 'zipFileIn', 'value': ''}, {'key': 'zipFolderOut', 'value': 'False'}, {'key': 'requirementFile', 'value': ''}], 'schedulerOptions': [{'name': 'TACC Allocation', 'arg': '-A DS-HPC1'}]}, 'archiveSystemId': 'stampede3', 'archiveSystemDir': 'HOST_EVAL($WORK)/tapis-jobs-archive/${JobCreateDate}/${JobName}-${JobUUID}'}\n",
      "Submitting Job\n",
      "Job submitted! ID: c9930058-dc8a-4d9e-bb90-a778d8ced053-007\n",
      "job_start_time: 1755798471.75123\n",
      "\n",
      "Real-Time Job-Status Updates...\n",
      "--------------------\n",
      "\t Elapsed job time: 1.09 sec\t Current Status: PENDING\n",
      "\t Elapsed job time: 2.13 sec\t Current Status: STAGING_INPUTS\t\t(PENDING took 1.04 sec)\n",
      "\t Elapsed job time: 38.54 sec\t Current Status: STAGING_JOB\t\t(STAGING_INPUTS took 36.41 sec)\n",
      "\t Elapsed job time: 55.32 sec\t Current Status: SUBMITTING_JOB\t\t(STAGING_JOB took 16.77 sec)\n",
      "\t Elapsed job time: 56.35 sec\t Current Status: QUEUED\t\t(SUBMITTING_JOB took 1.04 sec)\n"
     ]
    }
   ],
   "source": [
    "tapisInput = tapisInputAll.copy()\n",
    "\n",
    "tapisInput['storage_system'] = 'CommunityData'\n",
    "tapisInput['input_folder'] = 'OpenSees/TrainingMaterial/training-OpenSees-on-DesignSafe/Examples_OpenSees/BasicExamples' \n",
    "\n",
    "tapisInput['Main Program'] = 'OpenSees'\n",
    "tapisInput['Main Script'] = 'Ex1a.Canti2D.Push.tcl'\n",
    "\n",
    "tapisInput['CommandLine Arguments'] = '[33,22]'\n",
    "\n",
    "# -----------------------------------------------------\n",
    "for hereApp in ['opensees-express',app_id]:\n",
    "    here_tapisInput = tapisInput.copy()\n",
    "    here_tapisInput[\"appId\"] = hereApp \n",
    "    here_tapisInput[\"name\"] = here_tapisInput['Main Program'] + '_' + here_tapisInput[\"appId\"]\n",
    "    print(f'\\n -- {here_tapisInput['name']} --\\n')\n",
    "    jobReturns = OpsUtils.run_tapis_job(t,here_tapisInput,get_job_metadata=True,get_job_history=True,get_job_filedata=True,askConfirmJob = False,askConfirmMonitorRT = False)\n",
    "    if hereApp == app_id:\n",
    "        here_tapisInput['zipFolderOut'] = 'True'\n",
    "        here_tapisInput[\"name\"] = here_tapisInput['Main Program'] + '_' + here_tapisInput[\"appId\"] + '_' + 'zipFolderOut'\n",
    "        print(f'\\n -- {here_tapisInput['name']} --\\n')\n",
    "        jobReturns = OpsUtils.run_tapis_job(t,here_tapisInput,get_job_metadata=True,get_job_history=True,get_job_filedata=True,askConfirmJob = False,askConfirmMonitorRT = False)\n",
    "# -----------------------------------------------------"
   ]
  },
  {
   "cell_type": "markdown",
   "metadata": {},
   "source": [
    "### OpenSeesMP"
   ]
  },
  {
   "cell_type": "code",
   "execution_count": null,
   "metadata": {},
   "outputs": [],
   "source": [
    "tapisInput = tapisInputAll.copy()\n",
    "\n",
    "tapisInput['storage_system'] = 'CommunityData'\n",
    "tapisInput['input_folder'] = 'OpenSees/TrainingMaterial/training-OpenSees-on-DesignSafe/Examples_OpenSees/BasicExamples' \n",
    "\n",
    "tapisInput['Main Program'] = 'OpenSeesMP'\n",
    "tapisInput['Main Script'] = 'Ex1a_many.Canti2D.Push.mp.tcl'\n",
    "\n",
    "tapisInput['CommandLine Arguments'] = '[33,22]'\n",
    "\n",
    "# -----------------------------------------------------\n",
    "for hereApp in ['opensees-mp-s3',app_id]:\n",
    "    here_tapisInput = tapisInput.copy()\n",
    "    here_tapisInput[\"appId\"] = hereApp \n",
    "    here_tapisInput[\"name\"] = here_tapisInput['Main Program'] + '_' + here_tapisInput[\"appId\"]\n",
    "    print(f'\\n -- {here_tapisInput['name']} --\\n')\n",
    "    jobReturns = OpsUtils.run_tapis_job(t,here_tapisInput,get_job_metadata=True,get_job_history=True,get_job_filedata=True,askConfirmJob = False,askConfirmMonitorRT = False)\n",
    "    if hereApp == app_id:\n",
    "        here_tapisInput['zipFolderOut'] = 'True'\n",
    "        here_tapisInput[\"name\"] = here_tapisInput['Main Program'] + '_' + here_tapisInput[\"appId\"] + '_' + 'zipFolderOut'\n",
    "        print(f'\\n -- {here_tapisInput['name']} --\\n')\n",
    "        jobReturns = OpsUtils.run_tapis_job(t,here_tapisInput,get_job_metadata=True,get_job_history=True,get_job_filedata=True,askConfirmJob = False,askConfirmMonitorRT = False)\n",
    "# -----------------------------------------------------"
   ]
  },
  {
   "cell_type": "markdown",
   "metadata": {},
   "source": [
    "### OpenSeesSP"
   ]
  },
  {
   "cell_type": "code",
   "execution_count": null,
   "metadata": {},
   "outputs": [],
   "source": [
    "tapisInput = tapisInputAll.copy()\n",
    "\n",
    "tapisInput['storage_system'] = 'CommunityData'\n",
    "tapisInput['input_folder'] = 'OpenSees/TrainingMaterial/training-OpenSees-on-DesignSafe/Examples_OpenSees/BasicExamples' \n",
    "\n",
    "tapisInput['Main Program'] = 'OpenSeesSP'\n",
    "tapisInput['Main Script'] = 'simpleSP.tcl'\n",
    "\n",
    "tapisInput['CommandLine Arguments'] = '[33,22]'\n",
    "\n",
    "# -----------------------------------------------------\n",
    "for hereApp in ['opensees-sp-s3',app_id]:\n",
    "    here_tapisInput = tapisInput.copy()\n",
    "    here_tapisInput[\"appId\"] = hereApp \n",
    "    here_tapisInput[\"name\"] = here_tapisInput['Main Program'] + '_' + here_tapisInput[\"appId\"]\n",
    "    print(f'\\n -- {here_tapisInput['name']} --\\n')\n",
    "    jobReturns = OpsUtils.run_tapis_job(t,here_tapisInput,get_job_metadata=True,get_job_history=True,get_job_filedata=True,askConfirmJob = False,askConfirmMonitorRT = False)\n",
    "    if hereApp == app_id:\n",
    "        here_tapisInput['zipFolderOut'] = 'True'\n",
    "        here_tapisInput[\"name\"] = here_tapisInput['Main Program'] + '_' + here_tapisInput[\"appId\"] + '_' + 'zipFolderOut'\n",
    "        print(f'\\n -- {here_tapisInput['name']} --\\n')\n",
    "        jobReturns = OpsUtils.run_tapis_job(t,here_tapisInput,get_job_metadata=True,get_job_history=True,get_job_filedata=True,askConfirmJob = False,askConfirmMonitorRT = False)\n",
    "# -----------------------------------------------------"
   ]
  },
  {
   "cell_type": "markdown",
   "metadata": {},
   "source": [
    "### OpenSeesPy"
   ]
  },
  {
   "cell_type": "code",
   "execution_count": null,
   "metadata": {},
   "outputs": [],
   "source": [
    "tapisInput = tapisInputAll.copy()\n",
    "\n",
    "tapisInput['storage_system'] = 'CommunityData'\n",
    "tapisInput['input_folder'] = 'OpenSees/TrainingMaterial/training-OpenSees-on-DesignSafe/Examples_OpenSees/BasicExamples' \n",
    "\n",
    "tapisInput['Main Program'] = 'python'\n",
    "tapisInput['Main Script'] = 'Ex1a.Canti2D.Push.py'\n",
    "\n",
    "tapisInput['CommandLine Arguments'] = '[33,22]'\n",
    "\n",
    "# -----------------------------------------------------\n",
    "for hereApp in [app_id]:\n",
    "    here_tapisInput = tapisInput.copy()\n",
    "    here_tapisInput[\"appId\"] = hereApp \n",
    "    here_tapisInput[\"name\"] = here_tapisInput['Main Program'] + '_' + here_tapisInput[\"appId\"]\n",
    "    print(f'\\n -- {here_tapisInput['name']} --\\n')\n",
    "    jobReturns = OpsUtils.run_tapis_job(t,here_tapisInput,get_job_metadata=True,get_job_history=True,get_job_filedata=True,askConfirmJob = False,askConfirmMonitorRT = False)\n",
    "    if hereApp == app_id:\n",
    "        here_tapisInput['zipFolderOut'] = 'True'\n",
    "        here_tapisInput[\"name\"] = here_tapisInput['Main Program'] + '_' + here_tapisInput[\"appId\"] + '_' + 'zipFolderOut'\n",
    "        print(f'\\n -- {here_tapisInput['name']} --\\n')\n",
    "        jobReturns = OpsUtils.run_tapis_job(t,here_tapisInput,get_job_metadata=True,get_job_history=True,get_job_filedata=True,askConfirmJob = False,askConfirmMonitorRT = False)\n",
    "# -----------------------------------------------------"
   ]
  },
  {
   "cell_type": "markdown",
   "metadata": {},
   "source": [
    "### OpenSeesPy - mpi"
   ]
  },
  {
   "cell_type": "code",
   "execution_count": null,
   "metadata": {},
   "outputs": [],
   "source": [
    "tapisInput = tapisInputAll.copy()\n",
    "\n",
    "tapisInput['storage_system'] = 'CommunityData'\n",
    "tapisInput['input_folder'] = 'OpenSees/TrainingMaterial/training-OpenSees-on-DesignSafe/Examples_OpenSees/BasicExamples' \n",
    "\n",
    "tapisInput['Main Program'] = 'python'\n",
    "tapisInput['Main Script'] = 'Ex1a.Canti2D.Push.mpi.py'\n",
    "\n",
    "tapisInput['CommandLine Arguments'] = '[33,22]'\n",
    "\n",
    "# -----------------------------------------------------\n",
    "for hereApp in [app_id]:\n",
    "    here_tapisInput = tapisInput.copy()\n",
    "    here_tapisInput[\"appId\"] = hereApp \n",
    "    here_tapisInput[\"name\"] = here_tapisInput['Main Program'] + '_' + here_tapisInput[\"appId\"]\n",
    "    print(f'\\n -- {here_tapisInput['name']} --\\n')\n",
    "    jobReturns = OpsUtils.run_tapis_job(t,here_tapisInput,get_job_metadata=True,get_job_history=True,get_job_filedata=True,askConfirmJob = False,askConfirmMonitorRT = False)\n",
    "    if hereApp == app_id:\n",
    "        here_tapisInput['zipFolderOut'] = 'True'\n",
    "        here_tapisInput[\"name\"] = here_tapisInput['Main Program'] + '_' + here_tapisInput[\"appId\"] + '_' + 'zipFolderOut'\n",
    "        print(f'\\n -- {here_tapisInput['name']} --\\n')\n",
    "        jobReturns = OpsUtils.run_tapis_job(t,here_tapisInput,get_job_metadata=True,get_job_history=True,get_job_filedata=True,askConfirmJob = False,askConfirmMonitorRT = False)\n",
    "# -----------------------------------------------------"
   ]
  },
  {
   "cell_type": "markdown",
   "metadata": {},
   "source": [
    "### OpenSeesPy - mpi4py"
   ]
  },
  {
   "cell_type": "code",
   "execution_count": null,
   "metadata": {},
   "outputs": [],
   "source": [
    "tapisInput = tapisInputAll.copy()\n",
    "\n",
    "tapisInput['storage_system'] = 'CommunityData'\n",
    "tapisInput['input_folder'] = 'OpenSees/TrainingMaterial/training-OpenSees-on-DesignSafe/Examples_OpenSees/BasicExamples' \n",
    "\n",
    "tapisInput['Main Program'] = 'python'\n",
    "tapisInput['Main Script'] = 'Ex1a.Canti2D.Push.mpi4py.py'\n",
    "\n",
    "tapisInput['CommandLine Arguments'] = '[33,22]'\n",
    "\n",
    "# -----------------------------------------------------\n",
    "for hereApp in [app_id]:\n",
    "    here_tapisInput = tapisInput.copy()\n",
    "    here_tapisInput[\"appId\"] = hereApp \n",
    "    here_tapisInput[\"name\"] = here_tapisInput['Main Program'] + '_' + here_tapisInput[\"appId\"]\n",
    "    print(f'\\n -- {here_tapisInput['name']} --\\n')\n",
    "    jobReturns = OpsUtils.run_tapis_job(t,here_tapisInput,get_job_metadata=True,get_job_history=True,get_job_filedata=True,askConfirmJob = False,askConfirmMonitorRT = False)\n",
    "    if hereApp == app_id:\n",
    "        here_tapisInput['zipFolderOut'] = 'True'\n",
    "        here_tapisInput[\"name\"] = here_tapisInput['Main Program'] + '_' + here_tapisInput[\"appId\"] + '_' + 'zipFolderOut'\n",
    "        print(f'\\n -- {here_tapisInput['name']} --\\n')\n",
    "        jobReturns = OpsUtils.run_tapis_job(t,here_tapisInput,get_job_metadata=True,get_job_history=True,get_job_filedata=True,askConfirmJob = False,askConfirmMonitorRT = False)\n",
    "# -----------------------------------------------------"
   ]
  }
 ],
 "metadata": {
  "IMAGE_NAME": "taccsciapps/ds-nb-img:base-0.2.3",
  "UUID": "73e0880d-9b87-11ec-9c1c-13579dd95994",
  "celltoolbar": "Raw Cell Format",
  "kernelspec": {
   "display_name": "Python 3 (ipykernel)",
   "language": "python",
   "name": "python3"
  },
  "language_info": {
   "codemirror_mode": {
    "name": "ipython",
    "version": 3
   },
   "file_extension": ".py",
   "mimetype": "text/x-python",
   "name": "python",
   "nbconvert_exporter": "python",
   "pygments_lexer": "ipython3",
   "version": "3.12.11"
  }
 },
 "nbformat": 4,
 "nbformat_minor": 4
}
