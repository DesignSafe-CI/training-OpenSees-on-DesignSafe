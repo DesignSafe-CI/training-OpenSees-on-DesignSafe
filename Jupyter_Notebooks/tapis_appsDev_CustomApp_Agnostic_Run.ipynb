{
 "cells": [
  {
   "cell_type": "markdown",
   "metadata": {},
   "source": [
    "<a class=\"reference external\" \n",
    "    href=\"https://jupyter.designsafe-ci.org/hub/user-redirect/lab/tree/CommunityData/OpenSees/TrainingMaterial/training-OpenSees-on-DesignSafe/Jupyter_Notebooks/tapis_appsDev_CustomApp_Agnostic_Run.ipynb\" \n",
    "    target=\"_blank\"\n",
    "    >\n",
    "<img alt=\"Try on DesignSafe\" src=\"https://raw.githubusercontent.com/DesignSafe-Training/pinn/main/DesignSafe-Badge.svg\" /></a>"
   ]
  },
  {
   "cell_type": "markdown",
   "metadata": {},
   "source": [
    "# Run Agnostic App  📒\n",
    "***Create your own Tapis App***\n",
    "\n",
    "by Silvia Mazzoni, DesignSafe, 2025\n",
    "\n",
    "This path will run the executable you want, with some bells and whitles.\n",
    "\n",
    "This is a step-by-step guide to help you write your own **Tapis v3 App** — from defining the app, to registering it, and running it. \n",
    "\n",
    "This is a practical walkthrough for defining and deploying an **HPC** app using the Tapis v3 API.\n",
    "\n",
    "\n",
    "## Workflow\n",
    "\n",
    "| Step                        | Description                                                         |\n",
    "| --------------------------- | ------------------------------------------------------------------- |\n",
    "| 1. Create *app.json*        | Describes the app, its inputs, execution system, and wrapper script |\n",
    "| 2. Create *tapisjob_app.sh* | Runs your analysis (e.g., ibrun OpenSees main.tcl)                  |\n",
    "| 2a. Zip *tapisjob_app.sh* | It needs a zip file!                  |\n",
    "| 3. Create *profile.json*    | (Optional) Loads modules/environment                                |\n",
    "| 4. Upload Files             | To the deployment path in your storage system                       |\n",
    "| 5. Register App             | With Tapis via CLI or Python                                        |\n",
    "| 6. Submit Job               | Define `job.json` and submit                                        |"
   ]
  },
  {
   "cell_type": "code",
   "execution_count": 1,
   "metadata": {},
   "outputs": [],
   "source": [
    "import json"
   ]
  },
  {
   "cell_type": "code",
   "execution_count": 2,
   "metadata": {
    "tags": [
     "remove-input"
    ]
   },
   "outputs": [
    {
     "name": "stdout",
     "output_type": "stream",
     "text": [
      "Using local utilities library\n"
     ]
    }
   ],
   "source": [
    "# Local Utilities Library\n",
    "# you can remove the logic associated with the local path\n",
    "import sys,os\n",
    "relativePath = '../OpsUtils'\n",
    "if os.path.exists(relativePath):\n",
    "    print(\"Using local utilities library\")\n",
    "    PathOpsUtils = os.path.expanduser(relativePath)\n",
    "else:\n",
    "    print('using communitydata')\n",
    "    PathOpsUtils = os.path.expanduser('~/CommunityData/OpenSees/TrainingMaterial/training-OpenSees-on-DesignSafe/OpsUtils')\n",
    "if not PathOpsUtils in sys.path: sys.path.append(PathOpsUtils)\n",
    "from OpsUtils import OpsUtils"
   ]
  },
  {
   "cell_type": "markdown",
   "metadata": {},
   "source": [
    "---\n",
    "## Connect to Tapis"
   ]
  },
  {
   "cell_type": "code",
   "execution_count": 3,
   "metadata": {},
   "outputs": [
    {
     "name": "stdout",
     "output_type": "stream",
     "text": [
      " -- Checking Tapis token --\n",
      " Token loaded from file. Token is still valid!\n",
      " Token expires at: 2025-08-21T09:38:01+00:00\n",
      " Token expires in: 3:55:19.530355\n",
      "-- LOG IN SUCCESSFUL! --\n"
     ]
    }
   ],
   "source": [
    "t=OpsUtils.connect_tapis()"
   ]
  },
  {
   "cell_type": "markdown",
   "metadata": {},
   "source": [
    "---\n",
    "### Get username"
   ]
  },
  {
   "cell_type": "code",
   "execution_count": 4,
   "metadata": {
    "tags": [
     "remove-input"
    ]
   },
   "outputs": [
    {
     "data": {
      "text/html": [
       "\n",
       "                      <details style=\"margin-top:1em; font-family:monospace; background:white; \n",
       "                          padding:0.25em; border-radius:6px; border:1px solid #ccc;\">\n",
       "                        <summary style=\"cursor:pointer; font-weight:bold; background:white; \n",
       "                          padding:0.3em 0.5em; border-radius:4px;\">get_tapis_username.py</summary>\n",
       "\n",
       "                        <button onclick=\"navigator.clipboard.writeText(document.getElementById('dc7d5ca9c8aa42c8b9b494245748a40a').innerText)\">\n",
       "                          📋 Copy\n",
       "                        </button>\n",
       "                        <pre id=\"dc7d5ca9c8aa42c8b9b494245748a40a\" style=\"white-space:pre-wrap; margin:0.25em 0 0 0; \n",
       "                            background:#d4fbff; padding:.3em; border-radius:5px;\">\n",
       "<b># ../OpsUtils/OpsUtils/Tapis/get_tapis_username.py</b>\n",
       "def get_tapis_username(\n",
       "    t,\n",
       "    *,\n",
       "    prefer_userinfo: bool = True,\n",
       "    fallback_to_token: bool = True,\n",
       "    default=None,\n",
       "    verbose: bool = False,\n",
       "):\n",
       "    \"\"\"\n",
       "    Return the Tapis username from an authenticated client `t`, with safe fallbacks.\n",
       "\n",
       "    Resolution order (robust to Tapipy resource objects and dicts):\n",
       "      1) userinfo endpoint (if available):\n",
       "         t.authenticator.get_userinfo().username\n",
       "      2) client attribute:\n",
       "         getattr(t, \"username\", None)\n",
       "      3) token claims (if fallback_to_token=True):\n",
       "         - t.access_token.claims.get(\"tapis/username\") or \"username\"\n",
       "         - t.tokens.validateToken()[\"tapis/username\"] (as a last resort)\n",
       "\n",
       "    Parameters\n",
       "    ----------\n",
       "    t : tapipy.tapis.Tapis\n",
       "        Authenticated Tapis client.\n",
       "    prefer_userinfo : bool, default True\n",
       "        Try `t.authenticator.get_userinfo()` first. Some managed hubs disable this;\n",
       "        if it fails, the function silently falls back.\n",
       "    fallback_to_token : bool, default True\n",
       "        Allow using access-token claims or `validateToken()` as a fallback.\n",
       "    default : Any, default None\n",
       "        Value to return if no username can be determined.\n",
       "    verbose : bool, default False\n",
       "        If True, print brief hints when a resolution step fails.\n",
       "\n",
       "    Returns\n",
       "    -------\n",
       "    str | Any\n",
       "        The resolved username (e.g., \"silvia\"), or `default` if none found.\n",
       "\n",
       "    Notes\n",
       "    -----\n",
       "    - Some deployments restrict the userinfo endpoint; token claims usually work.\n",
       "    - If you always want a strict failure when username can't be found, set\n",
       "      `default=None` (the default) and check for `None` at the call site.\n",
       "\n",
       "    Examples\n",
       "    --------\n",
       "    >>> u = get_tapis_username(t)\n",
       "    >>> if u is None:\n",
       "    ...     raise RuntimeError(\"No Tapis username available\")\n",
       "    ... \n",
       "    >>> print(\"Running as:\", u)\n",
       "    \"\"\"\n",
       "    # 1) userinfo (preferred)\n",
       "    if prefer_userinfo:\n",
       "        try:\n",
       "            ui = t.authenticator.get_userinfo()\n",
       "            uname = getattr(ui, \"username\", None)\n",
       "            if not uname and isinstance(ui, dict):\n",
       "                uname = ui.get(\"username\")\n",
       "            if uname:\n",
       "                return uname\n",
       "            if verbose:\n",
       "                print(\"userinfo returned no 'username'; falling back…\")\n",
       "        except Exception as e:\n",
       "            if verbose:\n",
       "                print(f\"userinfo unavailable: {e}; falling back…\")\n",
       "\n",
       "    # 2) client attribute\n",
       "    try:\n",
       "        uname = getattr(t, \"username\", None)\n",
       "        if uname:\n",
       "            return uname\n",
       "    except Exception:\n",
       "        pass\n",
       "\n",
       "    # 3) token claims (optional)\n",
       "    if fallback_to_token:\n",
       "        # 3a) direct claims on access_token (common in Tapipy)\n",
       "        try:\n",
       "            claims = getattr(getattr(t, \"access_token\", None), \"claims\", None)\n",
       "            if isinstance(claims, dict):\n",
       "                uname = claims.get(\"tapis/username\") or claims.get(\"username\")\n",
       "                if uname:\n",
       "                    return uname\n",
       "        except Exception as e:\n",
       "            if verbose:\n",
       "                print(f\"access_token.claims unavailable: {e}\")\n",
       "\n",
       "        # 3b) validateToken() call\n",
       "        try:\n",
       "            tok = t.tokens.validateToken()\n",
       "            if isinstance(tok, dict):\n",
       "                uname = tok.get(\"tapis/username\") or tok.get(\"username\")\n",
       "                if uname:\n",
       "                    return uname\n",
       "        except Exception as e:\n",
       "            if verbose:\n",
       "                print(f\"tokens.validateToken failed: {e}\")\n",
       "\n",
       "    # Nothing worked\n",
       "    return default\n",
       "</pre>\n",
       "                      </details>\n",
       "                    "
      ],
      "text/plain": [
       "<IPython.core.display.HTML object>"
      ]
     },
     "metadata": {},
     "output_type": "display_data"
    }
   ],
   "source": [
    "OpsUtils.show_text_file_in_accordion(PathOpsUtils, ['get_tapis_username.py'])"
   ]
  },
  {
   "cell_type": "code",
   "execution_count": 5,
   "metadata": {},
   "outputs": [
    {
     "name": "stdout",
     "output_type": "stream",
     "text": [
      "username silvia\n"
     ]
    }
   ],
   "source": [
    "username = OpsUtils.get_tapis_username(t)\n",
    "print('username',username)"
   ]
  },
  {
   "cell_type": "markdown",
   "metadata": {},
   "source": [
    "---\n",
    "## Configure App"
   ]
  },
  {
   "cell_type": "code",
   "execution_count": 6,
   "metadata": {},
   "outputs": [],
   "source": [
    "app_id = 'agnostic-app-test'"
   ]
  },
  {
   "cell_type": "markdown",
   "metadata": {},
   "source": [
    "#### List the app schema"
   ]
  },
  {
   "cell_type": "code",
   "execution_count": 7,
   "metadata": {},
   "outputs": [
    {
     "name": "stdout",
     "output_type": "stream",
     "text": [
      "\n",
      "containerImage: tapis://designsafe.storage.default/silvia/apps/agnostic-app-test/0.0.29/agnostic-app-test.zip\n",
      "created: 2025-08-21T05:42:14.691906Z\n",
      "deleted: False\n",
      "description: Run any Executable\n",
      "enabled: True\n",
      "id: agnostic-app-test\n",
      "isPublic: False\n",
      "jobAttributes: \n",
      "archiveOnAppError: True\n",
      "archiveSystemDir: HOST_EVAL($WORK)/tapis-jobs-archive/${JobCreateDate}/${JobName}-${JobUUID}\n",
      "archiveSystemId: stampede3\n",
      "cmdPrefix: None\n",
      "coresPerNode: 48\n",
      "description: None\n",
      "dtnSystemInputDir: !tapis_not_set\n",
      "dtnSystemOutputDir: !tapis_not_set\n",
      "dynamicExecSystem: False\n",
      "execSystemConstraints: None\n",
      "execSystemExecDir: ${JobWorkingDir}\n",
      "execSystemId: stampede3\n",
      "execSystemInputDir: ${JobWorkingDir}\n",
      "execSystemLogicalQueue: skx\n",
      "execSystemOutputDir: ${JobWorkingDir}\n",
      "fileInputArrays: []\n",
      "fileInputs: [\n",
      "autoMountLocal: True\n",
      "description: Input directory that includes the input script as well as any other required files. Example input is in tapis://designsafe.storage.community/app_examples/opensees/OpenSeesMP\n",
      "envKey: inputDirectory\n",
      "inputMode: REQUIRED\n",
      "name: Input Directory\n",
      "notes: \n",
      "selectionMode: directory\n",
      "sourceUrl: None\n",
      "targetPath: inputDirectory]\n",
      "isMpi: False\n",
      "maxMinutes: 120\n",
      "memoryMB: 192000\n",
      "mpiCmd: None\n",
      "nodeCount: 1\n",
      "parameterSet: \n",
      "appArgs: [\n",
      "arg: OpenSeesMP\n",
      "description: Choose the binary Executable to use.\n",
      "inputMode: REQUIRED\n",
      "name: Main Program\n",
      "notes: \n",
      "enum_values: [\n",
      "OpenSees: OpenSees, \n",
      "OpenSeesMP: OpenSeesMP, \n",
      "OpenSeesSP: OpenSeesSP, \n",
      "python: python], \n",
      "arg: None\n",
      "description: The filename only of the input script to submit to executable. This file should reside in the Input Directory specified.\n",
      "inputMode: REQUIRED\n",
      "name: Main Script\n",
      "notes: \n",
      "inputType: fileInput, \n",
      "arg: None\n",
      "description: Command-Line Arguments (Optional)\n",
      "inputMode: INCLUDE_ON_DEMAND\n",
      "name: CommandLine Arguments\n",
      "notes: \n",
      "]\n",
      "archiveFilter: \n",
      "excludes: ['agnostic-app-test.zip']\n",
      "includeLaunchFiles: True\n",
      "includes: []\n",
      "containerArgs: []\n",
      "envVariables: [\n",
      "description: \n",
      "inputMode: INCLUDE_BY_DEFAULT\n",
      "key: zipFileIn\n",
      "notes: \n",
      "\n",
      "value: , \n",
      "description: \n",
      "inputMode: INCLUDE_BY_DEFAULT\n",
      "key: zipFolderOut\n",
      "notes: \n",
      "\n",
      "value: False, \n",
      "description: \n",
      "inputMode: INCLUDE_BY_DEFAULT\n",
      "key: requirementFile\n",
      "notes: \n",
      "\n",
      "value: ]\n",
      "logConfig: \n",
      "stderrFilename: \n",
      "stdoutFilename: \n",
      "schedulerOptions: [\n",
      "arg: --tapis-profile OpenSees_default\n",
      "description: Scheduler profile for the default version of OpenSees\n",
      "inputMode: FIXED\n",
      "name: OpenSees TACC Scheduler Profile\n",
      "notes: \n",
      "isHidden: True]\n",
      "subscriptions: []\n",
      "tags: []\n",
      "jobType: BATCH\n",
      "locked: False\n",
      "maxJobs: 2147483647\n",
      "maxJobsPerUser: 2147483647\n",
      "notes: \n",
      "category: Simulation\n",
      "helpUrl: \n",
      "hideNodeCountAndCoresPerNode: False\n",
      "icon: OpenSees\n",
      "isInteractive: False\n",
      "label: agnostic-app-test\n",
      "owner: silvia\n",
      "runtime: ZIP\n",
      "runtimeOptions: None\n",
      "runtimeVersion: None\n",
      "sharedAppCtx: silvia\n",
      "sharedWithUsers: []\n",
      "strictFileInputs: False\n",
      "tags: ['portalName: DesignSafe', 'portalName: CEP']\n",
      "tenant: designsafe\n",
      "updated: 2025-08-21T05:42:14.691906Z\n",
      "uuid: e78ead3a-90f4-44ac-b41f-30f59d2486af\n",
      "version: 0.0.29\n",
      "versionEnabled: True\n"
     ]
    }
   ],
   "source": [
    "appMetaData = t.apps.getAppLatestVersion(appId=app_id)\n",
    "print(appMetaData)"
   ]
  },
  {
   "cell_type": "markdown",
   "metadata": {},
   "source": [
    "---\n",
    "## Submit a Job\n",
    "\n",
    "You can now submit a job using this app. You can use the Tapis CLI, Tapipy, or a web form.\n",
    "\n",
    "We are using TapiPy directly from this notebook. We will not specify a version so that the latest is used by default in the description."
   ]
  },
  {
   "cell_type": "markdown",
   "metadata": {},
   "source": [
    "---\n",
    "### Initialize"
   ]
  },
  {
   "cell_type": "code",
   "execution_count": 8,
   "metadata": {},
   "outputs": [],
   "source": [
    "tapisInputAll = {}"
   ]
  },
  {
   "cell_type": "markdown",
   "metadata": {},
   "source": [
    "---\n",
    "### SLURM-Specific Input"
   ]
  },
  {
   "cell_type": "code",
   "execution_count": 9,
   "metadata": {},
   "outputs": [],
   "source": [
    "tapisInputAll[\"maxMinutes\"] = 6\n",
    "\n",
    "tapisInputAll[\"execSystemId\"] = \"stampede3\"\n",
    "tapisInputAll[\"execSystemLogicalQueue\"] = \"skx-dev\"\n",
    "tapisInputAll[\"nodeCount\"] = 1\n",
    "tapisInputAll[\"coresPerNode\"] = 48\n",
    "tapisInputAll[\"allocation\"] = \"DS-HPC1\"\n",
    "\n",
    "tapisInputAll['archive_system']='Work' # Options: MyData or Work"
   ]
  },
  {
   "cell_type": "markdown",
   "metadata": {},
   "source": [
    "---\n",
    "### App-Specific Input"
   ]
  },
  {
   "cell_type": "code",
   "execution_count": 10,
   "metadata": {},
   "outputs": [
    {
     "name": "stdout",
     "output_type": "stream",
     "text": [
      "app_id: agnostic-app-test\n"
     ]
    }
   ],
   "source": [
    "print('app_id:',app_id)"
   ]
  },
  {
   "cell_type": "markdown",
   "metadata": {},
   "source": [
    "### OpenSees"
   ]
  },
  {
   "cell_type": "code",
   "execution_count": 11,
   "metadata": {},
   "outputs": [
    {
     "name": "stdout",
     "output_type": "stream",
     "text": [
      "\n",
      " -- OpenSees_opensees-express --\n",
      "\n",
      "Creating job_description\n",
      "job_description {'name': 'OpenSees_opensees-express', 'maxMinutes': 6, 'appId': 'opensees-express', 'appVersion': 'latest', 'fileInputs': [{'name': 'Input Directory', 'sourceUrl': 'tapis://designsafe.storage.community/OpenSees/TrainingMaterial/training-OpenSees-on-DesignSafe/Examples_OpenSees/BasicExamples'}], 'parameterSet': {'envVariables': [{'key': 'mainProgram', 'value': 'OpenSees'}, {'key': 'tclScript', 'value': 'Ex1a.Canti2D.Push.tcl'}]}, 'archiveSystemId': 'stampede3', 'archiveSystemDir': 'HOST_EVAL($WORK)/tapis-jobs-archive/${JobCreateDate}/${JobName}-${JobUUID}'}\n",
      "Submitting Job\n",
      "Job submitted! ID: d8eddc68-2b70-4669-93e7-25067b95c103-007\n",
      "job_start_time: 1755754966.108333\n",
      "\n",
      "Real-Time Job-Status Updates...\n",
      "--------------------\n",
      "\t Elapsed job time: 1.04 sec\t Current Status: PENDING\n",
      "\t Elapsed job time: 2.07 sec\t Current Status: PROCESSING_INPUTS\t\t(PENDING took 1.03 sec)\n",
      "\t Elapsed job time: 4.18 sec\t Current Status: STAGING_INPUTS\t\t(PROCESSING_INPUTS took 2.11 sec)\n",
      "\t Elapsed job time: 9.38 sec\t Current Status: STAGING_JOB\t\t(STAGING_INPUTS took 5.2 sec)\n",
      "\t Elapsed job time: 15.56 sec\t Current Status: SUBMITTING_JOB\t\t(STAGING_JOB took 6.18 sec)\n",
      "\t Elapsed job time: 16.59 sec\t Current Status: RUNNING\t\t(SUBMITTING_JOB took 1.04 sec)\n",
      "\t Elapsed job time: 17.65 sec\t Current Status: ARCHIVING\t\t(RUNNING took 1.06 sec)\n",
      "\t Elapsed job time: 34.14 sec\t Current Status: FINISHED\t\t(ARCHIVING took 16.49 sec)\n",
      "\t  Status: FINISHED\t Elapsed job time: 34.14 sec\n",
      "--------------------\n",
      "Elapsed time since Job was submitted: 34.14 sec\n",
      "--------------------\n"
     ]
    },
    {
     "data": {
      "application/vnd.jupyter.widget-view+json": {
       "model_id": "6a82e260448d4bd0af4dbb7a90e2b5a3",
       "version_major": 2,
       "version_minor": 0
      },
      "text/plain": [
       "Accordion(children=(Output(),), selected_index=0, titles=('Job STATUS   (d8eddc68-2b70-4669-93e7-25067b95c103-…"
      ]
     },
     "metadata": {},
     "output_type": "display_data"
    },
    {
     "data": {
      "application/vnd.jupyter.widget-view+json": {
       "model_id": "52bfb5e5b2a84403b08f91a5c0ee2cbf",
       "version_major": 2,
       "version_minor": 0
      },
      "text/plain": [
       "Accordion(children=(Output(),), selected_index=0, titles=('Job Metadata   (d8eddc68-2b70-4669-93e7-25067b95c10…"
      ]
     },
     "metadata": {},
     "output_type": "display_data"
    },
    {
     "data": {
      "application/vnd.jupyter.widget-view+json": {
       "model_id": "7c36a1ea18bb42c0be1939dee34a7dec",
       "version_major": 2,
       "version_minor": 0
      },
      "text/plain": [
       "Accordion(children=(Output(),), selected_index=0, titles=('Job History Data   (d8eddc68-2b70-4669-93e7-25067b9…"
      ]
     },
     "metadata": {},
     "output_type": "display_data"
    },
    {
     "data": {
      "application/vnd.jupyter.widget-view+json": {
       "model_id": "4e5debca3d6444b0af9e6498201b854e",
       "version_major": 2,
       "version_minor": 0
      },
      "text/plain": [
       "Accordion(children=(Output(),), selected_index=0, titles=('Job Filedata   (d8eddc68-2b70-4669-93e7-25067b95c10…"
      ]
     },
     "metadata": {},
     "output_type": "display_data"
    },
    {
     "name": "stdout",
     "output_type": "stream",
     "text": [
      "\n",
      " -- OpenSees_agnostic-app-test --\n",
      "\n",
      "Creating job_description\n",
      "job_description {'name': 'OpenSees_agnostic-app-test', 'execSystemId': 'stampede3', 'execSystemLogicalQueue': 'skx-dev', 'maxMinutes': 6, 'nodeCount': 1, 'coresPerNode': 48, 'appId': 'agnostic-app-test', 'appVersion': '0.0.29', 'fileInputs': [{'name': 'Input Directory', 'sourceUrl': 'tapis://designsafe.storage.community/OpenSees/TrainingMaterial/training-OpenSees-on-DesignSafe/Examples_OpenSees/BasicExamples'}], 'parameterSet': {'appArgs': [{'name': 'Main Program', 'arg': 'OpenSees'}, {'name': 'Main Script', 'arg': 'Ex1a.Canti2D.Push.tcl'}, {'name': 'CommandLine Arguments', 'arg': '[33,22]'}], 'envVariables': [{'key': 'zipFileIn', 'value': ''}, {'key': 'zipFolderOut', 'value': 'False'}, {'key': 'requirementFile', 'value': ''}], 'schedulerOptions': [{'name': 'TACC Allocation', 'arg': '-A DS-HPC1'}]}, 'archiveSystemId': 'stampede3', 'archiveSystemDir': 'HOST_EVAL($WORK)/tapis-jobs-archive/${JobCreateDate}/${JobName}-${JobUUID}'}\n",
      "Submitting Job\n",
      "Job submitted! ID: f9914392-5539-48d9-9943-8afc6165bb5b-007\n",
      "job_start_time: 1755755010.192959\n",
      "\n",
      "Real-Time Job-Status Updates...\n",
      "--------------------\n",
      "\t Elapsed job time: 1.05 sec\t Current Status: PENDING\n",
      "\t Elapsed job time: 2.07 sec\t Current Status: STAGING_INPUTS\t\t(PENDING took 1.02 sec)\n",
      "\t Elapsed job time: 27.78 sec\t Current Status: STAGING_JOB\t\t(STAGING_INPUTS took 25.7 sec)\n",
      "\t Elapsed job time: 59.7 sec\t Current Status: SUBMITTING_JOB\t\t(STAGING_JOB took 31.93 sec)\n",
      "\t Elapsed job time: 60.72 sec\t Current Status: QUEUED\t\t(SUBMITTING_JOB took 1.02 sec)\n",
      "\t Elapsed job time: 62.77 sec\t Current Status: RUNNING\t\t(QUEUED took 2.05 sec)\n",
      "\t Elapsed job time: 77.13 sec\t Current Status: ARCHIVING\t\t(RUNNING took 14.36 sec)\n",
      "\t Elapsed job time: 112.02 sec\t Current Status: FINISHED\t\t(ARCHIVING took 34.89 sec)\n",
      "\t  Status: FINISHED\t Elapsed job time: 112.02 sec\n",
      "--------------------\n",
      "Elapsed time since Job was submitted: 112.02 sec\n",
      "--------------------\n"
     ]
    },
    {
     "data": {
      "application/vnd.jupyter.widget-view+json": {
       "model_id": "537b24920e0148dc9bf99d955d1859e0",
       "version_major": 2,
       "version_minor": 0
      },
      "text/plain": [
       "Accordion(children=(Output(),), selected_index=0, titles=('Job STATUS   (f9914392-5539-48d9-9943-8afc6165bb5b-…"
      ]
     },
     "metadata": {},
     "output_type": "display_data"
    },
    {
     "data": {
      "application/vnd.jupyter.widget-view+json": {
       "model_id": "7c7e9f6f87df4917aa8c789ab06d02ce",
       "version_major": 2,
       "version_minor": 0
      },
      "text/plain": [
       "Accordion(children=(Output(),), selected_index=0, titles=('Job Metadata   (f9914392-5539-48d9-9943-8afc6165bb5…"
      ]
     },
     "metadata": {},
     "output_type": "display_data"
    },
    {
     "data": {
      "application/vnd.jupyter.widget-view+json": {
       "model_id": "4a14e129aa5d4889bac948c8a8cbdd9c",
       "version_major": 2,
       "version_minor": 0
      },
      "text/plain": [
       "Accordion(children=(Output(),), selected_index=0, titles=('Job History Data   (f9914392-5539-48d9-9943-8afc616…"
      ]
     },
     "metadata": {},
     "output_type": "display_data"
    },
    {
     "data": {
      "application/vnd.jupyter.widget-view+json": {
       "model_id": "026c3e6add8440069764a627bcfa9913",
       "version_major": 2,
       "version_minor": 0
      },
      "text/plain": [
       "Accordion(children=(Output(),), selected_index=0, titles=('Job Filedata   (f9914392-5539-48d9-9943-8afc6165bb5…"
      ]
     },
     "metadata": {},
     "output_type": "display_data"
    },
    {
     "name": "stdout",
     "output_type": "stream",
     "text": [
      "\n",
      " -- OpenSees_agnostic-app-test_zipFolderOut --\n",
      "\n",
      "Creating job_description\n",
      "job_description {'name': 'OpenSees_agnostic-app-test_zipFolderOut', 'execSystemId': 'stampede3', 'execSystemLogicalQueue': 'skx-dev', 'maxMinutes': 6, 'nodeCount': 1, 'coresPerNode': 48, 'appId': 'agnostic-app-test', 'appVersion': '0.0.29', 'fileInputs': [{'name': 'Input Directory', 'sourceUrl': 'tapis://designsafe.storage.community/OpenSees/TrainingMaterial/training-OpenSees-on-DesignSafe/Examples_OpenSees/BasicExamples'}], 'parameterSet': {'appArgs': [{'name': 'Main Program', 'arg': 'OpenSees'}, {'name': 'Main Script', 'arg': 'Ex1a.Canti2D.Push.tcl'}, {'name': 'CommandLine Arguments', 'arg': '[33,22]'}], 'envVariables': [{'key': 'zipFileIn', 'value': ''}, {'key': 'zipFolderOut', 'value': 'True'}, {'key': 'requirementFile', 'value': ''}], 'schedulerOptions': [{'name': 'TACC Allocation', 'arg': '-A DS-HPC1'}]}, 'archiveSystemId': 'stampede3', 'archiveSystemDir': 'HOST_EVAL($WORK)/tapis-jobs-archive/${JobCreateDate}/${JobName}-${JobUUID}'}\n",
      "Submitting Job\n",
      "Job submitted! ID: 34062500-8f84-4a3f-83ce-86b98a6151a8-007\n",
      "job_start_time: 1755755132.0783622\n",
      "\n",
      "Real-Time Job-Status Updates...\n",
      "--------------------\n",
      "\t Elapsed job time: 1.04 sec\t Current Status: PENDING\n",
      "\t Elapsed job time: 2.08 sec\t Current Status: STAGING_INPUTS\t\t(PENDING took 1.04 sec)\n",
      "\t Elapsed job time: 28.97 sec\t Current Status: STAGING_JOB\t\t(STAGING_INPUTS took 26.89 sec)\n",
      "\t Elapsed job time: 60.93 sec\t Current Status: QUEUED\t\t(STAGING_JOB took 31.96 sec)\n",
      "\t Elapsed job time: 74.28 sec\t Current Status: RUNNING\t\t(QUEUED took 13.34 sec)\n",
      "\t Elapsed job time: 86.6 sec\t Current Status: ARCHIVING\t\t(RUNNING took 12.32 sec)\n",
      "\t Elapsed job time: 112.21 sec\t Current Status: FINISHED\t\t(ARCHIVING took 25.61 sec)\n",
      "\t  Status: FINISHED\t Elapsed job time: 112.21 sec\n",
      "--------------------\n",
      "Elapsed time since Job was submitted: 112.21 sec\n",
      "--------------------\n"
     ]
    },
    {
     "data": {
      "application/vnd.jupyter.widget-view+json": {
       "model_id": "1e5699432d6d45e588207a8f2bdd545a",
       "version_major": 2,
       "version_minor": 0
      },
      "text/plain": [
       "Accordion(children=(Output(),), selected_index=0, titles=('Job STATUS   (34062500-8f84-4a3f-83ce-86b98a6151a8-…"
      ]
     },
     "metadata": {},
     "output_type": "display_data"
    },
    {
     "data": {
      "application/vnd.jupyter.widget-view+json": {
       "model_id": "9739ae0a0b7042a7864469a4de79e570",
       "version_major": 2,
       "version_minor": 0
      },
      "text/plain": [
       "Accordion(children=(Output(),), selected_index=0, titles=('Job Metadata   (34062500-8f84-4a3f-83ce-86b98a6151a…"
      ]
     },
     "metadata": {},
     "output_type": "display_data"
    },
    {
     "data": {
      "application/vnd.jupyter.widget-view+json": {
       "model_id": "b074826491cb498db8b9f8787ff4984a",
       "version_major": 2,
       "version_minor": 0
      },
      "text/plain": [
       "Accordion(children=(Output(),), selected_index=0, titles=('Job History Data   (34062500-8f84-4a3f-83ce-86b98a6…"
      ]
     },
     "metadata": {},
     "output_type": "display_data"
    },
    {
     "data": {
      "application/vnd.jupyter.widget-view+json": {
       "model_id": "cbf9a351e33646dca914e56601c6cef1",
       "version_major": 2,
       "version_minor": 0
      },
      "text/plain": [
       "Accordion(children=(Output(),), selected_index=0, titles=('Job Filedata   (34062500-8f84-4a3f-83ce-86b98a6151a…"
      ]
     },
     "metadata": {},
     "output_type": "display_data"
    }
   ],
   "source": [
    "tapisInput = tapisInputAll.copy()\n",
    "\n",
    "tapisInput['storage_system'] = 'CommunityData'\n",
    "tapisInput['input_folder'] = 'OpenSees/TrainingMaterial/training-OpenSees-on-DesignSafe/Examples_OpenSees/BasicExamples' \n",
    "\n",
    "tapisInput['Main Program'] = 'OpenSees'\n",
    "tapisInput['Main Script'] = 'Ex1a.Canti2D.Push.tcl'\n",
    "\n",
    "tapisInput['CommandLine Arguments'] = '[33,22]'\n",
    "\n",
    "# -----------------------------------------------------\n",
    "for hereApp in ['opensees-express',app_id]:\n",
    "    here_tapisInput = tapisInput.copy()\n",
    "    here_tapisInput[\"appId\"] = hereApp \n",
    "    here_tapisInput[\"name\"] = here_tapisInput['Main Program'] + '_' + here_tapisInput[\"appId\"]\n",
    "    print(f'\\n -- {here_tapisInput['name']} --\\n')\n",
    "    jobReturns = OpsUtils.run_tapis_job(t,here_tapisInput,get_job_metadata=True,get_job_history=True,get_job_filedata=True,askConfirmJob = False,askConfirmMonitorRT = False)\n",
    "    if hereApp == app_id:\n",
    "        here_tapisInput['zipFolderOut'] = 'True'\n",
    "        here_tapisInput[\"name\"] = here_tapisInput['Main Program'] + '_' + here_tapisInput[\"appId\"] + '_' + 'zipFolderOut'\n",
    "        print(f'\\n -- {here_tapisInput['name']} --\\n')\n",
    "        jobReturns = OpsUtils.run_tapis_job(t,here_tapisInput,get_job_metadata=True,get_job_history=True,get_job_filedata=True,askConfirmJob = False,askConfirmMonitorRT = False)\n",
    "# -----------------------------------------------------"
   ]
  },
  {
   "cell_type": "markdown",
   "metadata": {},
   "source": [
    "### OpenSeesMP"
   ]
  },
  {
   "cell_type": "code",
   "execution_count": 12,
   "metadata": {},
   "outputs": [
    {
     "name": "stdout",
     "output_type": "stream",
     "text": [
      "\n",
      " -- OpenSeesMP_opensees-mp-s3 --\n",
      "\n",
      "Creating job_description\n",
      "job_description {'name': 'OpenSeesMP_opensees-mp-s3', 'execSystemId': 'stampede3', 'execSystemLogicalQueue': 'skx-dev', 'maxMinutes': 6, 'nodeCount': 1, 'coresPerNode': 48, 'appId': 'opensees-mp-s3', 'appVersion': 'latest', 'fileInputs': [{'name': 'Input Directory', 'sourceUrl': 'tapis://designsafe.storage.community/OpenSees/TrainingMaterial/training-OpenSees-on-DesignSafe/Examples_OpenSees/BasicExamples'}], 'parameterSet': {'appArgs': [{'name': 'Main Script', 'arg': 'Ex1a_many.Canti2D.Push.mp.tcl'}], 'envVariables': [], 'schedulerOptions': [{'name': 'TACC Allocation', 'arg': '-A DS-HPC1'}]}, 'archiveSystemId': 'stampede3', 'archiveSystemDir': 'HOST_EVAL($WORK)/tapis-jobs-archive/${JobCreateDate}/${JobName}-${JobUUID}'}\n",
      "Submitting Job\n",
      "Job submitted! ID: a49e1546-5eb3-4f4f-a49b-fa14af91f244-007\n",
      "job_start_time: 1755755252.1832323\n",
      "\n",
      "Real-Time Job-Status Updates...\n",
      "--------------------\n",
      "\t Elapsed job time: 1.05 sec\t Current Status: PENDING\n",
      "\t Elapsed job time: 2.08 sec\t Current Status: STAGING_INPUTS\t\t(PENDING took 1.03 sec)\n",
      "\t Elapsed job time: 38.1 sec\t Current Status: STAGING_JOB\t\t(STAGING_INPUTS took 36.02 sec)\n",
      "\t Elapsed job time: 70.39 sec\t Current Status: SUBMITTING_JOB\t\t(STAGING_JOB took 32.29 sec)\n",
      "\t Elapsed job time: 71.42 sec\t Current Status: QUEUED\t\t(SUBMITTING_JOB took 1.03 sec)\n",
      "\t Elapsed job time: 73.47 sec\t Current Status: RUNNING\t\t(QUEUED took 2.05 sec)\n",
      "\t Elapsed job time: 87.95 sec\t Current Status: ARCHIVING\t\t(RUNNING took 14.48 sec)\n",
      "\t Elapsed job time: 132.67 sec\t Current Status: FINISHED\t\t(ARCHIVING took 44.72 sec)\n",
      "\t  Status: FINISHED\t Elapsed job time: 132.67 sec\n",
      "--------------------\n",
      "Elapsed time since Job was submitted: 132.67 sec\n",
      "--------------------\n"
     ]
    },
    {
     "data": {
      "application/vnd.jupyter.widget-view+json": {
       "model_id": "720adaf04a1b41f799803bad3785dec8",
       "version_major": 2,
       "version_minor": 0
      },
      "text/plain": [
       "Accordion(children=(Output(),), selected_index=0, titles=('Job STATUS   (a49e1546-5eb3-4f4f-a49b-fa14af91f244-…"
      ]
     },
     "metadata": {},
     "output_type": "display_data"
    },
    {
     "data": {
      "application/vnd.jupyter.widget-view+json": {
       "model_id": "ca33d07067d249a7b7e6f9a2ec8439cb",
       "version_major": 2,
       "version_minor": 0
      },
      "text/plain": [
       "Accordion(children=(Output(),), selected_index=0, titles=('Job Metadata   (a49e1546-5eb3-4f4f-a49b-fa14af91f24…"
      ]
     },
     "metadata": {},
     "output_type": "display_data"
    },
    {
     "data": {
      "application/vnd.jupyter.widget-view+json": {
       "model_id": "149b26a428954c788f1be552c9640b6f",
       "version_major": 2,
       "version_minor": 0
      },
      "text/plain": [
       "Accordion(children=(Output(),), selected_index=0, titles=('Job History Data   (a49e1546-5eb3-4f4f-a49b-fa14af9…"
      ]
     },
     "metadata": {},
     "output_type": "display_data"
    },
    {
     "data": {
      "application/vnd.jupyter.widget-view+json": {
       "model_id": "7c742f9270bb4be18bc2be93a1fbcf87",
       "version_major": 2,
       "version_minor": 0
      },
      "text/plain": [
       "Accordion(children=(Output(),), selected_index=0, titles=('Job Filedata   (a49e1546-5eb3-4f4f-a49b-fa14af91f24…"
      ]
     },
     "metadata": {},
     "output_type": "display_data"
    },
    {
     "name": "stdout",
     "output_type": "stream",
     "text": [
      "\n",
      " -- OpenSeesMP_agnostic-app-test --\n",
      "\n",
      "Creating job_description\n",
      "job_description {'name': 'OpenSeesMP_agnostic-app-test', 'execSystemId': 'stampede3', 'execSystemLogicalQueue': 'skx-dev', 'maxMinutes': 6, 'nodeCount': 1, 'coresPerNode': 48, 'appId': 'agnostic-app-test', 'appVersion': '0.0.29', 'fileInputs': [{'name': 'Input Directory', 'sourceUrl': 'tapis://designsafe.storage.community/OpenSees/TrainingMaterial/training-OpenSees-on-DesignSafe/Examples_OpenSees/BasicExamples'}], 'parameterSet': {'appArgs': [{'name': 'Main Program', 'arg': 'OpenSeesMP'}, {'name': 'Main Script', 'arg': 'Ex1a_many.Canti2D.Push.mp.tcl'}, {'name': 'CommandLine Arguments', 'arg': '[33,22]'}], 'envVariables': [{'key': 'zipFileIn', 'value': ''}, {'key': 'zipFolderOut', 'value': 'False'}, {'key': 'requirementFile', 'value': ''}], 'schedulerOptions': [{'name': 'TACC Allocation', 'arg': '-A DS-HPC1'}]}, 'archiveSystemId': 'stampede3', 'archiveSystemDir': 'HOST_EVAL($WORK)/tapis-jobs-archive/${JobCreateDate}/${JobName}-${JobUUID}'}\n",
      "Submitting Job\n",
      "Job submitted! ID: 66f9acc7-8284-4905-a948-c907786fb367-007\n",
      "job_start_time: 1755755394.9063432\n",
      "\n",
      "Real-Time Job-Status Updates...\n",
      "--------------------\n",
      "\t Elapsed job time: 1.04 sec\t Current Status: PENDING\n",
      "\t Elapsed job time: 2.07 sec\t Current Status: STAGING_INPUTS\t\t(PENDING took 1.03 sec)\n",
      "\t Elapsed job time: 8.26 sec\t Current Status: STAGING_JOB\t\t(STAGING_INPUTS took 6.19 sec)\n",
      "\t Elapsed job time: 24.81 sec\t Current Status: SUBMITTING_JOB\t\t(STAGING_JOB took 16.55 sec)\n",
      "\t Elapsed job time: 25.84 sec\t Current Status: QUEUED\t\t(SUBMITTING_JOB took 1.03 sec)\n",
      "\t Elapsed job time: 27.89 sec\t Current Status: RUNNING\t\t(QUEUED took 2.05 sec)\n",
      "\t Elapsed job time: 44.66 sec\t Current Status: ARCHIVING\t\t(RUNNING took 16.77 sec)\n",
      "\t Elapsed job time: 64.85 sec\t Current Status: FINISHED\t\t(ARCHIVING took 20.2 sec)\n",
      "\t  Status: FINISHED\t Elapsed job time: 64.86 sec\n",
      "--------------------\n",
      "Elapsed time since Job was submitted: 64.86 sec\n",
      "--------------------\n"
     ]
    },
    {
     "data": {
      "application/vnd.jupyter.widget-view+json": {
       "model_id": "14f3283849d34c2195f15c0abe5bb35f",
       "version_major": 2,
       "version_minor": 0
      },
      "text/plain": [
       "Accordion(children=(Output(),), selected_index=0, titles=('Job STATUS   (66f9acc7-8284-4905-a948-c907786fb367-…"
      ]
     },
     "metadata": {},
     "output_type": "display_data"
    },
    {
     "data": {
      "application/vnd.jupyter.widget-view+json": {
       "model_id": "ed08756fb1144755a6e026ceee6d4be5",
       "version_major": 2,
       "version_minor": 0
      },
      "text/plain": [
       "Accordion(children=(Output(),), selected_index=0, titles=('Job Metadata   (66f9acc7-8284-4905-a948-c907786fb36…"
      ]
     },
     "metadata": {},
     "output_type": "display_data"
    },
    {
     "data": {
      "application/vnd.jupyter.widget-view+json": {
       "model_id": "8ca3f473025d4a9ab6d33e8ad4f2df78",
       "version_major": 2,
       "version_minor": 0
      },
      "text/plain": [
       "Accordion(children=(Output(),), selected_index=0, titles=('Job History Data   (66f9acc7-8284-4905-a948-c907786…"
      ]
     },
     "metadata": {},
     "output_type": "display_data"
    },
    {
     "data": {
      "application/vnd.jupyter.widget-view+json": {
       "model_id": "a84f2ee1ca914c818d06b3ce9b55a3b4",
       "version_major": 2,
       "version_minor": 0
      },
      "text/plain": [
       "Accordion(children=(Output(),), selected_index=0, titles=('Job Filedata   (66f9acc7-8284-4905-a948-c907786fb36…"
      ]
     },
     "metadata": {},
     "output_type": "display_data"
    },
    {
     "name": "stdout",
     "output_type": "stream",
     "text": [
      "\n",
      " -- OpenSeesMP_agnostic-app-test_zipFolderOut --\n",
      "\n",
      "Creating job_description\n",
      "job_description {'name': 'OpenSeesMP_agnostic-app-test_zipFolderOut', 'execSystemId': 'stampede3', 'execSystemLogicalQueue': 'skx-dev', 'maxMinutes': 6, 'nodeCount': 1, 'coresPerNode': 48, 'appId': 'agnostic-app-test', 'appVersion': '0.0.29', 'fileInputs': [{'name': 'Input Directory', 'sourceUrl': 'tapis://designsafe.storage.community/OpenSees/TrainingMaterial/training-OpenSees-on-DesignSafe/Examples_OpenSees/BasicExamples'}], 'parameterSet': {'appArgs': [{'name': 'Main Program', 'arg': 'OpenSeesMP'}, {'name': 'Main Script', 'arg': 'Ex1a_many.Canti2D.Push.mp.tcl'}, {'name': 'CommandLine Arguments', 'arg': '[33,22]'}], 'envVariables': [{'key': 'zipFileIn', 'value': ''}, {'key': 'zipFolderOut', 'value': 'True'}, {'key': 'requirementFile', 'value': ''}], 'schedulerOptions': [{'name': 'TACC Allocation', 'arg': '-A DS-HPC1'}]}, 'archiveSystemId': 'stampede3', 'archiveSystemDir': 'HOST_EVAL($WORK)/tapis-jobs-archive/${JobCreateDate}/${JobName}-${JobUUID}'}\n",
      "Submitting Job\n",
      "Job submitted! ID: f211e8a1-7434-4df4-ab80-7a4be4aa8d5c-007\n",
      "job_start_time: 1755755469.9501948\n",
      "\n",
      "Real-Time Job-Status Updates...\n",
      "--------------------\n",
      "\t Elapsed job time: 1.04 sec\t Current Status: PENDING\n",
      "\t Elapsed job time: 2.07 sec\t Current Status: STAGING_INPUTS\t\t(PENDING took 1.03 sec)\n",
      "\t Elapsed job time: 38.14 sec\t Current Status: STAGING_JOB\t\t(STAGING_INPUTS took 36.07 sec)\n",
      "\t Elapsed job time: 70.06 sec\t Current Status: SUBMITTING_JOB\t\t(STAGING_JOB took 31.92 sec)\n",
      "\t Elapsed job time: 71.08 sec\t Current Status: QUEUED\t\t(SUBMITTING_JOB took 1.02 sec)\n",
      "\t Elapsed job time: 73.14 sec\t Current Status: RUNNING\t\t(QUEUED took 2.06 sec)\n",
      "\t Elapsed job time: 98.82 sec\t Current Status: ARCHIVING\t\t(RUNNING took 25.68 sec)\n",
      "\t Elapsed job time: 122.09 sec\t Current Status: FINISHED\t\t(ARCHIVING took 23.27 sec)\n",
      "\t  Status: FINISHED\t Elapsed job time: 122.09 sec\n",
      "--------------------\n",
      "Elapsed time since Job was submitted: 122.09 sec\n",
      "--------------------\n"
     ]
    },
    {
     "data": {
      "application/vnd.jupyter.widget-view+json": {
       "model_id": "1a084ad33c2a454cb14d566d7b37e965",
       "version_major": 2,
       "version_minor": 0
      },
      "text/plain": [
       "Accordion(children=(Output(),), selected_index=0, titles=('Job STATUS   (f211e8a1-7434-4df4-ab80-7a4be4aa8d5c-…"
      ]
     },
     "metadata": {},
     "output_type": "display_data"
    },
    {
     "data": {
      "application/vnd.jupyter.widget-view+json": {
       "model_id": "da705d86ba8643dd85d2bc1f10ff4ca1",
       "version_major": 2,
       "version_minor": 0
      },
      "text/plain": [
       "Accordion(children=(Output(),), selected_index=0, titles=('Job Metadata   (f211e8a1-7434-4df4-ab80-7a4be4aa8d5…"
      ]
     },
     "metadata": {},
     "output_type": "display_data"
    },
    {
     "data": {
      "application/vnd.jupyter.widget-view+json": {
       "model_id": "3cd824d3bdf942339e04f3fca3113137",
       "version_major": 2,
       "version_minor": 0
      },
      "text/plain": [
       "Accordion(children=(Output(),), selected_index=0, titles=('Job History Data   (f211e8a1-7434-4df4-ab80-7a4be4a…"
      ]
     },
     "metadata": {},
     "output_type": "display_data"
    },
    {
     "data": {
      "application/vnd.jupyter.widget-view+json": {
       "model_id": "6aed908cbf7546869c19a05b786f2146",
       "version_major": 2,
       "version_minor": 0
      },
      "text/plain": [
       "Accordion(children=(Output(),), selected_index=0, titles=('Job Filedata   (f211e8a1-7434-4df4-ab80-7a4be4aa8d5…"
      ]
     },
     "metadata": {},
     "output_type": "display_data"
    }
   ],
   "source": [
    "tapisInput = tapisInputAll.copy()\n",
    "\n",
    "tapisInput['storage_system'] = 'CommunityData'\n",
    "tapisInput['input_folder'] = 'OpenSees/TrainingMaterial/training-OpenSees-on-DesignSafe/Examples_OpenSees/BasicExamples' \n",
    "\n",
    "tapisInput['Main Program'] = 'OpenSeesMP'\n",
    "tapisInput['Main Script'] = 'Ex1a_many.Canti2D.Push.mp.tcl'\n",
    "\n",
    "tapisInput['CommandLine Arguments'] = '[33,22]'\n",
    "\n",
    "# -----------------------------------------------------\n",
    "for hereApp in ['opensees-mp-s3',app_id]:\n",
    "    here_tapisInput = tapisInput.copy()\n",
    "    here_tapisInput[\"appId\"] = hereApp \n",
    "    here_tapisInput[\"name\"] = here_tapisInput['Main Program'] + '_' + here_tapisInput[\"appId\"]\n",
    "    print(f'\\n -- {here_tapisInput['name']} --\\n')\n",
    "    jobReturns = OpsUtils.run_tapis_job(t,here_tapisInput,get_job_metadata=True,get_job_history=True,get_job_filedata=True,askConfirmJob = False,askConfirmMonitorRT = False)\n",
    "    if hereApp == app_id:\n",
    "        here_tapisInput['zipFolderOut'] = 'True'\n",
    "        here_tapisInput[\"name\"] = here_tapisInput['Main Program'] + '_' + here_tapisInput[\"appId\"] + '_' + 'zipFolderOut'\n",
    "        print(f'\\n -- {here_tapisInput['name']} --\\n')\n",
    "        jobReturns = OpsUtils.run_tapis_job(t,here_tapisInput,get_job_metadata=True,get_job_history=True,get_job_filedata=True,askConfirmJob = False,askConfirmMonitorRT = False)\n",
    "# -----------------------------------------------------"
   ]
  },
  {
   "cell_type": "markdown",
   "metadata": {},
   "source": [
    "### OpenSeesSP"
   ]
  },
  {
   "cell_type": "code",
   "execution_count": 14,
   "metadata": {},
   "outputs": [
    {
     "name": "stdout",
     "output_type": "stream",
     "text": [
      "\n",
      " -- OpenSeesSP_opensees-sp-s3 --\n",
      "\n",
      "Creating job_description\n",
      "job_description {'name': 'OpenSeesSP_opensees-sp-s3', 'execSystemId': 'stampede3', 'execSystemLogicalQueue': 'skx-dev', 'maxMinutes': 6, 'nodeCount': 1, 'coresPerNode': 48, 'appId': 'opensees-sp-s3', 'appVersion': 'latest', 'fileInputs': [{'name': 'Input Directory', 'sourceUrl': 'tapis://designsafe.storage.community/OpenSees/TrainingMaterial/training-OpenSees-on-DesignSafe/Examples_OpenSees/BasicExamples'}], 'parameterSet': {'appArgs': [{'name': 'Main Script', 'arg': 'simpleSP.tcl'}], 'envVariables': [], 'schedulerOptions': [{'name': 'TACC Allocation', 'arg': '-A DS-HPC1'}]}, 'archiveSystemId': 'stampede3', 'archiveSystemDir': 'HOST_EVAL($WORK)/tapis-jobs-archive/${JobCreateDate}/${JobName}-${JobUUID}'}\n",
      "Submitting Job\n",
      "Job submitted! ID: 7dbdef22-5044-41fa-9944-d9a406946fba-007\n",
      "job_start_time: 1755757636.8082068\n",
      "\n",
      "Real-Time Job-Status Updates...\n",
      "--------------------\n",
      "\t Elapsed job time: 1.05 sec\t Current Status: PENDING\n",
      "\t Elapsed job time: 2.11 sec\t Current Status: PROCESSING_INPUTS\t\t(PENDING took 1.06 sec)\n",
      "\t Elapsed job time: 5.19 sec\t Current Status: STAGING_INPUTS\t\t(PROCESSING_INPUTS took 3.08 sec)\n",
      "\t Elapsed job time: 41.17 sec\t Current Status: STAGING_JOB\t\t(STAGING_INPUTS took 35.97 sec)\n",
      "\t Elapsed job time: 73.17 sec\t Current Status: QUEUED\t\t(STAGING_JOB took 32.0 sec)\n",
      "\t Elapsed job time: 86.53 sec\t Current Status: RUNNING\t\t(QUEUED took 13.37 sec)\n",
      "\t Elapsed job time: 98.86 sec\t Current Status: ARCHIVING\t\t(RUNNING took 12.33 sec)\n",
      "\t Elapsed job time: 152.49 sec\t Current Status: FINISHED\t\t(ARCHIVING took 53.63 sec)\n",
      "\t  Status: FINISHED\t Elapsed job time: 152.49 sec\n",
      "--------------------\n",
      "Elapsed time since Job was submitted: 152.49 sec\n",
      "--------------------\n"
     ]
    },
    {
     "data": {
      "application/vnd.jupyter.widget-view+json": {
       "model_id": "f56a0935e790477b8b4d17f028357fed",
       "version_major": 2,
       "version_minor": 0
      },
      "text/plain": [
       "Accordion(children=(Output(),), selected_index=0, titles=('Job STATUS   (7dbdef22-5044-41fa-9944-d9a406946fba-…"
      ]
     },
     "metadata": {},
     "output_type": "display_data"
    },
    {
     "data": {
      "application/vnd.jupyter.widget-view+json": {
       "model_id": "ec7ea34ac87b45729e702d25c05edb20",
       "version_major": 2,
       "version_minor": 0
      },
      "text/plain": [
       "Accordion(children=(Output(),), selected_index=0, titles=('Job Metadata   (7dbdef22-5044-41fa-9944-d9a406946fb…"
      ]
     },
     "metadata": {},
     "output_type": "display_data"
    },
    {
     "data": {
      "application/vnd.jupyter.widget-view+json": {
       "model_id": "b2b8a5c915764d9da15fe5ebb9fbe482",
       "version_major": 2,
       "version_minor": 0
      },
      "text/plain": [
       "Accordion(children=(Output(),), selected_index=0, titles=('Job History Data   (7dbdef22-5044-41fa-9944-d9a4069…"
      ]
     },
     "metadata": {},
     "output_type": "display_data"
    },
    {
     "data": {
      "application/vnd.jupyter.widget-view+json": {
       "model_id": "1af337a703704131afa3942f7fad833d",
       "version_major": 2,
       "version_minor": 0
      },
      "text/plain": [
       "Accordion(children=(Output(),), selected_index=0, titles=('Job Filedata   (7dbdef22-5044-41fa-9944-d9a406946fb…"
      ]
     },
     "metadata": {},
     "output_type": "display_data"
    },
    {
     "name": "stdout",
     "output_type": "stream",
     "text": [
      "\n",
      " -- OpenSeesSP_agnostic-app-test --\n",
      "\n",
      "Creating job_description\n",
      "job_description {'name': 'OpenSeesSP_agnostic-app-test', 'execSystemId': 'stampede3', 'execSystemLogicalQueue': 'skx-dev', 'maxMinutes': 6, 'nodeCount': 1, 'coresPerNode': 48, 'appId': 'agnostic-app-test', 'appVersion': '0.0.29', 'fileInputs': [{'name': 'Input Directory', 'sourceUrl': 'tapis://designsafe.storage.community/OpenSees/TrainingMaterial/training-OpenSees-on-DesignSafe/Examples_OpenSees/BasicExamples'}], 'parameterSet': {'appArgs': [{'name': 'Main Program', 'arg': 'OpenSeesSP'}, {'name': 'Main Script', 'arg': 'simpleSP.tcl'}, {'name': 'CommandLine Arguments', 'arg': '[33,22]'}], 'envVariables': [{'key': 'zipFileIn', 'value': ''}, {'key': 'zipFolderOut', 'value': 'False'}, {'key': 'requirementFile', 'value': ''}], 'schedulerOptions': [{'name': 'TACC Allocation', 'arg': '-A DS-HPC1'}]}, 'archiveSystemId': 'stampede3', 'archiveSystemDir': 'HOST_EVAL($WORK)/tapis-jobs-archive/${JobCreateDate}/${JobName}-${JobUUID}'}\n",
      "Submitting Job\n",
      "Job submitted! ID: 663b87e1-8ed9-4849-aebc-06c263ba74cf-007\n",
      "job_start_time: 1755757797.486421\n",
      "\n",
      "Real-Time Job-Status Updates...\n",
      "--------------------\n",
      "\t Elapsed job time: 1.05 sec\t Current Status: PENDING\n",
      "\t Elapsed job time: 2.08 sec\t Current Status: PROCESSING_INPUTS\t\t(PENDING took 1.03 sec)\n",
      "\t Elapsed job time: 3.11 sec\t Current Status: STAGING_INPUTS\t\t(PROCESSING_INPUTS took 1.02 sec)\n",
      "\t Elapsed job time: 38.13 sec\t Current Status: STAGING_JOB\t\t(STAGING_INPUTS took 35.02 sec)\n",
      "\t Elapsed job time: 80.35 sec\t Current Status: SUBMITTING_JOB\t\t(STAGING_JOB took 42.22 sec)\n",
      "\t Elapsed job time: 81.41 sec\t Current Status: QUEUED\t\t(SUBMITTING_JOB took 1.06 sec)\n",
      "\t Elapsed job time: 83.48 sec\t Current Status: RUNNING\t\t(QUEUED took 2.07 sec)\n",
      "\t Elapsed job time: 122.13 sec\t Current Status: ARCHIVING\t\t(RUNNING took 38.65 sec)\n",
      "\t Elapsed job time: 127.18 sec\t Current Status: FINISHED\t\t(ARCHIVING took 5.05 sec)\n",
      "\t  Status: FINISHED\t Elapsed job time: 127.18 sec\n",
      "--------------------\n",
      "Elapsed time since Job was submitted: 127.18 sec\n",
      "--------------------\n"
     ]
    },
    {
     "data": {
      "application/vnd.jupyter.widget-view+json": {
       "model_id": "8092032a52564103aece90e0ecf99f80",
       "version_major": 2,
       "version_minor": 0
      },
      "text/plain": [
       "Accordion(children=(Output(),), selected_index=0, titles=('Job STATUS   (663b87e1-8ed9-4849-aebc-06c263ba74cf-…"
      ]
     },
     "metadata": {},
     "output_type": "display_data"
    },
    {
     "data": {
      "application/vnd.jupyter.widget-view+json": {
       "model_id": "6972d0de765f460881d5ddf28dd0c315",
       "version_major": 2,
       "version_minor": 0
      },
      "text/plain": [
       "Accordion(children=(Output(),), selected_index=0, titles=('Job Metadata   (663b87e1-8ed9-4849-aebc-06c263ba74c…"
      ]
     },
     "metadata": {},
     "output_type": "display_data"
    },
    {
     "data": {
      "application/vnd.jupyter.widget-view+json": {
       "model_id": "7c7a3d174b4446d69ff639443628a5fa",
       "version_major": 2,
       "version_minor": 0
      },
      "text/plain": [
       "Accordion(children=(Output(),), selected_index=0, titles=('Job History Data   (663b87e1-8ed9-4849-aebc-06c263b…"
      ]
     },
     "metadata": {},
     "output_type": "display_data"
    },
    {
     "data": {
      "application/vnd.jupyter.widget-view+json": {
       "model_id": "4c734a9b232f4781aad9098605635041",
       "version_major": 2,
       "version_minor": 0
      },
      "text/plain": [
       "Accordion(children=(Output(),), selected_index=0, titles=('Job Filedata   (663b87e1-8ed9-4849-aebc-06c263ba74c…"
      ]
     },
     "metadata": {},
     "output_type": "display_data"
    },
    {
     "name": "stdout",
     "output_type": "stream",
     "text": [
      "\n",
      " -- OpenSeesSP_agnostic-app-test_zipFolderOut --\n",
      "\n",
      "Creating job_description\n",
      "job_description {'name': 'OpenSeesSP_agnostic-app-test_zipFolderOut', 'execSystemId': 'stampede3', 'execSystemLogicalQueue': 'skx-dev', 'maxMinutes': 6, 'nodeCount': 1, 'coresPerNode': 48, 'appId': 'agnostic-app-test', 'appVersion': '0.0.29', 'fileInputs': [{'name': 'Input Directory', 'sourceUrl': 'tapis://designsafe.storage.community/OpenSees/TrainingMaterial/training-OpenSees-on-DesignSafe/Examples_OpenSees/BasicExamples'}], 'parameterSet': {'appArgs': [{'name': 'Main Program', 'arg': 'OpenSeesSP'}, {'name': 'Main Script', 'arg': 'simpleSP.tcl'}, {'name': 'CommandLine Arguments', 'arg': '[33,22]'}], 'envVariables': [{'key': 'zipFileIn', 'value': ''}, {'key': 'zipFolderOut', 'value': 'True'}, {'key': 'requirementFile', 'value': ''}], 'schedulerOptions': [{'name': 'TACC Allocation', 'arg': '-A DS-HPC1'}]}, 'archiveSystemId': 'stampede3', 'archiveSystemDir': 'HOST_EVAL($WORK)/tapis-jobs-archive/${JobCreateDate}/${JobName}-${JobUUID}'}\n",
      "Submitting Job\n",
      "Job submitted! ID: 01a39616-1311-4ef4-abde-6eae13752174-007\n",
      "job_start_time: 1755757933.695334\n",
      "\n",
      "Real-Time Job-Status Updates...\n",
      "--------------------\n",
      "\t Elapsed job time: 1.1 sec\t Current Status: PENDING\n",
      "\t Elapsed job time: 2.13 sec\t Current Status: STAGING_INPUTS\t\t(PENDING took 1.03 sec)\n",
      "\t Elapsed job time: 38.17 sec\t Current Status: STAGING_JOB\t\t(STAGING_INPUTS took 36.03 sec)\n",
      "\t Elapsed job time: 70.24 sec\t Current Status: SUBMITTING_JOB\t\t(STAGING_JOB took 32.07 sec)\n",
      "\t Elapsed job time: 71.44 sec\t Current Status: QUEUED\t\t(SUBMITTING_JOB took 1.2 sec)\n",
      "\t Elapsed job time: 84.77 sec\t Current Status: RUNNING\t\t(QUEUED took 13.33 sec)\n",
      "\t Elapsed job time: 97.11 sec\t Current Status: ARCHIVING\t\t(RUNNING took 12.34 sec)\n",
      "\t Elapsed job time: 132.57 sec\t Current Status: FINISHED\t\t(ARCHIVING took 35.46 sec)\n",
      "\t  Status: FINISHED\t Elapsed job time: 132.57 sec\n",
      "--------------------\n",
      "Elapsed time since Job was submitted: 132.57 sec\n",
      "--------------------\n"
     ]
    },
    {
     "data": {
      "application/vnd.jupyter.widget-view+json": {
       "model_id": "64ec2038b488494ab80d05d8ab978644",
       "version_major": 2,
       "version_minor": 0
      },
      "text/plain": [
       "Accordion(children=(Output(),), selected_index=0, titles=('Job STATUS   (01a39616-1311-4ef4-abde-6eae13752174-…"
      ]
     },
     "metadata": {},
     "output_type": "display_data"
    },
    {
     "data": {
      "application/vnd.jupyter.widget-view+json": {
       "model_id": "4c416ed440f24171a51aaea1c9393ddb",
       "version_major": 2,
       "version_minor": 0
      },
      "text/plain": [
       "Accordion(children=(Output(),), selected_index=0, titles=('Job Metadata   (01a39616-1311-4ef4-abde-6eae1375217…"
      ]
     },
     "metadata": {},
     "output_type": "display_data"
    },
    {
     "data": {
      "application/vnd.jupyter.widget-view+json": {
       "model_id": "74a435361882489fa811226ae0ec2be0",
       "version_major": 2,
       "version_minor": 0
      },
      "text/plain": [
       "Accordion(children=(Output(),), selected_index=0, titles=('Job History Data   (01a39616-1311-4ef4-abde-6eae137…"
      ]
     },
     "metadata": {},
     "output_type": "display_data"
    },
    {
     "data": {
      "application/vnd.jupyter.widget-view+json": {
       "model_id": "1f198d414527452db6f18c4a95ddee33",
       "version_major": 2,
       "version_minor": 0
      },
      "text/plain": [
       "Accordion(children=(Output(),), selected_index=0, titles=('Job Filedata   (01a39616-1311-4ef4-abde-6eae1375217…"
      ]
     },
     "metadata": {},
     "output_type": "display_data"
    }
   ],
   "source": [
    "tapisInput = tapisInputAll.copy()\n",
    "\n",
    "tapisInput['storage_system'] = 'CommunityData'\n",
    "tapisInput['input_folder'] = 'OpenSees/TrainingMaterial/training-OpenSees-on-DesignSafe/Examples_OpenSees/BasicExamples' \n",
    "\n",
    "tapisInput['Main Program'] = 'OpenSeesSP'\n",
    "tapisInput['Main Script'] = 'simpleSP.tcl'\n",
    "\n",
    "tapisInput['CommandLine Arguments'] = '[33,22]'\n",
    "\n",
    "# -----------------------------------------------------\n",
    "for hereApp in ['opensees-sp-s3',app_id]:\n",
    "    here_tapisInput = tapisInput.copy()\n",
    "    here_tapisInput[\"appId\"] = hereApp \n",
    "    here_tapisInput[\"name\"] = here_tapisInput['Main Program'] + '_' + here_tapisInput[\"appId\"]\n",
    "    print(f'\\n -- {here_tapisInput['name']} --\\n')\n",
    "    jobReturns = OpsUtils.run_tapis_job(t,here_tapisInput,get_job_metadata=True,get_job_history=True,get_job_filedata=True,askConfirmJob = False,askConfirmMonitorRT = False)\n",
    "    if hereApp == app_id:\n",
    "        here_tapisInput['zipFolderOut'] = 'True'\n",
    "        here_tapisInput[\"name\"] = here_tapisInput['Main Program'] + '_' + here_tapisInput[\"appId\"] + '_' + 'zipFolderOut'\n",
    "        print(f'\\n -- {here_tapisInput['name']} --\\n')\n",
    "        jobReturns = OpsUtils.run_tapis_job(t,here_tapisInput,get_job_metadata=True,get_job_history=True,get_job_filedata=True,askConfirmJob = False,askConfirmMonitorRT = False)\n",
    "# -----------------------------------------------------"
   ]
  },
  {
   "cell_type": "markdown",
   "metadata": {},
   "source": [
    "### OpenSeesPy"
   ]
  },
  {
   "cell_type": "code",
   "execution_count": 15,
   "metadata": {},
   "outputs": [
    {
     "name": "stdout",
     "output_type": "stream",
     "text": [
      "\n",
      " -- python_agnostic-app-test --\n",
      "\n",
      "Creating job_description\n",
      "job_description {'name': 'python_agnostic-app-test', 'execSystemId': 'stampede3', 'execSystemLogicalQueue': 'skx-dev', 'maxMinutes': 6, 'nodeCount': 1, 'coresPerNode': 48, 'appId': 'agnostic-app-test', 'appVersion': '0.0.29', 'fileInputs': [{'name': 'Input Directory', 'sourceUrl': 'tapis://designsafe.storage.community/OpenSees/TrainingMaterial/training-OpenSees-on-DesignSafe/Examples_OpenSees/BasicExamples'}], 'parameterSet': {'appArgs': [{'name': 'Main Program', 'arg': 'python'}, {'name': 'Main Script', 'arg': 'Ex1a.Canti2D.Push.py'}, {'name': 'CommandLine Arguments', 'arg': '[33,22]'}], 'envVariables': [{'key': 'zipFileIn', 'value': ''}, {'key': 'zipFolderOut', 'value': 'False'}, {'key': 'requirementFile', 'value': ''}], 'schedulerOptions': [{'name': 'TACC Allocation', 'arg': '-A DS-HPC1'}]}, 'archiveSystemId': 'stampede3', 'archiveSystemDir': 'HOST_EVAL($WORK)/tapis-jobs-archive/${JobCreateDate}/${JobName}-${JobUUID}'}\n",
      "Submitting Job\n",
      "Job submitted! ID: 60464055-8b4b-4aa3-a1e5-2cc4c6dd9016-007\n",
      "job_start_time: 1755758074.1077182\n",
      "\n",
      "Real-Time Job-Status Updates...\n",
      "--------------------\n",
      "\t Elapsed job time: 1.06 sec\t Current Status: PENDING\n",
      "\t Elapsed job time: 2.08 sec\t Current Status: STAGING_INPUTS\t\t(PENDING took 1.02 sec)\n",
      "\t Elapsed job time: 27.76 sec\t Current Status: STAGING_JOB\t\t(STAGING_INPUTS took 25.68 sec)\n",
      "\t Elapsed job time: 61.67 sec\t Current Status: QUEUED\t\t(STAGING_JOB took 33.9 sec)\n",
      "\t Elapsed job time: 64.76 sec\t Current Status: RUNNING\t\t(QUEUED took 3.1 sec)\n",
      "\t Elapsed job time: 90.56 sec\t Current Status: ARCHIVING\t\t(RUNNING took 25.8 sec)\n",
      "\t Elapsed job time: 127.17 sec\t Current Status: FINISHED\t\t(ARCHIVING took 36.61 sec)\n",
      "\t  Status: FINISHED\t Elapsed job time: 127.17 sec\n",
      "--------------------\n",
      "Elapsed time since Job was submitted: 127.17 sec\n",
      "--------------------\n"
     ]
    },
    {
     "data": {
      "application/vnd.jupyter.widget-view+json": {
       "model_id": "227acf3f3cbe4cd88a19949fe0c56b7c",
       "version_major": 2,
       "version_minor": 0
      },
      "text/plain": [
       "Accordion(children=(Output(),), selected_index=0, titles=('Job STATUS   (60464055-8b4b-4aa3-a1e5-2cc4c6dd9016-…"
      ]
     },
     "metadata": {},
     "output_type": "display_data"
    },
    {
     "data": {
      "application/vnd.jupyter.widget-view+json": {
       "model_id": "5f25b23600de4685bc0c6ee098b9c873",
       "version_major": 2,
       "version_minor": 0
      },
      "text/plain": [
       "Accordion(children=(Output(),), selected_index=0, titles=('Job Metadata   (60464055-8b4b-4aa3-a1e5-2cc4c6dd901…"
      ]
     },
     "metadata": {},
     "output_type": "display_data"
    },
    {
     "data": {
      "application/vnd.jupyter.widget-view+json": {
       "model_id": "62f080343bb044e5a9f3da9b7866b0fd",
       "version_major": 2,
       "version_minor": 0
      },
      "text/plain": [
       "Accordion(children=(Output(),), selected_index=0, titles=('Job History Data   (60464055-8b4b-4aa3-a1e5-2cc4c6d…"
      ]
     },
     "metadata": {},
     "output_type": "display_data"
    },
    {
     "data": {
      "application/vnd.jupyter.widget-view+json": {
       "model_id": "923d57b9c1434e5aa401f8c5e8debcbf",
       "version_major": 2,
       "version_minor": 0
      },
      "text/plain": [
       "Accordion(children=(Output(),), selected_index=0, titles=('Job Filedata   (60464055-8b4b-4aa3-a1e5-2cc4c6dd901…"
      ]
     },
     "metadata": {},
     "output_type": "display_data"
    },
    {
     "name": "stdout",
     "output_type": "stream",
     "text": [
      "\n",
      " -- python_agnostic-app-test_zipFolderOut --\n",
      "\n",
      "Creating job_description\n",
      "job_description {'name': 'python_agnostic-app-test_zipFolderOut', 'execSystemId': 'stampede3', 'execSystemLogicalQueue': 'skx-dev', 'maxMinutes': 6, 'nodeCount': 1, 'coresPerNode': 48, 'appId': 'agnostic-app-test', 'appVersion': '0.0.29', 'fileInputs': [{'name': 'Input Directory', 'sourceUrl': 'tapis://designsafe.storage.community/OpenSees/TrainingMaterial/training-OpenSees-on-DesignSafe/Examples_OpenSees/BasicExamples'}], 'parameterSet': {'appArgs': [{'name': 'Main Program', 'arg': 'python'}, {'name': 'Main Script', 'arg': 'Ex1a.Canti2D.Push.py'}, {'name': 'CommandLine Arguments', 'arg': '[33,22]'}], 'envVariables': [{'key': 'zipFileIn', 'value': ''}, {'key': 'zipFolderOut', 'value': 'True'}, {'key': 'requirementFile', 'value': ''}], 'schedulerOptions': [{'name': 'TACC Allocation', 'arg': '-A DS-HPC1'}]}, 'archiveSystemId': 'stampede3', 'archiveSystemDir': 'HOST_EVAL($WORK)/tapis-jobs-archive/${JobCreateDate}/${JobName}-${JobUUID}'}\n",
      "Submitting Job\n",
      "Job submitted! ID: aa336728-6121-4f89-b114-e1ed60cd5f7b-007\n",
      "job_start_time: 1755758211.0722835\n",
      "\n",
      "Real-Time Job-Status Updates...\n",
      "--------------------\n",
      "\t Elapsed job time: 1.04 sec\t Current Status: PENDING\n",
      "\t Elapsed job time: 2.07 sec\t Current Status: STAGING_INPUTS\t\t(PENDING took 1.03 sec)\n",
      "\t Elapsed job time: 38.02 sec\t Current Status: STAGING_JOB\t\t(STAGING_INPUTS took 35.95 sec)\n",
      "\t Elapsed job time: 54.48 sec\t Current Status: SUBMITTING_JOB\t\t(STAGING_JOB took 16.46 sec)\n",
      "\t Elapsed job time: 55.5 sec\t Current Status: QUEUED\t\t(SUBMITTING_JOB took 1.02 sec)\n",
      "\t Elapsed job time: 68.91 sec\t Current Status: RUNNING\t\t(QUEUED took 13.41 sec)\n",
      "\t Elapsed job time: 147.62 sec\t Current Status: ARCHIVING\t\t(RUNNING took 78.7 sec)\n",
      "\t Elapsed job time: 167.84 sec\t Current Status: FINISHED\t\t(ARCHIVING took 20.22 sec)\n",
      "\t  Status: FINISHED\t Elapsed job time: 167.84 sec\n",
      "--------------------\n",
      "Elapsed time since Job was submitted: 167.84 sec\n",
      "--------------------\n"
     ]
    },
    {
     "data": {
      "application/vnd.jupyter.widget-view+json": {
       "model_id": "f2d77b86251a465493cd4e40dad68da5",
       "version_major": 2,
       "version_minor": 0
      },
      "text/plain": [
       "Accordion(children=(Output(),), selected_index=0, titles=('Job STATUS   (aa336728-6121-4f89-b114-e1ed60cd5f7b-…"
      ]
     },
     "metadata": {},
     "output_type": "display_data"
    },
    {
     "data": {
      "application/vnd.jupyter.widget-view+json": {
       "model_id": "7dbabc67df9c49a294110b6f596d17e9",
       "version_major": 2,
       "version_minor": 0
      },
      "text/plain": [
       "Accordion(children=(Output(),), selected_index=0, titles=('Job Metadata   (aa336728-6121-4f89-b114-e1ed60cd5f7…"
      ]
     },
     "metadata": {},
     "output_type": "display_data"
    },
    {
     "data": {
      "application/vnd.jupyter.widget-view+json": {
       "model_id": "00effe8e67e54f5ea40c72c85845a0e2",
       "version_major": 2,
       "version_minor": 0
      },
      "text/plain": [
       "Accordion(children=(Output(),), selected_index=0, titles=('Job History Data   (aa336728-6121-4f89-b114-e1ed60c…"
      ]
     },
     "metadata": {},
     "output_type": "display_data"
    },
    {
     "data": {
      "application/vnd.jupyter.widget-view+json": {
       "model_id": "404e75c0dc2b4ba78cde4581a3ba90ce",
       "version_major": 2,
       "version_minor": 0
      },
      "text/plain": [
       "Accordion(children=(Output(),), selected_index=0, titles=('Job Filedata   (aa336728-6121-4f89-b114-e1ed60cd5f7…"
      ]
     },
     "metadata": {},
     "output_type": "display_data"
    }
   ],
   "source": [
    "tapisInput = tapisInputAll.copy()\n",
    "\n",
    "tapisInput['storage_system'] = 'CommunityData'\n",
    "tapisInput['input_folder'] = 'OpenSees/TrainingMaterial/training-OpenSees-on-DesignSafe/Examples_OpenSees/BasicExamples' \n",
    "\n",
    "tapisInput['Main Program'] = 'python'\n",
    "tapisInput['Main Script'] = 'Ex1a.Canti2D.Push.py'\n",
    "\n",
    "tapisInput['CommandLine Arguments'] = '[33,22]'\n",
    "\n",
    "# -----------------------------------------------------\n",
    "for hereApp in [app_id]:\n",
    "    here_tapisInput = tapisInput.copy()\n",
    "    here_tapisInput[\"appId\"] = hereApp \n",
    "    here_tapisInput[\"name\"] = here_tapisInput['Main Program'] + '_' + here_tapisInput[\"appId\"]\n",
    "    print(f'\\n -- {here_tapisInput['name']} --\\n')\n",
    "    jobReturns = OpsUtils.run_tapis_job(t,here_tapisInput,get_job_metadata=True,get_job_history=True,get_job_filedata=True,askConfirmJob = False,askConfirmMonitorRT = False)\n",
    "    if hereApp == app_id:\n",
    "        here_tapisInput['zipFolderOut'] = 'True'\n",
    "        here_tapisInput[\"name\"] = here_tapisInput['Main Program'] + '_' + here_tapisInput[\"appId\"] + '_' + 'zipFolderOut'\n",
    "        print(f'\\n -- {here_tapisInput['name']} --\\n')\n",
    "        jobReturns = OpsUtils.run_tapis_job(t,here_tapisInput,get_job_metadata=True,get_job_history=True,get_job_filedata=True,askConfirmJob = False,askConfirmMonitorRT = False)\n",
    "# -----------------------------------------------------"
   ]
  },
  {
   "cell_type": "markdown",
   "metadata": {},
   "source": [
    "### OpenSeesPy - mpi"
   ]
  },
  {
   "cell_type": "code",
   "execution_count": 16,
   "metadata": {},
   "outputs": [
    {
     "name": "stdout",
     "output_type": "stream",
     "text": [
      "\n",
      " -- python_agnostic-app-test --\n",
      "\n",
      "Creating job_description\n",
      "job_description {'name': 'python_agnostic-app-test', 'execSystemId': 'stampede3', 'execSystemLogicalQueue': 'skx-dev', 'maxMinutes': 6, 'nodeCount': 1, 'coresPerNode': 48, 'appId': 'agnostic-app-test', 'appVersion': '0.0.29', 'fileInputs': [{'name': 'Input Directory', 'sourceUrl': 'tapis://designsafe.storage.community/OpenSees/TrainingMaterial/training-OpenSees-on-DesignSafe/Examples_OpenSees/BasicExamples'}], 'parameterSet': {'appArgs': [{'name': 'Main Program', 'arg': 'python'}, {'name': 'Main Script', 'arg': 'Ex1a.Canti2D.Push.mpi.py'}, {'name': 'CommandLine Arguments', 'arg': '[33,22]'}], 'envVariables': [{'key': 'zipFileIn', 'value': ''}, {'key': 'zipFolderOut', 'value': 'False'}, {'key': 'requirementFile', 'value': ''}], 'schedulerOptions': [{'name': 'TACC Allocation', 'arg': '-A DS-HPC1'}]}, 'archiveSystemId': 'stampede3', 'archiveSystemDir': 'HOST_EVAL($WORK)/tapis-jobs-archive/${JobCreateDate}/${JobName}-${JobUUID}'}\n",
      "Submitting Job\n",
      "Job submitted! ID: a770978a-c3fd-4759-b1c0-afe2c37d13a0-007\n",
      "job_start_time: 1755758385.8079598\n",
      "\n",
      "Real-Time Job-Status Updates...\n",
      "--------------------\n",
      "\t Elapsed job time: 1.04 sec\t Current Status: PENDING\n",
      "\t Elapsed job time: 2.06 sec\t Current Status: STAGING_INPUTS\t\t(PENDING took 1.02 sec)\n",
      "\t Elapsed job time: 38.07 sec\t Current Status: STAGING_JOB\t\t(STAGING_INPUTS took 36.01 sec)\n",
      "\t Elapsed job time: 69.93 sec\t Current Status: SUBMITTING_JOB\t\t(STAGING_JOB took 31.86 sec)\n",
      "\t Elapsed job time: 70.95 sec\t Current Status: QUEUED\t\t(SUBMITTING_JOB took 1.02 sec)\n",
      "\t Elapsed job time: 84.37 sec\t Current Status: RUNNING\t\t(QUEUED took 13.41 sec)\n",
      "\t Elapsed job time: 96.65 sec\t Current Status: ARCHIVING\t\t(RUNNING took 12.29 sec)\n",
      "\t Elapsed job time: 132.15 sec\t Current Status: FINISHED\t\t(ARCHIVING took 35.5 sec)\n",
      "\t  Status: FINISHED\t Elapsed job time: 132.15 sec\n",
      "--------------------\n",
      "Elapsed time since Job was submitted: 132.15 sec\n",
      "--------------------\n"
     ]
    },
    {
     "data": {
      "application/vnd.jupyter.widget-view+json": {
       "model_id": "4e69522326264956a4e4f4ce02795e2e",
       "version_major": 2,
       "version_minor": 0
      },
      "text/plain": [
       "Accordion(children=(Output(),), selected_index=0, titles=('Job STATUS   (a770978a-c3fd-4759-b1c0-afe2c37d13a0-…"
      ]
     },
     "metadata": {},
     "output_type": "display_data"
    },
    {
     "data": {
      "application/vnd.jupyter.widget-view+json": {
       "model_id": "8ab4075d92184ea2a8ec09a17ad2a56e",
       "version_major": 2,
       "version_minor": 0
      },
      "text/plain": [
       "Accordion(children=(Output(),), selected_index=0, titles=('Job Metadata   (a770978a-c3fd-4759-b1c0-afe2c37d13a…"
      ]
     },
     "metadata": {},
     "output_type": "display_data"
    },
    {
     "data": {
      "application/vnd.jupyter.widget-view+json": {
       "model_id": "7c78d96ea4ea460fb1413c2e0619099f",
       "version_major": 2,
       "version_minor": 0
      },
      "text/plain": [
       "Accordion(children=(Output(),), selected_index=0, titles=('Job History Data   (a770978a-c3fd-4759-b1c0-afe2c37…"
      ]
     },
     "metadata": {},
     "output_type": "display_data"
    },
    {
     "data": {
      "application/vnd.jupyter.widget-view+json": {
       "model_id": "4433fa024ec7438da82c255f0f7fd4e4",
       "version_major": 2,
       "version_minor": 0
      },
      "text/plain": [
       "Accordion(children=(Output(),), selected_index=0, titles=('Job Filedata   (a770978a-c3fd-4759-b1c0-afe2c37d13a…"
      ]
     },
     "metadata": {},
     "output_type": "display_data"
    },
    {
     "name": "stdout",
     "output_type": "stream",
     "text": [
      "\n",
      " -- python_agnostic-app-test_zipFolderOut --\n",
      "\n",
      "Creating job_description\n",
      "job_description {'name': 'python_agnostic-app-test_zipFolderOut', 'execSystemId': 'stampede3', 'execSystemLogicalQueue': 'skx-dev', 'maxMinutes': 6, 'nodeCount': 1, 'coresPerNode': 48, 'appId': 'agnostic-app-test', 'appVersion': '0.0.29', 'fileInputs': [{'name': 'Input Directory', 'sourceUrl': 'tapis://designsafe.storage.community/OpenSees/TrainingMaterial/training-OpenSees-on-DesignSafe/Examples_OpenSees/BasicExamples'}], 'parameterSet': {'appArgs': [{'name': 'Main Program', 'arg': 'python'}, {'name': 'Main Script', 'arg': 'Ex1a.Canti2D.Push.mpi.py'}, {'name': 'CommandLine Arguments', 'arg': '[33,22]'}], 'envVariables': [{'key': 'zipFileIn', 'value': ''}, {'key': 'zipFolderOut', 'value': 'True'}, {'key': 'requirementFile', 'value': ''}], 'schedulerOptions': [{'name': 'TACC Allocation', 'arg': '-A DS-HPC1'}]}, 'archiveSystemId': 'stampede3', 'archiveSystemDir': 'HOST_EVAL($WORK)/tapis-jobs-archive/${JobCreateDate}/${JobName}-${JobUUID}'}\n",
      "Submitting Job\n",
      "Job submitted! ID: 40764c7f-62f5-4c82-9c2a-304408a2baf7-007\n",
      "job_start_time: 1755758528.038611\n",
      "\n",
      "Real-Time Job-Status Updates...\n",
      "--------------------\n",
      "\t Elapsed job time: 1.09 sec\t Current Status: PENDING\n",
      "\t Elapsed job time: 2.14 sec\t Current Status: STAGING_INPUTS\t\t(PENDING took 1.05 sec)\n",
      "\t Elapsed job time: 27.89 sec\t Current Status: STAGING_JOB\t\t(STAGING_INPUTS took 25.75 sec)\n",
      "\t Elapsed job time: 50.52 sec\t Current Status: SUBMITTING_JOB\t\t(STAGING_JOB took 22.63 sec)\n",
      "\t Elapsed job time: 51.55 sec\t Current Status: QUEUED\t\t(SUBMITTING_JOB took 1.03 sec)\n",
      "\t Elapsed job time: 53.62 sec\t Current Status: RUNNING\t\t(QUEUED took 2.06 sec)\n",
      "\t Elapsed job time: 79.45 sec\t Current Status: ARCHIVING\t\t(RUNNING took 25.83 sec)\n",
      "\t Elapsed job time: 98.14 sec\t Current Status: FINISHED\t\t(ARCHIVING took 18.7 sec)\n",
      "\t  Status: FINISHED\t Elapsed job time: 98.14 sec\n",
      "--------------------\n",
      "Elapsed time since Job was submitted: 98.14 sec\n",
      "--------------------\n"
     ]
    },
    {
     "data": {
      "application/vnd.jupyter.widget-view+json": {
       "model_id": "49a647e15d3a46c9ab7fcf20f54a375c",
       "version_major": 2,
       "version_minor": 0
      },
      "text/plain": [
       "Accordion(children=(Output(),), selected_index=0, titles=('Job STATUS   (40764c7f-62f5-4c82-9c2a-304408a2baf7-…"
      ]
     },
     "metadata": {},
     "output_type": "display_data"
    },
    {
     "data": {
      "application/vnd.jupyter.widget-view+json": {
       "model_id": "d704010b66ac4f0b9a45ea340dd76eab",
       "version_major": 2,
       "version_minor": 0
      },
      "text/plain": [
       "Accordion(children=(Output(),), selected_index=0, titles=('Job Metadata   (40764c7f-62f5-4c82-9c2a-304408a2baf…"
      ]
     },
     "metadata": {},
     "output_type": "display_data"
    },
    {
     "data": {
      "application/vnd.jupyter.widget-view+json": {
       "model_id": "a0f9bf17726a483e8a3dab436c233f31",
       "version_major": 2,
       "version_minor": 0
      },
      "text/plain": [
       "Accordion(children=(Output(),), selected_index=0, titles=('Job History Data   (40764c7f-62f5-4c82-9c2a-304408a…"
      ]
     },
     "metadata": {},
     "output_type": "display_data"
    },
    {
     "data": {
      "application/vnd.jupyter.widget-view+json": {
       "model_id": "71aa78adc1bd4d97899efb4cebc3f729",
       "version_major": 2,
       "version_minor": 0
      },
      "text/plain": [
       "Accordion(children=(Output(),), selected_index=0, titles=('Job Filedata   (40764c7f-62f5-4c82-9c2a-304408a2baf…"
      ]
     },
     "metadata": {},
     "output_type": "display_data"
    }
   ],
   "source": [
    "tapisInput = tapisInputAll.copy()\n",
    "\n",
    "tapisInput['storage_system'] = 'CommunityData'\n",
    "tapisInput['input_folder'] = 'OpenSees/TrainingMaterial/training-OpenSees-on-DesignSafe/Examples_OpenSees/BasicExamples' \n",
    "\n",
    "tapisInput['Main Program'] = 'python'\n",
    "tapisInput['Main Script'] = 'Ex1a.Canti2D.Push.mpi.py'\n",
    "\n",
    "tapisInput['CommandLine Arguments'] = '[33,22]'\n",
    "\n",
    "# -----------------------------------------------------\n",
    "for hereApp in [app_id]:\n",
    "    here_tapisInput = tapisInput.copy()\n",
    "    here_tapisInput[\"appId\"] = hereApp \n",
    "    here_tapisInput[\"name\"] = here_tapisInput['Main Program'] + '_' + here_tapisInput[\"appId\"]\n",
    "    print(f'\\n -- {here_tapisInput['name']} --\\n')\n",
    "    jobReturns = OpsUtils.run_tapis_job(t,here_tapisInput,get_job_metadata=True,get_job_history=True,get_job_filedata=True,askConfirmJob = False,askConfirmMonitorRT = False)\n",
    "    if hereApp == app_id:\n",
    "        here_tapisInput['zipFolderOut'] = 'True'\n",
    "        here_tapisInput[\"name\"] = here_tapisInput['Main Program'] + '_' + here_tapisInput[\"appId\"] + '_' + 'zipFolderOut'\n",
    "        print(f'\\n -- {here_tapisInput['name']} --\\n')\n",
    "        jobReturns = OpsUtils.run_tapis_job(t,here_tapisInput,get_job_metadata=True,get_job_history=True,get_job_filedata=True,askConfirmJob = False,askConfirmMonitorRT = False)\n",
    "# -----------------------------------------------------"
   ]
  },
  {
   "cell_type": "markdown",
   "metadata": {},
   "source": [
    "### OpenSeesPy - mpi4py"
   ]
  },
  {
   "cell_type": "code",
   "execution_count": 17,
   "metadata": {},
   "outputs": [
    {
     "name": "stdout",
     "output_type": "stream",
     "text": [
      "\n",
      " -- python_agnostic-app-test --\n",
      "\n",
      "Creating job_description\n",
      "job_description {'name': 'python_agnostic-app-test', 'execSystemId': 'stampede3', 'execSystemLogicalQueue': 'skx-dev', 'maxMinutes': 6, 'nodeCount': 1, 'coresPerNode': 48, 'appId': 'agnostic-app-test', 'appVersion': '0.0.29', 'fileInputs': [{'name': 'Input Directory', 'sourceUrl': 'tapis://designsafe.storage.community/OpenSees/TrainingMaterial/training-OpenSees-on-DesignSafe/Examples_OpenSees/BasicExamples'}], 'parameterSet': {'appArgs': [{'name': 'Main Program', 'arg': 'python'}, {'name': 'Main Script', 'arg': 'Ex1a.Canti2D.Push.mpi4py.py'}, {'name': 'CommandLine Arguments', 'arg': '[33,22]'}], 'envVariables': [{'key': 'zipFileIn', 'value': ''}, {'key': 'zipFolderOut', 'value': 'False'}, {'key': 'requirementFile', 'value': ''}], 'schedulerOptions': [{'name': 'TACC Allocation', 'arg': '-A DS-HPC1'}]}, 'archiveSystemId': 'stampede3', 'archiveSystemDir': 'HOST_EVAL($WORK)/tapis-jobs-archive/${JobCreateDate}/${JobName}-${JobUUID}'}\n",
      "Submitting Job\n",
      "Job submitted! ID: e2baaec6-2c59-43e6-ab68-ae5a9715d645-007\n",
      "job_start_time: 1755758633.7641358\n",
      "\n",
      "Real-Time Job-Status Updates...\n",
      "--------------------\n",
      "\t Elapsed job time: 1.07 sec\t Current Status: PENDING\n",
      "\t Elapsed job time: 2.09 sec\t Current Status: STAGING_INPUTS\t\t(PENDING took 1.02 sec)\n",
      "\t Elapsed job time: 27.97 sec\t Current Status: STAGING_JOB\t\t(STAGING_INPUTS took 25.88 sec)\n",
      "\t Elapsed job time: 60.07 sec\t Current Status: SUBMITTING_JOB\t\t(STAGING_JOB took 32.1 sec)\n",
      "\t Elapsed job time: 61.09 sec\t Current Status: QUEUED\t\t(SUBMITTING_JOB took 1.02 sec)\n",
      "\t Elapsed job time: 74.49 sec\t Current Status: RUNNING\t\t(QUEUED took 13.4 sec)\n",
      "\t Elapsed job time: 86.82 sec\t Current Status: ARCHIVING\t\t(RUNNING took 12.33 sec)\n",
      "\t Elapsed job time: 122.51 sec\t Current Status: FINISHED\t\t(ARCHIVING took 35.7 sec)\n",
      "\t  Status: FINISHED\t Elapsed job time: 122.51 sec\n",
      "--------------------\n",
      "Elapsed time since Job was submitted: 122.51 sec\n",
      "--------------------\n"
     ]
    },
    {
     "data": {
      "application/vnd.jupyter.widget-view+json": {
       "model_id": "08b164e72b40407fa1d8cbb00d8d4bcb",
       "version_major": 2,
       "version_minor": 0
      },
      "text/plain": [
       "Accordion(children=(Output(),), selected_index=0, titles=('Job STATUS   (e2baaec6-2c59-43e6-ab68-ae5a9715d645-…"
      ]
     },
     "metadata": {},
     "output_type": "display_data"
    },
    {
     "data": {
      "application/vnd.jupyter.widget-view+json": {
       "model_id": "e4eadcf46c7c4a32bf8d85912c74f97c",
       "version_major": 2,
       "version_minor": 0
      },
      "text/plain": [
       "Accordion(children=(Output(),), selected_index=0, titles=('Job Metadata   (e2baaec6-2c59-43e6-ab68-ae5a9715d64…"
      ]
     },
     "metadata": {},
     "output_type": "display_data"
    },
    {
     "data": {
      "application/vnd.jupyter.widget-view+json": {
       "model_id": "07d9f9e1db5e48209c3c0a3a45fd0876",
       "version_major": 2,
       "version_minor": 0
      },
      "text/plain": [
       "Accordion(children=(Output(),), selected_index=0, titles=('Job History Data   (e2baaec6-2c59-43e6-ab68-ae5a971…"
      ]
     },
     "metadata": {},
     "output_type": "display_data"
    },
    {
     "data": {
      "application/vnd.jupyter.widget-view+json": {
       "model_id": "a67111c9065940f7b0c39864349e7475",
       "version_major": 2,
       "version_minor": 0
      },
      "text/plain": [
       "Accordion(children=(Output(),), selected_index=0, titles=('Job Filedata   (e2baaec6-2c59-43e6-ab68-ae5a9715d64…"
      ]
     },
     "metadata": {},
     "output_type": "display_data"
    },
    {
     "name": "stdout",
     "output_type": "stream",
     "text": [
      "\n",
      " -- python_agnostic-app-test_zipFolderOut --\n",
      "\n",
      "Creating job_description\n",
      "job_description {'name': 'python_agnostic-app-test_zipFolderOut', 'execSystemId': 'stampede3', 'execSystemLogicalQueue': 'skx-dev', 'maxMinutes': 6, 'nodeCount': 1, 'coresPerNode': 48, 'appId': 'agnostic-app-test', 'appVersion': '0.0.29', 'fileInputs': [{'name': 'Input Directory', 'sourceUrl': 'tapis://designsafe.storage.community/OpenSees/TrainingMaterial/training-OpenSees-on-DesignSafe/Examples_OpenSees/BasicExamples'}], 'parameterSet': {'appArgs': [{'name': 'Main Program', 'arg': 'python'}, {'name': 'Main Script', 'arg': 'Ex1a.Canti2D.Push.mpi4py.py'}, {'name': 'CommandLine Arguments', 'arg': '[33,22]'}], 'envVariables': [{'key': 'zipFileIn', 'value': ''}, {'key': 'zipFolderOut', 'value': 'True'}, {'key': 'requirementFile', 'value': ''}], 'schedulerOptions': [{'name': 'TACC Allocation', 'arg': '-A DS-HPC1'}]}, 'archiveSystemId': 'stampede3', 'archiveSystemDir': 'HOST_EVAL($WORK)/tapis-jobs-archive/${JobCreateDate}/${JobName}-${JobUUID}'}\n",
      "Submitting Job\n",
      "Job submitted! ID: d46e382c-aaeb-4f9d-ac34-415e85b09875-007\n",
      "job_start_time: 1755758766.184203\n",
      "\n",
      "Real-Time Job-Status Updates...\n",
      "--------------------\n",
      "\t Elapsed job time: 1.04 sec\t Current Status: PENDING\n",
      "\t Elapsed job time: 2.06 sec\t Current Status: STAGING_INPUTS\t\t(PENDING took 1.02 sec)\n",
      "\t Elapsed job time: 28.87 sec\t Current Status: STAGING_JOB\t\t(STAGING_INPUTS took 26.81 sec)\n",
      "\t Elapsed job time: 60.85 sec\t Current Status: QUEUED\t\t(STAGING_JOB took 31.98 sec)\n",
      "\t Elapsed job time: 62.91 sec\t Current Status: RUNNING\t\t(QUEUED took 2.06 sec)\n",
      "\t Elapsed job time: 89.64 sec\t Current Status: ARCHIVING\t\t(RUNNING took 26.73 sec)\n",
      "\t Elapsed job time: 122.26 sec\t Current Status: FINISHED\t\t(ARCHIVING took 32.63 sec)\n",
      "\t  Status: FINISHED\t Elapsed job time: 122.27 sec\n",
      "--------------------\n",
      "Elapsed time since Job was submitted: 122.27 sec\n",
      "--------------------\n"
     ]
    },
    {
     "data": {
      "application/vnd.jupyter.widget-view+json": {
       "model_id": "cc13d427cd3c48a49f158ff335ac278f",
       "version_major": 2,
       "version_minor": 0
      },
      "text/plain": [
       "Accordion(children=(Output(),), selected_index=0, titles=('Job STATUS   (d46e382c-aaeb-4f9d-ac34-415e85b09875-…"
      ]
     },
     "metadata": {},
     "output_type": "display_data"
    },
    {
     "data": {
      "application/vnd.jupyter.widget-view+json": {
       "model_id": "38eef8f2424e44d7aea44dcc4abe213c",
       "version_major": 2,
       "version_minor": 0
      },
      "text/plain": [
       "Accordion(children=(Output(),), selected_index=0, titles=('Job Metadata   (d46e382c-aaeb-4f9d-ac34-415e85b0987…"
      ]
     },
     "metadata": {},
     "output_type": "display_data"
    },
    {
     "data": {
      "application/vnd.jupyter.widget-view+json": {
       "model_id": "b14d25cf032f4a03b6d20b2f8d3c7387",
       "version_major": 2,
       "version_minor": 0
      },
      "text/plain": [
       "Accordion(children=(Output(),), selected_index=0, titles=('Job History Data   (d46e382c-aaeb-4f9d-ac34-415e85b…"
      ]
     },
     "metadata": {},
     "output_type": "display_data"
    },
    {
     "data": {
      "application/vnd.jupyter.widget-view+json": {
       "model_id": "35270eb616a34d659e23756434ea9031",
       "version_major": 2,
       "version_minor": 0
      },
      "text/plain": [
       "Accordion(children=(Output(),), selected_index=0, titles=('Job Filedata   (d46e382c-aaeb-4f9d-ac34-415e85b0987…"
      ]
     },
     "metadata": {},
     "output_type": "display_data"
    }
   ],
   "source": [
    "tapisInput = tapisInputAll.copy()\n",
    "\n",
    "tapisInput['storage_system'] = 'CommunityData'\n",
    "tapisInput['input_folder'] = 'OpenSees/TrainingMaterial/training-OpenSees-on-DesignSafe/Examples_OpenSees/BasicExamples' \n",
    "\n",
    "tapisInput['Main Program'] = 'python'\n",
    "tapisInput['Main Script'] = 'Ex1a.Canti2D.Push.mpi4py.py'\n",
    "\n",
    "tapisInput['CommandLine Arguments'] = '[33,22]'\n",
    "\n",
    "# -----------------------------------------------------\n",
    "for hereApp in [app_id]:\n",
    "    here_tapisInput = tapisInput.copy()\n",
    "    here_tapisInput[\"appId\"] = hereApp \n",
    "    here_tapisInput[\"name\"] = here_tapisInput['Main Program'] + '_' + here_tapisInput[\"appId\"]\n",
    "    print(f'\\n -- {here_tapisInput['name']} --\\n')\n",
    "    jobReturns = OpsUtils.run_tapis_job(t,here_tapisInput,get_job_metadata=True,get_job_history=True,get_job_filedata=True,askConfirmJob = False,askConfirmMonitorRT = False)\n",
    "    if hereApp == app_id:\n",
    "        here_tapisInput['zipFolderOut'] = 'True'\n",
    "        here_tapisInput[\"name\"] = here_tapisInput['Main Program'] + '_' + here_tapisInput[\"appId\"] + '_' + 'zipFolderOut'\n",
    "        print(f'\\n -- {here_tapisInput['name']} --\\n')\n",
    "        jobReturns = OpsUtils.run_tapis_job(t,here_tapisInput,get_job_metadata=True,get_job_history=True,get_job_filedata=True,askConfirmJob = False,askConfirmMonitorRT = False)\n",
    "# -----------------------------------------------------"
   ]
  }
 ],
 "metadata": {
  "IMAGE_NAME": "taccsciapps/ds-nb-img:base-0.2.3",
  "UUID": "73e0880d-9b87-11ec-9c1c-13579dd95994",
  "celltoolbar": "Raw Cell Format",
  "kernelspec": {
   "display_name": "Python 3 (ipykernel)",
   "language": "python",
   "name": "python3"
  },
  "language_info": {
   "codemirror_mode": {
    "name": "ipython",
    "version": 3
   },
   "file_extension": ".py",
   "mimetype": "text/x-python",
   "name": "python",
   "nbconvert_exporter": "python",
   "pygments_lexer": "ipython3",
   "version": "3.12.11"
  }
 },
 "nbformat": 4,
 "nbformat_minor": 4
}
