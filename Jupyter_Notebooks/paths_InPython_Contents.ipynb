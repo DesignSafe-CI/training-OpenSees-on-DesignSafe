{
 "cells": [
  {
   "cell_type": "markdown",
   "id": "13aaba36-f7e8-44ea-a65b-91f656862a84",
   "metadata": {},
   "source": [
    "<a class=\"reference external\" href=\"https://jupyter.designsafe-ci.org/hub/user-redirect/lab/tree/CommunityData/OpenSees/TrainingMaterial/training-OpenSees-on-DesignSafe/Jupyter_Notebooks/paths_InPython_Contents.ipynb\" target=\"_blank\">\n",
    "<img alt=\"Try on DesignSafe\" src=\"https://raw.githubusercontent.com/DesignSafe-Training/pinn/main/DesignSafe-Badge.svg\" /></a>"
   ]
  },
  {
   "cell_type": "markdown",
   "id": "90a66ccd-e5cd-4fe1-815a-83872dd933c2",
   "metadata": {},
   "source": [
    "# Directory Contents\n",
    "***Listing files and directories with `os.listdir`***\n",
    "\n",
    "by Silvia Mazzoni, DesignSafe, 2025\n",
    "\n",
    "Once you’ve confirmed that a path exists, you can explore its contents using Python.  \n",
    "The simplest way to do this is with **os.listdir**, which returns a list of all files and folders inside the specified directory."
   ]
  },
  {
   "cell_type": "markdown",
   "id": "d7fade2c-8371-43f2-ab0f-a6f6a3d4f236",
   "metadata": {},
   "source": [
    "File handling in Python lives in two main places:\n",
    "\n",
    "* *os*/*os.path*: low-level, battle‑tested utilities (list directories, join paths, check existence).\n",
    "* *pathlib*: a modern, object‑oriented layer that makes paths feel like first‑class objects (with methods for globbing, reading, writing, etc.).\n",
    "\n",
    "When you need **wildcards** like **.out* or **Lcol12.out*, don’t shell out to *ls*. Instead, use Python’s built‑ins (*glob* or *pathlib.Path.glob*) so your code is **portable, safe, and testable**."
   ]
  },
  {
   "cell_type": "code",
   "execution_count": 1,
   "id": "8cccbbff-caeb-459d-afd0-fc0a386f4efc",
   "metadata": {},
   "outputs": [],
   "source": [
    "import os"
   ]
  },
  {
   "cell_type": "code",
   "execution_count": 2,
   "id": "f4a4279c-b89f-4f16-8bbb-b1caf4e7498e",
   "metadata": {},
   "outputs": [
    {
     "name": "stdout",
     "output_type": "stream",
     "text": [
      "thisPath: /home/jupyter/MyData/tapis-jobs-archive/2025-08-14Z/1739a4ea-bc83-419b-9a6d-7823b81c797c-007/inputDirectory/DataTCLmp\n",
      "exists: True\n"
     ]
    }
   ],
   "source": [
    "# Test Path:\n",
    "myPath = '~/MyData/tapis-jobs-archive/2025-08-14Z/1739a4ea-bc83-419b-9a6d-7823b81c797c-007/inputDirectory/DataTCLmp'\n",
    "dataDir =os.path.abspath(os.path.expanduser(myPath))\n",
    "\n",
    "print('thisPath:',dataDir)\n",
    "print('exists:',os.path.exists(dataDir))"
   ]
  },
  {
   "cell_type": "markdown",
   "id": "5d9f6278-8d40-4480-b89f-f4db446e3e38",
   "metadata": {},
   "source": [
    "---\n",
    "## *os.listdir()*: Simple Directory Listing\n",
    "\n",
    "*os.listdir(path)* returns **all entries** (files and subdirectories) in a directory—**no filtering by pattern**:"
   ]
  },
  {
   "cell_type": "code",
   "execution_count": 3,
   "id": "2ad6c1b9-6d45-43e6-84b7-f629b926f99b",
   "metadata": {},
   "outputs": [
    {
     "name": "stdout",
     "output_type": "stream",
     "text": [
      "/home/jupyter/MyData/tapis-jobs-archive/2025-08-14Z/1739a4ea-bc83-419b-9a6d-7823b81c797c-007/inputDirectory/DataTCLmp/DBase_Lcol141.0.out\n",
      "/home/jupyter/MyData/tapis-jobs-archive/2025-08-14Z/1739a4ea-bc83-419b-9a6d-7823b81c797c-007/inputDirectory/DataTCLmp/DBase_Lcol149.0.out\n",
      "/home/jupyter/MyData/tapis-jobs-archive/2025-08-14Z/1739a4ea-bc83-419b-9a6d-7823b81c797c-007/inputDirectory/DataTCLmp/DBase_Lcol139.0.out\n",
      "/home/jupyter/MyData/tapis-jobs-archive/2025-08-14Z/1739a4ea-bc83-419b-9a6d-7823b81c797c-007/inputDirectory/DataTCLmp/DBase_Lcol144.0.out\n",
      "/home/jupyter/MyData/tapis-jobs-archive/2025-08-14Z/1739a4ea-bc83-419b-9a6d-7823b81c797c-007/inputDirectory/DataTCLmp/DBase_Lcol143.0.out\n",
      "/home/jupyter/MyData/tapis-jobs-archive/2025-08-14Z/1739a4ea-bc83-419b-9a6d-7823b81c797c-007/inputDirectory/DataTCLmp/DBase_Lcol142.0.out\n",
      "/home/jupyter/MyData/tapis-jobs-archive/2025-08-14Z/1739a4ea-bc83-419b-9a6d-7823b81c797c-007/inputDirectory/DataTCLmp/DBase_Lcol209.0.out\n",
      "/home/jupyter/MyData/tapis-jobs-archive/2025-08-14Z/1739a4ea-bc83-419b-9a6d-7823b81c797c-007/inputDirectory/DataTCLmp/DBase_Lcol148.0.out\n",
      "/home/jupyter/MyData/tapis-jobs-archive/2025-08-14Z/1739a4ea-bc83-419b-9a6d-7823b81c797c-007/inputDirectory/DataTCLmp/DBase_Lcol138.0.out\n",
      "/home/jupyter/MyData/tapis-jobs-archive/2025-08-14Z/1739a4ea-bc83-419b-9a6d-7823b81c797c-007/inputDirectory/DataTCLmp/DBase_Lcol145.0.out\n"
     ]
    }
   ],
   "source": [
    "entries = os.listdir(dataDir)          # Just names, not full paths\n",
    "entries_full = [os.path.join(dataDir, e) for e in entries]\n",
    "\n",
    "for i in range(min(10,len(entries_full))):\n",
    "    print(entries_full[i])"
   ]
  },
  {
   "cell_type": "markdown",
   "id": "386b021a-5cc2-4268-8a46-b788756a4670",
   "metadata": {},
   "source": [
    "**Key points**\n",
    "\n",
    "* Returns *everything* in the directory (files + subdirs).\n",
    "* No pattern matching—**you must filter yourself**:"
   ]
  },
  {
   "cell_type": "code",
   "execution_count": 4,
   "id": "e5cb1c48-a0c6-4be4-9e42-ff7e74c7b2c6",
   "metadata": {},
   "outputs": [],
   "source": [
    "Lcol = 100.0"
   ]
  },
  {
   "cell_type": "code",
   "execution_count": 5,
   "id": "aebb342b-2e5d-4a4e-aef1-ff91a080b61a",
   "metadata": {},
   "outputs": [
    {
     "name": "stdout",
     "output_type": "stream",
     "text": [
      "DBase_Lcol100.0.out\n",
      "DCol_Lcol100.0.out\n",
      "DFree_Lcol100.0.out\n",
      "FCol_Lcol100.0.out\n",
      "RBase_Lcol100.0.out\n"
     ]
    }
   ],
   "source": [
    "matches = [f for f in entries if f.endswith(f\"Lcol{Lcol}.out\")]\n",
    "\n",
    "for i in range(min(10,len(matches))):\n",
    "    print(matches[i])"
   ]
  },
  {
   "cell_type": "markdown",
   "id": "01a2c625-9b3f-4909-b241-234443f302db",
   "metadata": {},
   "source": [
    "* Names are returned **without** the directory prefix; prepend `dataDir` if you need full paths.\n",
    "* Order is not guaranteed; sort if you care about stable output:"
   ]
  },
  {
   "cell_type": "code",
   "execution_count": 6,
   "id": "ce2096e1-2fa4-4534-ad00-19d2780a179e",
   "metadata": {},
   "outputs": [
    {
     "name": "stdout",
     "output_type": "stream",
     "text": [
      "DBase_Lcol10.0.out\n",
      "DBase_Lcol100.0.out\n",
      "DBase_Lcol1000.0.out\n",
      "DBase_Lcol1001.0.out\n",
      "DBase_Lcol1002.0.out\n",
      "DBase_Lcol1003.0.out\n",
      "DBase_Lcol1004.0.out\n",
      "DBase_Lcol1005.0.out\n",
      "DBase_Lcol1006.0.out\n",
      "DBase_Lcol1007.0.out\n"
     ]
    }
   ],
   "source": [
    "entries = sorted(os.listdir(dataDir))\n",
    "\n",
    "for i in range(min(10,len(entries))):\n",
    "    print(entries[i])"
   ]
  },
  {
   "cell_type": "markdown",
   "id": "dfbc62f9-4d7e-436d-8d74-f5a5c258bdf6",
   "metadata": {},
   "source": [
    "Use `os.listdir()` when you want a quick, unconditional list of contents and you’ll handle filtering in Python."
   ]
  },
  {
   "cell_type": "markdown",
   "id": "0513e4e6-fc00-4534-a86f-81d97a3777a2",
   "metadata": {},
   "source": [
    "---\n",
    "\n",
    "## Wildcards the Right Way: *glob* and *pathlib*\n",
    "\n",
    "Unlike *os.listdir()*, which returns *all* files in a directory without filtering, the *glob* module lets you use wildcard patterns (***, *?*, *[ranges]*) to match specific filenames — similar to how you would in a shell command like *ls *.txt*.\n",
    "\n",
    "### *glob.glob()*"
   ]
  },
  {
   "cell_type": "code",
   "execution_count": 7,
   "id": "617695c0-486a-484a-ad5c-08b1e5aa64b0",
   "metadata": {},
   "outputs": [
    {
     "name": "stdout",
     "output_type": "stream",
     "text": [
      "/home/jupyter/MyData/tapis-jobs-archive/2025-08-14Z/1739a4ea-bc83-419b-9a6d-7823b81c797c-007/inputDirectory/DataTCLmp/DBase_Lcol100.0.out\n",
      "/home/jupyter/MyData/tapis-jobs-archive/2025-08-14Z/1739a4ea-bc83-419b-9a6d-7823b81c797c-007/inputDirectory/DataTCLmp/DCol_Lcol100.0.out\n",
      "/home/jupyter/MyData/tapis-jobs-archive/2025-08-14Z/1739a4ea-bc83-419b-9a6d-7823b81c797c-007/inputDirectory/DataTCLmp/DFree_Lcol100.0.out\n",
      "/home/jupyter/MyData/tapis-jobs-archive/2025-08-14Z/1739a4ea-bc83-419b-9a6d-7823b81c797c-007/inputDirectory/DataTCLmp/FCol_Lcol100.0.out\n",
      "/home/jupyter/MyData/tapis-jobs-archive/2025-08-14Z/1739a4ea-bc83-419b-9a6d-7823b81c797c-007/inputDirectory/DataTCLmp/RBase_Lcol100.0.out\n"
     ]
    }
   ],
   "source": [
    "import glob, os\n",
    "\n",
    "pattern = os.path.join(dataDir, f\"*Lcol{Lcol}.out\")\n",
    "files = sorted(glob.glob(pattern))      # sort for predictable order\n",
    "for f in files:\n",
    "    print(f)"
   ]
  },
  {
   "cell_type": "markdown",
   "id": "c57f07b1-81f6-46bd-9a0e-a45e34378140",
   "metadata": {},
   "source": [
    "### pathlib.Path.glob()"
   ]
  },
  {
   "cell_type": "code",
   "execution_count": 8,
   "id": "77c60bab-76e6-45db-9bd7-25b0bf5b257c",
   "metadata": {},
   "outputs": [
    {
     "name": "stdout",
     "output_type": "stream",
     "text": [
      "/home/jupyter/MyData/tapis-jobs-archive/2025-08-14Z/1739a4ea-bc83-419b-9a6d-7823b81c797c-007/inputDirectory/DataTCLmp/DBase_Lcol100.0.out\n",
      "/home/jupyter/MyData/tapis-jobs-archive/2025-08-14Z/1739a4ea-bc83-419b-9a6d-7823b81c797c-007/inputDirectory/DataTCLmp/DCol_Lcol100.0.out\n",
      "/home/jupyter/MyData/tapis-jobs-archive/2025-08-14Z/1739a4ea-bc83-419b-9a6d-7823b81c797c-007/inputDirectory/DataTCLmp/DFree_Lcol100.0.out\n",
      "/home/jupyter/MyData/tapis-jobs-archive/2025-08-14Z/1739a4ea-bc83-419b-9a6d-7823b81c797c-007/inputDirectory/DataTCLmp/FCol_Lcol100.0.out\n",
      "/home/jupyter/MyData/tapis-jobs-archive/2025-08-14Z/1739a4ea-bc83-419b-9a6d-7823b81c797c-007/inputDirectory/DataTCLmp/RBase_Lcol100.0.out\n"
     ]
    }
   ],
   "source": [
    "from pathlib import Path\n",
    "\n",
    "files = sorted(Path(dataDir).glob(f\"*Lcol{Lcol}.out\"))\n",
    "for p in files:\n",
    "    print(p)                            # Path objects; str(p) if you need strings"
   ]
  },
  {
   "cell_type": "markdown",
   "id": "72a8f88c-3221-4c1c-9840-a73059c1676b",
   "metadata": {},
   "source": [
    "**Recursive matching** (subdirectories too) uses `**`:"
   ]
  },
  {
   "cell_type": "code",
   "execution_count": 9,
   "id": "f9500cb8-874b-405c-8e81-596b0f3619db",
   "metadata": {},
   "outputs": [
    {
     "name": "stdout",
     "output_type": "stream",
     "text": [
      "/home/jupyter/MyData/tapis-jobs-archive/2025-08-14Z/1739a4ea-bc83-419b-9a6d-7823b81c797c-007/inputDirectory/DataTCLmp/DBase_Lcol141.0.out\n",
      "/home/jupyter/MyData/tapis-jobs-archive/2025-08-14Z/1739a4ea-bc83-419b-9a6d-7823b81c797c-007/inputDirectory/DataTCLmp/DBase_Lcol149.0.out\n",
      "/home/jupyter/MyData/tapis-jobs-archive/2025-08-14Z/1739a4ea-bc83-419b-9a6d-7823b81c797c-007/inputDirectory/DataTCLmp/DBase_Lcol139.0.out\n",
      "/home/jupyter/MyData/tapis-jobs-archive/2025-08-14Z/1739a4ea-bc83-419b-9a6d-7823b81c797c-007/inputDirectory/DataTCLmp/DBase_Lcol144.0.out\n",
      "/home/jupyter/MyData/tapis-jobs-archive/2025-08-14Z/1739a4ea-bc83-419b-9a6d-7823b81c797c-007/inputDirectory/DataTCLmp/DBase_Lcol143.0.out\n",
      "/home/jupyter/MyData/tapis-jobs-archive/2025-08-14Z/1739a4ea-bc83-419b-9a6d-7823b81c797c-007/inputDirectory/DataTCLmp/DBase_Lcol142.0.out\n",
      "/home/jupyter/MyData/tapis-jobs-archive/2025-08-14Z/1739a4ea-bc83-419b-9a6d-7823b81c797c-007/inputDirectory/DataTCLmp/DBase_Lcol209.0.out\n",
      "/home/jupyter/MyData/tapis-jobs-archive/2025-08-14Z/1739a4ea-bc83-419b-9a6d-7823b81c797c-007/inputDirectory/DataTCLmp/DBase_Lcol148.0.out\n",
      "/home/jupyter/MyData/tapis-jobs-archive/2025-08-14Z/1739a4ea-bc83-419b-9a6d-7823b81c797c-007/inputDirectory/DataTCLmp/DBase_Lcol138.0.out\n",
      "/home/jupyter/MyData/tapis-jobs-archive/2025-08-14Z/1739a4ea-bc83-419b-9a6d-7823b81c797c-007/inputDirectory/DataTCLmp/DBase_Lcol145.0.out\n",
      "/home/jupyter/MyData/tapis-jobs-archive/2025-08-14Z/1739a4ea-bc83-419b-9a6d-7823b81c797c-007/inputDirectory/DataTCLmp/DBase_Lcol151.0.out\n"
     ]
    }
   ],
   "source": [
    "from pathlib import Path\n",
    "\n",
    "icnt = 0\n",
    "for p in Path(dataDir).rglob(\"*.out\"):  # or Path(dataDir).glob(\"**/*.out\")\n",
    "    print(p)\n",
    "    icnt += 1\n",
    "    if icnt>10:\n",
    "        break\n"
   ]
  },
  {
   "cell_type": "markdown",
   "id": "b66b069b-ce38-45fb-a169-d17987f7f175",
   "metadata": {},
   "source": [
    "------\n",
    "\n",
    "### Why not *os.system('ls …')*?\n",
    "\n",
    "While this works on Unix‑like systems:"
   ]
  },
  {
   "cell_type": "code",
   "execution_count": 10,
   "id": "0d042860-9d37-433d-8035-92bbbc13f69c",
   "metadata": {},
   "outputs": [
    {
     "name": "stdout",
     "output_type": "stream",
     "text": [
      "/home/jupyter/MyData/tapis-jobs-archive/2025-08-14Z/1739a4ea-bc83-419b-9a6d-7823b81c797c-007/inputDirectory/DataTCLmp/DBase_Lcol100.0.out\n",
      "/home/jupyter/MyData/tapis-jobs-archive/2025-08-14Z/1739a4ea-bc83-419b-9a6d-7823b81c797c-007/inputDirectory/DataTCLmp/DCol_Lcol100.0.out\n",
      "/home/jupyter/MyData/tapis-jobs-archive/2025-08-14Z/1739a4ea-bc83-419b-9a6d-7823b81c797c-007/inputDirectory/DataTCLmp/DFree_Lcol100.0.out\n",
      "/home/jupyter/MyData/tapis-jobs-archive/2025-08-14Z/1739a4ea-bc83-419b-9a6d-7823b81c797c-007/inputDirectory/DataTCLmp/FCol_Lcol100.0.out\n",
      "/home/jupyter/MyData/tapis-jobs-archive/2025-08-14Z/1739a4ea-bc83-419b-9a6d-7823b81c797c-007/inputDirectory/DataTCLmp/RBase_Lcol100.0.out\n"
     ]
    },
    {
     "data": {
      "text/plain": [
       "0"
      ]
     },
     "execution_count": 10,
     "metadata": {},
     "output_type": "execute_result"
    }
   ],
   "source": [
    "os.system(f'ls {dataDir}/*Lcol{Lcol}.out')"
   ]
  },
  {
   "cell_type": "markdown",
   "id": "d5a9b38c-dbad-4e54-bea5-eeb8a8d75346",
   "metadata": {},
   "source": [
    "…it’s usually a **bad trade‑off**:\n",
    "\n",
    "* **Not cross‑platform**: *ls* doesn’t exist on Windows (without extra tooling).\n",
    "* **Brittle**: spaces or special characters in paths can break the shell command.\n",
    "* **Security risk**: string interpolation into a shell command can open injection vulnerabilities.\n",
    "* **No return values**: you get printed text, not a list you can manipulate in Python.\n",
    "* **Harder to test & maintain**.\n",
    "\n",
    "Prefer:\n",
    "\n",
    "* *glob.glob()* / *pathlib.Path.glob()* for patterns.\n",
    "* *os.listdir()* + Python filtering for simple rules.\n",
    "\n",
    "\n",
    "### Why use *glob* instead of *os.system('ls ...')*?\n",
    "\n",
    "* **Cross-platform** — works on Windows, macOS, and Linux\n",
    "* **No shell dependency** — safer, avoids shell injection risks\n",
    "* **Python-native** — returns a list of matching filenames for direct processing"
   ]
  },
  {
   "cell_type": "markdown",
   "id": "8e17717a-79ef-4c9f-9e04-12efaf79d4ea",
   "metadata": {},
   "source": [
    "---\n",
    "\n",
    "## Quick Comparison\n",
    "\n",
    "| Task / Feature                       | `os.listdir()`        | `glob.glob()`                  | `pathlib.Path.glob()`                   |\n",
    "| ------------------------------------ | --------------------- | ------------------------------ | --------------------------------------- |\n",
    "| List directory contents              | ✅ (all entries)       | ✅ (only matches)               | ✅ (only matches)                        |\n",
    "| Wildcards (`*`, `?`, `[]`)           | ❌                     | ✅                              | ✅                                       |\n",
    "| Recursive search                     | ❌                     | ✅ with `**` + `recursive=True` | ✅ via `rglob()` or `glob(\"**/pattern\")` |\n",
    "| Returns                              | Names (no dir)        | Matching paths (strings)       | Matching paths (`Path` objects)         |\n",
    "| Path operations (join, parent, stem) | Manual with `os.path` | Manual with `os.path`          | Built-in via `Path` methods             |\n",
    "| Cross‑platform & safe                | ✅                     | ✅                              | ✅                                       |\n",
    "| Sorted results guaranteed            | ❌ (use `sorted(...)`) | ❌ (wrap with `sorted(...)`)    | ❌ (wrap with `sorted(...)`)             |\n",
    "\n"
   ]
  },
  {
   "cell_type": "markdown",
   "id": "4fdf53a7-de18-4b07-8bb0-41dbdcd9ac2e",
   "metadata": {},
   "source": [
    "**Example of recursive `glob` (stdlib style):**"
   ]
  },
  {
   "cell_type": "code",
   "execution_count": 11,
   "id": "dcc9de18-adcd-43e7-ac61-5ef6ab4db4da",
   "metadata": {},
   "outputs": [
    {
     "name": "stdout",
     "output_type": "stream",
     "text": [
      "/home/jupyter/MyData/tapis-jobs-archive/2025-08-14Z/1739a4ea-bc83-419b-9a6d-7823b81c797c-007/inputDirectory/DataTCLmp/DBase_Lcol10.0.out\n",
      "/home/jupyter/MyData/tapis-jobs-archive/2025-08-14Z/1739a4ea-bc83-419b-9a6d-7823b81c797c-007/inputDirectory/DataTCLmp/DBase_Lcol100.0.out\n",
      "/home/jupyter/MyData/tapis-jobs-archive/2025-08-14Z/1739a4ea-bc83-419b-9a6d-7823b81c797c-007/inputDirectory/DataTCLmp/DBase_Lcol1000.0.out\n",
      "/home/jupyter/MyData/tapis-jobs-archive/2025-08-14Z/1739a4ea-bc83-419b-9a6d-7823b81c797c-007/inputDirectory/DataTCLmp/DBase_Lcol1001.0.out\n",
      "/home/jupyter/MyData/tapis-jobs-archive/2025-08-14Z/1739a4ea-bc83-419b-9a6d-7823b81c797c-007/inputDirectory/DataTCLmp/DBase_Lcol1002.0.out\n",
      "/home/jupyter/MyData/tapis-jobs-archive/2025-08-14Z/1739a4ea-bc83-419b-9a6d-7823b81c797c-007/inputDirectory/DataTCLmp/DBase_Lcol1003.0.out\n",
      "/home/jupyter/MyData/tapis-jobs-archive/2025-08-14Z/1739a4ea-bc83-419b-9a6d-7823b81c797c-007/inputDirectory/DataTCLmp/DBase_Lcol1004.0.out\n",
      "/home/jupyter/MyData/tapis-jobs-archive/2025-08-14Z/1739a4ea-bc83-419b-9a6d-7823b81c797c-007/inputDirectory/DataTCLmp/DBase_Lcol1005.0.out\n",
      "/home/jupyter/MyData/tapis-jobs-archive/2025-08-14Z/1739a4ea-bc83-419b-9a6d-7823b81c797c-007/inputDirectory/DataTCLmp/DBase_Lcol1006.0.out\n",
      "/home/jupyter/MyData/tapis-jobs-archive/2025-08-14Z/1739a4ea-bc83-419b-9a6d-7823b81c797c-007/inputDirectory/DataTCLmp/DBase_Lcol1007.0.out\n"
     ]
    }
   ],
   "source": [
    "import glob, os\n",
    "pattern = os.path.join(dataDir, \"**\", \"*.out\")\n",
    "files = sorted(glob.glob(pattern, recursive=True))\n",
    "for f in files[0:min(10,len(files))]:\n",
    "    print(f)             # line-by-line like `ls`"
   ]
  },
  {
   "cell_type": "markdown",
   "id": "5145221f-98a6-44a4-a6c5-69799b195dfa",
   "metadata": {},
   "source": [
    "---\n",
    "\n",
    "## Drop‑in Replacement for `ls {dataDir}/*Lcol{Lcol}.out`"
   ]
  },
  {
   "cell_type": "code",
   "execution_count": 12,
   "id": "c7da7fd2-696f-4ab0-9f4b-ebf9cae9ee7c",
   "metadata": {},
   "outputs": [
    {
     "name": "stdout",
     "output_type": "stream",
     "text": [
      "/home/jupyter/MyData/tapis-jobs-archive/2025-08-14Z/1739a4ea-bc83-419b-9a6d-7823b81c797c-007/inputDirectory/DataTCLmp/DBase_Lcol100.0.out\n",
      "/home/jupyter/MyData/tapis-jobs-archive/2025-08-14Z/1739a4ea-bc83-419b-9a6d-7823b81c797c-007/inputDirectory/DataTCLmp/DCol_Lcol100.0.out\n",
      "/home/jupyter/MyData/tapis-jobs-archive/2025-08-14Z/1739a4ea-bc83-419b-9a6d-7823b81c797c-007/inputDirectory/DataTCLmp/DFree_Lcol100.0.out\n",
      "/home/jupyter/MyData/tapis-jobs-archive/2025-08-14Z/1739a4ea-bc83-419b-9a6d-7823b81c797c-007/inputDirectory/DataTCLmp/FCol_Lcol100.0.out\n",
      "/home/jupyter/MyData/tapis-jobs-archive/2025-08-14Z/1739a4ea-bc83-419b-9a6d-7823b81c797c-007/inputDirectory/DataTCLmp/RBase_Lcol100.0.out\n",
      "\n",
      "/home/jupyter/MyData/tapis-jobs-archive/2025-08-14Z/1739a4ea-bc83-419b-9a6d-7823b81c797c-007/inputDirectory/DataTCLmp/DBase_Lcol100.0.out /home/jupyter/MyData/tapis-jobs-archive/2025-08-14Z/1739a4ea-bc83-419b-9a6d-7823b81c797c-007/inputDirectory/DataTCLmp/DCol_Lcol100.0.out /home/jupyter/MyData/tapis-jobs-archive/2025-08-14Z/1739a4ea-bc83-419b-9a6d-7823b81c797c-007/inputDirectory/DataTCLmp/DFree_Lcol100.0.out /home/jupyter/MyData/tapis-jobs-archive/2025-08-14Z/1739a4ea-bc83-419b-9a6d-7823b81c797c-007/inputDirectory/DataTCLmp/FCol_Lcol100.0.out /home/jupyter/MyData/tapis-jobs-archive/2025-08-14Z/1739a4ea-bc83-419b-9a6d-7823b81c797c-007/inputDirectory/DataTCLmp/RBase_Lcol100.0.out\n"
     ]
    }
   ],
   "source": [
    "import glob, os\n",
    "\n",
    "pattern = os.path.join(dataDir, f\"*Lcol{Lcol}.out\")\n",
    "files = sorted(glob.glob(pattern))\n",
    "for f in files[0:min(10,len(files))]:\n",
    "    print(f)             # line-by-line like `ls`\n",
    "print('')\n",
    "# or:\n",
    "print(\" \".join(files))   # single line, space-separated"
   ]
  },
  {
   "cell_type": "markdown",
   "id": "ec36f12e-e304-4a88-bc6b-39219b5cb716",
   "metadata": {},
   "source": [
    "**Pathlib version**"
   ]
  },
  {
   "cell_type": "code",
   "execution_count": 13,
   "id": "1b0c2853-04dc-4684-8438-9a3505be0f90",
   "metadata": {},
   "outputs": [
    {
     "name": "stdout",
     "output_type": "stream",
     "text": [
      "/home/jupyter/MyData/tapis-jobs-archive/2025-08-14Z/1739a4ea-bc83-419b-9a6d-7823b81c797c-007/inputDirectory/DataTCLmp/DBase_Lcol100.0.out\n",
      "/home/jupyter/MyData/tapis-jobs-archive/2025-08-14Z/1739a4ea-bc83-419b-9a6d-7823b81c797c-007/inputDirectory/DataTCLmp/DCol_Lcol100.0.out\n",
      "/home/jupyter/MyData/tapis-jobs-archive/2025-08-14Z/1739a4ea-bc83-419b-9a6d-7823b81c797c-007/inputDirectory/DataTCLmp/DFree_Lcol100.0.out\n",
      "/home/jupyter/MyData/tapis-jobs-archive/2025-08-14Z/1739a4ea-bc83-419b-9a6d-7823b81c797c-007/inputDirectory/DataTCLmp/FCol_Lcol100.0.out\n",
      "/home/jupyter/MyData/tapis-jobs-archive/2025-08-14Z/1739a4ea-bc83-419b-9a6d-7823b81c797c-007/inputDirectory/DataTCLmp/RBase_Lcol100.0.out\n"
     ]
    }
   ],
   "source": [
    "from pathlib import Path\n",
    "\n",
    "files = sorted(Path(dataDir).glob(f\"*Lcol{Lcol}.out\"))\n",
    "\n",
    "for p in files[0:min(10,len(files))]:\n",
    "    print(p)"
   ]
  },
  {
   "cell_type": "markdown",
   "id": "74f4658f-a876-4bf6-9b67-821b10ecfe16",
   "metadata": {},
   "source": [
    "---\n",
    "\n",
    "## Best Practices & Gotchas\n",
    "\n",
    "* **Always sort** if order matters:"
   ]
  },
  {
   "cell_type": "code",
   "execution_count": 14,
   "id": "aef30f5b-dca6-4d49-94fb-7b738c5a1943",
   "metadata": {},
   "outputs": [
    {
     "name": "stdout",
     "output_type": "stream",
     "text": [
      "/home/jupyter/MyData/tapis-jobs-archive/2025-08-14Z/1739a4ea-bc83-419b-9a6d-7823b81c797c-007/inputDirectory/DataTCLmp/DBase_Lcol100.0.out\n",
      "/home/jupyter/MyData/tapis-jobs-archive/2025-08-14Z/1739a4ea-bc83-419b-9a6d-7823b81c797c-007/inputDirectory/DataTCLmp/DCol_Lcol100.0.out\n",
      "/home/jupyter/MyData/tapis-jobs-archive/2025-08-14Z/1739a4ea-bc83-419b-9a6d-7823b81c797c-007/inputDirectory/DataTCLmp/DFree_Lcol100.0.out\n",
      "/home/jupyter/MyData/tapis-jobs-archive/2025-08-14Z/1739a4ea-bc83-419b-9a6d-7823b81c797c-007/inputDirectory/DataTCLmp/FCol_Lcol100.0.out\n",
      "/home/jupyter/MyData/tapis-jobs-archive/2025-08-14Z/1739a4ea-bc83-419b-9a6d-7823b81c797c-007/inputDirectory/DataTCLmp/RBase_Lcol100.0.out\n"
     ]
    }
   ],
   "source": [
    "files = sorted(files)\n",
    "\n",
    "for p in files[0:min(10,len(files))]:\n",
    "    print(p)"
   ]
  },
  {
   "cell_type": "markdown",
   "id": "8fe4aadb-d024-4cd7-be95-bef19aee54fc",
   "metadata": {},
   "source": [
    "* **Prefer `pathlib`** in new code; it reads cleaner and reduces `os.path` boilerplate.\n",
    "* **Be explicit about recursion**: `rglob(\"*.ext\")` or `glob(\"**/*.ext\", recursive=True)`.\n",
    "* **Avoid shelling out** for path tasks—keep logic in Python for portability, safety, and easier testing.\n",
    "* **Windows notes**: paths are handled correctly by `os.path`/`pathlib`; wildcard matching is done by Python, not the shell, so behavior is consistent across OSes.\n"
   ]
  },
  {
   "cell_type": "markdown",
   "id": "1b89b8c0-5871-46b7-b1d1-05344c6e5a5e",
   "metadata": {},
   "source": [
    "### Splitting into files and directories\n",
    "\n",
    "To organize this output more clearly, you can separate **files** and **directories** using list comprehensions and **os.path.isdir**:"
   ]
  },
  {
   "cell_type": "code",
   "execution_count": 15,
   "id": "0752376d-0020-4bba-96df-4fc2029bf22f",
   "metadata": {},
   "outputs": [],
   "source": [
    "AllContents = os.listdir(dataDir)"
   ]
  },
  {
   "cell_type": "code",
   "execution_count": 16,
   "id": "9fcf91f0-9bfe-4fea-832a-074cf82dc0d2",
   "metadata": {},
   "outputs": [
    {
     "name": "stdout",
     "output_type": "stream",
     "text": [
      " -- directories: []\n"
     ]
    }
   ],
   "source": [
    "directories = [name for name in AllContents if os.path.isdir(os.path.join(dataDir, name))]\n",
    "\n",
    "print(f\" -- directories:\",directories[:20]); # show only the first few"
   ]
  },
  {
   "cell_type": "code",
   "execution_count": 17,
   "id": "55565df9-c895-4b34-a29f-56589a5699c6",
   "metadata": {},
   "outputs": [
    {
     "name": "stdout",
     "output_type": "stream",
     "text": [
      " -- files: ['DBase_Lcol141.0.out', 'DBase_Lcol149.0.out', 'DBase_Lcol139.0.out', 'DBase_Lcol144.0.out', 'DBase_Lcol143.0.out', 'DBase_Lcol142.0.out', 'DBase_Lcol209.0.out', 'DBase_Lcol148.0.out', 'DBase_Lcol138.0.out', 'DBase_Lcol145.0.out', 'DBase_Lcol151.0.out', 'DBase_Lcol140.0.out', 'DBase_Lcol14.0.out', 'DBase_Lcol15.0.out', 'DBase_Lcol146.0.out', 'DBase_Lcol147.0.out', 'DBase_Lcol195.0.out', 'DBase_Lcol150.0.out', 'DBase_Lcol208.0.out', 'DBase_Lcol137.0.out']\n"
     ]
    }
   ],
   "source": [
    "files = [name for name in AllContents if not os.path.isdir(os.path.join(dataDir, name))] # select files as not directories\n",
    "\n",
    "print(f\" -- files:\",files[:20]); # show only the first few"
   ]
  },
  {
   "cell_type": "markdown",
   "id": "a34f8e86-aa5b-40bd-9fbb-1ab673672894",
   "metadata": {},
   "source": [
    "### Why this is helpful\n",
    "\n",
    "* You get a quick overview of what’s inside your data folder.\n",
    "* Separating files vs. directories is especially useful if your scripts process only data files, or need to recursively explore subfolders.\n",
    "* **The list of files is stored in an array so you can use it in your workflow**"
   ]
  },
  {
   "cell_type": "markdown",
   "id": "5ed7b184-5d82-4842-8c37-5b43e234d39e",
   "metadata": {},
   "source": [
    "## Recipe Box: Common File Listing Patterns\n",
    "\n",
    "These short examples cover frequent file-listing tasks using `glob`, `pathlib`, and `os`.\n",
    "\n",
    "---\n",
    "\n",
    "### **1. List Only Files (no directories)**\n",
    "\n",
    "```python\n",
    "import os\n",
    "files_only = [f for f in os.listdir(dataDir) \n",
    "              if os.path.isfile(os.path.join(dataDir, f))]\n",
    "```\n",
    "\n",
    "**Pathlib version:**\n",
    "\n",
    "```python\n",
    "from pathlib import Path\n",
    "files_only = [p for p in Path(dataDir).iterdir() if p.is_file()]\n",
    "```\n",
    "\n",
    "---\n",
    "\n",
    "### **2. List Only Directories**\n",
    "\n",
    "```python\n",
    "dirs_only = [d for d in os.listdir(dataDir) \n",
    "             if os.path.isdir(os.path.join(dataDir, d))]\n",
    "```\n",
    "\n",
    "**Pathlib version:**\n",
    "\n",
    "```python\n",
    "dirs_only = [p for p in Path(dataDir).iterdir() if p.is_dir()]\n",
    "```\n",
    "\n",
    "---\n",
    "\n",
    "### **3. Match by Suffix / Extension**\n",
    "\n",
    "```python\n",
    "import glob, os\n",
    "txt_files = glob.glob(os.path.join(dataDir, \"*.txt\"))\n",
    "```\n",
    "\n",
    "**Pathlib version:**\n",
    "\n",
    "```python\n",
    "txt_files = list(Path(dataDir).glob(\"*.txt\"))\n",
    "```\n",
    "\n",
    "---\n",
    "\n",
    "### **4. Match by Prefix**\n",
    "\n",
    "```python\n",
    "prefixed = [f for f in os.listdir(dataDir) if f.startswith(\"run_\")]\n",
    "```\n",
    "\n",
    "---\n",
    "\n",
    "### **5. Recursive Search (all subfolders)**\n",
    "\n",
    "```python\n",
    "import glob, os\n",
    "pattern = os.path.join(dataDir, \"**\", \"*.out\")\n",
    "files = glob.glob(pattern, recursive=True)\n",
    "```\n",
    "\n",
    "**Pathlib version:**\n",
    "\n",
    "```python\n",
    "files = list(Path(dataDir).rglob(\"*.out\"))\n",
    "```\n",
    "\n",
    "---\n",
    "\n",
    "### **6. Natural Sort (sort by embedded numbers, like `file2`, `file10`)**\n",
    "\n",
    "```python\n",
    "import re\n",
    "\n",
    "def natural_key(s):\n",
    "    return [int(text) if text.isdigit() else text.lower()\n",
    "            for text in re.split(r'(\\d+)', str(s))]\n",
    "\n",
    "files = sorted(Path(dataDir).glob(\"*.out\"), key=natural_key)\n",
    "```\n",
    "\n",
    "---\n",
    "\n",
    "### **7. Combine Multiple Patterns**\n",
    "\n",
    "```python\n",
    "from itertools import chain\n",
    "import glob, os\n",
    "\n",
    "patterns = [\"*.tcl\", \"*.py\"]\n",
    "matches = list(chain.from_iterable(\n",
    "    glob.glob(os.path.join(dataDir, pat)) for pat in patterns\n",
    "))\n",
    "```\n",
    "\n",
    "**Pathlib version:**\n",
    "\n",
    "```python\n",
    "matches = []\n",
    "for pat in [\"*.tcl\", \"*.py\"]:\n",
    "    matches.extend(Path(dataDir).glob(pat))\n",
    "```\n",
    "\n",
    "---\n",
    "\n",
    "### **8. Ignore Certain Files**\n",
    "\n",
    "```python\n",
    "files = [f for f in os.listdir(dataDir)\n",
    "         if not f.endswith(\".bak\") and not f.startswith(\"temp\")]\n",
    "```\n",
    "\n",
    "---\n",
    "\n",
    "### **9. Get Full Paths for All Matches**\n",
    "\n",
    "```python\n",
    "full_paths = [os.path.join(dataDir, f) for f in os.listdir(dataDir)]\n",
    "```\n",
    "\n",
    "**Pathlib version:**\n",
    "\n",
    "```python\n",
    "full_paths = list(Path(dataDir).iterdir())\n",
    "```\n",
    "\n",
    "---\n",
    "\n",
    "### **10. Mixed Example: List `.out` files containing `Lcol12`, sorted**\n",
    "\n",
    "```python\n",
    "import glob, os\n",
    "pattern = os.path.join(dataDir, \"*Lcol12*.out\")\n",
    "files = sorted(glob.glob(pattern))\n",
    "for f in files:\n",
    "    print(f)\n",
    "```\n"
   ]
  },
  {
   "cell_type": "markdown",
   "id": "6d0143e6-fd02-41a8-ba9b-051c2df405e5",
   "metadata": {},
   "source": [
    "## Python Paths & Wildcards — Quick Reference Cheat Sheet\n",
    "\n",
    "here’s a **one-page visual cheat sheet** laid out like a quick-reference poster so you can instantly compare `os`, `glob`, and `pathlib` patterns for the same task.\n",
    "\n",
    "| Task                                | `os` module                                                             | `glob` module                                                 | `pathlib` module                                                          |\n",
    "| ----------------------------------- | ----------------------------------------------------------------------- | ------------------------------------------------------------- | ------------------------------------------------------------------------- |\n",
    "| **List all entries in a directory** | `os.listdir(path)`                                                      | —                                                             | `Path(path).iterdir()`                                                    |\n",
    "| **List only files**                 | `[f for f in os.listdir(path) if os.path.isfile(os.path.join(path,f))]` | —                                                             | `[p for p in Path(path).iterdir() if p.is_file()]`                        |\n",
    "| **List only directories**           | `[d for d in os.listdir(path) if os.path.isdir(os.path.join(path,d))]`  | —                                                             | `[p for p in Path(path).iterdir() if p.is_dir()]`                         |\n",
    "| **Match pattern in current dir**    | —                                                                       | `glob.glob(\"*.txt\")`                                          | `Path(path).glob(\"*.txt\")`                                                |\n",
    "| **Match pattern with subfolders**   | —                                                                       | `glob.glob(\"**/*.txt\", recursive=True)`                       | `Path(path).rglob(\"*.txt\")`                                               |\n",
    "| **Match by prefix**                 | `[f for f in os.listdir(path) if f.startswith(\"run_\")]`                 | —                                                             | `[p for p in Path(path).iterdir() if p.name.startswith(\"run_\")]`          |\n",
    "| **Match by suffix**                 | `[f for f in os.listdir(path) if f.endswith(\".txt\")]`                   | `glob.glob(\"*.txt\")`                                          | `Path(path).glob(\"*.txt\")`                                                |\n",
    "| **Full path for matches**           | `[os.path.join(path,f) for f in os.listdir(path)]`                      | `[os.path.abspath(p) for p in glob.glob(\"*.txt\")]`            | `list(Path(path).glob(\"*.txt\"))` (already full path)                      |\n",
    "| **Sorted results**                  | `sorted(os.listdir(path))`                                              | `sorted(glob.glob(\"*.txt\"))`                                  | `sorted(Path(path).glob(\"*.txt\"))`                                        |\n",
    "| **Multiple patterns**               | —                                                                       | `chain.from_iterable(glob.glob(p) for p in [\"*.tcl\",\"*.py\"])` | `list(chain.from_iterable(Path(path).glob(p) for p in [\"*.tcl\",\"*.py\"]))` |\n",
    "| **Natural sort**                    | *(custom key with `re`)*                                                | *(same custom key)*                                           | *(same custom key)*                                                       |\n",
    "\n",
    "---\n",
    "\n",
    "### Tips for Choosing a Method\n",
    "\n",
    "* **`os.listdir()`** — fastest for *raw directory listings*, but no pattern matching. Use with filtering logic.\n",
    "* **`glob.glob()`** — simplest for **wildcards** (`*`, `?`, `[abc]`), supports recursive search.\n",
    "* **`pathlib.Path.glob()` / `.rglob()`** — modern, chainable, works well with other path operations (`.name`, `.stem`, `.suffix`).\n",
    "\n",
    "---\n",
    "\n",
    "### Example: Cross-Platform Replacement for\n",
    "\n",
    "```python\n",
    "os.system(f'ls {dataDir}/*Lcol{Lcol}.out')\n",
    "```\n",
    "\n",
    "```python\n",
    "import glob, os\n",
    "\n",
    "pattern = os.path.join(dataDir, f\"*Lcol{Lcol}.out\")\n",
    "files = sorted(glob.glob(pattern))\n",
    "for f in files:\n",
    "    print(f)\n",
    "```\n",
    "\n",
    "**Pathlib version:**\n",
    "\n",
    "```python\n",
    "from pathlib import Path\n",
    "\n",
    "files = sorted(Path(dataDir).glob(f\"*Lcol{Lcol}.out\"))\n",
    "for p in files:\n",
    "    print(p)\n",
    "```\n"
   ]
  }
 ],
 "metadata": {
  "IMAGE_NAME": "taccsciapps/ds-nb-img:base-0.2.4",
  "UUID": "d1af4976-5d4c-11f0-b54e-52dd1a6c9df8",
  "kernelspec": {
   "display_name": "Python 3 (ipykernel)",
   "language": "python",
   "name": "python3"
  },
  "language_info": {
   "codemirror_mode": {
    "name": "ipython",
    "version": 3
   },
   "file_extension": ".py",
   "mimetype": "text/x-python",
   "name": "python",
   "nbconvert_exporter": "python",
   "pygments_lexer": "ipython3",
   "version": "3.12.11"
  }
 },
 "nbformat": 4,
 "nbformat_minor": 5
}
