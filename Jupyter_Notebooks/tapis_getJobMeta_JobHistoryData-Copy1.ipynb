{
 "cells": [
  {
   "cell_type": "markdown",
   "metadata": {},
   "source": [
    "<a class=\"reference external\" \n",
    "    href=\"https://jupyter.designsafe-ci.org/hub/user-redirect/lab/tree/CommunityData/OpenSees/TrainingMaterial/training-OpenSees-on-DesignSafe/Jupyter_Notebooks/tapis_getJobMeta_JobHistoryData.ipynb\" \n",
    "    target=\"_blank\"\n",
    "    >\n",
    "<img alt=\"Try on DesignSafe\" src=\"https://raw.githubusercontent.com/DesignSafe-Training/pinn/main/DesignSafe-Badge.svg\" /></a>"
   ]
  },
  {
   "cell_type": "markdown",
   "metadata": {},
   "source": [
    "# Job History 📒\n",
    "\n",
    "by Silvia Mazzoni, DesignSafe, 2025\n",
    "\n",
    "Using the job ID (uuid), you can access detailed metadata on a job via Tapis's ***getJobHistory*** method. \n",
    "\n",
    "* The command is used to **retrieve detailed information about each stage of a job**.\n",
    "* You can retrieve information about the duration of each stage. \n",
    "\n",
    "We are going to use a python function for all this, it collects the output"
   ]
  },
  {
   "cell_type": "code",
   "execution_count": 1,
   "metadata": {
    "tags": [
     "remove-input"
    ]
   },
   "outputs": [
    {
     "name": "stdout",
     "output_type": "stream",
     "text": [
      "Using local utilities library\n"
     ]
    }
   ],
   "source": [
    "# Local Utilities Library\n",
    "# you can remove the logic associated with the local path\n",
    "import sys,os\n",
    "relativePath = '../OpsUtils'\n",
    "if os.path.exists(relativePath):\n",
    "    print(\"Using local utilities library\")\n",
    "    PathOpsUtils = os.path.expanduser(relativePath)\n",
    "else:\n",
    "    PathOpsUtils = os.path.expanduser('~/CommunityData/OpenSees/TrainingMaterial/training-OpenSees-on-DesignSafe/OpsUtils')\n",
    "if not PathOpsUtils in sys.path: sys.path.append(PathOpsUtils)\n",
    "from OpsUtils import OpsUtils"
   ]
  },
  {
   "cell_type": "markdown",
   "metadata": {},
   "source": [
    "---\n",
    "## Connect to Tapis\n",
    "Yes, you need to first connect to Tapis, this authenticates you"
   ]
  },
  {
   "cell_type": "code",
   "execution_count": 2,
   "metadata": {},
   "outputs": [
    {
     "name": "stdout",
     "output_type": "stream",
     "text": [
      " -- Checking tapis Token --\n",
      " Time now: 2025-08-06 20:20:21.295655+00:00\n",
      " Token loaded from file.\n",
      " Token is still valid!\n",
      " Token expires At: 2025-08-06 20:42:53+00:00\n",
      " Token expires In  0:22:31.704345  hh:mm:sec\n",
      "-- LOG IN SUCCESSFUL!!! --\n"
     ]
    }
   ],
   "source": [
    "t=OpsUtils.connect_tapis()"
   ]
  },
  {
   "cell_type": "markdown",
   "metadata": {},
   "source": [
    "---\n",
    "## Get Job History from Tapis\n",
    "\n",
    "**Purpose:** Get a timestamped history of job status changes.\n",
    "\n",
    "This is valuable data because it echoes all stages of your job"
   ]
  },
  {
   "cell_type": "code",
   "execution_count": 3,
   "metadata": {
    "tags": [
     "remove-input"
    ]
   },
   "outputs": [
    {
     "data": {
      "text/html": [
       "\n",
       "                      <details style=\"margin-top:1em; font-family:monospace; background:white; \n",
       "                          padding:0.25em; border-radius:6px; border:1px solid #ccc;\">\n",
       "                        <summary style=\"cursor:pointer; font-weight:bold; background:white; \n",
       "                          padding:0.3em 0.5em; border-radius:4px;\">get_tapis_job_history_data.py</summary>\n",
       "\n",
       "                        <button onclick=\"navigator.clipboard.writeText(document.getElementById('8179bff0d03240e78cba01f0ff43b42e').innerText)\">\n",
       "                          📋 Copy\n",
       "                        </button>\n",
       "                        <pre id=\"8179bff0d03240e78cba01f0ff43b42e\" style=\"white-space:pre-wrap; margin:0.25em 0 0 0; \n",
       "                            background:#d4fbff; padding:.3em; border-radius:5px;\">\n",
       "<b># ../OpsUtils/OpsUtils/Tapis/get_tapis_job_history_data.py</b>\n",
       "def get_tapis_job_history_data(t, jobUuid,\n",
       "                               print_out=True,\n",
       "                               return_data=False,\n",
       "                              get_job_error_message = False):\n",
       "    \"\"\"\n",
       "    Analyze and print a TACC job's full history from Tapis, including step durations,\n",
       "    data transfer summaries, errors, and top-level job metadata.\n",
       "\n",
       "    This function retrieves all historical events for a given job UUID from Tapis,\n",
       "    breaks down how long the job spent in each status (QUEUED, RUNNING, etc),\n",
       "    measures input/archive transfer durations, prints any job-level error messages,\n",
       "    and optionally returns structured dictionaries for programmatic analysis.\n",
       "\n",
       "    Parameters:\n",
       "    ----------\n",
       "    t : Tapis\n",
       "        An authenticated Tapis client (from connect_tapis()).\n",
       "\n",
       "    jobUuid : str\n",
       "        The UUID of the Tapis job to inspect.\n",
       "\n",
       "    getMetadata : bool, default=True\n",
       "        If True, prints core job metadata (uuid, name, status, appId, created).\n",
       "\n",
       "    printEverything : bool, default=False\n",
       "        Shortcut that turns on all detailed printouts (steps, durations, transfers, full history).\n",
       "\n",
       "\n",
       "\n",
       "    printStepDurations : bool, default=True\n",
       "        Prints how long the job spent in each status, plus the total runtime.\n",
       "\n",
       "    printInput : bool, default=True\n",
       "        Prints input/archive transfer metrics and durations.\n",
       "\n",
       "    returnData : bool, default=False\n",
       "        If True, returns a dictionary with structured data:\n",
       "            {\n",
       "                'StepsMetricsDict': duration by job status,\n",
       "                'StepList': step-by-step summary strings,\n",
       "                'DataTransfersDict': input/archive transfer info,\n",
       "                'JobErrorList': any captured error messages,\n",
       "                'MetadataDict': core job metadata\n",
       "            }\n",
       "\n",
       "    Returns:\n",
       "    -------\n",
       "    dict or None\n",
       "        Returns the structured data dictionary if returnData=True,\n",
       "        otherwise prints summaries and returns None.\n",
       "\n",
       "    Example:\n",
       "    -------\n",
       "    process_tacc_job_history(t, jobUuid,\n",
       "                             printStepDurations=True,\n",
       "                             printInput=True)\n",
       "\n",
       "    Or to get structured metrics for later plotting:\n",
       "\n",
       "    job_data = process_tacc_job_history(t, jobUuid, returnData=True)\n",
       "    \"\"\"\n",
       "    # Silvia Mazzoni, 2025\n",
       "\n",
       "    from datetime import datetime\n",
       "    from OpsUtils import OpsUtils\n",
       "    def convert_tacc_time(timestamp_str):\n",
       "        # Parse the string (Z means UTC)\n",
       "        dt = datetime.strptime(timestamp_str, \"%Y-%m-%dT%H:%M:%S.%fZ\")\n",
       "\n",
       "        # Convert to Unix timestamp\n",
       "        unix_time = dt.timestamp()\n",
       "        return unix_time\n",
       "        \n",
       "    def t_jobs_getJobHistory(t,jobUuid):\n",
       "        try: \n",
       "            JobHistory = t.jobs.getJobHistory(jobUuid=jobUuid)\n",
       "            return JobHistory\n",
       "        except Exception as e:\n",
       "            print(e)\n",
       "            return -1\n",
       "\n",
       "        \n",
       "    JobHistory = t_jobs_getJobHistory(t,jobUuid)\n",
       "    \n",
       "    if JobHistory==-1:\n",
       "        return JobHistory\n",
       "        \n",
       "    printStepDurations=print_out\n",
       "    printInput=print_out\n",
       "    printAllSteps = print_out\n",
       "    printLastStep = print_out\n",
       "    printJobErrorMessage = print_out\n",
       "    if get_job_error_message:\n",
       "        printJobErrorMessage = True\n",
       "\n",
       "        \n",
       "    iline = 0\n",
       "    preTime = 0\n",
       "    STATdur = []\n",
       "    STATdur.append('\\n++++++++++++++++++++++++++++++++++++++++++++++++++\\n+ STEP DURATION +\\n++++++++++++++++++++++++++++++++++++++++++++++++++')\n",
       "    INPUTdur = []\n",
       "    AllStepList = []\n",
       "    AllStepList.append('\\n++++++++++++++++++++++++++++++++++++++++++++++++++\\n+ STEP DETAILS +\\n++++++++++++++++++++++++++++++++++++++++++++++++++')\n",
       "    LastStepList = []\n",
       "    LastStepList.append('\\n++++++++++++++++++++++++++++++++++++++++++++++++++\\n+ LAST-STEP DETAILS +\\n++++++++++++++++++++++++++++++++++++++++++++++++++')\n",
       "    keySkipList = []\n",
       "    totalT = 0\n",
       "    stepDict = {}\n",
       "    stepDict['created']={}\n",
       "    stepDict['duration']={}\n",
       "    transfersDict={}\n",
       "    JobErrorList = []\n",
       "    NHistoryLines = len(JobHistory)\n",
       "    for idx, thisHistoryLine in enumerate(JobHistory):\n",
       "        AllStepList.append(f\"Step {idx+1} of {NHistoryLines}\")\n",
       "        AllStepList.append('-' * 40)\n",
       "        if idx == len(JobHistory):\n",
       "            LastStepList.append(f\"Step {idx+1} of {NHistoryLines-1}\")\n",
       "            LastStepList.append('-' * 40)\n",
       "        Hdict = thisHistoryLine.__dict__\n",
       "        flat_hist = OpsUtils.flatten_dict(Hdict)\n",
       "        event = flat_hist['event']\n",
       "        created = flat_hist['created']\n",
       "        createdTime = convert_tacc_time(created)\n",
       "        eventDetail = flat_hist['eventDetail']\n",
       "        # printSTR = f'-->{created}\\n event+detail: {event}+{eventDetail}'\n",
       "        if event == 'JOB_NEW_STATUS':\n",
       "            newJobStatus = flat_hist['description.newJobStatus']\n",
       "            # printSTR = f'{printSTR}\\n newJobStatus: {newJobStatus}'\n",
       "            if preTime !=0:\n",
       "                oldJobStatus = flat_hist['description.oldJobStatus']\n",
       "                dTime = round(createdTime-preTime,1)\n",
       "                xtra = ' ' * (20-len(oldJobStatus))\n",
       "                STATdur.append(f'  {oldJobStatus}:{xtra} {dTime} sec   \\t created: {preCreated}')\n",
       "                stepDict['created'][oldJobStatus]=preCreated\n",
       "                stepDict['duration'][oldJobStatus]=dTime\n",
       "                totalT += dTime\n",
       "            else:\n",
       "                preTime = createdTime\n",
       "            preTime = createdTime\n",
       "            preCreated = created\n",
       "\n",
       "        elif event == 'JOB_SUBSCRIPTION':\n",
       "            a = 3\n",
       "            # nothing measurable here\n",
       "        elif event == 'JOB_INPUT_TRANSACTION_ID' or event == 'JOB_ARCHIVE_TRANSACTION_ID':\n",
       "            INPUTdur.append(f'\\n----------------------\\n {newJobStatus}\\n----------------------')\n",
       "            INPUTdur.append('  ------------- Transfer Summary -------------')\n",
       "            transfersDict[event] = {}\n",
       "\n",
       "            outList = ['estimatedTotalBytes','totalBytesTransferred','completeTransfers','totalTransfers']\n",
       "            for k in outList:\n",
       "                thisKey = f'transferSummary.{k}'\n",
       "                n = flat_hist[thisKey]\n",
       "                xtra = ' ' * (25-len(k))\n",
       "                INPUTdur.append(f'  {k}:{xtra} {n}')\n",
       "                transfersDict[event][k]=n\n",
       "            INPUTdur.append('  ------------- Transfer Duration -------------')\n",
       "            createdTime = convert_tacc_time(flat_hist['transferSummary.created'])\n",
       "            startTime = convert_tacc_time(flat_hist['transferSummary.startTime'])\n",
       "            endTime = convert_tacc_time(flat_hist['transferSummary.endTime'])\n",
       "            timeDiff = round(startTime-createdTime,1)\n",
       "            INPUTdur.append(f'  Create-to-TransferStart Duration: {timeDiff} sec')\n",
       "            transfersDict[event]['Create-to-TransferStart Duration']=timeDiff\n",
       "            timeDiff = round(endTime-startTime,1)\n",
       "            INPUTdur.append(f'  TransferStart-to-TransferEnd Duration: {timeDiff} sec')\n",
       "            transfersDict[event]['TransferStart-to-TransferEnd Duration']=timeDiff\n",
       "            timeDiff = round(endTime-createdTime,1)\n",
       "            INPUTdur.append(f'  Create-to-TransferEnd Duration: {timeDiff} sec')\n",
       "            transfersDict[event]['Create-to-TransferEnd Duration']=timeDiff\n",
       "            \n",
       "        elif event == 'JOB_ERROR_MESSAGE':\n",
       "            JobErrorDict = {}\n",
       "            JobErrorDict['event'] = event\n",
       "            JobErrorDict['created'] = flat_hist['created']\n",
       "            JobErrorDict['eventDetail'] = flat_hist['eventDetail']\n",
       "            JobErrorDict['jobStatus'] = flat_hist['description.jobStatus']\n",
       "            JobErrorDict['message'] = flat_hist['description.message']\n",
       "            JobErrorList.append(JobErrorDict)\n",
       "        else:\n",
       "            print(f'This other event needs to be resolved: {event}')\n",
       "\n",
       "        for k, n in flat_hist.items():\n",
       "            if n is None or isinstance(n, type(None)) or not str(n):\n",
       "                continue\n",
       "            AllStepList.append(f\"{k:<35} : {n}\")\n",
       "            if idx == NHistoryLines-1:\n",
       "                LastStepList.append(f\"{k:<35} : {n}\")\n",
       "        AllStepList.append('-' * 40)\n",
       "        if idx == NHistoryLines-1:\n",
       "            LastStepList.append('-' * 40)\n",
       "        \n",
       "\n",
       "        message = flat_hist[\"description.message\"]# .replace('.','.\\n          ')\n",
       "\n",
       "\n",
       "    STATdur.append(f'  Total Duration: {totalT} sec')\n",
       "    stepDict['duration']['TOTAL']=totalT\n",
       "  \n",
       "\n",
       "    if (printStepDurations or printInput or printAllSteps or printLastStep) or (printJobErrorMessage and JobErrorList!=[]):\n",
       "        import ipywidgets as widgets\n",
       "        from IPython.display import display, clear_output\n",
       "        historydata_out = widgets.Output()\n",
       "        historydata_accordion = widgets.Accordion(children=[historydata_out])\n",
       "        historydata_accordion.set_title(0, f'Job History Data   ({jobUuid})')\n",
       "        historydata_accordion.selected_index = 0\n",
       "        display(historydata_accordion)\n",
       "        with historydata_out:\n",
       "            print('\\n++++++++++++++++++++++++++++')\n",
       "            print('++++++ JOB-HISTORY DATA ++++++')\n",
       "            print('++++++++++++++++++++++++++++++')\n",
       "            print(f'++++++ jobUuid: {jobUuid}')\n",
       "            print('+++++++++++++++++++++++++')\n",
       "        \n",
       "    if printJobErrorMessage and JobErrorList!=[]:\n",
       "        this_out = widgets.Output()\n",
       "        this_accordion = widgets.Accordion(children=[this_out])\n",
       "        this_accordion.set_title(0, f'Job ERROR MESSAGE')\n",
       "        this_accordion.selected_index = 0\n",
       "        \n",
       "        with historydata_out:\n",
       "            display(this_accordion)\n",
       "        with this_out:\n",
       "        \n",
       "            print(f'\\n++++++++++++++++++++++++++++++++++++++++++++++++++\\n+ {JobErrorDict[\"event\"]} +\\n++++++++++++++++++++++++++++++++++++++++++++++++++')\n",
       "            for JobErrorDict in JobErrorList:\n",
       "                for k,n in JobErrorDict.items():\n",
       "                    print(f'{k}:\\t{n}')\n",
       "                print('------')\n",
       "            print('++++++++++++++++++++++++++++++++++++++++++++++++++')\n",
       "\n",
       "\n",
       "            \n",
       "    if printStepDurations:\n",
       "        this_out = widgets.Output()\n",
       "        this_accordion = widgets.Accordion(children=[this_out])\n",
       "        this_accordion.set_title(0, f'Steps Duration')\n",
       "        this_accordion.selected_index = 0\n",
       "        \n",
       "        with historydata_out:\n",
       "            display(this_accordion)\n",
       "        with this_out:\n",
       "        \n",
       "            for thisL in STATdur:\n",
       "                print(thisL)\n",
       "            print('++++++++++++++++++++++++++++++++++++++++++++++++++')\n",
       "    if printInput:\n",
       "        this_out = widgets.Output()\n",
       "        this_accordion = widgets.Accordion(children=[this_out])\n",
       "        this_accordion.set_title(0, f'Job-Stagings Info')\n",
       "        # this_accordion.selected_index = 0\n",
       "        \n",
       "        with historydata_out:\n",
       "            display(this_accordion)\n",
       "        with this_out:\n",
       "        \n",
       "            for thisL in INPUTdur:\n",
       "                print(thisL)\n",
       "            print('++++++++++++++++++++++++++++++++++++++++++++++++++')\n",
       "    if printAllSteps:\n",
       "        this_out = widgets.Output()\n",
       "        this_accordion = widgets.Accordion(children=[this_out])\n",
       "        this_accordion.set_title(0, f'ALL Steps Info')\n",
       "        # this_accordion.selected_index = 0\n",
       "        \n",
       "        with historydata_out:\n",
       "            display(this_accordion)\n",
       "        with this_out:\n",
       "        \n",
       "            for thisL in AllStepList:\n",
       "                print(thisL)\n",
       "            print('++++++++++++++++++++++++++++++++++++++++++++++++++')\n",
       "    if printLastStep:\n",
       "        this_out = widgets.Output()\n",
       "        this_accordion = widgets.Accordion(children=[this_out])\n",
       "        this_accordion.set_title(0, f'Last Step Info')\n",
       "        # this_accordion.selected_index = 0\n",
       "        \n",
       "        with historydata_out:\n",
       "            display(this_accordion)\n",
       "        with this_out:\n",
       "        \n",
       "            for thisL in LastStepList:\n",
       "                print(thisL)\n",
       "            print('++++++++++++++++++++++++++++++++++++++++++++++++++')\n",
       "\n",
       "    if return_data:\n",
       "        returnDict = {}\n",
       "        returnDict['StepsMetricsDict'] = stepDict\n",
       "        returnDict['DataTransfersDict'] = transfersDict\n",
       "        returnDict['JobHistory'] = JobHistory\n",
       "        \n",
       "        return returnDict\n",
       "    else:\n",
       "        return ''\n",
       "    </pre>\n",
       "                      </details>\n",
       "                    "
      ],
      "text/plain": [
       "<IPython.core.display.HTML object>"
      ]
     },
     "metadata": {},
     "output_type": "display_data"
    }
   ],
   "source": [
    "OpsUtils.show_text_file_in_accordion(PathOpsUtils,['get_tapis_job_history_data.py'])"
   ]
  },
  {
   "cell_type": "markdown",
   "metadata": {},
   "source": [
    "### FINISHED JOB"
   ]
  },
  {
   "cell_type": "code",
   "execution_count": 4,
   "metadata": {},
   "outputs": [
    {
     "data": {
      "application/vnd.jupyter.widget-view+json": {
       "model_id": "510033abd2d54460b503856ebdd6c0bd",
       "version_major": 2,
       "version_minor": 0
      },
      "text/plain": [
       "Accordion(children=(Output(),), selected_index=0, titles=('Job History Data   (4dfa35e1-15cd-48fd-a090-f348544…"
      ]
     },
     "metadata": {},
     "output_type": "display_data"
    },
    {
     "data": {
      "text/plain": [
       "''"
      ]
     },
     "execution_count": 4,
     "metadata": {},
     "output_type": "execute_result"
    }
   ],
   "source": [
    "jobUuid = '4dfa35e1-15cd-48fd-a090-f348544dee1f-007'\n",
    "OpsUtils.get_tapis_job_history_data(t, jobUuid)"
   ]
  },
  {
   "cell_type": "markdown",
   "metadata": {},
   "source": [
    "### SAME JOB\n",
    "print nothing."
   ]
  },
  {
   "cell_type": "code",
   "execution_count": 5,
   "metadata": {},
   "outputs": [],
   "source": [
    "JobHistoryData = OpsUtils.get_tapis_job_history_data(t, jobUuid, print_out=False,return_data=True)"
   ]
  },
  {
   "cell_type": "markdown",
   "metadata": {},
   "source": [
    "### FAILED JOB"
   ]
  },
  {
   "cell_type": "code",
   "execution_count": 6,
   "metadata": {},
   "outputs": [
    {
     "data": {
      "application/vnd.jupyter.widget-view+json": {
       "model_id": "9ebcda699fb84287ad36e8d73b60ab36",
       "version_major": 2,
       "version_minor": 0
      },
      "text/plain": [
       "Accordion(children=(Output(),), selected_index=0, titles=('Job History Data   (0ee27b36-13aa-4eba-a8d2-7ca52d1…"
      ]
     },
     "metadata": {},
     "output_type": "display_data"
    },
    {
     "data": {
      "text/plain": [
       "''"
      ]
     },
     "execution_count": 6,
     "metadata": {},
     "output_type": "execute_result"
    }
   ],
   "source": [
    "jobUuid = '0ee27b36-13aa-4eba-a8d2-7ca52d134cae-007'\n",
    "OpsUtils.get_tapis_job_history_data(t, jobUuid)"
   ]
  },
  {
   "cell_type": "markdown",
   "metadata": {},
   "source": [
    "### ONE MORE FAILED JOB"
   ]
  },
  {
   "cell_type": "code",
   "execution_count": 7,
   "metadata": {},
   "outputs": [
    {
     "data": {
      "application/vnd.jupyter.widget-view+json": {
       "model_id": "e54615d354dd4d048427af89e5c01e66",
       "version_major": 2,
       "version_minor": 0
      },
      "text/plain": [
       "Accordion(children=(Output(),), selected_index=0, titles=('Job History Data   (fdd58183-173d-4a97-b67f-76467f4…"
      ]
     },
     "metadata": {},
     "output_type": "display_data"
    },
    {
     "data": {
      "text/plain": [
       "''"
      ]
     },
     "execution_count": 7,
     "metadata": {},
     "output_type": "execute_result"
    }
   ],
   "source": [
    "jobUuid = 'fdd58183-173d-4a97-b67f-76467f4e9ec3-007'\n",
    "OpsUtils.get_tapis_job_history_data(t, jobUuid)"
   ]
  },
  {
   "cell_type": "markdown",
   "metadata": {},
   "source": [
    "### YET ANOTHER FAILED JOB"
   ]
  },
  {
   "cell_type": "code",
   "execution_count": 8,
   "metadata": {},
   "outputs": [
    {
     "data": {
      "application/vnd.jupyter.widget-view+json": {
       "model_id": "17946e9241dc4279a4dbd80ca96cff15",
       "version_major": 2,
       "version_minor": 0
      },
      "text/plain": [
       "Accordion(children=(Output(),), selected_index=0, titles=('Job History Data   (487fa9b9-c73b-48fc-bda8-1a0f47d…"
      ]
     },
     "metadata": {},
     "output_type": "display_data"
    },
    {
     "data": {
      "text/plain": [
       "''"
      ]
     },
     "execution_count": 8,
     "metadata": {},
     "output_type": "execute_result"
    }
   ],
   "source": [
    "jobUuid = '487fa9b9-c73b-48fc-bda8-1a0f47d5d483-007'\n",
    "OpsUtils.get_tapis_job_history_data(t, jobUuid)"
   ]
  },
  {
   "cell_type": "markdown",
   "metadata": {},
   "source": [
    "### YES ANOTHER FAILED JOB"
   ]
  },
  {
   "cell_type": "code",
   "execution_count": 9,
   "metadata": {},
   "outputs": [
    {
     "data": {
      "application/vnd.jupyter.widget-view+json": {
       "model_id": "00f97af9fb994d38ae4cab22a6792866",
       "version_major": 2,
       "version_minor": 0
      },
      "text/plain": [
       "Accordion(children=(Output(),), selected_index=0, titles=('Job History Data   (b35ab3c2-0436-4c98-9066-367b9db…"
      ]
     },
     "metadata": {},
     "output_type": "display_data"
    },
    {
     "data": {
      "text/plain": [
       "''"
      ]
     },
     "execution_count": 9,
     "metadata": {},
     "output_type": "execute_result"
    }
   ],
   "source": [
    "jobUuid = 'b35ab3c2-0436-4c98-9066-367b9db67f9c-007'\n",
    "OpsUtils.get_tapis_job_history_data(t, jobUuid)"
   ]
  }
 ],
 "metadata": {
  "IMAGE_NAME": "taccsciapps/ds-nb-img:base-0.2.3",
  "UUID": "73e0880d-9b87-11ec-9c1c-13579dd95994",
  "celltoolbar": "Raw Cell Format",
  "kernelspec": {
   "display_name": "Python 3 (ipykernel)",
   "language": "python",
   "name": "python3"
  },
  "language_info": {
   "codemirror_mode": {
    "name": "ipython",
    "version": 3
   },
   "file_extension": ".py",
   "mimetype": "text/x-python",
   "name": "python",
   "nbconvert_exporter": "python",
   "pygments_lexer": "ipython3",
   "version": "3.12.11"
  }
 },
 "nbformat": 4,
 "nbformat_minor": 4
}
