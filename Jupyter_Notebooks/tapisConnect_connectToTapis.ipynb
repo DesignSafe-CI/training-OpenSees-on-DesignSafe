{
 "cells": [
  {
   "cell_type": "markdown",
   "metadata": {},
   "source": [
    "<a class=\"reference external\" \n",
    "    href=\"https://jupyter.designsafe-ci.org/hub/user-redirect/lab/tree/CommunityData/OpenSees/TrainingMaterial/training-OpenSees-on-DesignSafe/Jupyter_Notebooks/tapisConnect_connectToTapis.ipynb\" target=\"_blank\">\n",
    "<img alt=\"Try on DesignSafe\" src=\"https://raw.githubusercontent.com/DesignSafe-Training/pinn/main/DesignSafe-Badge.svg\" /></a>"
   ]
  },
  {
   "cell_type": "markdown",
   "metadata": {},
   "source": [
    "# Tapis Authentication\n",
    "***Tapis Authentication into TACC***\n",
    "\n",
    "by Silvia Mazzoni, DesignSafe, 2025"
   ]
  },
  {
   "cell_type": "markdown",
   "metadata": {},
   "source": [
    "Tapis connects you to TACC. You can submit jobs as well as monitor them -- whether you submitted them using Tapis or any other DesignSafe Application that uses it, such as the OpenSeesMP and OpenSeesSP job submitted from the web portal.\n",
    "\n",
    "Just like you need a badge to access a secure building, you need a **token** to access different tools and data inside the Tapis platform. Tapis tokens are **digital keys** that prove your identity when you’re using Tapis services.\n",
    "\n",
    "When you log in to Tapis (using your username and password or other method), you get a token. This token is what tells Tapis, “I’m allowed to use these tools.” The token is a long string with apparently-random characters.\n",
    "\n",
    "This module will teach you how to obtain a tapis token, how to save it to a file, and how to retreive it from this file. We will create a python function with the content we generate in this module and will use this function in the next modules.\n",
    "\n",
    "## Tapis Authentication Tokens\n",
    "\n",
    "Just like you need a badge to access a secure building, you need a token to access different tools and data inside the Tapis platform. Tapis tokens are **digital keys** that prove your identity when you're using Tapis services.\n",
    "\n",
    "When you log in to Tapis (using your username and password or other method), you get a **token**. This token is what tells Tapis, “I’m allowed to use these tools.”\n",
    "The token is a long string with apparently-random characters. \n",
    "\n",
    "## Why Tokens?\n",
    "\n",
    "Tapis is built to help researchers and developers run jobs, access data, manage systems, and more — often from different computers and applications. Tokens make this secure and flexible.\n",
    "\n",
    "Tokens let Tapis:\n",
    "\n",
    "* **Know who you are**\n",
    "* **Check what you’re allowed to do**\n",
    "* **Let you interact with the system without needing to send your password every time**\n",
    "\n",
    "## How Tokens Work (Simplified)\n",
    "\n",
    "1. **You log in**\n",
    "   You use your credentials to log in through the Tapis authentication service (either directly or through a script or app).\n",
    "\n",
    "2. **Tapis gives you a token**\n",
    "   The system returns a token — a long string of letters and numbers — that represents **you** for a limited amount of time.\n",
    "\n",
    "3. **You use the token in your requests**\n",
    "   When you want to call a Tapis API (e.g., to run a job or access files), you include the token in the header of your request:\n",
    "\n",
    "   ```\n",
    "   Authorization: Bearer <your_token_here>\n",
    "   ```\n",
    "\n",
    "4. **Tapis checks the token**\n",
    "   Behind the scenes, Tapis checks that the token is valid and sees what you’re allowed to do. If everything checks out, the action goes through.\n",
    "\n",
    "5. **Tokens expire**\n",
    "   Tokens are only valid for a short period (usually minutes). After that, you’ll need to log in again to get a new one.\n",
    "\n",
    "## Save the Token\n",
    "\n",
    "You can **save this token** to a file and use it until it expires. This way you don't have to enter your password as often.\n",
    "\n",
    "Saving your token means:\n",
    "\n",
    "* You **don’t need to log in again** every time you run a script (as long as the token hasn’t expired).\n",
    "* You can **load it into other scripts** without exposing your username/password.\n",
    "\n",
    "```{admonition} Tips for Beginners\n",
    "* **Treat your token like a password** — never share it or post it publicly.\n",
    "* **You don’t need to remember your token** — just copy and paste it when needed.\n",
    "```\n",
    "\n"
   ]
  },
  {
   "cell_type": "code",
   "execution_count": 1,
   "metadata": {
    "tags": [
     "remove-input"
    ]
   },
   "outputs": [],
   "source": [
    "# Local Utilities Library\n",
    "# you can remove the logic associated with the local path\n",
    "import sys,os\n",
    "relativePath = '../../OpsUtils'\n",
    "if os.path.exists(relativePath):\n",
    "    PathOpsUtils = os.path.expanduser(relativePath)\n",
    "else:\n",
    "    PathOpsUtils = os.path.expanduser('~/CommunityData/OpenSees/TrainingMaterial/training-OpenSees-on-DesignSafe/OpsUtils')\n",
    "if not PathOpsUtils in sys.path: sys.path.append(PathOpsUtils)\n",
    "from OpsUtils import OpsUtils"
   ]
  },
  {
   "cell_type": "markdown",
   "metadata": {},
   "source": [
    "## Connect"
   ]
  },
  {
   "cell_type": "markdown",
   "metadata": {},
   "source": [
    "We’ll use a Python utility function to authenticate and establish a session with Tapis:\n",
    "\n",
    "* Checks if a valid token file already exists\n",
    "* If no token is found — or the token has expired — it will prompt you to enter your **username** and **password**\n",
    "* You can also pass your **username** as a function argument to avoid typing it interactively\n",
    "\n",
    "This simplifies your workflow and ensures you're always connected with valid credentials — without the need to manage tokens manually.\n",
    "\n",
    "Ths function is available in **CommunityData**, so you can use it across all your DesignSafe notebooks with a single command."
   ]
  },
  {
   "cell_type": "code",
   "execution_count": 2,
   "metadata": {
    "tags": [
     "remove-input"
    ]
   },
   "outputs": [
    {
     "data": {
      "text/html": [
       "\n",
       "                      <details style=\"margin-top:1em; font-family:monospace; background:white; \n",
       "                          padding:0.25em; border-radius:6px; border:1px solid #ccc;\">\n",
       "                        <summary style=\"cursor:pointer; font-weight:bold; background:white; \n",
       "                          padding:0.3em 0.5em; border-radius:4px;\">connect_tapis.py</summary>\n",
       "\n",
       "                        <button onclick=\"navigator.clipboard.writeText(document.getElementById('2d482e73e09e46e6bb97d1f128bf73b0').innerText)\">\n",
       "                          📋 Copy\n",
       "                        </button>\n",
       "                        <pre id=\"2d482e73e09e46e6bb97d1f128bf73b0\" style=\"white-space:pre-wrap; margin:0.25em 0 0 0; \n",
       "                            background:#d4fbff; padding:.3em; border-radius:5px;\">\n",
       "<b># /home/jupyter/CommunityData/OpenSees/TrainingMaterial/training-OpenSees-on-DesignSafe/OpsUtils/OpsUtils/Tapis/connect_tapis.py</b>\n",
       "def connect_tapis(token_filePath: str = \"~/.tapis_tokens.json\",\n",
       "                  base_url: str = \"https://designsafe.tapis.io\",\n",
       "                  username: str = \"\",\n",
       "                  password: str = \"\",\n",
       "                  force_connect: bool = False):\n",
       "    \"\"\"\n",
       "    Connect to a Tapis platform (e.g., DesignSafe) with automatic token handling.\n",
       "\n",
       "    Behavior\n",
       "    --------\n",
       "    - Looks for a saved access token at `token_filePath` (default: ~/.tapis_tokens.json).\n",
       "    - If present and not expired, uses it to create an authenticated Tapis client.\n",
       "    - If missing/expired, or when `force_connect=True`, prompts for credentials,\n",
       "      requests new tokens, and saves them back to `token_filePath`.\n",
       "    - Prints expiration details for transparency.\n",
       "\n",
       "    Parameters\n",
       "    ----------\n",
       "    token_filePath : str, default \"~/.tapis_tokens.json\"\n",
       "        Path to the JSON file that stores the Tapis `access_token` and `expires_at`.\n",
       "    base_url : str, default \"https://designsafe.tapis.io\"\n",
       "        Tapis API endpoint base URL.\n",
       "    username : str, default \"\"\n",
       "        Optional preset username. If empty, you will be prompted.\n",
       "    password : str, default \"\"\n",
       "        Optional preset password. If empty, you will be prompted (securely).\n",
       "    force_connect : bool, default False\n",
       "        If True, ignores any valid saved token and performs a fresh login.\n",
       "\n",
       "    Returns\n",
       "    -------\n",
       "    object\n",
       "        An authenticated `Tapis` client object ready to use.\n",
       "\n",
       "    Notes\n",
       "    -----\n",
       "    - The token file stores: `{\"access_token\": \"...\", \"expires_at\": \"...ISO8601...\"}`.\n",
       "    - Expiry timestamps are treated as UTC if no timezone is present.\n",
       "    - If the saved token cannot be parsed/validated, a fresh login is performed.\n",
       "\n",
       "    Example\n",
       "    -------\n",
       "    t = connect_tapis()                        # use saved token or prompt as needed\n",
       "    jobs = t.jobs.getJobList()                 # now you're authenticated\n",
       "\n",
       "    Author\n",
       "    ------\n",
       "    Silvia Mazzoni, DesignSafe (silviamazzoni@yahoo.com)\n",
       "\n",
       "    Date\n",
       "    ----\n",
       "    2025-08-14\n",
       "\n",
       "    Version\n",
       "    -------\n",
       "    1.0\n",
       "    \"\"\"\n",
       "    from tapipy.tapis import Tapis\n",
       "    from getpass import getpass\n",
       "    from datetime import datetime, timezone\n",
       "    import json\n",
       "    import os\n",
       "\n",
       "    def _parse_expires_at(s: str) -> datetime | None:\n",
       "        \"\"\"Parse ISO8601 expiry, accepting 'Z' and naive strings; return aware UTC dt or None.\"\"\"\n",
       "        if not s:\n",
       "            return None\n",
       "        try:\n",
       "            # normalize trailing 'Z' to +00:00\n",
       "            s_norm = s.replace(\"Z\", \"+00:00\")\n",
       "            dt = datetime.fromisoformat(s_norm)\n",
       "            if dt.tzinfo is None:\n",
       "                dt = dt.replace(tzinfo=timezone.utc)\n",
       "            return dt.astimezone(timezone.utc)\n",
       "        except Exception:\n",
       "            return None\n",
       "\n",
       "    def getTokensLoop():\n",
       "        username = getpass(\"Username: \")\n",
       "        password = getpass(\"Password: \")\n",
       "        t = Tapis(base_url=base_url, username=username, password=password)\n",
       "        try:\n",
       "            t.get_tokens()\n",
       "            return t\n",
       "        except Exception as e:\n",
       "            print(f\" ** Warning ** could get token : {e},\\n TRY AGAIN!\")\n",
       "            t= getTokensLoop()\n",
       "            return t\n",
       "\n",
       "        \n",
       "    print(\" -- Checking Tapis token --\")\n",
       "    token_path = os.path.expanduser(token_filePath)\n",
       "    now = datetime.now(timezone.utc)\n",
       "\n",
       "    t = None\n",
       "    saved_expires_at = None\n",
       "    valid_token = False\n",
       "\n",
       "    # Try to load a saved token\n",
       "    if os.path.exists(token_path):\n",
       "        try:\n",
       "            with open(token_path, \"r\") as f:\n",
       "                tokens = json.load(f)\n",
       "            saved_expires_at = _parse_expires_at(tokens.get(\"expires_at\"))\n",
       "            if tokens.get(\"access_token\") and saved_expires_at and saved_expires_at > now:\n",
       "                print(\" Token loaded from file. Token is still valid!\")\n",
       "                t = Tapis(base_url=base_url, access_token=tokens[\"access_token\"])\n",
       "                valid_token = True\n",
       "            else:\n",
       "                print(\" Token file found but token is missing/expired.\")\n",
       "                if saved_expires_at:\n",
       "                    print(\" Token expired at:\", saved_expires_at.isoformat())\n",
       "        except Exception as e:\n",
       "            print(f\" Could not read/parse token file ({token_path}): {e}\")\n",
       "    else:\n",
       "        print(\" No saved tokens found.\")\n",
       "\n",
       "    if force_connect:\n",
       "        print(\" Forcing a connection to Tapis (fresh login).\")\n",
       "\n",
       "    if not valid_token or force_connect:\n",
       "        print(\"-- Connect to Tapis --\")\n",
       "        if not username:\n",
       "            # username isn't sensitive; echoing can help avoid typos, but keeping your original choice:\n",
       "            username = getpass(\"Username: \")\n",
       "        if not password:\n",
       "            password = getpass(\"Password: \")\n",
       "        t = Tapis(base_url=base_url, username=username, password=password)\n",
       "        try:\n",
       "            t.get_tokens()\n",
       "        except Exception as e:\n",
       "            print(f\" ** Warning ** could get token : {e},\\n TRY AGAIN!\")\n",
       "            t= getTokensLoop()\n",
       "        # Save the new token back to the chosen path\n",
       "        try:\n",
       "            tokens = {\n",
       "                \"access_token\": t.access_token.access_token,\n",
       "                \"expires_at\": t.access_token.expires_at.isoformat(),\n",
       "            }\n",
       "            os.makedirs(os.path.dirname(token_path), exist_ok=True)\n",
       "            with open(token_path, \"w\") as f:\n",
       "                json.dump(tokens, f)\n",
       "            print(f\" Token saved to {token_path}\")\n",
       "            saved_expires_at = _parse_expires_at(tokens[\"expires_at\"])\n",
       "        except Exception as e:\n",
       "            print(f\" Warning: could not save token to {token_path}: {e}\")\n",
       "\n",
       "    # Print expiry info (use stored/parsed date if needed)\n",
       "    exp_to_show = saved_expires_at\n",
       "    try:\n",
       "        # if available, prefer the client object's value\n",
       "        if getattr(t, \"access_token\", None) and getattr(t.access_token, \"expires_at\", None):\n",
       "            exp_to_show = _parse_expires_at(str(t.access_token.expires_at)) or exp_to_show\n",
       "    except Exception:\n",
       "        pass\n",
       "\n",
       "    if exp_to_show:\n",
       "        print(\" Token expires at:\", exp_to_show.isoformat())\n",
       "        print(\" Token expires in:\", str(exp_to_show - now))\n",
       "    else:\n",
       "        print(\" Token expiry time unavailable.\")\n",
       "\n",
       "    print(\"-- LOG IN SUCCESSFUL! --\")\n",
       "    return t\n",
       "</pre>\n",
       "                      </details>\n",
       "                    "
      ],
      "text/plain": [
       "<IPython.core.display.HTML object>"
      ]
     },
     "metadata": {},
     "output_type": "display_data"
    }
   ],
   "source": [
    "OpsUtils.show_text_file_in_accordion(PathOpsUtils,['connect_tapis.py'])"
   ]
  },
  {
   "cell_type": "code",
   "execution_count": 3,
   "metadata": {},
   "outputs": [
    {
     "name": "stdout",
     "output_type": "stream",
     "text": [
      " -- Checking Tapis token --\n",
      " Token file found but token is missing/expired.\n",
      " Token expired at: 2025-09-02T23:45:26+00:00\n",
      " Forcing a connection to Tapis (fresh login).\n",
      "-- Connect to Tapis --\n"
     ]
    },
    {
     "name": "stdin",
     "output_type": "stream",
     "text": [
      "Username:  ········\n",
      "Password:  ········\n"
     ]
    },
    {
     "name": "stdout",
     "output_type": "stream",
     "text": [
      " ** Warning ** could get token : message: Invalid username/password combination.,\n",
      " TRY AGAIN!\n"
     ]
    },
    {
     "name": "stdin",
     "output_type": "stream",
     "text": [
      "Username:  ········\n",
      "Password:  ········\n"
     ]
    },
    {
     "name": "stdout",
     "output_type": "stream",
     "text": [
      " ** Warning ** could get token : message: Either a refresh_token or a username and password are required for get_tokens().,\n",
      " TRY AGAIN!\n"
     ]
    },
    {
     "name": "stdin",
     "output_type": "stream",
     "text": [
      "Username:  ········\n",
      "Password:  ········\n"
     ]
    },
    {
     "name": "stdout",
     "output_type": "stream",
     "text": [
      " ** Warning ** could get token : message: Invalid username/password combination.,\n",
      " TRY AGAIN!\n"
     ]
    },
    {
     "name": "stdin",
     "output_type": "stream",
     "text": [
      "Username:  ········\n",
      "Password:  ········\n"
     ]
    },
    {
     "name": "stdout",
     "output_type": "stream",
     "text": [
      " Token saved to /home/jupyter/.tapis_tokens.json\n",
      " Token expires at: 2025-09-05T02:30:48+00:00\n",
      " Token expires in: 4:00:33.043411\n",
      "-- LOG IN SUCCESSFUL! --\n"
     ]
    }
   ],
   "source": [
    "# NOTE: Your browser's autofill may not work here.\n",
    "t=OpsUtils.connect_tapis(force_connect=True)"
   ]
  },
  {
   "cell_type": "code",
   "execution_count": 4,
   "metadata": {},
   "outputs": [],
   "source": [
    "# NOTE: If your files have disappeared from the jupyter file browser in the left pane, please take a screenshot and submit a ticket to DesignSafe.\n",
    "# Save all your work and reload the page in the browser -- the files will reappear."
   ]
  }
 ],
 "metadata": {
  "IMAGE_NAME": "taccsciapps/ds-nb-img:base-0.2.3",
  "UUID": "73e0880d-9b87-11ec-9c1c-13579dd95994",
  "celltoolbar": "Raw Cell Format",
  "kernelspec": {
   "display_name": "Python 3 (ipykernel)",
   "language": "python",
   "name": "python3"
  },
  "language_info": {
   "codemirror_mode": {
    "name": "ipython",
    "version": 3
   },
   "file_extension": ".py",
   "mimetype": "text/x-python",
   "name": "python",
   "nbconvert_exporter": "python",
   "pygments_lexer": "ipython3",
   "version": "3.12.11"
  }
 },
 "nbformat": 4,
 "nbformat_minor": 4
}
