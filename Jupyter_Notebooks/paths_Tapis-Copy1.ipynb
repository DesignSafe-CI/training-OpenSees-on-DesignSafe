{
 "cells": [
  {
   "cell_type": "markdown",
   "metadata": {},
   "source": [
    "<a class=\"reference external\" \n",
    "    href=\"https://jupyter.designsafe-ci.org/hub/user-redirect/lab/tree/CommunityData/OpenSees/TrainingMaterial/training-OpenSees-on-DesignSafe/Jupyter_Notebooks/paths_Tapis.ipynb\" \n",
    "    target=\"_blank\"\n",
    "    >\n",
    "<img alt=\"Try on DesignSafe\" src=\"https://raw.githubusercontent.com/DesignSafe-Training/pinn/main/DesignSafe-Badge.svg\" /></a>"
   ]
  },
  {
   "cell_type": "markdown",
   "metadata": {},
   "source": [
    "# Tapis Paths  📒\n",
    "***How DesignSafe File Storage and Tapis Work Together***\n",
    "\n",
    "by Silvia Mazzoni, DesignSafe, 2025"
   ]
  },
  {
   "cell_type": "markdown",
   "metadata": {},
   "source": [
    "Tapis powers file access and job submission on DesignSafe. It provides a consistent interface to interact with **multiple storage systems** and **compute environments**, making it easier to manage data before, during, and after simulation workflows.\n",
    "\n",
    "With Tapis, you can:\n",
    "\n",
    "* **List, upload, download, move, and delete files** across different storage systems\n",
    "* **Stage input files** (e.g., move from long-term storage to a compute node)\n",
    "* **Collect outputs automatically** and return them to Corral (MyData)\n",
    "* Use the same scripting or automation tools across storage locations\n",
    "\n",
    "Tapis acts as the **glue** between DesignSafe’s storage and compute environments, streamlining data movement and improving reproducibility.\n",
    "\n",
    "---\n"
   ]
  },
  {
   "cell_type": "code",
   "execution_count": 1,
   "metadata": {},
   "outputs": [],
   "source": [
    "# ## DesignSafe File Systems & Tapis\n",
    "\n",
    "# Tapis connects to several distinct file storage systems, each with a unique role. You interact with them using **URI-style paths** like:\n",
    "\n",
    "# ```\n",
    "# tapis://<base-path>/<relative-path>\n",
    "# ```\n",
    "# When working in Jupyter Hub\n",
    "\n",
    "\n",
    "# Although Tapis paths look like web URLs, they reference the storage systems storing the files. While some storage systems have unique Tapis paths, many of them are user, system, and/or project dependent.\n",
    "\n",
    "\n",
    "\n",
    "# Here’s a reference table for Tapis paths:\n",
    "\n",
    "# | Storage Type        | Example Tapis Path                            | Notes                                  | Exceptions\n",
    "# | ------------------- | --------------------------------------------- | -------------------------------------- |------------\n",
    "# | **MyData**          | tapis://designsafe.storage.default/jdoe/      | Your personal storage                  | \n",
    "# | **Community**       | tapis://designsafe.storage.community/         | Public files from the community        | \n",
    "# | **Work**            | tapis://cloud.data/work/05072/jdoe/stampede3/ | Shared group allocation; used for jobs | user-specific\n",
    "# | **MyProjects**      | tapis://project-61bab56…                      | Linked to specific DesignSafe projects | project-specific\n",
    "# | **NHERI Published** | tapis://designsafe.storage.published/PRJ-1628 | Archived datasets                      |\n",
    "# | **NEES Published**  | tapis://nees.public/NEES-2                    | Legacy NEES content                    |\n",
    "# | **Scratch**         | Not available through Tapis explicitly        | Temporary compute storage              | not available\n",
    "# | **Home**            | Not available through Tapis                   | Home directories on HPC systems        | not available\n",
    "\n",
    "# ⚠️ Each URI must include the correct **system name** and **path** (which often includes your username, group ID, or project ID). There is **no built-in Tapis command** to automatically discover your base paths — but you can find them manually (see below).\n"
   ]
  },
  {
   "cell_type": "code",
   "execution_count": null,
   "metadata": {},
   "outputs": [],
   "source": []
  },
  {
   "cell_type": "code",
   "execution_count": null,
   "metadata": {},
   "outputs": [],
   "source": []
  },
  {
   "cell_type": "code",
   "execution_count": null,
   "metadata": {},
   "outputs": [],
   "source": []
  },
  {
   "cell_type": "code",
   "execution_count": null,
   "metadata": {},
   "outputs": [],
   "source": []
  },
  {
   "cell_type": "code",
   "execution_count": null,
   "metadata": {},
   "outputs": [],
   "source": []
  },
  {
   "cell_type": "code",
   "execution_count": null,
   "metadata": {},
   "outputs": [],
   "source": []
  },
  {
   "cell_type": "code",
   "execution_count": null,
   "metadata": {},
   "outputs": [],
   "source": []
  },
  {
   "cell_type": "code",
   "execution_count": 2,
   "metadata": {},
   "outputs": [],
   "source": [
    "import json"
   ]
  },
  {
   "cell_type": "code",
   "execution_count": 3,
   "metadata": {
    "tags": [
     "remove-input"
    ]
   },
   "outputs": [
    {
     "name": "stdout",
     "output_type": "stream",
     "text": [
      "Using local utilities library\n"
     ]
    }
   ],
   "source": [
    "# Local Utilities Library\n",
    "# you can remove the logic associated with the local path\n",
    "import sys,os\n",
    "relativePath = '../OpsUtils'\n",
    "if os.path.exists(relativePath):\n",
    "    print(\"Using local utilities library\")\n",
    "    PathOpsUtils = os.path.expanduser(relativePath)\n",
    "else:\n",
    "    print('using communitydata')\n",
    "    PathOpsUtils = os.path.expanduser('~/CommunityData/OpenSees/TrainingMaterial/training-OpenSees-on-DesignSafe/OpsUtils')\n",
    "if not PathOpsUtils in sys.path: sys.path.append(PathOpsUtils)\n",
    "from OpsUtils import OpsUtils"
   ]
  },
  {
   "cell_type": "markdown",
   "metadata": {},
   "source": [
    "---\n",
    "## Connect to Tapis"
   ]
  },
  {
   "cell_type": "code",
   "execution_count": 4,
   "metadata": {},
   "outputs": [
    {
     "name": "stdout",
     "output_type": "stream",
     "text": [
      " -- Checking Tapis token --\n",
      " Token loaded from file. Token is still valid!\n",
      " Token expires at: 2025-08-23T01:42:21+00:00\n",
      " Token expires in: 3:20:52.782796\n",
      "-- LOG IN SUCCESSFUL! --\n"
     ]
    }
   ],
   "source": [
    "t=OpsUtils.connect_tapis()"
   ]
  },
  {
   "cell_type": "markdown",
   "metadata": {},
   "source": [
    "---\n",
    "## Configure App"
   ]
  },
  {
   "cell_type": "code",
   "execution_count": 5,
   "metadata": {},
   "outputs": [],
   "source": [
    "app_id = 'stampede3-credential'\n",
    "app_version = \"1.0.0\""
   ]
  },
  {
   "cell_type": "markdown",
   "metadata": {},
   "source": [
    "#### List the app schema"
   ]
  },
  {
   "cell_type": "code",
   "execution_count": 6,
   "metadata": {},
   "outputs": [
    {
     "name": "stdout",
     "output_type": "stream",
     "text": [
      "########################################\n",
      "########### TAPIS-APP SCHEMA ###########\n",
      "########################################\n",
      "######## appID: stampede3-credential\n",
      "######## version: 1.0.0\n",
      "########################################\n",
      "{\n",
      "  sharedAppCtx: \"wma_prtl\"\n",
      "  isPublic: True\n",
      "  tenant: \"designsafe\"\n",
      "  id: \"stampede3-credential\"\n",
      "  version: \"1.0.0\"\n",
      "  description: \"Credential application for Stampede3\"\n",
      "  owner: \"wma_prtl\"\n",
      "  enabled: True\n",
      "  versionEnabled: True\n",
      "  locked: False\n",
      "  runtime: \"SINGULARITY\"\n",
      "  runtimeVersion: None\n",
      "  containerImage: \"docker://alpine:latest\"\n",
      "  jobType: \"FORK\"\n",
      "  maxJobs: 2147483647\n",
      "  maxJobsPerUser: 2147483647\n",
      "  strictFileInputs: True\n",
      "  uuid: \"cfb2d592-eb94-4f88-8ecc-223e79b974e6\"\n",
      "  deleted: False\n",
      "  created: \"2024-08-13T16:57:47.789293Z\"\n",
      "  updated: \"2025-02-26T21:17:26.144467Z\"\n",
      "  sharedWithUsers: []\n",
      "  runtimeOptions: [\"SINGULARITY_RUN\"]\n",
      "  tags: [\"portalName: DesignSafe\"]\n",
      "  jobAttributes: {\n",
      "    description: \"\"\n",
      "    dynamicExecSystem: False\n",
      "    execSystemConstraints: None\n",
      "    execSystemId: \"stampede3\"\n",
      "    execSystemExecDir: \"${JobWorkingDir}\"\n",
      "    execSystemInputDir: \"${JobWorkingDir}\"\n",
      "    execSystemOutputDir: \"${JobWorkingDir}\"\n",
      "    dtnSystemInputDir: \"!tapis_not_set\"\n",
      "    dtnSystemOutputDir: \"!tapis_not_set\"\n",
      "    execSystemLogicalQueue: \"skx-dev\"\n",
      "    archiveSystemId: \"stampede3\"\n",
      "    archiveSystemDir: \"HOST_EVAL($WORK)/tapis-jobs-archive/${JobCreateDate}/${JobName}-${JobUUID}\"\n",
      "    archiveOnAppError: False\n",
      "    isMpi: False\n",
      "    mpiCmd: None\n",
      "    cmdPrefix: None\n",
      "    nodeCount: 1\n",
      "    coresPerNode: 1\n",
      "    memoryMB: 1\n",
      "    maxMinutes: 1\n",
      "    fileInputs: []\n",
      "    fileInputArrays: []\n",
      "    subscriptions: []\n",
      "    tags: []\n",
      "    parameterSet: {\n",
      "      appArgs: []\n",
      "      containerArgs: []\n",
      "      schedulerOptions: [\n",
      "        {\n",
      "          arg: \"--tapis-profile tacc-apptainer\"\n",
      "          name: \"TACC Scheduler Profile\"\n",
      "          description: \"Scheduler profile for HPC clusters at TACC\"\n",
      "          inputMode: \"FIXED\"\n",
      "          notes: {\n",
      "            isHidden: True\n",
      "          }\n",
      "        }\n",
      "      ]\n",
      "      envVariables: []\n",
      "      archiveFilter: {\n",
      "        includeLaunchFiles: False\n",
      "        includes: []\n",
      "        excludes: []\n",
      "      }\n",
      "      logConfig: {\n",
      "        stdoutFilename: \"\"\n",
      "        stderrFilename: \"\"\n",
      "      }\n",
      "    }\n",
      "  }\n",
      "  notes: {\n",
      "    label: \"Create Stampede3 Credential\"\n",
      "    category: \"Utilities\"\n",
      "    isInteractive: True\n",
      "    hideNodeCountAndCoresPerNode: True\n",
      "  }\n",
      "}\n",
      "########################################\n"
     ]
    }
   ],
   "source": [
    "appMetaData = t.apps.getAppLatestVersion(appId=app_id)\n",
    "OpsUtils.display_tapis_app_schema(appMetaData)"
   ]
  },
  {
   "cell_type": "markdown",
   "metadata": {},
   "source": [
    "---\n",
    "## Submit a Job\n",
    "\n",
    "You can now submit a job using this app. You can use the Tapis CLI, Tapipy, or a web form.\n",
    "\n",
    "We are using TapiPy directly from this notebook. We will not specify a version so that the latest is used by default in the description."
   ]
  },
  {
   "cell_type": "code",
   "execution_count": 7,
   "metadata": {},
   "outputs": [],
   "source": [
    "job_def = {\n",
    "    \"name\": \"print-work\",\n",
    "    \"appId\": app_id,\n",
    "    \"appVersion\":app_version,\n",
    "}"
   ]
  },
  {
   "cell_type": "code",
   "execution_count": 8,
   "metadata": {},
   "outputs": [],
   "source": [
    "resp = t.jobs.submitJob(**job_def)"
   ]
  },
  {
   "cell_type": "code",
   "execution_count": 9,
   "metadata": {},
   "outputs": [
    {
     "name": "stdout",
     "output_type": "stream",
     "text": [
      "work_dir /work2/05072/silvia/stampede3/tapis-jobs-archive/2025-08-22Z/print-work-a3657991-915d-4690-aa21-7513d107238c-007\n"
     ]
    }
   ],
   "source": [
    "work_dir = resp.archiveSystemDir\n",
    "print('work_dir',work_dir)"
   ]
  },
  {
   "cell_type": "code",
   "execution_count": 10,
   "metadata": {},
   "outputs": [],
   "source": [
    "def get_user_work_path(t,systemID='stampede3'):\n",
    "    system_id = systemID.lower()\n",
    "    yesSystems = ['stampede3','ls6','frontera']\n",
    "    latest = t.apps.getAppLatestVersion(appId=app_id)\n",
    "    appVersion = latest.version\n",
    "    if system_id  in yesSystems:\n",
    "        job_description = {'name':'getWork','appId':f'{system_id}-credential','appVersion':appVersion}\n",
    "    else:\n",
    "        print(f'{systemID} does not exist! select from: {yesSystems}')\n",
    "        return -1\n",
    "    submitted_job = t.jobs.submitJob(**job_description)\n",
    "    archiveSystemDir = submitted_job.archiveSystemDir\n",
    "    workDir = archiveSystemDir.split(system_id)[0] + system_id\n",
    "    return workDir\n",
    "    "
   ]
  },
  {
   "cell_type": "code",
   "execution_count": 11,
   "metadata": {},
   "outputs": [
    {
     "data": {
      "text/plain": [
       "'tapis://cloud.data/work2/05072/silvia/stampede3'"
      ]
     },
     "execution_count": 11,
     "metadata": {},
     "output_type": "execute_result"
    }
   ],
   "source": [
    "OpsUtils.get_user_work_tapis_uri(t,'stampede3')"
   ]
  },
  {
   "cell_type": "code",
   "execution_count": 12,
   "metadata": {},
   "outputs": [
    {
     "ename": "NameError",
     "evalue": "name 'get_tapis_work_path' is not defined",
     "output_type": "error",
     "traceback": [
      "\u001b[31m---------------------------------------------------------------------------\u001b[39m",
      "\u001b[31mNameError\u001b[39m                                 Traceback (most recent call last)",
      "\u001b[36mCell\u001b[39m\u001b[36m \u001b[39m\u001b[32mIn[12]\u001b[39m\u001b[32m, line 1\u001b[39m\n\u001b[32m----> \u001b[39m\u001b[32m1\u001b[39m \u001b[43mget_tapis_work_path\u001b[49m(t,\u001b[33m'\u001b[39m\u001b[33mstampede3\u001b[39m\u001b[33m'\u001b[39m)\n",
      "\u001b[31mNameError\u001b[39m: name 'get_tapis_work_path' is not defined"
     ]
    }
   ],
   "source": [
    "get_tapis_work_path(t,'stampede3')"
   ]
  },
  {
   "cell_type": "code",
   "execution_count": null,
   "metadata": {},
   "outputs": [],
   "source": [
    "aa = '/hello/'\n",
    "aa.rstrip('/')\n"
   ]
  },
  {
   "cell_type": "code",
   "execution_count": null,
   "metadata": {},
   "outputs": [],
   "source": []
  }
 ],
 "metadata": {
  "IMAGE_NAME": "taccsciapps/ds-nb-img:base-0.2.3",
  "UUID": "73e0880d-9b87-11ec-9c1c-13579dd95994",
  "celltoolbar": "Raw Cell Format",
  "kernelspec": {
   "display_name": "Python 3 (ipykernel)",
   "language": "python",
   "name": "python3"
  },
  "language_info": {
   "codemirror_mode": {
    "name": "ipython",
    "version": 3
   },
   "file_extension": ".py",
   "mimetype": "text/x-python",
   "name": "python",
   "nbconvert_exporter": "python",
   "pygments_lexer": "ipython3",
   "version": "3.12.11"
  }
 },
 "nbformat": 4,
 "nbformat_minor": 4
}
