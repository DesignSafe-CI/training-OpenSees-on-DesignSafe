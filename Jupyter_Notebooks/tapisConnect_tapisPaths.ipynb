{
 "cells": [
  {
   "cell_type": "markdown",
   "metadata": {},
   "source": [
    "<a class=\"reference external\" href=\"https://jupyter.designsafe-ci.org/hub/user-redirect/lab/tree/CommunityData/OpenSees/TrainingMaterial/training-OpenSees-on-DesignSafe/Jupyter_Notebooks/tapisConnect_tapisPaths.ipynb\" target=\"_blank\">\n",
    "<img alt=\"Try on DesignSafe\" src=\"https://raw.githubusercontent.com/DesignSafe-Training/pinn/main/DesignSafe-Badge.svg\" /></a>"
   ]
  },
  {
   "cell_type": "markdown",
   "metadata": {},
   "source": [
    "# Tapis Paths\n",
    "***How DesignSafe File Storage and Tapis Work Together***\n",
    "\n",
    "by Silvia Mazzoni, DesignSafe, 2025"
   ]
  },
  {
   "cell_type": "markdown",
   "metadata": {},
   "source": [
    "Tapis powers file access and job submission on DesignSafe. It provides a consistent interface to interact with **multiple storage systems** and **compute environments**, making it easier to manage data before, during, and after simulation workflows.\n",
    "\n",
    "With Tapis, you can:\n",
    "\n",
    "* **List, upload, download, move, and delete files** across storage systems\n",
    "* **Stage input files** (e.g., move from long-term storage to a compute node)\n",
    "* **Collect outputs automatically** and return them to Corral (*MyData*)\n",
    "* Use the same scripting or automation tools across locations\n",
    "\n",
    "Tapis acts as the **glue** between DesignSafe’s storage and compute environments, streamlining data movement and improving reproducibility.\n",
    "\n",
    "### What is a URI?\n",
    "\n",
    "A **URI** (Uniform Resource Identifier) is the formal way Tapis identifies the location of your files and directories. Think of it as the “address” for data in the Tapis ecosystem. Instead of just using a simple path (like `/home/user/file.txt`), a Tapis URI encodes both **where** the file lives (which storage system) and **what** the path to the file is on that system.\n",
    "\n",
    "For example:\n",
    "\n",
    "```\n",
    "tapis://designsafe.storage.mydata/home/username/project/data/input.txt\n",
    "```\n",
    "\n",
    "* **tapis://** → tells us we’re using Tapis to access this resource\n",
    "* **designsafe.storage.mydata** → identifies the storage system (e.g., MyData, Community Data, Work on Stampede3, etc.)\n",
    "* **/home/username/project/data/input.txt** → the actual path on that system\n",
    "\n",
    "This consistent URI format allows you to write scripts or automation that work across **different storage systems** without changing code every time.\n",
    "\n",
    "---\n",
    "\n",
    "In this notebook, we’ll assemble a JSON dictionary of your Tapis paths and save it to your MyData (**\\~/MyData/.tapis\\_user\\_paths.json**) so you can reference it from any script at any time, even in new Jupyter Sessions, or from elsewhere.\n",
    "\n",
    "Make sure you have *Established Your System Credentials* first!\n"
   ]
  },
  {
   "cell_type": "markdown",
   "metadata": {},
   "source": [
    "---\n",
    "\n",
    "## The Two Parts of a Tapis Path\n",
    "\n",
    "A Tapis path is conceptually:\n",
    "\n",
    "```\n",
    "tapis://<SYSTEM_ID>/<RELATIVE_PATH>\n",
    "```\n",
    "\n",
    "1. ***SYSTEM_ID*** — which storage system you’re targeting\n",
    "   Examples:\n",
    "   * *designsafe.storage.default* (MyData),\n",
    "   * *designsafe.storage.community* (Community),\n",
    "   * *cloud.data* (Work allocations),\n",
    "   or a\n",
    "   * project-scoped system (e.g., *project-<uuid>*)\n",
    "\n",
    "3. ***RELATIVE_PATH*** — the location **inside that system’s root**\n",
    "   This is *not* relative to your program’s current directory; it’s relative to the **system root**.\n",
    "\n",
    "   Tapis ignores CWD entirely; it’s always “(system, path-within-that-system).”\n",
    "\n",
    "\n",
    "When building your tapis paths, it's always a good idea to define these two components separately and join them only in the input. This makes your script more portable and reusable.\n",
    "\n",
    "---\n",
    "\n",
    "## How Tapis Paths Differ from Jupyter Paths\n",
    "\n",
    "* **Jupyter/OS paths** (e.g., */home/jovyan/...* or *data/run1.csv*) resolve relative to your **current working directory (CWD)** on that machine.\n",
    "* **Tapis paths** ignore CWD. They always mean **(system, path-within-that-system)**, no matter where your code runs.\n",
    "* For batch/automation (Tapis jobs, SLURM), Tapis paths are **more portable** than CWD-dependent relative paths.\n",
    "\n",
    "---\n",
    "## Obtaining File-System Paths\n",
    "\n",
    "### Start with the Easy, Fixed Bases\n",
    "\n",
    "These don’t depend on an HPC system or allocation. Once you know your username, the bases are stable. Because you can obtain your username programmatically from Tapis, you may not need to know it.\n",
    "\n",
    "| Storage       | Typical Base (Tapis)                             | Notes                                  |\n",
    "| ------------- | ------------------------------------------------ | -------------------------------------- |\n",
    "| **MyData**    | *tapis://designsafe.storage.default/<username>/* | Your personal storage (aka Corral)     |\n",
    "| **Community** | *tapis://designsafe.storage.community/*          | Public community content (read-mostly) |\n",
    "| **Published** | *tapis://designsafe.storage.published/*          | Published content (read-only) |\n",
    "\n",
    "**Examples**\n",
    "\n",
    "\n",
    "* **MyData**:\n",
    "  \n",
    "    MyData/inputs/model.tcl\n",
    "    → **tapis://designsafe.storage.default/username**/inputs/model.tcl\n",
    "  \n",
    "    ***don't forget your username!***\n",
    "\n",
    "\n",
    "* **CommunityData**:\n",
    "  \n",
    "    CommunityData/Records/ATC-63/groundmotion.at2\n",
    "    → **tapis://designsafe.storage.community**/Records/ATC-63/groundmotion.at2\n",
    "\n",
    "* **Published**:\n",
    "   \n",
    "    Published/Records/ATC-63/groundmotion.at2\n",
    "    → **tapis://designsafe.storage.published**/Records/ATC-63/groundmotion.at2\n",
    "\n",
    "  You can find the relative path in the Data Depot\n",
    "\n",
    "\n",
    "Use these as **bases**, then append project/job-specific subpaths.\n"
   ]
  },
  {
   "cell_type": "code",
   "execution_count": 1,
   "metadata": {
    "tags": [
     "remove-input"
    ]
   },
   "outputs": [],
   "source": [
    "# Local Utilities Library\n",
    "import sys,os\n",
    "PathOpsUtils = os.path.expanduser('~/CommunityData/OpenSees/TrainingMaterial/training-OpenSees-on-DesignSafe/OpsUtils')\n",
    "if not PathOpsUtils in sys.path: sys.path.append(PathOpsUtils)\n",
    "from OpsUtils import OpsUtils"
   ]
  },
  {
   "cell_type": "code",
   "execution_count": 2,
   "metadata": {},
   "outputs": [
    {
     "name": "stdout",
     "output_type": "stream",
     "text": [
      " -- Checking Tapis token --\n",
      " Token loaded from file. Token is still valid!\n",
      " Token expires at: 2025-09-05T23:57:32+00:00\n",
      " Token expires in: 3:39:50.881346\n",
      "-- LOG IN SUCCESSFUL! --\n"
     ]
    }
   ],
   "source": [
    "# Connect to Tapis\n",
    "t=OpsUtils.connect_tapis()"
   ]
  },
  {
   "cell_type": "code",
   "execution_count": 3,
   "metadata": {},
   "outputs": [],
   "source": [
    "# Initialize Json dictionary\n",
    "TapisPaths = {}"
   ]
  },
  {
   "cell_type": "markdown",
   "metadata": {},
   "source": [
    "---\n",
    "### Obtain your username programmatically\n",
    "Using a utility function"
   ]
  },
  {
   "cell_type": "code",
   "execution_count": 4,
   "metadata": {},
   "outputs": [
    {
     "name": "stdout",
     "output_type": "stream",
     "text": [
      "username: silvia\n"
     ]
    }
   ],
   "source": [
    "username = OpsUtils.get_tapis_username(t)\n",
    "print('username:',username)"
   ]
  },
  {
   "cell_type": "code",
   "execution_count": 5,
   "metadata": {},
   "outputs": [],
   "source": [
    "# we will make the keys lower case, as they'll be easier to match\n",
    "TapisPaths['mydata'] = f'tapis://designsafe.storage.default/{username}'\n",
    "TapisPaths['community'] = f'tapis://designsafe.storage.community'\n",
    "TapisPaths['published'] = f'tapis://designsafe.storage.published'"
   ]
  },
  {
   "cell_type": "markdown",
   "metadata": {},
   "source": [
    "--\n",
    "\n",
    "### Next: Work (User & System Dependent)\n",
    "\n",
    "**Work** is the shared, high-performance project area mounted on both **JupyterHub** and **HPC**—ideal for staging inputs and storing outputs for jobs. Its base includes **allocation and username**, and differs by system (e.g., Stampede3 vs. LS6).\n",
    "\n",
    "**Typical form:**\n",
    "\n",
    "```\n",
    "tapis://cloud.data/work/<allocation>/<username>/<system>/\n",
    "```\n",
    "\n",
    "Because this base is user/system-specific, it’s best to **discover it once** and **save it**.\n",
    "\n",
    "#### One-Time Setup (Recommended)\n",
    "\n",
    "Use your utility function (e.g., `get_user_work_path`) to fetch and persist the base for each system you use (Stampede3, LS6, Frontera). Run it **once**, cache results to a small file (e.g., `~/.designsafe/user_paths.json`), and reuse forever. Because this app submits a job, it may take a bit to run."
   ]
  },
  {
   "cell_type": "code",
   "execution_count": 6,
   "metadata": {
    "tags": [
     "remove-input"
    ]
   },
   "outputs": [
    {
     "data": {
      "text/html": [
       "\n",
       "                      <details style=\"margin-top:1em; font-family:monospace; background:white; \n",
       "                          padding:0.25em; border-radius:6px; border:1px solid #ccc;\">\n",
       "                        <summary style=\"cursor:pointer; font-weight:bold; background:white; \n",
       "                          padding:0.3em 0.5em; border-radius:4px;\">get_user_path_tapis_uri.py</summary>\n",
       "\n",
       "                        <button onclick=\"navigator.clipboard.writeText(document.getElementById('7840600fddc24c18bcba71f4f22676c4').innerText)\">\n",
       "                          📋 Copy\n",
       "                        </button>\n",
       "                        <pre id=\"7840600fddc24c18bcba71f4f22676c4\" style=\"white-space:pre-wrap; margin:0.25em 0 0 0; \n",
       "                            background:#d4fbff; padding:.3em; border-radius:5px;\">\n",
       "<b># /home/jupyter/CommunityData/OpenSees/TrainingMaterial/training-OpenSees-on-DesignSafe/OpsUtils/OpsUtils/Tapis/get_user_path_tapis_uri.py</b>\n",
       "from __future__ import annotations\n",
       "\n",
       "def get_user_path_tapis_uri(\n",
       "    t,\n",
       "    file_system: str = \"none\",                  # \"none\" | \"mydata\" | \"community\" | \"work/stampede3\",\"work/ls6\",\"work/frontera\"\n",
       "\n",
       "    paths_file_path: str = \"~/MyData/.tapis_user_paths.json\",\n",
       "    force_refresh: bool = False,\n",
       ") -> Union[str, Dict]:\n",
       "    \"\"\"\n",
       "    Discover and cache user-specific Tapis base URIs for DesignSafe storage systems,\n",
       "    then return either the entire dictionary or a single base URI.\n",
       "\n",
       "    Author\n",
       "    -------\n",
       "    Silvia Mazzoni, DesignSafe (silviamazzoni@yahoo.com)\n",
       "\n",
       "    Parameters\n",
       "    ----------\n",
       "    t : Tapipy client\n",
       "        An authenticated Tapipy v3 client.\n",
       "    file_system : {\"none\",\"mydata\",\"community\",\"work\"}, optional\n",
       "        Which base to return. Use \"none\" to return the full dictionary.\n",
       "        When file_system=\"work\", which HPC system's Work base to return.\n",
       "    paths_file_path : str, optional\n",
       "        Location (on MyData or local home) where the JSON cache is stored.\n",
       "        Default: \"~/MyData/.tapis_user_paths.json\".\n",
       "    force_refresh : bool, optional\n",
       "        If True, (re)discover all bases and overwrite the cache file.\n",
       "\n",
       "    Returns\n",
       "    -------\n",
       "    Union[str, dict]\n",
       "        - If file_system == \"none\": the full dict of bases (including subdict for \"work\").\n",
       "        - Else: a single base URI string for the requested system.\n",
       "\n",
       "    Notes\n",
       "    -----\n",
       "    - Stored values are full Tapis URIs (start with \"tapis://\" and end with \"/\").\n",
       "    - Keys are lowercase: \"mydata\", \"community\", \"work\". For \"work\", values are a dict\n",
       "      keyed by HPC system (\"stampede3\", \"ls6\", \"frontera\").\n",
       "    \"\"\"\n",
       "    import json\n",
       "    import os\n",
       "    from pathlib import Path\n",
       "    from typing import Dict, Optional, Union, Iterable, Sequence\n",
       "    from OpsUtils import OpsUtils\n",
       "\n",
       "    # ----------------------------\n",
       "    # normalize & validate inputs\n",
       "    # ----------------------------\n",
       "    fs = (file_system or \"none\").strip().lower()\n",
       "    # print('fs',fs)\n",
       "\n",
       "    # Handle loose input like \"CommunityData\"\n",
       "    if \"community\" in fs:\n",
       "        fs = \"community\"\n",
       "\n",
       "    valid_file_systems = [\"mydata\", \"community\",  \"published\",\"none\"]\n",
       "    valid_work_systems = [\"stampede3\", \"ls6\", \"frontera\", \"none\"]\n",
       "    for thisW in valid_work_systems:\n",
       "        valid_file_systems.append(f'work/{thisW}')\n",
       "    # print('valid_file_systems',valid_file_systems)\n",
       "\n",
       "    if fs not in valid_file_systems:\n",
       "        raise ValueError(f\"file_system='{file_system}' not in {sorted(valid_file_systems)}\")\n",
       "\n",
       "    cache_path = Path(os.path.expanduser(paths_file_path))\n",
       "    # print('cache_path',cache_path)\n",
       "\n",
       "    # ----------------------------\n",
       "    # helper: normalize URIs\n",
       "    # ----------------------------\n",
       "    def _with_scheme(u: str) -> str:\n",
       "        u = u.strip()\n",
       "        if not u:\n",
       "            return u\n",
       "        if not u.startswith(\"tapis://\"):\n",
       "            u = \"tapis://\" + u.lstrip(\"/\")\n",
       "        # if not u.endswith(\"/\"):\n",
       "        #     u += \"/\"\n",
       "        u = u.rstrip(\"/\")\n",
       "        return u\n",
       "\n",
       "    # ----------------------------\n",
       "    # try reading existing cache\n",
       "    # ----------------------------\n",
       "    paths: Dict = {}\n",
       "    if cache_path.exists() and not force_refresh:\n",
       "        try:\n",
       "            with cache_path.open(\"r\", encoding=\"utf-8\") as f:\n",
       "                paths = json.load(f)\n",
       "                print(f'found paths file: {cache_path}')\n",
       "        except Exception:\n",
       "            paths = {}\n",
       "            \n",
       "    # quick return if cache satisfies the request\n",
       "    def _maybe_return_from_cache() -> Optional[Union[str, Dict]]:\n",
       "        if not paths:\n",
       "            return None\n",
       "        if fs == \"none\":\n",
       "            return paths\n",
       "        if fs in {\"mydata\", \"community\", \"published\"}:\n",
       "            val = paths.get(fs)\n",
       "            if isinstance(val, str) and val:\n",
       "                return _with_scheme(val)\n",
       "        if \"work\" in fs:\n",
       "            val = paths.get(fs)\n",
       "            if isinstance(val, str) and val:\n",
       "                return _with_scheme(val)\n",
       "        return None\n",
       "\n",
       "    cached = _maybe_return_from_cache()\n",
       "    if cached is not None:\n",
       "        return cached\n",
       "\n",
       "    # ----------------------------\n",
       "    # (re)discover all bases\n",
       "    # ----------------------------\n",
       "    try:\n",
       "        username = OpsUtils.get_tapis_username(t)\n",
       "    except Exception as e:\n",
       "        raise RuntimeError(f\"Could not determine Tapis username: {e}\")\n",
       "\n",
       "    discovered: Dict = {\n",
       "        \"mydata\": _with_scheme(f\"designsafe.storage.default/{username}\"),\n",
       "        \"community\": _with_scheme(\"designsafe.storage.community\"),\n",
       "        \"published\": _with_scheme(\"designsafe.storage.published\"),\n",
       "    }\n",
       "\n",
       "    # Discover Work bases using the new inner helper\n",
       "    for system in (\"stampede3\", \"ls6\", \"frontera\"):\n",
       "        try:\n",
       "            base_uri = OpsUtils.get_user_work_tapis_uri(t, system_id=system)\n",
       "            discovered[f'work/{system}'] = _with_scheme(base_uri)  # idempotent\n",
       "        except Exception:\n",
       "            # Skip systems we can't resolve; they can be refreshed later\n",
       "            continue\n",
       "\n",
       "    # Persist to cache\n",
       "\n",
       "    cache_path.parent.mkdir(parents=True, exist_ok=True)\n",
       "    with cache_path.open(\"w\", encoding=\"utf-8\") as f:\n",
       "        json.dump(discovered, f, indent=2)\n",
       "        print(f'saved data to {cache_path}')\n",
       "\n",
       "    # Return per request\n",
       "    if fs == \"none\":\n",
       "        return discovered\n",
       "    else:\n",
       "        return discovered[fs]\n",
       "\n",
       "    return discovered\n",
       "</pre>\n",
       "                      </details>\n",
       "                    "
      ],
      "text/plain": [
       "<IPython.core.display.HTML object>"
      ]
     },
     "metadata": {},
     "output_type": "display_data"
    }
   ],
   "source": [
    "OpsUtils.show_text_file_in_accordion(PathOpsUtils, ['get_user_path_tapis_uri.py'])"
   ]
  },
  {
   "cell_type": "code",
   "execution_count": 7,
   "metadata": {},
   "outputs": [
    {
     "name": "stdout",
     "output_type": "stream",
     "text": [
      "stampede3: tapis://cloud.data/work/05072/silvia/stampede3/\n",
      "ls6: tapis://cloud.data/work/05072/silvia/ls6/\n",
      "frontera: tapis://cloud.data/work/05072/silvia/frontera/\n"
     ]
    }
   ],
   "source": [
    "from pathlib import Path\n",
    "systems = [\"stampede3\", \"ls6\", \"frontera\"]\n",
    "\n",
    "for s in systems:\n",
    "    work_base = OpsUtils.get_user_work_tapis_uri(t, system_id=s)    \n",
    "    print(f'{s}: {work_base}')\n",
    "    TapisPaths[f'work/{s}'] = work_base\n"
   ]
  },
  {
   "cell_type": "code",
   "execution_count": 14,
   "metadata": {},
   "outputs": [
    {
     "name": "stdout",
     "output_type": "stream",
     "text": [
      "tapis://cloud.data/work/05072/silvia/frontera/\n"
     ]
    }
   ],
   "source": [
    "MyData_base = OpsUtils.get_user_work_tapis_uri(t, system_id=s)\n",
    "print(MyData_base)"
   ]
  },
  {
   "cell_type": "markdown",
   "metadata": {},
   "source": [
    "## save to a file\n",
    "This is the default (\"~/MyData/.tapis_user_paths.json\") path that will be used in the utility functions (OpsUtils) used in this training module."
   ]
  },
  {
   "cell_type": "code",
   "execution_count": 8,
   "metadata": {},
   "outputs": [
    {
     "name": "stdout",
     "output_type": "stream",
     "text": [
      "TapisPaths {'mydata': 'tapis://designsafe.storage.default/silvia', 'community': 'tapis://designsafe.storage.community', 'published': 'tapis://designsafe.storage.published', 'work/stampede3': 'tapis://cloud.data/work/05072/silvia/stampede3/', 'work/ls6': 'tapis://cloud.data/work/05072/silvia/ls6/', 'work/frontera': 'tapis://cloud.data/work/05072/silvia/frontera/'}\n"
     ]
    }
   ],
   "source": [
    "print('TapisPaths',TapisPaths)"
   ]
  },
  {
   "cell_type": "code",
   "execution_count": 9,
   "metadata": {},
   "outputs": [
    {
     "data": {
      "text/plain": [
       "368"
      ]
     },
     "execution_count": 9,
     "metadata": {},
     "output_type": "execute_result"
    }
   ],
   "source": [
    "import json\n",
    "Path(\"~/MyData/.tapis_user_paths.json\").expanduser().write_text(json.dumps(TapisPaths, indent=2))"
   ]
  },
  {
   "cell_type": "markdown",
   "metadata": {},
   "source": [
    "---\n",
    "## Use Utility Function\n",
    "We have put the above steps into a utility function: get_tapis_base_paths(t,system) that you can call at the beginning of your script."
   ]
  },
  {
   "cell_type": "code",
   "execution_count": 10,
   "metadata": {
    "tags": [
     "remove-input"
    ]
   },
   "outputs": [
    {
     "data": {
      "text/html": [
       "\n",
       "                      <details style=\"margin-top:1em; font-family:monospace; background:white; \n",
       "                          padding:0.25em; border-radius:6px; border:1px solid #ccc;\">\n",
       "                        <summary style=\"cursor:pointer; font-weight:bold; background:white; \n",
       "                          padding:0.3em 0.5em; border-radius:4px;\">get_user_path_tapis_uri.py</summary>\n",
       "\n",
       "                        <button onclick=\"navigator.clipboard.writeText(document.getElementById('0dfd7712bff14ae1be512f53948cfc1f').innerText)\">\n",
       "                          📋 Copy\n",
       "                        </button>\n",
       "                        <pre id=\"0dfd7712bff14ae1be512f53948cfc1f\" style=\"white-space:pre-wrap; margin:0.25em 0 0 0; \n",
       "                            background:#d4fbff; padding:.3em; border-radius:5px;\">\n",
       "<b># /home/jupyter/CommunityData/OpenSees/TrainingMaterial/training-OpenSees-on-DesignSafe/OpsUtils/OpsUtils/Tapis/get_user_path_tapis_uri.py</b>\n",
       "from __future__ import annotations\n",
       "\n",
       "def get_user_path_tapis_uri(\n",
       "    t,\n",
       "    file_system: str = \"none\",                  # \"none\" | \"mydata\" | \"community\" | \"work/stampede3\",\"work/ls6\",\"work/frontera\"\n",
       "\n",
       "    paths_file_path: str = \"~/MyData/.tapis_user_paths.json\",\n",
       "    force_refresh: bool = False,\n",
       ") -> Union[str, Dict]:\n",
       "    \"\"\"\n",
       "    Discover and cache user-specific Tapis base URIs for DesignSafe storage systems,\n",
       "    then return either the entire dictionary or a single base URI.\n",
       "\n",
       "    Author\n",
       "    -------\n",
       "    Silvia Mazzoni, DesignSafe (silviamazzoni@yahoo.com)\n",
       "\n",
       "    Parameters\n",
       "    ----------\n",
       "    t : Tapipy client\n",
       "        An authenticated Tapipy v3 client.\n",
       "    file_system : {\"none\",\"mydata\",\"community\",\"work\"}, optional\n",
       "        Which base to return. Use \"none\" to return the full dictionary.\n",
       "        When file_system=\"work\", which HPC system's Work base to return.\n",
       "    paths_file_path : str, optional\n",
       "        Location (on MyData or local home) where the JSON cache is stored.\n",
       "        Default: \"~/MyData/.tapis_user_paths.json\".\n",
       "    force_refresh : bool, optional\n",
       "        If True, (re)discover all bases and overwrite the cache file.\n",
       "\n",
       "    Returns\n",
       "    -------\n",
       "    Union[str, dict]\n",
       "        - If file_system == \"none\": the full dict of bases (including subdict for \"work\").\n",
       "        - Else: a single base URI string for the requested system.\n",
       "\n",
       "    Notes\n",
       "    -----\n",
       "    - Stored values are full Tapis URIs (start with \"tapis://\" and end with \"/\").\n",
       "    - Keys are lowercase: \"mydata\", \"community\", \"work\". For \"work\", values are a dict\n",
       "      keyed by HPC system (\"stampede3\", \"ls6\", \"frontera\").\n",
       "    \"\"\"\n",
       "    import json\n",
       "    import os\n",
       "    from pathlib import Path\n",
       "    from typing import Dict, Optional, Union, Iterable, Sequence\n",
       "    from OpsUtils import OpsUtils\n",
       "\n",
       "    # ----------------------------\n",
       "    # normalize & validate inputs\n",
       "    # ----------------------------\n",
       "    fs = (file_system or \"none\").strip().lower()\n",
       "    # print('fs',fs)\n",
       "\n",
       "    # Handle loose input like \"CommunityData\"\n",
       "    if \"community\" in fs:\n",
       "        fs = \"community\"\n",
       "\n",
       "    valid_file_systems = [\"mydata\", \"community\",  \"published\",\"none\"]\n",
       "    valid_work_systems = [\"stampede3\", \"ls6\", \"frontera\", \"none\"]\n",
       "    for thisW in valid_work_systems:\n",
       "        valid_file_systems.append(f'work/{thisW}')\n",
       "    # print('valid_file_systems',valid_file_systems)\n",
       "\n",
       "    if fs not in valid_file_systems:\n",
       "        raise ValueError(f\"file_system='{file_system}' not in {sorted(valid_file_systems)}\")\n",
       "\n",
       "    cache_path = Path(os.path.expanduser(paths_file_path))\n",
       "    # print('cache_path',cache_path)\n",
       "\n",
       "    # ----------------------------\n",
       "    # helper: normalize URIs\n",
       "    # ----------------------------\n",
       "    def _with_scheme(u: str) -> str:\n",
       "        u = u.strip()\n",
       "        if not u:\n",
       "            return u\n",
       "        if not u.startswith(\"tapis://\"):\n",
       "            u = \"tapis://\" + u.lstrip(\"/\")\n",
       "        # if not u.endswith(\"/\"):\n",
       "        #     u += \"/\"\n",
       "        u = u.rstrip(\"/\")\n",
       "        return u\n",
       "\n",
       "    # ----------------------------\n",
       "    # try reading existing cache\n",
       "    # ----------------------------\n",
       "    paths: Dict = {}\n",
       "    if cache_path.exists() and not force_refresh:\n",
       "        try:\n",
       "            with cache_path.open(\"r\", encoding=\"utf-8\") as f:\n",
       "                paths = json.load(f)\n",
       "                print(f'found paths file: {cache_path}')\n",
       "        except Exception:\n",
       "            paths = {}\n",
       "            \n",
       "    # quick return if cache satisfies the request\n",
       "    def _maybe_return_from_cache() -> Optional[Union[str, Dict]]:\n",
       "        if not paths:\n",
       "            return None\n",
       "        if fs == \"none\":\n",
       "            return paths\n",
       "        if fs in {\"mydata\", \"community\", \"published\"}:\n",
       "            val = paths.get(fs)\n",
       "            if isinstance(val, str) and val:\n",
       "                return _with_scheme(val)\n",
       "        if \"work\" in fs:\n",
       "            val = paths.get(fs)\n",
       "            if isinstance(val, str) and val:\n",
       "                return _with_scheme(val)\n",
       "        return None\n",
       "\n",
       "    cached = _maybe_return_from_cache()\n",
       "    if cached is not None:\n",
       "        return cached\n",
       "\n",
       "    # ----------------------------\n",
       "    # (re)discover all bases\n",
       "    # ----------------------------\n",
       "    try:\n",
       "        username = OpsUtils.get_tapis_username(t)\n",
       "    except Exception as e:\n",
       "        raise RuntimeError(f\"Could not determine Tapis username: {e}\")\n",
       "\n",
       "    discovered: Dict = {\n",
       "        \"mydata\": _with_scheme(f\"designsafe.storage.default/{username}\"),\n",
       "        \"community\": _with_scheme(\"designsafe.storage.community\"),\n",
       "        \"published\": _with_scheme(\"designsafe.storage.published\"),\n",
       "    }\n",
       "\n",
       "    # Discover Work bases using the new inner helper\n",
       "    for system in (\"stampede3\", \"ls6\", \"frontera\"):\n",
       "        try:\n",
       "            base_uri = OpsUtils.get_user_work_tapis_uri(t, system_id=system)\n",
       "            discovered[f'work/{system}'] = _with_scheme(base_uri)  # idempotent\n",
       "        except Exception:\n",
       "            # Skip systems we can't resolve; they can be refreshed later\n",
       "            continue\n",
       "\n",
       "    # Persist to cache\n",
       "\n",
       "    cache_path.parent.mkdir(parents=True, exist_ok=True)\n",
       "    with cache_path.open(\"w\", encoding=\"utf-8\") as f:\n",
       "        json.dump(discovered, f, indent=2)\n",
       "        print(f'saved data to {cache_path}')\n",
       "\n",
       "    # Return per request\n",
       "    if fs == \"none\":\n",
       "        return discovered\n",
       "    else:\n",
       "        return discovered[fs]\n",
       "\n",
       "    return discovered\n",
       "</pre>\n",
       "                      </details>\n",
       "                    "
      ],
      "text/plain": [
       "<IPython.core.display.HTML object>"
      ]
     },
     "metadata": {},
     "output_type": "display_data"
    }
   ],
   "source": [
    "OpsUtils.show_text_file_in_accordion(PathOpsUtils, ['get_user_path_tapis_uri.py'])"
   ]
  },
  {
   "cell_type": "code",
   "execution_count": 16,
   "metadata": {},
   "outputs": [
    {
     "name": "stdout",
     "output_type": "stream",
     "text": [
      "saved data to /home/jupyter/MyData/.tapis_user_paths.json\n",
      "mydata tapis://designsafe.storage.default/silvia\n",
      "community tapis://designsafe.storage.community\n",
      "published tapis://designsafe.storage.published\n",
      "work/stampede3 tapis://cloud.data/work/05072/silvia/stampede3\n",
      "work/ls6 tapis://cloud.data/work/05072/silvia/ls6\n",
      "work/frontera tapis://cloud.data/work/05072/silvia/frontera\n"
     ]
    }
   ],
   "source": [
    "allPaths = OpsUtils.get_user_path_tapis_uri(t,force_refresh=True)\n",
    "for key,value in allPaths.items():\n",
    "    print(key,value)"
   ]
  },
  {
   "cell_type": "code",
   "execution_count": 12,
   "metadata": {},
   "outputs": [
    {
     "name": "stdout",
     "output_type": "stream",
     "text": [
      "found paths file: /home/jupyter/MyData/.tapis_user_paths.json\n",
      "thisPath: tapis://designsafe.storage.default/silvia\n"
     ]
    }
   ],
   "source": [
    "#specify a specific value of file_system\n",
    "thisPath = OpsUtils.get_user_path_tapis_uri(t,file_system='MyData')\n",
    "print('thisPath:',thisPath)"
   ]
  },
  {
   "cell_type": "code",
   "execution_count": 13,
   "metadata": {},
   "outputs": [
    {
     "name": "stdout",
     "output_type": "stream",
     "text": [
      "found paths file: /home/jupyter/MyData/.tapis_user_paths.json\n",
      "thisPath: tapis://cloud.data/work/05072/silvia/stampede3\n"
     ]
    }
   ],
   "source": [
    "#specify a specific value of file_system\n",
    "thisPath = OpsUtils.get_user_path_tapis_uri(t,file_system='Work/stampede3')\n",
    "print('thisPath:',thisPath)"
   ]
  },
  {
   "cell_type": "markdown",
   "metadata": {},
   "source": [
    "---\n",
    "## Alternate Semi-Automatic Method: Copy from the Web Portal\n",
    "\n",
    "If you don’t have a base yet (or you’re exploring):\n",
    "\n",
    "1. Open an app page (e.g., OpenSeesMP on Stampede3).\n",
    "2. Click the **folder** icon to browse.\n",
    "3. Navigate to the target directory and select it.\n",
    "4. Copy the displayed Tapis URI, e.g.\n",
    "\n",
    "   ```\n",
    "   tapis://cloud.data/work/05072/jdoe/stampede3/somefolder\n",
    "   ```\n",
    "5. Keep the **base portion** for reuse:\n",
    "\n",
    "   ```\n",
    "   tapis://cloud.data/work/05072/jdoe/stampede3/\n",
    "   ```\n",
    "\n",
    "Once you get the hang of this, it’s quick—then move that base into your saved JSON so you never have to browse again.\n",
    "\n",
    "---\n",
    "\n",
    "## Quick Reminders\n",
    "\n",
    "* Tapis paths are **system-rooted**, not CWD-rooted (different from Jupyter).\n",
    "* Use **Work** for HPC I/O; copy anything you want to keep from **Scratch** into **Work** or **MyData**.\n",
    "* Save your bases once; **append relative subpaths** in all your scripts and job submissions.\n"
   ]
  },
  {
   "cell_type": "code",
   "execution_count": null,
   "metadata": {},
   "outputs": [],
   "source": []
  }
 ],
 "metadata": {
  "IMAGE_NAME": "taccsciapps/ds-nb-img:base-0.2.3",
  "UUID": "73e0880d-9b87-11ec-9c1c-13579dd95994",
  "celltoolbar": "Raw Cell Format",
  "kernelspec": {
   "display_name": "Python 3 (ipykernel)",
   "language": "python",
   "name": "python3"
  },
  "language_info": {
   "codemirror_mode": {
    "name": "ipython",
    "version": 3
   },
   "file_extension": ".py",
   "mimetype": "text/x-python",
   "name": "python",
   "nbconvert_exporter": "python",
   "pygments_lexer": "ipython3",
   "version": "3.12.11"
  }
 },
 "nbformat": 4,
 "nbformat_minor": 4
}
