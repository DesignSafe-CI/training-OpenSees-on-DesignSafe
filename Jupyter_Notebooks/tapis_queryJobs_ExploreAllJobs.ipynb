{
 "cells": [
  {
   "cell_type": "markdown",
   "metadata": {},
   "source": [
    "<a class=\"reference external\" href=\"https://jupyter.designsafe-ci.org/hub/user-redirect/lab/tree/CommunityData/OpenSees/TrainingMaterial/training-OpenSees-on-DesignSafe/Jupyter_Notebooks/tapis_queryJobs_ExploreAllJobs.ipynb\" target=\"_blank\">\n",
    "<img alt=\"Try on DesignSafe\" src=\"https://raw.githubusercontent.com/DesignSafe-Training/pinn/main/DesignSafe-Badge.svg\" /></a>"
   ]
  },
  {
   "cell_type": "markdown",
   "metadata": {},
   "source": [
    "# Step 1: Explore All Jobs\n",
    "***General Queries getJobList()***\n",
    "\n",
    "by Silvia Mazzoni, DesignSafe, 2025"
   ]
  },
  {
   "cell_type": "code",
   "execution_count": 1,
   "metadata": {
    "tags": [
     "remove-input"
    ]
   },
   "outputs": [
    {
     "name": "stdout",
     "output_type": "stream",
     "text": [
      "Using local utilities library\n"
     ]
    }
   ],
   "source": [
    "# Local Utilities Library\n",
    "# you can remove the logic associated with the local path\n",
    "import sys,os\n",
    "relativePath = '../OpsUtils'\n",
    "if os.path.exists(relativePath):\n",
    "    print(\"Using local utilities library\")\n",
    "    PathOpsUtils = os.path.expanduser(relativePath)\n",
    "else:\n",
    "    PathOpsUtils = os.path.expanduser('~/CommunityData/OpenSees/TrainingMaterial/training-OpenSees-on-DesignSafe/OpsUtils')\n",
    "if not PathOpsUtils in sys.path: sys.path.append(PathOpsUtils)\n",
    "from OpsUtils import OpsUtils\n",
    "import json"
   ]
  },
  {
   "cell_type": "code",
   "execution_count": 2,
   "metadata": {},
   "outputs": [
    {
     "name": "stdout",
     "output_type": "stream",
     "text": [
      " -- Checking Tapis token --\n",
      " Token loaded from file. Token is still valid!\n",
      " Token expires at: 2025-08-20T22:46:16+00:00\n",
      " Token expires in: 2:37:01.158774\n",
      "-- LOG IN SUCCESSFUL! --\n"
     ]
    }
   ],
   "source": [
    "t=OpsUtils.connect_tapis()"
   ]
  },
  {
   "cell_type": "markdown",
   "metadata": {},
   "source": [
    "### ______________________________________________________________________________\n",
    "The first step in working with Tapis jobs is to **get an overview of all your past and current runs**. Using `getJobList()`, you can retrieve summary metadata such as job IDs, owners, applications used, creation dates, and statuses. This broad view is useful for:\n",
    "\n",
    "* Building a searchable index or DataFrame of jobs,\n",
    "* Filtering by status (e.g., only finished or failed jobs), and\n",
    "* Deciding which jobs to examine in more detail.\n",
    "\n",
    "Think of this as your **dashboard view**: it gives you a wide-angle snapshot of your work across Tapis before zooming into specific jobs.\n",
    "\n",
    "---\n",
    "\n",
    "The **getJobList()** method retrieves a list of jobs, which can be filtered using a variety of fields. This is typically your first step when exploring job data.\n",
    "\n",
    "**Example Use:**"
   ]
  },
  {
   "cell_type": "code",
   "execution_count": 3,
   "metadata": {},
   "outputs": [
    {
     "name": "stdout",
     "output_type": "stream",
     "text": [
      "0d3c401b-1807-45a7-904c-ea50d381d2ca-007 FAILED 2024-06-20T21:29:15.384516Z\n",
      "\n",
      "appId: opensees-mp-s3\n",
      "appVersion: 3.6.0\n",
      "archiveSystemId: designsafe.storage.default\n",
      "condition: None\n",
      "created: 2024-06-20T21:29:15.384516Z\n",
      "ended: 2024-06-20T21:40:18.629466Z\n",
      "execSystemId: stampede3\n",
      "lastUpdated: 2024-06-20T21:40:18.629466Z\n",
      "name: opensees-mp-s3-3.6.0_2024-06-13T18:18:01\n",
      "owner: silvia\n",
      "remoteStarted: None\n",
      "status: FAILED\n",
      "tenant: designsafe\n",
      "uuid: 0d3c401b-1807-45a7-904c-ea50d381d2ca-007\n",
      "----------\n",
      "a983892a-f8a7-45cd-91a9-fe87747bb49c-007 FAILED 2024-06-13T18:18:10.809303Z\n",
      "\n",
      "appId: opensees-mp-s3\n",
      "appVersion: 3.6.0\n",
      "archiveSystemId: designsafe.storage.default\n",
      "condition: None\n",
      "created: 2024-06-13T18:18:10.809303Z\n",
      "ended: 2024-06-13T18:19:12.957455Z\n",
      "execSystemId: stampede3\n",
      "lastUpdated: 2024-06-13T18:19:12.957455Z\n",
      "name: opensees-mp-s3-3.6.0_2024-06-13T18:18:01\n",
      "owner: silvia\n",
      "remoteStarted: None\n",
      "status: FAILED\n",
      "tenant: designsafe\n",
      "uuid: a983892a-f8a7-45cd-91a9-fe87747bb49c-007\n",
      "----------\n",
      "65e05dee-13d9-4b56-8d83-f9957991f28a-007 FAILED 2024-10-08T20:57:24.066497Z\n",
      "\n",
      "appId: opensees-interactive\n",
      "appVersion: 3.7.0\n",
      "archiveSystemId: designsafe.storage.default\n",
      "condition: None\n",
      "created: 2024-10-08T20:57:24.066497Z\n",
      "ended: 2024-10-08T21:36:31.742985Z\n",
      "execSystemId: wma-exec-01\n",
      "lastUpdated: 2024-10-08T21:36:31.742985Z\n",
      "name: opensees-interactive-3.7.0_2024-10-08T20:57:15\n",
      "owner: silvia\n",
      "remoteStarted: 2024-10-08T20:57:46.786802Z\n",
      "status: FAILED\n",
      "tenant: designsafe\n",
      "uuid: 65e05dee-13d9-4b56-8d83-f9957991f28a-007\n",
      "----------\n"
     ]
    }
   ],
   "source": [
    "jobs = t.jobs.getJobList()\n",
    "# look at the first 3 jobs:\n",
    "for job in jobs[:3]:\n",
    "    print(job.uuid, job.status, job.created)\n",
    "    print(job)\n",
    "    print('----------')"
   ]
  },
  {
   "cell_type": "markdown",
   "metadata": {},
   "source": [
    "Each job is returned as a **TapisResult object**, which can be inspected with:"
   ]
  },
  {
   "cell_type": "code",
   "execution_count": 4,
   "metadata": {},
   "outputs": [
    {
     "name": "stdout",
     "output_type": "stream",
     "text": [
      "['PRIMITIVE_TYPES', '__class__', '__delattr__', '__dict__', '__dir__', '__doc__', '__eq__', '__format__', '__ge__', '__getattribute__', '__getstate__', '__gt__', '__hash__', '__init__', '__init_subclass__', '__le__', '__lt__', '__module__', '__ne__', '__new__', '__reduce__', '__reduce_ex__', '__repr__', '__setattr__', '__sizeof__', '__str__', '__subclasshook__', '__weakref__', 'appId', 'appVersion', 'archiveSystemId', 'condition', 'created', 'ended', 'execSystemId', 'get', 'lastUpdated', 'name', 'owner', 'remoteStarted', 'status', 'tenant', 'uuid']\n",
      "{'uuid': '0d3c401b-1807-45a7-904c-ea50d381d2ca-007', 'name': 'opensees-mp-s3-3.6.0_2024-06-13T18:18:01', 'owner': 'silvia', 'appId': 'opensees-mp-s3', 'created': '2024-06-20T21:29:15.384516Z', 'status': 'FAILED', 'condition': None, 'remoteStarted': None, 'ended': '2024-06-20T21:40:18.629466Z', 'tenant': 'designsafe', 'execSystemId': 'stampede3', 'archiveSystemId': 'designsafe.storage.default', 'appVersion': '3.6.0', 'lastUpdated': '2024-06-20T21:40:18.629466Z'}\n"
     ]
    }
   ],
   "source": [
    "job = jobs[0]\n",
    "print(dir(job))          # All attributes\n",
    "print(job.__dict__)      # Dictionary view"
   ]
  },
  {
   "cell_type": "markdown",
   "metadata": {},
   "source": [
    "## Queryable Fields for *getJobList()*\n",
    "\n",
    "The *getJobList()* method does not accept all of the following fields directly, but these attributes are available on returned objects and can be filtered programmatically:\n",
    "\n",
    "| Field             | Description                                      |\n",
    "| ----------------- | ------------------------------------------------ |\n",
    "| *id*              | Unique job ID                                    |\n",
    "| *uuid*            | Universally unique identifier                    |\n",
    "| *owner*           | Username of the job submitter                    |\n",
    "| *tenant*          | Tapis tenant the job belongs to                  |\n",
    "| *appId*           | Application used to launch the job               |\n",
    "| *status*          | Current job status (*RUNNING*, *FINISHED*, etc.) |\n",
    "| *created*         | Timestamp when job was created                   |\n",
    "| *lastUpdated*     | Timestamp when job was last updated              |\n",
    "| *execSystemId*    | Execution system where job ran                   |\n",
    "| *archiveSystemId* | ID of archive system for outputs                 |\n",
    "| *archivePath*     | Path to archived output                          |\n",
    "| *parameterSet*    | Parameters and arguments submitted               |\n",
    "| *tags*            | User-defined tags                                |\n",
    "\n",
    "---\n",
    "\n",
    "## Available Job Status Values\n",
    "\n",
    "| Status           | Meaning               |\n",
    "| ---------------- | --------------------- |\n",
    "| *PENDING*        | Waiting to start      |\n",
    "| *STAGING_INPUTS* | Preparing inputs      |\n",
    "| *RUNNING*        | Job is active         |\n",
    "| *FINISHED*       | Completed normally    |\n",
    "| *FAILED*         | Failed to complete    |\n",
    "| *CANCELLED*      | Cancelled by user     |\n",
    "| *PAUSED*         | Paused manually       |\n",
    "| *BLOCKED*        | Waiting on dependency |\n",
    "\n",
    "Note: Some fields (e.g. *startTime*, *endTime*) may be *null* if the job hasn’t started or completed.\n",
    "---"
   ]
  },
  {
   "cell_type": "code",
   "execution_count": 5,
   "metadata": {},
   "outputs": [
    {
     "name": "stdout",
     "output_type": "stream",
     "text": [
      "0d3c401b-1807-45a7-904c-ea50d381d2ca-007 FAILED 2024-06-20T21:29:15.384516Z\n",
      "\n",
      "appId: opensees-mp-s3\n",
      "appVersion: 3.6.0\n",
      "archiveSystemId: designsafe.storage.default\n",
      "condition: None\n",
      "created: 2024-06-20T21:29:15.384516Z\n",
      "ended: 2024-06-20T21:40:18.629466Z\n",
      "execSystemId: stampede3\n",
      "lastUpdated: 2024-06-20T21:40:18.629466Z\n",
      "name: opensees-mp-s3-3.6.0_2024-06-13T18:18:01\n",
      "owner: silvia\n",
      "remoteStarted: None\n",
      "status: FAILED\n",
      "tenant: designsafe\n",
      "uuid: 0d3c401b-1807-45a7-904c-ea50d381d2ca-007\n",
      "----------\n",
      "a983892a-f8a7-45cd-91a9-fe87747bb49c-007 FAILED 2024-06-13T18:18:10.809303Z\n",
      "\n",
      "appId: opensees-mp-s3\n",
      "appVersion: 3.6.0\n",
      "archiveSystemId: designsafe.storage.default\n",
      "condition: None\n",
      "created: 2024-06-13T18:18:10.809303Z\n",
      "ended: 2024-06-13T18:19:12.957455Z\n",
      "execSystemId: stampede3\n",
      "lastUpdated: 2024-06-13T18:19:12.957455Z\n",
      "name: opensees-mp-s3-3.6.0_2024-06-13T18:18:01\n",
      "owner: silvia\n",
      "remoteStarted: None\n",
      "status: FAILED\n",
      "tenant: designsafe\n",
      "uuid: a983892a-f8a7-45cd-91a9-fe87747bb49c-007\n",
      "----------\n",
      "65e05dee-13d9-4b56-8d83-f9957991f28a-007 FAILED 2024-10-08T20:57:24.066497Z\n",
      "\n",
      "appId: opensees-interactive\n",
      "appVersion: 3.7.0\n",
      "archiveSystemId: designsafe.storage.default\n",
      "condition: None\n",
      "created: 2024-10-08T20:57:24.066497Z\n",
      "ended: 2024-10-08T21:36:31.742985Z\n",
      "execSystemId: wma-exec-01\n",
      "lastUpdated: 2024-10-08T21:36:31.742985Z\n",
      "name: opensees-interactive-3.7.0_2024-10-08T20:57:15\n",
      "owner: silvia\n",
      "remoteStarted: 2024-10-08T20:57:46.786802Z\n",
      "status: FAILED\n",
      "tenant: designsafe\n",
      "uuid: 65e05dee-13d9-4b56-8d83-f9957991f28a-007\n",
      "----------\n"
     ]
    }
   ],
   "source": [
    "jobs = t.jobs.getJobList(status='FINISHED')\n",
    "# look at the first 3 jobs:\n",
    "for job in jobs[:3]:\n",
    "    print(job.uuid, job.status, job.created)\n",
    "    print(job)\n",
    "    print('----------')"
   ]
  },
  {
   "cell_type": "markdown",
   "metadata": {},
   "source": [
    "Or via search:"
   ]
  },
  {
   "cell_type": "code",
   "execution_count": 6,
   "metadata": {},
   "outputs": [
    {
     "name": "stdout",
     "output_type": "stream",
     "text": [
      "0d3c401b-1807-45a7-904c-ea50d381d2ca-007 FAILED 2024-06-20T21:29:15.384516Z\n",
      "\n",
      "appId: opensees-mp-s3\n",
      "appVersion: 3.6.0\n",
      "archiveSystemId: designsafe.storage.default\n",
      "condition: None\n",
      "created: 2024-06-20T21:29:15.384516Z\n",
      "ended: 2024-06-20T21:40:18.629466Z\n",
      "execSystemId: stampede3\n",
      "lastUpdated: 2024-06-20T21:40:18.629466Z\n",
      "name: opensees-mp-s3-3.6.0_2024-06-13T18:18:01\n",
      "owner: silvia\n",
      "remoteStarted: None\n",
      "status: FAILED\n",
      "tenant: designsafe\n",
      "uuid: 0d3c401b-1807-45a7-904c-ea50d381d2ca-007\n",
      "----------\n",
      "a983892a-f8a7-45cd-91a9-fe87747bb49c-007 FAILED 2024-06-13T18:18:10.809303Z\n",
      "\n",
      "appId: opensees-mp-s3\n",
      "appVersion: 3.6.0\n",
      "archiveSystemId: designsafe.storage.default\n",
      "condition: None\n",
      "created: 2024-06-13T18:18:10.809303Z\n",
      "ended: 2024-06-13T18:19:12.957455Z\n",
      "execSystemId: stampede3\n",
      "lastUpdated: 2024-06-13T18:19:12.957455Z\n",
      "name: opensees-mp-s3-3.6.0_2024-06-13T18:18:01\n",
      "owner: silvia\n",
      "remoteStarted: None\n",
      "status: FAILED\n",
      "tenant: designsafe\n",
      "uuid: a983892a-f8a7-45cd-91a9-fe87747bb49c-007\n",
      "----------\n",
      "65e05dee-13d9-4b56-8d83-f9957991f28a-007 FAILED 2024-10-08T20:57:24.066497Z\n",
      "\n",
      "appId: opensees-interactive\n",
      "appVersion: 3.7.0\n",
      "archiveSystemId: designsafe.storage.default\n",
      "condition: None\n",
      "created: 2024-10-08T20:57:24.066497Z\n",
      "ended: 2024-10-08T21:36:31.742985Z\n",
      "execSystemId: wma-exec-01\n",
      "lastUpdated: 2024-10-08T21:36:31.742985Z\n",
      "name: opensees-interactive-3.7.0_2024-10-08T20:57:15\n",
      "owner: silvia\n",
      "remoteStarted: 2024-10-08T20:57:46.786802Z\n",
      "status: FAILED\n",
      "tenant: designsafe\n",
      "uuid: 65e05dee-13d9-4b56-8d83-f9957991f28a-007\n",
      "----------\n"
     ]
    }
   ],
   "source": [
    "search_query = json.dumps({\"status\": \"FAILED\"})\n",
    "jobs = t.jobs.getJobList(search=search_query)\n",
    "# look at the first 3 jobs:\n",
    "for job in jobs[:3]:\n",
    "    print(job.uuid, job.status, job.created)\n",
    "    print(job)\n",
    "    print('----------')"
   ]
  },
  {
   "cell_type": "markdown",
   "metadata": {},
   "source": [
    "**We will look at these commands in more details in this training module.**"
   ]
  }
 ],
 "metadata": {
  "IMAGE_NAME": "taccsciapps/ds-nb-img:base-0.2.3",
  "UUID": "73e0880d-9b87-11ec-9c1c-13579dd95994",
  "celltoolbar": "Raw Cell Format",
  "kernelspec": {
   "display_name": "Python 3 (ipykernel)",
   "language": "python",
   "name": "python3"
  },
  "language_info": {
   "codemirror_mode": {
    "name": "ipython",
    "version": 3
   },
   "file_extension": ".py",
   "mimetype": "text/x-python",
   "name": "python",
   "nbconvert_exporter": "python",
   "pygments_lexer": "ipython3",
   "version": "3.12.11"
  }
 },
 "nbformat": 4,
 "nbformat_minor": 4
}
