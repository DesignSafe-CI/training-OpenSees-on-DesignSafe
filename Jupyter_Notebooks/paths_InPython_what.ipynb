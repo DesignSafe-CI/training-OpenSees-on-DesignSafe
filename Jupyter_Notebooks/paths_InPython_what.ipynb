{
 "cells": [
  {
   "cell_type": "markdown",
   "id": "13aaba36-f7e8-44ea-a65b-91f656862a84",
   "metadata": {},
   "source": [
    "<a class=\"reference external\" \n",
    "    href=\"https://jupyter.designsafe-ci.org/hub/user-redirect/lab/tree/CommunityData/OpenSees/TrainingMaterial/training-OpenSees-on-DesignSafe/Jupyter_Notebooks/paths_InPython.ipynb\" target=\"_blank\">\n",
    "<img alt=\"Try on DesignSafe\" src=\"https://raw.githubusercontent.com/DesignSafe-Training/pinn/main/DesignSafe-Badge.svg\" /></a>"
   ]
  },
  {
   "cell_type": "markdown",
   "id": "90a66ccd-e5cd-4fe1-815a-83872dd933c2",
   "metadata": {},
   "source": [
    "# Paths in Python 📒\n",
    "***Working with Paths in Python: os module vs Shell Commands***\n",
    "\n",
    "by Silvia Mazzoni, DesignSafe, 2025\n",
    "\n",
    "When writing scripts that manipulate files or navigate directories, it’s critical to use tools that are **portable, robust, and easy to maintain across systems**.\n",
    "\n",
    "On DesignSafe (and generally on HPC systems), your scripts might run on JupyterHub, a virtual machine, or a batch environment—so writing **path operations in pure Python** ensures they behave consistently everywhere.\n"
   ]
  },
  {
   "cell_type": "code",
   "execution_count": 1,
   "id": "8cccbbff-caeb-459d-afd0-fc0a386f4efc",
   "metadata": {},
   "outputs": [],
   "source": [
    "import os"
   ]
  },
  {
   "cell_type": "markdown",
   "id": "6776c9e5-7c00-4f94-86e0-54c687dace7d",
   "metadata": {},
   "source": [
    "## **os** Python Module\n",
    "\n",
    "The *os.path* module is part of Python’s built-in *os* library and helps you **work with file system paths in a clean, portable way**. Instead of relying on system-specific shell commands like *cd*, *pwd*, or *ls*, *os.path* and related *os* functions let you write code that works consistently across **Linux, macOS, and Windows**.\n",
    "\n",
    "Unlike shell commands, which only **display output to the screen**, Python’s *os* and *os.path* functions **return actual values** (like strings, lists, or booleans) that you can use directly in your code. For example, *os.listdir()* gives you a list of filenames you can iterate over—no parsing, no copy-pasting from the terminal.\n",
    "\n",
    "When comparing options:\n",
    "\n",
    "* *os* and *os.path* are **Python-native** — safe, readable, and portable.\n",
    "* Shell commands like *ls* or *cd* are **fragile** and don’t return data you can use in Python.\n",
    "* *subprocess* is powerful, but better suited for running full programs or system-level tools, not basic path operations.\n",
    "\n",
    "If you're building a workflow that needs to run reliably in different environments—like JupyterHub, VMs, or HPC systems—use *os.path*.\n",
    "\n",
    "### Why use *os.path*?\n",
    "\n",
    "* **Portable:** handles differences between Linux, macOS, and Windows automatically (slashes, etc.).\n",
    "* **Works with Python variables:** no need to parse command output.\n",
    "* **Safe and predictable:** your scripts don’t depend on external shell programs.\n",
    "\n",
    "By contrast:\n",
    "\n",
    "* Shell commands via **os.system()** are less predictable and can’t return values to Python variables.\n",
    "* The **subprocess** module is very powerful for calling external programs (like running OpenSees or SLURM scripts), but it’s overkill for simple file operations.\n",
    "\n",
    "\n",
    "## Examples with *os* and *os.path*\n",
    "\n",
    "| Task                               | Recommended Python Code                   | Shell Equivalent            |\n",
    "| ---------------------------------- | ----------------------------------------- | --------------------------- |\n",
    "| Get current directory              | `os.getcwd()`                             | `pwd`                       |\n",
    "| List files in a directory          | `os.listdir(path)`                        | `ls path`                   |\n",
    "| Change directory                   | `os.chdir(path)`                          | `cd path`                   |\n",
    "| Expand `~` to home directory       | `os.path.expanduser('~')`                 | `echo ~`                    |\n",
    "| Build safe path                    | `os.path.join(dir, file)`                 | `cd dir/subdir` *(fragile)* |\n",
    "| Get absolute path from relative    | `os.path.abspath('myfile.txt')`           | `realpath myfile.txt`       |\n",
    "| Check if a path exists             | `os.path.exists(path)`                    | `test -e path` or `ls`      |\n",
    "| Check if path is file or directory | `os.path.isfile(path)`, `os.path.isdir()` | `file path`, `ls -ld path`  |\n",
    "| Create a directory                 | `os.mkdir(path)`                          | `mkdir path`                |\n",
    "| Create all parent directories      | `os.makedirs(path, exist_ok=True)`        | `mkdir -p path`             |\n",
    "| Rename/move a file                 | `os.rename('old', 'new')`                 | `mv old new`                |\n",
    "| Remove a file                      | `os.remove('file.txt')`                   | `rm file.txt`               |\n",
    "| Remove an empty directory          | `os.rmdir('folder')`                      | `rmdir folder`              |\n",
    "| Remove a directory (recursively)   | `shutil.rmtree('folder')`                 | `rm -r folder`              |\n",
    "| Copy a file                        | `shutil.copy('src', 'dst')`               | `cp src dst`                |\n",
    "| Copy a directory                   | `shutil.copytree('src', 'dst')`           | `cp -r src dst`             |\n",
    "\n",
    "✅ **Tip:** Use the `os` and `os.path` modules for general-purpose, portable path and file manipulation. Use `shutil` when you need higher-level operations like copying or deleting directories -- see below for more on shutil."
   ]
  },
  {
   "cell_type": "markdown",
   "id": "7937dbfa-1694-4ec6-a49f-2e8aa16630d6",
   "metadata": {},
   "source": [
    "---\n",
    "## Check if a path exists\n",
    "***Checking if a path exists with os.path.exists***\n",
    "\n",
    "Before working with any file or directory — such as listing its contents, reading a file, or writing data — it’s good practice to first **check whether the path actually exists on the filesystem**.\n",
    "\n",
    "Python’s `os.path` module provides a simple way to do this:\n",
    "\n",
    "### Why this matters\n",
    "\n",
    "* Running commands on paths that **don’t exist** often causes errors like `FileNotFoundError`.\n",
    "* This is especially important on DesignSafe, where **storage may be mounted differently** on JupyterHub, the OpenSees VM, or Stampede3. A path valid on one system might not exist on another.\n",
    "* Checking existence first makes your scripts more robust and user-friendly — you can print helpful messages or even create missing directories.\n",
    "\n",
    "Adding `os.path.exists` checks into your workflow helps you avoid many common bugs and ensures your code handles different environments gracefully."
   ]
  },
  {
   "cell_type": "code",
   "execution_count": 2,
   "id": "650a201e-2fcb-4932-809c-d4ace18e7d09",
   "metadata": {},
   "outputs": [],
   "source": [
    "# initialize:\n",
    "os.chdir(os.path.expanduser('~')) # start at the home directory, we will discuss these commands"
   ]
  },
  {
   "cell_type": "code",
   "execution_count": 3,
   "id": "106849fb-3d25-4a74-8747-b07cf61e305e",
   "metadata": {},
   "outputs": [
    {
     "name": "stdout",
     "output_type": "stream",
     "text": [
      "The path exists: MyData\n"
     ]
    }
   ],
   "source": [
    "# Check if path exists:\n",
    "thisPath = 'MyData'\n",
    "\n",
    "if os.path.exists(thisPath):\n",
    "    print(f\"The path exists: {thisPath}\")\n",
    "else:\n",
    "    print(f\"Path does not exist: {thisPath}\")"
   ]
  },
  {
   "cell_type": "markdown",
   "id": "0aa724e8-ba7b-4887-91e5-70b62874db58",
   "metadata": {},
   "source": [
    "---\n",
    "## Absolute vs Relative Path\n",
    "Yes, that’s a good general rule—especially for Unix-like systems (like Linux and macOS), including the HPC systems on DesignSafe. Here's how you can phrase it more precisely:\n",
    "\n",
    "> An **absolute path** starts with a `/` and specifies the full location of a file or directory from the root of the file system.\n",
    ">\n",
    "> A **relative path** does **not** start with a `/` and is interpreted in relation to the current working directory (e.g., `.`).\n",
    "\n",
    "### Example:\n",
    "\n",
    "```bash\n",
    "# Absolute path\n",
    "/data/user/simulation/input.tcl\n",
    "\n",
    "# Relative path (from current directory)\n",
    "../input.tcl\n",
    "./scripts/run.sh\n",
    "```\n",
    "\n",
    "> ⚠️ On Windows, absolute paths start with a drive letter like `C:\\`, so this rule is Unix-specific—but totally valid on DesignSafe.\n"
   ]
  },
  {
   "cell_type": "markdown",
   "id": "cb879cb3-912a-4204-83c4-63302ab4e148",
   "metadata": {},
   "source": [
    "---\n",
    "## expanduser and abspath\n",
    "***Getting the full absolute path***\n",
    "\n",
    "You can define the full path with or without **~** (a special UNIX shorthand for your home directory).\n",
    "\n",
    "Let’s make sure you can build **robust absolute paths**, no matter how the path is specified.\n",
    "\n",
    "### Why this matters:\n",
    "- Paths without **~** are interpreted relative to your current working directory.  \n",
    "- Different environments on DesignSafe mount your storage under different root directories. If you rely on relative paths without care, your code might break or point to unexpected locations.\n",
    "\n",
    "\n",
    "### Using *expanduser* and *abspath* together\n",
    "\n",
    "- **os.path.expanduser(path)** replaces **~** with your actual home directory.  \n",
    "- **os.path.abspath(path)** resolves any relative path (like *MyData*) to a full path from **/**, based on where you’re currently working.\n",
    "\n",
    "But each does only half the job:"
   ]
  },
  {
   "cell_type": "markdown",
   "id": "10b9d786-cb77-41b0-b234-b8753bd060e1",
   "metadata": {},
   "source": [
    "### expanduser"
   ]
  },
  {
   "cell_type": "code",
   "execution_count": 4,
   "id": "9c06ae24-fab7-4581-8ca6-c290733a2c3e",
   "metadata": {},
   "outputs": [
    {
     "data": {
      "text/plain": [
       "'/home/jupyter/MyData'"
      ]
     },
     "execution_count": 4,
     "metadata": {},
     "output_type": "execute_result"
    }
   ],
   "source": [
    "os.path.expanduser('~/MyData') # replaces ~ with your actual home directory"
   ]
  },
  {
   "cell_type": "code",
   "execution_count": 5,
   "id": "d9a4ce34-028d-4e77-bac5-42ae2df32e21",
   "metadata": {},
   "outputs": [
    {
     "data": {
      "text/plain": [
       "True"
      ]
     },
     "execution_count": 5,
     "metadata": {},
     "output_type": "execute_result"
    }
   ],
   "source": [
    "os.path.exists(os.path.expanduser('~/MyData'))"
   ]
  },
  {
   "cell_type": "code",
   "execution_count": 6,
   "id": "747768cf-6d18-44ac-b9f7-cdab30e0037c",
   "metadata": {},
   "outputs": [
    {
     "data": {
      "text/plain": [
       "'/MyData'"
      ]
     },
     "execution_count": 6,
     "metadata": {},
     "output_type": "execute_result"
    }
   ],
   "source": [
    "os.path.expanduser('/MyData')"
   ]
  },
  {
   "cell_type": "code",
   "execution_count": 7,
   "id": "bc39abe4-97f8-4ed1-a902-1b16731251ed",
   "metadata": {},
   "outputs": [
    {
     "data": {
      "text/plain": [
       "False"
      ]
     },
     "execution_count": 7,
     "metadata": {},
     "output_type": "execute_result"
    }
   ],
   "source": [
    "os.path.exists(os.path.expanduser('/MyData'))"
   ]
  },
  {
   "cell_type": "code",
   "execution_count": 8,
   "id": "ef8f9f79-0bdd-401b-a655-5e420fe883a8",
   "metadata": {},
   "outputs": [
    {
     "data": {
      "text/plain": [
       "'MyData'"
      ]
     },
     "execution_count": 8,
     "metadata": {},
     "output_type": "execute_result"
    }
   ],
   "source": [
    "os.path.expanduser('MyData') # (unchanged, still relative)"
   ]
  },
  {
   "cell_type": "code",
   "execution_count": 9,
   "id": "bba0415c-2483-4639-b09c-b52c2a211c3e",
   "metadata": {},
   "outputs": [
    {
     "data": {
      "text/plain": [
       "True"
      ]
     },
     "execution_count": 9,
     "metadata": {},
     "output_type": "execute_result"
    }
   ],
   "source": [
    "os.path.exists(os.path.expanduser('MyData'))"
   ]
  },
  {
   "cell_type": "markdown",
   "id": "dd383a5a-10d7-4883-9873-f98edf49523a",
   "metadata": {},
   "source": [
    "### abspath"
   ]
  },
  {
   "cell_type": "code",
   "execution_count": 10,
   "id": "3845225e-bcc8-4b2c-be89-5398b1dd20aa",
   "metadata": {},
   "outputs": [
    {
     "data": {
      "text/plain": [
       "'/home/jupyter/MyData'"
      ]
     },
     "execution_count": 10,
     "metadata": {},
     "output_type": "execute_result"
    }
   ],
   "source": [
    "os.path.abspath('MyData') # (convert relative to absolute, based on cwd)"
   ]
  },
  {
   "cell_type": "code",
   "execution_count": 11,
   "id": "53467f22-a63f-4259-9b70-a5c1bd75e7c5",
   "metadata": {},
   "outputs": [
    {
     "data": {
      "text/plain": [
       "True"
      ]
     },
     "execution_count": 11,
     "metadata": {},
     "output_type": "execute_result"
    }
   ],
   "source": [
    "os.path.exists(os.path.abspath('MyData'))"
   ]
  },
  {
   "cell_type": "code",
   "execution_count": 12,
   "id": "7b75eab4-344c-49ff-abc9-06408a3a9a71",
   "metadata": {},
   "outputs": [
    {
     "data": {
      "text/plain": [
       "'/home/jupyter/~/MyData'"
      ]
     },
     "execution_count": 12,
     "metadata": {},
     "output_type": "execute_result"
    }
   ],
   "source": [
    "os.path.abspath('~/MyData') ## gives unrealistic results"
   ]
  },
  {
   "cell_type": "code",
   "execution_count": 13,
   "id": "1a01c1e0-f09a-4bd4-a576-c9adcda861a4",
   "metadata": {},
   "outputs": [
    {
     "data": {
      "text/plain": [
       "False"
      ]
     },
     "execution_count": 13,
     "metadata": {},
     "output_type": "execute_result"
    }
   ],
   "source": [
    "os.path.exists(os.path.abspath('~/MyData'))"
   ]
  },
  {
   "cell_type": "markdown",
   "id": "38fbf56e-8c37-4f85-9819-2b7472d2e6c7",
   "metadata": {},
   "source": [
    "### Combine abspath  expanduser\n",
    "The safest pattern is to **combine them**. This way, your path works whether it starts with **~** or is just relative:"
   ]
  },
  {
   "cell_type": "code",
   "execution_count": 14,
   "id": "b45c07fd-3fb9-47dd-a141-825fc9db8501",
   "metadata": {},
   "outputs": [
    {
     "data": {
      "text/plain": [
       "'/home/jupyter/MyData'"
      ]
     },
     "execution_count": 14,
     "metadata": {},
     "output_type": "execute_result"
    }
   ],
   "source": [
    "os.path.abspath(os.path.expanduser('~/MyData'))"
   ]
  },
  {
   "cell_type": "code",
   "execution_count": 15,
   "id": "e0e5a8d8-7b49-4319-bb0c-60f31bf57ae0",
   "metadata": {},
   "outputs": [
    {
     "data": {
      "text/plain": [
       "True"
      ]
     },
     "execution_count": 15,
     "metadata": {},
     "output_type": "execute_result"
    }
   ],
   "source": [
    "os.path.exists(os.path.abspath(os.path.expanduser('~/MyData')))"
   ]
  },
  {
   "cell_type": "code",
   "execution_count": 16,
   "id": "a22224ae-38b1-4230-acc5-2c5751c3b5e7",
   "metadata": {},
   "outputs": [
    {
     "data": {
      "text/plain": [
       "'/home/jupyter/MyData'"
      ]
     },
     "execution_count": 16,
     "metadata": {},
     "output_type": "execute_result"
    }
   ],
   "source": [
    "os.path.abspath(os.path.expanduser('MyData')) # this is a relative path, so it works only when MyData exists"
   ]
  },
  {
   "cell_type": "code",
   "execution_count": 17,
   "id": "f3a37a70-7d68-4512-b957-7f6bb8dcda63",
   "metadata": {},
   "outputs": [
    {
     "data": {
      "text/plain": [
       "True"
      ]
     },
     "execution_count": 17,
     "metadata": {},
     "output_type": "execute_result"
    }
   ],
   "source": [
    "os.path.exists('MyData')"
   ]
  },
  {
   "cell_type": "code",
   "execution_count": 18,
   "id": "bf03f3b6-ee31-42ea-b86f-92240f71eecf",
   "metadata": {},
   "outputs": [
    {
     "data": {
      "text/plain": [
       "True"
      ]
     },
     "execution_count": 18,
     "metadata": {},
     "output_type": "execute_result"
    }
   ],
   "source": [
    "os.path.exists(os.path.abspath(os.path.expanduser('MyData')))"
   ]
  },
  {
   "cell_type": "markdown",
   "id": "2d9a5eac-4dd8-4c8a-be77-99dad39ddf01",
   "metadata": {},
   "source": [
    "#### Rule of thumb\n",
    "\n",
    "* Always use `expanduser` to safely expand `~`.\n",
    "* Always follow it with `abspath` to ensure you get a full path from `/`.\n",
    "\n",
    "This tiny two-step makes your code **portable and predictable**—especially across JupyterHub, the OpenSees VM, Stampede3, and Tapis, where your storage may appear under different absolute root directories.\n",
    "\n",
    "Understanding how to combine `expanduser` and `abspath` ensures your scripts will find your data reliably, saving you from countless `FileNotFoundError` surprises—no matter which system you’re running on.\n",
    "\n",
    "### Summary of absolute and relative paths\n",
    "- Always use **absolute paths** for reliability.  \n",
    "- Use `os.path.expanduser(\"~\")` to safely handle home directories.  \n",
    "- Prefer `os.path` functions over shell commands for **portability across DesignSafe systems**.  \n",
    "- Remember: the same storage might appear differently in JupyterHub, the OpenSees VM, Stampede3, and Tapis — understanding paths keeps your workflows smooth and error-free.\n"
   ]
  },
  {
   "cell_type": "markdown",
   "id": "618f0a3a-d3b5-4138-8300-875945b703f6",
   "metadata": {},
   "source": [
    "---\n",
    "## Root & Home\n",
    "\n",
    "When working in Jupyter environments, the **full absolute path is often hidden behind a simplified interface**. You typically start navigating at directories like *MyData*, *Work*, or *MyProjects*, without seeing the full path that comes before them. However, these base paths do exist—and they vary depending on the system you’re using.\n",
    "\n",
    "On DesignSafe, this is especially important because **the same storage systems appear differently across platforms**. For example:\n",
    "\n",
    "* JupyterHub mounts **MyData** under **/home/jupyter/MyData/**\n",
    "* Stampede3 doesn’t mount **MyData** at all, but uses your **\\$HOME** directory instead, which is part of a different storage system.\n",
    "* Tapis uses URI-style paths like **tapis\\://designsafe.storage.default/username/** (more on this later...)\n",
    "\n",
    "Understanding these differences is key to writing scripts and workflows that are portable and error-free across all of DesignSafe’s environments.\n",
    "\n",
    "### The root directory (`/`) vs. your home directory (`~`)\n",
    "\n",
    "When talking about file systems on UNIX-like systems (including Linux, macOS, and the systems powering JupyterHub and Stampede3), it’s important to distinguish between:\n",
    "\n",
    "* **The root directory `/`**\n",
    "    This is the **top of the entire file system hierarchy**. Everything on the machine—system files, programs, shared data, and user directories—lives somewhere under **/**.  \n",
    "\n",
    "    Examples of absolute paths from root include::\n",
    "    ```\n",
    "    /\n",
    "    /home\n",
    "    /scratch\n",
    "    /usr/bin\n",
    "    ```\n",
    "\n",
    "* **Your home directory `~`**\n",
    "    This is a **shortcut to your personal user space**, sometimes called your “home directory.”\n",
    "    It’s where your files, configurations, and most project work reside. Typical absolute equivalents look like:\n",
    "    ```\n",
    "    /home/silvia\n",
    "    or\n",
    "    /Users/silvia\n",
    "    ````\n",
    "\n",
    "In other words, `/` is the root for **the whole machine**, while `~` is the root for **your own user environment**. That’s why `~` is sometimes described as “the root of your personal space.”\n",
    "\n",
    "### Why does this matter?\n",
    "\n",
    "* When you use `/` to start a path, you’re telling the system to look from the very top. For example:\n",
    "\n",
    "  ```\n",
    "  /usr/bin/python\n",
    "  /scratch/myproject/output.txt\n",
    "  ```\n",
    "\n",
    "  These are **system-level paths**—they exist independently of who’s logged in.\n",
    "\n",
    "* When you use `~`, you’re telling the system to look in **your own user directory**. For example:\n",
    "\n",
    "  ```\n",
    "  ~/my-scripts/run-opensees.sh\n",
    "  ~/results/output.dat\n",
    "  ```\n",
    "\n",
    "  These are **specific to your user**, making them portable and safer (you won’t accidentally mess with system files)."
   ]
  },
  {
   "cell_type": "markdown",
   "id": "ec92fd94-1e02-41ef-b7b9-f285963115ff",
   "metadata": {},
   "source": [
    "### Example with `/` in Python"
   ]
  },
  {
   "cell_type": "code",
   "execution_count": 19,
   "id": "d6c32b00-b9eb-4248-a291-ebf4677a99ec",
   "metadata": {},
   "outputs": [
    {
     "name": "stdout",
     "output_type": "stream",
     "text": [
      "Path: /\n",
      "Expanded: /\n"
     ]
    }
   ],
   "source": [
    "thisPath = '/'\n",
    "expanded = os.path.abspath(os.path.expanduser(thisPath))\n",
    "\n",
    "print(f\"Path: {thisPath}\")\n",
    "print(f\"Expanded: {expanded}\")"
   ]
  },
  {
   "cell_type": "code",
   "execution_count": 20,
   "id": "e1985603-395e-4b2c-94ff-7c892c49f1e4",
   "metadata": {},
   "outputs": [
    {
     "name": "stdout",
     "output_type": "stream",
     "text": [
      "\n",
      " Get contents using: os.listdir('/'): ['media', 'home', 'sbin', 'proc', 'boot', 'opt', 'tmp', 'usr', 'mnt', 'dev', 'var', 'sys', 'srv', 'bin', 'etc', 'run', 'lib', 'root', 'lib64', 'sbin.usr-is-merged', 'bin.usr-is-merged', 'lib.usr-is-merged']\n"
     ]
    }
   ],
   "source": [
    "AllContents = os.listdir(expanded)\n",
    "print(f\"\\n Get contents using: os.listdir('{thisPath}'): {AllContents}\")"
   ]
  },
  {
   "cell_type": "markdown",
   "id": "50e5332b-a394-4f85-9b9d-e2b844329cb9",
   "metadata": {},
   "source": [
    "### Example with `~` in Python"
   ]
  },
  {
   "cell_type": "code",
   "execution_count": 21,
   "id": "710c946a-a915-414a-898e-2641d43fb7b7",
   "metadata": {},
   "outputs": [
    {
     "name": "stdout",
     "output_type": "stream",
     "text": [
      "Path: ~\n",
      "Expanded: /home/jupyter\n"
     ]
    }
   ],
   "source": [
    "Path = '~'\n",
    "expanded = os.path.expanduser(Path)\n",
    "\n",
    "print(f\"Path: {Path}\")\n",
    "print(f\"Expanded: {expanded}\")"
   ]
  },
  {
   "cell_type": "code",
   "execution_count": 22,
   "id": "33737c3c-91bc-4f80-91d9-36adb4022aef",
   "metadata": {},
   "outputs": [
    {
     "name": "stdout",
     "output_type": "stream",
     "text": [
      "\n",
      " Get contents using: os.listdir('~'): ['.profile', '.bashrc', '.bash_logout', '.tapis_tokens.json', '.local', '.ipython', '.ipynb_checkpoints', '.cache', 'Work', '.config', '.tapis-token', 'MyProjects', 'CommunityData', 'NEES', 'NHERI-Published', 'MyData', '.jupyter', '.wget-hsts', '.julia', '.bash_history', '.matlab']\n"
     ]
    }
   ],
   "source": [
    "AllContents = os.listdir(expanded)\n",
    "print(f\"\\n Get contents using: os.listdir('{Path}'): {AllContents}\")"
   ]
  },
  {
   "cell_type": "markdown",
   "id": "23a38ef5-599e-4046-94fe-f13f8429d606",
   "metadata": {},
   "source": [
    "This shows that `\"~\"` is **not the same as `/`**—it expands to your personal home directory.\n",
    "\n",
    "\n",
    "| Symbol | Means                             |\n",
    "| ------ | --------------------------------- |\n",
    "| `/`    | **root of the entire filesystem** |\n",
    "| `~`    | **your user’s home directory**    |\n",
    "\n",
    "\n",
    "\n",
    "### In practice\n",
    "\n",
    "Understanding this difference is crucial when writing absolute paths.\n",
    "\n",
    "* If you use `/`, you start from the very top of the machine’s filesystem. This is required when referencing global locations or shared directories.\n",
    "\n",
    "* If you use `~`, you start from your personal space. This is safer and more portable—especially across different systems on DesignSafe—since it doesn’t depend on system-level structures that might change.\n",
    "\n",
    "This distinction also helps you avoid mistakes like trying to list or modify system directories (`/etc`, `/usr`) when you really meant to work inside your own files."
   ]
  }
 ],
 "metadata": {
  "IMAGE_NAME": "taccsciapps/ds-nb-img:base-0.2.4",
  "UUID": "d1af4976-5d4c-11f0-b54e-52dd1a6c9df8",
  "kernelspec": {
   "display_name": "Python 3 (ipykernel)",
   "language": "python",
   "name": "python3"
  },
  "language_info": {
   "codemirror_mode": {
    "name": "ipython",
    "version": 3
   },
   "file_extension": ".py",
   "mimetype": "text/x-python",
   "name": "python",
   "nbconvert_exporter": "python",
   "pygments_lexer": "ipython3",
   "version": "3.12.11"
  }
 },
 "nbformat": 4,
 "nbformat_minor": 5
}
