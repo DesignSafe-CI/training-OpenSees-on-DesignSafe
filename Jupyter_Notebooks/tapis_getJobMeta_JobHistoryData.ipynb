{
 "cells": [
  {
   "cell_type": "markdown",
   "metadata": {},
   "source": [
    "\n",
    "<a class=\"reference external\" href=\"https://jupyter.designsafe-ci.org/hub/user-redirect/tree/CommunityData/OpenSees/TrainingMaterial/training-OpenSees-on-DesignSafe/Jupyter_Notebooks/tapis_getJobMeta_JobHistoryData.ipynb\" target=\"_blank\">\n",
    "<img alt=\"Try on DesignSafe\" src=\"https://raw.githubusercontent.com/DesignSafe-Training/pinn/main/DesignSafe-Badge.svg\" /></a>\n",
    "<br>\n",
    "\n",
    "This notebook is part of the **OpenSees-On-DesignSafe Training Module** -- [CLICK HERE to access the Module](https://designsafe-ci.github.io/training-OpenSees-on-DesignSafe/README.html)"
   ]
  },
  {
   "cell_type": "markdown",
   "metadata": {},
   "source": [
    "# Job History\n",
    "\n",
    "by Silvia Mazzoni, DesignSafe, 2025\n",
    "\n",
    "Using the job ID (uuid), you can access detailed metadata on a job via Tapis's ***getJobHistory*** method. \n",
    "\n",
    "* The command is used to **retrieve detailed information about each stage of a job**.\n",
    "* You can retrieve information about the duration of each stage. \n",
    "\n",
    "We are going to use a python function for all this, it collects the output"
   ]
  },
  {
   "cell_type": "code",
   "execution_count": 1,
   "metadata": {
    "tags": [
     "remove-input"
    ]
   },
   "outputs": [
    {
     "name": "stdout",
     "output_type": "stream",
     "text": [
      "Using local utilities library\n"
     ]
    }
   ],
   "source": [
    "# Local Utilities Library\n",
    "# you can remove the logic associated with the local path\n",
    "import sys,os\n",
    "relativePath = '../OpsUtils'\n",
    "if os.path.exists(relativePath):\n",
    "    print(\"Using local utilities library\")\n",
    "    PathOpsUtils = os.path.expanduser(relativePath)\n",
    "else:\n",
    "    PathOpsUtils = os.path.expanduser('~/CommunityData/OpenSees/TrainingMaterial/training-OpenSees-on-DesignSafe/OpsUtils')\n",
    "if not PathOpsUtils in sys.path: sys.path.append(PathOpsUtils)\n",
    "from OpsUtils import OpsUtils"
   ]
  },
  {
   "cell_type": "markdown",
   "metadata": {},
   "source": [
    "---\n",
    "## Connect to Tapis"
   ]
  },
  {
   "cell_type": "code",
   "execution_count": 2,
   "metadata": {},
   "outputs": [
    {
     "name": "stdout",
     "output_type": "stream",
     "text": [
      " -- Checking Tapis token --\n",
      " Token loaded from file. Token is still valid!\n",
      " Token expires at: 2025-08-21T02:49:32+00:00\n",
      " Token expires in: 3:39:29.216361\n",
      "-- LOG IN SUCCESSFUL! --\n"
     ]
    }
   ],
   "source": [
    "t=OpsUtils.connect_tapis()"
   ]
  },
  {
   "cell_type": "markdown",
   "metadata": {},
   "source": [
    "---\n",
    "## Get Job History from Tapis\n",
    "\n",
    "**Purpose:** Get a timestamped history of job status changes.\n",
    "\n",
    "This is valuable data because it echoes all stages of your job"
   ]
  },
  {
   "cell_type": "code",
   "execution_count": 3,
   "metadata": {
    "tags": [
     "remove-input"
    ]
   },
   "outputs": [
    {
     "data": {
      "text/html": [
       "\n",
       "                      <details style=\"margin-top:1em; font-family:monospace; background:white; \n",
       "                          padding:0.25em; border-radius:6px; border:1px solid #ccc;\">\n",
       "                        <summary style=\"cursor:pointer; font-weight:bold; background:white; \n",
       "                          padding:0.3em 0.5em; border-radius:4px;\">get_tapis_job_history_data.py</summary>\n",
       "\n",
       "                        <button onclick=\"navigator.clipboard.writeText(document.getElementById('754353576ac147fab81808bcfe1e4635').innerText)\">\n",
       "                          📋 Copy\n",
       "                        </button>\n",
       "                        <pre id=\"754353576ac147fab81808bcfe1e4635\" style=\"white-space:pre-wrap; margin:0.25em 0 0 0; \n",
       "                            background:#d4fbff; padding:.3em; border-radius:5px;\">\n",
       "<b># ../OpsUtils/OpsUtils/Tapis/get_tapis_job_history_data.py</b>\n",
       "def get_tapis_job_history_data(\n",
       "    t,\n",
       "    jobUuid: str,\n",
       "    print_out: bool = True,\n",
       "    return_data: bool = False,\n",
       "    get_job_error_message: bool = False,\n",
       "):\n",
       "    \"\"\"\n",
       "    Retrieve and summarize a TACC/Tapis job's history, including step durations,\n",
       "    data-transfer metrics, and any job error messages. Optionally prints a\n",
       "    readable summary (Jupyter-friendly if ipywidgets is available) and/or\n",
       "    returns structured data for further analysis.\n",
       "\n",
       "    What it does\n",
       "    ------------\n",
       "    - Calls `t.jobs.getJobHistory(jobUuid=...)`.\n",
       "    - Computes time spent in each job status (e.g., QUEUED, RUNNING).\n",
       "    - Extracts transfer metrics for input/archive staging events.\n",
       "    - Collects JOB_ERROR_MESSAGE entries (if present).\n",
       "    - Prints accordion-style sections in Jupyter (if ipywidgets is available),\n",
       "      otherwise prints plain text sections.\n",
       "    - Optionally returns structured dictionaries.\n",
       "\n",
       "    Parameters\n",
       "    ----------\n",
       "    t : tapipy.tapis.Tapis\n",
       "        Authenticated Tapis client.\n",
       "    jobUuid : str\n",
       "        Job UUID to inspect.\n",
       "    print_out : bool, default True\n",
       "        If True, print summaries (accordion in Jupyter, plain text otherwise).\n",
       "    return_data : bool, default False\n",
       "        If True, return structured data dictionaries (see Returns).\n",
       "    get_job_error_message : bool, default False\n",
       "        If True, ensure error messages section prints (if any are found).\n",
       "\n",
       "    Returns\n",
       "    -------\n",
       "    dict | int | None\n",
       "        - When `return_data=True`, returns:\n",
       "            {\n",
       "              \"StepsMetricsDict\": { \"created\": {...}, \"duration\": {..., \"TOTAL\": seconds} },\n",
       "              \"DataTransfersDict\": { <event>: {metrics...}, ... },\n",
       "              \"JobHistory\": <list of history entries as returned by Tapis>,\n",
       "              \"JobErrorList\": [ {event, created, eventDetail, jobStatus, message}, ... ]\n",
       "            }\n",
       "        - If an API error occurs (fetching history), returns `-1`.\n",
       "        - Otherwise returns `None`.\n",
       "\n",
       "    Example\n",
       "    -------\n",
       "    # Print to screen and get data back:\n",
       "    info = get_tapis_job_history_data(t, jobUuid, print_out=True, return_data=True)\n",
       "    print(info[\"StepsMetricsDict\"][\"duration\"].get(\"RUNNING\", 0))\n",
       "\n",
       "    Author\n",
       "    ------\n",
       "    Silvia Mazzoni, DesignSafe (silviamazzoni@yahoo.com)\n",
       "\n",
       "    Date\n",
       "    ----\n",
       "    2025-08-14\n",
       "\n",
       "    Version\n",
       "    -------\n",
       "    1.0\n",
       "    \"\"\"\n",
       "    # Silvia Mazzoni, 2025\n",
       "    from datetime import datetime, timezone\n",
       "    from OpsUtils import OpsUtils\n",
       "\n",
       "    # --- Helpers -------------------------------------------------------------\n",
       "    def _parse_tacc_time(ts: str) -> float:\n",
       "        \"\"\"\n",
       "        Parse Tapis/TACC ISO timestamps to a Unix epoch (float seconds).\n",
       "        Accepts microseconds or no microseconds; 'Z' treated as UTC.\n",
       "        \"\"\"\n",
       "        if not ts:\n",
       "            return 0.0\n",
       "        s = ts.strip().replace(\"Z\", \"+00:00\")\n",
       "        try:\n",
       "            # Try with microseconds first\n",
       "            dt = datetime.fromisoformat(s)\n",
       "        except ValueError:\n",
       "            # Fallbacks if some variants sneak in; best-effort\n",
       "            try:\n",
       "                # Remove fractional seconds if present and retry\n",
       "                if \".\" in s:\n",
       "                    s2 = s.split(\".\", 1)[0] + \"+00:00\"\n",
       "                    dt = datetime.fromisoformat(s2)\n",
       "                else:\n",
       "                    raise\n",
       "            except Exception:\n",
       "                # Return 0.0 if we cannot parse\n",
       "                return 0.0\n",
       "        # Make sure it's timezone-aware UTC\n",
       "        if dt.tzinfo is None:\n",
       "            dt = dt.replace(tzinfo=timezone.utc)\n",
       "        return dt.timestamp()\n",
       "\n",
       "    def _get_job_history(t, jobUuid):\n",
       "        try:\n",
       "            return t.jobs.getJobHistory(jobUuid=jobUuid)\n",
       "        except Exception as e:\n",
       "            print(e)\n",
       "            return -1\n",
       "\n",
       "    # --- Fetch history -------------------------------------------------------\n",
       "    JobHistory = _get_job_history(t, jobUuid)\n",
       "    if JobHistory == -1:\n",
       "        return -1\n",
       "\n",
       "    # --- Print toggles -------------------------------------------------------\n",
       "    printStepDurations = bool(print_out)\n",
       "    printInput = bool(print_out)\n",
       "    printAllSteps = bool(print_out)\n",
       "    printLastStep = bool(print_out)\n",
       "    printJobErrorMessage = bool(print_out) or bool(get_job_error_message)\n",
       "\n",
       "    # --- Accumulators --------------------------------------------------------\n",
       "    STATdur = [\n",
       "        \"\\n++++++++++++++++++++++++++++++++++++++++++++++++++\",\n",
       "        \"+ STEP DURATION +\",\n",
       "        \"++++++++++++++++++++++++++++++++++++++++++++++++++\",\n",
       "    ]\n",
       "    INPUTdur = []\n",
       "    AllStepList = [\n",
       "        \"\\n++++++++++++++++++++++++++++++++++++++++++++++++++\",\n",
       "        \"+ STEP DETAILS +\",\n",
       "        \"++++++++++++++++++++++++++++++++++++++++++++++++++\",\n",
       "    ]\n",
       "    LastStepList = [\n",
       "        \"\\n++++++++++++++++++++++++++++++++++++++++++++++++++\",\n",
       "        \"+ LAST-STEP DETAILS +\",\n",
       "        \"++++++++++++++++++++++++++++++++++++++++++++++++++\",\n",
       "    ]\n",
       "    totalT = 0.0\n",
       "    stepDict = {\"created\": {}, \"duration\": {}}\n",
       "    transfersDict = {}\n",
       "    JobErrorList = []\n",
       "\n",
       "    # --- Iterate through history --------------------------------------------\n",
       "    NHistoryLines = len(JobHistory)\n",
       "    prev_created_ts = 0.0\n",
       "    prev_status = None\n",
       "    prev_created_str = None\n",
       "\n",
       "    for idx, thisHistoryLine in enumerate(JobHistory):\n",
       "        AllStepList.append(f\"Step {idx+1} of {NHistoryLines}\")\n",
       "        AllStepList.append(\"-\" * 40)\n",
       "        if idx == NHistoryLines - 1:\n",
       "            LastStepList.append(f\"Step {idx+1} of {NHistoryLines}\")\n",
       "            LastStepList.append(\"-\" * 40)\n",
       "\n",
       "        Hdict = thisHistoryLine.__dict__\n",
       "        flat_hist = OpsUtils.flatten_dict(Hdict)\n",
       "\n",
       "        event = flat_hist.get(\"event\", \"\")\n",
       "        created = flat_hist.get(\"created\", \"\")\n",
       "        created_ts = _parse_tacc_time(created)\n",
       "        eventDetail = flat_hist.get(\"eventDetail\", \"\")\n",
       "\n",
       "        # Track status durations\n",
       "        if event == \"JOB_NEW_STATUS\":\n",
       "            new_status = flat_hist.get(\"description.newJobStatus\", \"\")\n",
       "            old_status = flat_hist.get(\"description.oldJobStatus\", \"\")\n",
       "\n",
       "            if prev_created_ts > 0 and prev_status:\n",
       "                dTime = round(created_ts - prev_created_ts, 1)\n",
       "                pad = \" \" * max(1, 20 - len(prev_status))\n",
       "                STATdur.append(f\"  {prev_status}:{pad} {dTime} sec   \\t created: {prev_created_str}\")\n",
       "                stepDict[\"created\"][prev_status] = prev_created_str\n",
       "                stepDict[\"duration\"][prev_status] = dTime\n",
       "                totalT += dTime\n",
       "\n",
       "            # advance previous pointers\n",
       "            prev_created_ts = created_ts\n",
       "            prev_created_str = created\n",
       "            prev_status = new_status\n",
       "\n",
       "        elif event in (\"JOB_INPUT_TRANSACTION_ID\", \"JOB_ARCHIVE_TRANSACTION_ID\"):\n",
       "            # Label section by event type\n",
       "            header_label = \"INPUT TRANSFER\" if event == \"JOB_INPUT_TRANSACTION_ID\" else \"ARCHIVE TRANSFER\"\n",
       "            INPUTdur.append(f\"\\n----------------------\\n {header_label}\\n----------------------\")\n",
       "            INPUTdur.append(\"  ------------- Transfer Summary -------------\")\n",
       "            transfersDict[event] = {}\n",
       "\n",
       "            # Summary numbers (if available)\n",
       "            for k in (\"estimatedTotalBytes\", \"totalBytesTransferred\", \"completeTransfers\", \"totalTransfers\"):\n",
       "                v = flat_hist.get(f\"transferSummary.{k}\")\n",
       "                pad = \" \" * max(1, 25 - len(k))\n",
       "                INPUTdur.append(f\"  {k}:{pad} {v}\")\n",
       "                transfersDict[event][k] = v\n",
       "\n",
       "            # Durations\n",
       "            INPUTdur.append(\"  ------------- Transfer Duration -------------\")\n",
       "            created_t = _parse_tacc_time(flat_hist.get(\"transferSummary.created\", \"\"))\n",
       "            start_t = _parse_tacc_time(flat_hist.get(\"transferSummary.startTime\", \"\"))\n",
       "            end_t = _parse_tacc_time(flat_hist.get(\"transferSummary.endTime\", \"\"))\n",
       "\n",
       "            d1 = round(start_t - created_t, 1) if (start_t and created_t) else None\n",
       "            d2 = round(end_t - start_t, 1) if (end_t and start_t) else None\n",
       "            d3 = round(end_t - created_t, 1) if (end_t and created_t) else None\n",
       "\n",
       "            INPUTdur.append(f\"  Create-to-TransferStart Duration: {d1} sec\")\n",
       "            INPUTdur.append(f\"  TransferStart-to-TransferEnd Duration: {d2} sec\")\n",
       "            INPUTdur.append(f\"  Create-to-TransferEnd Duration: {d3} sec\")\n",
       "\n",
       "            transfersDict[event][\"Create-to-TransferStart Duration\"] = d1\n",
       "            transfersDict[event][\"TransferStart-to-TransferEnd Duration\"] = d2\n",
       "            transfersDict[event][\"Create-to-TransferEnd Duration\"] = d3\n",
       "\n",
       "        elif event == \"JOB_ERROR_MESSAGE\":\n",
       "            JobErrorDict = {\n",
       "                \"event\": event,\n",
       "                \"created\": flat_hist.get(\"created\"),\n",
       "                \"eventDetail\": flat_hist.get(\"eventDetail\"),\n",
       "                \"jobStatus\": flat_hist.get(\"description.jobStatus\"),\n",
       "                \"message\": flat_hist.get(\"description.message\"),\n",
       "            }\n",
       "            JobErrorList.append(JobErrorDict)\n",
       "\n",
       "        # Append all flattened fields (nice for inspection)\n",
       "        for k, n in flat_hist.items():\n",
       "            if n is None or str(n) == \"\":\n",
       "                continue\n",
       "            line = f\"{k:<35} : {n}\"\n",
       "            AllStepList.append(line)\n",
       "            if idx == NHistoryLines - 1:\n",
       "                LastStepList.append(line)\n",
       "\n",
       "        AllStepList.append(\"-\" * 40)\n",
       "        if idx == NHistoryLines - 1:\n",
       "            LastStepList.append(\"-\" * 40)\n",
       "\n",
       "    # Finalize totals (note: if job is still RUNNING/QUEUED the last segment is open)\n",
       "    STATdur.append(f\"  Total Duration: {round(totalT, 1)} sec\")\n",
       "    stepDict[\"duration\"][\"TOTAL\"] = round(totalT, 1)\n",
       "\n",
       "    # --- Printing (Jupyter accordion if available) ---------------------------\n",
       "    def _print_sections_plain():\n",
       "        if printJobErrorMessage and JobErrorList:\n",
       "            print(\"\\n++++++++++++++++++++++++++++\")\n",
       "            print(\"++++++ JOB-ERROR MESSAGE ++++++\")\n",
       "            print(\"++++++++++++++++++++++++++++\")\n",
       "            for d in JobErrorList:\n",
       "                for k, v in d.items():\n",
       "                    print(f\"{k}:\\t{v}\")\n",
       "                print(\"------\")\n",
       "        if printStepDurations:\n",
       "            for line in STATdur:\n",
       "                print(line)\n",
       "        if printInput and INPUTdur:\n",
       "            print(\"\\n\".join(INPUTdur))\n",
       "        if printAllSteps:\n",
       "            print(\"\\n\".join(AllStepList))\n",
       "        if printLastStep:\n",
       "            print(\"\\n\".join(LastStepList))\n",
       "\n",
       "    def _print_sections_widgets():\n",
       "        import ipywidgets as widgets\n",
       "        from IPython.display import display\n",
       "\n",
       "        history_out = widgets.Output()\n",
       "        acc = widgets.Accordion(children=[history_out])\n",
       "        acc.set_title(0, f\"Job History Data   ({jobUuid})\")\n",
       "        acc.selected_index = 0\n",
       "        display(acc)\n",
       "        with history_out:\n",
       "            print(\"\\n++++++++++++++++++++++++++++\")\n",
       "            print(\"++++++ JOB-HISTORY DATA ++++++\")\n",
       "            print(\"++++++++++++++++++++++++++++++\")\n",
       "            print(f\"++++++ jobUuid: {jobUuid}\")\n",
       "            print(\"+++++++++++++++++++++++++\")\n",
       "\n",
       "        if printJobErrorMessage and JobErrorList:\n",
       "            out = widgets.Output()\n",
       "            acc2 = widgets.Accordion(children=[out])\n",
       "            acc2.set_title(0, \"Job ERROR MESSAGE\")\n",
       "            acc2.selected_index = 0\n",
       "            with history_out:\n",
       "                display(acc2)\n",
       "            with out:\n",
       "                for d in JobErrorList:\n",
       "                    print(\"\\n++++++++++++++++++++++++++++++++++++++++++++++++++\")\n",
       "                    print(\"+ JOB_ERROR_MESSAGE +\")\n",
       "                    print(\"++++++++++++++++++++++++++++++++++++++++++++++++++\")\n",
       "                    for k, v in d.items():\n",
       "                        print(f\"{k}:\\t{v}\")\n",
       "                    print(\"------\")\n",
       "\n",
       "        if printStepDurations:\n",
       "            out = widgets.Output()\n",
       "            acc2 = widgets.Accordion(children=[out])\n",
       "            acc2.set_title(0, \"Steps Duration\")\n",
       "            with history_out:\n",
       "                display(acc2)\n",
       "            with out:\n",
       "                for line in STATdur:\n",
       "                    print(line)\n",
       "                print(\"++++++++++++++++++++++++++++++++++++++++++++++++++\")\n",
       "\n",
       "        if printInput and INPUTdur:\n",
       "            out = widgets.Output()\n",
       "            acc2 = widgets.Accordion(children=[out])\n",
       "            acc2.set_title(0, \"Job-Stagings Info\")\n",
       "            with history_out:\n",
       "                display(acc2)\n",
       "            with out:\n",
       "                for line in INPUTdur:\n",
       "                    print(line)\n",
       "                print(\"++++++++++++++++++++++++++++++++++++++++++++++++++\")\n",
       "\n",
       "        if printAllSteps:\n",
       "            out = widgets.Output()\n",
       "            acc2 = widgets.Accordion(children=[out])\n",
       "            acc2.set_title(0, \"ALL Steps Info\")\n",
       "            with history_out:\n",
       "                display(acc2)\n",
       "            with out:\n",
       "                for line in AllStepList:\n",
       "                    print(line)\n",
       "                print(\"++++++++++++++++++++++++++++++++++++++++++++++++++\")\n",
       "\n",
       "        if printLastStep:\n",
       "            out = widgets.Output()\n",
       "            acc2 = widgets.Accordion(children=[out])\n",
       "            acc2.set_title(0, \"Last Step Info\")\n",
       "            with history_out:\n",
       "                display(acc2)\n",
       "            with out:\n",
       "                for line in LastStepList:\n",
       "                    print(line)\n",
       "                print(\"++++++++++++++++++++++++++++++++++++++++++++++++++\")\n",
       "\n",
       "    if print_out:\n",
       "        try:\n",
       "            _print_sections_widgets()\n",
       "        except Exception:\n",
       "            _print_sections_plain()\n",
       "\n",
       "    # --- Return data ---------------------------------------------------------\n",
       "    if return_data:\n",
       "        return {\n",
       "            \"StepsMetricsDict\": stepDict,\n",
       "            \"DataTransfersDict\": transfersDict,\n",
       "            \"JobHistory\": JobHistory,\n",
       "            \"JobErrorList\": JobErrorList,\n",
       "        }\n",
       "    else:\n",
       "        return\n",
       "</pre>\n",
       "                      </details>\n",
       "                    "
      ],
      "text/plain": [
       "<IPython.core.display.HTML object>"
      ]
     },
     "metadata": {},
     "output_type": "display_data"
    }
   ],
   "source": [
    "OpsUtils.show_text_file_in_accordion(PathOpsUtils,['get_tapis_job_history_data.py'])"
   ]
  },
  {
   "cell_type": "markdown",
   "metadata": {},
   "source": [
    "### FINISHED JOB"
   ]
  },
  {
   "cell_type": "code",
   "execution_count": 4,
   "metadata": {},
   "outputs": [
    {
     "data": {
      "application/vnd.jupyter.widget-view+json": {
       "model_id": "5cd96806f18e497e991dc069debcac1c",
       "version_major": 2,
       "version_minor": 0
      },
      "text/plain": [
       "Accordion(children=(Output(),), selected_index=0, titles=('Job History Data   (4dfa35e1-15cd-48fd-a090-f348544…"
      ]
     },
     "metadata": {},
     "output_type": "display_data"
    }
   ],
   "source": [
    "jobUuid = '4dfa35e1-15cd-48fd-a090-f348544dee1f-007'\n",
    "OpsUtils.get_tapis_job_history_data(t, jobUuid)"
   ]
  },
  {
   "cell_type": "markdown",
   "metadata": {},
   "source": [
    "### SAME JOB\n",
    "print nothing."
   ]
  },
  {
   "cell_type": "code",
   "execution_count": 5,
   "metadata": {},
   "outputs": [],
   "source": [
    "JobHistoryData = OpsUtils.get_tapis_job_history_data(t, jobUuid, print_out=False,return_data=True)"
   ]
  },
  {
   "cell_type": "markdown",
   "metadata": {},
   "source": [
    "### FAILED JOB"
   ]
  },
  {
   "cell_type": "code",
   "execution_count": 6,
   "metadata": {},
   "outputs": [
    {
     "data": {
      "application/vnd.jupyter.widget-view+json": {
       "model_id": "e97424cac5e24a96b9a58c79022f16c7",
       "version_major": 2,
       "version_minor": 0
      },
      "text/plain": [
       "Accordion(children=(Output(),), selected_index=0, titles=('Job History Data   (0ee27b36-13aa-4eba-a8d2-7ca52d1…"
      ]
     },
     "metadata": {},
     "output_type": "display_data"
    }
   ],
   "source": [
    "jobUuid = '0ee27b36-13aa-4eba-a8d2-7ca52d134cae-007'\n",
    "OpsUtils.get_tapis_job_history_data(t, jobUuid)"
   ]
  },
  {
   "cell_type": "markdown",
   "metadata": {},
   "source": [
    "### ONE MORE FAILED JOB"
   ]
  },
  {
   "cell_type": "code",
   "execution_count": 7,
   "metadata": {},
   "outputs": [
    {
     "data": {
      "application/vnd.jupyter.widget-view+json": {
       "model_id": "2d4b5d749f2a4759b27b2ec65a23fcc1",
       "version_major": 2,
       "version_minor": 0
      },
      "text/plain": [
       "Accordion(children=(Output(),), selected_index=0, titles=('Job History Data   (fdd58183-173d-4a97-b67f-76467f4…"
      ]
     },
     "metadata": {},
     "output_type": "display_data"
    }
   ],
   "source": [
    "jobUuid = 'fdd58183-173d-4a97-b67f-76467f4e9ec3-007'\n",
    "OpsUtils.get_tapis_job_history_data(t, jobUuid)"
   ]
  },
  {
   "cell_type": "markdown",
   "metadata": {},
   "source": [
    "### YET ANOTHER FAILED JOB"
   ]
  },
  {
   "cell_type": "code",
   "execution_count": 8,
   "metadata": {},
   "outputs": [
    {
     "data": {
      "application/vnd.jupyter.widget-view+json": {
       "model_id": "6be200db189240509b740d15b2d96191",
       "version_major": 2,
       "version_minor": 0
      },
      "text/plain": [
       "Accordion(children=(Output(),), selected_index=0, titles=('Job History Data   (487fa9b9-c73b-48fc-bda8-1a0f47d…"
      ]
     },
     "metadata": {},
     "output_type": "display_data"
    }
   ],
   "source": [
    "jobUuid = '487fa9b9-c73b-48fc-bda8-1a0f47d5d483-007'\n",
    "OpsUtils.get_tapis_job_history_data(t, jobUuid)"
   ]
  },
  {
   "cell_type": "markdown",
   "metadata": {},
   "source": [
    "### YES ANOTHER FAILED JOB"
   ]
  },
  {
   "cell_type": "code",
   "execution_count": 9,
   "metadata": {},
   "outputs": [
    {
     "data": {
      "application/vnd.jupyter.widget-view+json": {
       "model_id": "29550e56634b46b8aab0478f691926af",
       "version_major": 2,
       "version_minor": 0
      },
      "text/plain": [
       "Accordion(children=(Output(),), selected_index=0, titles=('Job History Data   (b35ab3c2-0436-4c98-9066-367b9db…"
      ]
     },
     "metadata": {},
     "output_type": "display_data"
    }
   ],
   "source": [
    "jobUuid = 'b35ab3c2-0436-4c98-9066-367b9db67f9c-007'\n",
    "OpsUtils.get_tapis_job_history_data(t, jobUuid)"
   ]
  }
 ],
 "metadata": {
  "IMAGE_NAME": "taccsciapps/ds-nb-img:base-0.2.3",
  "UUID": "73e0880d-9b87-11ec-9c1c-13579dd95994",
  "celltoolbar": "Raw Cell Format",
  "kernelspec": {
   "display_name": "Python 3 (ipykernel)",
   "language": "python",
   "name": "python3"
  },
  "language_info": {
   "codemirror_mode": {
    "name": "ipython",
    "version": 3
   },
   "file_extension": ".py",
   "mimetype": "text/x-python",
   "name": "python",
   "nbconvert_exporter": "python",
   "pygments_lexer": "ipython3",
   "version": "3.12.11"
  }
 },
 "nbformat": 4,
 "nbformat_minor": 4
}
