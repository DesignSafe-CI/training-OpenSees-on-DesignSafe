{
 "cells": [
  {
   "cell_type": "markdown",
   "metadata": {},
   "source": [
    "<a class=\"reference external\" \n",
    "    href=\"https://jupyter.designsafe-ci.org/hub/user-redirect/lab/tree/CommunityData/OpenSees/TrainingMaterial/training-OpenSees-on-DesignSafe/Jupyter_Notebooks/tapis_queryJobs_RetrieveOutput.ipynb\" \n",
    "    target=\"_blank\"\n",
    "    >\n",
    "<img alt=\"Try on DesignSafe\" src=\"https://raw.githubusercontent.com/DesignSafe-Training/pinn/main/DesignSafe-Badge.svg\" /></a>"
   ]
  },
  {
   "cell_type": "markdown",
   "metadata": {},
   "source": [
    "# Step 3: Retrieve Output\n",
    "\n",
    "by Silvia Mazzoni, DesignSafe, 2025"
   ]
  },
  {
   "cell_type": "code",
   "execution_count": 1,
   "metadata": {
    "tags": [
     "remove-input"
    ]
   },
   "outputs": [
    {
     "name": "stdout",
     "output_type": "stream",
     "text": [
      "Using local utilities library\n"
     ]
    }
   ],
   "source": [
    "# Local Utilities Library\n",
    "# you can remove the logic associated with the local path\n",
    "import sys,os\n",
    "relativePath = '../OpsUtils'\n",
    "if os.path.exists(relativePath):\n",
    "    print(\"Using local utilities library\")\n",
    "    PathOpsUtils = os.path.expanduser(relativePath)\n",
    "else:\n",
    "    PathOpsUtils = os.path.expanduser('~/CommunityData/OpenSees/TrainingMaterial/training-OpenSees-on-DesignSafe/OpsUtils')\n",
    "if not PathOpsUtils in sys.path: sys.path.append(PathOpsUtils)\n",
    "from OpsUtils import OpsUtils\n",
    "import json"
   ]
  },
  {
   "cell_type": "code",
   "execution_count": 2,
   "metadata": {},
   "outputs": [
    {
     "name": "stdout",
     "output_type": "stream",
     "text": [
      " -- Checking Tapis token --\n",
      " Token loaded from file. Token is still valid!\n",
      " Token expires at: 2025-08-20T22:46:16+00:00\n",
      " Token expires in: 2:37:04.679006\n",
      "-- LOG IN SUCCESSFUL! --\n"
     ]
    }
   ],
   "source": [
    "t=OpsUtils.connect_tapis()"
   ]
  },
  {
   "cell_type": "markdown",
   "metadata": {},
   "source": [
    "## Set Job ID\n",
    "\n",
    "Use the id of a completed job you have already run. You cannot use the id of another user's job.\n"
   ]
  },
  {
   "cell_type": "code",
   "execution_count": 3,
   "metadata": {},
   "outputs": [],
   "source": [
    "jobUuid = '4dfa35e1-15cd-48fd-a090-f348544dee1f-007'"
   ]
  },
  {
   "cell_type": "markdown",
   "metadata": {},
   "source": [
    "### ______________________________________________________________________________\n",
    "\n",
    "Once a job has completed, the final step is to **explore and retrieve its outputs**. Tapis automatically archives all files produced by your job into the designated archive system and path. These outputs may include:\n",
    "\n",
    "* **Primary results** (e.g., simulation data, processed files)\n",
    "* **Log and status files** (`.out`, `.err`)\n",
    "* **Intermediate data** generated during execution\n",
    "\n",
    "Tapis provides two key functions for working with archived results:\n",
    "\n",
    "* `getJobOutputList(job_id)` — Browse and list all files and folders in the archive.\n",
    "* `getJobOutputDownload(job_id, path)` — Retrieve specific files for local use.\n",
    "\n",
    "This separation makes it easy to **see what a job produced** before downloading, and ensures workflows can scale — whether you just need a quick log file for debugging or a large dataset for post-processing.\n",
    "\n",
    "### Best Practice: Start with Logs\n",
    "\n",
    "Before downloading large result files, always check the `.out` (standard output) and `.err` (error output) files. These are the **first place to look** to confirm that:\n",
    "\n",
    "* Your job executed correctly,\n",
    "* Inputs were staged properly, and\n",
    "* No errors occurred during runtime.\n",
    "\n",
    "By reviewing logs first, you can avoid unnecessary downloads of large files from failed or incomplete jobs and quickly pinpoint issues."
   ]
  },
  {
   "cell_type": "markdown",
   "metadata": {},
   "source": [
    "---\n",
    "## *getJobOutputList(job_id)*\n",
    "\n",
    "### Purpose:\n",
    "List archived output files.\n",
    "\n",
    "### Example:"
   ]
  },
  {
   "cell_type": "code",
   "execution_count": 4,
   "metadata": {},
   "outputs": [
    {
     "name": "stdout",
     "output_type": "stream",
     "text": [
      ".ipynb_checkpoints 80 2025-08-19T17:24:30Z\n",
      "inputDirectory 4096 2025-05-07T22:17:48Z\n",
      "opensees.zip 376 2025-05-07T22:17:48Z\n",
      "tapisjob.env 1571 2025-05-07T22:17:48Z\n",
      "tapisjob.out 1822513 2025-05-07T22:17:49Z\n",
      "tapisjob.sh 1173 2025-05-07T22:17:48Z\n",
      "tapisjob_app.sh 314 2025-05-07T22:17:48Z\n"
     ]
    }
   ],
   "source": [
    "output_path = '.'; # spcify the relative path you want to view, we'll start at the \"root\"\n",
    "files = t.jobs.getJobOutputList(jobUuid=jobUuid,outputPath=output_path)\n",
    "for f in files:\n",
    "    print(f.name, f.size, f.lastModified)"
   ]
  },
  {
   "cell_type": "markdown",
   "metadata": {},
   "source": [
    "---\n",
    "\n",
    "## *getJobOutputDownload(job_id, path)*\n",
    "\n",
    "### Purpose:\n",
    "Download a specific file. You must know the relative path from *getJobOutputList()*.\n",
    "\n",
    "### Example:"
   ]
  },
  {
   "cell_type": "code",
   "execution_count": 5,
   "metadata": {},
   "outputs": [
    {
     "name": "stdout",
     "output_type": "stream",
     "text": [
      "filePath tapisjob_app.sh\n"
     ]
    }
   ],
   "source": [
    "filePath = files[-1].name; # pick the last file from the list you obtained from getJobOutputList\n",
    "print('filePath',filePath)\n",
    "\n",
    "output_file = t.jobs.getJobOutputDownload(\n",
    "    jobUuid = jobUuid,\n",
    "    outputPath=filePath\n",
    ")\n",
    "# you now have the file contents in memory, you can save them to a file, or view them.\n",
    "\n",
    "localFilePath = os.path.expanduser('~/MyData/tmp.txt')\n",
    "with open(localFilePath, \"wb\") as f:\n",
    "    f.write(output_file)"
   ]
  },
  {
   "cell_type": "markdown",
   "metadata": {},
   "source": [
    "## Accessing and Downloading Outputs\n",
    "\n",
    "After metadata retrieval, pull job results with:\n",
    "\n",
    "* ```getJobOutputList()``` → List available files/folders.\n",
    "* ```getJobOutputDownload()``` → Download specific files locally.\n",
    "\n",
    "**Example Combined Workflow:**\n",
    "\n",
    "```python\n",
    "job_id = \"myuser-job-abc123\"\n",
    "\n",
    "# Get metadata\n",
    "job = client.jobs.getJob(job_id)\n",
    "print(f\"Job {job.id} on app {job.appId} - Status: {job.status}\")\n",
    "\n",
    "# Check history\n",
    "history = client.jobs.getJobHistory(job_id)\n",
    "for h in history:\n",
    "    print(h.status, h.timestamp)\n",
    "\n",
    "# See outputs\n",
    "files = client.jobs.getJobOutputList(job_id)\n",
    "for f in files:\n",
    "    print(f.name, f.size)\n",
    "\n",
    "# Download output\n",
    "content = client.jobs.getJobOutputDownload(job_id, path=\"results/output.txt\")\n",
    "with open(\"output.txt\", \"wb\") as f:\n",
    "    f.write(content)\n",
    "```"
   ]
  },
  {
   "cell_type": "markdown",
   "metadata": {},
   "source": [
    "**We will look at these commands in more details in this training module.**"
   ]
  }
 ],
 "metadata": {
  "IMAGE_NAME": "taccsciapps/ds-nb-img:base-0.2.3",
  "UUID": "73e0880d-9b87-11ec-9c1c-13579dd95994",
  "celltoolbar": "Raw Cell Format",
  "kernelspec": {
   "display_name": "Python 3 (ipykernel)",
   "language": "python",
   "name": "python3"
  },
  "language_info": {
   "codemirror_mode": {
    "name": "ipython",
    "version": 3
   },
   "file_extension": ".py",
   "mimetype": "text/x-python",
   "name": "python",
   "nbconvert_exporter": "python",
   "pygments_lexer": "ipython3",
   "version": "3.12.11"
  }
 },
 "nbformat": 4,
 "nbformat_minor": 4
}
