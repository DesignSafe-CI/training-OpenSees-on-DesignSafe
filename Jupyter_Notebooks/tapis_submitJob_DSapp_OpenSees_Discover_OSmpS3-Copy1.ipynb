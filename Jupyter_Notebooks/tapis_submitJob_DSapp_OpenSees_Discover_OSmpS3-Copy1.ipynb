{
 "cells": [
  {
   "cell_type": "markdown",
   "metadata": {},
   "source": [
    "\n",
    "<a class=\"reference external\" href=\"https://jupyter.designsafe-ci.org/hub/user-redirect/tree/CommunityData/OpenSees/TrainingMaterial/training-OpenSees-on-DesignSafe/Jupyter_Notebooks/tapis_submitJob_DSapp_OpenSees_Discover_OSmpS3.ipynb\" target=\"_blank\">\n",
    "<img alt=\"Try on DesignSafe\" src=\"https://raw.githubusercontent.com/DesignSafe-Training/pinn/main/DesignSafe-Badge.svg\" /></a>\n",
    "<br>\n",
    "\n",
    "This notebook is part of the **OpenSees-On-DesignSafe Training Module** -- [CLICK HERE to access the Module](https://designsafe-ci.github.io/training-OpenSees-on-DesignSafe/README.html)"
   ]
  },
  {
   "cell_type": "markdown",
   "metadata": {},
   "source": [
    "# App Schema: opensees-mp-s3\n",
    "***Dig Deep into an App Schema to Create the Input***\n",
    "\n",
    "by Silvia Mazzoni, DesignSafe, 2025\n",
    "\n",
    "We are going to walk through the app schema to develop our job input, and then we will submit the job.\n",
    "\n",
    "We will use the OpenSeesMP app.\n",
    "\n",
    "* (opensees-mp-s3 GitHub Page)[https://github.com/TACC/WMA-Tapis-Templates/tree/main/applications/opensees-mp/opensees-mp-s3]\n",
    "* (Tapis Apps Documentation)[https://tapis.readthedocs.io/en/latest/technical/apps.html]\n",
    "* (Tapis Jobs Documentation)[https://tapis.readthedocs.io/en/latest/technical/jobs.html]\n",
    "  \n",
    "\n"
   ]
  },
  {
   "cell_type": "code",
   "execution_count": 1,
   "metadata": {
    "tags": [
     "remove-input"
    ]
   },
   "outputs": [],
   "source": [
    "# Local Utilities Library\n",
    "import sys,os\n",
    "relativePath = '../OpsUtils'\n",
    "PathOpsUtils = os.path.expanduser('~/CommunityData/OpenSees/TrainingMaterial/training-OpenSees-on-DesignSafe/OpsUtils')\n",
    "if not PathOpsUtils in sys.path: sys.path.append(PathOpsUtils)\n",
    "from OpsUtils import OpsUtils"
   ]
  },
  {
   "cell_type": "code",
   "execution_count": 2,
   "metadata": {},
   "outputs": [],
   "source": [
    "from tapipy.tapis import TapisResult"
   ]
  },
  {
   "cell_type": "markdown",
   "metadata": {},
   "source": [
    "## Connect to Tapis"
   ]
  },
  {
   "cell_type": "code",
   "execution_count": 3,
   "metadata": {},
   "outputs": [
    {
     "name": "stdout",
     "output_type": "stream",
     "text": [
      " -- Checking Tapis token --\n",
      " Token loaded from file. Token is still valid!\n",
      " Token expires at: 2025-10-10T00:11:17+00:00\n",
      " Token expires in: 3:23:18.938601\n",
      "-- AUTHENTICATED VIA SAVED TOKEN --\n"
     ]
    }
   ],
   "source": [
    "t=OpsUtils.connect_tapis()"
   ]
  },
  {
   "cell_type": "code",
   "execution_count": 4,
   "metadata": {},
   "outputs": [
    {
     "name": "stdout",
     "output_type": "stream",
     "text": [
      "QUEUE INFO\n"
     ]
    },
    {
     "data": {
      "text/html": [
       "<div>\n",
       "<style scoped>\n",
       "    .dataframe tbody tr th:only-of-type {\n",
       "        vertical-align: middle;\n",
       "    }\n",
       "\n",
       "    .dataframe tbody tr th {\n",
       "        vertical-align: top;\n",
       "    }\n",
       "\n",
       "    .dataframe thead th {\n",
       "        text-align: right;\n",
       "    }\n",
       "</style>\n",
       "<table border=\"1\" class=\"dataframe\">\n",
       "  <thead>\n",
       "    <tr style=\"text-align: right;\">\n",
       "      <th>name</th>\n",
       "      <th>icx</th>\n",
       "      <th>skx</th>\n",
       "      <th>skx-dev</th>\n",
       "      <th>pvc</th>\n",
       "      <th>spr</th>\n",
       "      <th>nvdimm</th>\n",
       "      <th>h100</th>\n",
       "    </tr>\n",
       "  </thead>\n",
       "  <tbody>\n",
       "    <tr>\n",
       "      <th>description</th>\n",
       "      <td>icx (CPU, standard compute)</td>\n",
       "      <td>skx (CPU, recommended standard compute)</td>\n",
       "      <td>skx-dev (CPU, 2 hour max, 1 job max, for testing)</td>\n",
       "      <td>pvc (GPU, Intel no CUDA)</td>\n",
       "      <td>spr (CPU, high memory bandwidth)</td>\n",
       "      <td>nvdimm (CPU, large memory)</td>\n",
       "      <td>None</td>\n",
       "    </tr>\n",
       "    <tr>\n",
       "      <th>hpcQueueName</th>\n",
       "      <td>icx</td>\n",
       "      <td>skx</td>\n",
       "      <td>skx-dev</td>\n",
       "      <td>pvc</td>\n",
       "      <td>spr</td>\n",
       "      <td>nvdimm</td>\n",
       "      <td>h100</td>\n",
       "    </tr>\n",
       "    <tr>\n",
       "      <th>maxJobs</th>\n",
       "      <td>-1</td>\n",
       "      <td>-1</td>\n",
       "      <td>-1</td>\n",
       "      <td>-1</td>\n",
       "      <td>-1</td>\n",
       "      <td>-1</td>\n",
       "      <td>-1</td>\n",
       "    </tr>\n",
       "    <tr>\n",
       "      <th>maxJobsPerUser</th>\n",
       "      <td>20</td>\n",
       "      <td>60</td>\n",
       "      <td>3</td>\n",
       "      <td>4</td>\n",
       "      <td>36</td>\n",
       "      <td>3</td>\n",
       "      <td>4</td>\n",
       "    </tr>\n",
       "    <tr>\n",
       "      <th>minNodeCount</th>\n",
       "      <td>1</td>\n",
       "      <td>1</td>\n",
       "      <td>1</td>\n",
       "      <td>1</td>\n",
       "      <td>1</td>\n",
       "      <td>1</td>\n",
       "      <td>1</td>\n",
       "    </tr>\n",
       "    <tr>\n",
       "      <th>maxNodeCount</th>\n",
       "      <td>32</td>\n",
       "      <td>256</td>\n",
       "      <td>16</td>\n",
       "      <td>4</td>\n",
       "      <td>32</td>\n",
       "      <td>1</td>\n",
       "      <td>4</td>\n",
       "    </tr>\n",
       "    <tr>\n",
       "      <th>minCoresPerNode</th>\n",
       "      <td>1</td>\n",
       "      <td>1</td>\n",
       "      <td>1</td>\n",
       "      <td>1</td>\n",
       "      <td>1</td>\n",
       "      <td>1</td>\n",
       "      <td>1</td>\n",
       "    </tr>\n",
       "    <tr>\n",
       "      <th>maxCoresPerNode</th>\n",
       "      <td>80</td>\n",
       "      <td>48</td>\n",
       "      <td>48</td>\n",
       "      <td>96</td>\n",
       "      <td>112</td>\n",
       "      <td>80</td>\n",
       "      <td>96</td>\n",
       "    </tr>\n",
       "    <tr>\n",
       "      <th>minMemoryMB</th>\n",
       "      <td>1</td>\n",
       "      <td>1</td>\n",
       "      <td>1</td>\n",
       "      <td>1</td>\n",
       "      <td>1</td>\n",
       "      <td>1</td>\n",
       "      <td>1</td>\n",
       "    </tr>\n",
       "    <tr>\n",
       "      <th>maxMemoryMB</th>\n",
       "      <td>256000</td>\n",
       "      <td>192000</td>\n",
       "      <td>192000</td>\n",
       "      <td>128000</td>\n",
       "      <td>128000</td>\n",
       "      <td>4000000</td>\n",
       "      <td>1000000</td>\n",
       "    </tr>\n",
       "    <tr>\n",
       "      <th>minMinutes</th>\n",
       "      <td>1</td>\n",
       "      <td>1</td>\n",
       "      <td>1</td>\n",
       "      <td>1</td>\n",
       "      <td>1</td>\n",
       "      <td>1</td>\n",
       "      <td>1</td>\n",
       "    </tr>\n",
       "    <tr>\n",
       "      <th>maxMinutes</th>\n",
       "      <td>2880</td>\n",
       "      <td>2880</td>\n",
       "      <td>120</td>\n",
       "      <td>2880</td>\n",
       "      <td>2880</td>\n",
       "      <td>2880</td>\n",
       "      <td>2880</td>\n",
       "    </tr>\n",
       "  </tbody>\n",
       "</table>\n",
       "</div>"
      ],
      "text/plain": [
       "name                                     icx  \\\n",
       "description      icx (CPU, standard compute)   \n",
       "hpcQueueName                             icx   \n",
       "maxJobs                                   -1   \n",
       "maxJobsPerUser                            20   \n",
       "minNodeCount                               1   \n",
       "maxNodeCount                              32   \n",
       "minCoresPerNode                            1   \n",
       "maxCoresPerNode                           80   \n",
       "minMemoryMB                                1   \n",
       "maxMemoryMB                           256000   \n",
       "minMinutes                                 1   \n",
       "maxMinutes                              2880   \n",
       "\n",
       "name                                                 skx  \\\n",
       "description      skx (CPU, recommended standard compute)   \n",
       "hpcQueueName                                         skx   \n",
       "maxJobs                                               -1   \n",
       "maxJobsPerUser                                        60   \n",
       "minNodeCount                                           1   \n",
       "maxNodeCount                                         256   \n",
       "minCoresPerNode                                        1   \n",
       "maxCoresPerNode                                       48   \n",
       "minMemoryMB                                            1   \n",
       "maxMemoryMB                                       192000   \n",
       "minMinutes                                             1   \n",
       "maxMinutes                                          2880   \n",
       "\n",
       "name                                                       skx-dev  \\\n",
       "description      skx-dev (CPU, 2 hour max, 1 job max, for testing)   \n",
       "hpcQueueName                                               skx-dev   \n",
       "maxJobs                                                         -1   \n",
       "maxJobsPerUser                                                   3   \n",
       "minNodeCount                                                     1   \n",
       "maxNodeCount                                                    16   \n",
       "minCoresPerNode                                                  1   \n",
       "maxCoresPerNode                                                 48   \n",
       "minMemoryMB                                                      1   \n",
       "maxMemoryMB                                                 192000   \n",
       "minMinutes                                                       1   \n",
       "maxMinutes                                                     120   \n",
       "\n",
       "name                                  pvc                               spr  \\\n",
       "description      pvc (GPU, Intel no CUDA)  spr (CPU, high memory bandwidth)   \n",
       "hpcQueueName                          pvc                               spr   \n",
       "maxJobs                                -1                                -1   \n",
       "maxJobsPerUser                          4                                36   \n",
       "minNodeCount                            1                                 1   \n",
       "maxNodeCount                            4                                32   \n",
       "minCoresPerNode                         1                                 1   \n",
       "maxCoresPerNode                        96                               112   \n",
       "minMemoryMB                             1                                 1   \n",
       "maxMemoryMB                        128000                            128000   \n",
       "minMinutes                              1                                 1   \n",
       "maxMinutes                           2880                              2880   \n",
       "\n",
       "name                                 nvdimm     h100  \n",
       "description      nvdimm (CPU, large memory)     None  \n",
       "hpcQueueName                         nvdimm     h100  \n",
       "maxJobs                                  -1       -1  \n",
       "maxJobsPerUser                            3        4  \n",
       "minNodeCount                              1        1  \n",
       "maxNodeCount                              1        4  \n",
       "minCoresPerNode                           1        1  \n",
       "maxCoresPerNode                          80       96  \n",
       "minMemoryMB                               1        1  \n",
       "maxMemoryMB                         4000000  1000000  \n",
       "minMinutes                                1        1  \n",
       "maxMinutes                             2880     2880  "
      ]
     },
     "metadata": {},
     "output_type": "display_data"
    }
   ],
   "source": [
    "print('QUEUE INFO')\n",
    "OpsUtils.get_system_queues(t,system_id=\"stampede3\",display=True);"
   ]
  },
  {
   "cell_type": "markdown",
   "metadata": {},
   "source": [
    "---\n",
    "## App User Input"
   ]
  },
  {
   "cell_type": "markdown",
   "metadata": {},
   "source": [
    "### Initialize"
   ]
  },
  {
   "cell_type": "code",
   "execution_count": 5,
   "metadata": {},
   "outputs": [],
   "source": [
    "# initalize\n",
    "tapisInput = {}\n",
    "tapisInput[\"name\"] = 'OpenSeesMPsubmit'"
   ]
  },
  {
   "cell_type": "code",
   "execution_count": 6,
   "metadata": {},
   "outputs": [],
   "source": [
    "appId = 'opensees-mp-s3'\n",
    "appVersion = 'latest'"
   ]
  },
  {
   "cell_type": "markdown",
   "metadata": {},
   "source": [
    "---\n",
    "### Get app schema -- input"
   ]
  },
  {
   "cell_type": "code",
   "execution_count": 7,
   "metadata": {},
   "outputs": [],
   "source": [
    "thisAppData_MP = OpsUtils.get_tapis_app_schema(t,appId,version=appVersion)"
   ]
  },
  {
   "cell_type": "code",
   "execution_count": 8,
   "metadata": {},
   "outputs": [
    {
     "name": "stdout",
     "output_type": "stream",
     "text": [
      "########################################\n",
      "########### TAPIS-APP SCHEMA ###########\n",
      "########################################\n",
      "######## appID: opensees-mp-s3\n",
      "######## version: latest\n",
      "########################################\n",
      "{\n",
      "  sharedAppCtx: \"wma_prtl\"\n",
      "  isPublic: True\n",
      "  tenant: \"designsafe\"\n",
      "  id: \"opensees-mp-s3\"\n",
      "  version: \"latest\"\n",
      "  description: \"Runs all the processors in parallel. Requires understanding of parallel processing and the capabilities to write parallel scripts.\"\n",
      "  owner: \"wma_prtl\"\n",
      "  enabled: True\n",
      "  versionEnabled: True\n",
      "  locked: False\n",
      "  runtime: \"ZIP\"\n",
      "  runtimeVersion: None\n",
      "  runtimeOptions: None\n",
      "  containerImage: \"tapis://cloud.data/corral/tacc/aci/CEP/applications/v3/opensees/latest/OpenSees/opensees.zip\"\n",
      "  jobType: \"BATCH\"\n",
      "  maxJobs: 2147483647\n",
      "  maxJobsPerUser: 2147483647\n",
      "  strictFileInputs: True\n",
      "  uuid: \"1410a584-0c5e-4e47-b3b0-3a7bea0e1187\"\n",
      "  deleted: False\n",
      "  created: \"2025-02-20T18:01:49.005183Z\"\n",
      "  updated: \"2025-08-28T20:17:39.426067Z\"\n",
      "  sharedWithUsers: []\n",
      "  tags: [\"portalName: DesignSafe\", \"portalName: CEP\"]\n",
      "  jobAttributes: {\n",
      "    description: None\n",
      "    dynamicExecSystem: False\n",
      "    execSystemConstraints: None\n",
      "    execSystemId: \"stampede3\"\n",
      "    execSystemExecDir: \"${JobWorkingDir}\"\n",
      "    execSystemInputDir: \"${JobWorkingDir}\"\n",
      "    execSystemOutputDir: \"${JobWorkingDir}\"\n",
      "    dtnSystemInputDir: \"!tapis_not_set\"\n",
      "    dtnSystemOutputDir: \"!tapis_not_set\"\n",
      "    execSystemLogicalQueue: \"skx\"\n",
      "    archiveSystemId: \"stampede3\"\n",
      "    archiveSystemDir: \"HOST_EVAL($WORK)/tapis-jobs-archive/${JobCreateDate}/${JobName}-${JobUUID}\"\n",
      "    archiveOnAppError: True\n",
      "    isMpi: False\n",
      "    mpiCmd: None\n",
      "    cmdPrefix: None\n",
      "    nodeCount: 2\n",
      "    coresPerNode: 48\n",
      "    memoryMB: 192000\n",
      "    maxMinutes: 120\n",
      "    fileInputs: [\n",
      "      {\n",
      "        name: \"Input Directory\"\n",
      "        description: \"Input directory that includes the tcl script as well as any other required files. Example input is in tapis://designsafe.storage.community/app_examples/opensees/OpenSeesMP\"\n",
      "        inputMode: \"REQUIRED\"\n",
      "        autoMountLocal: True\n",
      "        envKey: \"inputDirectory\"\n",
      "        sourceUrl: None\n",
      "        targetPath: \"inputDirectory\"\n",
      "        notes: {\n",
      "          selectionMode: \"directory\"\n",
      "        }\n",
      "      }\n",
      "    ]\n",
      "    fileInputArrays: []\n",
      "    subscriptions: []\n",
      "    tags: []\n",
      "    parameterSet: {\n",
      "      appArgs: [\n",
      "        {\n",
      "          arg: \"OpenSeesMP\"\n",
      "          name: \"mainProgram\"\n",
      "          description: None\n",
      "          inputMode: \"FIXED\"\n",
      "          notes: {\n",
      "            isHidden: True\n",
      "          }\n",
      "        }\n",
      "        {\n",
      "          arg: None\n",
      "          name: \"Main Script\"\n",
      "          description: \"The filename only of the OpenSees TCL script to execute. This file should reside in the Input Directory specified. To use with test input, use 'freeFieldEffective.tcl'\"\n",
      "          inputMode: \"REQUIRED\"\n",
      "          notes: {\n",
      "            inputType: \"fileInput\"\n",
      "          }\n",
      "        }\n",
      "      ]\n",
      "      containerArgs: []\n",
      "      schedulerOptions: [\n",
      "        {\n",
      "          arg: \"--tapis-profile OpenSees_default\"\n",
      "          name: \"OpenSees TACC Scheduler Profile\"\n",
      "          description: \"Scheduler profile for the default version of OpenSees\"\n",
      "          inputMode: \"FIXED\"\n",
      "          notes: {\n",
      "            isHidden: True\n",
      "          }\n",
      "        }\n",
      "        {\n",
      "          arg: None\n",
      "          name: \"TACC Reservation\"\n",
      "          description: \"Reservation input string\"\n",
      "          inputMode: \"INCLUDE_ON_DEMAND\"\n",
      "          notes: {\n",
      "            isHidden: True\n",
      "          }\n",
      "        }\n",
      "      ]\n",
      "      envVariables: []\n",
      "      archiveFilter: {\n",
      "        includeLaunchFiles: True\n",
      "        includes: []\n",
      "        excludes: []\n",
      "      }\n",
      "      logConfig: {\n",
      "        stdoutFilename: \"\"\n",
      "        stderrFilename: \"\"\n",
      "      }\n",
      "    }\n",
      "  }\n",
      "  notes: {\n",
      "    icon: \"OpenSees\"\n",
      "    label: \"OpenSeesMP\"\n",
      "    helpUrl: \"https://www.designsafe-ci.org/user-guide/tools/simulation/#opensees-user-guide\"\n",
      "    category: \"Simulation\"\n",
      "    isInteractive: False\n",
      "    showReservation: True\n",
      "    hideNodeCountAndCoresPerNode: False\n",
      "  }\n",
      "}\n",
      "########################################\n"
     ]
    }
   ],
   "source": [
    "OpsUtils.display_tapis_app_schema(thisAppData_MP)"
   ]
  },
  {
   "cell_type": "markdown",
   "metadata": {},
   "source": [
    "---\n",
    "\n",
    "## Create a Job input"
   ]
  },
  {
   "cell_type": "code",
   "execution_count": 9,
   "metadata": {},
   "outputs": [],
   "source": [
    "# Initialize our input\n",
    "TapisInput = {}"
   ]
  },
  {
   "cell_type": "markdown",
   "metadata": {},
   "source": [
    "## Break app schema into detailed parts and review them for possible input arguments"
   ]
  },
  {
   "cell_type": "code",
   "execution_count": 10,
   "metadata": {},
   "outputs": [],
   "source": [
    "# Convert TapisResults Objects to dictionaries\n",
    "app_MetaData = thisAppData_MP.__dict__"
   ]
  },
  {
   "cell_type": "code",
   "execution_count": 11,
   "metadata": {},
   "outputs": [
    {
     "name": "stdout",
     "output_type": "stream",
     "text": [
      "*** MAIN INPUT***\n",
      "sharedAppCtx = wma_prtl\n",
      "isPublic = True\n",
      "tenant = designsafe\n",
      "id = opensees-mp-s3\n",
      "version = latest\n",
      "description = Runs all the processors in parallel. Requires understanding of parallel processing and the capabilities to write parallel scripts.\n",
      "owner = wma_prtl\n",
      "enabled = True\n",
      "versionEnabled = True\n",
      "locked = False\n",
      "runtime = ZIP\n",
      "runtimeVersion = None\n",
      "runtimeOptions = None\n",
      "containerImage = tapis://cloud.data/corral/tacc/aci/CEP/applications/v3/opensees/latest/OpenSees/opensees.zip\n",
      "jobType = BATCH\n",
      "maxJobs = 2147483647\n",
      "maxJobsPerUser = 2147483647\n",
      "strictFileInputs = True\n",
      "uuid = 1410a584-0c5e-4e47-b3b0-3a7bea0e1187\n",
      "deleted = False\n",
      "created = 2025-02-20T18:01:49.005183Z\n",
      "updated = 2025-08-28T20:17:39.426067Z\n",
      "\n",
      "--- Nested Objects---\n",
      "dict-type input keys []\n",
      "list-type input keys ['sharedWithUsers', 'tags']\n",
      "TapisResult-type input keys ['jobAttributes', 'notes']\n"
     ]
    }
   ],
   "source": [
    "# Review the keys to see if there is any input we are interested in. \n",
    "# You can view the full schema above to see the values\n",
    "# print('app_MetaData.keys',app_MetaData.keys())\n",
    "dictKeys = []\n",
    "TapisResultKeys = []\n",
    "listKeys = []\n",
    "print('*** MAIN INPUT***')\n",
    "for thisKey,thisValue in app_MetaData.items():\n",
    "    if isinstance(thisValue, dict):\n",
    "        dictKeys.append(thisKey)\n",
    "    if isinstance(thisValue, TapisResult):\n",
    "        TapisResultKeys.append(thisKey)\n",
    "    elif isinstance(thisValue, list):\n",
    "        listKeys.append(thisKey)\n",
    "    else:\n",
    "        print(f'{thisKey} = {thisValue}')\n",
    "        \n",
    "print('\\n--- Nested Objects---')\n",
    "print('dict-type input keys',dictKeys)\n",
    "print('list-type input keys',listKeys)\n",
    "print('TapisResult-type input keys',TapisResultKeys)\n"
   ]
  },
  {
   "cell_type": "markdown",
   "metadata": {},
   "source": [
    "## Check App Basics\n",
    "A few things to check here:\n",
    "1. app name and version are what you want\n",
    "2. isPublic = True (you can use the app)\n",
    "3. if isPublic = False, make sure owner = usename\n",
    "4. enabled = True (app is usable)\n",
    "5. deleted = False (it exists)\n",
    "6. read the description"
   ]
  },
  {
   "cell_type": "markdown",
   "metadata": {},
   "source": [
    "---"
   ]
  },
  {
   "cell_type": "code",
   "execution_count": 12,
   "metadata": {},
   "outputs": [
    {
     "name": "stdout",
     "output_type": "stream",
     "text": [
      "***** list-type INPUT ****\n",
      "sharedWithUsers : []\n",
      "tags : ['portalName: DesignSafe', 'portalName: CEP']\n"
     ]
    }
   ],
   "source": [
    "print(f'***** list-type INPUT ****')\n",
    "if len(listKeys)>0:\n",
    "    for thisKey in listKeys:\n",
    "        thisList = app_MetaData[thisKey]\n",
    "        print(f'{thisKey} : {thisList}')\n",
    "else: \n",
    "    print('-none')"
   ]
  },
  {
   "cell_type": "code",
   "execution_count": 13,
   "metadata": {},
   "outputs": [],
   "source": [
    "# Nothing related to input in the lists."
   ]
  },
  {
   "cell_type": "markdown",
   "metadata": {},
   "source": [
    "---"
   ]
  },
  {
   "cell_type": "code",
   "execution_count": 14,
   "metadata": {},
   "outputs": [
    {
     "name": "stdout",
     "output_type": "stream",
     "text": [
      "***** dict-type INPUT ****\n",
      "there are no dictionaries within jobAttributes, as expected, since Tapis works with TapisResults objects instead\n"
     ]
    }
   ],
   "source": [
    "print(f'***** dict-type INPUT ****')\n",
    "if len(dictKeys)>0:\n",
    "    for thisKey in dictKeys:\n",
    "        thisDict = app_MetaData[thisKey]\n",
    "        print(f'{thisKey} : {thisDict}')\n",
    "else: \n",
    "    print('there are no dictionaries within jobAttributes, as expected, since Tapis works with TapisResults objects instead')\n"
   ]
  },
  {
   "cell_type": "markdown",
   "metadata": {},
   "source": [
    "---"
   ]
  },
  {
   "cell_type": "code",
   "execution_count": 15,
   "metadata": {},
   "outputs": [
    {
     "name": "stdout",
     "output_type": "stream",
     "text": [
      "***** TapisResult-type INPUT ****\n",
      "\n",
      "*** jobAttributes ***\n",
      "  description = None\n",
      "  dynamicExecSystem = False\n",
      "  execSystemConstraints = None\n",
      "  execSystemId = stampede3\n",
      "  execSystemExecDir = ${JobWorkingDir}\n",
      "  execSystemInputDir = ${JobWorkingDir}\n",
      "  execSystemOutputDir = ${JobWorkingDir}\n",
      "  dtnSystemInputDir = !tapis_not_set\n",
      "  dtnSystemOutputDir = !tapis_not_set\n",
      "  execSystemLogicalQueue = skx\n",
      "  archiveSystemId = stampede3\n",
      "  archiveSystemDir = HOST_EVAL($WORK)/tapis-jobs-archive/${JobCreateDate}/${JobName}-${JobUUID}\n",
      "  archiveOnAppError = True\n",
      "  isMpi = False\n",
      "  mpiCmd = None\n",
      "  cmdPrefix = None\n",
      "  nodeCount = 2\n",
      "  coresPerNode = 48\n",
      "  memoryMB = 192000\n",
      "  maxMinutes = 120\n",
      "\n",
      "  --- jobAttributes -- Nested Objects---\n",
      "   dict-type input keys []\n",
      "   list-type input keys ['fileInputs', 'fileInputArrays', 'subscriptions', 'tags']\n",
      "   TapisResult-type input keys ['parameterSet']\n",
      "\n",
      "\n",
      "*** notes ***\n",
      "  icon = OpenSees\n",
      "  label = OpenSeesMP\n",
      "  helpUrl = https://www.designsafe-ci.org/user-guide/tools/simulation/#opensees-user-guide\n",
      "  category = Simulation\n",
      "  isInteractive = False\n",
      "  showReservation = True\n",
      "  hideNodeCountAndCoresPerNode = False\n",
      "\n",
      "  --- notes -- Nested Objects---\n",
      "   dict-type input keys []\n",
      "   list-type input keys []\n",
      "   TapisResult-type input keys []\n",
      "\n"
     ]
    }
   ],
   "source": [
    "print(f'***** TapisResult-type INPUT ****')\n",
    "TR_dictKeys = {}\n",
    "TR_TapisResultKeys = {}\n",
    "TR_listKeys = {}\n",
    "for hereKey in TapisResultKeys:\n",
    "    print(f'\\n*** {hereKey} ***')\n",
    "    thisTapisResult = app_MetaData[hereKey]\n",
    "    thisTapisResult_dict = thisTapisResult.__dict__\n",
    "    TR_dictKeys[hereKey] = []\n",
    "    TR_TapisResultKeys[hereKey] = []\n",
    "    TR_listKeys[hereKey] = []\n",
    "    for thisKey,thisValue in thisTapisResult_dict.items():\n",
    "        if isinstance(thisValue, dict):\n",
    "            TR_dictKeys[hereKey].append(thisKey)\n",
    "        if isinstance(thisValue, TapisResult):\n",
    "            TR_TapisResultKeys[hereKey].append(thisKey)\n",
    "        elif isinstance(thisValue, list):\n",
    "            TR_listKeys[hereKey].append(thisKey)\n",
    "        else:\n",
    "            print(f'  {thisKey} = {thisValue}')\n",
    "    print(f'\\n  --- {hereKey} -- Nested Objects---')\n",
    "    print(f'   dict-type input keys',TR_dictKeys[hereKey])\n",
    "    print(f'   list-type input keys',TR_listKeys[hereKey])\n",
    "    print(f'   TapisResult-type input keys',TR_TapisResultKeys[hereKey])\n",
    "    print('')\n"
   ]
  },
  {
   "cell_type": "markdown",
   "metadata": {},
   "source": [
    "## notes {}\n",
    "notes is just informational."
   ]
  },
  {
   "cell_type": "markdown",
   "metadata": {},
   "source": [
    "## jobAttributes {}\n",
    "This is the content we will be submitting to the app.\n",
    "\n",
    "**jobAttributes** has valuable input arguments as well as nested ones.\n",
    "\n",
    "1. We need to initialize this json object in our TapisInput.\n",
    "2. Let's look at the high-level input\n",
    "3. Let's look at the nested content"
   ]
  },
  {
   "cell_type": "markdown",
   "metadata": {},
   "source": [
    "1. Initialize TapisInput['jobAttributes']"
   ]
  },
  {
   "cell_type": "code",
   "execution_count": 16,
   "metadata": {},
   "outputs": [],
   "source": [
    "# jobAttributes has valuable input arguments as well as nested ones.\n",
    "TapisInput['jobAttributes'] = {}\n",
    "# start this input with app id and version to jobAttributes since that is what we send to tapis\n",
    "TapisInput['jobAttributes'][\"name\"] = f'My first Tapis Job on {appId}'\n",
    "TapisInput['jobAttributes'][\"appId\"] = appId\n",
    "TapisInput['jobAttributes'][\"appVersion\"] = appVersion"
   ]
  },
  {
   "cell_type": "markdown",
   "metadata": {},
   "source": [
    "2. Look at high-level variables to see if there is anything of value\n",
    "* This is where you find information about where the job is run (execSystemId)\n",
    "* In HPC applications this is where you define the SLURM input on queues and nodes, etc"
   ]
  },
  {
   "cell_type": "code",
   "execution_count": 17,
   "metadata": {},
   "outputs": [],
   "source": [
    "TapisInput['jobAttributes']['execSystemId'] = 'stampede3'"
   ]
  },
  {
   "cell_type": "code",
   "execution_count": 18,
   "metadata": {},
   "outputs": [],
   "source": [
    "# slurmm-job input\n",
    "TapisInput['jobAttributes']['execSystemLogicalQueue'] = 'skx-dev'\n",
    "TapisInput['jobAttributes']['nodeCount'] = 1\n",
    "TapisInput['jobAttributes']['coresPerNode'] = 16\n",
    "TapisInput['jobAttributes']['maxMinutes'] = 7\n"
   ]
  },
  {
   "cell_type": "markdown",
   "metadata": {},
   "source": [
    "---\n",
    "### 3. Let's dig into the first level -- **app.jobAttributes** "
   ]
  },
  {
   "cell_type": "code",
   "execution_count": 19,
   "metadata": {},
   "outputs": [],
   "source": [
    "# Let's extract and study jobAttributes\n",
    "myKey = 'jobAttributes'\n",
    "app_jobAttributes = app_MetaData[myKey].__dict__\n",
    "# we have already extracted the contents of this dict"
   ]
  },
  {
   "cell_type": "markdown",
   "metadata": {},
   "source": [
    "---"
   ]
  },
  {
   "cell_type": "code",
   "execution_count": 20,
   "metadata": {},
   "outputs": [
    {
     "name": "stdout",
     "output_type": "stream",
     "text": [
      "*****  jobAttributes dict-type Input ****\n",
      "there are no dictionaries within jobAttributes, as expected, since Tapis works with TapisResults objects instead\n"
     ]
    }
   ],
   "source": [
    "print(f'*****  {myKey} dict-type Input ****')\n",
    "if len(TR_dictKeys[myKey])>0:\n",
    "    for thisKey in TR_dictKeys[myKey]:\n",
    "        thisDict = app_jobAttributes[thisKey]\n",
    "        print(f'{myKey}.{thisKey} : {thisDict}')\n",
    "else:\n",
    "    print('there are no dictionaries within jobAttributes, as expected, since Tapis works with TapisResults objects instead')\n"
   ]
  },
  {
   "cell_type": "markdown",
   "metadata": {},
   "source": [
    "---"
   ]
  },
  {
   "cell_type": "code",
   "execution_count": 21,
   "metadata": {},
   "outputs": [
    {
     "name": "stdout",
     "output_type": "stream",
     "text": [
      "*****  jobAttributes list-type input****\n",
      "  fileInputs = \n",
      "    [\n",
      "      {'name': 'Input Directory', 'description': 'Input directory that includes the tcl script as well as any other required files. Example input is in tapis://designsafe.storage.community/app_examples/opensees/OpenSeesMP', 'inputMode': 'REQUIRED', 'autoMountLocal': True, 'envKey': 'inputDirectory', 'notes': \n",
      "selectionMode: directory, 'sourceUrl': None, 'targetPath': 'inputDirectory'}\n",
      "    ]\n",
      "  fileInputArrays: []\n",
      "  subscriptions: []\n",
      "  tags: []\n"
     ]
    }
   ],
   "source": [
    "print(f'*****  {myKey} list-type input****')\n",
    "if len(TR_listKeys[myKey])>0:\n",
    "    for thisKey in TR_listKeys[myKey]:\n",
    "        thisList = app_jobAttributes[thisKey]\n",
    "        if len(thisList)>0:\n",
    "            print(f'  {thisKey} = ')\n",
    "            print('    [')\n",
    "            for thisValue in thisList:\n",
    "                if isinstance(thisValue, TapisResult):\n",
    "                    thisValue = thisValue.__dict__\n",
    "                print(f'      {thisValue}')\n",
    "            print('    ]')\n",
    "        else:\n",
    "            print(f'  {thisKey}: {thisList}')\n",
    "else:\n",
    "    print('none')"
   ]
  },
  {
   "cell_type": "markdown",
   "metadata": {},
   "source": [
    "### fileInputs\n",
    "Here we find that jobAttributes.fileInputs is a REQUIRED input.\n",
    "\n",
    "In this case we need to get the tapisURI for our input directory."
   ]
  },
  {
   "cell_type": "markdown",
   "metadata": {},
   "source": [
    "#### Storage SystemTapis & Tapis Base Path in URI format\n",
    "this is the very first part of your path, just above your home folder.\n",
    "\n",
    "Options: \n",
    "* **CommunityData**\n",
    "* **Published**\n",
    "\n",
    "The following options are user or project-dependent, and require unique path input.\n",
    "\n",
    "\n",
    "The following option requires additional **user-dependent** input:\n",
    "* **MyData**\n",
    "\n",
    "The following option requires additional **user- and system- dependent** input:\n",
    "* **Work**\n",
    "\n",
    "The following option requires additional **project-dependent** input:\n",
    "* **MyProjects**\n",
    "\n",
    "You can obtain a dependent tapis-URI path by performing the first step of submitting an OpenSeesMP job at the app portal: https://www.designsafe-ci.org/workspace/opensees-mp-s3"
   ]
  },
  {
   "cell_type": "code",
   "execution_count": 22,
   "metadata": {},
   "outputs": [
    {
     "name": "stdout",
     "output_type": "stream",
     "text": [
      "found paths file: /home/jupyter/MyData/.tapis_user_paths.json\n",
      "storage_system_baseURL: tapis://designsafe.storage.default/silvia\n"
     ]
    }
   ],
   "source": [
    "storage_system = 'MyData' # options: Community,MyData,Published,MyProjects,Work/stampede3,Work/frontera,Work/ls6\n",
    "storage_system_baseURL = OpsUtils.get_user_path_tapis_uri(t,storage_system)\n",
    "\n",
    "print('storage_system_baseURL:',storage_system_baseURL)"
   ]
  },
  {
   "cell_type": "code",
   "execution_count": 23,
   "metadata": {},
   "outputs": [
    {
     "name": "stdout",
     "output_type": "stream",
     "text": [
      "sourceUrl tapis://designsafe.storage.default/silvia/_ToCommunityData/OpenSees/TrainingMaterial/training-OpenSees-on-DesignSafe/Examples_OpenSees/BasicExamples\n"
     ]
    }
   ],
   "source": [
    "input_folder = '_ToCommunityData/OpenSees/TrainingMaterial/training-OpenSees-on-DesignSafe/Examples_OpenSees/BasicExamples'\n",
    "sourceUrl = f'{storage_system_baseURL}/{input_folder}'\n",
    "print('sourceUrl',sourceUrl)"
   ]
  },
  {
   "cell_type": "code",
   "execution_count": 24,
   "metadata": {},
   "outputs": [],
   "source": [
    "TapisInput['jobAttributes']['fileInputs'] = [{'name': 'Input Directory','sourceUrl':sourceUrl}]; # notice that it is a list!"
   ]
  },
  {
   "cell_type": "markdown",
   "metadata": {},
   "source": [
    "---"
   ]
  },
  {
   "cell_type": "code",
   "execution_count": 25,
   "metadata": {},
   "outputs": [
    {
     "name": "stdout",
     "output_type": "stream",
     "text": [
      "***** jobAttributes TapisResult-type input ****\n",
      "\n",
      "*** parameterSet ***\n",
      "\n",
      "  --- parameterSet -- Nested Objects---\n",
      "   jobAttributes.parameterSet dict-type input keys []\n",
      "   jobAttributes.parameterSet list-type input keys ['appArgs', 'containerArgs', 'schedulerOptions', 'envVariables']\n",
      "   jobAttributes.parameterSet TapisResult-type input keys ['archiveFilter', 'logConfig']\n",
      "\n"
     ]
    }
   ],
   "source": [
    "print(f'***** {myKey} TapisResult-type input ****')\n",
    "if len(TR_TapisResultKeys[myKey])>0:\n",
    "    for hereKey in TR_TapisResultKeys[myKey]:\n",
    "        print(f'\\n*** {hereKey} ***')\n",
    "        thisTapisResult = app_jobAttributes[hereKey]\n",
    "        thisTapisResult_dict = thisTapisResult.__dict__\n",
    "        TR_dictKeys[hereKey] = []\n",
    "        TR_TapisResultKeys[hereKey] = []\n",
    "        TR_listKeys[hereKey] = []\n",
    "        for thisKey,thisValue in thisTapisResult_dict.items():\n",
    "            if isinstance(thisValue, dict):\n",
    "                TR_dictKeys[hereKey].append(thisKey)\n",
    "            if isinstance(thisValue, TapisResult):\n",
    "                TR_TapisResultKeys[hereKey].append(thisKey)\n",
    "            elif isinstance(thisValue, list):\n",
    "                TR_listKeys[hereKey].append(thisKey)\n",
    "            else:\n",
    "                print(f'  {myKey}.{thisKey} = {thisValue}')\n",
    "        print(f'\\n  --- {hereKey} -- Nested Objects---')\n",
    "        print(f'   {myKey}.{hereKey} dict-type input keys',TR_dictKeys[hereKey])\n",
    "        print(f'   {myKey}.{hereKey} list-type input keys',TR_listKeys[hereKey])\n",
    "        print(f'   {myKey}.{hereKey} TapisResult-type input keys',TR_TapisResultKeys[hereKey])\n",
    "        print('')\n",
    "else:\n",
    "    print('-none')\n"
   ]
  },
  {
   "cell_type": "markdown",
   "metadata": {},
   "source": [
    "---\n",
    "### app.jobAttributes.**parameterSet** is the interesting one"
   ]
  },
  {
   "cell_type": "code",
   "execution_count": 26,
   "metadata": {},
   "outputs": [],
   "source": [
    "# Let's extract and study jobAttributes\n",
    "myKey = 'parameterSet'\n",
    "app_parameterSet = app_jobAttributes[myKey].__dict__\n",
    "# we have already extracted the contents of this dict"
   ]
  },
  {
   "cell_type": "code",
   "execution_count": 27,
   "metadata": {},
   "outputs": [],
   "source": [
    "## parameterSet is a dictionary (TapisResult):\n",
    "TapisInput['jobAttributes'][myKey] = {}"
   ]
  },
  {
   "cell_type": "markdown",
   "metadata": {},
   "source": [
    "---"
   ]
  },
  {
   "cell_type": "code",
   "execution_count": 28,
   "metadata": {},
   "outputs": [
    {
     "name": "stdout",
     "output_type": "stream",
     "text": [
      "*****  parameterSet dict-type Input ****\n",
      "there are no dictionaries within app_parameterSet, as expected, since Tapis works with TapisResults objects instead\n"
     ]
    }
   ],
   "source": [
    "print(f'*****  {myKey} dict-type Input ****')\n",
    "if len(TR_dictKeys[myKey])>0:\n",
    "    for thisKey in TR_dictKeys[myKey]:\n",
    "        thisDict = app_parameterSet[thisKey]\n",
    "        print(f'{myKey}.{thisKey} : {thisDict}')\n",
    "else:\n",
    "    print('there are no dictionaries within app_parameterSet, as expected, since Tapis works with TapisResults objects instead')\n"
   ]
  },
  {
   "cell_type": "markdown",
   "metadata": {},
   "source": [
    "---"
   ]
  },
  {
   "cell_type": "code",
   "execution_count": 29,
   "metadata": {},
   "outputs": [
    {
     "name": "stdout",
     "output_type": "stream",
     "text": [
      "*****  parameterSet list-type input****\n",
      "  appArgs = \n",
      "    [\n",
      "      {'arg': 'OpenSeesMP', 'name': 'mainProgram', 'description': None, 'inputMode': 'FIXED', 'notes': \n",
      "isHidden: True}\n",
      "      {'arg': None, 'name': 'Main Script', 'description': \"The filename only of the OpenSees TCL script to execute. This file should reside in the Input Directory specified. To use with test input, use 'freeFieldEffective.tcl'\", 'inputMode': 'REQUIRED', 'notes': \n",
      "inputType: fileInput}\n",
      "    ]\n",
      "  containerArgs: []\n",
      "  schedulerOptions = \n",
      "    [\n",
      "      {'arg': '--tapis-profile OpenSees_default', 'name': 'OpenSees TACC Scheduler Profile', 'description': 'Scheduler profile for the default version of OpenSees', 'inputMode': 'FIXED', 'notes': \n",
      "isHidden: True}\n",
      "      {'arg': None, 'name': 'TACC Reservation', 'description': 'Reservation input string', 'inputMode': 'INCLUDE_ON_DEMAND', 'notes': \n",
      "isHidden: True}\n",
      "    ]\n",
      "  envVariables: []\n"
     ]
    }
   ],
   "source": [
    "print(f'*****  {myKey} list-type input****')\n",
    "if len(TR_listKeys[myKey])>0:\n",
    "    for thisKey in TR_listKeys[myKey]:\n",
    "        thisList = app_parameterSet[thisKey]\n",
    "        if len(thisList)>0:\n",
    "            print(f'  {thisKey} = ')\n",
    "            print('    [')\n",
    "            for thisValue in thisList:\n",
    "                if isinstance(thisValue, TapisResult):\n",
    "                    thisValue = thisValue.__dict__\n",
    "                print(f'      {str(thisValue)}')\n",
    "            print('    ]')\n",
    "        else:\n",
    "            print(f'  {thisKey}: {thisList}')\n",
    "else:\n",
    "    print('none')"
   ]
  },
  {
   "cell_type": "code",
   "execution_count": 30,
   "metadata": {},
   "outputs": [
    {
     "name": "stdout",
     "output_type": "stream",
     "text": [
      "review each of these items: ['appArgs', 'containerArgs', 'schedulerOptions', 'envVariables']\n"
     ]
    }
   ],
   "source": [
    "print('review each of these items:', TR_listKeys[myKey])"
   ]
  },
  {
   "cell_type": "markdown",
   "metadata": {},
   "source": [
    "#### app.jobAttributes.parameterSet.**appArgs**"
   ]
  },
  {
   "cell_type": "code",
   "execution_count": 31,
   "metadata": {},
   "outputs": [
    {
     "name": "stdout",
     "output_type": "stream",
     "text": [
      "** app.jobAttributes.parameterSet.appArgs **\n",
      "\n",
      "arg: OpenSeesMP\n",
      "description: None\n",
      "inputMode: FIXED\n",
      "name: mainProgram\n",
      "notes: \n",
      "isHidden: True\n",
      "\n",
      "arg: None\n",
      "description: The filename only of the OpenSees TCL script to execute. This file should reside in the Input Directory specified. To use with test input, use 'freeFieldEffective.tcl'\n",
      "inputMode: REQUIRED\n",
      "name: Main Script\n",
      "notes: \n",
      "inputType: fileInput\n"
     ]
    }
   ],
   "source": [
    "thisKey = 'appArgs'\n",
    "TapisInput['jobAttributes']['parameterSet'][thisKey] = [] # it's a list, initialize as a list!\n",
    "print(f'** app.jobAttributes.parameterSet.{thisKey} **')\n",
    "if len(app_parameterSet[thisKey])>0:\n",
    "    for thisItem in app_parameterSet[thisKey]:\n",
    "        print(thisItem)\n",
    "else:\n",
    "    print('.none.')"
   ]
  },
  {
   "cell_type": "markdown",
   "metadata": {},
   "source": [
    "1. The first item is the mainProgram, and it has been set as FIXED and hidden, so we don't need it\n",
    "2. The second item is the input script\n",
    "The values need to be appended as key-value dictionaries, no need for the other items."
   ]
  },
  {
   "cell_type": "code",
   "execution_count": 32,
   "metadata": {},
   "outputs": [],
   "source": [
    "TapisInput['jobAttributes']['parameterSet'][thisKey].append({'name':'Main Script','arg': 'Ex1a_verymany.Canti2D.Push.mp.tcl'})"
   ]
  },
  {
   "cell_type": "markdown",
   "metadata": {},
   "source": [
    "#### app.jobAttributes.parameterSet.**containerArgs**"
   ]
  },
  {
   "cell_type": "code",
   "execution_count": 33,
   "metadata": {},
   "outputs": [
    {
     "name": "stdout",
     "output_type": "stream",
     "text": [
      "** app.jobAttributes.parameterSet.containerArgs **\n",
      ".none.\n"
     ]
    }
   ],
   "source": [
    "thisKey = 'containerArgs'\n",
    "TapisInput['jobAttributes']['parameterSet'][thisKey] = [] # it's a list, initialize as a list!\n",
    "print(f'** app.jobAttributes.parameterSet.{thisKey} **')\n",
    "if len(app_parameterSet[thisKey])>0:\n",
    "    for thisItem in app_parameterSet[thisKey]:\n",
    "        print(thisItem)\n",
    "else:\n",
    "    print('.none.')"
   ]
  },
  {
   "cell_type": "code",
   "execution_count": 34,
   "metadata": {},
   "outputs": [],
   "source": [
    "# do nothing for this app."
   ]
  },
  {
   "cell_type": "markdown",
   "metadata": {},
   "source": [
    "#### app.jobAttributes.parameterSet.**schedulerOptions**"
   ]
  },
  {
   "cell_type": "code",
   "execution_count": 35,
   "metadata": {},
   "outputs": [
    {
     "name": "stdout",
     "output_type": "stream",
     "text": [
      "** app.jobAttributes.parameterSet.schedulerOptions **\n",
      "\n",
      "arg: --tapis-profile OpenSees_default\n",
      "description: Scheduler profile for the default version of OpenSees\n",
      "inputMode: FIXED\n",
      "name: OpenSees TACC Scheduler Profile\n",
      "notes: \n",
      "isHidden: True\n",
      "\n",
      "arg: None\n",
      "description: Reservation input string\n",
      "inputMode: INCLUDE_ON_DEMAND\n",
      "name: TACC Reservation\n",
      "notes: \n",
      "isHidden: True\n"
     ]
    }
   ],
   "source": [
    "thisKey = 'schedulerOptions'\n",
    "TapisInput['jobAttributes']['parameterSet'][thisKey] = [] # it's a list, initialize as a list!\n",
    "print(f'** app.jobAttributes.parameterSet.{thisKey} **')\n",
    "if len(app_parameterSet[thisKey])>0:\n",
    "    for thisItem in app_parameterSet[thisKey]:\n",
    "        print(thisItem)\n",
    "else:\n",
    "    print('.none.')"
   ]
  },
  {
   "cell_type": "code",
   "execution_count": 36,
   "metadata": {},
   "outputs": [],
   "source": [
    "# both of the first two items are hidden. -- we'll talk about the scheduler option some other time."
   ]
  },
  {
   "cell_type": "markdown",
   "metadata": {},
   "source": [
    "#### Add allocation to the scheduler option -- not shown in the app schema"
   ]
  },
  {
   "cell_type": "code",
   "execution_count": 37,
   "metadata": {},
   "outputs": [],
   "source": [
    "user_allocation = '-A DS-HPC1'; # you get this code from your allocation dashboard\n",
    "TapisInput['jobAttributes']['parameterSet']['schedulerOptions'].append({'name': 'TACC Allocation', 'arg': user_allocation})"
   ]
  },
  {
   "cell_type": "markdown",
   "metadata": {},
   "source": [
    "### app.jobAttributes.parameterSet.**envVariables**"
   ]
  },
  {
   "cell_type": "code",
   "execution_count": 38,
   "metadata": {},
   "outputs": [
    {
     "name": "stdout",
     "output_type": "stream",
     "text": [
      "** app.jobAttributes.parameterSet.envVariables **\n",
      ".none.\n"
     ]
    }
   ],
   "source": [
    "thisKey = 'envVariables'\n",
    "TapisInput['jobAttributes']['parameterSet'][thisKey] = [] # it's a list, initialize as a list!\n",
    "print(f'** app.jobAttributes.parameterSet.{thisKey} **')\n",
    "if len(app_parameterSet[thisKey])>0:\n",
    "    for thisItem in app_parameterSet[thisKey]:\n",
    "        print(thisItem)\n",
    "else:\n",
    "    print('.none.')"
   ]
  },
  {
   "cell_type": "code",
   "execution_count": 39,
   "metadata": {},
   "outputs": [],
   "source": [
    "# other apps may have input here"
   ]
  },
  {
   "cell_type": "markdown",
   "metadata": {},
   "source": [
    "---"
   ]
  },
  {
   "cell_type": "code",
   "execution_count": 40,
   "metadata": {},
   "outputs": [
    {
     "name": "stdout",
     "output_type": "stream",
     "text": [
      "***** parameterSet TapisResult-type input ****\n",
      "\n",
      "*** archiveFilter ***\n",
      "  parameterSet.includeLaunchFiles = True\n",
      "\n",
      "  --- archiveFilter -- Nested Objects---\n",
      "   parameterSet.archiveFilter dict-type input keys []\n",
      "   parameterSet.archiveFilter list-type input keys ['includes', 'excludes']\n",
      "   parameterSet.archiveFilter TapisResult-type input keys []\n",
      "\n",
      "\n",
      "*** logConfig ***\n",
      "  parameterSet.stdoutFilename = \n",
      "  parameterSet.stderrFilename = \n",
      "\n",
      "  --- logConfig -- Nested Objects---\n",
      "   parameterSet.logConfig dict-type input keys []\n",
      "   parameterSet.logConfig list-type input keys []\n",
      "   parameterSet.logConfig TapisResult-type input keys []\n",
      "\n"
     ]
    }
   ],
   "source": [
    "print(f'***** {myKey} TapisResult-type input ****')\n",
    "if len(TR_TapisResultKeys[myKey])>0:\n",
    "    for hereKey in TR_TapisResultKeys[myKey]:\n",
    "        print(f'\\n*** {hereKey} ***')\n",
    "        thisTapisResult = app_parameterSet[hereKey]\n",
    "        thisTapisResult_dict = thisTapisResult.__dict__\n",
    "        TR_dictKeys[hereKey] = []\n",
    "        TR_TapisResultKeys[hereKey] = []\n",
    "        TR_listKeys[hereKey] = []\n",
    "        for thisKey,thisValue in thisTapisResult_dict.items():\n",
    "            if isinstance(thisValue, dict):\n",
    "                TR_dictKeys[hereKey].append(thisKey)\n",
    "            if isinstance(thisValue, TapisResult):\n",
    "                TR_TapisResultKeys[hereKey].append(thisKey)\n",
    "            elif isinstance(thisValue, list):\n",
    "                TR_listKeys[hereKey].append(thisKey)\n",
    "            else:\n",
    "                print(f'  {myKey}.{thisKey} = {thisValue}')\n",
    "        print(f'\\n  --- {hereKey} -- Nested Objects---')\n",
    "        print(f'   {myKey}.{hereKey} dict-type input keys',TR_dictKeys[hereKey])\n",
    "        print(f'   {myKey}.{hereKey} list-type input keys',TR_listKeys[hereKey])\n",
    "        print(f'   {myKey}.{hereKey} TapisResult-type input keys',TR_TapisResultKeys[hereKey])\n",
    "        print('')\n",
    "else:\n",
    "    print('-none')\n"
   ]
  },
  {
   "cell_type": "code",
   "execution_count": 41,
   "metadata": {},
   "outputs": [],
   "source": [
    "# nothing of interest to us here..."
   ]
  },
  {
   "cell_type": "markdown",
   "metadata": {},
   "source": [
    "---\n",
    "#### We are done with our tapis-job input"
   ]
  },
  {
   "cell_type": "code",
   "execution_count": 42,
   "metadata": {},
   "outputs": [
    {
     "name": "stdout",
     "output_type": "stream",
     "text": [
      "TapisInput\n"
     ]
    },
    {
     "data": {
      "text/plain": [
       "{'jobAttributes': {'name': 'My first Tapis Job on opensees-mp-s3',\n",
       "  'appId': 'opensees-mp-s3',\n",
       "  'appVersion': 'latest',\n",
       "  'execSystemId': 'stampede3',\n",
       "  'execSystemLogicalQueue': 'skx-dev',\n",
       "  'nodeCount': 1,\n",
       "  'coresPerNode': 16,\n",
       "  'maxMinutes': 7,\n",
       "  'fileInputs': [{'name': 'Input Directory',\n",
       "    'sourceUrl': 'tapis://designsafe.storage.default/silvia/_ToCommunityData/OpenSees/TrainingMaterial/training-OpenSees-on-DesignSafe/Examples_OpenSees/BasicExamples'}],\n",
       "  'parameterSet': {'appArgs': [{'name': 'Main Script',\n",
       "     'arg': 'Ex1a_verymany.Canti2D.Push.mp.tcl'}],\n",
       "   'containerArgs': [],\n",
       "   'schedulerOptions': [{'name': 'TACC Allocation', 'arg': '-A DS-HPC1'}],\n",
       "   'envVariables': []}}}"
      ]
     },
     "metadata": {},
     "output_type": "display_data"
    }
   ],
   "source": [
    "print('TapisInput')\n",
    "display(TapisInput)"
   ]
  },
  {
   "cell_type": "code",
   "execution_count": 43,
   "metadata": {},
   "outputs": [
    {
     "name": "stdout",
     "output_type": "stream",
     "text": [
      "TapisInput.jobAttributes\n"
     ]
    },
    {
     "data": {
      "text/plain": [
       "{'name': 'My first Tapis Job on opensees-mp-s3',\n",
       " 'appId': 'opensees-mp-s3',\n",
       " 'appVersion': 'latest',\n",
       " 'execSystemId': 'stampede3',\n",
       " 'execSystemLogicalQueue': 'skx-dev',\n",
       " 'nodeCount': 1,\n",
       " 'coresPerNode': 16,\n",
       " 'maxMinutes': 7,\n",
       " 'fileInputs': [{'name': 'Input Directory',\n",
       "   'sourceUrl': 'tapis://designsafe.storage.default/silvia/_ToCommunityData/OpenSees/TrainingMaterial/training-OpenSees-on-DesignSafe/Examples_OpenSees/BasicExamples'}],\n",
       " 'parameterSet': {'appArgs': [{'name': 'Main Script',\n",
       "    'arg': 'Ex1a_verymany.Canti2D.Push.mp.tcl'}],\n",
       "  'containerArgs': [],\n",
       "  'schedulerOptions': [{'name': 'TACC Allocation', 'arg': '-A DS-HPC1'}],\n",
       "  'envVariables': []}}"
      ]
     },
     "metadata": {},
     "output_type": "display_data"
    }
   ],
   "source": [
    "print('TapisInput.jobAttributes')\n",
    "display(TapisInput['jobAttributes'])"
   ]
  },
  {
   "cell_type": "code",
   "execution_count": 44,
   "metadata": {},
   "outputs": [],
   "source": [
    "submitted_job = t.jobs.submitJob(**TapisInput['jobAttributes'])"
   ]
  },
  {
   "cell_type": "code",
   "execution_count": 45,
   "metadata": {},
   "outputs": [
    {
     "name": "stdout",
     "output_type": "stream",
     "text": [
      "\n",
      "_fileInputsSpec: None\n",
      "_parameterSetModel: None\n",
      "appId: opensees-mp-s3\n",
      "appVersion: latest\n",
      "archiveCorrelationId: None\n",
      "archiveOnAppError: True\n",
      "archiveSystemDir: /work2/05072/silvia/stampede3/tapis-jobs-archive/2025-10-09Z/My first Tapis Job on opensees-mp-s3-5e1f81ad-d99e-4a2e-8127-46b569c81e53-007\n",
      "archiveSystemId: stampede3\n",
      "archiveTransactionId: None\n",
      "blockedCount: 0\n",
      "cmdPrefix: None\n",
      "condition: None\n",
      "coresPerNode: 16\n",
      "created: 2025-10-09T20:48:00.030016200Z\n",
      "createdby: silvia\n",
      "createdbyTenant: designsafe\n",
      "description: opensees-mp-s3-latest submitted by silvia@designsafe\n",
      "dtnInputCorrelationId: None\n",
      "dtnInputTransactionId: None\n",
      "dtnOutputCorrelationId: None\n",
      "dtnOutputTransactionId: None\n",
      "dtnSystemId: None\n",
      "dtnSystemInputDir: None\n",
      "dtnSystemOutputDir: None\n",
      "dynamicExecSystem: False\n",
      "ended: None\n",
      "execSystemConstraints: None\n",
      "execSystemExecDir: /scratch/05072/silvia/tapis/5e1f81ad-d99e-4a2e-8127-46b569c81e53-007\n",
      "execSystemId: stampede3\n",
      "execSystemInputDir: /scratch/05072/silvia/tapis/5e1f81ad-d99e-4a2e-8127-46b569c81e53-007\n",
      "execSystemLogicalQueue: skx-dev\n",
      "execSystemOutputDir: /scratch/05072/silvia/tapis/5e1f81ad-d99e-4a2e-8127-46b569c81e53-007\n",
      "fileInputs: [{\"name\":\"Input Directory\",\"description\":\"Input directory that includes the tcl script as well as any other required files. Example input is in tapis://designsafe.storage.community/app_examples/opensees/OpenSeesMP\",\"envKey\":\"inputDirectory\",\"autoMountLocal\":true,\"sourceUrl\":\"tapis://designsafe.storage.default/silvia/_ToCommunityData/OpenSees/TrainingMaterial/training-OpenSees-on-DesignSafe/Examples_OpenSees/BasicExamples\",\"targetPath\":\"inputDirectory\",\"notes\":\"{\\\"selectionMode\\\":\\\"directory\\\"}\",\"optional\":false,\"srcSharedAppCtx\":\"\",\"destSharedAppCtx\":\"wma_prtl\"}]\n",
      "id: 0\n",
      "inputCorrelationId: None\n",
      "inputTransactionId: None\n",
      "isMpi: False\n",
      "jobType: BATCH\n",
      "lastMessage: Job created\n",
      "lastUpdated: 2025-10-09T20:48:00.030016200Z\n",
      "maxMinutes: 7\n",
      "memoryMB: 192000\n",
      "mpiCmd: None\n",
      "name: My first Tapis Job on opensees-mp-s3\n",
      "nodeCount: 1\n",
      "notes: {\"icon\":\"OpenSees\",\"label\":\"OpenSeesMP\",\"helpUrl\":\"https://www.designsafe-ci.org/user-guide/tools/simulation/#opensees-user-guide\",\"category\":\"Simulation\",\"isInteractive\":false,\"showReservation\":true,\"hideNodeCountAndCoresPerNode\":false}\n",
      "owner: silvia\n",
      "parameterSet: {\"appArgs\":[{\"name\":\"mainProgram\",\"description\":null,\"include\":null,\"arg\":\"OpenSeesMP\",\"notes\":\"{\\\"isHidden\\\":true}\"},{\"name\":\"Main Script\",\"description\":\"The filename only of the OpenSees TCL script to execute. This file should reside in the Input Directory specified. To use with test input, use 'freeFieldEffective.tcl'\",\"include\":null,\"arg\":\"Ex1a_verymany.Canti2D.Push.mp.tcl\",\"notes\":\"{\\\"inputType\\\":\\\"fileInput\\\"}\"}],\"containerArgs\":[],\"schedulerOptions\":[{\"name\":\"OpenSees TACC Scheduler Profile\",\"description\":\"Scheduler profile for the default version of OpenSees\",\"include\":null,\"arg\":\"--tapis-profile OpenSees_default\",\"notes\":\"{\\\"isHidden\\\":true}\"},{\"name\":\"TACC Allocation\",\"description\":null,\"include\":null,\"arg\":\"-A DS-HPC1\",\"notes\":null}],\"envVariables\":[{\"key\":\"_tapisAppId\",\"value\":\"opensees-mp-s3\",\"description\":null,\"include\":null,\"notes\":null},{\"key\":\"_tapisAppVersion\",\"value\":\"latest\",\"description\":null,\"include\":null,\"notes\":null},{\"key\":\"_tapisArchiveOnAppError\",\"value\":\"true\",\"description\":null,\"include\":null,\"notes\":null},{\"key\":\"_tapisArchiveSystemDir\",\"value\":\"/work2/05072/silvia/stampede3/tapis-jobs-archive/2025-10-09Z/My first Tapis Job on opensees-mp-s3-5e1f81ad-d99e-4a2e-8127-46b569c81e53-007\",\"description\":null,\"include\":null,\"notes\":null},{\"key\":\"_tapisArchiveSystemId\",\"value\":\"stampede3\",\"description\":null,\"include\":null,\"notes\":null},{\"key\":\"_tapisCoresPerNode\",\"value\":\"16\",\"description\":null,\"include\":null,\"notes\":null},{\"key\":\"_tapisDynamicExecSystem\",\"value\":\"false\",\"description\":null,\"include\":null,\"notes\":null},{\"key\":\"_tapisEffectiveUserId\",\"value\":\"silvia\",\"description\":null,\"include\":null,\"notes\":null},{\"key\":\"_tapisExecSystemExecDir\",\"value\":\"/scratch/05072/silvia/tapis/5e1f81ad-d99e-4a2e-8127-46b569c81e53-007\",\"description\":null,\"include\":null,\"notes\":null},{\"key\":\"_tapisExecSystemHPCQueue\",\"value\":\"skx-dev\",\"description\":null,\"include\":null,\"notes\":null},{\"key\":\"_tapisExecSystemId\",\"value\":\"stampede3\",\"description\":null,\"include\":null,\"notes\":null},{\"key\":\"_tapisExecSystemInputDir\",\"value\":\"/scratch/05072/silvia/tapis/5e1f81ad-d99e-4a2e-8127-46b569c81e53-007\",\"description\":null,\"include\":null,\"notes\":null},{\"key\":\"_tapisExecSystemLogicalQueue\",\"value\":\"skx-dev\",\"description\":null,\"include\":null,\"notes\":null},{\"key\":\"_tapisExecSystemOutputDir\",\"value\":\"/scratch/05072/silvia/tapis/5e1f81ad-d99e-4a2e-8127-46b569c81e53-007\",\"description\":null,\"include\":null,\"notes\":null},{\"key\":\"_tapisJobCreateDate\",\"value\":\"2025-10-09Z\",\"description\":null,\"include\":null,\"notes\":null},{\"key\":\"_tapisJobCreateTime\",\"value\":\"20:48:00.0300162Z\",\"description\":null,\"include\":null,\"notes\":null},{\"key\":\"_tapisJobCreateTimestamp\",\"value\":\"2025-10-09T20:48:00.030016200Z\",\"description\":null,\"include\":null,\"notes\":null},{\"key\":\"_tapisJobName\",\"value\":\"My first Tapis Job on opensees-mp-s3\",\"description\":null,\"include\":null,\"notes\":null},{\"key\":\"_tapisJobOwner\",\"value\":\"silvia\",\"description\":null,\"include\":null,\"notes\":null},{\"key\":\"_tapisJobUUID\",\"value\":\"5e1f81ad-d99e-4a2e-8127-46b569c81e53-007\",\"description\":null,\"include\":null,\"notes\":null},{\"key\":\"_tapisJobWorkingDir\",\"value\":\"/scratch/05072/silvia/tapis/5e1f81ad-d99e-4a2e-8127-46b569c81e53-007\",\"description\":null,\"include\":null,\"notes\":null},{\"key\":\"_tapisMaxMinutes\",\"value\":\"7\",\"description\":null,\"include\":null,\"notes\":null},{\"key\":\"_tapisMemoryMB\",\"value\":\"192000\",\"description\":null,\"include\":null,\"notes\":null},{\"key\":\"_tapisNodes\",\"value\":\"1\",\"description\":null,\"include\":null,\"notes\":null},{\"key\":\"_tapisStderrFilename\",\"value\":\"tapisjob.out\",\"description\":null,\"include\":null,\"notes\":null},{\"key\":\"_tapisStdoutFilename\",\"value\":\"tapisjob.out\",\"description\":null,\"include\":null,\"notes\":null},{\"key\":\"_tapisSysBatchScheduler\",\"value\":\"SLURM\",\"description\":null,\"include\":null,\"notes\":null},{\"key\":\"_tapisSysHost\",\"value\":\"stampede3.tacc.utexas.edu\",\"description\":null,\"include\":null,\"notes\":null},{\"key\":\"_tapisSysRootDir\",\"value\":\"/\",\"description\":null,\"include\":null,\"notes\":null},{\"key\":\"_tapisTenant\",\"value\":\"designsafe\",\"description\":null,\"include\":null,\"notes\":null},{\"key\":\"inputDirectory\",\"value\":\"inputDirectory\",\"description\":\"EnvKey from input file: Input Directory\",\"include\":true,\"notes\":\"{}\"}],\"archiveFilter\":{\"includes\":[],\"excludes\":[],\"includeLaunchFiles\":true},\"logConfig\":{\"stdoutFilename\":\"tapisjob.out\",\"stderrFilename\":\"tapisjob.out\"}}\n",
      "remoteChecksFailed: 0\n",
      "remoteChecksSuccess: 0\n",
      "remoteEnded: None\n",
      "remoteJobId: None\n",
      "remoteJobId2: None\n",
      "remoteLastStatusCheck: None\n",
      "remoteOutcome: None\n",
      "remoteQueue: skx-dev\n",
      "remoteResultInfo: None\n",
      "remoteStarted: None\n",
      "remoteSubmitRetries: 0\n",
      "remoteSubmitted: None\n",
      "sharedAppCtx: wma_prtl\n",
      "sharedAppCtxAttribs: ['SAC_EXEC_SYSTEM_ID', 'SAC_ARCHIVE_SYSTEM_ID', 'SAC_EXEC_SYSTEM_INPUT_DIR', 'SAC_EXEC_SYSTEM_EXEC_DIR', 'SAC_EXEC_SYSTEM_OUTPUT_DIR', 'SAC_ARCHIVE_SYSTEM_DIR']\n",
      "stageAppCorrelationId: None\n",
      "stageAppTransactionId: None\n",
      "status: PENDING\n",
      "subscriptions: []\n",
      "tags: []\n",
      "tapisQueue: tapis.jobq.submit.DefaultQueue\n",
      "tenant: designsafe\n",
      "trackingId: None\n",
      "uuid: 5e1f81ad-d99e-4a2e-8127-46b569c81e53-007\n",
      "visible: True\n"
     ]
    }
   ],
   "source": [
    "print(submitted_job)"
   ]
  },
  {
   "cell_type": "markdown",
   "metadata": {},
   "source": [
    "### Once you have no errors you are done submitting the job.\n",
    "### go to the job-status page on the web portal to monitor the your job. \n",
    "\n",
    "https://www.designsafe-ci.org/workspace/history\n",
    "\n",
    "You will, likely, have to debug your OpenSees script....."
   ]
  },
  {
   "cell_type": "markdown",
   "metadata": {},
   "source": [
    "**NOTE** ONCE THE JOB HAS COMPLETED, go to view Output and pay attention to the location (path) of the output, it may not be in MyData, as expected."
   ]
  },
  {
   "cell_type": "code",
   "execution_count": 46,
   "metadata": {},
   "outputs": [
    {
     "name": "stdout",
     "output_type": "stream",
     "text": [
      "done\n"
     ]
    }
   ],
   "source": [
    "print('done')"
   ]
  }
 ],
 "metadata": {
  "IMAGE_NAME": "taccsciapps/ds-nb-img:base-0.2.3",
  "UUID": "73e0880d-9b87-11ec-9c1c-13579dd95994",
  "celltoolbar": "Raw Cell Format",
  "kernelspec": {
   "display_name": "Python 3 (ipykernel)",
   "language": "python",
   "name": "python3"
  },
  "language_info": {
   "codemirror_mode": {
    "name": "ipython",
    "version": 3
   },
   "file_extension": ".py",
   "mimetype": "text/x-python",
   "name": "python",
   "nbconvert_exporter": "python",
   "pygments_lexer": "ipython3",
   "version": "3.12.11"
  }
 },
 "nbformat": 4,
 "nbformat_minor": 4
}
