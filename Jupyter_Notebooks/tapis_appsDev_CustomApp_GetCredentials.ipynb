{
 "cells": [
  {
   "cell_type": "markdown",
   "metadata": {},
   "source": [
    "<a class=\"reference external\" \n",
    "    href=\"https://jupyter.designsafe-ci.org/hub/user-redirect/lab/tree/CommunityData/OpenSees/TrainingMaterial/training-OpenSees-on-DesignSafe/Jupyter_Notebooks/tapis_appsDev_CustomApp_GetWorkPath.ipynb\" \n",
    "    target=\"_blank\"\n",
    "    >\n",
    "<img alt=\"Try on DesignSafe\" src=\"https://raw.githubusercontent.com/DesignSafe-Training/pinn/main/DesignSafe-Badge.svg\" /></a>"
   ]
  },
  {
   "cell_type": "markdown",
   "metadata": {},
   "source": [
    "# Get Credentials App  📒\n",
    "I AM SHOWING THIS ELSEWHERE\n",
    "by Silvia Mazzoni, DesignSafe, 2025"
   ]
  },
  {
   "cell_type": "code",
   "execution_count": 1,
   "metadata": {},
   "outputs": [],
   "source": [
    "import json"
   ]
  },
  {
   "cell_type": "code",
   "execution_count": 2,
   "metadata": {
    "tags": [
     "remove-input"
    ]
   },
   "outputs": [
    {
     "name": "stdout",
     "output_type": "stream",
     "text": [
      "Using local utilities library\n"
     ]
    }
   ],
   "source": [
    "# Local Utilities Library\n",
    "# you can remove the logic associated with the local path\n",
    "import sys,os\n",
    "relativePath = '../OpsUtils'\n",
    "if os.path.exists(relativePath):\n",
    "    print(\"Using local utilities library\")\n",
    "    PathOpsUtils = os.path.expanduser(relativePath)\n",
    "else:\n",
    "    print('using communitydata')\n",
    "    PathOpsUtils = os.path.expanduser('~/CommunityData/OpenSees/TrainingMaterial/training-OpenSees-on-DesignSafe/OpsUtils')\n",
    "if not PathOpsUtils in sys.path: sys.path.append(PathOpsUtils)\n",
    "from OpsUtils import OpsUtils"
   ]
  },
  {
   "cell_type": "markdown",
   "metadata": {},
   "source": [
    "---\n",
    "## Connect to Tapis"
   ]
  },
  {
   "cell_type": "code",
   "execution_count": 3,
   "metadata": {},
   "outputs": [
    {
     "name": "stdout",
     "output_type": "stream",
     "text": [
      " -- Checking Tapis token --\n",
      " Token loaded from file. Token is still valid!\n",
      " Token expires at: 2025-08-21T21:43:46+00:00\n",
      " Token expires in: 0:21:08.236615\n",
      "-- LOG IN SUCCESSFUL! --\n"
     ]
    }
   ],
   "source": [
    "t=OpsUtils.connect_tapis()"
   ]
  },
  {
   "cell_type": "markdown",
   "metadata": {},
   "source": [
    "---\n",
    "## Configure App"
   ]
  },
  {
   "cell_type": "code",
   "execution_count": 4,
   "metadata": {},
   "outputs": [],
   "source": [
    "app_id = 'stampede3-credential'\n",
    "app_version = \"1.0.0\""
   ]
  },
  {
   "cell_type": "markdown",
   "metadata": {},
   "source": [
    "#### List the app schema"
   ]
  },
  {
   "cell_type": "code",
   "execution_count": 5,
   "metadata": {},
   "outputs": [
    {
     "name": "stdout",
     "output_type": "stream",
     "text": [
      "########################################\n",
      "########### TAPIS-APP SCHEMA ###########\n",
      "########################################\n",
      "######## appID: stampede3-credential\n",
      "######## version: 1.0.0\n",
      "########################################\n",
      "{\n",
      "  sharedAppCtx: \"wma_prtl\"\n",
      "  isPublic: True\n",
      "  tenant: \"designsafe\"\n",
      "  id: \"stampede3-credential\"\n",
      "  version: \"1.0.0\"\n",
      "  description: \"Credential application for Stampede3\"\n",
      "  owner: \"wma_prtl\"\n",
      "  enabled: True\n",
      "  versionEnabled: True\n",
      "  locked: False\n",
      "  runtime: \"SINGULARITY\"\n",
      "  runtimeVersion: None\n",
      "  containerImage: \"docker://alpine:latest\"\n",
      "  jobType: \"FORK\"\n",
      "  maxJobs: 2147483647\n",
      "  maxJobsPerUser: 2147483647\n",
      "  strictFileInputs: True\n",
      "  uuid: \"cfb2d592-eb94-4f88-8ecc-223e79b974e6\"\n",
      "  deleted: False\n",
      "  created: \"2024-08-13T16:57:47.789293Z\"\n",
      "  updated: \"2025-02-26T21:17:26.144467Z\"\n",
      "  sharedWithUsers: []\n",
      "  runtimeOptions: [\"SINGULARITY_RUN\"]\n",
      "  tags: [\"portalName: DesignSafe\"]\n",
      "  jobAttributes: {\n",
      "    description: \"\"\n",
      "    dynamicExecSystem: False\n",
      "    execSystemConstraints: None\n",
      "    execSystemId: \"stampede3\"\n",
      "    execSystemExecDir: \"${JobWorkingDir}\"\n",
      "    execSystemInputDir: \"${JobWorkingDir}\"\n",
      "    execSystemOutputDir: \"${JobWorkingDir}\"\n",
      "    dtnSystemInputDir: \"!tapis_not_set\"\n",
      "    dtnSystemOutputDir: \"!tapis_not_set\"\n",
      "    execSystemLogicalQueue: \"skx-dev\"\n",
      "    archiveSystemId: \"stampede3\"\n",
      "    archiveSystemDir: \"HOST_EVAL($WORK)/tapis-jobs-archive/${JobCreateDate}/${JobName}-${JobUUID}\"\n",
      "    archiveOnAppError: False\n",
      "    isMpi: False\n",
      "    mpiCmd: None\n",
      "    cmdPrefix: None\n",
      "    nodeCount: 1\n",
      "    coresPerNode: 1\n",
      "    memoryMB: 1\n",
      "    maxMinutes: 1\n",
      "    fileInputs: []\n",
      "    fileInputArrays: []\n",
      "    subscriptions: []\n",
      "    tags: []\n",
      "    parameterSet: {\n",
      "      appArgs: []\n",
      "      containerArgs: []\n",
      "      schedulerOptions: [\n",
      "        {\n",
      "          arg: \"--tapis-profile tacc-apptainer\"\n",
      "          name: \"TACC Scheduler Profile\"\n",
      "          description: \"Scheduler profile for HPC clusters at TACC\"\n",
      "          inputMode: \"FIXED\"\n",
      "          notes: {\n",
      "            isHidden: True\n",
      "          }\n",
      "        }\n",
      "      ]\n",
      "      envVariables: []\n",
      "      archiveFilter: {\n",
      "        includeLaunchFiles: False\n",
      "        includes: []\n",
      "        excludes: []\n",
      "      }\n",
      "      logConfig: {\n",
      "        stdoutFilename: \"\"\n",
      "        stderrFilename: \"\"\n",
      "      }\n",
      "    }\n",
      "  }\n",
      "  notes: {\n",
      "    label: \"Create Stampede3 Credential\"\n",
      "    category: \"Utilities\"\n",
      "    isInteractive: True\n",
      "    hideNodeCountAndCoresPerNode: True\n",
      "  }\n",
      "}\n",
      "########################################\n"
     ]
    }
   ],
   "source": [
    "appMetaData = t.apps.getAppLatestVersion(appId=app_id)\n",
    "OpsUtils.display_tapis_app_schema(appMetaData)"
   ]
  },
  {
   "cell_type": "markdown",
   "metadata": {},
   "source": [
    "---\n",
    "## Submit a Job\n",
    "\n",
    "You can now submit a job using this app. You can use the Tapis CLI, Tapipy, or a web form.\n",
    "\n",
    "We are using TapiPy directly from this notebook. We will not specify a version so that the latest is used by default in the description."
   ]
  },
  {
   "cell_type": "code",
   "execution_count": 6,
   "metadata": {},
   "outputs": [],
   "source": [
    "job_def = {\n",
    "    \"name\": \"print-work\",\n",
    "    \"appId\": app_id,\n",
    "    \"appVersion\":app_version,\n",
    "}"
   ]
  },
  {
   "cell_type": "code",
   "execution_count": 7,
   "metadata": {},
   "outputs": [],
   "source": [
    "resp = t.jobs.submitJob(**job_def)"
   ]
  },
  {
   "cell_type": "code",
   "execution_count": 8,
   "metadata": {},
   "outputs": [
    {
     "name": "stdout",
     "output_type": "stream",
     "text": [
      "work_dir /work2/05072/silvia/stampede3/tapis-jobs-archive/2025-08-21Z/print-work-afe0d99e-8d66-470a-a12b-cf599f3a027b-007\n"
     ]
    }
   ],
   "source": [
    "work_dir = resp.archiveSystemDir\n",
    "print('work_dir',work_dir)"
   ]
  },
  {
   "cell_type": "code",
   "execution_count": 15,
   "metadata": {},
   "outputs": [],
   "source": [
    "def get_user_work_path(t,systemID='stampede3'):\n",
    "    system_id = systemID.lower()\n",
    "    yesSystems = ['stampede3','ls6','frontera']\n",
    "    latest = t.apps.getAppLatestVersion(appId=app_id)\n",
    "    appVersion = latest.version\n",
    "    if system_id  in yesSystems:\n",
    "        job_description = {'name':'getWork','appId':f'{system_id}-credential','appVersion':appVersion}\n",
    "    else:\n",
    "        print(f'{systemID} does not exist! select from: {yesSystems}')\n",
    "        return -1\n",
    "    submitted_job = t.jobs.submitJob(**job_description)\n",
    "    archiveSystemDir = submitted_job.archiveSystemDir\n",
    "    workDir = archiveSystemDir.split(system_id)[0] + system_id\n",
    "    return workDir\n",
    "    "
   ]
  },
  {
   "cell_type": "code",
   "execution_count": 16,
   "metadata": {},
   "outputs": [
    {
     "name": "stdout",
     "output_type": "stream",
     "text": [
      "workDir /work2/05072/silvia/stampede3\n",
      "\n",
      "_fileInputsSpec: None\n",
      "_parameterSetModel: None\n",
      "appId: stampede3-credential\n",
      "appVersion: 1.0.0\n",
      "archiveCorrelationId: None\n",
      "archiveOnAppError: False\n",
      "archiveSystemDir: /work2/05072/silvia/stampede3/tapis-jobs-archive/2025-08-21Z/getWork-4eb9b409-fa0e-4342-ad75-6aa663534a76-007\n",
      "archiveSystemId: stampede3\n",
      "archiveTransactionId: None\n",
      "blockedCount: 0\n",
      "cmdPrefix: None\n",
      "condition: None\n",
      "coresPerNode: 1\n",
      "created: 2025-08-21T21:43:04.549305570Z\n",
      "createdby: silvia\n",
      "createdbyTenant: designsafe\n",
      "description: stampede3-credential-1.0.0 submitted by silvia@designsafe\n",
      "dtnInputCorrelationId: None\n",
      "dtnInputTransactionId: None\n",
      "dtnOutputCorrelationId: None\n",
      "dtnOutputTransactionId: None\n",
      "dtnSystemId: None\n",
      "dtnSystemInputDir: None\n",
      "dtnSystemOutputDir: None\n",
      "dynamicExecSystem: False\n",
      "ended: None\n",
      "execSystemConstraints: None\n",
      "execSystemExecDir: /scratch/05072/silvia/tapis/4eb9b409-fa0e-4342-ad75-6aa663534a76-007\n",
      "execSystemId: stampede3\n",
      "execSystemInputDir: /scratch/05072/silvia/tapis/4eb9b409-fa0e-4342-ad75-6aa663534a76-007\n",
      "execSystemLogicalQueue: None\n",
      "execSystemOutputDir: /scratch/05072/silvia/tapis/4eb9b409-fa0e-4342-ad75-6aa663534a76-007\n",
      "fileInputs: []\n",
      "id: 0\n",
      "inputCorrelationId: None\n",
      "inputTransactionId: None\n",
      "isMpi: False\n",
      "jobType: FORK\n",
      "lastMessage: Job created\n",
      "lastUpdated: 2025-08-21T21:43:04.549305570Z\n",
      "maxMinutes: 1\n",
      "memoryMB: 1\n",
      "mpiCmd: None\n",
      "name: getWork\n",
      "nodeCount: 1\n",
      "notes: {\"label\":\"Create Stampede3 Credential\",\"category\":\"Utilities\",\"isInteractive\":true,\"hideNodeCountAndCoresPerNode\":true}\n",
      "owner: silvia\n",
      "parameterSet: {\"appArgs\":[],\"containerArgs\":[],\"schedulerOptions\":[{\"name\":\"TACC Scheduler Profile\",\"description\":\"Scheduler profile for HPC clusters at TACC\",\"include\":null,\"arg\":\"--tapis-profile tacc-apptainer\",\"notes\":\"{\\\"isHidden\\\":true}\"}],\"envVariables\":[{\"key\":\"_tapisAppId\",\"value\":\"stampede3-credential\",\"description\":null,\"include\":null,\"notes\":null},{\"key\":\"_tapisAppVersion\",\"value\":\"1.0.0\",\"description\":null,\"include\":null,\"notes\":null},{\"key\":\"_tapisArchiveOnAppError\",\"value\":\"false\",\"description\":null,\"include\":null,\"notes\":null},{\"key\":\"_tapisArchiveSystemDir\",\"value\":\"/work2/05072/silvia/stampede3/tapis-jobs-archive/2025-08-21Z/getWork-4eb9b409-fa0e-4342-ad75-6aa663534a76-007\",\"description\":null,\"include\":null,\"notes\":null},{\"key\":\"_tapisArchiveSystemId\",\"value\":\"stampede3\",\"description\":null,\"include\":null,\"notes\":null},{\"key\":\"_tapisCoresPerNode\",\"value\":\"1\",\"description\":null,\"include\":null,\"notes\":null},{\"key\":\"_tapisDynamicExecSystem\",\"value\":\"false\",\"description\":null,\"include\":null,\"notes\":null},{\"key\":\"_tapisEffectiveUserId\",\"value\":\"silvia\",\"description\":null,\"include\":null,\"notes\":null},{\"key\":\"_tapisExecSystemExecDir\",\"value\":\"/scratch/05072/silvia/tapis/4eb9b409-fa0e-4342-ad75-6aa663534a76-007\",\"description\":null,\"include\":null,\"notes\":null},{\"key\":\"_tapisExecSystemId\",\"value\":\"stampede3\",\"description\":null,\"include\":null,\"notes\":null},{\"key\":\"_tapisExecSystemInputDir\",\"value\":\"/scratch/05072/silvia/tapis/4eb9b409-fa0e-4342-ad75-6aa663534a76-007\",\"description\":null,\"include\":null,\"notes\":null},{\"key\":\"_tapisExecSystemOutputDir\",\"value\":\"/scratch/05072/silvia/tapis/4eb9b409-fa0e-4342-ad75-6aa663534a76-007\",\"description\":null,\"include\":null,\"notes\":null},{\"key\":\"_tapisJobCreateDate\",\"value\":\"2025-08-21Z\",\"description\":null,\"include\":null,\"notes\":null},{\"key\":\"_tapisJobCreateTime\",\"value\":\"21:43:04.54930557Z\",\"description\":null,\"include\":null,\"notes\":null},{\"key\":\"_tapisJobCreateTimestamp\",\"value\":\"2025-08-21T21:43:04.549305570Z\",\"description\":null,\"include\":null,\"notes\":null},{\"key\":\"_tapisJobName\",\"value\":\"getWork\",\"description\":null,\"include\":null,\"notes\":null},{\"key\":\"_tapisJobOwner\",\"value\":\"silvia\",\"description\":null,\"include\":null,\"notes\":null},{\"key\":\"_tapisJobUUID\",\"value\":\"4eb9b409-fa0e-4342-ad75-6aa663534a76-007\",\"description\":null,\"include\":null,\"notes\":null},{\"key\":\"_tapisJobWorkingDir\",\"value\":\"/scratch/05072/silvia/tapis/4eb9b409-fa0e-4342-ad75-6aa663534a76-007\",\"description\":null,\"include\":null,\"notes\":null},{\"key\":\"_tapisMaxMinutes\",\"value\":\"1\",\"description\":null,\"include\":null,\"notes\":null},{\"key\":\"_tapisMemoryMB\",\"value\":\"1\",\"description\":null,\"include\":null,\"notes\":null},{\"key\":\"_tapisNodes\",\"value\":\"1\",\"description\":null,\"include\":null,\"notes\":null},{\"key\":\"_tapisStderrFilename\",\"value\":\"tapisjob.out\",\"description\":null,\"include\":null,\"notes\":null},{\"key\":\"_tapisStdoutFilename\",\"value\":\"tapisjob.out\",\"description\":null,\"include\":null,\"notes\":null},{\"key\":\"_tapisSysBatchScheduler\",\"value\":\"SLURM\",\"description\":null,\"include\":null,\"notes\":null},{\"key\":\"_tapisSysHost\",\"value\":\"stampede3.tacc.utexas.edu\",\"description\":null,\"include\":null,\"notes\":null},{\"key\":\"_tapisSysRootDir\",\"value\":\"/\",\"description\":null,\"include\":null,\"notes\":null},{\"key\":\"_tapisTenant\",\"value\":\"designsafe\",\"description\":null,\"include\":null,\"notes\":null}],\"archiveFilter\":{\"includes\":[],\"excludes\":[],\"includeLaunchFiles\":false},\"logConfig\":{\"stdoutFilename\":\"tapisjob.out\",\"stderrFilename\":\"tapisjob.out\"}}\n",
      "remoteChecksFailed: 0\n",
      "remoteChecksSuccess: 0\n",
      "remoteEnded: None\n",
      "remoteJobId: None\n",
      "remoteJobId2: None\n",
      "remoteLastStatusCheck: None\n",
      "remoteOutcome: None\n",
      "remoteQueue: None\n",
      "remoteResultInfo: None\n",
      "remoteStarted: None\n",
      "remoteSubmitRetries: 0\n",
      "remoteSubmitted: None\n",
      "sharedAppCtx: wma_prtl\n",
      "sharedAppCtxAttribs: ['SAC_EXEC_SYSTEM_ID', 'SAC_ARCHIVE_SYSTEM_ID', 'SAC_EXEC_SYSTEM_INPUT_DIR', 'SAC_EXEC_SYSTEM_EXEC_DIR', 'SAC_EXEC_SYSTEM_OUTPUT_DIR', 'SAC_ARCHIVE_SYSTEM_DIR']\n",
      "stageAppCorrelationId: None\n",
      "stageAppTransactionId: None\n",
      "status: PENDING\n",
      "subscriptions: []\n",
      "tags: []\n",
      "tapisQueue: tapis.jobq.submit.DefaultQueue\n",
      "tenant: designsafe\n",
      "trackingId: None\n",
      "uuid: 4eb9b409-fa0e-4342-ad75-6aa663534a76-007\n",
      "visible: True\n"
     ]
    }
   ],
   "source": [
    "get_tapis_work_path(t,'stampede3')"
   ]
  },
  {
   "cell_type": "code",
   "execution_count": 9,
   "metadata": {},
   "outputs": [
    {
     "name": "stdout",
     "output_type": "stream",
     "text": [
      "\n",
      "_fileInputsSpec: None\n",
      "_parameterSetModel: None\n",
      "appId: stampede3-credential\n",
      "appVersion: 1.0.0\n",
      "archiveCorrelationId: None\n",
      "archiveOnAppError: False\n",
      "archiveSystemDir: /work2/05072/silvia/stampede3/tapis-jobs-archive/2025-08-21Z/print-work-afe0d99e-8d66-470a-a12b-cf599f3a027b-007\n",
      "archiveSystemId: stampede3\n",
      "archiveTransactionId: None\n",
      "blockedCount: 0\n",
      "cmdPrefix: None\n",
      "condition: None\n",
      "coresPerNode: 1\n",
      "created: 2025-08-21T21:22:26.023081411Z\n",
      "createdby: silvia\n",
      "createdbyTenant: designsafe\n",
      "description: stampede3-credential-1.0.0 submitted by silvia@designsafe\n",
      "dtnInputCorrelationId: None\n",
      "dtnInputTransactionId: None\n",
      "dtnOutputCorrelationId: None\n",
      "dtnOutputTransactionId: None\n",
      "dtnSystemId: None\n",
      "dtnSystemInputDir: None\n",
      "dtnSystemOutputDir: None\n",
      "dynamicExecSystem: False\n",
      "ended: None\n",
      "execSystemConstraints: None\n",
      "execSystemExecDir: /scratch/05072/silvia/tapis/afe0d99e-8d66-470a-a12b-cf599f3a027b-007\n",
      "execSystemId: stampede3\n",
      "execSystemInputDir: /scratch/05072/silvia/tapis/afe0d99e-8d66-470a-a12b-cf599f3a027b-007\n",
      "execSystemLogicalQueue: None\n",
      "execSystemOutputDir: /scratch/05072/silvia/tapis/afe0d99e-8d66-470a-a12b-cf599f3a027b-007\n",
      "fileInputs: []\n",
      "id: 0\n",
      "inputCorrelationId: None\n",
      "inputTransactionId: None\n",
      "isMpi: False\n",
      "jobType: FORK\n",
      "lastMessage: Job created\n",
      "lastUpdated: 2025-08-21T21:22:26.023081411Z\n",
      "maxMinutes: 1\n",
      "memoryMB: 1\n",
      "mpiCmd: None\n",
      "name: print-work\n",
      "nodeCount: 1\n",
      "notes: {\"label\":\"Create Stampede3 Credential\",\"category\":\"Utilities\",\"isInteractive\":true,\"hideNodeCountAndCoresPerNode\":true}\n",
      "owner: silvia\n",
      "parameterSet: {\"appArgs\":[],\"containerArgs\":[],\"schedulerOptions\":[{\"name\":\"TACC Scheduler Profile\",\"description\":\"Scheduler profile for HPC clusters at TACC\",\"include\":null,\"arg\":\"--tapis-profile tacc-apptainer\",\"notes\":\"{\\\"isHidden\\\":true}\"}],\"envVariables\":[{\"key\":\"_tapisAppId\",\"value\":\"stampede3-credential\",\"description\":null,\"include\":null,\"notes\":null},{\"key\":\"_tapisAppVersion\",\"value\":\"1.0.0\",\"description\":null,\"include\":null,\"notes\":null},{\"key\":\"_tapisArchiveOnAppError\",\"value\":\"false\",\"description\":null,\"include\":null,\"notes\":null},{\"key\":\"_tapisArchiveSystemDir\",\"value\":\"/work2/05072/silvia/stampede3/tapis-jobs-archive/2025-08-21Z/print-work-afe0d99e-8d66-470a-a12b-cf599f3a027b-007\",\"description\":null,\"include\":null,\"notes\":null},{\"key\":\"_tapisArchiveSystemId\",\"value\":\"stampede3\",\"description\":null,\"include\":null,\"notes\":null},{\"key\":\"_tapisCoresPerNode\",\"value\":\"1\",\"description\":null,\"include\":null,\"notes\":null},{\"key\":\"_tapisDynamicExecSystem\",\"value\":\"false\",\"description\":null,\"include\":null,\"notes\":null},{\"key\":\"_tapisEffectiveUserId\",\"value\":\"silvia\",\"description\":null,\"include\":null,\"notes\":null},{\"key\":\"_tapisExecSystemExecDir\",\"value\":\"/scratch/05072/silvia/tapis/afe0d99e-8d66-470a-a12b-cf599f3a027b-007\",\"description\":null,\"include\":null,\"notes\":null},{\"key\":\"_tapisExecSystemId\",\"value\":\"stampede3\",\"description\":null,\"include\":null,\"notes\":null},{\"key\":\"_tapisExecSystemInputDir\",\"value\":\"/scratch/05072/silvia/tapis/afe0d99e-8d66-470a-a12b-cf599f3a027b-007\",\"description\":null,\"include\":null,\"notes\":null},{\"key\":\"_tapisExecSystemOutputDir\",\"value\":\"/scratch/05072/silvia/tapis/afe0d99e-8d66-470a-a12b-cf599f3a027b-007\",\"description\":null,\"include\":null,\"notes\":null},{\"key\":\"_tapisJobCreateDate\",\"value\":\"2025-08-21Z\",\"description\":null,\"include\":null,\"notes\":null},{\"key\":\"_tapisJobCreateTime\",\"value\":\"21:22:26.023081411Z\",\"description\":null,\"include\":null,\"notes\":null},{\"key\":\"_tapisJobCreateTimestamp\",\"value\":\"2025-08-21T21:22:26.023081411Z\",\"description\":null,\"include\":null,\"notes\":null},{\"key\":\"_tapisJobName\",\"value\":\"print-work\",\"description\":null,\"include\":null,\"notes\":null},{\"key\":\"_tapisJobOwner\",\"value\":\"silvia\",\"description\":null,\"include\":null,\"notes\":null},{\"key\":\"_tapisJobUUID\",\"value\":\"afe0d99e-8d66-470a-a12b-cf599f3a027b-007\",\"description\":null,\"include\":null,\"notes\":null},{\"key\":\"_tapisJobWorkingDir\",\"value\":\"/scratch/05072/silvia/tapis/afe0d99e-8d66-470a-a12b-cf599f3a027b-007\",\"description\":null,\"include\":null,\"notes\":null},{\"key\":\"_tapisMaxMinutes\",\"value\":\"1\",\"description\":null,\"include\":null,\"notes\":null},{\"key\":\"_tapisMemoryMB\",\"value\":\"1\",\"description\":null,\"include\":null,\"notes\":null},{\"key\":\"_tapisNodes\",\"value\":\"1\",\"description\":null,\"include\":null,\"notes\":null},{\"key\":\"_tapisStderrFilename\",\"value\":\"tapisjob.out\",\"description\":null,\"include\":null,\"notes\":null},{\"key\":\"_tapisStdoutFilename\",\"value\":\"tapisjob.out\",\"description\":null,\"include\":null,\"notes\":null},{\"key\":\"_tapisSysBatchScheduler\",\"value\":\"SLURM\",\"description\":null,\"include\":null,\"notes\":null},{\"key\":\"_tapisSysHost\",\"value\":\"stampede3.tacc.utexas.edu\",\"description\":null,\"include\":null,\"notes\":null},{\"key\":\"_tapisSysRootDir\",\"value\":\"/\",\"description\":null,\"include\":null,\"notes\":null},{\"key\":\"_tapisTenant\",\"value\":\"designsafe\",\"description\":null,\"include\":null,\"notes\":null}],\"archiveFilter\":{\"includes\":[],\"excludes\":[],\"includeLaunchFiles\":false},\"logConfig\":{\"stdoutFilename\":\"tapisjob.out\",\"stderrFilename\":\"tapisjob.out\"}}\n",
      "remoteChecksFailed: 0\n",
      "remoteChecksSuccess: 0\n",
      "remoteEnded: None\n",
      "remoteJobId: None\n",
      "remoteJobId2: None\n",
      "remoteLastStatusCheck: None\n",
      "remoteOutcome: None\n",
      "remoteQueue: None\n",
      "remoteResultInfo: None\n",
      "remoteStarted: None\n",
      "remoteSubmitRetries: 0\n",
      "remoteSubmitted: None\n",
      "sharedAppCtx: wma_prtl\n",
      "sharedAppCtxAttribs: ['SAC_EXEC_SYSTEM_ID', 'SAC_ARCHIVE_SYSTEM_ID', 'SAC_EXEC_SYSTEM_INPUT_DIR', 'SAC_EXEC_SYSTEM_EXEC_DIR', 'SAC_EXEC_SYSTEM_OUTPUT_DIR', 'SAC_ARCHIVE_SYSTEM_DIR']\n",
      "stageAppCorrelationId: None\n",
      "stageAppTransactionId: None\n",
      "status: PENDING\n",
      "subscriptions: []\n",
      "tags: []\n",
      "tapisQueue: tapis.jobq.submit.DefaultQueue\n",
      "tenant: designsafe\n",
      "trackingId: None\n",
      "uuid: afe0d99e-8d66-470a-a12b-cf599f3a027b-007\n",
      "visible: True\n"
     ]
    }
   ],
   "source": [
    "print(resp)"
   ]
  }
 ],
 "metadata": {
  "IMAGE_NAME": "taccsciapps/ds-nb-img:base-0.2.3",
  "UUID": "73e0880d-9b87-11ec-9c1c-13579dd95994",
  "celltoolbar": "Raw Cell Format",
  "kernelspec": {
   "display_name": "Python 3 (ipykernel)",
   "language": "python",
   "name": "python3"
  },
  "language_info": {
   "codemirror_mode": {
    "name": "ipython",
    "version": 3
   },
   "file_extension": ".py",
   "mimetype": "text/x-python",
   "name": "python",
   "nbconvert_exporter": "python",
   "pygments_lexer": "ipython3",
   "version": "3.12.11"
  }
 },
 "nbformat": 4,
 "nbformat_minor": 4
}
