{
 "cells": [
  {
   "cell_type": "markdown",
   "id": "13aaba36-f7e8-44ea-a65b-91f656862a84",
   "metadata": {},
   "source": [
    "<a class=\"reference external\" \n",
    "    href=\"https://jupyter.designsafe-ci.org/hub/user-redirect/lab/tree/CommunityData/OpenSees/TrainingMaterial/training-OpenSees-on-DesignSafe/Jupyter_Notebooks/paths_InPython_AbsVsRelative.ipynb\" target=\"_blank\">\n",
    "<img alt=\"Try on DesignSafe\" src=\"https://raw.githubusercontent.com/DesignSafe-Training/pinn/main/DesignSafe-Badge.svg\" /></a>"
   ]
  },
  {
   "cell_type": "markdown",
   "id": "90a66ccd-e5cd-4fe1-815a-83872dd933c2",
   "metadata": {},
   "source": [
    "# Absolute vs Relative Path 📒\n",
    "\n",
    "by Silvia Mazzoni, DesignSafe, 2025"
   ]
  },
  {
   "cell_type": "markdown",
   "id": "0aa724e8-ba7b-4887-91e5-70b62874db58",
   "metadata": {},
   "source": [
    "When you tell a program where a file lives, you give it a **path**. On Unix-like systems (Linux, macOS)—including DesignSafe HPC clusters—paths are interpreted relative to either the **filesystem root** or your **current working directory**. Picking the right kind isn’t just pedantry: it affects **permissions**, **reproducibility**, and whether your jobs can **find inputs** or **write outputs**.\n",
    "\n",
    "### The mental model\n",
    "\n",
    "* **Filesystem root**: `/`\n",
    "  Every absolute location starts here.\n",
    "* **Current working directory (CWD)**: what `pwd` prints.\n",
    "  Relative paths are resolved starting from here.\n",
    "* **Special shorthands**:\n",
    "\n",
    "  * `.` = “this directory”\n",
    "  * `..` = “one directory up”\n",
    "  * `~` or `$HOME` = your home directory (expanded by the shell)\n",
    "  * Environment vars like `$WORK`, `$SCRATCH` (HPC-specific) expand to absolute paths.\n",
    "* **Symlinks**: a path might point to another path under the hood. Use `readlink -f <path>` to see the real, canonical path.\n",
    "\n",
    "### Definitions\n",
    "\n",
    "* **Absolute path**: starts with `/` and spells out the location from the root of the filesystem.\n",
    "\n",
    "  * Example: `/home/silvia/projects/opensees/input.tcl`\n",
    "* **Relative path**: does **not** start with `/`; it’s interpreted relative to the CWD.\n",
    "\n",
    "  * Example: `../input.tcl`, `./scripts/run.sh`, `results/output/`\n",
    "\n",
    "### Why this is extra important on DesignSafe/HPC\n",
    "\n",
    "* **Permissions & safety**: Absolute paths can jump outside your home or project area. If you write to something like `/data/designsafe/mydata/…` **without** your username in the path, you’ll hit “permission denied.” Relative paths (from your CWD) and `$HOME`/`$WORK` variables keep you inside places you own.\n",
    "* **Portability**: Relative paths (or `$HOME`/`$WORK`) make scripts runnable across clusters/accounts without hardcoding user-specific directories.\n",
    "* **Batch jobs**: Schedulers launch jobs in specific working directories. A relative `./input/` will work if the job’s CWD is set correctly; an absolute `/…` will ignore the CWD entirely.\n",
    "\n",
    "### Examples\n",
    "\n",
    "```bash\n",
    "# Absolute paths (start at root '/')\n",
    "/home/silvia/projects/sim/input.tcl\n",
    "/work/01234/silvia/opensees/examples/model.tcl\n",
    "\n",
    "# Relative paths (resolved from your current directory)\n",
    "../input.tcl\n",
    "./scripts/run.sh\n",
    "results/output/\n",
    "\n",
    "# Shorthand expands to an absolute path\n",
    "$HOME/projects/sim/input.tcl\n",
    "$WORK/opensees/examples/model.tcl\n",
    "~/projects/sim/input.tcl\n",
    "```\n",
    "\n",
    "> ⚠️ On Windows, absolute paths start with a drive letter like `C:\\…`. The `/` rule is Unix-specific—but that’s exactly what you’ll use on DesignSafe.\n",
    "\n",
    "### Tapis & DesignSafe specifics you’ll actually use\n",
    "\n",
    "* **Tapis Files URIs** use `tapis://<systemId>/<path>` (not your shell’s CWD).\n",
    "  On DesignSafe storage, your **home** is `tapis://designsafe.storage.default/<username>/…`.\n",
    "  In the CLI, a path like `designsafe.storage.default:apps/my-app/1.0/` is **relative to your storage home**; adding a leading slash may target the system’s root and cause permission errors.\n",
    "* **Good patterns**:\n",
    "\n",
    "  * Use **relative paths** in your repo/scripts and rely on `cwd` being set in your job.\n",
    "  * Use **`$HOME` / `$WORK`** for absolute paths in HPC scripts (portable and readable).\n",
    "  * In Tapis `fileInputs`, prefer `tapis://designsafe.storage.default/<username>/…` or just keep paths relative to the system’s configured root/home, as your platform expects.\n",
    "\n",
    "### Common pitfalls (and quick fixes)\n",
    "\n",
    "* **“Permission denied” when creating files**\n",
    "  You probably used an absolute path outside your writable area. Switch to a relative path under your home, or use `$HOME`/`$WORK`.\n",
    "* **Spaces in filenames**\n",
    "  Quote your paths: `\"/home/silvia/My Project/input.tcl\"` or escape the spaces.\n",
    "* **Mixed slashes**\n",
    "  Use forward slashes `/` everywhere on Unix/HPC. Backslashes are not path separators here.\n",
    "* **Assuming `~` works in every tool**\n",
    "  Shell expands `~`, but some tools bypass the shell; prefer `$HOME/…` or an absolute path.\n",
    "\n",
    "### Quick commands to sanity-check\n",
    "\n",
    "```bash\n",
    "pwd                  # your current working directory\n",
    "ls -l <path>         # does it exist and do you have rights?\n",
    "readlink -f <path>   # canonical, absolute path (resolves symlinks)\n",
    "echo \"$HOME\" \"$WORK\" # expand HPC environment variables\n",
    "```\n",
    "\n",
    "If you keep these rules in mind—absolute paths for clarity when you must, relative (or `$HOME`/`$WORK`) for portability—you’ll avoid the most common HPC path headaches."
   ]
  },
  {
   "cell_type": "markdown",
   "id": "cb879cb3-912a-4204-83c4-63302ab4e148",
   "metadata": {},
   "source": [
    "---\n",
    "## expanduser and abspath\n",
    "***Getting the full absolute path***\n",
    "\n",
    "You can define the full path with or without **~** (a special UNIX shorthand for your home directory).\n",
    "\n",
    "Let’s make sure you can build **robust absolute paths**, no matter how the path is specified.\n",
    "\n",
    "### Why this matters:\n",
    "- Paths without **~** are interpreted relative to your current working directory.  \n",
    "- Different environments on DesignSafe mount your storage under different root directories. If you rely on relative paths without care, your code might break or point to unexpected locations.\n",
    "\n",
    "\n",
    "### Using *expanduser* and *abspath* together\n",
    "\n",
    "- **os.path.expanduser(path)** replaces **~** with your actual home directory.  \n",
    "- **os.path.abspath(path)** resolves any relative path (like *MyData*) to a full path from **/**, based on where you’re currently working.\n",
    "\n",
    "But each does only half the job:"
   ]
  },
  {
   "cell_type": "code",
   "execution_count": 1,
   "id": "8cccbbff-caeb-459d-afd0-fc0a386f4efc",
   "metadata": {},
   "outputs": [],
   "source": [
    "import os"
   ]
  },
  {
   "cell_type": "markdown",
   "id": "10b9d786-cb77-41b0-b234-b8753bd060e1",
   "metadata": {},
   "source": [
    "### expanduser"
   ]
  },
  {
   "cell_type": "code",
   "execution_count": 2,
   "id": "9c06ae24-fab7-4581-8ca6-c290733a2c3e",
   "metadata": {},
   "outputs": [
    {
     "data": {
      "text/plain": [
       "'/home/jupyter/MyData'"
      ]
     },
     "execution_count": 2,
     "metadata": {},
     "output_type": "execute_result"
    }
   ],
   "source": [
    "os.path.expanduser('~/MyData') # replaces ~ with your actual home directory"
   ]
  },
  {
   "cell_type": "code",
   "execution_count": 3,
   "id": "d9a4ce34-028d-4e77-bac5-42ae2df32e21",
   "metadata": {},
   "outputs": [
    {
     "data": {
      "text/plain": [
       "True"
      ]
     },
     "execution_count": 3,
     "metadata": {},
     "output_type": "execute_result"
    }
   ],
   "source": [
    "os.path.exists(os.path.expanduser('~/MyData'))"
   ]
  },
  {
   "cell_type": "code",
   "execution_count": 4,
   "id": "747768cf-6d18-44ac-b9f7-cdab30e0037c",
   "metadata": {},
   "outputs": [
    {
     "data": {
      "text/plain": [
       "'/MyData'"
      ]
     },
     "execution_count": 4,
     "metadata": {},
     "output_type": "execute_result"
    }
   ],
   "source": [
    "os.path.expanduser('/MyData')"
   ]
  },
  {
   "cell_type": "code",
   "execution_count": 5,
   "id": "bc39abe4-97f8-4ed1-a902-1b16731251ed",
   "metadata": {},
   "outputs": [
    {
     "data": {
      "text/plain": [
       "False"
      ]
     },
     "execution_count": 5,
     "metadata": {},
     "output_type": "execute_result"
    }
   ],
   "source": [
    "os.path.exists(os.path.expanduser('/MyData'))"
   ]
  },
  {
   "cell_type": "code",
   "execution_count": 6,
   "id": "ef8f9f79-0bdd-401b-a655-5e420fe883a8",
   "metadata": {},
   "outputs": [
    {
     "data": {
      "text/plain": [
       "'MyData'"
      ]
     },
     "execution_count": 6,
     "metadata": {},
     "output_type": "execute_result"
    }
   ],
   "source": [
    "os.path.expanduser('MyData') # (unchanged, still relative)"
   ]
  },
  {
   "cell_type": "code",
   "execution_count": 7,
   "id": "bba0415c-2483-4639-b09c-b52c2a211c3e",
   "metadata": {},
   "outputs": [
    {
     "data": {
      "text/plain": [
       "False"
      ]
     },
     "execution_count": 7,
     "metadata": {},
     "output_type": "execute_result"
    }
   ],
   "source": [
    "os.path.exists(os.path.expanduser('MyData'))"
   ]
  },
  {
   "cell_type": "markdown",
   "id": "dd383a5a-10d7-4883-9873-f98edf49523a",
   "metadata": {},
   "source": [
    "### abspath"
   ]
  },
  {
   "cell_type": "code",
   "execution_count": 8,
   "id": "3845225e-bcc8-4b2c-be89-5398b1dd20aa",
   "metadata": {},
   "outputs": [
    {
     "data": {
      "text/plain": [
       "'/home/jupyter/MyData/_ToCommunityData/OpenSees/TrainingMaterial/training-OpenSees-on-DesignSafe/Jupyter_Notebooks/MyData'"
      ]
     },
     "execution_count": 8,
     "metadata": {},
     "output_type": "execute_result"
    }
   ],
   "source": [
    "os.path.abspath('MyData') # (convert relative to absolute, based on cwd)"
   ]
  },
  {
   "cell_type": "code",
   "execution_count": 9,
   "id": "53467f22-a63f-4259-9b70-a5c1bd75e7c5",
   "metadata": {},
   "outputs": [
    {
     "data": {
      "text/plain": [
       "False"
      ]
     },
     "execution_count": 9,
     "metadata": {},
     "output_type": "execute_result"
    }
   ],
   "source": [
    "os.path.exists(os.path.abspath('MyData'))"
   ]
  },
  {
   "cell_type": "code",
   "execution_count": 10,
   "id": "7b75eab4-344c-49ff-abc9-06408a3a9a71",
   "metadata": {},
   "outputs": [
    {
     "data": {
      "text/plain": [
       "'/home/jupyter/MyData/_ToCommunityData/OpenSees/TrainingMaterial/training-OpenSees-on-DesignSafe/Jupyter_Notebooks/~/MyData'"
      ]
     },
     "execution_count": 10,
     "metadata": {},
     "output_type": "execute_result"
    }
   ],
   "source": [
    "os.path.abspath('~/MyData') ## gives unrealistic results"
   ]
  },
  {
   "cell_type": "code",
   "execution_count": 11,
   "id": "1a01c1e0-f09a-4bd4-a576-c9adcda861a4",
   "metadata": {},
   "outputs": [
    {
     "data": {
      "text/plain": [
       "False"
      ]
     },
     "execution_count": 11,
     "metadata": {},
     "output_type": "execute_result"
    }
   ],
   "source": [
    "os.path.exists(os.path.abspath('~/MyData'))"
   ]
  },
  {
   "cell_type": "markdown",
   "id": "38fbf56e-8c37-4f85-9819-2b7472d2e6c7",
   "metadata": {},
   "source": [
    "### Combine abspath  expanduser\n",
    "The safest pattern is to **combine them**. This way, your path works whether it starts with **~** or is just relative:"
   ]
  },
  {
   "cell_type": "code",
   "execution_count": 12,
   "id": "b45c07fd-3fb9-47dd-a141-825fc9db8501",
   "metadata": {},
   "outputs": [
    {
     "data": {
      "text/plain": [
       "'/home/jupyter/MyData'"
      ]
     },
     "execution_count": 12,
     "metadata": {},
     "output_type": "execute_result"
    }
   ],
   "source": [
    "os.path.abspath(os.path.expanduser('~/MyData'))"
   ]
  },
  {
   "cell_type": "code",
   "execution_count": 13,
   "id": "e0e5a8d8-7b49-4319-bb0c-60f31bf57ae0",
   "metadata": {},
   "outputs": [
    {
     "data": {
      "text/plain": [
       "True"
      ]
     },
     "execution_count": 13,
     "metadata": {},
     "output_type": "execute_result"
    }
   ],
   "source": [
    "os.path.exists(os.path.abspath(os.path.expanduser('~/MyData')))"
   ]
  },
  {
   "cell_type": "code",
   "execution_count": 14,
   "id": "a22224ae-38b1-4230-acc5-2c5751c3b5e7",
   "metadata": {},
   "outputs": [
    {
     "data": {
      "text/plain": [
       "'/home/jupyter/MyData/_ToCommunityData/OpenSees/TrainingMaterial/training-OpenSees-on-DesignSafe/Jupyter_Notebooks/MyData'"
      ]
     },
     "execution_count": 14,
     "metadata": {},
     "output_type": "execute_result"
    }
   ],
   "source": [
    "os.path.abspath(os.path.expanduser('MyData')) # this is a relative path, so it works only when MyData exists"
   ]
  },
  {
   "cell_type": "code",
   "execution_count": 15,
   "id": "f3a37a70-7d68-4512-b957-7f6bb8dcda63",
   "metadata": {},
   "outputs": [
    {
     "data": {
      "text/plain": [
       "False"
      ]
     },
     "execution_count": 15,
     "metadata": {},
     "output_type": "execute_result"
    }
   ],
   "source": [
    "os.path.exists('MyData')"
   ]
  },
  {
   "cell_type": "code",
   "execution_count": 16,
   "id": "bf03f3b6-ee31-42ea-b86f-92240f71eecf",
   "metadata": {},
   "outputs": [
    {
     "data": {
      "text/plain": [
       "False"
      ]
     },
     "execution_count": 16,
     "metadata": {},
     "output_type": "execute_result"
    }
   ],
   "source": [
    "os.path.exists(os.path.abspath(os.path.expanduser('MyData')))"
   ]
  },
  {
   "cell_type": "markdown",
   "id": "2d9a5eac-4dd8-4c8a-be77-99dad39ddf01",
   "metadata": {},
   "source": [
    "#### Rule of thumb\n",
    "\n",
    "* Always use `expanduser` to safely expand `~`.\n",
    "* Always follow it with `abspath` to ensure you get a full path from `/`.\n",
    "\n",
    "This tiny two-step makes your code **portable and predictable**—especially across JupyterHub, the OpenSees VM, Stampede3, and Tapis, where your storage may appear under different absolute root directories.\n",
    "\n",
    "Understanding how to combine `expanduser` and `abspath` ensures your scripts will find your data reliably, saving you from countless `FileNotFoundError` surprises—no matter which system you’re running on.\n",
    "\n",
    "### Summary of absolute and relative paths\n",
    "- Always use **absolute paths** for reliability.  \n",
    "- Use `os.path.expanduser(\"~\")` to safely handle home directories.  \n",
    "- Prefer `os.path` functions over shell commands for **portability across DesignSafe systems**.  \n",
    "- Remember: the same storage might appear differently in JupyterHub, the OpenSees VM, Stampede3, and Tapis — understanding paths keeps your workflows smooth and error-free.\n"
   ]
  }
 ],
 "metadata": {
  "IMAGE_NAME": "taccsciapps/ds-nb-img:base-0.2.4",
  "UUID": "d1af4976-5d4c-11f0-b54e-52dd1a6c9df8",
  "kernelspec": {
   "display_name": "Python 3 (ipykernel)",
   "language": "python",
   "name": "python3"
  },
  "language_info": {
   "codemirror_mode": {
    "name": "ipython",
    "version": 3
   },
   "file_extension": ".py",
   "mimetype": "text/x-python",
   "name": "python",
   "nbconvert_exporter": "python",
   "pygments_lexer": "ipython3",
   "version": "3.12.11"
  }
 },
 "nbformat": 4,
 "nbformat_minor": 5
}