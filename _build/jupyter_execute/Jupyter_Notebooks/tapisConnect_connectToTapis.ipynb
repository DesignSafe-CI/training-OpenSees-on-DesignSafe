{
 "cells": [
  {
   "cell_type": "markdown",
   "metadata": {},
   "source": [
    "<a class=\"reference external\" \n",
    "    href=\"https://jupyter.designsafe-ci.org/hub/user-redirect/lab/tree/CommunityData/OpenSees/TrainingMaterial/training-OpenSees-on-DesignSafe/Jupyter_Notebooks/tapisConnect_connectToTapis.ipynb\" target=\"_blank\">\n",
    "<img alt=\"Try on DesignSafe\" src=\"https://raw.githubusercontent.com/DesignSafe-Training/pinn/main/DesignSafe-Badge.svg\" /></a>"
   ]
  },
  {
   "cell_type": "markdown",
   "metadata": {},
   "source": [
    "# Tapis Authentication 📒\n",
    "***Tapis Authentication into TACC***\n",
    "\n",
    "by Silvia Mazzoni, DesignSafe, 2025"
   ]
  },
  {
   "cell_type": "markdown",
   "metadata": {},
   "source": [
    "Tapis connects you to TACC. You can submit jobs as well as monitor them -- whether you submitted them using Tapis or any other DesignSafe Application that uses it, such as the OpenSeesMP and OpenSeesSP job submitted from the web portal.\n",
    "\n",
    "Just like you need a badge to access a secure building, you need a **token** to access different tools and data inside the Tapis platform. Tapis tokens are **digital keys** that prove your identity when you’re using Tapis services.\n",
    "\n",
    "When you log in to Tapis (using your username and password or other method), you get a token. This token is what tells Tapis, “I’m allowed to use these tools.” The token is a long string with apparently-random characters.\n",
    "\n",
    "This module will teach you how to obtain a tapis token, how to save it to a file, and how to retreive it from this file. We will create a python function with the content we generate in this module and will use this function in the next modules.\n",
    "\n",
    "## Tapis Authentication Tokens\n",
    "\n",
    "Just like you need a badge to access a secure building, you need a token to access different tools and data inside the Tapis platform. Tapis tokens are **digital keys** that prove your identity when you're using Tapis services.\n",
    "\n",
    "When you log in to Tapis (using your username and password or other method), you get a **token**. This token is what tells Tapis, “I’m allowed to use these tools.”\n",
    "The token is a long string with apparently-random characters. \n",
    "\n",
    "## Why Tokens?\n",
    "\n",
    "Tapis is built to help researchers and developers run jobs, access data, manage systems, and more — often from different computers and applications. Tokens make this secure and flexible.\n",
    "\n",
    "Tokens let Tapis:\n",
    "\n",
    "* **Know who you are**\n",
    "* **Check what you’re allowed to do**\n",
    "* **Let you interact with the system without needing to send your password every time**\n",
    "\n",
    "## How Tokens Work (Simplified)\n",
    "\n",
    "1. **You log in**\n",
    "   You use your credentials to log in through the Tapis authentication service (either directly or through a script or app).\n",
    "\n",
    "2. **Tapis gives you a token**\n",
    "   The system returns a token — a long string of letters and numbers — that represents **you** for a limited amount of time.\n",
    "\n",
    "3. **You use the token in your requests**\n",
    "   When you want to call a Tapis API (e.g., to run a job or access files), you include the token in the header of your request:\n",
    "\n",
    "   ```\n",
    "   Authorization: Bearer <your_token_here>\n",
    "   ```\n",
    "\n",
    "4. **Tapis checks the token**\n",
    "   Behind the scenes, Tapis checks that the token is valid and sees what you’re allowed to do. If everything checks out, the action goes through.\n",
    "\n",
    "5. **Tokens expire**\n",
    "   Tokens are only valid for a short period (usually minutes). After that, you’ll need to log in again to get a new one.\n",
    "\n",
    "## Save the Token\n",
    "\n",
    "You can **save this token** to a file and use it until it expires. This way you don't have to enter your password as often.\n",
    "\n",
    "Saving your token means:\n",
    "\n",
    "* You **don’t need to log in again** every time you run a script (as long as the token hasn’t expired).\n",
    "* You can **load it into other scripts** without exposing your username/password.\n",
    "\n",
    "```{admonition} Tips for Beginners\n",
    "* **Treat your token like a password** — never share it or post it publicly.\n",
    "* **You don’t need to remember your token** — just copy and paste it when needed.\n",
    "```\n",
    "\n"
   ]
  },
  {
   "cell_type": "code",
   "execution_count": 1,
   "metadata": {
    "tags": [
     "remove-input"
    ]
   },
   "outputs": [],
   "source": [
    "# Local Utilities Library\n",
    "# you can remove the logic associated with the local path\n",
    "import sys,os\n",
    "relativePath = '../../OpsUtils'\n",
    "if os.path.exists(relativePath):\n",
    "    PathOpsUtils = os.path.expanduser(relativePath)\n",
    "else:\n",
    "    PathOpsUtils = os.path.expanduser('~/CommunityData/OpenSees/TrainingMaterial/training-OpenSees-on-DesignSafe/OpsUtils')\n",
    "if not PathOpsUtils in sys.path: sys.path.append(PathOpsUtils)\n",
    "from OpsUtils import OpsUtils"
   ]
  },
  {
   "cell_type": "markdown",
   "metadata": {},
   "source": [
    "## Connect"
   ]
  },
  {
   "cell_type": "markdown",
   "metadata": {},
   "source": [
    "We’ll use a Python utility function to authenticate and establish a session with Tapis:\n",
    "\n",
    "* Checks if a valid token file already exists\n",
    "* If no token is found — or the token has expired — it will prompt you to enter your **username** and **password**\n",
    "* You can also pass your **username** as a function argument to avoid typing it interactively\n",
    "\n",
    "This simplifies your workflow and ensures you're always connected with valid credentials — without the need to manage tokens manually.\n",
    "\n",
    "Ths function is available in **CommunityData**, so you can use it across all your DesignSafe notebooks with a single command."
   ]
  },
  {
   "cell_type": "code",
   "execution_count": 2,
   "metadata": {
    "tags": [
     "remove-input"
    ]
   },
   "outputs": [
    {
     "data": {
      "text/html": [
       "\n",
       "                      <details style=\"margin-top:1em; font-family:monospace; background:white; \n",
       "                          padding:0.25em; border-radius:6px; border:1px solid #ccc;\">\n",
       "                        <summary style=\"cursor:pointer; font-weight:bold; background:white; \n",
       "                          padding:0.3em 0.5em; border-radius:4px;\">connect_tapis.py</summary>\n",
       "\n",
       "                        <button onclick=\"navigator.clipboard.writeText(document.getElementById('f59b1c90af65447ba725d6d49d37f556').innerText)\">\n",
       "                          📋 Copy\n",
       "                        </button>\n",
       "                        <pre id=\"f59b1c90af65447ba725d6d49d37f556\" style=\"white-space:pre-wrap; margin:0.25em 0 0 0; \n",
       "                            background:#d4fbff; padding:.3em; border-radius:5px;\">\n",
       "<b># /home/jupyter/CommunityData/OpenSees/TrainingMaterial/training-OpenSees-on-DesignSafe/OpsUtils/OpsUtils/Tapis/connect_tapis.py</b>\n",
       "def connect_tapis(token_filePath=\"~/.tapis_tokens.json\", base_url=\"https://designsafe.tapis.io\",\n",
       "                  username=\"\", password=\"\", force_connect=False):\n",
       "    \"\"\"\n",
       "    Connect to the Tapis platform with automatic token handling.\n",
       "\n",
       "    - Checks for a saved access token in the specified token_filePath (default ~/.tapis_tokens.json).\n",
       "    - If the token exists and is still valid, uses it to create an authenticated Tapis client.\n",
       "    - If the token is expired, missing, or force_connect=True, prompts for username/password\n",
       "      to generate a fresh token, then saves it for future use.\n",
       "    - Prints out the token expiration details for transparency.\n",
       "\n",
       "    Parameters:\n",
       "        token_filePath (str): Path to the JSON file storing tokens.\n",
       "        base_url (str): Tapis API endpoint URL.\n",
       "        username (str): Optional preset username (prompts if empty).\n",
       "        password (str): Optional preset password (prompts if empty).\n",
       "        force_connect (bool): If True, forces a fresh login even if token is valid.\n",
       "\n",
       "    Returns:\n",
       "        Tapis: An authenticated Tapis client object ready to use.\n",
       "    \"\"\"\n",
       "\n",
       "    # Silvia Mazzoni, 2025\n",
       "    from tapipy.tapis import Tapis\n",
       "    from getpass import getpass\n",
       "    import os\n",
       "    import json\n",
       "    from datetime import datetime, timezone\n",
       "    print(\" -- Checking tapis Token --\")\n",
       "    validToken=False\n",
       "\n",
       "    # Path to the saved tokens\n",
       "    token_file = os.path.expanduser(token_filePath)\n",
       "\n",
       "    now = datetime.now(timezone.utc)\n",
       "\n",
       "    print(\" Time now:\",now)\n",
       "    # Check if tokens exist\n",
       "    if os.path.exists(token_file):\n",
       "        with open(token_file, 'r') as f:\n",
       "            tokens = json.load(f)\n",
       "        print(\" Token loaded from file.\")\n",
       "        expires_at = datetime.fromisoformat(tokens[\"expires_at\"])\n",
       "\n",
       "\n",
       "        # check if expired:\n",
       "        if expires_at > now:\n",
       "            print(\" Token is still valid!\")\n",
       "            t = Tapis(base_url=base_url, access_token=tokens['access_token'])\n",
       "            validToken=True\n",
       "        else:\n",
       "            print(\"Token has expired!\")\n",
       "            print(\" Token Expired At:\", expires_at)\n",
       "\n",
       "    else:\n",
       "        print(\"No saved tokens found!\")\n",
       "\n",
       "    if force_connect:\n",
       "        print('Forcing a connection to Tapis')\n",
       "    if not validToken or force_connect:\n",
       "        print('-- Connect to Tapis --')\n",
       "        if username == '':\n",
       "            username = getpass('Username: ')\n",
       "        if password == '':\n",
       "            password = getpass('Password: ')\n",
       "        t = Tapis(\n",
       "          base_url = base_url,\n",
       "          username = username,\n",
       "          password = password)\n",
       "        t.get_tokens()\n",
       "        # Define a secure path to save the token\n",
       "        token_file = os.path.expanduser(\"~/.tapis_tokens.json\")\n",
       "        # Save the access and refresh tokens in a JSON file\n",
       "        tokens = {\n",
       "            \"access_token\": t.access_token.access_token,\n",
       "            \"expires_at\": t.access_token.expires_at.isoformat()\n",
       "        }    #  Get the raw string, not the object\n",
       "        with open(token_file, 'w') as f:\n",
       "            json.dump(tokens, f)\n",
       "        print(f\" Token saved to {token_file}\")\n",
       "    expires_at_str = str(t.access_token.expires_at)\n",
       "    print(\" Token expires At:\", t.access_token.expires_at)\n",
       "    print(' Token expires In ',str(t.access_token.expires_at-now),' hh:mm:sec')\n",
       "    print(\"-- LOG IN SUCCESSFUL!!! --\")\n",
       "    return t</pre>\n",
       "                      </details>\n",
       "                    "
      ],
      "text/plain": [
       "<IPython.core.display.HTML object>"
      ]
     },
     "metadata": {},
     "output_type": "display_data"
    }
   ],
   "source": [
    "OpsUtils.show_text_file_in_accordion(PathOpsUtils,['connect_tapis.py'])"
   ]
  },
  {
   "cell_type": "code",
   "execution_count": 3,
   "metadata": {},
   "outputs": [
    {
     "name": "stdout",
     "output_type": "stream",
     "text": [
      " -- Checking tapis Token --\n",
      " Time now: 2025-08-02 19:54:23.446340+00:00\n",
      " Token loaded from file.\n",
      " Token is still valid!\n",
      "Forcing a connection to Tapis\n",
      "-- Connect to Tapis --\n"
     ]
    },
    {
     "name": "stdin",
     "output_type": "stream",
     "text": [
      "Username:  ········\n",
      "Password:  ········\n"
     ]
    },
    {
     "name": "stdout",
     "output_type": "stream",
     "text": [
      " Token saved to /home/jupyter/.tapis_tokens.json\n",
      " Token expires At: 2025-08-02 23:55:31+00:00\n",
      " Token expires In  4:01:07.553660  hh:mm:sec\n",
      "-- LOG IN SUCCESSFUL!!! --\n"
     ]
    }
   ],
   "source": [
    "# NOTE: Your browser's autofill may not work here.\n",
    "t=OpsUtils.connect_tapis(force_connect=True)"
   ]
  },
  {
   "cell_type": "code",
   "execution_count": 4,
   "metadata": {},
   "outputs": [],
   "source": [
    "# NOTE: If your files have disappeared from the jupyter file browser in the left pane, please take a screenshot and submit a ticket to DesignSafe.\n",
    "# Save all your work and reload the page in the browser -- the files will reappear."
   ]
  }
 ],
 "metadata": {
  "IMAGE_NAME": "taccsciapps/ds-nb-img:base-0.2.3",
  "UUID": "73e0880d-9b87-11ec-9c1c-13579dd95994",
  "celltoolbar": "Raw Cell Format",
  "kernelspec": {
   "display_name": "Python 3 (ipykernel)",
   "language": "python",
   "name": "python3"
  },
  "language_info": {
   "codemirror_mode": {
    "name": "ipython",
    "version": 3
   },
   "file_extension": ".py",
   "mimetype": "text/x-python",
   "name": "python",
   "nbconvert_exporter": "python",
   "pygments_lexer": "ipython3",
   "version": "3.12.11"
  }
 },
 "nbformat": 4,
 "nbformat_minor": 4
}