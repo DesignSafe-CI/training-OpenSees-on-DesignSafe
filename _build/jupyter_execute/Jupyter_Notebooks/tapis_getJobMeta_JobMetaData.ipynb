{
 "cells": [
  {
   "cell_type": "markdown",
   "metadata": {},
   "source": [
    "<a class=\"reference external\" \n",
    "    href=\"https://jupyter.designsafe-ci.org/hub/user-redirect/lab/tree/CommunityData/OpenSees/TrainingMaterial/training-OpenSees-on-DesignSafe/Jupyter_Notebooks/tapis_getJobMeta_JobMetaData.ipynb\" \n",
    "    target=\"_blank\"\n",
    "    >\n",
    "<img alt=\"Try on DesignSafe\" src=\"https://raw.githubusercontent.com/DesignSafe-Training/pinn/main/DesignSafe-Badge.svg\" /></a>"
   ]
  },
  {
   "cell_type": "markdown",
   "metadata": {},
   "source": [
    "# Job Metadata 📒\n",
    "\n",
    "by Silvia Mazzoni, DesignSafe, 2025\n",
    "\n",
    "Using the job ID (uuid), you can access detailed metadata on a job via Tapis's ***getJob...*** method. \n",
    "\n",
    "This command is used to **retrieve detailed information about specific jobs**, rather than to list/filter many jobs.\n",
    "\n",
    "We will use a python function that collects these metadata and process them to give you more informtion on output paths."
   ]
  },
  {
   "cell_type": "code",
   "execution_count": 1,
   "metadata": {
    "tags": [
     "remove-input"
    ]
   },
   "outputs": [
    {
     "name": "stdout",
     "output_type": "stream",
     "text": [
      "Using local utilities library\n"
     ]
    }
   ],
   "source": [
    "# Local Utilities Library\n",
    "# you can remove the logic associated with the local path\n",
    "import sys,os\n",
    "relativePath = '../OpsUtils'\n",
    "if os.path.exists(relativePath):\n",
    "    print(\"Using local utilities library\")\n",
    "    PathOpsUtils = os.path.expanduser(relativePath)\n",
    "else:\n",
    "    PathOpsUtils = os.path.expanduser('~/CommunityData/OpenSees/TrainingMaterial/training-OpenSees-on-DesignSafe/OpsUtils')\n",
    "if not PathOpsUtils in sys.path: sys.path.append(PathOpsUtils)\n",
    "from OpsUtils import OpsUtils"
   ]
  },
  {
   "cell_type": "markdown",
   "metadata": {},
   "source": [
    "## Connect to Tapis"
   ]
  },
  {
   "cell_type": "code",
   "execution_count": 2,
   "metadata": {},
   "outputs": [
    {
     "name": "stdout",
     "output_type": "stream",
     "text": [
      " -- Checking Tapis token --\n",
      " Token file found but token is missing/expired.\n",
      " Token expired at: 2025-08-19T05:35:46+00:00\n",
      "-- Connect to Tapis --\n"
     ]
    },
    {
     "name": "stdin",
     "output_type": "stream",
     "text": [
      "Username:  ········\n",
      "Password:  ········\n"
     ]
    },
    {
     "name": "stdout",
     "output_type": "stream",
     "text": [
      " Token saved to /home/jupyter/.tapis_tokens.json\n",
      " Token expires at: 2025-08-19T20:49:18+00:00\n",
      " Token expires in: 4:00:08.360388\n",
      "-- LOG IN SUCCESSFUL! --\n"
     ]
    }
   ],
   "source": [
    "t=OpsUtils.connect_tapis()"
   ]
  },
  {
   "cell_type": "markdown",
   "metadata": {},
   "source": [
    "---\n",
    "## Get detailed job metadata from Tapis"
   ]
  },
  {
   "cell_type": "markdown",
   "metadata": {},
   "source": [
    "### User Input -- job id\n",
    "\n",
    "Please enter your own jobUuid"
   ]
  },
  {
   "cell_type": "code",
   "execution_count": 3,
   "metadata": {},
   "outputs": [],
   "source": [
    "jobUuid = '4dfa35e1-15cd-48fd-a090-f348544dee1f-007'"
   ]
  },
  {
   "cell_type": "markdown",
   "metadata": {},
   "source": [
    "### Get all job metadata"
   ]
  },
  {
   "cell_type": "code",
   "execution_count": 4,
   "metadata": {
    "tags": [
     "remove-input"
    ]
   },
   "outputs": [
    {
     "data": {
      "text/html": [
       "\n",
       "                      <details style=\"margin-top:1em; font-family:monospace; background:white; \n",
       "                          padding:0.25em; border-radius:6px; border:1px solid #ccc;\">\n",
       "                        <summary style=\"cursor:pointer; font-weight:bold; background:white; \n",
       "                          padding:0.3em 0.5em; border-radius:4px;\">get_tapis_job_metadata.py</summary>\n",
       "\n",
       "                        <button onclick=\"navigator.clipboard.writeText(document.getElementById('03129ebd79af4d7ab8a008db14f480a0').innerText)\">\n",
       "                          📋 Copy\n",
       "                        </button>\n",
       "                        <pre id=\"03129ebd79af4d7ab8a008db14f480a0\" style=\"white-space:pre-wrap; margin:0.25em 0 0 0; \n",
       "                            background:#d4fbff; padding:.3em; border-radius:5px;\">\n",
       "<b># ../OpsUtils/OpsUtils/Tapis/get_tapis_job_metadata.py</b>\n",
       "def get_tapis_job_metadata(t, jobUuid,printAll = True):\n",
       "    \"\"\"\n",
       "    Retrieves and prints metadata for a specified Tapis job, including robust local archive reconstruction.\n",
       "\n",
       "    This function queries the Tapis jobs API for metadata on a given job, printing\n",
       "    details such as UUID, name, status, application ID, creation time, and archive location.\n",
       "\n",
       "    If the job has completed successfully (status == 'FINISHED'), it reconstructs\n",
       "    the expected local archive directory path under '~/MyData/tapis-jobs-archive',\n",
       "    checks whether it exists, lists its contents, and returns this information\n",
       "    in a structured dictionary.\n",
       "\n",
       "    If the job is not yet finished or the local directory does not exist, it prints\n",
       "    a notice and returns a dictionary describing the situation.\n",
       "\n",
       "    Parameters\n",
       "    ----------\n",
       "    t : object\n",
       "        An authenticated Tapis client instance (e.g., from `tapis3`).\n",
       "    jobUuid : str\n",
       "        UUID of the job whose metadata is to be retrieved.\n",
       "\n",
       "    Returns\n",
       "    -------\n",
       "    dict\n",
       "        A dictionary with the following keys:\n",
       "        - \"local_path\" (str or None): local archive directory path if job is finished, else None.\n",
       "        - \"exists\" (bool): True if the local directory exists.\n",
       "        - \"files\" (list of str): list of files in the directory if it exists.\n",
       "        - \"message\" (str, optional): explanatory message if no data is available.\n",
       "\n",
       "    Prints\n",
       "    ------\n",
       "    - Job UUID, name, status, appId, creation time, and archive directory.\n",
       "    - If finished, the reconstructed local archive path and the files contained within it,\n",
       "      or a notice if the local directory does not exist.\n",
       "\n",
       "    Example\n",
       "    -------\n",
       "    >>> result = get_tapis_job_metadata(t, \"a1b2c3d4-5678-90ef-ghij-klmnopqrstuv\")\n",
       "    >>> if result[\"exists\"]:\n",
       "    ...     print(\"Archived job data at:\", result[\"local_path\"])\n",
       "    ...     print(\"Files:\", result[\"files\"])\n",
       "    ... else:\n",
       "    ...     print(result.get(\"message\", \"Job not yet completed.\"))\n",
       "    \"\"\"\n",
       "\n",
       "    # Silvia Mazzoni, 2025\n",
       "    import os\n",
       "    import json\n",
       "    if printAll:\n",
       "        import ipywidgets as widgets\n",
       "        from IPython.display import display, clear_output\n",
       "        metadata_out = widgets.Output()\n",
       "        metadata_accordion = widgets.Accordion(children=[metadata_out])\n",
       "        metadata_accordion.set_title(0, f'Job Metadata   ({jobUuid})')\n",
       "        metadata_accordion.selected_index = 0\n",
       "        display(metadata_accordion)\n",
       "\n",
       "    job_response = t.jobs.getJob(jobUuid=jobUuid)\n",
       "    job_dict_all = json.loads(json.dumps(job_response, default=lambda o: vars(o)))\n",
       "    if printAll:\n",
       "        with metadata_out:\n",
       "            # print('+++++++++++++++++++++++++++++++++++++++++++++++++++++++++++++++++++++++++++++++++++++++')\n",
       "            print('+++++++++++++++++++++++++')\n",
       "            print('++++++ Job Metadata')\n",
       "            print('+++++++++++++++++++++++++')\n",
       "    \n",
       "            print('+ uuid:      ', job_response.uuid)\n",
       "            print('+ name:      ', job_response.name)\n",
       "            print('+ status:    ', job_response.status)\n",
       "            print('+ appId:     ', job_response.appId)\n",
       "            print('+ created:   ', job_response.created)\n",
       "            print('+ output-file location')\n",
       "            print('+ archiveSystemId:', job_response.archiveSystemId)\n",
       "            print('+ archiveSystemDir:', job_response.archiveSystemDir)\n",
       "\n",
       "\n",
       "    # ------\n",
       "    execSystemId = job_response.execSystemId\n",
       "    archiveSystemId = job_response.archiveSystemId\n",
       "    sysPath = ''\n",
       "    if archiveSystemId == 'designsafe.storage.default':\n",
       "        sysPath = 'MyData'; \n",
       "    elif archiveSystemId in ['Work','work','cloud.data','stampede3',execSystemId]:\n",
       "        sysPath = f'Work/{execSystemId}'; \n",
       "    if archiveSystemId == 'designsafe.storage.community':\n",
       "        sysPath = 'CommunityData'; ## but you can't write to community\n",
       "    if archiveSystemId == 'designsafe.storage.published':\n",
       "        sysPath = 'Published'; ## but you can't write to published!\n",
       "    \n",
       "    archiveSystemDir = job_dict_all['archiveSystemDir']\n",
       "    archiveSystemDir_user = archiveSystemDir.split('tapis-jobs-archive'+os.path.sep)[1] # remove the first character slash\n",
       "\n",
       "    \n",
       "    archiveSystemDir_user = os.path.join(sysPath,'tapis-jobs-archive',archiveSystemDir_user)\n",
       "    \n",
       "    archiveSystemDir_out = archiveSystemDir_user\n",
       "    if job_response.appId in [\"opensees-mp-s3\",\"opensees-sp-s3\"]:\n",
       "        archiveSystemDir_out = os.path.join(archiveSystemDir_out,'inputDirectory')\n",
       "    elif job_response.appId in [\"opensees-express\"]:\n",
       "        fileInputsList =  json.loads(job_dict_all['fileInputs'])\n",
       "        for fileInputs in fileInputsList:\n",
       "            if fileInputs['name'] in ['Input Directory'] or fileInputs['envKey'] in ['inputDirectory']:\n",
       "                sourceUrl = fileInputs['sourceUrl']\n",
       "                input_folder_end = os.path.basename(sourceUrl)\n",
       "                archiveSystemDir_out = os.path.join(archiveSystemDir_user,input_folder_end)\n",
       "                break\n",
       "\n",
       "    # if sysPath != '':\n",
       "    archiveSystemDir_user = os.path.expanduser(os.path.join('~',archiveSystemDir_user))\n",
       "    archiveSystemDir_out = os.path.expanduser(os.path.join('~',archiveSystemDir_out))\n",
       "\n",
       "    \n",
       "    job_dict_all['archiveSystemDir_user'] = archiveSystemDir_user\n",
       "    job_dict_all['archiveSystemDir_out'] = archiveSystemDir_out\n",
       "    \n",
       "    if printAll:\n",
       "        with metadata_out:\n",
       "            print('+ archiveSystemDir_user:', job_dict_all['archiveSystemDir_user'])\n",
       "            print('+ archiveSystemDir_out:', job_dict_all['archiveSystemDir_out'])\n",
       "\n",
       "        \n",
       "    \n",
       "            JobInfoKeys = ['','uuid','name','','status','remoteOutcome','condition','lastMessage','','execSystemId','execSystemExecDir','execSystemOutputDir','','appId','appVersion','','tenant','trackingId','createdby','created','description','','execSystemId','execSystemLogicalQueue','nodeCount','coresPerNode','maxMinutes','memoryMB']\n",
       "            \n",
       "            # print('\\n-- Additional Relevant Job Metadata --')\n",
       "            print('+ ++++++++++++++++++++++++')\n",
       "            print('+ +++++ Additional Relevant Job Metadata')\n",
       "            print('+ ++++++++++++++++++++++++')\n",
       "            for thisKey in JobInfoKeys:\n",
       "                if thisKey in job_dict_all.keys():\n",
       "                    thisValue = job_dict_all[thisKey]\n",
       "                    # myJobTapisData[thisKey] = thisValue\n",
       "                    print(f'+ - {thisKey}: {thisValue}')\n",
       "                else:\n",
       "                    print('+ ----------------------')\n",
       "            print('+ ++++++++++++++++++++++++')\n",
       "        if 'fileInputs' in job_dict_all.keys():\n",
       "\n",
       "            this_out = widgets.Output()\n",
       "            this_accordion = widgets.Accordion(children=[this_out])\n",
       "            this_accordion.set_title(0, f'fileInputs')\n",
       "            # this_accordion.selected_index = 0\n",
       "            \n",
       "            with metadata_out:\n",
       "                display(this_accordion)\n",
       "            with this_out:\n",
       "            \n",
       "                print('')\n",
       "                print('#'*32)\n",
       "                print('### fileInputs')\n",
       "                print('#'*32)\n",
       "                fileInputsList =  json.loads(job_dict_all['fileInputs'])\n",
       "                for thisLine in fileInputsList:\n",
       "                    print('# ' + '+'*30)\n",
       "                    for thisKey,thisKeyVal in thisLine.items():\n",
       "                        print(f'# + {thisKey} = {thisKeyVal}')\n",
       "                    print('# ' + '+'*30)\n",
       "                print('#'*32)\n",
       "    \n",
       "        if 'parameterSet' in job_dict_all.keys():\n",
       "\n",
       "            this_out = widgets.Output()\n",
       "            this_accordion = widgets.Accordion(children=[this_out])\n",
       "            this_accordion.set_title(0, f'parameterSet')\n",
       "            # this_accordion.selected_index = 0\n",
       "            \n",
       "            with metadata_out:\n",
       "                display(this_accordion)\n",
       "            with this_out:\n",
       "                \n",
       "                print('')\n",
       "                print('#'*32)\n",
       "                print('### parameterSet')\n",
       "                print('#'*32)\n",
       "                parameterSetDict =  json.loads(job_dict_all['parameterSet'])\n",
       "                for thisLineKey,thisLineValues in parameterSetDict.items():\n",
       "                    print('#')\n",
       "                    print('# ' + '+'*30)\n",
       "                    print(f'# ++ {thisLineKey} ')\n",
       "                    print('# ' + '+'*30)\n",
       "                    if isinstance(thisLineValues, list):\n",
       "                        for thisLine in thisLineValues:\n",
       "                            print('# ' + '+ ' + '-'*28)\n",
       "                            if isinstance(thisLine, dict):\n",
       "                                for thisKey,thisVal in thisLine.items():\n",
       "                                    if thisVal != None:\n",
       "                                        print(f'# + -  {thisKey} : {thisVal}')\n",
       "                            else:\n",
       "                                print('####################not dict',thisLine)\n",
       "                            print('# ' + '+ ' + '-'*28)\n",
       "                    elif isinstance(thisLineValues, dict):\n",
       "                        for thisKey,thisVal in thisLineValues.items():\n",
       "                            if thisVal != None:\n",
       "                                print(f'# +  {thisKey} : {thisVal}')\n",
       "                    else:\n",
       "                        print('not list nor dict',thisLine)\n",
       "                    print('# ' + '+'*30)\n",
       "                print('#'*32)\n",
       "        \n",
       "    return job_dict_all\n",
       "    \n",
       "\n",
       "\n",
       "\n",
       "\n",
       "</pre>\n",
       "                      </details>\n",
       "                    "
      ],
      "text/plain": [
       "<IPython.core.display.HTML object>"
      ]
     },
     "metadata": {},
     "output_type": "display_data"
    }
   ],
   "source": [
    "OpsUtils.show_text_file_in_accordion(PathOpsUtils,['get_tapis_job_metadata.py'])"
   ]
  },
  {
   "cell_type": "code",
   "execution_count": 5,
   "metadata": {},
   "outputs": [
    {
     "data": {
      "application/vnd.jupyter.widget-view+json": {
       "model_id": "8324c2f99f2241d18ead75de7026edb5",
       "version_major": 2,
       "version_minor": 0
      },
      "text/plain": [
       "Accordion(children=(Output(),), selected_index=0, titles=('Job Metadata   (4dfa35e1-15cd-48fd-a090-f348544dee1…"
      ]
     },
     "metadata": {},
     "output_type": "display_data"
    }
   ],
   "source": [
    "JobMetadata = OpsUtils.get_tapis_job_metadata(t,jobUuid)"
   ]
  },
  {
   "cell_type": "code",
   "execution_count": 7,
   "metadata": {},
   "outputs": [
    {
     "data": {
      "application/vnd.jupyter.widget-view+json": {
       "model_id": "305ea7676da54507b6e87af23564e27c",
       "version_major": 2,
       "version_minor": 0
      },
      "text/plain": [
       "Accordion(children=(Output(),), selected_index=0, titles=('Job Metadata   (5d2d6e55-3074-4632-8e8d-1ed63a730f5…"
      ]
     },
     "metadata": {},
     "output_type": "display_data"
    }
   ],
   "source": [
    "JobMetadata = OpsUtils.get_tapis_job_metadata(t,'5d2d6e55-3074-4632-8e8d-1ed63a730f5f-007') # opensees-express job"
   ]
  },
  {
   "cell_type": "code",
   "execution_count": 8,
   "metadata": {},
   "outputs": [
    {
     "data": {
      "application/vnd.jupyter.widget-view+json": {
       "model_id": "6d0aaec8cc764437ab2e7c9a13158422",
       "version_major": 2,
       "version_minor": 0
      },
      "text/plain": [
       "Accordion(children=(Output(),), selected_index=0, titles=('Job Metadata   (b35ab3c2-0436-4c98-9066-367b9db67f9…"
      ]
     },
     "metadata": {},
     "output_type": "display_data"
    }
   ],
   "source": [
    "JobMetadata = OpsUtils.get_tapis_job_metadata(t,'b35ab3c2-0436-4c98-9066-367b9db67f9c-007') # this job was submitted and failed"
   ]
  },
  {
   "cell_type": "code",
   "execution_count": 9,
   "metadata": {},
   "outputs": [
    {
     "data": {
      "application/vnd.jupyter.widget-view+json": {
       "model_id": "7eb5712b814f45a09f3749ad78735a11",
       "version_major": 2,
       "version_minor": 0
      },
      "text/plain": [
       "Accordion(children=(Output(),), selected_index=0, titles=('Job Metadata   (a3c514c4-d488-40d0-9efe-0e0a7703903…"
      ]
     },
     "metadata": {},
     "output_type": "display_data"
    }
   ],
   "source": [
    "JobMetadata = OpsUtils.get_tapis_job_metadata(t,'a3c514c4-d488-40d0-9efe-0e0a77039033-007') # this job also failed"
   ]
  },
  {
   "cell_type": "markdown",
   "metadata": {},
   "source": [
    "## Collect Metadata for your own processing"
   ]
  },
  {
   "cell_type": "code",
   "execution_count": 10,
   "metadata": {},
   "outputs": [],
   "source": [
    "jobUuid = '4dfa35e1-15cd-48fd-a090-f348544dee1f-007'\n",
    "JobMetadata = OpsUtils.get_tapis_job_metadata(t,jobUuid,printAll=False) # don't print, we will look at the data"
   ]
  },
  {
   "cell_type": "markdown",
   "metadata": {},
   "source": [
    "#### SCRATCH-Folder path\n",
    "This is the location where the work was actually done! <br>\n",
    "This is where you can find your files while the job is running as well as if file-transfer to the archive path failed"
   ]
  },
  {
   "cell_type": "code",
   "execution_count": 11,
   "metadata": {},
   "outputs": [
    {
     "name": "stdout",
     "output_type": "stream",
     "text": [
      "execSystemOutputDir /scratch/05072/silvia/tapis/4dfa35e1-15cd-48fd-a090-f348544dee1f-007\n"
     ]
    }
   ],
   "source": [
    "execSystemOutputDir = JobMetadata['execSystemOutputDir']\n",
    "print('execSystemOutputDir',execSystemOutputDir)"
   ]
  },
  {
   "cell_type": "markdown",
   "metadata": {},
   "source": [
    "#### ARCHIVE-Folder path\n",
    "This is the location where the final location of your job files. <br>\n",
    "They are transferred here from the scratch path, you can now move them to your desired location."
   ]
  },
  {
   "cell_type": "code",
   "execution_count": 12,
   "metadata": {},
   "outputs": [
    {
     "name": "stdout",
     "output_type": "stream",
     "text": [
      "archiveSystemDir /silvia/tapis-jobs-archive/2025-05-07Z/opensees-mp-s3-latest_2025-05-07T22:13:08-4dfa35e1-15cd-48fd-a090-f348544dee1f-007\n",
      "no such directory\n"
     ]
    }
   ],
   "source": [
    "archiveSystemDir = JobMetadata['archiveSystemDir']\n",
    "print('archiveSystemDir',archiveSystemDir)\n",
    "if os.path.exists(archiveSystemDir):\n",
    "    print(os.listdir(archiveSystemDir))\n",
    "else:\n",
    "    print('no such directory')"
   ]
  },
  {
   "cell_type": "code",
   "execution_count": 13,
   "metadata": {},
   "outputs": [
    {
     "name": "stdout",
     "output_type": "stream",
     "text": [
      "archiveSystemDir_user /home/jupyter/MyData/tapis-jobs-archive/2025-05-07Z/opensees-mp-s3-latest_2025-05-07T22:13:08-4dfa35e1-15cd-48fd-a090-f348544dee1f-007\n",
      "['inputDirectory', 'tapisjob.sh', 'opensees.zip', 'tapisjob.env', 'tapisjob.out', 'tapisjob_app.sh']\n"
     ]
    }
   ],
   "source": [
    "archiveSystemDir_user = JobMetadata['archiveSystemDir_user']\n",
    "print('archiveSystemDir_user',archiveSystemDir_user)\n",
    "if os.path.exists(archiveSystemDir_user):\n",
    "    print(os.listdir(archiveSystemDir_user))\n",
    "else:\n",
    "    print('no such directory')"
   ]
  },
  {
   "cell_type": "code",
   "execution_count": 14,
   "metadata": {},
   "outputs": [
    {
     "name": "stdout",
     "output_type": "stream",
     "text": [
      "archiveSystemDir_out /home/jupyter/MyData/tapis-jobs-archive/2025-05-07Z/opensees-mp-s3-latest_2025-05-07T22:13:08-4dfa35e1-15cd-48fd-a090-f348544dee1f-007/inputDirectory\n",
      "['DataTCLmp', 'Ex1a.tcl.Canti2D.Push.mp.tcl', 'Ex1many_end.tcl.Canti2D.Push.mp.tcl', '.ipynb_checkpoints', 'Ex1many-Copy1.tcl.Canti2D.Push.mp.tcl', 'Ex1a.py.Canti2D.Push.py', 'Ex1a.tcl.Canti2D.Push.tcl', 'Ex1many_start.tcl.Canti2D.Push.mp.tcl', 'Ex1a.py.Canti2D.Push.mpi4py.py', 'Ex1a.py.Canti2D.Push.mpi.py']\n"
     ]
    }
   ],
   "source": [
    "archiveSystemDir_out = JobMetadata['archiveSystemDir_out']\n",
    "print('archiveSystemDir_out',archiveSystemDir_out)\n",
    "if os.path.exists(archiveSystemDir_out):\n",
    "    print(os.listdir(archiveSystemDir_out))\n",
    "else:\n",
    "    print('no such directory')"
   ]
  },
  {
   "cell_type": "markdown",
   "metadata": {},
   "source": [
    "#### Display all Metadata"
   ]
  },
  {
   "cell_type": "code",
   "execution_count": 15,
   "metadata": {},
   "outputs": [
    {
     "data": {
      "text/plain": [
       "{'id': 42126,\n",
       " 'name': 'opensees-mp-s3-latest_2025-05-07T22:13:08',\n",
       " 'owner': 'silvia',\n",
       " 'tenant': 'designsafe',\n",
       " 'description': 'opensees-mp-s3-latest submitted by silvia@designsafe',\n",
       " 'status': 'FINISHED',\n",
       " 'condition': 'NORMAL_COMPLETION',\n",
       " 'lastMessage': 'Setting job status to FINISHED.',\n",
       " 'created': '2025-05-07T22:15:14.785522Z',\n",
       " 'ended': '2025-05-07T22:20:52.718025Z',\n",
       " 'lastUpdated': '2025-05-07T22:20:52.718025Z',\n",
       " 'uuid': '4dfa35e1-15cd-48fd-a090-f348544dee1f-007',\n",
       " 'appId': 'opensees-mp-s3',\n",
       " 'appVersion': 'latest',\n",
       " 'archiveOnAppError': True,\n",
       " 'dynamicExecSystem': False,\n",
       " 'execSystemId': 'stampede3',\n",
       " 'execSystemExecDir': '/scratch/05072/silvia/tapis/4dfa35e1-15cd-48fd-a090-f348544dee1f-007',\n",
       " 'execSystemInputDir': '/scratch/05072/silvia/tapis/4dfa35e1-15cd-48fd-a090-f348544dee1f-007',\n",
       " 'execSystemOutputDir': '/scratch/05072/silvia/tapis/4dfa35e1-15cd-48fd-a090-f348544dee1f-007',\n",
       " 'execSystemLogicalQueue': 'skx-dev',\n",
       " 'archiveSystemId': 'designsafe.storage.default',\n",
       " 'archiveSystemDir': '/silvia/tapis-jobs-archive/2025-05-07Z/opensees-mp-s3-latest_2025-05-07T22:13:08-4dfa35e1-15cd-48fd-a090-f348544dee1f-007',\n",
       " 'dtnSystemId': None,\n",
       " 'dtnSystemInputDir': None,\n",
       " 'dtnSystemOutputDir': None,\n",
       " 'nodeCount': 2,\n",
       " 'coresPerNode': 48,\n",
       " 'memoryMB': 192000,\n",
       " 'maxMinutes': 100,\n",
       " 'fileInputs': '[{\"name\": \"Input Directory\", \"notes\": \"{\\\\\"selectionMode\\\\\":\\\\\"directory\\\\\"}\", \"envKey\": \"inputDirectory\", \"optional\": false, \"sourceUrl\": \"tapis://designsafe.storage.default/silvia/OpenSees/repos/training-OpenSees-on-DesignSafe/_static/OpenSeesScripts\", \"targetPath\": \"inputDirectory\", \"description\": \"Input directory that includes the tcl script as well as any other required files. Example input is in tapis://designsafe.storage.community/app_examples/opensees/OpenSeesMP\", \"autoMountLocal\": true, \"srcSharedAppCtx\": \"\", \"destSharedAppCtx\": \"wma_prtl\"}]',\n",
       " 'parameterSet': '{\"appArgs\": [{\"arg\": \"OpenSeesMP\", \"name\": \"mainProgram\", \"notes\": \"{\\\\\"isHidden\\\\\":true}\", \"include\": null, \"description\": null}, {\"arg\": \"Ex1many_end.tcl.Canti2D.Push.mp.tcl\", \"name\": \"Main Script\", \"notes\": \"{\\\\\"inputType\\\\\":\\\\\"fileInput\\\\\"}\", \"include\": null, \"description\": \"The filename only of the OpenSees TCL script to execute. This file should reside in the Input Directory specified. To use with test input, use \\'freeFieldEffective.tcl\\'\"}], \"logConfig\": {\"stderrFilename\": \"tapisjob.out\", \"stdoutFilename\": \"tapisjob.out\"}, \"envVariables\": [{\"key\": \"_tapisAppId\", \"notes\": null, \"value\": \"opensees-mp-s3\", \"include\": null, \"description\": null}, {\"key\": \"_tapisAppVersion\", \"notes\": null, \"value\": \"latest\", \"include\": null, \"description\": null}, {\"key\": \"_tapisArchiveOnAppError\", \"notes\": null, \"value\": \"true\", \"include\": null, \"description\": null}, {\"key\": \"_tapisArchiveSystemDir\", \"notes\": null, \"value\": \"/silvia/tapis-jobs-archive/2025-05-07Z/opensees-mp-s3-latest_2025-05-07T22:13:08-4dfa35e1-15cd-48fd-a090-f348544dee1f-007\", \"include\": null, \"description\": null}, {\"key\": \"_tapisArchiveSystemId\", \"notes\": null, \"value\": \"designsafe.storage.default\", \"include\": null, \"description\": null}, {\"key\": \"_tapisCoresPerNode\", \"notes\": null, \"value\": \"48\", \"include\": null, \"description\": null}, {\"key\": \"_tapisDynamicExecSystem\", \"notes\": null, \"value\": \"false\", \"include\": null, \"description\": null}, {\"key\": \"_tapisEffectiveUserId\", \"notes\": null, \"value\": \"silvia\", \"include\": null, \"description\": null}, {\"key\": \"_tapisExecSystemExecDir\", \"notes\": null, \"value\": \"/scratch/05072/silvia/tapis/4dfa35e1-15cd-48fd-a090-f348544dee1f-007\", \"include\": null, \"description\": null}, {\"key\": \"_tapisExecSystemHPCQueue\", \"notes\": null, \"value\": \"skx-dev\", \"include\": null, \"description\": null}, {\"key\": \"_tapisExecSystemId\", \"notes\": null, \"value\": \"stampede3\", \"include\": null, \"description\": null}, {\"key\": \"_tapisExecSystemInputDir\", \"notes\": null, \"value\": \"/scratch/05072/silvia/tapis/4dfa35e1-15cd-48fd-a090-f348544dee1f-007\", \"include\": null, \"description\": null}, {\"key\": \"_tapisExecSystemLogicalQueue\", \"notes\": null, \"value\": \"skx-dev\", \"include\": null, \"description\": null}, {\"key\": \"_tapisExecSystemOutputDir\", \"notes\": null, \"value\": \"/scratch/05072/silvia/tapis/4dfa35e1-15cd-48fd-a090-f348544dee1f-007\", \"include\": null, \"description\": null}, {\"key\": \"_tapisJobCreateDate\", \"notes\": null, \"value\": \"2025-05-07Z\", \"include\": null, \"description\": null}, {\"key\": \"_tapisJobCreateTime\", \"notes\": null, \"value\": \"22:15:14.785522177Z\", \"include\": null, \"description\": null}, {\"key\": \"_tapisJobCreateTimestamp\", \"notes\": null, \"value\": \"2025-05-07T22:15:14.785522177Z\", \"include\": null, \"description\": null}, {\"key\": \"_tapisJobName\", \"notes\": null, \"value\": \"opensees-mp-s3-latest_2025-05-07T22:13:08\", \"include\": null, \"description\": null}, {\"key\": \"_tapisJobOwner\", \"notes\": null, \"value\": \"silvia\", \"include\": null, \"description\": null}, {\"key\": \"_tapisJobUUID\", \"notes\": null, \"value\": \"4dfa35e1-15cd-48fd-a090-f348544dee1f-007\", \"include\": null, \"description\": null}, {\"key\": \"_tapisJobWorkingDir\", \"notes\": null, \"value\": \"/scratch/05072/silvia/tapis/4dfa35e1-15cd-48fd-a090-f348544dee1f-007\", \"include\": null, \"description\": null}, {\"key\": \"_tapisMaxMinutes\", \"notes\": null, \"value\": \"100\", \"include\": null, \"description\": null}, {\"key\": \"_tapisMemoryMB\", \"notes\": null, \"value\": \"192000\", \"include\": null, \"description\": null}, {\"key\": \"_tapisNodes\", \"notes\": null, \"value\": \"2\", \"include\": null, \"description\": null}, {\"key\": \"_tapisStderrFilename\", \"notes\": null, \"value\": \"tapisjob.out\", \"include\": null, \"description\": null}, {\"key\": \"_tapisStdoutFilename\", \"notes\": null, \"value\": \"tapisjob.out\", \"include\": null, \"description\": null}, {\"key\": \"_tapisSysBatchScheduler\", \"notes\": null, \"value\": \"SLURM\", \"include\": null, \"description\": null}, {\"key\": \"_tapisSysHost\", \"notes\": null, \"value\": \"stampede3.tacc.utexas.edu\", \"include\": null, \"description\": null}, {\"key\": \"_tapisSysRootDir\", \"notes\": null, \"value\": \"/\", \"include\": null, \"description\": null}, {\"key\": \"_tapisTenant\", \"notes\": null, \"value\": \"designsafe\", \"include\": null, \"description\": null}, {\"key\": \"inputDirectory\", \"notes\": \"{}\", \"value\": \"inputDirectory\", \"include\": true, \"description\": \"EnvKey from input file: Input Directory\"}], \"archiveFilter\": {\"excludes\": [], \"includes\": [], \"includeLaunchFiles\": true}, \"containerArgs\": [], \"schedulerOptions\": [{\"arg\": \"--tapis-profile OpenSees_default\", \"name\": \"OpenSees TACC Scheduler Profile\", \"notes\": \"{\\\\\"isHidden\\\\\":true}\", \"include\": null, \"description\": \"Scheduler profile for the default version of OpenSees\"}, {\"arg\": \"-A DS-HPC1\", \"name\": \"TACC Allocation\", \"notes\": null, \"include\": null, \"description\": \"The TACC allocation associated with this job execution\"}]}',\n",
       " 'execSystemConstraints': None,\n",
       " 'subscriptions': '[{\"enabled\": true, \"ttlMinutes\": 10080, \"description\": \"Portal job status notification\", \"deliveryTargets\": [{\"deliveryMethod\": \"WEBHOOK\", \"deliveryAddress\": \"https://www.designsafe-ci.org/webhooks/jobs/\"}], \"eventCategoryFilter\": \"JOB_NEW_STATUS\"}]',\n",
       " 'blockedCount': 0,\n",
       " 'remoteJobId': '1874224',\n",
       " 'remoteJobId2': None,\n",
       " 'remoteOutcome': 'FINISHED',\n",
       " 'remoteResultInfo': '0:0',\n",
       " 'remoteQueue': None,\n",
       " 'remoteSubmitted': '2025-05-07T22:16:49.606851Z',\n",
       " 'remoteStarted': '2025-05-07T22:16:51.791782Z',\n",
       " 'remoteEnded': '2025-05-07T22:17:17.601968Z',\n",
       " 'remoteSubmitRetries': 0,\n",
       " 'remoteChecksSuccess': 4,\n",
       " 'remoteChecksFailed': 0,\n",
       " 'remoteLastStatusCheck': '2025-05-07T22:17:17.595078Z',\n",
       " 'inputTransactionId': '2510a293-a91d-481c-baf3-4f89a9ed998a',\n",
       " 'inputCorrelationId': '6a36ee1d-2b05-4380-a221-e27dd8bd66b0',\n",
       " 'archiveTransactionId': 'ad89111a-222a-4e71-9fd2-4691f15cafed',\n",
       " 'archiveCorrelationId': '2f7852d4-9c67-470d-aef0-64d1341f1f5f',\n",
       " 'stageAppTransactionId': '0e2ea3d8-1093-42f0-b8d9-7a3c9d185b33',\n",
       " 'stageAppCorrelationId': 'b616a64e-a8f6-4a65-9ed0-cb3e29a58869',\n",
       " 'dtnInputTransactionId': None,\n",
       " 'dtnInputCorrelationId': None,\n",
       " 'dtnOutputTransactionId': None,\n",
       " 'dtnOutputCorrelationId': None,\n",
       " 'tapisQueue': 'tapis.jobq.submit.DefaultQueue',\n",
       " 'visible': True,\n",
       " 'createdby': 'silvia',\n",
       " 'createdbyTenant': 'designsafe',\n",
       " 'tags': ['portalName: DESIGNSAFE'],\n",
       " 'jobType': 'BATCH',\n",
       " 'isMpi': False,\n",
       " 'mpiCmd': None,\n",
       " 'cmdPrefix': None,\n",
       " 'sharedAppCtx': 'wma_prtl',\n",
       " 'sharedAppCtxAttribs': ['SAC_EXEC_SYSTEM_ID',\n",
       "  'SAC_EXEC_SYSTEM_INPUT_DIR',\n",
       "  'SAC_EXEC_SYSTEM_EXEC_DIR',\n",
       "  'SAC_EXEC_SYSTEM_OUTPUT_DIR'],\n",
       " 'trackingId': 'portals.tjpzgzipxddro0y9h1f8iqna904lyphy',\n",
       " 'notes': '{\"icon\": \"OpenSees\", \"label\": \"OpenSeesMP\", \"helpUrl\": \"https://www.designsafe-ci.org/user-guide/tools/simulation/#opensees-user-guide\", \"category\": \"Simulation\", \"isInteractive\": false, \"hideNodeCountAndCoresPerNode\": false}',\n",
       " '_fileInputsSpec': None,\n",
       " '_parameterSetModel': None,\n",
       " 'archiveSystemDir_user': '/home/jupyter/MyData/tapis-jobs-archive/2025-05-07Z/opensees-mp-s3-latest_2025-05-07T22:13:08-4dfa35e1-15cd-48fd-a090-f348544dee1f-007',\n",
       " 'archiveSystemDir_out': '/home/jupyter/MyData/tapis-jobs-archive/2025-05-07Z/opensees-mp-s3-latest_2025-05-07T22:13:08-4dfa35e1-15cd-48fd-a090-f348544dee1f-007/inputDirectory'}"
      ]
     },
     "metadata": {},
     "output_type": "display_data"
    }
   ],
   "source": [
    "display(JobMetadata)"
   ]
  },
  {
   "cell_type": "code",
   "execution_count": 16,
   "metadata": {},
   "outputs": [
    {
     "name": "stdout",
     "output_type": "stream",
     "text": [
      "################################\n",
      "### fileInputs\n",
      "################################\n",
      "# ++++++++++++++++++++++++++++++\n",
      "# + name = Input Directory\n",
      "# + notes = {\"selectionMode\":\"directory\"}\n",
      "# + envKey = inputDirectory\n",
      "# + optional = False\n",
      "# + sourceUrl = tapis://designsafe.storage.default/silvia/OpenSees/repos/training-OpenSees-on-DesignSafe/_static/OpenSeesScripts\n",
      "# + targetPath = inputDirectory\n",
      "# + description = Input directory that includes the tcl script as well as any other required files. Example input is in tapis://designsafe.storage.community/app_examples/opensees/OpenSeesMP\n",
      "# + autoMountLocal = True\n",
      "# + srcSharedAppCtx = \n",
      "# + destSharedAppCtx = wma_prtl\n",
      "# ++++++++++++++++++++++++++++++\n",
      "################################\n"
     ]
    }
   ],
   "source": [
    "import json\n",
    "print('#'*32)\n",
    "print('### fileInputs')\n",
    "print('#'*32)\n",
    "fileInputsList =  json.loads(JobMetadata['fileInputs'])\n",
    "for thisLine in fileInputsList:\n",
    "    print('# ' + '+'*30)\n",
    "    for thisKey,thisKeyVal in thisLine.items():\n",
    "        print(f'# + {thisKey} = {thisKeyVal}')\n",
    "    print('# ' + '+'*30)\n",
    "print('#'*32)"
   ]
  },
  {
   "cell_type": "code",
   "execution_count": 17,
   "metadata": {},
   "outputs": [
    {
     "name": "stdout",
     "output_type": "stream",
     "text": [
      "################################\n",
      "### parameterSet\n",
      "################################\n",
      "#\n",
      "# ++++++++++++++++++++++++++++++\n",
      "# ++ appArgs \n",
      "# ++++++++++++++++++++++++++++++\n",
      "# + ----------------------------\n",
      "# + -  arg : OpenSeesMP\n",
      "# + -  name : mainProgram\n",
      "# + -  notes : {\"isHidden\":true}\n",
      "# + ----------------------------\n",
      "# + ----------------------------\n",
      "# + -  arg : Ex1many_end.tcl.Canti2D.Push.mp.tcl\n",
      "# + -  name : Main Script\n",
      "# + -  notes : {\"inputType\":\"fileInput\"}\n",
      "# + -  description : The filename only of the OpenSees TCL script to execute. This file should reside in the Input Directory specified. To use with test input, use 'freeFieldEffective.tcl'\n",
      "# + ----------------------------\n",
      "# ++++++++++++++++++++++++++++++\n",
      "#\n",
      "# ++++++++++++++++++++++++++++++\n",
      "# ++ logConfig \n",
      "# ++++++++++++++++++++++++++++++\n",
      "# +  stderrFilename : tapisjob.out\n",
      "# +  stdoutFilename : tapisjob.out\n",
      "# ++++++++++++++++++++++++++++++\n",
      "#\n",
      "# ++++++++++++++++++++++++++++++\n",
      "# ++ envVariables \n",
      "# ++++++++++++++++++++++++++++++\n",
      "# + ----------------------------\n",
      "# + -  key : _tapisAppId\n",
      "# + -  value : opensees-mp-s3\n",
      "# + ----------------------------\n",
      "# + ----------------------------\n",
      "# + -  key : _tapisAppVersion\n",
      "# + -  value : latest\n",
      "# + ----------------------------\n",
      "# + ----------------------------\n",
      "# + -  key : _tapisArchiveOnAppError\n",
      "# + -  value : true\n",
      "# + ----------------------------\n",
      "# + ----------------------------\n",
      "# + -  key : _tapisArchiveSystemDir\n",
      "# + -  value : /silvia/tapis-jobs-archive/2025-05-07Z/opensees-mp-s3-latest_2025-05-07T22:13:08-4dfa35e1-15cd-48fd-a090-f348544dee1f-007\n",
      "# + ----------------------------\n",
      "# + ----------------------------\n",
      "# + -  key : _tapisArchiveSystemId\n",
      "# + -  value : designsafe.storage.default\n",
      "# + ----------------------------\n",
      "# + ----------------------------\n",
      "# + -  key : _tapisCoresPerNode\n",
      "# + -  value : 48\n",
      "# + ----------------------------\n",
      "# + ----------------------------\n",
      "# + -  key : _tapisDynamicExecSystem\n",
      "# + -  value : false\n",
      "# + ----------------------------\n",
      "# + ----------------------------\n",
      "# + -  key : _tapisEffectiveUserId\n",
      "# + -  value : silvia\n",
      "# + ----------------------------\n",
      "# + ----------------------------\n",
      "# + -  key : _tapisExecSystemExecDir\n",
      "# + -  value : /scratch/05072/silvia/tapis/4dfa35e1-15cd-48fd-a090-f348544dee1f-007\n",
      "# + ----------------------------\n",
      "# + ----------------------------\n",
      "# + -  key : _tapisExecSystemHPCQueue\n",
      "# + -  value : skx-dev\n",
      "# + ----------------------------\n",
      "# + ----------------------------\n",
      "# + -  key : _tapisExecSystemId\n",
      "# + -  value : stampede3\n",
      "# + ----------------------------\n",
      "# + ----------------------------\n",
      "# + -  key : _tapisExecSystemInputDir\n",
      "# + -  value : /scratch/05072/silvia/tapis/4dfa35e1-15cd-48fd-a090-f348544dee1f-007\n",
      "# + ----------------------------\n",
      "# + ----------------------------\n",
      "# + -  key : _tapisExecSystemLogicalQueue\n",
      "# + -  value : skx-dev\n",
      "# + ----------------------------\n",
      "# + ----------------------------\n",
      "# + -  key : _tapisExecSystemOutputDir\n",
      "# + -  value : /scratch/05072/silvia/tapis/4dfa35e1-15cd-48fd-a090-f348544dee1f-007\n",
      "# + ----------------------------\n",
      "# + ----------------------------\n",
      "# + -  key : _tapisJobCreateDate\n",
      "# + -  value : 2025-05-07Z\n",
      "# + ----------------------------\n",
      "# + ----------------------------\n",
      "# + -  key : _tapisJobCreateTime\n",
      "# + -  value : 22:15:14.785522177Z\n",
      "# + ----------------------------\n",
      "# + ----------------------------\n",
      "# + -  key : _tapisJobCreateTimestamp\n",
      "# + -  value : 2025-05-07T22:15:14.785522177Z\n",
      "# + ----------------------------\n",
      "# + ----------------------------\n",
      "# + -  key : _tapisJobName\n",
      "# + -  value : opensees-mp-s3-latest_2025-05-07T22:13:08\n",
      "# + ----------------------------\n",
      "# + ----------------------------\n",
      "# + -  key : _tapisJobOwner\n",
      "# + -  value : silvia\n",
      "# + ----------------------------\n",
      "# + ----------------------------\n",
      "# + -  key : _tapisJobUUID\n",
      "# + -  value : 4dfa35e1-15cd-48fd-a090-f348544dee1f-007\n",
      "# + ----------------------------\n",
      "# + ----------------------------\n",
      "# + -  key : _tapisJobWorkingDir\n",
      "# + -  value : /scratch/05072/silvia/tapis/4dfa35e1-15cd-48fd-a090-f348544dee1f-007\n",
      "# + ----------------------------\n",
      "# + ----------------------------\n",
      "# + -  key : _tapisMaxMinutes\n",
      "# + -  value : 100\n",
      "# + ----------------------------\n",
      "# + ----------------------------\n",
      "# + -  key : _tapisMemoryMB\n",
      "# + -  value : 192000\n",
      "# + ----------------------------\n",
      "# + ----------------------------\n",
      "# + -  key : _tapisNodes\n",
      "# + -  value : 2\n",
      "# + ----------------------------\n",
      "# + ----------------------------\n",
      "# + -  key : _tapisStderrFilename\n",
      "# + -  value : tapisjob.out\n",
      "# + ----------------------------\n",
      "# + ----------------------------\n",
      "# + -  key : _tapisStdoutFilename\n",
      "# + -  value : tapisjob.out\n",
      "# + ----------------------------\n",
      "# + ----------------------------\n",
      "# + -  key : _tapisSysBatchScheduler\n",
      "# + -  value : SLURM\n",
      "# + ----------------------------\n",
      "# + ----------------------------\n",
      "# + -  key : _tapisSysHost\n",
      "# + -  value : stampede3.tacc.utexas.edu\n",
      "# + ----------------------------\n",
      "# + ----------------------------\n",
      "# + -  key : _tapisSysRootDir\n",
      "# + -  value : /\n",
      "# + ----------------------------\n",
      "# + ----------------------------\n",
      "# + -  key : _tapisTenant\n",
      "# + -  value : designsafe\n",
      "# + ----------------------------\n",
      "# + ----------------------------\n",
      "# + -  key : inputDirectory\n",
      "# + -  notes : {}\n",
      "# + -  value : inputDirectory\n",
      "# + -  include : True\n",
      "# + -  description : EnvKey from input file: Input Directory\n",
      "# + ----------------------------\n",
      "# ++++++++++++++++++++++++++++++\n",
      "#\n",
      "# ++++++++++++++++++++++++++++++\n",
      "# ++ archiveFilter \n",
      "# ++++++++++++++++++++++++++++++\n",
      "# +  excludes : []\n",
      "# +  includes : []\n",
      "# +  includeLaunchFiles : True\n",
      "# ++++++++++++++++++++++++++++++\n",
      "#\n",
      "# ++++++++++++++++++++++++++++++\n",
      "# ++ containerArgs \n",
      "# ++++++++++++++++++++++++++++++\n",
      "# ++++++++++++++++++++++++++++++\n",
      "#\n",
      "# ++++++++++++++++++++++++++++++\n",
      "# ++ schedulerOptions \n",
      "# ++++++++++++++++++++++++++++++\n",
      "# + ----------------------------\n",
      "# + -  arg : --tapis-profile OpenSees_default\n",
      "# + -  name : OpenSees TACC Scheduler Profile\n",
      "# + -  notes : {\"isHidden\":true}\n",
      "# + -  description : Scheduler profile for the default version of OpenSees\n",
      "# + ----------------------------\n",
      "# + ----------------------------\n",
      "# + -  arg : -A DS-HPC1\n",
      "# + -  name : TACC Allocation\n",
      "# + -  description : The TACC allocation associated with this job execution\n",
      "# + ----------------------------\n",
      "# ++++++++++++++++++++++++++++++\n",
      "################################\n"
     ]
    }
   ],
   "source": [
    "import json\n",
    "print('#'*32)\n",
    "print('### parameterSet')\n",
    "print('#'*32)\n",
    "parameterSetDict =  json.loads(JobMetadata['parameterSet'])\n",
    "for thisLineKey,thisLineValues in parameterSetDict.items():\n",
    "    print('#')\n",
    "    print('# ' + '+'*30)\n",
    "    print(f'# ++ {thisLineKey} ')\n",
    "    print('# ' + '+'*30)\n",
    "    if isinstance(thisLineValues, list):\n",
    "        for thisLine in thisLineValues:\n",
    "            print('# ' + '+ ' + '-'*28)\n",
    "            if isinstance(thisLine, dict):\n",
    "                for thisKey,thisVal in thisLine.items():\n",
    "                    if thisVal != None:\n",
    "                        print(f'# + -  {thisKey} : {thisVal}')\n",
    "            else:\n",
    "                print('####################not dict',thisLine)\n",
    "            print('# ' + '+ ' + '-'*28)\n",
    "    elif isinstance(thisLineValues, dict):\n",
    "        for thisKey,thisVal in thisLineValues.items():\n",
    "            if thisVal != None:\n",
    "                print(f'# +  {thisKey} : {thisVal}')\n",
    "    else:\n",
    "        print('not list nor dict',thisLine)\n",
    "    print('# ' + '+'*30)\n",
    "print('#'*32)\n",
    "        \n"
   ]
  }
 ],
 "metadata": {
  "IMAGE_NAME": "taccsciapps/ds-nb-img:base-0.2.3",
  "UUID": "73e0880d-9b87-11ec-9c1c-13579dd95994",
  "celltoolbar": "Raw Cell Format",
  "kernelspec": {
   "display_name": "Python 3 (ipykernel)",
   "language": "python",
   "name": "python3"
  },
  "language_info": {
   "codemirror_mode": {
    "name": "ipython",
    "version": 3
   },
   "file_extension": ".py",
   "mimetype": "text/x-python",
   "name": "python",
   "nbconvert_exporter": "python",
   "pygments_lexer": "ipython3",
   "version": "3.12.11"
  }
 },
 "nbformat": 4,
 "nbformat_minor": 4
}