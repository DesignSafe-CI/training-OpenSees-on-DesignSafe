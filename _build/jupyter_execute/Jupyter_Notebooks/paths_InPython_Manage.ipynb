{
 "cells": [
  {
   "cell_type": "markdown",
   "id": "13aaba36-f7e8-44ea-a65b-91f656862a84",
   "metadata": {},
   "source": [
    "<a class=\"reference external\" \n",
    "    href=\"https://jupyter.designsafe-ci.org/hub/user-redirect/lab/tree/CommunityData/OpenSees/TrainingMaterial/training-OpenSees-on-DesignSafe/Jupyter_Notebooks/paths_InPython_Manage.ipynb\" target=\"_blank\">\n",
    "<img alt=\"Try on DesignSafe\" src=\"https://raw.githubusercontent.com/DesignSafe-Training/pinn/main/DesignSafe-Badge.svg\" /></a>"
   ]
  },
  {
   "cell_type": "markdown",
   "id": "90a66ccd-e5cd-4fe1-815a-83872dd933c2",
   "metadata": {},
   "source": [
    "# Managing Paths 📒\n",
    "***Managing and Navigating Files & Directories***\n",
    "\n",
    "by Silvia Mazzoni, DesignSafe, 2025\n",
    "\n",
    "Learn how to navigate, organize, and automate your filesystem in Python — from checking your current path to creating, moving, and cleaning up files and folders.\n",
    "\n",
    "Working with files and directories is a core part of any Python project.\n",
    "Whether you’re inspecting your current location, creating or removing folders, navigating between directories, or performing higher-level operations like copying and moving with *shutil*, Python’s standard library provides everything you need to manage your filesystem directly from code.\n",
    "\n",
    "In this section, we’ll explore practical tools and patterns for:\n",
    "\n",
    "* **Finding your current working directory**\n",
    "* **Creating and removing directories**\n",
    "* **Changing your working location**\n",
    "* **Splitting and joining paths**\n",
    "* **Using *shutil* for file and directory operations**\n",
    "* **Separating files from folders**\n",
    "\n",
    "By mastering these techniques, you can automate data organization, build reproducible workflows, and handle file I/O tasks without relying on manual file management.\n",
    "\n"
   ]
  },
  {
   "cell_type": "code",
   "execution_count": 1,
   "id": "8cccbbff-caeb-459d-afd0-fc0a386f4efc",
   "metadata": {},
   "outputs": [],
   "source": [
    "import os"
   ]
  },
  {
   "cell_type": "markdown",
   "id": "fa236f0e-4111-4ca3-8d11-30118405b31c",
   "metadata": {},
   "source": [
    "---\n",
    "## Getting your current path\n",
    "\n",
    "Because different environments mount storage systems differently, querying the current path (**\".\"**) may show different results.\n",
    "\n",
    "To get the **absolute path of your current directory**, you can use:"
   ]
  },
  {
   "cell_type": "code",
   "execution_count": 2,
   "id": "1d02ab33-a826-4e56-a18c-f9798a7ac298",
   "metadata": {},
   "outputs": [
    {
     "data": {
      "text/plain": [
       "'/home/jupyter/MyData/_ToCommunityData/OpenSees/TrainingMaterial/training-OpenSees-on-DesignSafe/Jupyter_Notebooks'"
      ]
     },
     "execution_count": 2,
     "metadata": {},
     "output_type": "execute_result"
    }
   ],
   "source": [
    "os.getcwd()"
   ]
  },
  {
   "cell_type": "code",
   "execution_count": 3,
   "id": "2aa91573-8cd1-4271-93f9-cc69328fb78d",
   "metadata": {},
   "outputs": [
    {
     "data": {
      "text/plain": [
       "'/home/jupyter/MyData/_ToCommunityData/OpenSees/TrainingMaterial/training-OpenSees-on-DesignSafe/Jupyter_Notebooks'"
      ]
     },
     "execution_count": 3,
     "metadata": {},
     "output_type": "execute_result"
    }
   ],
   "source": [
    "os.path.abspath('.')           # same result, more general"
   ]
  },
  {
   "cell_type": "markdown",
   "id": "3a5539fb-34ab-4dc9-be5e-433d4a7f7694",
   "metadata": {},
   "source": [
    "Both will typically give the same absolute path. In this notebook, we’ll change directories into each storage system (and a subfolder) and query **\".\"** to illustrate how paths differ across environments."
   ]
  },
  {
   "cell_type": "markdown",
   "id": "1797efee-345d-4409-92b8-951e8f46cc58",
   "metadata": {},
   "source": [
    "---\n",
    "## Creating Directories\n",
    "\n",
    "When working with file outputs or organizing your data, it’s common to need a specific directory. Rather than assuming it exists, your script can **check and create it if necessary**.\n",
    "\n",
    "Use **os.path.exists()** to check whether a directory is already present, and **os.makedirs()** to create it if it’s missing."
   ]
  },
  {
   "cell_type": "code",
   "execution_count": 4,
   "id": "a6a74c2a-b958-499d-9644-3a52c38e0cf3",
   "metadata": {},
   "outputs": [
    {
     "name": "stdout",
     "output_type": "stream",
     "text": [
      "Directory already exists: results/output_data\n"
     ]
    }
   ],
   "source": [
    "thisPath = 'results/output_data'\n",
    "\n",
    "if not os.path.exists(thisPath):\n",
    "    print(f\"Creating missing directory: {thisPath}\")\n",
    "    os.makedirs(thisPath)\n",
    "else:\n",
    "    print(f\"Directory already exists: {thisPath}\")"
   ]
  },
  {
   "cell_type": "markdown",
   "id": "d9a8de1d-a093-4a2e-a9c3-80b11416ba09",
   "metadata": {},
   "source": [
    "### Why use *os.makedirs()*?\n",
    "\n",
    "* It **creates intermediate directories** as needed (e.g., *a/b/c* even if *a* and *b* don’t exist yet).\n",
    "* It’s safe to use in automated workflows where directory structure might vary.\n",
    "* Use it **before writing files** to ensure your destination exists.\n",
    "\n",
    "> ✅ Tip: If you use Python 3.2 or newer, you can also add `exist_ok=True` to skip the existence check:"
   ]
  },
  {
   "cell_type": "code",
   "execution_count": 5,
   "id": "062a6c87-bd9f-4f69-8b95-ae87b2b94717",
   "metadata": {},
   "outputs": [],
   "source": [
    "thisPath = 'temporalxxx'\n",
    "os.makedirs(thisPath, exist_ok=True); "
   ]
  },
  {
   "cell_type": "markdown",
   "id": "a285c830-8b46-4744-9403-8458e4d2a471",
   "metadata": {},
   "source": [
    "This makes your script **more robust and portable**, especially in shared or multi-user environments like DesignSafe."
   ]
  },
  {
   "cell_type": "markdown",
   "id": "baab7d78-73f3-4a0b-bbe6-9110b5815f68",
   "metadata": {},
   "source": [
    "---\n",
    "## Deleting Files and Directories\n",
    "***deleting files and directories safely using Python***\n",
    "\n",
    "Sometimes you’ll want to **clean up old files**, remove temporary data, or ensure a directory is empty before writing new output. Python provides built-in tools for this, mostly through the *os* and *shutil* modules."
   ]
  },
  {
   "cell_type": "markdown",
   "id": "8d2182ff-a707-43d2-9944-489e12557c92",
   "metadata": {},
   "source": [
    "### Deleting a file"
   ]
  },
  {
   "cell_type": "code",
   "execution_count": 6,
   "id": "293492cb-07b4-4720-b52a-46a588f5115b",
   "metadata": {},
   "outputs": [
    {
     "name": "stdout",
     "output_type": "stream",
     "text": [
      "File not found: output/log.txt\n"
     ]
    }
   ],
   "source": [
    "file_path = 'output/log.txt'\n",
    "\n",
    "if os.path.exists(file_path):\n",
    "    os.remove(file_path)\n",
    "    print(f\"Deleted file: {file_path}\")\n",
    "else:\n",
    "    print(f\"File not found: {file_path}\")"
   ]
  },
  {
   "cell_type": "markdown",
   "id": "d79c5481-9bea-43d1-a94b-3982b1aab917",
   "metadata": {},
   "source": [
    "### Deleting an Empty Directory\n",
    "\n",
    "Use **os.rmdir()** to delete a directory **only if it's empty**:"
   ]
  },
  {
   "cell_type": "code",
   "execution_count": 7,
   "id": "6efe7d45-ca56-4fd3-aaae-16504a462a7a",
   "metadata": {},
   "outputs": [
    {
     "name": "stdout",
     "output_type": "stream",
     "text": [
      "Deleted empty directory: temporalxxx\n"
     ]
    }
   ],
   "source": [
    "thisPath = 'temporalxxx'\n",
    "if os.path.exists(thisPath):\n",
    "    try:\n",
    "        os.rmdir(thisPath)\n",
    "        print(f\"Deleted empty directory: {thisPath}\")\n",
    "    except OSError:\n",
    "        print(f\"Directory not empty: {thisPath}\")"
   ]
  },
  {
   "cell_type": "markdown",
   "id": "171eafe0-6b29-4a93-9f33-84d25bf37caa",
   "metadata": {},
   "source": [
    "### Deleting a Directory and All Its Contents\n",
    "\n",
    "To delete a directory **and everything inside it**, use **shutil.rmtree()**:"
   ]
  },
  {
   "cell_type": "code",
   "execution_count": 8,
   "id": "0bc94c04-12e7-4540-af5a-f3a25d1c958f",
   "metadata": {},
   "outputs": [
    {
     "name": "stdout",
     "output_type": "stream",
     "text": [
      "Directory not found: results/temp\n"
     ]
    }
   ],
   "source": [
    "import shutil\n",
    "\n",
    "dir_path = 'results/temp'\n",
    "\n",
    "if os.path.exists(dir_path):\n",
    "    shutil.rmtree(dir_path)\n",
    "    print(f\"Deleted directory and all contents: {dir_path}\")\n",
    "else:\n",
    "    print(f\"Directory not found: {dir_path}\")"
   ]
  },
  {
   "cell_type": "markdown",
   "id": "e6340924-25fd-42c9-b4aa-8ecbf689f780",
   "metadata": {},
   "source": [
    "> ⚠️ **Warning:** *shutil.rmtree()* is **not reversible**. Always double-check the path before using it to avoid deleting critical data.\n",
    "\n",
    "---\n",
    "\n",
    "This gives you full control over cleaning up files and directories in your workflow — whether you're preparing for a new simulation run or automating post-processing steps.\n"
   ]
  },
  {
   "cell_type": "markdown",
   "id": "30893b24-8e45-465f-a13f-74910ed2e568",
   "metadata": {},
   "source": [
    "## Why Use *shutil*?\n",
    "\n",
    "While **os** and **os.path** handle **basic file and path operations**, the *shutil*` module provides **higher-level utilities** for working with files and directories — especially when you need to:\n",
    "\n",
    "* **Copy** files or folders\n",
    "* **Delete entire directories** (recursively)\n",
    "* **Move or rename** large data structures\n",
    "\n",
    "It's a powerful tool for scripting workflows that manipulate lots of data, such as preparing input folders, archiving results, or cleaning up temporary files.\n",
    "\n",
    "---\n",
    "\n",
    "### Common *shutil* Functions\n",
    "\n",
    "| Task                             | Python Code                         | Description                                     |\n",
    "| -------------------------------- | ----------------------------------- | ----------------------------------------------- |\n",
    "| Copy a file                      | *shutil.copy('src.txt', 'dst.txt')* | Copies the contents and metadata of a file      |\n",
    "| Copy a directory (recursively)   | *shutil.copytree('src/', 'dst/')*   | Copies a full folder structure and contents     |\n",
    "| Move or rename a file/folder     | *shutil.move('old', 'new')*         | Moves or renames files or folders               |\n",
    "| Delete a directory (recursively) | *shutil.rmtree('folder')*           | Removes a directory and all its contents        |\n",
    "| Disk usage of a path             | *shutil.disk_usage('/')*            | Shows total, used, and free space at a location |\n",
    "| Create archive (zip/tar)         | *shutil.make_archive(...)*          | Builds a *.zip*, *.tar*, or *.gztar* archive    |\n",
    "\n",
    "---\n",
    "\n",
    "✅ **Note:** *shutil* is part of the Python Standard Library — no installation needed!\n"
   ]
  },
  {
   "cell_type": "markdown",
   "id": "fa0a7bfe-fd19-4742-86f2-267a777ff098",
   "metadata": {},
   "source": [
    "---\n",
    "## Changing Directories\n",
    "***Changing your working directory with os.chdir***\n",
    "\n",
    "Once you’ve found the path you want to work in, you can **change your current working directory** so that all relative operations happen there.  \n",
    "This is done using Python’s:"
   ]
  },
  {
   "cell_type": "code",
   "execution_count": 9,
   "id": "1a71f217-0b61-4f61-942b-e3d6cae95f79",
   "metadata": {},
   "outputs": [
    {
     "name": "stdout",
     "output_type": "stream",
     "text": [
      "current location /home/jupyter/MyData/_ToCommunityData/OpenSees/TrainingMaterial/training-OpenSees-on-DesignSafe/Jupyter_Notebooks\n",
      "new location /home/jupyter/MyData\n"
     ]
    }
   ],
   "source": [
    "print('current location',os.getcwd())\n",
    "\n",
    "thisPath = os.path.expanduser('~/MyData')\n",
    "os.chdir(thisPath)\n",
    "\n",
    "print('new location',os.getcwd())"
   ]
  },
  {
   "cell_type": "markdown",
   "id": "0be8e4b7-22cf-49b5-990a-7e2736547cc1",
   "metadata": {},
   "source": [
    "From this point on, any command using a relative path (like *\"./somefile.txt\"*) will look inside this directory."
   ]
  },
  {
   "cell_type": "markdown",
   "id": "36f0bfb0-04c1-476b-9a4d-5f6841cf3f1e",
   "metadata": {},
   "source": [
    "### Always check that the directory exists first\n",
    "\n",
    "Before changing directories, it’s good practice to make sure the path actually exists.\n",
    "Otherwise, *os.chdir* will throw a *FileNotFoundError*."
   ]
  },
  {
   "cell_type": "code",
   "execution_count": 10,
   "id": "29a685d1-a5b8-4844-9275-8f5e400d45ba",
   "metadata": {},
   "outputs": [
    {
     "name": "stdout",
     "output_type": "stream",
     "text": [
      "current location /home/jupyter/MyData\n",
      "Path does not exist: /home/jupyter/YourData\n",
      "new location /home/jupyter/MyData\n"
     ]
    }
   ],
   "source": [
    "print('current location',os.getcwd())\n",
    "\n",
    "thisPath = os.path.abspath(os.path.expanduser('~/YourData'))\n",
    "\n",
    "if os.path.exists(thisPath):\n",
    "    os.chdir(thisPath)\n",
    "    print(f\"Changed working directory to: {thisPath}\")\n",
    "    print(f\"Current working directory is now: {os.getcwd()}\")\n",
    "else:\n",
    "    print(f\"Path does not exist: {thisPath}\")\n",
    "    \n",
    "print('new location',os.getcwd())"
   ]
  },
  {
   "cell_type": "markdown",
   "id": "808ba98f-f75c-4cee-a781-6c002a6ad31f",
   "metadata": {},
   "source": [
    "### Why change directories?\n",
    "\n",
    "* Lets you keep your relative paths simple.\n",
    "* Avoids having to write out long absolute paths repeatedly.\n",
    "* Makes it easier to run scripts or load data, knowing they’ll look in this directory.\n",
    "\n",
    "### A few tips\n",
    "\n",
    "* Always print your new location with **os.getcwd()** after changing directories — this avoids confusion about where your notebook or script is “pointing.”\n",
    "* Remember this change is **per-process**: it only affects the current Python session.\n",
    "\n",
    "Using *os.chdir* along with *os.path.exists*, *os.getcwd*, and your robust path-building ensures your notebooks are **safe, portable, and clear across all DesignSafe platforms.**\n"
   ]
  },
  {
   "cell_type": "markdown",
   "id": "6aa7f233-4244-4a2d-9e87-a05d901f4ce3",
   "metadata": {},
   "source": [
    "This prints a simple list of names (both files and directories) found under *thisPath*."
   ]
  }
 ],
 "metadata": {
  "IMAGE_NAME": "taccsciapps/ds-nb-img:base-0.2.4",
  "UUID": "d1af4976-5d4c-11f0-b54e-52dd1a6c9df8",
  "kernelspec": {
   "display_name": "Python 3 (ipykernel)",
   "language": "python",
   "name": "python3"
  },
  "language_info": {
   "codemirror_mode": {
    "name": "ipython",
    "version": 3
   },
   "file_extension": ".py",
   "mimetype": "text/x-python",
   "name": "python",
   "nbconvert_exporter": "python",
   "pygments_lexer": "ipython3",
   "version": "3.12.11"
  }
 },
 "nbformat": 4,
 "nbformat_minor": 5
}