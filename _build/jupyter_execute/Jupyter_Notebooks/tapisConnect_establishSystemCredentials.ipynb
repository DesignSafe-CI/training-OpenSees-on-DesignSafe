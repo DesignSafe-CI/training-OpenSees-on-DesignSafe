{
 "cells": [
  {
   "cell_type": "markdown",
   "id": "78c31285-3cf2-42ce-bca3-04f64da1b2c9",
   "metadata": {},
   "source": [
    "<a class=\"reference external\" \n",
    "    href=\"https://jupyter.designsafe-ci.org/hub/user-redirect/lab/tree/CommunityData/OpenSees/TrainingMaterial/training-OpenSees-on-DesignSafe/Jupyter_Notebooks/tapisConnect_establishSystemCredentials.ipynb\" target=\"_blank\">\n",
    "<img alt=\"Try on DesignSafe\" src=\"https://raw.githubusercontent.com/DesignSafe-Training/pinn/main/DesignSafe-Badge.svg\" /></a>"
   ]
  },
  {
   "cell_type": "markdown",
   "id": "7c029e44-0f20-48a7-98e6-9d132c242e76",
   "metadata": {},
   "source": [
    "# Establish TMS Credentials 📒\n",
    "\n",
    "by Silvia Mazzoni, DesignSafe, 2025\n",
    "\n",
    "Before you can submit jobs via Tapis, you need to establish your TMS credentials on the execution system you plan to submit to.<br>\n",
    "This needs to be done only once per \"execution system\", such as stampede3, per account.\n",
    "\n",
    "TMS = Trust Management System: https://tms-documentation.readthedocs.io/en/latest/\n",
    "\n",
    "## What is TMS?\n",
    "TMS is a multi-tenant web application exposing a REST API to manage SSH keys, client applications, user delegations, user/MFA authentication, hosts, and user/host account mappings. TMS also has a modules that run on hosts, such as High Performance Computing (HPC) login nodes, VMs or IoT devices.\n",
    "\n",
    "## Set up User Credentials\n",
    "\n",
    "The `tapis.systems.checkUserCredential` function in the **Tapis v3 Python SDK (*tapipy*)** is used to check whether the **authenticated user has valid credentials on a given Tapis system**. <br>\n",
    "Specifically, it answers the question: \"**Can this user run jobs or access files on this system (e.g., a cluster or storage system)?**\"\n",
    "\n",
    "### tapis.systems.checkUserCredential\n",
    "    \n",
    "* **Usage**\n",
    "    \n",
    "    ```python\n",
    "    t.systems.checkUserCredential(systemId='your-system-id')\n",
    "    ```\n",
    "\n",
    "* **Parameters**\n",
    "\n",
    "    `systemId` (string): The ID of the Tapis system you want to check (e.g., a compute system like `stampede3.tacc.utexas.edu` or a storage system).\n",
    "\n",
    "* **Returns**\n",
    "\n",
    "    A response indicating **whether valid credentials are available** (usually a boolean or success message, depending on how the SDK formats it).\n",
    "\n",
    "* **Typical Use Case**\n",
    "\n",
    "    Before submitting a job or transferring files, you might want to verify that the Tapis user has valid SSH or access credentials installed for the remote system. For example:\n",
    "    \n",
    "    ```python\n",
    "    resp = t.systems.checkUserCredential(systemId='stampede3.tacc.utexas.edu')\n",
    "    print(resp.result)  # Will be True if credentials exist, False otherwise\n",
    "    ```\n",
    "    \n",
    "    If `False`, the user needs to:\n",
    "    \n",
    "    * Add credentials (e.g., via `systems.createUserCredential`)\n",
    "    * Or re-authenticate if the current credentials expired\n",
    "\n",
    "* Learn more: [Tapis Documentation -- Systems](https://tapis.readthedocs.io/en/latest/technical/systems.html)\n",
    "\n"
   ]
  },
  {
   "cell_type": "code",
   "execution_count": 1,
   "id": "1a74548f-4e7c-4a7e-ab5f-75085c2dde0e",
   "metadata": {
    "tags": [
     "remove-input"
    ]
   },
   "outputs": [],
   "source": [
    "# Local Utilities Library\n",
    "# you can remove the logic associated with the local path\n",
    "import sys,os\n",
    "relativePath = '../../OpsUtils'\n",
    "if os.path.exists(relativePath):\n",
    "    PathOpsUtils = os.path.expanduser(relativePath)\n",
    "else:\n",
    "    PathOpsUtils = os.path.expanduser('~/CommunityData/OpenSees/TrainingMaterial/training-OpenSees-on-DesignSafe/OpsUtils')\n",
    "if not PathOpsUtils in sys.path: sys.path.append(PathOpsUtils)\n",
    "from OpsUtils import OpsUtils"
   ]
  },
  {
   "cell_type": "markdown",
   "id": "90e1224a-f98d-4d3c-944e-2c7660800b33",
   "metadata": {},
   "source": [
    "## User Input"
   ]
  },
  {
   "cell_type": "code",
   "execution_count": 2,
   "id": "d4dec3d4-f505-4dd5-8c6c-21f8c9f60d7c",
   "metadata": {},
   "outputs": [],
   "source": [
    "username = 'silvia'\n",
    "system_id = 'stampede3'"
   ]
  },
  {
   "cell_type": "markdown",
   "id": "795fdcd8-bac6-4c31-a773-ea6452192a3f",
   "metadata": {},
   "source": [
    "## Connect to Tapis"
   ]
  },
  {
   "cell_type": "code",
   "execution_count": 3,
   "id": "ca91536f-11a4-4367-a602-8ac20cc598a8",
   "metadata": {},
   "outputs": [
    {
     "name": "stdout",
     "output_type": "stream",
     "text": [
      " -- Checking Tapis token --\n",
      " Token loaded from file. Token is still valid!\n",
      " Token expires at: 2025-08-20T05:35:08+00:00\n",
      " Token expires in: 1:18:34.001897\n",
      "-- LOG IN SUCCESSFUL! --\n"
     ]
    }
   ],
   "source": [
    "t=OpsUtils.connect_tapis()"
   ]
  },
  {
   "cell_type": "markdown",
   "id": "2fbef8c2-48f3-4905-a9be-1679356cd6a1",
   "metadata": {},
   "source": [
    "### Remove your Existing TMS Credentials *(Optional)*\n",
    "Do this only **if you must!**<br>\n",
    "So it should be commented-out.\n",
    "A simple python function to do this has been saved in DesignSafe Community."
   ]
  },
  {
   "cell_type": "code",
   "execution_count": 4,
   "id": "ba2f3e4b-f20f-4636-be3e-8fff02c54cff",
   "metadata": {},
   "outputs": [],
   "source": [
    "# OpsUtils.revoke_tms_credentials(t,system_id,username)"
   ]
  },
  {
   "cell_type": "markdown",
   "id": "b86cf3da-0709-47ca-94c8-19b38ce8dcc2",
   "metadata": {},
   "source": [
    "## Establish TMS Credentials\n",
    "The python function checks whether the user has TMS credentials in the system, if not, it creates new ones."
   ]
  },
  {
   "cell_type": "code",
   "execution_count": 5,
   "id": "c2ed3285-65f8-4dfe-9ea7-008e4b9b7965",
   "metadata": {
    "tags": [
     "remove-input"
    ]
   },
   "outputs": [
    {
     "data": {
      "text/html": [
       "\n",
       "                      <details style=\"margin-top:1em; font-family:monospace; background:white; \n",
       "                          padding:0.25em; border-radius:6px; border:1px solid #ccc;\">\n",
       "                        <summary style=\"cursor:pointer; font-weight:bold; background:white; \n",
       "                          padding:0.3em 0.5em; border-radius:4px;\">establish_tms_credentials.py</summary>\n",
       "\n",
       "                        <button onclick=\"navigator.clipboard.writeText(document.getElementById('d1b8d18591cd450a836da2cda613b3ed').innerText)\">\n",
       "                          📋 Copy\n",
       "                        </button>\n",
       "                        <pre id=\"d1b8d18591cd450a836da2cda613b3ed\" style=\"white-space:pre-wrap; margin:0.25em 0 0 0; \n",
       "                            background:#d4fbff; padding:.3em; border-radius:5px;\">\n",
       "<b># /home/jupyter/CommunityData/OpenSees/TrainingMaterial/training-OpenSees-on-DesignSafe/OpsUtils/OpsUtils/Tapis/establish_tms_credentials.py</b>\n",
       "def establish_tms_credentials(tapis, system_id: str, username: str):\n",
       "    \"\"\"\n",
       "    Ensure that a user has valid TMS (Tapis Managed System) credentials on a given system.\n",
       "\n",
       "    This function checks if the specified user already has credentials (such as TMS_KEYS) \n",
       "    registered on the specified Tapis system. If the credentials are missing, it \n",
       "    automatically establishes them (for systems that use TMS_KEYS authentication).\n",
       "\n",
       "    This is essential for enabling file operations, data transfers, and job submissions\n",
       "    that require user-level credentials on systems like DesignSafe storage.\n",
       "\n",
       "    Parameters\n",
       "    ----------\n",
       "    tapis : Tapis\n",
       "        An authenticated Tapis client (from connect_tapis()).\n",
       "\n",
       "    system_id : str\n",
       "        The ID of the Tapis-registered system (e.g. 'designsafe.storage.default').\n",
       "\n",
       "    username : str\n",
       "        The Tapis username for which to check or establish credentials.\n",
       "\n",
       "    Returns\n",
       "    -------\n",
       "    None\n",
       "        Prints status messages indicating whether credentials were found or established.\n",
       "\n",
       "    Example\n",
       "    -------\n",
       "    establish_tms_credentials(\n",
       "        tapis, \n",
       "        system_id='designsafe.storage.default', \n",
       "        username='smazzoni'\n",
       "    )\n",
       "    \"\"\"\n",
       "    # Silvia Mazzoni, 2025\n",
       "    print(\" -- TMS User Credentials --\")\n",
       "    \"\"\"\n",
       "    Check if user has system credentials on system.\n",
       "    If not, it will set them.\n",
       "    \"\"\"\n",
       "    from tapipy.errors import UnauthorizedError\n",
       "    print('username:',username)\n",
       "    print('system_id:',system_id)\n",
       "    try:\n",
       "        tapis.systems.checkUserCredential(systemId=system_id, userName=username)\n",
       "        print(f\"Found {username}'s system credentials.\")\n",
       "        return\n",
       "    except UnauthorizedError:\n",
       "        print(f\"User {username} is missing system credentials.\")\n",
       "        print(f\"Establishing new credentials\")\n",
       "        system_def = tapis.systems.getSystem(systemId=system_id)\n",
       "        if system_def.get(\"defaultAuthnMethod\") == \"TMS_KEYS\":\n",
       "            tapis.systems.createUserCredential(\n",
       "                systemId=system_id,\n",
       "                userName=username,\n",
       "                createTmsKeys=True,\n",
       "            )\n",
       "        print(f\"Established {username}'s system credentials.\")\n",
       "    print('-- CREDENTIALS ESTABLISHED SUCCESSFULLY!!! --')\n",
       "</pre>\n",
       "                      </details>\n",
       "                    "
      ],
      "text/plain": [
       "<IPython.core.display.HTML object>"
      ]
     },
     "metadata": {},
     "output_type": "display_data"
    }
   ],
   "source": [
    "OpsUtils.show_text_file_in_accordion(PathOpsUtils,['establish_tms_credentials.py'])"
   ]
  },
  {
   "cell_type": "code",
   "execution_count": 6,
   "id": "802d9289-d507-4d62-8faf-62ab823c7afd",
   "metadata": {},
   "outputs": [
    {
     "name": "stdout",
     "output_type": "stream",
     "text": [
      " -- TMS User Credentials --\n",
      "username: silvia\n",
      "system_id: stampede3\n",
      "User silvia is missing system credentials.\n",
      "Establishing new credentials\n",
      "Established silvia's system credentials.\n",
      "-- CREDENTIALS ESTABLISHED SUCCESSFULLY!!! --\n"
     ]
    }
   ],
   "source": [
    "OpsUtils.establish_tms_credentials(t,system_id,username)"
   ]
  }
 ],
 "metadata": {
  "IMAGE_NAME": "taccsciapps/ds-nb-img:base-0.2.3",
  "UUID": "047a5f3e-3c24-11f0-b0bc-9efc833c31a8",
  "kernelspec": {
   "display_name": "Python 3 (ipykernel)",
   "language": "python",
   "name": "python3"
  },
  "language_info": {
   "codemirror_mode": {
    "name": "ipython",
    "version": 3
   },
   "file_extension": ".py",
   "mimetype": "text/x-python",
   "name": "python",
   "nbconvert_exporter": "python",
   "pygments_lexer": "ipython3",
   "version": "3.12.11"
  }
 },
 "nbformat": 4,
 "nbformat_minor": 5
}