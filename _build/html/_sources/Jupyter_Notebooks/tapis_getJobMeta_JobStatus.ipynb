{
 "cells": [
  {
   "cell_type": "markdown",
   "metadata": {},
   "source": [
    "<a class=\"reference external\" \n",
    "    href=\"https://jupyter.designsafe-ci.org/hub/user-redirect/lab/tree/CommunityData/OpenSees/TrainingMaterial/training-OpenSees-on-DesignSafe/Jupyter_Notebooks/tapis_getJobMeta_JobStatus.ipynb\" \n",
    "    target=\"_blank\"\n",
    "    >\n",
    "<img alt=\"Try on DesignSafe\" src=\"https://raw.githubusercontent.com/DesignSafe-Training/pinn/main/DesignSafe-Badge.svg\" /></a>"
   ]
  },
  {
   "cell_type": "markdown",
   "metadata": {},
   "source": [
    "# Job Status 📒\n",
    "***Check if a job is still running or completed.***\n",
    "\n",
    "by Silvia Mazzoni, DesignSafe, 2025\n",
    "\n",
    "The  `getJobStatus` Tapis command is your **direct way to check where a Tapis job is in its lifecycle** — whether it’s still queued, running, finished, or failed."
   ]
  },
  {
   "cell_type": "markdown",
   "metadata": {},
   "source": [
    "###  Why use `getJobStatus(uuid)`?\n",
    "\n",
    "This is a **very simple, lightweight Tapis call** that returns only the *current state* of your job.\n",
    "You might use it when:\n",
    "\n",
    "* You’ve just submitted a job and want to check **programmatically** if it’s still waiting in the queue or actively running.\n",
    "* Your job is marked **FINISHED**, and now you want to trigger a script to move output data or start post-processing.\n",
    "* Your job shows a **FAILED** status — you can then call `getJobHistory()` or examine output logs to debug what went wrong.\n",
    "\n",
    "While you can always view job statuses on the **DesignSafe Job Status web page**, using `getJobStatus` in Python or a Jupyter notebook lets you:\n",
    "\n",
    "* Build **automated checks or dashboards**,\n",
    "* Loop until a job finishes before downloading outputs,\n",
    "* Or trigger follow-up workflows without manual intervention.\n",
    "\n",
    "---\n",
    "\n",
    "### Typical status values\n",
    "\n",
    "Depending on your compute environment and the app you’ve submitted, `getJobStatus` might return:\n",
    "\n",
    "| **Status**       | **What it means**                             |\n",
    "| ---------------- | --------------------------------------------- |\n",
    "| `PENDING`        | Waiting to be scheduled in the queue.         |\n",
    "| `STAGING_INPUTS` | Preparing input data.                         |\n",
    "| `RUNNING`        | Actively executing on the compute nodes.      |\n",
    "| `ARCHIVING`      | Copying output data to your archive location. |\n",
    "| `FINISHED`       | Successfully completed.                       |\n",
    "| `FAILED`         | Job did not complete successfully.            |\n",
    "| `KILLED`         | Job was manually terminated.                  |\n",
    "\n",
    "---\n",
    "\n",
    "### Example usage\n",
    "\n",
    "```python\n",
    "status = t.jobs.getJobStatus(jobUuid)\n",
    "print(\"Current job status:\", status.status)\n",
    "```\n",
    "\n",
    "This simply prints something like:\n",
    "\n",
    "```\n",
    "Current job status: RUNNING\n",
    "```\n",
    "\n",
    "---\n",
    "\n",
    "**In short:**\n",
    "`getJobStatus` gives you a **snapshot of the job’s current state**, which is essential for building smart scripts that monitor or chain together different compute steps.\n"
   ]
  },
  {
   "cell_type": "code",
   "execution_count": 1,
   "metadata": {
    "tags": [
     "remove-input"
    ]
   },
   "outputs": [
    {
     "name": "stdout",
     "output_type": "stream",
     "text": [
      "Using local utilities library\n"
     ]
    }
   ],
   "source": [
    "# Local Utilities Library\n",
    "# you can remove the logic associated with the local path\n",
    "import sys,os\n",
    "relativePath = '../OpsUtils'\n",
    "if os.path.exists(relativePath):\n",
    "    print(\"Using local utilities library\")\n",
    "    PathOpsUtils = os.path.expanduser(relativePath)\n",
    "else:\n",
    "    PathOpsUtils = os.path.expanduser('~/CommunityData/OpenSees/TrainingMaterial/training-OpenSees-on-DesignSafe/OpsUtils')\n",
    "if not PathOpsUtils in sys.path: sys.path.append(PathOpsUtils)\n",
    "from OpsUtils import OpsUtils"
   ]
  },
  {
   "cell_type": "markdown",
   "metadata": {},
   "source": [
    "## Connect to Tapis\n",
    "\n",
    "Yes, you need to first connect to Tapis, this authenticates you"
   ]
  },
  {
   "cell_type": "code",
   "execution_count": 2,
   "metadata": {},
   "outputs": [
    {
     "name": "stdout",
     "output_type": "stream",
     "text": [
      " -- Checking tapis Token --\n",
      " Time now: 2025-08-05 18:39:57.803285+00:00\n",
      " Token loaded from file.\n",
      " Token is still valid!\n",
      " Token expires At: 2025-08-05 20:15:49+00:00\n",
      " Token expires In  1:35:51.196715  hh:mm:sec\n",
      "-- LOG IN SUCCESSFUL!!! --\n"
     ]
    }
   ],
   "source": [
    "t=OpsUtils.connect_tapis()"
   ]
  },
  {
   "cell_type": "markdown",
   "metadata": {},
   "source": [
    "---\n",
    "## Get Job Status from Tapis\n",
    "\n",
    "**Purpose:** Get the current status only (lightweight)."
   ]
  },
  {
   "cell_type": "markdown",
   "metadata": {},
   "source": [
    "### User Input -- job id"
   ]
  },
  {
   "cell_type": "code",
   "execution_count": 3,
   "metadata": {},
   "outputs": [],
   "source": [
    "jobUuid = '4dfa35e1-15cd-48fd-a090-f348544dee1f-007'"
   ]
  },
  {
   "cell_type": "code",
   "execution_count": 4,
   "metadata": {},
   "outputs": [
    {
     "name": "stdout",
     "output_type": "stream",
     "text": [
      "status: FINISHED\n"
     ]
    }
   ],
   "source": [
    "JobStatus = t.jobs.getJobStatus(jobUuid=jobUuid)\n",
    "print('status:',JobStatus.status)\n",
    "if hasattr(JobStatus, \"message\"):\n",
    "    print('message:',JobStatus.message)"
   ]
  },
  {
   "cell_type": "markdown",
   "metadata": {},
   "source": [
    "## Python function"
   ]
  },
  {
   "cell_type": "code",
   "execution_count": 5,
   "metadata": {
    "tags": [
     "remove-input"
    ]
   },
   "outputs": [
    {
     "data": {
      "text/html": [
       "\n",
       "                      <details style=\"margin-top:1em; font-family:monospace; background:white; \n",
       "                          padding:0.25em; border-radius:6px; border:1px solid #ccc;\">\n",
       "                        <summary style=\"cursor:pointer; font-weight:bold; background:white; \n",
       "                          padding:0.3em 0.5em; border-radius:4px;\">get_tapis_job_status.py</summary>\n",
       "\n",
       "                        <button onclick=\"navigator.clipboard.writeText(document.getElementById('99022af2ffa14289bfeb6a1f69ef6835').innerText)\">\n",
       "                          📋 Copy\n",
       "                        </button>\n",
       "                        <pre id=\"99022af2ffa14289bfeb6a1f69ef6835\" style=\"white-space:pre-wrap; margin:0.25em 0 0 0; \n",
       "                            background:#d4fbff; padding:.3em; border-radius:5px;\">\n",
       "<b># ../OpsUtils/OpsUtils/Tapis/get_tapis_job_status.py</b>\n",
       "def get_tapis_job_status(t, jobUuid, print_all=True,return_values=False):\n",
       "    # Silvia Mazzoni, 2025\n",
       "    from OpsUtils import OpsUtils\n",
       "    JobStatus = t.jobs.getJobStatus(jobUuid=jobUuid)\n",
       "\n",
       "    if print_all:\n",
       "        import ipywidgets as widgets\n",
       "        from IPython.display import display, clear_output\n",
       "        this_out = widgets.Output()\n",
       "        this_accordion = widgets.Accordion(children=[this_out])\n",
       "        this_accordion.set_title(0, f'Job STATUS   ({jobUuid})')\n",
       "        this_accordion.selected_index = 0\n",
       "        display(this_accordion)\n",
       "\n",
       "        with this_out:\n",
       "            print('+' * 30)\n",
       "            print(f'++++++ Job Status ++++++')\n",
       "            print('+' * 30)\n",
       "            print(f'jobUuid: {jobUuid}')\n",
       "            print(f'Job Status: {JobStatus}')\n",
       "            print('+' * 30)\n",
       "            \n",
       "            if hasattr(JobStatus, \"message\"):\n",
       "                print('message:',JobStatus.message)\n",
       "                print('+' * 30)\n",
       "\n",
       "            OpsUtils.get_tapis_job_history_data(t, jobUuid,\n",
       "                                   print_out=False,\n",
       "                                   return_data=False,\n",
       "                                  get_job_error_message = True)\n",
       "\n",
       "    if return_values:\n",
       "        return JobStatus\n",
       "    else:\n",
       "        return\n",
       "</pre>\n",
       "                      </details>\n",
       "                    "
      ],
      "text/plain": [
       "<IPython.core.display.HTML object>"
      ]
     },
     "metadata": {},
     "output_type": "display_data"
    }
   ],
   "source": [
    "OpsUtils.show_text_file_in_accordion(PathOpsUtils,'get_tapis_job_status.py')"
   ]
  },
  {
   "cell_type": "markdown",
   "metadata": {},
   "source": [
    "## Finished Job"
   ]
  },
  {
   "cell_type": "code",
   "execution_count": 6,
   "metadata": {},
   "outputs": [
    {
     "data": {
      "application/vnd.jupyter.widget-view+json": {
       "model_id": "1226ca58e16c457891ca41d4aaa8dbea",
       "version_major": 2,
       "version_minor": 0
      },
      "text/plain": [
       "Accordion(children=(Output(),), selected_index=0, titles=('Job STATUS   (4dfa35e1-15cd-48fd-a090-f348544dee1f-…"
      ]
     },
     "metadata": {},
     "output_type": "display_data"
    }
   ],
   "source": [
    "jobUuid = '4dfa35e1-15cd-48fd-a090-f348544dee1f-007'\n",
    "JobStatus = OpsUtils.get_tapis_job_status(t,jobUuid)"
   ]
  },
  {
   "cell_type": "markdown",
   "metadata": {},
   "source": [
    "## Failed Job"
   ]
  },
  {
   "cell_type": "code",
   "execution_count": 7,
   "metadata": {},
   "outputs": [
    {
     "data": {
      "application/vnd.jupyter.widget-view+json": {
       "model_id": "bed47e1ff20a47aba74e43c24affcd02",
       "version_major": 2,
       "version_minor": 0
      },
      "text/plain": [
       "Accordion(children=(Output(),), selected_index=0, titles=('Job STATUS   (b35ab3c2-0436-4c98-9066-367b9db67f9c-…"
      ]
     },
     "metadata": {},
     "output_type": "display_data"
    }
   ],
   "source": [
    "jobUuid = 'b35ab3c2-0436-4c98-9066-367b9db67f9c-007' \n",
    "JobStatus = OpsUtils.get_tapis_job_status(t,jobUuid)"
   ]
  }
 ],
 "metadata": {
  "IMAGE_NAME": "taccsciapps/ds-nb-img:base-0.2.3",
  "UUID": "73e0880d-9b87-11ec-9c1c-13579dd95994",
  "celltoolbar": "Raw Cell Format",
  "kernelspec": {
   "display_name": "Python 3 (ipykernel)",
   "language": "python",
   "name": "python3"
  },
  "language_info": {
   "codemirror_mode": {
    "name": "ipython",
    "version": 3
   },
   "file_extension": ".py",
   "mimetype": "text/x-python",
   "name": "python",
   "nbconvert_exporter": "python",
   "pygments_lexer": "ipython3",
   "version": "3.12.11"
  }
 },
 "nbformat": 4,
 "nbformat_minor": 4
}
