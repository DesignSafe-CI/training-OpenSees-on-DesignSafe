{
 "cells": [
  {
   "cell_type": "markdown",
   "metadata": {},
   "source": [
    "<a class=\"reference external\" \n",
    "    href=\"https://jupyter.designsafe-ci.org/hub/user-redirect/lab/tree/CommunityData/OpenSees/TrainingMaterial/training-OpenSees-on-DesignSafe/Jupyter_Notebooks/tapis_queryJobs_InspectJob.ipynb\" \n",
    "    target=\"_blank\"\n",
    "    >\n",
    "<img alt=\"Try on DesignSafe\" src=\"https://raw.githubusercontent.com/DesignSafe-Training/pinn/main/DesignSafe-Badge.svg\" /></a>"
   ]
  },
  {
   "cell_type": "markdown",
   "metadata": {},
   "source": [
    "# Step 2: Inspect Job 📒\n",
    "***A Deep Dive into a Specific Job***\n",
    "\n",
    "by Silvia Mazzoni, DesignSafe, 2025\n"
   ]
  },
  {
   "cell_type": "code",
   "execution_count": 1,
   "metadata": {
    "tags": [
     "remove-input"
    ]
   },
   "outputs": [
    {
     "name": "stdout",
     "output_type": "stream",
     "text": [
      "Using local utilities library\n"
     ]
    }
   ],
   "source": [
    "# Local Utilities Library\n",
    "# you can remove the logic associated with the local path\n",
    "import sys,os\n",
    "relativePath = '../OpsUtils'\n",
    "if os.path.exists(relativePath):\n",
    "    print(\"Using local utilities library\")\n",
    "    PathOpsUtils = os.path.expanduser(relativePath)\n",
    "else:\n",
    "    PathOpsUtils = os.path.expanduser('~/CommunityData/OpenSees/TrainingMaterial/training-OpenSees-on-DesignSafe/OpsUtils')\n",
    "if not PathOpsUtils in sys.path: sys.path.append(PathOpsUtils)\n",
    "from OpsUtils import OpsUtils\n",
    "import json"
   ]
  },
  {
   "cell_type": "code",
   "execution_count": 2,
   "metadata": {},
   "outputs": [
    {
     "name": "stdout",
     "output_type": "stream",
     "text": [
      " -- Checking Tapis token --\n",
      " Token loaded from file. Token is still valid!\n",
      " Token expires at: 2025-08-20T22:46:16+00:00\n",
      " Token expires in: 1:56:42.210230\n",
      "-- LOG IN SUCCESSFUL! --\n"
     ]
    }
   ],
   "source": [
    "t=OpsUtils.connect_tapis()"
   ]
  },
  {
   "cell_type": "markdown",
   "metadata": {},
   "source": [
    "### Set Job ID\n",
    "\n",
    "Use the id of a completed job you have already run. You cannot use the id of another user's job.\n"
   ]
  },
  {
   "cell_type": "code",
   "execution_count": 3,
   "metadata": {},
   "outputs": [],
   "source": [
    "jobUuid = '4dfa35e1-15cd-48fd-a090-f348544dee1f-007'"
   ]
  },
  {
   "cell_type": "markdown",
   "metadata": {},
   "source": [
    "### ______________________________________________________________________________\n",
    "Once you’ve identified a job of interest from your list, the next step is to **drill down into its details**. Tapis provides several functions for this, depending on how much information you need:\n",
    "\n",
    "* **getJob(job_id)** — returns the full configuration and metadata.\n",
    "* **getJobStatus(job_id)** — retrieves only the current status (lightweight polling).\n",
    "* **getJobHistory(job_id)** — shows a timestamped lifecycle of state changes.\n",
    "\n",
    "These functions allow you to **trace how a job was submitted, how it ran, and how it ended**, making them essential for debugging, auditing, and performance tuning.\n"
   ]
  },
  {
   "cell_type": "markdown",
   "metadata": {},
   "source": [
    "## *getJob(job_id)*\n",
    "\n",
    "### Purpose:\n",
    "Retrieve **all available metadata and configuration** for a specific job.\n",
    "\n",
    "### Example:"
   ]
  },
  {
   "cell_type": "code",
   "execution_count": 4,
   "metadata": {},
   "outputs": [
    {
     "name": "stdout",
     "output_type": "stream",
     "text": [
      "\n",
      "_fileInputsSpec: None\n",
      "_parameterSetModel: None\n",
      "appId: opensees-mp-s3\n",
      "appVersion: latest\n",
      "archiveCorrelationId: 2f7852d4-9c67-470d-aef0-64d1341f1f5f\n",
      "archiveOnAppError: True\n",
      "archiveSystemDir: /silvia/tapis-jobs-archive/2025-05-07Z/opensees-mp-s3-latest_2025-05-07T22:13:08-4dfa35e1-15cd-48fd-a090-f348544dee1f-007\n",
      "archiveSystemId: designsafe.storage.default\n",
      "archiveTransactionId: ad89111a-222a-4e71-9fd2-4691f15cafed\n",
      "blockedCount: 0\n",
      "cmdPrefix: None\n",
      "condition: NORMAL_COMPLETION\n",
      "coresPerNode: 48\n",
      "created: 2025-05-07T22:15:14.785522Z\n",
      "createdby: silvia\n",
      "createdbyTenant: designsafe\n",
      "description: opensees-mp-s3-latest submitted by silvia@designsafe\n",
      "dtnInputCorrelationId: None\n",
      "dtnInputTransactionId: None\n",
      "dtnOutputCorrelationId: None\n",
      "dtnOutputTransactionId: None\n",
      "dtnSystemId: None\n",
      "dtnSystemInputDir: None\n",
      "dtnSystemOutputDir: None\n",
      "dynamicExecSystem: False\n",
      "ended: 2025-05-07T22:20:52.718025Z\n",
      "execSystemConstraints: None\n",
      "execSystemExecDir: /scratch/05072/silvia/tapis/4dfa35e1-15cd-48fd-a090-f348544dee1f-007\n",
      "execSystemId: stampede3\n",
      "execSystemInputDir: /scratch/05072/silvia/tapis/4dfa35e1-15cd-48fd-a090-f348544dee1f-007\n",
      "execSystemLogicalQueue: skx-dev\n",
      "execSystemOutputDir: /scratch/05072/silvia/tapis/4dfa35e1-15cd-48fd-a090-f348544dee1f-007\n",
      "fileInputs: [{\"name\": \"Input Directory\", \"notes\": \"{\\\"selectionMode\\\":\\\"directory\\\"}\", \"envKey\": \"inputDirectory\", \"optional\": false, \"sourceUrl\": \"tapis://designsafe.storage.default/silvia/OpenSees/repos/training-OpenSees-on-DesignSafe/_static/OpenSeesScripts\", \"targetPath\": \"inputDirectory\", \"description\": \"Input directory that includes the tcl script as well as any other required files. Example input is in tapis://designsafe.storage.community/app_examples/opensees/OpenSeesMP\", \"autoMountLocal\": true, \"srcSharedAppCtx\": \"\", \"destSharedAppCtx\": \"wma_prtl\"}]\n",
      "id: 42126\n",
      "inputCorrelationId: 6a36ee1d-2b05-4380-a221-e27dd8bd66b0\n",
      "inputTransactionId: 2510a293-a91d-481c-baf3-4f89a9ed998a\n",
      "isMpi: False\n",
      "jobType: BATCH\n",
      "lastMessage: Setting job status to FINISHED.\n",
      "lastUpdated: 2025-05-07T22:20:52.718025Z\n",
      "maxMinutes: 100\n",
      "memoryMB: 192000\n",
      "mpiCmd: None\n",
      "name: opensees-mp-s3-latest_2025-05-07T22:13:08\n",
      "nodeCount: 2\n",
      "notes: {\"icon\": \"OpenSees\", \"label\": \"OpenSeesMP\", \"helpUrl\": \"https://www.designsafe-ci.org/user-guide/tools/simulation/#opensees-user-guide\", \"category\": \"Simulation\", \"isInteractive\": false, \"hideNodeCountAndCoresPerNode\": false}\n",
      "owner: silvia\n",
      "parameterSet: {\"appArgs\": [{\"arg\": \"OpenSeesMP\", \"name\": \"mainProgram\", \"notes\": \"{\\\"isHidden\\\":true}\", \"include\": null, \"description\": null}, {\"arg\": \"Ex1many_end.tcl.Canti2D.Push.mp.tcl\", \"name\": \"Main Script\", \"notes\": \"{\\\"inputType\\\":\\\"fileInput\\\"}\", \"include\": null, \"description\": \"The filename only of the OpenSees TCL script to execute. This file should reside in the Input Directory specified. To use with test input, use 'freeFieldEffective.tcl'\"}], \"logConfig\": {\"stderrFilename\": \"tapisjob.out\", \"stdoutFilename\": \"tapisjob.out\"}, \"envVariables\": [{\"key\": \"_tapisAppId\", \"notes\": null, \"value\": \"opensees-mp-s3\", \"include\": null, \"description\": null}, {\"key\": \"_tapisAppVersion\", \"notes\": null, \"value\": \"latest\", \"include\": null, \"description\": null}, {\"key\": \"_tapisArchiveOnAppError\", \"notes\": null, \"value\": \"true\", \"include\": null, \"description\": null}, {\"key\": \"_tapisArchiveSystemDir\", \"notes\": null, \"value\": \"/silvia/tapis-jobs-archive/2025-05-07Z/opensees-mp-s3-latest_2025-05-07T22:13:08-4dfa35e1-15cd-48fd-a090-f348544dee1f-007\", \"include\": null, \"description\": null}, {\"key\": \"_tapisArchiveSystemId\", \"notes\": null, \"value\": \"designsafe.storage.default\", \"include\": null, \"description\": null}, {\"key\": \"_tapisCoresPerNode\", \"notes\": null, \"value\": \"48\", \"include\": null, \"description\": null}, {\"key\": \"_tapisDynamicExecSystem\", \"notes\": null, \"value\": \"false\", \"include\": null, \"description\": null}, {\"key\": \"_tapisEffectiveUserId\", \"notes\": null, \"value\": \"silvia\", \"include\": null, \"description\": null}, {\"key\": \"_tapisExecSystemExecDir\", \"notes\": null, \"value\": \"/scratch/05072/silvia/tapis/4dfa35e1-15cd-48fd-a090-f348544dee1f-007\", \"include\": null, \"description\": null}, {\"key\": \"_tapisExecSystemHPCQueue\", \"notes\": null, \"value\": \"skx-dev\", \"include\": null, \"description\": null}, {\"key\": \"_tapisExecSystemId\", \"notes\": null, \"value\": \"stampede3\", \"include\": null, \"description\": null}, {\"key\": \"_tapisExecSystemInputDir\", \"notes\": null, \"value\": \"/scratch/05072/silvia/tapis/4dfa35e1-15cd-48fd-a090-f348544dee1f-007\", \"include\": null, \"description\": null}, {\"key\": \"_tapisExecSystemLogicalQueue\", \"notes\": null, \"value\": \"skx-dev\", \"include\": null, \"description\": null}, {\"key\": \"_tapisExecSystemOutputDir\", \"notes\": null, \"value\": \"/scratch/05072/silvia/tapis/4dfa35e1-15cd-48fd-a090-f348544dee1f-007\", \"include\": null, \"description\": null}, {\"key\": \"_tapisJobCreateDate\", \"notes\": null, \"value\": \"2025-05-07Z\", \"include\": null, \"description\": null}, {\"key\": \"_tapisJobCreateTime\", \"notes\": null, \"value\": \"22:15:14.785522177Z\", \"include\": null, \"description\": null}, {\"key\": \"_tapisJobCreateTimestamp\", \"notes\": null, \"value\": \"2025-05-07T22:15:14.785522177Z\", \"include\": null, \"description\": null}, {\"key\": \"_tapisJobName\", \"notes\": null, \"value\": \"opensees-mp-s3-latest_2025-05-07T22:13:08\", \"include\": null, \"description\": null}, {\"key\": \"_tapisJobOwner\", \"notes\": null, \"value\": \"silvia\", \"include\": null, \"description\": null}, {\"key\": \"_tapisJobUUID\", \"notes\": null, \"value\": \"4dfa35e1-15cd-48fd-a090-f348544dee1f-007\", \"include\": null, \"description\": null}, {\"key\": \"_tapisJobWorkingDir\", \"notes\": null, \"value\": \"/scratch/05072/silvia/tapis/4dfa35e1-15cd-48fd-a090-f348544dee1f-007\", \"include\": null, \"description\": null}, {\"key\": \"_tapisMaxMinutes\", \"notes\": null, \"value\": \"100\", \"include\": null, \"description\": null}, {\"key\": \"_tapisMemoryMB\", \"notes\": null, \"value\": \"192000\", \"include\": null, \"description\": null}, {\"key\": \"_tapisNodes\", \"notes\": null, \"value\": \"2\", \"include\": null, \"description\": null}, {\"key\": \"_tapisStderrFilename\", \"notes\": null, \"value\": \"tapisjob.out\", \"include\": null, \"description\": null}, {\"key\": \"_tapisStdoutFilename\", \"notes\": null, \"value\": \"tapisjob.out\", \"include\": null, \"description\": null}, {\"key\": \"_tapisSysBatchScheduler\", \"notes\": null, \"value\": \"SLURM\", \"include\": null, \"description\": null}, {\"key\": \"_tapisSysHost\", \"notes\": null, \"value\": \"stampede3.tacc.utexas.edu\", \"include\": null, \"description\": null}, {\"key\": \"_tapisSysRootDir\", \"notes\": null, \"value\": \"/\", \"include\": null, \"description\": null}, {\"key\": \"_tapisTenant\", \"notes\": null, \"value\": \"designsafe\", \"include\": null, \"description\": null}, {\"key\": \"inputDirectory\", \"notes\": \"{}\", \"value\": \"inputDirectory\", \"include\": true, \"description\": \"EnvKey from input file: Input Directory\"}], \"archiveFilter\": {\"excludes\": [], \"includes\": [], \"includeLaunchFiles\": true}, \"containerArgs\": [], \"schedulerOptions\": [{\"arg\": \"--tapis-profile OpenSees_default\", \"name\": \"OpenSees TACC Scheduler Profile\", \"notes\": \"{\\\"isHidden\\\":true}\", \"include\": null, \"description\": \"Scheduler profile for the default version of OpenSees\"}, {\"arg\": \"-A DS-HPC1\", \"name\": \"TACC Allocation\", \"notes\": null, \"include\": null, \"description\": \"The TACC allocation associated with this job execution\"}]}\n",
      "remoteChecksFailed: 0\n",
      "remoteChecksSuccess: 4\n",
      "remoteEnded: 2025-05-07T22:17:17.601968Z\n",
      "remoteJobId: 1874224\n",
      "remoteJobId2: None\n",
      "remoteLastStatusCheck: 2025-05-07T22:17:17.595078Z\n",
      "remoteOutcome: FINISHED\n",
      "remoteQueue: None\n",
      "remoteResultInfo: 0:0\n",
      "remoteStarted: 2025-05-07T22:16:51.791782Z\n",
      "remoteSubmitRetries: 0\n",
      "remoteSubmitted: 2025-05-07T22:16:49.606851Z\n",
      "sharedAppCtx: wma_prtl\n",
      "sharedAppCtxAttribs: ['SAC_EXEC_SYSTEM_ID', 'SAC_EXEC_SYSTEM_INPUT_DIR', 'SAC_EXEC_SYSTEM_EXEC_DIR', 'SAC_EXEC_SYSTEM_OUTPUT_DIR']\n",
      "stageAppCorrelationId: b616a64e-a8f6-4a65-9ed0-cb3e29a58869\n",
      "stageAppTransactionId: 0e2ea3d8-1093-42f0-b8d9-7a3c9d185b33\n",
      "status: FINISHED\n",
      "subscriptions: [{\"enabled\": true, \"ttlMinutes\": 10080, \"description\": \"Portal job status notification\", \"deliveryTargets\": [{\"deliveryMethod\": \"WEBHOOK\", \"deliveryAddress\": \"https://www.designsafe-ci.org/webhooks/jobs/\"}], \"eventCategoryFilter\": \"JOB_NEW_STATUS\"}]\n",
      "tags: ['portalName: DESIGNSAFE']\n",
      "tapisQueue: tapis.jobq.submit.DefaultQueue\n",
      "tenant: designsafe\n",
      "trackingId: portals.tjpzgzipxddro0y9h1f8iqna904lyphy\n",
      "uuid: 4dfa35e1-15cd-48fd-a090-f348544dee1f-007\n",
      "visible: True\n"
     ]
    }
   ],
   "source": [
    "job = t.jobs.getJob(jobUuid=jobUuid)\n",
    "print(job)"
   ]
  },
  {
   "cell_type": "markdown",
   "metadata": {},
   "source": [
    "Returns full configuration, including:\n",
    "* Job metadata\n",
    "* App parameters\n",
    "* Execution system\n",
    "* Archive system\n",
    "* Resource usage (nodes, memory, cores)\n",
    "\n",
    "> ⚠️ **Note:** Not every job will include every field — for example, `startTime`, `endTime`, or `childJobs` might be `null` if the job hasn’t started or isn’t part of a workflow.\n",
    "\n",
    "\n",
    "### Common Queryable Fields\n",
    "These fields can be accessed from job objects returned by *listJobs()*:\n",
    "\n",
    "| Field             | Description                                                           |\n",
    "| ----------------- | --------------------------------------------------------------------- |\n",
    "| *id*              | Unique job ID                                                         |\n",
    "| *owner*           | Username of the job submitter                                         |\n",
    "| *tenant*          | Tapis tenant the job belongs to                                       |\n",
    "| *appId*           | ID of the application the job is based on                             |\n",
    "| *status*          | Current job status (e.g., *PENDING*, *RUNNING*, *FINISHED*, *FAILED*) |\n",
    "| *created*         | Timestamp when job was created                                        |\n",
    "| *lastUpdated*     | Timestamp when job was last modified                                  |\n",
    "| *archiveSystemId* | ID of the system where job output is archived                         |\n",
    "| *archivePath*     | Path to archived output                                               |\n",
    "| *execSystemId*    | Execution system used to run the job                                  |\n",
    "| *ownerString*     | Same as *owner*, often used in filters                                |\n",
    "| *parameterSet*    | Parameters passed to the job                                          |\n",
    "| *uuid*            | Universally unique identifier                                         |\n",
    "| *parentUuid*      | UUID of a parent job (for child/sub-jobs)                             |\n",
    "| *tags*            | List of user-defined tags on the job                                  |\n",
    "\n",
    "\n",
    "\n",
    "### Job Status Values (for Filtering)\n",
    "\n",
    "Common values you can use for the *status* field:\n",
    "\n",
    "* *PENDING*\n",
    "* *STAGING_INPUTS*\n",
    "* *RUNNING*\n",
    "* *FINISHED*\n",
    "* *FAILED*\n",
    "* *CANCELLED*\n",
    "* *PAUSED*\n",
    "* *BLOCKED*\n",
    "\n",
    "You can filter jobs by status like:"
   ]
  },
  {
   "cell_type": "markdown",
   "metadata": {},
   "source": [
    "## *getJobStatus(job_id)*\n",
    "\n",
    "### Purpose:\n",
    "Get the **current status only**.\n",
    "\n",
    "### Example:"
   ]
  },
  {
   "cell_type": "code",
   "execution_count": 5,
   "metadata": {},
   "outputs": [
    {
     "name": "stdout",
     "output_type": "stream",
     "text": [
      "\n",
      "condition: NORMAL_COMPLETION\n",
      "status: FINISHED\n"
     ]
    }
   ],
   "source": [
    "status = t.jobs.getJobStatus(jobUuid=jobUuid)\n",
    "print(status)"
   ]
  },
  {
   "cell_type": "markdown",
   "metadata": {},
   "source": [
    "Lightweight — ideal for polling loops."
   ]
  },
  {
   "cell_type": "markdown",
   "metadata": {},
   "source": [
    "## *getJobHistory(job_id)*\n",
    "\n",
    "### Purpose:\n",
    "Retrieve a **timestamped history** of job status changes.\n",
    "\n",
    "### Example:"
   ]
  },
  {
   "cell_type": "code",
   "execution_count": 6,
   "metadata": {},
   "outputs": [
    {
     "name": "stdout",
     "output_type": "stream",
     "text": [
      "\n",
      "created: 2025-05-07T22:15:18.083053Z\n",
      "description: {\"newJobStatus\":\"PENDING\",\"oldJobStatus\":null,\"jobName\":\"opensees-mp-s3-latest_2025-05-07T22:13:08\",\"jobUuid\":\"4dfa35e1-15cd-48fd-a090-f348544dee1f-007\",\"jobOwner\":\"silvia\",\"message\":\"The job has transitioned to a new status: PENDING.\"}\n",
      "event: JOB_NEW_STATUS\n",
      "eventDetail: PENDING\n",
      "transferSummary: \n",
      "\n",
      "transferTaskUuid: None\n",
      "--\n",
      "\n",
      "created: 2025-05-07T22:15:18.162371Z\n",
      "description: {\"action\":\"added\",\"numSubscriptions\":1,\"jobName\":\"opensees-mp-s3-latest_2025-05-07T22:13:08\",\"jobUuid\":\"4dfa35e1-15cd-48fd-a090-f348544dee1f-007\",\"jobOwner\":\"silvia\",\"message\":\"A change to the job's subscriptions has occurred.  1 subscription(s) created with job submission.\"}\n",
      "event: JOB_SUBSCRIPTION\n",
      "eventDetail: ADDED\n",
      "transferSummary: \n",
      "\n",
      "transferTaskUuid: None\n",
      "--\n",
      "\n",
      "created: 2025-05-07T22:15:19.129898Z\n",
      "description: {\"newJobStatus\":\"PROCESSING_INPUTS\",\"oldJobStatus\":\"PENDING\",\"jobName\":\"opensees-mp-s3-latest_2025-05-07T22:13:08\",\"jobUuid\":\"4dfa35e1-15cd-48fd-a090-f348544dee1f-007\",\"jobOwner\":\"silvia\",\"message\":\"The job has transitioned to a new status: PROCESSING_INPUTS. The previous job status was PENDING.\"}\n",
      "event: JOB_NEW_STATUS\n",
      "eventDetail: PROCESSING_INPUTS\n",
      "transferSummary: \n",
      "\n",
      "transferTaskUuid: None\n",
      "--\n",
      "\n",
      "created: 2025-05-07T22:15:20.182194Z\n",
      "description: {\"newJobStatus\":\"STAGING_INPUTS\",\"oldJobStatus\":\"PROCESSING_INPUTS\",\"jobName\":\"opensees-mp-s3-latest_2025-05-07T22:13:08\",\"jobUuid\":\"4dfa35e1-15cd-48fd-a090-f348544dee1f-007\",\"jobOwner\":\"silvia\",\"message\":\"The job has transitioned to a new status: STAGING_INPUTS. The previous job status was PROCESSING_INPUTS.\"}\n",
      "event: JOB_NEW_STATUS\n",
      "eventDetail: STAGING_INPUTS\n",
      "transferSummary: \n",
      "\n",
      "transferTaskUuid: None\n",
      "--\n",
      "\n",
      "created: 2025-05-07T22:16:06.546626Z\n",
      "description: {\"transferStatus\":\"COMPLETED\",\"transactionId\":\"2510a293-a91d-481c-baf3-4f89a9ed998a\",\"jobName\":\"opensees-mp-s3-latest_2025-05-07T22:13:08\",\"jobUuid\":\"4dfa35e1-15cd-48fd-a090-f348544dee1f-007\",\"jobOwner\":\"silvia\",\"message\":\"A request to stage job input files has been submitted. Files service staging transaction 2510a293-a91d-481c-baf3-4f89a9ed998a in state COMPLETED for job 4dfa35e1-15cd-48fd-a090-f348544dee1f-007 in tenant designsafe.\"}\n",
      "event: JOB_INPUT_TRANSACTION_ID\n",
      "eventDetail: COMPLETED\n",
      "transferSummary: \n",
      "completeTransfers: 112\n",
      "created: 2025-05-07T22:15:20.327744Z\n",
      "endTime: 2025-05-07T22:16:02.659808Z\n",
      "errorMessage: None\n",
      "estimatedTotalBytes: 2859879\n",
      "startTime: 2025-05-07T22:15:35.461582Z\n",
      "status: COMPLETED\n",
      "totalBytesTransferred: 2859879\n",
      "totalTransfers: 112\n",
      "uuid: 2510a293-a91d-481c-baf3-4f89a9ed998a\n",
      "transferTaskUuid: 2510a293-a91d-481c-baf3-4f89a9ed998a\n",
      "--\n",
      "\n",
      "created: 2025-05-07T22:16:06.585914Z\n",
      "description: {\"newJobStatus\":\"STAGING_JOB\",\"oldJobStatus\":\"STAGING_INPUTS\",\"jobName\":\"opensees-mp-s3-latest_2025-05-07T22:13:08\",\"jobUuid\":\"4dfa35e1-15cd-48fd-a090-f348544dee1f-007\",\"jobOwner\":\"silvia\",\"message\":\"The job has transitioned to a new status: STAGING_JOB. The previous job status was STAGING_INPUTS.\"}\n",
      "event: JOB_NEW_STATUS\n",
      "eventDetail: STAGING_JOB\n",
      "transferSummary: \n",
      "\n",
      "transferTaskUuid: None\n",
      "--\n",
      "\n",
      "created: 2025-05-07T22:16:48.916378Z\n",
      "description: {\"newJobStatus\":\"SUBMITTING_JOB\",\"oldJobStatus\":\"STAGING_JOB\",\"jobName\":\"opensees-mp-s3-latest_2025-05-07T22:13:08\",\"jobUuid\":\"4dfa35e1-15cd-48fd-a090-f348544dee1f-007\",\"jobOwner\":\"silvia\",\"message\":\"The job has transitioned to a new status: SUBMITTING_JOB. The previous job status was STAGING_JOB.\"}\n",
      "event: JOB_NEW_STATUS\n",
      "eventDetail: SUBMITTING_JOB\n",
      "transferSummary: \n",
      "\n",
      "transferTaskUuid: None\n",
      "--\n",
      "\n",
      "created: 2025-05-07T22:16:49.619544Z\n",
      "description: {\"newJobStatus\":\"QUEUED\",\"oldJobStatus\":\"SUBMITTING_JOB\",\"jobName\":\"opensees-mp-s3-latest_2025-05-07T22:13:08\",\"jobUuid\":\"4dfa35e1-15cd-48fd-a090-f348544dee1f-007\",\"jobOwner\":\"silvia\",\"message\":\"The job has transitioned to a new status: QUEUED. The previous job status was SUBMITTING_JOB.\"}\n",
      "event: JOB_NEW_STATUS\n",
      "eventDetail: QUEUED\n",
      "transferSummary: \n",
      "\n",
      "transferTaskUuid: None\n",
      "--\n",
      "\n",
      "created: 2025-05-07T22:16:51.803666Z\n",
      "description: {\"newJobStatus\":\"RUNNING\",\"oldJobStatus\":\"QUEUED\",\"jobName\":\"opensees-mp-s3-latest_2025-05-07T22:13:08\",\"jobUuid\":\"4dfa35e1-15cd-48fd-a090-f348544dee1f-007\",\"jobOwner\":\"silvia\",\"message\":\"The job has transitioned to a new status: RUNNING. The previous job status was QUEUED.\"}\n",
      "event: JOB_NEW_STATUS\n",
      "eventDetail: RUNNING\n",
      "transferSummary: \n",
      "\n",
      "transferTaskUuid: None\n",
      "--\n",
      "\n",
      "created: 2025-05-07T22:17:17.635728Z\n",
      "description: {\"newJobStatus\":\"ARCHIVING\",\"oldJobStatus\":\"RUNNING\",\"jobName\":\"opensees-mp-s3-latest_2025-05-07T22:13:08\",\"jobUuid\":\"4dfa35e1-15cd-48fd-a090-f348544dee1f-007\",\"jobOwner\":\"silvia\",\"message\":\"The job has transitioned to a new status: ARCHIVING. The previous job status was RUNNING.\"}\n",
      "event: JOB_NEW_STATUS\n",
      "eventDetail: ARCHIVING\n",
      "transferSummary: \n",
      "\n",
      "transferTaskUuid: None\n",
      "--\n",
      "\n",
      "created: 2025-05-07T22:20:49.126545Z\n",
      "description: {\"transferStatus\":\"COMPLETED\",\"transactionId\":\"ad89111a-222a-4e71-9fd2-4691f15cafed\",\"jobName\":\"opensees-mp-s3-latest_2025-05-07T22:13:08\",\"jobUuid\":\"4dfa35e1-15cd-48fd-a090-f348544dee1f-007\",\"jobOwner\":\"silvia\",\"message\":\"A request to archive job output files has been submitted. Files service archiving transaction ad89111a-222a-4e71-9fd2-4691f15cafed in state COMPLETED for job 4dfa35e1-15cd-48fd-a090-f348544dee1f-007 in tenant designsafe.\"}\n",
      "event: JOB_ARCHIVE_TRANSACTION_ID\n",
      "eventDetail: COMPLETED\n",
      "transferSummary: \n",
      "completeTransfers: 5069\n",
      "created: 2025-05-07T22:17:18.895979Z\n",
      "endTime: 2025-05-07T22:20:21.744321Z\n",
      "errorMessage: None\n",
      "estimatedTotalBytes: 150885718\n",
      "startTime: 2025-05-07T22:17:30.040657Z\n",
      "status: COMPLETED\n",
      "totalBytesTransferred: 150885718\n",
      "totalTransfers: 5069\n",
      "uuid: ad89111a-222a-4e71-9fd2-4691f15cafed\n",
      "transferTaskUuid: ad89111a-222a-4e71-9fd2-4691f15cafed\n",
      "--\n",
      "\n",
      "created: 2025-05-07T22:20:52.736325Z\n",
      "description: {\"newJobStatus\":\"FINISHED\",\"oldJobStatus\":\"ARCHIVING\",\"blockedCount\":0,\"condition\":\"NORMAL_COMPLETION\",\"remoteJobId\":\"1874224\",\"remoteJobId2\":null,\"remoteOutcome\":\"FINISHED\",\"remoteResultInfo\":\"0:0\",\"remoteQueue\":null,\"remoteSubmitted\":\"2025-05-07T22:17:17.601968445Z\",\"remoteStarted\":null,\"remoteEnded\":null,\"jobName\":\"opensees-mp-s3-latest_2025-05-07T22:13:08\",\"jobUuid\":\"4dfa35e1-15cd-48fd-a090-f348544dee1f-007\",\"jobOwner\":\"silvia\",\"message\":\"The job has transitioned to a new status: FINISHED. The previous job status was ARCHIVING.\"}\n",
      "event: JOB_NEW_STATUS\n",
      "eventDetail: FINISHED\n",
      "transferSummary: \n",
      "\n",
      "transferTaskUuid: None\n",
      "--\n"
     ]
    }
   ],
   "source": [
    "history = t.jobs.getJobHistory(jobUuid=jobUuid)\n",
    "for event in history:\n",
    "    print(event)\n",
    "    print('--')"
   ]
  },
  {
   "cell_type": "markdown",
   "metadata": {},
   "source": [
    "Useful for debugging, auditing, or analyzing runtime progression."
   ]
  },
  {
   "cell_type": "markdown",
   "metadata": {},
   "source": [
    "**We will look at these commands in more details in this training module.**"
   ]
  }
 ],
 "metadata": {
  "IMAGE_NAME": "taccsciapps/ds-nb-img:base-0.2.3",
  "UUID": "73e0880d-9b87-11ec-9c1c-13579dd95994",
  "celltoolbar": "Raw Cell Format",
  "kernelspec": {
   "display_name": "Python 3 (ipykernel)",
   "language": "python",
   "name": "python3"
  },
  "language_info": {
   "codemirror_mode": {
    "name": "ipython",
    "version": 3
   },
   "file_extension": ".py",
   "mimetype": "text/x-python",
   "name": "python",
   "nbconvert_exporter": "python",
   "pygments_lexer": "ipython3",
   "version": "3.12.11"
  }
 },
 "nbformat": 4,
 "nbformat_minor": 4
}
