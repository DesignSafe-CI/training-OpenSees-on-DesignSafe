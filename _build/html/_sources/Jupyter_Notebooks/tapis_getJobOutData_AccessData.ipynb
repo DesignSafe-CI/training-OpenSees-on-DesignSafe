{
 "cells": [
  {
   "cell_type": "markdown",
   "metadata": {},
   "source": [
    "<a class=\"reference external\" \n",
    "    href=\"https://jupyter.designsafe-ci.org/hub/user-redirect/lab/tree/CommunityData/OpenSees/TrainingMaterial/training-OpenSees-on-DesignSafe/Jupyter_Notebooks/tapis_getJobOutData_AccessData.ipynb\" \n",
    "    target=\"_blank\"\n",
    "    >\n",
    "<img alt=\"Try on DesignSafe\" src=\"https://raw.githubusercontent.com/DesignSafe-Training/pinn/main/DesignSafe-Badge.svg\" /></a>"
   ]
  },
  {
   "cell_type": "markdown",
   "metadata": {},
   "source": [
    "# Access Output Data 📒\n",
    "\n",
    "by Silvia Mazzoni, DesignSafe, 2025\n",
    "\n",
    "You can use tapis to obtain the job metadata, and, hence, the path to the archived output files.\n",
    "You can, therefore, manage those files."
   ]
  },
  {
   "cell_type": "markdown",
   "metadata": {},
   "source": [
    "## Configure Python"
   ]
  },
  {
   "cell_type": "code",
   "execution_count": 1,
   "metadata": {
    "tags": [
     "remove-input"
    ]
   },
   "outputs": [
    {
     "name": "stdout",
     "output_type": "stream",
     "text": [
      "Using local utilities library\n"
     ]
    }
   ],
   "source": [
    "# Local Utilities Library\n",
    "# you can remove the logic associated with the local path\n",
    "import sys,os\n",
    "relativePath = '../OpsUtils'\n",
    "if os.path.exists(relativePath):\n",
    "    print(\"Using local utilities library\")\n",
    "    PathOpsUtils = os.path.expanduser(relativePath)\n",
    "else:\n",
    "    PathOpsUtils = os.path.expanduser('~/CommunityData/OpenSees/TrainingMaterial/training-OpenSees-on-DesignSafe/OpsUtils')\n",
    "if not PathOpsUtils in sys.path: sys.path.append(PathOpsUtils)\n",
    "from OpsUtils import OpsUtils"
   ]
  },
  {
   "cell_type": "markdown",
   "metadata": {},
   "source": [
    "## Connect to Tapis"
   ]
  },
  {
   "cell_type": "code",
   "execution_count": 2,
   "metadata": {},
   "outputs": [
    {
     "name": "stdout",
     "output_type": "stream",
     "text": [
      " -- Checking tapis Token --\n",
      " Time now: 2025-08-05 00:47:28.774306+00:00\n",
      " Token loaded from file.\n",
      " Token is still valid!\n",
      " Token expires At: 2025-08-05 01:01:21+00:00\n",
      " Token expires In  0:13:52.225694  hh:mm:sec\n",
      "-- LOG IN SUCCESSFUL!!! --\n"
     ]
    }
   ],
   "source": [
    "t=OpsUtils.connect_tapis()"
   ]
  },
  {
   "cell_type": "markdown",
   "metadata": {},
   "source": [
    "### User Input: job id"
   ]
  },
  {
   "cell_type": "code",
   "execution_count": 3,
   "metadata": {},
   "outputs": [],
   "source": [
    "jobUuid = '4dfa35e1-15cd-48fd-a090-f348544dee1f-007'"
   ]
  },
  {
   "cell_type": "markdown",
   "metadata": {},
   "source": [
    "## Use a function to get the job metadata."
   ]
  },
  {
   "cell_type": "code",
   "execution_count": 4,
   "metadata": {
    "tags": [
     "remove-input"
    ]
   },
   "outputs": [
    {
     "data": {
      "text/html": [
       "\n",
       "                      <details style=\"margin-top:1em; font-family:monospace; background:white; \n",
       "                          padding:0.25em; border-radius:6px; border:1px solid #ccc;\">\n",
       "                        <summary style=\"cursor:pointer; font-weight:bold; background:white; \n",
       "                          padding:0.3em 0.5em; border-radius:4px;\">get_tapis_job_metadata.py</summary>\n",
       "\n",
       "                        <button onclick=\"navigator.clipboard.writeText(document.getElementById('bb9822fae51c4b31ab068a7fd0bcda21').innerText)\">\n",
       "                          📋 Copy\n",
       "                        </button>\n",
       "                        <pre id=\"bb9822fae51c4b31ab068a7fd0bcda21\" style=\"white-space:pre-wrap; margin:0.25em 0 0 0; \n",
       "                            background:#d4fbff; padding:.3em; border-radius:5px;\">\n",
       "<b># ../OpsUtils/OpsUtils/Tapis/get_tapis_job_metadata.py</b>\n",
       "def get_tapis_job_metadata(t, jobUuid,printAll = True):\n",
       "    \"\"\"\n",
       "    Retrieves and prints metadata for a specified Tapis job, including robust local archive reconstruction.\n",
       "\n",
       "    This function queries the Tapis jobs API for metadata on a given job, printing\n",
       "    details such as UUID, name, status, application ID, creation time, and archive location.\n",
       "\n",
       "    If the job has completed successfully (status == 'FINISHED'), it reconstructs\n",
       "    the expected local archive directory path under '~/MyData/tapis-jobs-archive',\n",
       "    checks whether it exists, lists its contents, and returns this information\n",
       "    in a structured dictionary.\n",
       "\n",
       "    If the job is not yet finished or the local directory does not exist, it prints\n",
       "    a notice and returns a dictionary describing the situation.\n",
       "\n",
       "    Parameters\n",
       "    ----------\n",
       "    t : object\n",
       "        An authenticated Tapis client instance (e.g., from `tapis3`).\n",
       "    jobUuid : str\n",
       "        UUID of the job whose metadata is to be retrieved.\n",
       "\n",
       "    Returns\n",
       "    -------\n",
       "    dict\n",
       "        A dictionary with the following keys:\n",
       "        - \"local_path\" (str or None): local archive directory path if job is finished, else None.\n",
       "        - \"exists\" (bool): True if the local directory exists.\n",
       "        - \"files\" (list of str): list of files in the directory if it exists.\n",
       "        - \"message\" (str, optional): explanatory message if no data is available.\n",
       "\n",
       "    Prints\n",
       "    ------\n",
       "    - Job UUID, name, status, appId, creation time, and archive directory.\n",
       "    - If finished, the reconstructed local archive path and the files contained within it,\n",
       "      or a notice if the local directory does not exist.\n",
       "\n",
       "    Example\n",
       "    -------\n",
       "    >>> result = get_tapis_job_metadata(t, \"a1b2c3d4-5678-90ef-ghij-klmnopqrstuv\")\n",
       "    >>> if result[\"exists\"]:\n",
       "    ...     print(\"Archived job data at:\", result[\"local_path\"])\n",
       "    ...     print(\"Files:\", result[\"files\"])\n",
       "    ... else:\n",
       "    ...     print(result.get(\"message\", \"Job not yet completed.\"))\n",
       "    \"\"\"\n",
       "\n",
       "    # Silvia Mazzoni, 2025\n",
       "    import os\n",
       "    import json\n",
       "    job_response = t.jobs.getJob(jobUuid=jobUuid)\n",
       "    job_dict_all = json.loads(json.dumps(job_response, default=lambda o: vars(o)))\n",
       "    if printAll:\n",
       "        print('+++++++++++++++++++++++++++++++++++++++++++++++++++++++++++++++++++++++++++++++++++++++')\n",
       "        print('+++++++++++++++++++++++++')\n",
       "        print('++++++ Job Metadata +++++')\n",
       "        print('+++++++++++++++++++++++++')\n",
       "\n",
       "        print('uuid:      ', job_response.uuid)\n",
       "        print('name:      ', job_response.name)\n",
       "        print('status:    ', job_response.status)\n",
       "        print('appId:     ', job_response.appId)\n",
       "        print('created:   ', job_response.created)\n",
       "        print('output-file location')\n",
       "        print('archiveSystemId:', job_response.archiveSystemId)\n",
       "        print('archiveSystemDir:', job_response.archiveSystemDir)\n",
       "\n",
       "\n",
       "    # ------\n",
       "    archiveSystemId = job_response.archiveSystemId\n",
       "    sysPath = ''\n",
       "    if archiveSystemId == 'designsafe.storage.default':\n",
       "        sysPath = 'MyData'; # fix this for the case of work....\n",
       "    elif archiveSystemId == 'cloud.data':\n",
       "        sysPath = 'Work'; # fix this for the case of work....\n",
       "    if archiveSystemId == 'designsafe.storage.community':\n",
       "        sysPath = 'CommunityData'; # fix this for the case of work....\n",
       "    if archiveSystemId == 'designsafe.storage.published':\n",
       "        sysPath = 'Published'; # fix this for the case of work....\n",
       "    \n",
       "    archiveSystemDir = job_dict_all['archiveSystemDir']\n",
       "    archiveSystemDir_user = archiveSystemDir.split('tapis-jobs-archive'+os.path.sep)[1] # remove the first character slash\n",
       "\n",
       "    \n",
       "    archiveSystemDir_user = os.path.join(sysPath,'tapis-jobs-archive',archiveSystemDir_user)\n",
       "    \n",
       "    archiveSystemDir_out = archiveSystemDir_user\n",
       "    if job_response.appId in [\"opensees-mp-s3\",\"opensees-sp-s3\"]:\n",
       "        archiveSystemDir_out = os.path.join(archiveSystemDir_out,'inputDirectory')\n",
       "    elif job_response.appId in [\"opensees-express\"]:\n",
       "        fileInputsList =  json.loads(job_dict_all['fileInputs'])\n",
       "        for fileInputs in fileInputsList:\n",
       "            if fileInputs['name'] in ['Input Directory'] or fileInputs['envKey'] in ['inputDirectory']:\n",
       "                sourceUrl = fileInputs['sourceUrl']\n",
       "                input_folder_end = os.path.basename(sourceUrl)\n",
       "                archiveSystemDir_out = os.path.join(archiveSystemDir_user,input_folder_end)\n",
       "                break\n",
       "\n",
       "    # if sysPath != '':\n",
       "    archiveSystemDir_user = os.path.expanduser(os.path.join('~',archiveSystemDir_user))\n",
       "    archiveSystemDir_out = os.path.expanduser(os.path.join('~',archiveSystemDir_out))\n",
       "\n",
       "    \n",
       "    job_dict_all['archiveSystemDir_user'] = archiveSystemDir_user\n",
       "    job_dict_all['archiveSystemDir_out'] = archiveSystemDir_out\n",
       "    \n",
       "    if printAll:\n",
       "        print('archiveSystemDir_user:', job_dict_all['archiveSystemDir_user'])\n",
       "        print('archiveSystemDir_out:', job_dict_all['archiveSystemDir_out'])\n",
       "\n",
       "        \n",
       "\n",
       "        JobInfoKeys = ['','uuid','name','','status','remoteOutcome','condition','lastMessage','','execSystemId','execSystemExecDir','execSystemOutputDir','','appId','appVersion','','tenant','trackingId','createdby','created','description','','execSystemId','execSystemLogicalQueue','nodeCount','coresPerNode','maxMinutes','memoryMB']\n",
       "        \n",
       "        print('\\n-- Additional Relevant Job Metadata --')\n",
       "        for thisKey in JobInfoKeys:\n",
       "            if thisKey in job_dict_all.keys():\n",
       "                thisValue = job_dict_all[thisKey]\n",
       "                # myJobTapisData[thisKey] = thisValue\n",
       "                print(f'{thisKey}: {thisValue}')\n",
       "            else:\n",
       "                print('----------------------')\n",
       "\n",
       "\n",
       "\n",
       "        \n",
       "    return job_dict_all\n",
       "    \n",
       "\n",
       "\n",
       "\n",
       "\n",
       "</pre>\n",
       "                      </details>\n",
       "                    "
      ],
      "text/plain": [
       "<IPython.core.display.HTML object>"
      ]
     },
     "metadata": {},
     "output_type": "display_data"
    }
   ],
   "source": [
    "OpsUtils.show_text_file_in_accordion(PathOpsUtils,['get_tapis_job_metadata.py'])"
   ]
  },
  {
   "cell_type": "code",
   "execution_count": 5,
   "metadata": {},
   "outputs": [
    {
     "name": "stdout",
     "output_type": "stream",
     "text": [
      "+++++++++++++++++++++++++++++++++++++++++++++++++++++++++++++++++++++++++++++++++++++++\n",
      "+++++++++++++++++++++++++\n",
      "++++++ Job Metadata +++++\n",
      "+++++++++++++++++++++++++\n",
      "uuid:       4dfa35e1-15cd-48fd-a090-f348544dee1f-007\n",
      "name:       opensees-mp-s3-latest_2025-05-07T22:13:08\n",
      "status:     FINISHED\n",
      "appId:      opensees-mp-s3\n",
      "created:    2025-05-07T22:15:14.785522Z\n",
      "output-file location\n",
      "archiveSystemId: designsafe.storage.default\n",
      "archiveSystemDir: /silvia/tapis-jobs-archive/2025-05-07Z/opensees-mp-s3-latest_2025-05-07T22:13:08-4dfa35e1-15cd-48fd-a090-f348544dee1f-007\n",
      "archiveSystemDir_user: /home/jupyter/MyData/tapis-jobs-archive/2025-05-07Z/opensees-mp-s3-latest_2025-05-07T22:13:08-4dfa35e1-15cd-48fd-a090-f348544dee1f-007\n",
      "archiveSystemDir_out: /home/jupyter/MyData/tapis-jobs-archive/2025-05-07Z/opensees-mp-s3-latest_2025-05-07T22:13:08-4dfa35e1-15cd-48fd-a090-f348544dee1f-007/inputDirectory\n",
      "\n",
      "-- Additional Relevant Job Metadata --\n",
      "----------------------\n",
      "uuid: 4dfa35e1-15cd-48fd-a090-f348544dee1f-007\n",
      "name: opensees-mp-s3-latest_2025-05-07T22:13:08\n",
      "----------------------\n",
      "status: FINISHED\n",
      "remoteOutcome: FINISHED\n",
      "condition: NORMAL_COMPLETION\n",
      "lastMessage: Setting job status to FINISHED.\n",
      "----------------------\n",
      "execSystemId: stampede3\n",
      "execSystemExecDir: /scratch/05072/silvia/tapis/4dfa35e1-15cd-48fd-a090-f348544dee1f-007\n",
      "execSystemOutputDir: /scratch/05072/silvia/tapis/4dfa35e1-15cd-48fd-a090-f348544dee1f-007\n",
      "----------------------\n",
      "appId: opensees-mp-s3\n",
      "appVersion: latest\n",
      "----------------------\n",
      "tenant: designsafe\n",
      "trackingId: portals.tjpzgzipxddro0y9h1f8iqna904lyphy\n",
      "createdby: silvia\n",
      "created: 2025-05-07T22:15:14.785522Z\n",
      "description: opensees-mp-s3-latest submitted by silvia@designsafe\n",
      "----------------------\n",
      "execSystemId: stampede3\n",
      "execSystemLogicalQueue: skx-dev\n",
      "nodeCount: 2\n",
      "coresPerNode: 48\n",
      "maxMinutes: 100\n",
      "memoryMB: 192000\n"
     ]
    }
   ],
   "source": [
    "JobMetadata = OpsUtils.get_tapis_job_metadata(t,jobUuid)"
   ]
  },
  {
   "cell_type": "code",
   "execution_count": 6,
   "metadata": {},
   "outputs": [
    {
     "name": "stdout",
     "output_type": "stream",
     "text": [
      "path exists: True\n"
     ]
    }
   ],
   "source": [
    "archiveSystemDir_out = JobMetadata['archiveSystemDir_out']\n",
    "\n",
    "# check that it exists:\n",
    "print('path exists:',os.path.exists(archiveSystemDir_out))"
   ]
  },
  {
   "cell_type": "markdown",
   "metadata": {},
   "source": [
    "## Visualize Data\n",
    "this is the same process as what we had done when we presented the web-portal submit"
   ]
  },
  {
   "cell_type": "markdown",
   "metadata": {},
   "source": [
    "---\n",
    "## 4. get base path for output data from posted path:\n",
    "Different systems in DesignSafe have different root paths...(bummer, yah)"
   ]
  },
  {
   "cell_type": "code",
   "execution_count": 7,
   "metadata": {},
   "outputs": [],
   "source": [
    "basePath = archiveSystemDir_out"
   ]
  },
  {
   "cell_type": "markdown",
   "metadata": {},
   "source": [
    "---\n",
    "## 5. Plot some analysis results\n",
    "for any of the above analyses"
   ]
  },
  {
   "cell_type": "code",
   "execution_count": 8,
   "metadata": {},
   "outputs": [],
   "source": [
    "import matplotlib.pyplot as plt\n",
    "import numpy"
   ]
  },
  {
   "cell_type": "code",
   "execution_count": 9,
   "metadata": {},
   "outputs": [],
   "source": [
    "#pick any case\n",
    "dataDir = f'{basePath}/DataTCLmp'\n",
    "Lcol = 300"
   ]
  },
  {
   "cell_type": "code",
   "execution_count": 10,
   "metadata": {},
   "outputs": [
    {
     "name": "stdout",
     "output_type": "stream",
     "text": [
      "dataDir /home/jupyter/MyData/tapis-jobs-archive/2025-05-07Z/opensees-mp-s3-latest_2025-05-07T22:13:08-4dfa35e1-15cd-48fd-a090-f348544dee1f-007/inputDirectory/DataTCLmp\n",
      "/home/jupyter/MyData/tapis-jobs-archive/2025-05-07Z/opensees-mp-s3-latest_2025-05-07T22:13:08-4dfa35e1-15cd-48fd-a090-f348544dee1f-007/inputDirectory/DataTCLmp/DBase_Lcol300.out\n",
      "/home/jupyter/MyData/tapis-jobs-archive/2025-05-07Z/opensees-mp-s3-latest_2025-05-07T22:13:08-4dfa35e1-15cd-48fd-a090-f348544dee1f-007/inputDirectory/DataTCLmp/DCol_Lcol300.out\n",
      "/home/jupyter/MyData/tapis-jobs-archive/2025-05-07Z/opensees-mp-s3-latest_2025-05-07T22:13:08-4dfa35e1-15cd-48fd-a090-f348544dee1f-007/inputDirectory/DataTCLmp/DFree_Lcol300.out\n",
      "/home/jupyter/MyData/tapis-jobs-archive/2025-05-07Z/opensees-mp-s3-latest_2025-05-07T22:13:08-4dfa35e1-15cd-48fd-a090-f348544dee1f-007/inputDirectory/DataTCLmp/FCol_Lcol300.out\n",
      "/home/jupyter/MyData/tapis-jobs-archive/2025-05-07Z/opensees-mp-s3-latest_2025-05-07T22:13:08-4dfa35e1-15cd-48fd-a090-f348544dee1f-007/inputDirectory/DataTCLmp/RBase_Lcol300.out\n"
     ]
    },
    {
     "data": {
      "text/plain": [
       "0"
      ]
     },
     "execution_count": 10,
     "metadata": {},
     "output_type": "execute_result"
    }
   ],
   "source": [
    "print('dataDir',dataDir)\n",
    "# list some files:\n",
    "os.system(f'ls {dataDir}/*Lcol{Lcol}.out')"
   ]
  },
  {
   "cell_type": "code",
   "execution_count": 11,
   "metadata": {},
   "outputs": [
    {
     "name": "stdout",
     "output_type": "stream",
     "text": [
      "/home/jupyter/MyData/tapis-jobs-archive/2025-05-07Z/opensees-mp-s3-latest_2025-05-07T22:13:08-4dfa35e1-15cd-48fd-a090-f348544dee1f-007/inputDirectory/DataTCLmp/DFree_Lcol300.out\n"
     ]
    },
    {
     "data": {
      "image/png": "[encoded data removed]",
      "text/plain": [
       "<Figure size 640x480 with 2 Axes>"
      ]
     },
     "metadata": {},
     "output_type": "display_data"
    },
    {
     "name": "stdout",
     "output_type": "stream",
     "text": [
      "plot saved to /home/jupyter/MyData/tapis-jobs-archive/2025-05-07Z/opensees-mp-s3-latest_2025-05-07T22:13:08-4dfa35e1-15cd-48fd-a090-f348544dee1f-007/inputDirectory/DataTCLmp/Response_Lcol300.jpg\n",
      "End of Run: Ex1a.Canti2D.Push.py.ipynb\n"
     ]
    }
   ],
   "source": [
    "plt.close('all')\n",
    "fname3o = f'DFree_Lcol{Lcol}.out'\n",
    "fname3 = f'{dataDir}/{fname3o}'\n",
    "print(fname3)\n",
    "dataDFree = numpy.loadtxt(fname3)\n",
    "plt.subplot(211)\n",
    "plt.title(f'Ex1a.Canti2D Lcol={Lcol}')\n",
    "plt.grid(True)\n",
    "plt.plot(dataDFree[:,1])\n",
    "plt.xlabel('Step Number')\n",
    "plt.ylabel('Free-Node Displacement')\n",
    "plt.subplot(212)\n",
    "plt.grid(True)\n",
    "plt.plot(dataDFree[:,1],dataDFree[:,0])\n",
    "plt.xlabel('Free-Node Disp.')\n",
    "plt.ylabel('Pseudo-Time (~Force)')\n",
    "plt.savefig(f'{dataDir}/Response.jpg')\n",
    "plt.show()\n",
    "print(f'plot saved to {dataDir}/Response_Lcol{Lcol}.jpg')\n",
    "print('End of Run: Ex1a.Canti2D.Push.py.ipynb')\n"
   ]
  },
  {
   "cell_type": "code",
   "execution_count": 12,
   "metadata": {},
   "outputs": [
    {
     "name": "stdout",
     "output_type": "stream",
     "text": [
      "Done!\n"
     ]
    }
   ],
   "source": [
    "print('Done!')"
   ]
  }
 ],
 "metadata": {
  "IMAGE_NAME": "taccsciapps/ds-nb-img:base-0.2.3",
  "UUID": "73e0880d-9b87-11ec-9c1c-13579dd95994",
  "celltoolbar": "Raw Cell Format",
  "kernelspec": {
   "display_name": "Python 3 (ipykernel)",
   "language": "python",
   "name": "python3"
  },
  "language_info": {
   "codemirror_mode": {
    "name": "ipython",
    "version": 3
   },
   "file_extension": ".py",
   "mimetype": "text/x-python",
   "name": "python",
   "nbconvert_exporter": "python",
   "pygments_lexer": "ipython3",
   "version": "3.12.11"
  }
 },
 "nbformat": 4,
 "nbformat_minor": 4
}
